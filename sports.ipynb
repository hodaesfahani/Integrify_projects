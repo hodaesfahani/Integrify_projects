{
 "cells": [
  {
   "cell_type": "markdown",
   "metadata": {},
   "source": [
    "# Exploring Sports Dataset through a Dask Dataframe\n",
    "\n",
    "   *The link to this dataset:*\n",
    "    https://academictorrents.com/details/2a81590d3b32e6ddd8a87f1ec4f08205098476ee\n",
    "\n",
    "### As we got to know more about gpx files, we moved on to putting the data in a dask dataframe form.\n",
    "\n",
    "#### Since this is a very large dataset, we decided to choose five folders (each containing the data for one athlete), and from each folder, 100 gpx files(each containing all points of one journey).\n",
    "#### First, we needed these files as .csv files, so we opened the gpx files and saved the data as relevant lists in corresponding csv files, adding a few desired fields for our future columns.\n",
    "#### Now our files are ready for creating a dask dataframe"
   ]
  },
  {
   "cell_type": "code",
   "execution_count": 261,
   "metadata": {},
   "outputs": [
    {
     "name": "stdout",
     "output_type": "stream",
     "text": [
      "Wall time: 5min 45s\n"
     ]
    }
   ],
   "source": [
    "%%time\n",
    "import os\n",
    "import gpxpy\n",
    "import matplotlib.pyplot as plt\n",
    "import datetime\n",
    "import pandas as pd\n",
    "from os.path import join\n",
    "from os import listdir\n",
    "import csv\n",
    "\n",
    "\n",
    "base_dir = 'sport/'\n",
    "\n",
    "for athlete_dir in listdir(base_dir):\n",
    "    count = 1\n",
    "    for athlete_file in listdir(join(base_dir, athlete_dir)):\n",
    "        if '.csv' in athlete_file:\n",
    "            continue\n",
    "        if count > 100:   #We just collect 100 files for each athlete, due to ram limitation\n",
    "            break\n",
    "        gpx_file = open(join(base_dir, athlete_dir, athlete_file), 'r')\n",
    "        gpx = gpxpy.parse(gpx_file)\n",
    "        file_list = []\n",
    "        for point in gpx.tracks[0].segments[0].points:\n",
    "            file_list.append([\n",
    "                point.longitude,\n",
    "                point.latitude,\n",
    "                point.elevation,\n",
    "                point.time,\n",
    "                athlete_dir,\n",
    "                athlete_file.replace('.gpx', ''),\n",
    "                0 # We will put the distance between the current point and the previous one, in this column\n",
    "            ])\n",
    "        name = join(base_dir, athlete_dir, athlete_file.replace('.gpx','.csv'))\n",
    "        with open(name, 'w', newline='') as myfile:\n",
    "            wr = csv.writer(myfile)\n",
    "            wr.writerows(file_list)\n",
    "        count += 1\n"
   ]
  },
  {
   "cell_type": "code",
   "execution_count": 262,
   "metadata": {},
   "outputs": [
    {
     "name": "stdout",
     "output_type": "stream",
     "text": [
      "Wall time: 2.54 s\n"
     ]
    }
   ],
   "source": [
    "%%time\n",
    "import dask\n",
    "import dask.dataframe as dd\n",
    "\n",
    "sport = dd.read_csv('sport\\*\\*.csv')"
   ]
  },
  {
   "cell_type": "code",
   "execution_count": 263,
   "metadata": {},
   "outputs": [
    {
     "data": {
      "text/html": [
       "<div><strong>Dask DataFrame Structure:</strong></div>\n",
       "<div>\n",
       "<style scoped>\n",
       "    .dataframe tbody tr th:only-of-type {\n",
       "        vertical-align: middle;\n",
       "    }\n",
       "\n",
       "    .dataframe tbody tr th {\n",
       "        vertical-align: top;\n",
       "    }\n",
       "\n",
       "    .dataframe thead th {\n",
       "        text-align: right;\n",
       "    }\n",
       "</style>\n",
       "<table border=\"1\" class=\"dataframe\">\n",
       "  <thead>\n",
       "    <tr style=\"text-align: right;\">\n",
       "      <th></th>\n",
       "      <th>16.173866288736463</th>\n",
       "      <th>46.538401767611504</th>\n",
       "      <th>132.39999389648438</th>\n",
       "      <th>2014-04-07 12:57:11+00:00</th>\n",
       "      <th>Athlete1</th>\n",
       "      <th>1</th>\n",
       "      <th>0</th>\n",
       "    </tr>\n",
       "    <tr>\n",
       "      <th>npartitions=500</th>\n",
       "      <th></th>\n",
       "      <th></th>\n",
       "      <th></th>\n",
       "      <th></th>\n",
       "      <th></th>\n",
       "      <th></th>\n",
       "      <th></th>\n",
       "    </tr>\n",
       "  </thead>\n",
       "  <tbody>\n",
       "    <tr>\n",
       "      <th></th>\n",
       "      <td>float64</td>\n",
       "      <td>float64</td>\n",
       "      <td>float64</td>\n",
       "      <td>object</td>\n",
       "      <td>object</td>\n",
       "      <td>int64</td>\n",
       "      <td>int64</td>\n",
       "    </tr>\n",
       "    <tr>\n",
       "      <th></th>\n",
       "      <td>...</td>\n",
       "      <td>...</td>\n",
       "      <td>...</td>\n",
       "      <td>...</td>\n",
       "      <td>...</td>\n",
       "      <td>...</td>\n",
       "      <td>...</td>\n",
       "    </tr>\n",
       "    <tr>\n",
       "      <th>...</th>\n",
       "      <td>...</td>\n",
       "      <td>...</td>\n",
       "      <td>...</td>\n",
       "      <td>...</td>\n",
       "      <td>...</td>\n",
       "      <td>...</td>\n",
       "      <td>...</td>\n",
       "    </tr>\n",
       "    <tr>\n",
       "      <th></th>\n",
       "      <td>...</td>\n",
       "      <td>...</td>\n",
       "      <td>...</td>\n",
       "      <td>...</td>\n",
       "      <td>...</td>\n",
       "      <td>...</td>\n",
       "      <td>...</td>\n",
       "    </tr>\n",
       "    <tr>\n",
       "      <th></th>\n",
       "      <td>...</td>\n",
       "      <td>...</td>\n",
       "      <td>...</td>\n",
       "      <td>...</td>\n",
       "      <td>...</td>\n",
       "      <td>...</td>\n",
       "      <td>...</td>\n",
       "    </tr>\n",
       "  </tbody>\n",
       "</table>\n",
       "</div>\n",
       "<div>Dask Name: from-delayed, 1500 tasks</div>"
      ],
      "text/plain": [
       "Dask DataFrame Structure:\n",
       "                16.173866288736463 46.538401767611504 132.39999389648438 2014-04-07 12:57:11+00:00 Athlete1      1      0\n",
       "npartitions=500                                                                                                          \n",
       "                           float64            float64            float64                    object   object  int64  int64\n",
       "                               ...                ...                ...                       ...      ...    ...    ...\n",
       "...                            ...                ...                ...                       ...      ...    ...    ...\n",
       "                               ...                ...                ...                       ...      ...    ...    ...\n",
       "                               ...                ...                ...                       ...      ...    ...    ...\n",
       "Dask Name: from-delayed, 1500 tasks"
      ]
     },
     "execution_count": 263,
     "metadata": {},
     "output_type": "execute_result"
    }
   ],
   "source": [
    "sport"
   ]
  },
  {
   "cell_type": "markdown",
   "metadata": {},
   "source": [
    "#### This is the general look of our dataframe. Now we should change the column names:"
   ]
  },
  {
   "cell_type": "code",
   "execution_count": 264,
   "metadata": {},
   "outputs": [],
   "source": [
    "columns=['longitude', 'latitude', 'altitude', 'time', 'athlete', 'journey', 'distance']\n",
    "sport.columns = columns"
   ]
  },
  {
   "cell_type": "code",
   "execution_count": 265,
   "metadata": {},
   "outputs": [
    {
     "data": {
      "text/html": [
       "<div>\n",
       "<style scoped>\n",
       "    .dataframe tbody tr th:only-of-type {\n",
       "        vertical-align: middle;\n",
       "    }\n",
       "\n",
       "    .dataframe tbody tr th {\n",
       "        vertical-align: top;\n",
       "    }\n",
       "\n",
       "    .dataframe thead th {\n",
       "        text-align: right;\n",
       "    }\n",
       "</style>\n",
       "<table border=\"1\" class=\"dataframe\">\n",
       "  <thead>\n",
       "    <tr style=\"text-align: right;\">\n",
       "      <th></th>\n",
       "      <th>longitude</th>\n",
       "      <th>latitude</th>\n",
       "      <th>altitude</th>\n",
       "      <th>time</th>\n",
       "      <th>athlete</th>\n",
       "      <th>journey</th>\n",
       "      <th>distance</th>\n",
       "    </tr>\n",
       "  </thead>\n",
       "  <tbody>\n",
       "    <tr>\n",
       "      <th>0</th>\n",
       "      <td>16.173844</td>\n",
       "      <td>46.538406</td>\n",
       "      <td>132.399994</td>\n",
       "      <td>2014-04-07 12:57:12+00:00</td>\n",
       "      <td>Athlete1</td>\n",
       "      <td>1</td>\n",
       "      <td>0</td>\n",
       "    </tr>\n",
       "    <tr>\n",
       "      <th>1</th>\n",
       "      <td>16.173710</td>\n",
       "      <td>46.538436</td>\n",
       "      <td>132.399994</td>\n",
       "      <td>2014-04-07 12:57:16+00:00</td>\n",
       "      <td>Athlete1</td>\n",
       "      <td>1</td>\n",
       "      <td>0</td>\n",
       "    </tr>\n",
       "    <tr>\n",
       "      <th>2</th>\n",
       "      <td>16.173465</td>\n",
       "      <td>46.538491</td>\n",
       "      <td>132.399994</td>\n",
       "      <td>2014-04-07 12:57:21+00:00</td>\n",
       "      <td>Athlete1</td>\n",
       "      <td>1</td>\n",
       "      <td>0</td>\n",
       "    </tr>\n",
       "    <tr>\n",
       "      <th>3</th>\n",
       "      <td>16.173376</td>\n",
       "      <td>46.538510</td>\n",
       "      <td>132.399994</td>\n",
       "      <td>2014-04-07 12:57:22+00:00</td>\n",
       "      <td>Athlete1</td>\n",
       "      <td>1</td>\n",
       "      <td>0</td>\n",
       "    </tr>\n",
       "    <tr>\n",
       "      <th>4</th>\n",
       "      <td>16.173286</td>\n",
       "      <td>46.538527</td>\n",
       "      <td>132.399994</td>\n",
       "      <td>2014-04-07 12:57:23+00:00</td>\n",
       "      <td>Athlete1</td>\n",
       "      <td>1</td>\n",
       "      <td>0</td>\n",
       "    </tr>\n",
       "  </tbody>\n",
       "</table>\n",
       "</div>"
      ],
      "text/plain": [
       "   longitude   latitude    altitude                       time   athlete  \\\n",
       "0  16.173844  46.538406  132.399994  2014-04-07 12:57:12+00:00  Athlete1   \n",
       "1  16.173710  46.538436  132.399994  2014-04-07 12:57:16+00:00  Athlete1   \n",
       "2  16.173465  46.538491  132.399994  2014-04-07 12:57:21+00:00  Athlete1   \n",
       "3  16.173376  46.538510  132.399994  2014-04-07 12:57:22+00:00  Athlete1   \n",
       "4  16.173286  46.538527  132.399994  2014-04-07 12:57:23+00:00  Athlete1   \n",
       "\n",
       "   journey  distance  \n",
       "0        1         0  \n",
       "1        1         0  \n",
       "2        1         0  \n",
       "3        1         0  \n",
       "4        1         0  "
      ]
     },
     "execution_count": 265,
     "metadata": {},
     "output_type": "execute_result"
    }
   ],
   "source": [
    "sport.head()"
   ]
  },
  {
   "cell_type": "code",
   "execution_count": 266,
   "metadata": {},
   "outputs": [
    {
     "name": "stdout",
     "output_type": "stream",
     "text": [
      "<class 'dask.dataframe.core.DataFrame'>\n",
      "Columns: 7 entries, longitude to distance\n",
      "dtypes: object(2), float64(3), int64(2)"
     ]
    }
   ],
   "source": [
    "sport.info()"
   ]
  },
  {
   "cell_type": "markdown",
   "metadata": {},
   "source": [
    "#### Looks like dask dataframe info() only gives a brief explanation about the data.\n",
    "#### But we can see that columns athlete and time are in string format. We will change the time column to datetime format:"
   ]
  },
  {
   "cell_type": "code",
   "execution_count": 267,
   "metadata": {},
   "outputs": [],
   "source": [
    "sport['time'] = dd.to_datetime(sport['time'])"
   ]
  },
  {
   "cell_type": "markdown",
   "metadata": {},
   "source": [
    "#### Now, we want to fill our distance column. For each journey, the distance field will contain the distance between the current point and the previous form. We will do this by the following function (this time we used geopy library):"
   ]
  },
  {
   "cell_type": "code",
   "execution_count": 268,
   "metadata": {},
   "outputs": [],
   "source": [
    "from geopy import distance\n",
    "\n",
    "def calculate_distance(pdf):\n",
    "    prev_point = None\n",
    "    for i, point in pdf.iterrows():\n",
    "        if prev_point is None:\n",
    "            prev_point = point\n",
    "            continue\n",
    "        if prev_point.journey != point.journey:\n",
    "            prev_point = point\n",
    "            continue\n",
    "        lon1 = prev_point.longitude\n",
    "        lon2 = point.longitude\n",
    "        lat1 = prev_point.latitude\n",
    "        lat2 = point.latitude\n",
    "        pdf.at[i, 'distance'] = distance.distance((lon1, lat1), (lon2, lat2)).m\n",
    "        prev_point = point\n",
    "    return pdf"
   ]
  },
  {
   "cell_type": "markdown",
   "metadata": {},
   "source": [
    "#### For adding the distance values to our dataframe, we should pass the function to the map_partitions method of our dask dataframe, so it would be applied to the chunks of data without a problem:"
   ]
  },
  {
   "cell_type": "code",
   "execution_count": 269,
   "metadata": {},
   "outputs": [
    {
     "name": "stdout",
     "output_type": "stream",
     "text": [
      "Wall time: 22min 6s\n"
     ]
    },
    {
     "data": {
      "text/html": [
       "<div>\n",
       "<style scoped>\n",
       "    .dataframe tbody tr th:only-of-type {\n",
       "        vertical-align: middle;\n",
       "    }\n",
       "\n",
       "    .dataframe tbody tr th {\n",
       "        vertical-align: top;\n",
       "    }\n",
       "\n",
       "    .dataframe thead th {\n",
       "        text-align: right;\n",
       "    }\n",
       "</style>\n",
       "<table border=\"1\" class=\"dataframe\">\n",
       "  <thead>\n",
       "    <tr style=\"text-align: right;\">\n",
       "      <th></th>\n",
       "      <th>longitude</th>\n",
       "      <th>latitude</th>\n",
       "      <th>altitude</th>\n",
       "      <th>time</th>\n",
       "      <th>athlete</th>\n",
       "      <th>journey</th>\n",
       "      <th>distance</th>\n",
       "    </tr>\n",
       "  </thead>\n",
       "  <tbody>\n",
       "    <tr>\n",
       "      <th>0</th>\n",
       "      <td>16.173844</td>\n",
       "      <td>46.538406</td>\n",
       "      <td>132.399994</td>\n",
       "      <td>2014-04-07 12:57:12+00:00</td>\n",
       "      <td>Athlete1</td>\n",
       "      <td>1</td>\n",
       "      <td>0</td>\n",
       "    </tr>\n",
       "    <tr>\n",
       "      <th>1</th>\n",
       "      <td>16.173710</td>\n",
       "      <td>46.538436</td>\n",
       "      <td>132.399994</td>\n",
       "      <td>2014-04-07 12:57:16+00:00</td>\n",
       "      <td>Athlete1</td>\n",
       "      <td>1</td>\n",
       "      <td>15</td>\n",
       "    </tr>\n",
       "    <tr>\n",
       "      <th>2</th>\n",
       "      <td>16.173465</td>\n",
       "      <td>46.538491</td>\n",
       "      <td>132.399994</td>\n",
       "      <td>2014-04-07 12:57:21+00:00</td>\n",
       "      <td>Athlete1</td>\n",
       "      <td>1</td>\n",
       "      <td>27</td>\n",
       "    </tr>\n",
       "    <tr>\n",
       "      <th>3</th>\n",
       "      <td>16.173376</td>\n",
       "      <td>46.538510</td>\n",
       "      <td>132.399994</td>\n",
       "      <td>2014-04-07 12:57:22+00:00</td>\n",
       "      <td>Athlete1</td>\n",
       "      <td>1</td>\n",
       "      <td>10</td>\n",
       "    </tr>\n",
       "    <tr>\n",
       "      <th>4</th>\n",
       "      <td>16.173286</td>\n",
       "      <td>46.538527</td>\n",
       "      <td>132.399994</td>\n",
       "      <td>2014-04-07 12:57:23+00:00</td>\n",
       "      <td>Athlete1</td>\n",
       "      <td>1</td>\n",
       "      <td>10</td>\n",
       "    </tr>\n",
       "    <tr>\n",
       "      <th>...</th>\n",
       "      <td>...</td>\n",
       "      <td>...</td>\n",
       "      <td>...</td>\n",
       "      <td>...</td>\n",
       "      <td>...</td>\n",
       "      <td>...</td>\n",
       "      <td>...</td>\n",
       "    </tr>\n",
       "    <tr>\n",
       "      <th>95</th>\n",
       "      <td>16.148912</td>\n",
       "      <td>46.539183</td>\n",
       "      <td>133.800003</td>\n",
       "      <td>2014-04-07 13:01:25+00:00</td>\n",
       "      <td>Athlete1</td>\n",
       "      <td>1</td>\n",
       "      <td>17</td>\n",
       "    </tr>\n",
       "    <tr>\n",
       "      <th>96</th>\n",
       "      <td>16.148970</td>\n",
       "      <td>46.539027</td>\n",
       "      <td>133.800003</td>\n",
       "      <td>2014-04-07 13:01:27+00:00</td>\n",
       "      <td>Athlete1</td>\n",
       "      <td>1</td>\n",
       "      <td>17</td>\n",
       "    </tr>\n",
       "    <tr>\n",
       "      <th>97</th>\n",
       "      <td>16.148993</td>\n",
       "      <td>46.538947</td>\n",
       "      <td>133.800003</td>\n",
       "      <td>2014-04-07 13:01:28+00:00</td>\n",
       "      <td>Athlete1</td>\n",
       "      <td>1</td>\n",
       "      <td>8</td>\n",
       "    </tr>\n",
       "    <tr>\n",
       "      <th>98</th>\n",
       "      <td>16.149011</td>\n",
       "      <td>46.538782</td>\n",
       "      <td>133.800003</td>\n",
       "      <td>2014-04-07 13:01:30+00:00</td>\n",
       "      <td>Athlete1</td>\n",
       "      <td>1</td>\n",
       "      <td>17</td>\n",
       "    </tr>\n",
       "    <tr>\n",
       "      <th>99</th>\n",
       "      <td>16.148957</td>\n",
       "      <td>46.538620</td>\n",
       "      <td>133.800003</td>\n",
       "      <td>2014-04-07 13:01:32+00:00</td>\n",
       "      <td>Athlete1</td>\n",
       "      <td>1</td>\n",
       "      <td>18</td>\n",
       "    </tr>\n",
       "  </tbody>\n",
       "</table>\n",
       "<p>100 rows × 7 columns</p>\n",
       "</div>"
      ],
      "text/plain": [
       "    longitude   latitude    altitude                      time   athlete  \\\n",
       "0   16.173844  46.538406  132.399994 2014-04-07 12:57:12+00:00  Athlete1   \n",
       "1   16.173710  46.538436  132.399994 2014-04-07 12:57:16+00:00  Athlete1   \n",
       "2   16.173465  46.538491  132.399994 2014-04-07 12:57:21+00:00  Athlete1   \n",
       "3   16.173376  46.538510  132.399994 2014-04-07 12:57:22+00:00  Athlete1   \n",
       "4   16.173286  46.538527  132.399994 2014-04-07 12:57:23+00:00  Athlete1   \n",
       "..        ...        ...         ...                       ...       ...   \n",
       "95  16.148912  46.539183  133.800003 2014-04-07 13:01:25+00:00  Athlete1   \n",
       "96  16.148970  46.539027  133.800003 2014-04-07 13:01:27+00:00  Athlete1   \n",
       "97  16.148993  46.538947  133.800003 2014-04-07 13:01:28+00:00  Athlete1   \n",
       "98  16.149011  46.538782  133.800003 2014-04-07 13:01:30+00:00  Athlete1   \n",
       "99  16.148957  46.538620  133.800003 2014-04-07 13:01:32+00:00  Athlete1   \n",
       "\n",
       "    journey  distance  \n",
       "0         1         0  \n",
       "1         1        15  \n",
       "2         1        27  \n",
       "3         1        10  \n",
       "4         1        10  \n",
       "..      ...       ...  \n",
       "95        1        17  \n",
       "96        1        17  \n",
       "97        1         8  \n",
       "98        1        17  \n",
       "99        1        18  \n",
       "\n",
       "[100 rows x 7 columns]"
      ]
     },
     "execution_count": 269,
     "metadata": {},
     "output_type": "execute_result"
    }
   ],
   "source": [
    "%%time\n",
    "sport_with_distances = sport.map_partitions(calculate_distance).compute()\n",
    "sport_with_distances.head(100)"
   ]
  },
  {
   "cell_type": "markdown",
   "metadata": {},
   "source": [
    "### Now we can analyse our dataset. \n",
    "\n",
    "#### First let's see how many points in total is recorded for each athlete:"
   ]
  },
  {
   "cell_type": "code",
   "execution_count": 270,
   "metadata": {},
   "outputs": [
    {
     "name": "stdout",
     "output_type": "stream",
     "text": [
      "Wall time: 161 ms\n"
     ]
    },
    {
     "data": {
      "text/plain": [
       "Athlete3    455812\n",
       "Athlete1    402747\n",
       "Athlete2    237991\n",
       "Athlete5    208650\n",
       "Athlete4     95637\n",
       "Name: athlete, dtype: int64"
      ]
     },
     "execution_count": 270,
     "metadata": {},
     "output_type": "execute_result"
    }
   ],
   "source": [
    "%%time\n",
    "sport_with_distances.athlete.value_counts()"
   ]
  },
  {
   "cell_type": "markdown",
   "metadata": {},
   "source": [
    "#### Then we can see the number of points per journey:"
   ]
  },
  {
   "cell_type": "code",
   "execution_count": 271,
   "metadata": {},
   "outputs": [
    {
     "name": "stdout",
     "output_type": "stream",
     "text": [
      "Wall time: 249 ms\n"
     ]
    },
    {
     "data": {
      "text/plain": [
       "athlete   journey\n",
       "Athlete1  124        16234\n",
       "          128        14917\n",
       "          132        14787\n",
       "          137        14315\n",
       "          12         14287\n",
       "                     ...  \n",
       "Athlete5  1060          91\n",
       "          1046          89\n",
       "          1055          71\n",
       "          105            1\n",
       "          1004           1\n",
       "Name: journey, Length: 500, dtype: int64"
      ]
     },
     "execution_count": 271,
     "metadata": {},
     "output_type": "execute_result"
    }
   ],
   "source": [
    "%%time\n",
    "sport_with_distances.groupby(['athlete']).journey.value_counts()"
   ]
  },
  {
   "cell_type": "markdown",
   "metadata": {},
   "source": [
    "#### Here is some information about the distance of journies:"
   ]
  },
  {
   "cell_type": "code",
   "execution_count": 272,
   "metadata": {},
   "outputs": [],
   "source": [
    "journey_distance = sport_with_distances.groupby(['athlete', 'journey']).distance.sum()\n"
   ]
  },
  {
   "cell_type": "code",
   "execution_count": 273,
   "metadata": {},
   "outputs": [
    {
     "data": {
      "text/plain": [
       "athlete   journey\n",
       "Athlete1  1           53686\n",
       "          10          77777\n",
       "          11          67102\n",
       "          12         135414\n",
       "          13             13\n",
       "                      ...  \n",
       "Athlete5  1084        75644\n",
       "          1085        11176\n",
       "          1086        32664\n",
       "          1087        33425\n",
       "          1088        40276\n",
       "Name: distance, Length: 500, dtype: int64"
      ]
     },
     "execution_count": 273,
     "metadata": {},
     "output_type": "execute_result"
    }
   ],
   "source": [
    "journey_distance"
   ]
  },
  {
   "cell_type": "code",
   "execution_count": 274,
   "metadata": {},
   "outputs": [],
   "source": [
    "jd = pd.DataFrame(journey_distance['Athlete1'][10:40])\n",
    "jd.reset_index(inplace=True)\n",
    "jd.journey = jd.journey.astype(str)\n",
    "jd.distance /= 1000"
   ]
  },
  {
   "cell_type": "code",
   "execution_count": 276,
   "metadata": {},
   "outputs": [],
   "source": [
    "from bokeh.plotting import figure, output_file, show\n",
    "from bokeh.models import ColumnDataSource\n",
    "from bokeh.models.tools import HoverTool\n",
    "\n",
    "from bokeh.palettes import Viridis256\n",
    "from bokeh.transform import factor_cmap"
   ]
  },
  {
   "cell_type": "code",
   "execution_count": 277,
   "metadata": {},
   "outputs": [],
   "source": [
    "import math\n",
    "source = ColumnDataSource(jd)\n",
    "journies = source.data['journey'].tolist()\n",
    "p = figure(x_range=journies)\n",
    "color_map = factor_cmap(field_name='journey',\n",
    "                    palette=Viridis256[:30], factors=journies)\n",
    "\n",
    "p.vbar(x='journey', top='distance', source=source, width=0.70, color=color_map)\n",
    "\n",
    "p.title.text ='Sample distance of 30 journies for Athlete1'\n",
    "p.xaxis.axis_label = '30 journies of Athlete1'\n",
    "p.yaxis.axis_label = 'journey distance(KM)'\n",
    "p.xaxis.major_label_orientation = math.pi/2"
   ]
  },
  {
   "cell_type": "code",
   "execution_count": 278,
   "metadata": {},
   "outputs": [
    {
     "data": {
      "text/html": [
       "\n",
       "\n",
       "\n",
       "\n",
       "\n",
       "\n",
       "  <div class=\"bk-root\" id=\"32183e80-aaef-4b1a-8340-729bad26eab9\" data-root-id=\"22670\"></div>\n"
      ]
     },
     "metadata": {},
     "output_type": "display_data"
    },
    {
     "data": {
      "application/javascript": [
       "(function(root) {\n",
       "  function embed_document(root) {\n",
       "    \n",
       "  var docs_json = {\"66b63c15-031e-4d12-a8a3-583824a42058\":{\"roots\":{\"references\":[{\"attributes\":{\"below\":[{\"id\":\"22679\",\"type\":\"CategoricalAxis\"}],\"center\":[{\"id\":\"22682\",\"type\":\"Grid\"},{\"id\":\"22687\",\"type\":\"Grid\"}],\"left\":[{\"id\":\"22683\",\"type\":\"LinearAxis\"}],\"renderers\":[{\"id\":\"22705\",\"type\":\"GlyphRenderer\"}],\"title\":{\"id\":\"22707\",\"type\":\"Title\"},\"toolbar\":{\"id\":\"22694\",\"type\":\"Toolbar\"},\"x_range\":{\"id\":\"22671\",\"type\":\"FactorRange\"},\"x_scale\":{\"id\":\"22675\",\"type\":\"CategoricalScale\"},\"y_range\":{\"id\":\"22673\",\"type\":\"DataRange1d\"},\"y_scale\":{\"id\":\"22677\",\"type\":\"LinearScale\"}},\"id\":\"22670\",\"subtype\":\"Figure\",\"type\":\"Plot\"},{\"attributes\":{\"axis_label\":\"journey distance(KM)\",\"formatter\":{\"id\":\"23414\",\"type\":\"BasicTickFormatter\"},\"ticker\":{\"id\":\"22684\",\"type\":\"BasicTicker\"}},\"id\":\"22683\",\"type\":\"LinearAxis\"},{\"attributes\":{\"active_drag\":\"auto\",\"active_inspect\":\"auto\",\"active_multi\":null,\"active_scroll\":\"auto\",\"active_tap\":\"auto\",\"tools\":[{\"id\":\"22688\",\"type\":\"PanTool\"},{\"id\":\"22689\",\"type\":\"WheelZoomTool\"},{\"id\":\"22690\",\"type\":\"BoxZoomTool\"},{\"id\":\"22691\",\"type\":\"SaveTool\"},{\"id\":\"22692\",\"type\":\"ResetTool\"},{\"id\":\"22693\",\"type\":\"HelpTool\"}]},\"id\":\"22694\",\"type\":\"Toolbar\"},{\"attributes\":{},\"id\":\"22692\",\"type\":\"ResetTool\"},{\"attributes\":{\"fill_color\":{\"field\":\"journey\",\"transform\":{\"id\":\"22701\",\"type\":\"CategoricalColorMapper\"}},\"line_color\":{\"field\":\"journey\",\"transform\":{\"id\":\"22701\",\"type\":\"CategoricalColorMapper\"}},\"top\":{\"field\":\"distance\"},\"width\":{\"value\":0.7},\"x\":{\"field\":\"journey\"}},\"id\":\"22703\",\"type\":\"VBar\"},{\"attributes\":{},\"id\":\"23415\",\"type\":\"CategoricalTickFormatter\"},{\"attributes\":{\"axis_label\":\"30 journies of Athlete1\",\"formatter\":{\"id\":\"23415\",\"type\":\"CategoricalTickFormatter\"},\"major_label_orientation\":1.5707963267948966,\"ticker\":{\"id\":\"22680\",\"type\":\"CategoricalTicker\"}},\"id\":\"22679\",\"type\":\"CategoricalAxis\"},{\"attributes\":{},\"id\":\"22677\",\"type\":\"LinearScale\"},{\"attributes\":{},\"id\":\"22689\",\"type\":\"WheelZoomTool\"},{\"attributes\":{\"dimension\":1,\"ticker\":{\"id\":\"22684\",\"type\":\"BasicTicker\"}},\"id\":\"22687\",\"type\":\"Grid\"},{\"attributes\":{},\"id\":\"22693\",\"type\":\"HelpTool\"},{\"attributes\":{\"factors\":[\"100\",\"101\",\"102\",\"103\",\"104\",\"105\",\"106\",\"107\",\"108\",\"109\",\"110\",\"111\",\"112\",\"113\",\"114\",\"115\",\"116\",\"117\",\"118\",\"119\",\"120\",\"121\",\"122\",\"123\",\"124\",\"125\",\"126\",\"127\",\"128\",\"129\"],\"palette\":[\"#440154\",\"#440255\",\"#440357\",\"#450558\",\"#45065A\",\"#45085B\",\"#46095C\",\"#460B5E\",\"#460C5F\",\"#460E61\",\"#470F62\",\"#471163\",\"#471265\",\"#471466\",\"#471567\",\"#471669\",\"#47186A\",\"#48196B\",\"#481A6C\",\"#481C6E\",\"#481D6F\",\"#481E70\",\"#482071\",\"#482172\",\"#482273\",\"#482374\",\"#472575\",\"#472676\",\"#472777\",\"#472878\"]},\"id\":\"22701\",\"type\":\"CategoricalColorMapper\"},{\"attributes\":{\"data_source\":{\"id\":\"22669\",\"type\":\"ColumnDataSource\"},\"glyph\":{\"id\":\"22703\",\"type\":\"VBar\"},\"hover_glyph\":null,\"muted_glyph\":null,\"nonselection_glyph\":{\"id\":\"22704\",\"type\":\"VBar\"},\"selection_glyph\":null,\"view\":{\"id\":\"22706\",\"type\":\"CDSView\"}},\"id\":\"22705\",\"type\":\"GlyphRenderer\"},{\"attributes\":{},\"id\":\"22688\",\"type\":\"PanTool\"},{\"attributes\":{},\"id\":\"22675\",\"type\":\"CategoricalScale\"},{\"attributes\":{\"text\":\"Sample distance of 30 journies for Athlete1\"},\"id\":\"22707\",\"type\":\"Title\"},{\"attributes\":{\"ticker\":{\"id\":\"22680\",\"type\":\"CategoricalTicker\"}},\"id\":\"22682\",\"type\":\"Grid\"},{\"attributes\":{},\"id\":\"23419\",\"type\":\"Selection\"},{\"attributes\":{\"callback\":null,\"data\":{\"distance\":{\"__ndarray__\":\"oBov3SQeWkDVeOkmMQgIQDeJQWDl+FxAsHJoke38IkB/arx0k0hEQMUgsHJomVJAukkMAitfUUDByqFFtqNQQM3MzMzMVFVAYhBYObQIOkAAAAAAAAAKQLgehetRGFxAaJHtfD/FRUDfT42XbhLTP2Q730+Nl19AMQisHFpUTUBkO99PjVc3QArXo3A9Csc/iUFg5dAKUUBaZDvfT9VeQKJFtvP9dEJA4XoUrkdBRkBt5/up8bJBQHWTGARWPk5A9P3UeOnuYUAbL90kBoHFP7gehetRiEZAppvEILASW0BSuB6F68VhQHE9CtejcN0/\",\"dtype\":\"float64\",\"shape\":[30]},\"index\":[0,1,2,3,4,5,6,7,8,9,10,11,12,13,14,15,16,17,18,19,20,21,22,23,24,25,26,27,28,29],\"journey\":[\"100\",\"101\",\"102\",\"103\",\"104\",\"105\",\"106\",\"107\",\"108\",\"109\",\"110\",\"111\",\"112\",\"113\",\"114\",\"115\",\"116\",\"117\",\"118\",\"119\",\"120\",\"121\",\"122\",\"123\",\"124\",\"125\",\"126\",\"127\",\"128\",\"129\"]},\"selected\":{\"id\":\"23419\",\"type\":\"Selection\"},\"selection_policy\":{\"id\":\"23418\",\"type\":\"UnionRenderers\"}},\"id\":\"22669\",\"type\":\"ColumnDataSource\"},{\"attributes\":{\"callback\":null},\"id\":\"22673\",\"type\":\"DataRange1d\"},{\"attributes\":{\"source\":{\"id\":\"22669\",\"type\":\"ColumnDataSource\"}},\"id\":\"22706\",\"type\":\"CDSView\"},{\"attributes\":{\"overlay\":{\"id\":\"23417\",\"type\":\"BoxAnnotation\"}},\"id\":\"22690\",\"type\":\"BoxZoomTool\"},{\"attributes\":{},\"id\":\"22684\",\"type\":\"BasicTicker\"},{\"attributes\":{\"bottom_units\":\"screen\",\"fill_alpha\":{\"value\":0.5},\"fill_color\":{\"value\":\"lightgrey\"},\"left_units\":\"screen\",\"level\":\"overlay\",\"line_alpha\":{\"value\":1.0},\"line_color\":{\"value\":\"black\"},\"line_dash\":[4,4],\"line_width\":{\"value\":2},\"render_mode\":\"css\",\"right_units\":\"screen\",\"top_units\":\"screen\"},\"id\":\"23417\",\"type\":\"BoxAnnotation\"},{\"attributes\":{},\"id\":\"22691\",\"type\":\"SaveTool\"},{\"attributes\":{},\"id\":\"22680\",\"type\":\"CategoricalTicker\"},{\"attributes\":{\"callback\":null,\"factors\":[\"100\",\"101\",\"102\",\"103\",\"104\",\"105\",\"106\",\"107\",\"108\",\"109\",\"110\",\"111\",\"112\",\"113\",\"114\",\"115\",\"116\",\"117\",\"118\",\"119\",\"120\",\"121\",\"122\",\"123\",\"124\",\"125\",\"126\",\"127\",\"128\",\"129\"]},\"id\":\"22671\",\"type\":\"FactorRange\"},{\"attributes\":{\"fill_alpha\":{\"value\":0.1},\"fill_color\":{\"value\":\"#1f77b4\"},\"line_alpha\":{\"value\":0.1},\"line_color\":{\"value\":\"#1f77b4\"},\"top\":{\"field\":\"distance\"},\"width\":{\"value\":0.7},\"x\":{\"field\":\"journey\"}},\"id\":\"22704\",\"type\":\"VBar\"},{\"attributes\":{},\"id\":\"23414\",\"type\":\"BasicTickFormatter\"},{\"attributes\":{},\"id\":\"23418\",\"type\":\"UnionRenderers\"}],\"root_ids\":[\"22670\"]},\"title\":\"Bokeh Application\",\"version\":\"1.4.0\"}};\n",
       "  var render_items = [{\"docid\":\"66b63c15-031e-4d12-a8a3-583824a42058\",\"roots\":{\"22670\":\"32183e80-aaef-4b1a-8340-729bad26eab9\"}}];\n",
       "  root.Bokeh.embed.embed_items_notebook(docs_json, render_items);\n",
       "\n",
       "  }\n",
       "  if (root.Bokeh !== undefined) {\n",
       "    embed_document(root);\n",
       "  } else {\n",
       "    var attempts = 0;\n",
       "    var timer = setInterval(function(root) {\n",
       "      if (root.Bokeh !== undefined) {\n",
       "        clearInterval(timer);\n",
       "        embed_document(root);\n",
       "      } else {\n",
       "        attempts++;\n",
       "        if (attempts > 100) {\n",
       "          clearInterval(timer);\n",
       "          console.log(\"Bokeh: ERROR: Unable to run BokehJS code because BokehJS library is missing\");\n",
       "        }\n",
       "      }\n",
       "    }, 10, root)\n",
       "  }\n",
       "})(window);"
      ],
      "application/vnd.bokehjs_exec.v0+json": ""
     },
     "metadata": {
      "application/vnd.bokehjs_exec.v0+json": {
       "id": "22670"
      }
     },
     "output_type": "display_data"
    }
   ],
   "source": [
    "show(p)"
   ]
  },
  {
   "cell_type": "code",
   "execution_count": 279,
   "metadata": {},
   "outputs": [],
   "source": [
    "mean_dist = pd.DataFrame(journey_distance.groupby('athlete').mean())\n",
    "mean_dist.reset_index(inplace=True)\n",
    "mean_dist.distance /= 1000"
   ]
  },
  {
   "cell_type": "code",
   "execution_count": 280,
   "metadata": {},
   "outputs": [
    {
     "data": {
      "text/html": [
       "\n",
       "\n",
       "\n",
       "\n",
       "\n",
       "\n",
       "  <div class=\"bk-root\" id=\"5a5567e4-68ec-4aae-bc85-dcdba132c5d9\" data-root-id=\"23475\"></div>\n"
      ]
     },
     "metadata": {},
     "output_type": "display_data"
    },
    {
     "data": {
      "application/javascript": [
       "(function(root) {\n",
       "  function embed_document(root) {\n",
       "    \n",
       "  var docs_json = {\"675797a0-2a6b-46b2-ac86-bd31f368cd74\":{\"roots\":{\"references\":[{\"attributes\":{\"below\":[{\"id\":\"23484\",\"type\":\"CategoricalAxis\"}],\"center\":[{\"id\":\"23487\",\"type\":\"Grid\"},{\"id\":\"23492\",\"type\":\"Grid\"}],\"left\":[{\"id\":\"23488\",\"type\":\"LinearAxis\"}],\"plot_height\":400,\"plot_width\":500,\"renderers\":[{\"id\":\"23510\",\"type\":\"GlyphRenderer\"}],\"title\":{\"id\":\"23512\",\"type\":\"Title\"},\"toolbar\":{\"id\":\"23499\",\"type\":\"Toolbar\"},\"x_range\":{\"id\":\"23476\",\"type\":\"FactorRange\"},\"x_scale\":{\"id\":\"23480\",\"type\":\"CategoricalScale\"},\"y_range\":{\"id\":\"23478\",\"type\":\"DataRange1d\"},\"y_scale\":{\"id\":\"23482\",\"type\":\"LinearScale\"}},\"id\":\"23475\",\"subtype\":\"Figure\",\"type\":\"Plot\"},{\"attributes\":{\"factors\":[\"Athlete1\",\"Athlete2\",\"Athlete3\",\"Athlete4\",\"Athlete5\"],\"palette\":[\"#f03b20\",\"#f03b20\",\"#f03b20\",\"#f03b20\",\"#f03b20\"]},\"id\":\"23506\",\"type\":\"CategoricalColorMapper\"},{\"attributes\":{\"text\":\"Comparing Average distance for each athlete\"},\"id\":\"23512\",\"type\":\"Title\"},{\"attributes\":{\"source\":{\"id\":\"23474\",\"type\":\"ColumnDataSource\"}},\"id\":\"23511\",\"type\":\"CDSView\"},{\"attributes\":{},\"id\":\"23494\",\"type\":\"WheelZoomTool\"},{\"attributes\":{},\"id\":\"23482\",\"type\":\"LinearScale\"},{\"attributes\":{},\"id\":\"24228\",\"type\":\"BasicTickFormatter\"},{\"attributes\":{},\"id\":\"24233\",\"type\":\"Selection\"},{\"attributes\":{},\"id\":\"24232\",\"type\":\"UnionRenderers\"},{\"attributes\":{\"axis_label\":\"Athletes\",\"formatter\":{\"id\":\"24229\",\"type\":\"CategoricalTickFormatter\"},\"ticker\":{\"id\":\"23485\",\"type\":\"CategoricalTicker\"}},\"id\":\"23484\",\"type\":\"CategoricalAxis\"},{\"attributes\":{\"data_source\":{\"id\":\"23474\",\"type\":\"ColumnDataSource\"},\"glyph\":{\"id\":\"23508\",\"type\":\"VBar\"},\"hover_glyph\":null,\"muted_glyph\":null,\"nonselection_glyph\":{\"id\":\"23509\",\"type\":\"VBar\"},\"selection_glyph\":null,\"view\":{\"id\":\"23511\",\"type\":\"CDSView\"}},\"id\":\"23510\",\"type\":\"GlyphRenderer\"},{\"attributes\":{},\"id\":\"23480\",\"type\":\"CategoricalScale\"},{\"attributes\":{},\"id\":\"23497\",\"type\":\"ResetTool\"},{\"attributes\":{\"bottom_units\":\"screen\",\"fill_alpha\":{\"value\":0.5},\"fill_color\":{\"value\":\"lightgrey\"},\"left_units\":\"screen\",\"level\":\"overlay\",\"line_alpha\":{\"value\":1.0},\"line_color\":{\"value\":\"black\"},\"line_dash\":[4,4],\"line_width\":{\"value\":2},\"render_mode\":\"css\",\"right_units\":\"screen\",\"top_units\":\"screen\"},\"id\":\"24231\",\"type\":\"BoxAnnotation\"},{\"attributes\":{},\"id\":\"24229\",\"type\":\"CategoricalTickFormatter\"},{\"attributes\":{\"dimension\":1,\"ticker\":{\"id\":\"23489\",\"type\":\"BasicTicker\"}},\"id\":\"23492\",\"type\":\"Grid\"},{\"attributes\":{},\"id\":\"23485\",\"type\":\"CategoricalTicker\"},{\"attributes\":{\"axis_label\":\"Average distance of all journies(KM)\",\"formatter\":{\"id\":\"24228\",\"type\":\"BasicTickFormatter\"},\"ticker\":{\"id\":\"23489\",\"type\":\"BasicTicker\"}},\"id\":\"23488\",\"type\":\"LinearAxis\"},{\"attributes\":{\"overlay\":{\"id\":\"24231\",\"type\":\"BoxAnnotation\"}},\"id\":\"23495\",\"type\":\"BoxZoomTool\"},{\"attributes\":{\"callback\":null},\"id\":\"23478\",\"type\":\"DataRange1d\"},{\"attributes\":{\"callback\":null,\"data\":{\"athlete\":[\"Athlete1\",\"Athlete2\",\"Athlete3\",\"Athlete4\",\"Athlete5\"],\"distance\":{\"__ndarray__\":\"gQncupvfTUAT7Sqk/LxDQOpztRX7E0tA+KV+3lRMOECPqiaIulNAQA==\",\"dtype\":\"float64\",\"shape\":[5]},\"index\":[0,1,2,3,4]},\"selected\":{\"id\":\"24233\",\"type\":\"Selection\"},\"selection_policy\":{\"id\":\"24232\",\"type\":\"UnionRenderers\"}},\"id\":\"23474\",\"type\":\"ColumnDataSource\"},{\"attributes\":{},\"id\":\"23498\",\"type\":\"HelpTool\"},{\"attributes\":{\"active_drag\":\"auto\",\"active_inspect\":\"auto\",\"active_multi\":null,\"active_scroll\":\"auto\",\"active_tap\":\"auto\",\"tools\":[{\"id\":\"23493\",\"type\":\"PanTool\"},{\"id\":\"23494\",\"type\":\"WheelZoomTool\"},{\"id\":\"23495\",\"type\":\"BoxZoomTool\"},{\"id\":\"23496\",\"type\":\"SaveTool\"},{\"id\":\"23497\",\"type\":\"ResetTool\"},{\"id\":\"23498\",\"type\":\"HelpTool\"}]},\"id\":\"23499\",\"type\":\"Toolbar\"},{\"attributes\":{\"callback\":null,\"factors\":[\"Athlete1\",\"Athlete2\",\"Athlete3\",\"Athlete4\",\"Athlete5\"]},\"id\":\"23476\",\"type\":\"FactorRange\"},{\"attributes\":{\"ticker\":{\"id\":\"23485\",\"type\":\"CategoricalTicker\"}},\"id\":\"23487\",\"type\":\"Grid\"},{\"attributes\":{},\"id\":\"23493\",\"type\":\"PanTool\"},{\"attributes\":{\"fill_color\":{\"field\":\"athlete\",\"transform\":{\"id\":\"23506\",\"type\":\"CategoricalColorMapper\"}},\"line_color\":{\"field\":\"athlete\",\"transform\":{\"id\":\"23506\",\"type\":\"CategoricalColorMapper\"}},\"top\":{\"field\":\"distance\"},\"width\":{\"value\":0.5},\"x\":{\"field\":\"athlete\"}},\"id\":\"23508\",\"type\":\"VBar\"},{\"attributes\":{},\"id\":\"23489\",\"type\":\"BasicTicker\"},{\"attributes\":{\"fill_alpha\":{\"value\":0.1},\"fill_color\":{\"value\":\"#1f77b4\"},\"line_alpha\":{\"value\":0.1},\"line_color\":{\"value\":\"#1f77b4\"},\"top\":{\"field\":\"distance\"},\"width\":{\"value\":0.5},\"x\":{\"field\":\"athlete\"}},\"id\":\"23509\",\"type\":\"VBar\"},{\"attributes\":{},\"id\":\"23496\",\"type\":\"SaveTool\"}],\"root_ids\":[\"23475\"]},\"title\":\"Bokeh Application\",\"version\":\"1.4.0\"}};\n",
       "  var render_items = [{\"docid\":\"675797a0-2a6b-46b2-ac86-bd31f368cd74\",\"roots\":{\"23475\":\"5a5567e4-68ec-4aae-bc85-dcdba132c5d9\"}}];\n",
       "  root.Bokeh.embed.embed_items_notebook(docs_json, render_items);\n",
       "\n",
       "  }\n",
       "  if (root.Bokeh !== undefined) {\n",
       "    embed_document(root);\n",
       "  } else {\n",
       "    var attempts = 0;\n",
       "    var timer = setInterval(function(root) {\n",
       "      if (root.Bokeh !== undefined) {\n",
       "        clearInterval(timer);\n",
       "        embed_document(root);\n",
       "      } else {\n",
       "        attempts++;\n",
       "        if (attempts > 100) {\n",
       "          clearInterval(timer);\n",
       "          console.log(\"Bokeh: ERROR: Unable to run BokehJS code because BokehJS library is missing\");\n",
       "        }\n",
       "      }\n",
       "    }, 10, root)\n",
       "  }\n",
       "})(window);"
      ],
      "application/vnd.bokehjs_exec.v0+json": ""
     },
     "metadata": {
      "application/vnd.bokehjs_exec.v0+json": {
       "id": "23475"
      }
     },
     "output_type": "display_data"
    }
   ],
   "source": [
    "source = ColumnDataSource(mean_dist)\n",
    "athletes = source.data['athlete'].tolist()\n",
    "p = figure(x_range=athletes, plot_width=500, plot_height=400)\n",
    "color_map = factor_cmap(field_name='athlete',\n",
    "                    palette=['#f03b20']*5, factors=athletes)\n",
    "\n",
    "p.vbar(x='athlete', top='distance', source=source, width=0.50, color=color_map)\n",
    "\n",
    "p.title.text ='Comparing Average distance for each athlete'\n",
    "p.xaxis.axis_label = 'Athletes'\n",
    "p.yaxis.axis_label = 'Average distance of all journies(KM)'\n",
    "show(p)"
   ]
  },
  {
   "cell_type": "markdown",
   "metadata": {},
   "source": [
    "#### By calculating the average values per journey of each athlete, we get an average point (average longitude, latitude and altitude), and the average distance between each two consecutive points:"
   ]
  },
  {
   "cell_type": "code",
   "execution_count": 281,
   "metadata": {},
   "outputs": [
    {
     "name": "stdout",
     "output_type": "stream",
     "text": [
      "Wall time: 252 ms\n"
     ]
    },
    {
     "data": {
      "text/html": [
       "<div>\n",
       "<style scoped>\n",
       "    .dataframe tbody tr th:only-of-type {\n",
       "        vertical-align: middle;\n",
       "    }\n",
       "\n",
       "    .dataframe tbody tr th {\n",
       "        vertical-align: top;\n",
       "    }\n",
       "\n",
       "    .dataframe thead th {\n",
       "        text-align: right;\n",
       "    }\n",
       "</style>\n",
       "<table border=\"1\" class=\"dataframe\">\n",
       "  <thead>\n",
       "    <tr style=\"text-align: right;\">\n",
       "      <th></th>\n",
       "      <th></th>\n",
       "      <th>longitude</th>\n",
       "      <th>latitude</th>\n",
       "      <th>altitude</th>\n",
       "      <th>distance</th>\n",
       "    </tr>\n",
       "    <tr>\n",
       "      <th>athlete</th>\n",
       "      <th>journey</th>\n",
       "      <th></th>\n",
       "      <th></th>\n",
       "      <th></th>\n",
       "      <th></th>\n",
       "    </tr>\n",
       "  </thead>\n",
       "  <tbody>\n",
       "    <tr>\n",
       "      <th rowspan=\"5\" valign=\"top\">Athlete1</th>\n",
       "      <th>1</th>\n",
       "      <td>16.089062</td>\n",
       "      <td>46.551292</td>\n",
       "      <td>149.621018</td>\n",
       "      <td>29.693584</td>\n",
       "    </tr>\n",
       "    <tr>\n",
       "      <th>10</th>\n",
       "      <td>16.238507</td>\n",
       "      <td>46.604686</td>\n",
       "      <td>249.252825</td>\n",
       "      <td>36.618173</td>\n",
       "    </tr>\n",
       "    <tr>\n",
       "      <th>11</th>\n",
       "      <td>16.208636</td>\n",
       "      <td>46.727600</td>\n",
       "      <td>187.640630</td>\n",
       "      <td>33.006394</td>\n",
       "    </tr>\n",
       "    <tr>\n",
       "      <th>12</th>\n",
       "      <td>16.148202</td>\n",
       "      <td>46.655455</td>\n",
       "      <td>201.949969</td>\n",
       "      <td>9.478127</td>\n",
       "    </tr>\n",
       "    <tr>\n",
       "      <th>13</th>\n",
       "      <td>16.175591</td>\n",
       "      <td>46.538365</td>\n",
       "      <td>213.567850</td>\n",
       "      <td>0.008100</td>\n",
       "    </tr>\n",
       "    <tr>\n",
       "      <th>...</th>\n",
       "      <th>...</th>\n",
       "      <td>...</td>\n",
       "      <td>...</td>\n",
       "      <td>...</td>\n",
       "      <td>...</td>\n",
       "    </tr>\n",
       "    <tr>\n",
       "      <th rowspan=\"5\" valign=\"top\">Athlete5</th>\n",
       "      <th>1084</th>\n",
       "      <td>16.079646</td>\n",
       "      <td>46.707787</td>\n",
       "      <td>229.460922</td>\n",
       "      <td>41.517014</td>\n",
       "    </tr>\n",
       "    <tr>\n",
       "      <th>1085</th>\n",
       "      <td>16.135989</td>\n",
       "      <td>46.623897</td>\n",
       "      <td>189.508622</td>\n",
       "      <td>7.587237</td>\n",
       "    </tr>\n",
       "    <tr>\n",
       "      <th>1086</th>\n",
       "      <td>16.102885</td>\n",
       "      <td>46.648603</td>\n",
       "      <td>201.778076</td>\n",
       "      <td>18.750861</td>\n",
       "    </tr>\n",
       "    <tr>\n",
       "      <th>1087</th>\n",
       "      <td>16.165949</td>\n",
       "      <td>46.616286</td>\n",
       "      <td>464.653480</td>\n",
       "      <td>40.811966</td>\n",
       "    </tr>\n",
       "    <tr>\n",
       "      <th>1088</th>\n",
       "      <td>16.212161</td>\n",
       "      <td>46.588399</td>\n",
       "      <td>198.049738</td>\n",
       "      <td>9.155717</td>\n",
       "    </tr>\n",
       "  </tbody>\n",
       "</table>\n",
       "<p>500 rows × 4 columns</p>\n",
       "</div>"
      ],
      "text/plain": [
       "                  longitude   latitude    altitude   distance\n",
       "athlete  journey                                             \n",
       "Athlete1 1        16.089062  46.551292  149.621018  29.693584\n",
       "         10       16.238507  46.604686  249.252825  36.618173\n",
       "         11       16.208636  46.727600  187.640630  33.006394\n",
       "         12       16.148202  46.655455  201.949969   9.478127\n",
       "         13       16.175591  46.538365  213.567850   0.008100\n",
       "...                     ...        ...         ...        ...\n",
       "Athlete5 1084     16.079646  46.707787  229.460922  41.517014\n",
       "         1085     16.135989  46.623897  189.508622   7.587237\n",
       "         1086     16.102885  46.648603  201.778076  18.750861\n",
       "         1087     16.165949  46.616286  464.653480  40.811966\n",
       "         1088     16.212161  46.588399  198.049738   9.155717\n",
       "\n",
       "[500 rows x 4 columns]"
      ]
     },
     "execution_count": 281,
     "metadata": {},
     "output_type": "execute_result"
    }
   ],
   "source": [
    "%%time\n",
    "sport_with_distances.groupby(['athlete', 'journey']).mean()"
   ]
  },
  {
   "cell_type": "markdown",
   "metadata": {},
   "source": [
    "#### From the standard deviations, it can be infered that the longitudes and latitudes of all journey points are close to the mean value, while for some journies, the standard deviation for altitudes is high which means that the journey had a wider range of different elevations, maybe cycling over a hill or something like that:"
   ]
  },
  {
   "cell_type": "code",
   "execution_count": 282,
   "metadata": {},
   "outputs": [
    {
     "name": "stdout",
     "output_type": "stream",
     "text": [
      "Wall time: 254 ms\n"
     ]
    },
    {
     "data": {
      "text/html": [
       "<div>\n",
       "<style scoped>\n",
       "    .dataframe tbody tr th:only-of-type {\n",
       "        vertical-align: middle;\n",
       "    }\n",
       "\n",
       "    .dataframe tbody tr th {\n",
       "        vertical-align: top;\n",
       "    }\n",
       "\n",
       "    .dataframe thead th {\n",
       "        text-align: right;\n",
       "    }\n",
       "</style>\n",
       "<table border=\"1\" class=\"dataframe\">\n",
       "  <thead>\n",
       "    <tr style=\"text-align: right;\">\n",
       "      <th></th>\n",
       "      <th></th>\n",
       "      <th>longitude</th>\n",
       "      <th>latitude</th>\n",
       "      <th>altitude</th>\n",
       "      <th>distance</th>\n",
       "    </tr>\n",
       "    <tr>\n",
       "      <th>athlete</th>\n",
       "      <th>journey</th>\n",
       "      <th></th>\n",
       "      <th></th>\n",
       "      <th></th>\n",
       "      <th></th>\n",
       "    </tr>\n",
       "  </thead>\n",
       "  <tbody>\n",
       "    <tr>\n",
       "      <th rowspan=\"5\" valign=\"top\">Athlete1</th>\n",
       "      <th>1</th>\n",
       "      <td>0.061710</td>\n",
       "      <td>0.019868</td>\n",
       "      <td>10.926711</td>\n",
       "      <td>24.400553</td>\n",
       "    </tr>\n",
       "    <tr>\n",
       "      <th>10</th>\n",
       "      <td>0.055719</td>\n",
       "      <td>0.057992</td>\n",
       "      <td>7.743303</td>\n",
       "      <td>28.182246</td>\n",
       "    </tr>\n",
       "    <tr>\n",
       "      <th>11</th>\n",
       "      <td>0.046910</td>\n",
       "      <td>0.091368</td>\n",
       "      <td>40.648476</td>\n",
       "      <td>34.189411</td>\n",
       "    </tr>\n",
       "    <tr>\n",
       "      <th>12</th>\n",
       "      <td>0.072500</td>\n",
       "      <td>0.082505</td>\n",
       "      <td>46.113463</td>\n",
       "      <td>4.481806</td>\n",
       "    </tr>\n",
       "    <tr>\n",
       "      <th>13</th>\n",
       "      <td>0.000004</td>\n",
       "      <td>0.000009</td>\n",
       "      <td>1.040867</td>\n",
       "      <td>0.159673</td>\n",
       "    </tr>\n",
       "    <tr>\n",
       "      <th>...</th>\n",
       "      <th>...</th>\n",
       "      <td>...</td>\n",
       "      <td>...</td>\n",
       "      <td>...</td>\n",
       "      <td>...</td>\n",
       "    </tr>\n",
       "    <tr>\n",
       "      <th rowspan=\"5\" valign=\"top\">Athlete5</th>\n",
       "      <th>1084</th>\n",
       "      <td>0.034170</td>\n",
       "      <td>0.058849</td>\n",
       "      <td>48.693994</td>\n",
       "      <td>26.526467</td>\n",
       "    </tr>\n",
       "    <tr>\n",
       "      <th>1085</th>\n",
       "      <td>0.008670</td>\n",
       "      <td>0.005763</td>\n",
       "      <td>2.998168</td>\n",
       "      <td>1.669955</td>\n",
       "    </tr>\n",
       "    <tr>\n",
       "      <th>1086</th>\n",
       "      <td>0.032566</td>\n",
       "      <td>0.017609</td>\n",
       "      <td>4.283261</td>\n",
       "      <td>5.806663</td>\n",
       "    </tr>\n",
       "    <tr>\n",
       "      <th>1087</th>\n",
       "      <td>0.013253</td>\n",
       "      <td>0.022053</td>\n",
       "      <td>185.473329</td>\n",
       "      <td>22.746048</td>\n",
       "    </tr>\n",
       "    <tr>\n",
       "      <th>1088</th>\n",
       "      <td>0.034997</td>\n",
       "      <td>0.017568</td>\n",
       "      <td>4.084833</td>\n",
       "      <td>3.167103</td>\n",
       "    </tr>\n",
       "  </tbody>\n",
       "</table>\n",
       "<p>500 rows × 4 columns</p>\n",
       "</div>"
      ],
      "text/plain": [
       "                  longitude  latitude    altitude   distance\n",
       "athlete  journey                                            \n",
       "Athlete1 1         0.061710  0.019868   10.926711  24.400553\n",
       "         10        0.055719  0.057992    7.743303  28.182246\n",
       "         11        0.046910  0.091368   40.648476  34.189411\n",
       "         12        0.072500  0.082505   46.113463   4.481806\n",
       "         13        0.000004  0.000009    1.040867   0.159673\n",
       "...                     ...       ...         ...        ...\n",
       "Athlete5 1084      0.034170  0.058849   48.693994  26.526467\n",
       "         1085      0.008670  0.005763    2.998168   1.669955\n",
       "         1086      0.032566  0.017609    4.283261   5.806663\n",
       "         1087      0.013253  0.022053  185.473329  22.746048\n",
       "         1088      0.034997  0.017568    4.084833   3.167103\n",
       "\n",
       "[500 rows x 4 columns]"
      ]
     },
     "execution_count": 282,
     "metadata": {},
     "output_type": "execute_result"
    }
   ],
   "source": [
    "%%time\n",
    "sport_with_distances.groupby(['athlete', 'journey']).std()"
   ]
  },
  {
   "cell_type": "markdown",
   "metadata": {},
   "source": [
    "#### Then we get the difference between the minimum and maximum values for each journey:"
   ]
  },
  {
   "cell_type": "code",
   "execution_count": 283,
   "metadata": {},
   "outputs": [
    {
     "name": "stdout",
     "output_type": "stream",
     "text": [
      "Wall time: 260 ms\n"
     ]
    },
    {
     "data": {
      "text/html": [
       "<div>\n",
       "<style scoped>\n",
       "    .dataframe tbody tr th:only-of-type {\n",
       "        vertical-align: middle;\n",
       "    }\n",
       "\n",
       "    .dataframe tbody tr th {\n",
       "        vertical-align: top;\n",
       "    }\n",
       "\n",
       "    .dataframe thead th {\n",
       "        text-align: right;\n",
       "    }\n",
       "</style>\n",
       "<table border=\"1\" class=\"dataframe\">\n",
       "  <thead>\n",
       "    <tr style=\"text-align: right;\">\n",
       "      <th></th>\n",
       "      <th></th>\n",
       "      <th>longitude</th>\n",
       "      <th>latitude</th>\n",
       "      <th>altitude</th>\n",
       "      <th>time</th>\n",
       "      <th>distance</th>\n",
       "    </tr>\n",
       "    <tr>\n",
       "      <th>athlete</th>\n",
       "      <th>journey</th>\n",
       "      <th></th>\n",
       "      <th></th>\n",
       "      <th></th>\n",
       "      <th></th>\n",
       "      <th></th>\n",
       "    </tr>\n",
       "  </thead>\n",
       "  <tbody>\n",
       "    <tr>\n",
       "      <th rowspan=\"5\" valign=\"top\">Athlete1</th>\n",
       "      <th>1</th>\n",
       "      <td>16.006548</td>\n",
       "      <td>46.518628</td>\n",
       "      <td>131.600006</td>\n",
       "      <td>2014-04-07 12:57:12+00:00</td>\n",
       "      <td>0</td>\n",
       "    </tr>\n",
       "    <tr>\n",
       "      <th>10</th>\n",
       "      <td>16.164186</td>\n",
       "      <td>46.509978</td>\n",
       "      <td>238.399994</td>\n",
       "      <td>2015-02-23 11:07:42+00:00</td>\n",
       "      <td>0</td>\n",
       "    </tr>\n",
       "    <tr>\n",
       "      <th>11</th>\n",
       "      <td>16.161779</td>\n",
       "      <td>46.538263</td>\n",
       "      <td>129.000000</td>\n",
       "      <td>2015-06-10 14:14:09+00:00</td>\n",
       "      <td>0</td>\n",
       "    </tr>\n",
       "    <tr>\n",
       "      <th>12</th>\n",
       "      <td>16.019659</td>\n",
       "      <td>46.509934</td>\n",
       "      <td>159.199997</td>\n",
       "      <td>2015-06-30 12:39:25+00:00</td>\n",
       "      <td>0</td>\n",
       "    </tr>\n",
       "    <tr>\n",
       "      <th>13</th>\n",
       "      <td>16.175580</td>\n",
       "      <td>46.538262</td>\n",
       "      <td>211.600006</td>\n",
       "      <td>2016-02-23 14:58:36+00:00</td>\n",
       "      <td>0</td>\n",
       "    </tr>\n",
       "  </tbody>\n",
       "</table>\n",
       "</div>"
      ],
      "text/plain": [
       "                  longitude   latitude    altitude                      time  \\\n",
       "athlete  journey                                                               \n",
       "Athlete1 1        16.006548  46.518628  131.600006 2014-04-07 12:57:12+00:00   \n",
       "         10       16.164186  46.509978  238.399994 2015-02-23 11:07:42+00:00   \n",
       "         11       16.161779  46.538263  129.000000 2015-06-10 14:14:09+00:00   \n",
       "         12       16.019659  46.509934  159.199997 2015-06-30 12:39:25+00:00   \n",
       "         13       16.175580  46.538262  211.600006 2016-02-23 14:58:36+00:00   \n",
       "\n",
       "                  distance  \n",
       "athlete  journey            \n",
       "Athlete1 1               0  \n",
       "         10              0  \n",
       "         11              0  \n",
       "         12              0  \n",
       "         13              0  "
      ]
     },
     "execution_count": 283,
     "metadata": {},
     "output_type": "execute_result"
    }
   ],
   "source": [
    "%%time\n",
    "min_df = sport_with_distances.groupby(['athlete', 'journey']).min()\n",
    "min_df.head()"
   ]
  },
  {
   "cell_type": "code",
   "execution_count": 284,
   "metadata": {},
   "outputs": [
    {
     "name": "stdout",
     "output_type": "stream",
     "text": [
      "Wall time: 232 ms\n"
     ]
    },
    {
     "data": {
      "text/html": [
       "<div>\n",
       "<style scoped>\n",
       "    .dataframe tbody tr th:only-of-type {\n",
       "        vertical-align: middle;\n",
       "    }\n",
       "\n",
       "    .dataframe tbody tr th {\n",
       "        vertical-align: top;\n",
       "    }\n",
       "\n",
       "    .dataframe thead th {\n",
       "        text-align: right;\n",
       "    }\n",
       "</style>\n",
       "<table border=\"1\" class=\"dataframe\">\n",
       "  <thead>\n",
       "    <tr style=\"text-align: right;\">\n",
       "      <th></th>\n",
       "      <th></th>\n",
       "      <th>longitude</th>\n",
       "      <th>latitude</th>\n",
       "      <th>altitude</th>\n",
       "      <th>time</th>\n",
       "      <th>distance</th>\n",
       "    </tr>\n",
       "    <tr>\n",
       "      <th>athlete</th>\n",
       "      <th>journey</th>\n",
       "      <th></th>\n",
       "      <th></th>\n",
       "      <th></th>\n",
       "      <th></th>\n",
       "      <th></th>\n",
       "    </tr>\n",
       "  </thead>\n",
       "  <tbody>\n",
       "    <tr>\n",
       "      <th rowspan=\"5\" valign=\"top\">Athlete1</th>\n",
       "      <th>1</th>\n",
       "      <td>16.194670</td>\n",
       "      <td>46.595207</td>\n",
       "      <td>175.600006</td>\n",
       "      <td>2014-04-07 14:22:58+00:00</td>\n",
       "      <td>101</td>\n",
       "    </tr>\n",
       "    <tr>\n",
       "      <th>10</th>\n",
       "      <td>16.345301</td>\n",
       "      <td>46.687761</td>\n",
       "      <td>266.399994</td>\n",
       "      <td>2015-02-23 13:16:23+00:00</td>\n",
       "      <td>268</td>\n",
       "    </tr>\n",
       "    <tr>\n",
       "      <th>11</th>\n",
       "      <td>16.321814</td>\n",
       "      <td>46.824616</td>\n",
       "      <td>277.200012</td>\n",
       "      <td>2015-06-10 16:13:29+00:00</td>\n",
       "      <td>1012</td>\n",
       "    </tr>\n",
       "    <tr>\n",
       "      <th>12</th>\n",
       "      <td>16.289549</td>\n",
       "      <td>46.798497</td>\n",
       "      <td>351.000000</td>\n",
       "      <td>2015-06-30 17:57:26+00:00</td>\n",
       "      <td>394</td>\n",
       "    </tr>\n",
       "    <tr>\n",
       "      <th>13</th>\n",
       "      <td>16.175642</td>\n",
       "      <td>46.538383</td>\n",
       "      <td>215.800003</td>\n",
       "      <td>2016-02-23 15:25:30+00:00</td>\n",
       "      <td>4</td>\n",
       "    </tr>\n",
       "  </tbody>\n",
       "</table>\n",
       "</div>"
      ],
      "text/plain": [
       "                  longitude   latitude    altitude                      time  \\\n",
       "athlete  journey                                                               \n",
       "Athlete1 1        16.194670  46.595207  175.600006 2014-04-07 14:22:58+00:00   \n",
       "         10       16.345301  46.687761  266.399994 2015-02-23 13:16:23+00:00   \n",
       "         11       16.321814  46.824616  277.200012 2015-06-10 16:13:29+00:00   \n",
       "         12       16.289549  46.798497  351.000000 2015-06-30 17:57:26+00:00   \n",
       "         13       16.175642  46.538383  215.800003 2016-02-23 15:25:30+00:00   \n",
       "\n",
       "                  distance  \n",
       "athlete  journey            \n",
       "Athlete1 1             101  \n",
       "         10            268  \n",
       "         11           1012  \n",
       "         12            394  \n",
       "         13              4  "
      ]
     },
     "execution_count": 284,
     "metadata": {},
     "output_type": "execute_result"
    }
   ],
   "source": [
    "%%time\n",
    "max_df = sport_with_distances.groupby(['athlete', 'journey']).max()\n",
    "max_df.head()"
   ]
  },
  {
   "cell_type": "code",
   "execution_count": 285,
   "metadata": {},
   "outputs": [
    {
     "name": "stdout",
     "output_type": "stream",
     "text": [
      "Wall time: 16 ms\n"
     ]
    },
    {
     "data": {
      "text/html": [
       "<div>\n",
       "<style scoped>\n",
       "    .dataframe tbody tr th:only-of-type {\n",
       "        vertical-align: middle;\n",
       "    }\n",
       "\n",
       "    .dataframe tbody tr th {\n",
       "        vertical-align: top;\n",
       "    }\n",
       "\n",
       "    .dataframe thead th {\n",
       "        text-align: right;\n",
       "    }\n",
       "</style>\n",
       "<table border=\"1\" class=\"dataframe\">\n",
       "  <thead>\n",
       "    <tr style=\"text-align: right;\">\n",
       "      <th></th>\n",
       "      <th></th>\n",
       "      <th>longitude</th>\n",
       "      <th>latitude</th>\n",
       "      <th>altitude</th>\n",
       "      <th>time</th>\n",
       "      <th>distance</th>\n",
       "    </tr>\n",
       "    <tr>\n",
       "      <th>athlete</th>\n",
       "      <th>journey</th>\n",
       "      <th></th>\n",
       "      <th></th>\n",
       "      <th></th>\n",
       "      <th></th>\n",
       "      <th></th>\n",
       "    </tr>\n",
       "  </thead>\n",
       "  <tbody>\n",
       "    <tr>\n",
       "      <th rowspan=\"5\" valign=\"top\">Athlete1</th>\n",
       "      <th>1</th>\n",
       "      <td>0.188122</td>\n",
       "      <td>0.076579</td>\n",
       "      <td>44.000000</td>\n",
       "      <td>01:25:46</td>\n",
       "      <td>101</td>\n",
       "    </tr>\n",
       "    <tr>\n",
       "      <th>10</th>\n",
       "      <td>0.181114</td>\n",
       "      <td>0.177783</td>\n",
       "      <td>28.000000</td>\n",
       "      <td>02:08:41</td>\n",
       "      <td>268</td>\n",
       "    </tr>\n",
       "    <tr>\n",
       "      <th>11</th>\n",
       "      <td>0.160035</td>\n",
       "      <td>0.286353</td>\n",
       "      <td>148.200012</td>\n",
       "      <td>01:59:20</td>\n",
       "      <td>1012</td>\n",
       "    </tr>\n",
       "    <tr>\n",
       "      <th>12</th>\n",
       "      <td>0.269890</td>\n",
       "      <td>0.288563</td>\n",
       "      <td>191.800003</td>\n",
       "      <td>05:18:01</td>\n",
       "      <td>394</td>\n",
       "    </tr>\n",
       "    <tr>\n",
       "      <th>13</th>\n",
       "      <td>0.000061</td>\n",
       "      <td>0.000121</td>\n",
       "      <td>4.199997</td>\n",
       "      <td>00:26:54</td>\n",
       "      <td>4</td>\n",
       "    </tr>\n",
       "  </tbody>\n",
       "</table>\n",
       "</div>"
      ],
      "text/plain": [
       "                  longitude  latitude    altitude     time  distance\n",
       "athlete  journey                                                    \n",
       "Athlete1 1         0.188122  0.076579   44.000000 01:25:46       101\n",
       "         10        0.181114  0.177783   28.000000 02:08:41       268\n",
       "         11        0.160035  0.286353  148.200012 01:59:20      1012\n",
       "         12        0.269890  0.288563  191.800003 05:18:01       394\n",
       "         13        0.000061  0.000121    4.199997 00:26:54         4"
      ]
     },
     "execution_count": 285,
     "metadata": {},
     "output_type": "execute_result"
    }
   ],
   "source": [
    "%%time\n",
    "diff = max_df - min_df\n",
    "diff.head()"
   ]
  },
  {
   "cell_type": "markdown",
   "metadata": {},
   "source": [
    "#### We can get some useful information from diff. The altitude column shows the difference between the highest and lowst point of the journey. and we have the total duration of the journey in time column. So we can calculate the average speed of the athlete.\n",
    "\n",
    "#### First let's see the average duration of journeys for each athlete:"
   ]
  },
  {
   "cell_type": "code",
   "execution_count": 286,
   "metadata": {},
   "outputs": [
    {
     "name": "stdout",
     "output_type": "stream",
     "text": [
      "Wall time: 5 ms\n"
     ]
    },
    {
     "data": {
      "text/plain": [
       "athlete\n",
       "Athlete1   10 days 04:43:10\n",
       "Athlete2    8 days 06:09:22\n",
       "Athlete3    7 days 06:59:20\n",
       "Athlete4    6 days 18:28:05\n",
       "Athlete5    5 days 04:51:21\n",
       "Name: time, dtype: timedelta64[ns]"
      ]
     },
     "execution_count": 286,
     "metadata": {},
     "output_type": "execute_result"
    }
   ],
   "source": [
    "%%time\n",
    "sum_duration = diff.groupby(['athlete']).time.sum()\n",
    "sum_duration"
   ]
  },
  {
   "cell_type": "code",
   "execution_count": 287,
   "metadata": {},
   "outputs": [
    {
     "data": {
      "text/plain": [
       "athlete\n",
       "Athlete1   02:26:49.900000\n",
       "Athlete2   01:58:53.620000\n",
       "Athlete3   01:44:59.600000\n",
       "Athlete4   01:37:28.850000\n",
       "Athlete5   01:14:54.810000\n",
       "Name: time, dtype: timedelta64[ns]"
      ]
     },
     "execution_count": 287,
     "metadata": {},
     "output_type": "execute_result"
    }
   ],
   "source": [
    "mean_duration = sum_duration/100\n",
    "mean_duration"
   ]
  },
  {
   "cell_type": "markdown",
   "metadata": {},
   "source": [
    "#### Since we collected 100 journies per athlete, the average duration can be calculated by dividing the total duration of all journies to 100.\n",
    "\n",
    "#### For calculating the speed, first we need to calculate time durations in hours, in float format:"
   ]
  },
  {
   "cell_type": "code",
   "execution_count": 288,
   "metadata": {},
   "outputs": [
    {
     "name": "stdout",
     "output_type": "stream",
     "text": [
      "Wall time: 112 ms\n"
     ]
    },
    {
     "data": {
      "text/html": [
       "<div>\n",
       "<style scoped>\n",
       "    .dataframe tbody tr th:only-of-type {\n",
       "        vertical-align: middle;\n",
       "    }\n",
       "\n",
       "    .dataframe tbody tr th {\n",
       "        vertical-align: top;\n",
       "    }\n",
       "\n",
       "    .dataframe thead th {\n",
       "        text-align: right;\n",
       "    }\n",
       "</style>\n",
       "<table border=\"1\" class=\"dataframe\">\n",
       "  <thead>\n",
       "    <tr style=\"text-align: right;\">\n",
       "      <th></th>\n",
       "      <th></th>\n",
       "      <th>longitude</th>\n",
       "      <th>latitude</th>\n",
       "      <th>altitude</th>\n",
       "      <th>time</th>\n",
       "      <th>distance</th>\n",
       "      <th>hours</th>\n",
       "    </tr>\n",
       "    <tr>\n",
       "      <th>athlete</th>\n",
       "      <th>journey</th>\n",
       "      <th></th>\n",
       "      <th></th>\n",
       "      <th></th>\n",
       "      <th></th>\n",
       "      <th></th>\n",
       "      <th></th>\n",
       "    </tr>\n",
       "  </thead>\n",
       "  <tbody>\n",
       "    <tr>\n",
       "      <th rowspan=\"5\" valign=\"top\">Athlete1</th>\n",
       "      <th>1</th>\n",
       "      <td>0.188122</td>\n",
       "      <td>0.076579</td>\n",
       "      <td>44.000000</td>\n",
       "      <td>01:25:46</td>\n",
       "      <td>101</td>\n",
       "      <td>1.429444</td>\n",
       "    </tr>\n",
       "    <tr>\n",
       "      <th>10</th>\n",
       "      <td>0.181114</td>\n",
       "      <td>0.177783</td>\n",
       "      <td>28.000000</td>\n",
       "      <td>02:08:41</td>\n",
       "      <td>268</td>\n",
       "      <td>2.144722</td>\n",
       "    </tr>\n",
       "    <tr>\n",
       "      <th>11</th>\n",
       "      <td>0.160035</td>\n",
       "      <td>0.286353</td>\n",
       "      <td>148.200012</td>\n",
       "      <td>01:59:20</td>\n",
       "      <td>1012</td>\n",
       "      <td>1.988889</td>\n",
       "    </tr>\n",
       "    <tr>\n",
       "      <th>12</th>\n",
       "      <td>0.269890</td>\n",
       "      <td>0.288563</td>\n",
       "      <td>191.800003</td>\n",
       "      <td>05:18:01</td>\n",
       "      <td>394</td>\n",
       "      <td>5.300278</td>\n",
       "    </tr>\n",
       "    <tr>\n",
       "      <th>13</th>\n",
       "      <td>0.000061</td>\n",
       "      <td>0.000121</td>\n",
       "      <td>4.199997</td>\n",
       "      <td>00:26:54</td>\n",
       "      <td>4</td>\n",
       "      <td>0.448333</td>\n",
       "    </tr>\n",
       "    <tr>\n",
       "      <th>...</th>\n",
       "      <th>...</th>\n",
       "      <td>...</td>\n",
       "      <td>...</td>\n",
       "      <td>...</td>\n",
       "      <td>...</td>\n",
       "      <td>...</td>\n",
       "      <td>...</td>\n",
       "    </tr>\n",
       "    <tr>\n",
       "      <th rowspan=\"5\" valign=\"top\">Athlete5</th>\n",
       "      <th>1084</th>\n",
       "      <td>0.132868</td>\n",
       "      <td>0.182205</td>\n",
       "      <td>173.199982</td>\n",
       "      <td>02:51:22</td>\n",
       "      <td>100</td>\n",
       "      <td>2.856111</td>\n",
       "    </tr>\n",
       "    <tr>\n",
       "      <th>1085</th>\n",
       "      <td>0.029091</td>\n",
       "      <td>0.019612</td>\n",
       "      <td>21.399994</td>\n",
       "      <td>00:50:01</td>\n",
       "      <td>19</td>\n",
       "      <td>0.833611</td>\n",
       "    </tr>\n",
       "    <tr>\n",
       "      <th>1086</th>\n",
       "      <td>0.105480</td>\n",
       "      <td>0.064251</td>\n",
       "      <td>15.400009</td>\n",
       "      <td>00:55:27</td>\n",
       "      <td>48</td>\n",
       "      <td>0.924167</td>\n",
       "    </tr>\n",
       "    <tr>\n",
       "      <th>1087</th>\n",
       "      <td>0.051129</td>\n",
       "      <td>0.080459</td>\n",
       "      <td>487.000000</td>\n",
       "      <td>00:18:41</td>\n",
       "      <td>188</td>\n",
       "      <td>0.311389</td>\n",
       "    </tr>\n",
       "    <tr>\n",
       "      <th>1088</th>\n",
       "      <td>0.110702</td>\n",
       "      <td>0.059893</td>\n",
       "      <td>15.399994</td>\n",
       "      <td>01:25:17</td>\n",
       "      <td>19</td>\n",
       "      <td>1.421389</td>\n",
       "    </tr>\n",
       "  </tbody>\n",
       "</table>\n",
       "<p>500 rows × 6 columns</p>\n",
       "</div>"
      ],
      "text/plain": [
       "                  longitude  latitude    altitude     time  distance     hours\n",
       "athlete  journey                                                              \n",
       "Athlete1 1         0.188122  0.076579   44.000000 01:25:46       101  1.429444\n",
       "         10        0.181114  0.177783   28.000000 02:08:41       268  2.144722\n",
       "         11        0.160035  0.286353  148.200012 01:59:20      1012  1.988889\n",
       "         12        0.269890  0.288563  191.800003 05:18:01       394  5.300278\n",
       "         13        0.000061  0.000121    4.199997 00:26:54         4  0.448333\n",
       "...                     ...       ...         ...      ...       ...       ...\n",
       "Athlete5 1084      0.132868  0.182205  173.199982 02:51:22       100  2.856111\n",
       "         1085      0.029091  0.019612   21.399994 00:50:01        19  0.833611\n",
       "         1086      0.105480  0.064251   15.400009 00:55:27        48  0.924167\n",
       "         1087      0.051129  0.080459  487.000000 00:18:41       188  0.311389\n",
       "         1088      0.110702  0.059893   15.399994 01:25:17        19  1.421389\n",
       "\n",
       "[500 rows x 6 columns]"
      ]
     },
     "execution_count": 288,
     "metadata": {},
     "output_type": "execute_result"
    }
   ],
   "source": [
    "%%time\n",
    "for i, journey in diff.iterrows():\n",
    "    diff.at[i, 'hours'] = journey.time.seconds/3600\n",
    "diff "
   ]
  },
  {
   "cell_type": "markdown",
   "metadata": {},
   "source": [
    "#### Speed in Km/H:"
   ]
  },
  {
   "cell_type": "code",
   "execution_count": 289,
   "metadata": {},
   "outputs": [
    {
     "name": "stdout",
     "output_type": "stream",
     "text": [
      "Wall time: 2 ms\n"
     ]
    },
    {
     "data": {
      "text/plain": [
       "athlete   journey\n",
       "Athlete1  1          37.557248\n",
       "          10         36.264370\n",
       "          11         33.738436\n",
       "          12         25.548472\n",
       "          13          0.028996\n",
       "dtype: float64"
      ]
     },
     "execution_count": 289,
     "metadata": {},
     "output_type": "execute_result"
    }
   ],
   "source": [
    "%%time\n",
    "speed = journey_distance/(1000*(diff.hours))\n",
    "speed.head()"
   ]
  },
  {
   "cell_type": "code",
   "execution_count": 290,
   "metadata": {},
   "outputs": [
    {
     "data": {
      "text/plain": [
       "19.93517230645446"
      ]
     },
     "execution_count": 290,
     "metadata": {},
     "output_type": "execute_result"
    }
   ],
   "source": [
    "speed.std()"
   ]
  },
  {
   "cell_type": "markdown",
   "metadata": {},
   "source": [
    "#### From the standard deviation, we can see that all the speeds were somewhat close to the average.\n",
    "\n",
    "#### In this plot, we can see the comparison between the average speed of the athletes:"
   ]
  },
  {
   "cell_type": "code",
   "execution_count": 291,
   "metadata": {},
   "outputs": [
    {
     "data": {
      "text/html": [
       "\n",
       "\n",
       "\n",
       "\n",
       "\n",
       "\n",
       "  <div class=\"bk-root\" id=\"5c6cb160-eb41-4352-986c-d4136d092a6f\" data-root-id=\"24289\"></div>\n"
      ]
     },
     "metadata": {},
     "output_type": "display_data"
    },
    {
     "data": {
      "application/javascript": [
       "(function(root) {\n",
       "  function embed_document(root) {\n",
       "    \n",
       "  var docs_json = {\"7bd32347-38f5-409b-a68f-d15b2281b6a6\":{\"roots\":{\"references\":[{\"attributes\":{\"below\":[{\"id\":\"24298\",\"type\":\"CategoricalAxis\"}],\"center\":[{\"id\":\"24301\",\"type\":\"Grid\"},{\"id\":\"24306\",\"type\":\"Grid\"}],\"left\":[{\"id\":\"24302\",\"type\":\"LinearAxis\"}],\"plot_height\":400,\"plot_width\":500,\"renderers\":[{\"id\":\"24324\",\"type\":\"GlyphRenderer\"}],\"title\":{\"id\":\"24326\",\"type\":\"Title\"},\"toolbar\":{\"id\":\"24313\",\"type\":\"Toolbar\"},\"x_range\":{\"id\":\"24290\",\"type\":\"FactorRange\"},\"x_scale\":{\"id\":\"24294\",\"type\":\"CategoricalScale\"},\"y_range\":{\"id\":\"24292\",\"type\":\"DataRange1d\"},\"y_scale\":{\"id\":\"24296\",\"type\":\"LinearScale\"}},\"id\":\"24289\",\"subtype\":\"Figure\",\"type\":\"Plot\"},{\"attributes\":{},\"id\":\"24310\",\"type\":\"SaveTool\"},{\"attributes\":{\"active_drag\":\"auto\",\"active_inspect\":\"auto\",\"active_multi\":null,\"active_scroll\":\"auto\",\"active_tap\":\"auto\",\"tools\":[{\"id\":\"24307\",\"type\":\"PanTool\"},{\"id\":\"24308\",\"type\":\"WheelZoomTool\"},{\"id\":\"24309\",\"type\":\"BoxZoomTool\"},{\"id\":\"24310\",\"type\":\"SaveTool\"},{\"id\":\"24311\",\"type\":\"ResetTool\"},{\"id\":\"24312\",\"type\":\"HelpTool\"}]},\"id\":\"24313\",\"type\":\"Toolbar\"},{\"attributes\":{},\"id\":\"24311\",\"type\":\"ResetTool\"},{\"attributes\":{},\"id\":\"24299\",\"type\":\"CategoricalTicker\"},{\"attributes\":{},\"id\":\"24303\",\"type\":\"BasicTicker\"},{\"attributes\":{},\"id\":\"24296\",\"type\":\"LinearScale\"},{\"attributes\":{\"overlay\":{\"id\":\"25054\",\"type\":\"BoxAnnotation\"}},\"id\":\"24309\",\"type\":\"BoxZoomTool\"},{\"attributes\":{},\"id\":\"24312\",\"type\":\"HelpTool\"},{\"attributes\":{\"data_source\":{\"id\":\"24288\",\"type\":\"ColumnDataSource\"},\"glyph\":{\"id\":\"24322\",\"type\":\"VBar\"},\"hover_glyph\":null,\"muted_glyph\":null,\"nonselection_glyph\":{\"id\":\"24323\",\"type\":\"VBar\"},\"selection_glyph\":null,\"view\":{\"id\":\"24325\",\"type\":\"CDSView\"}},\"id\":\"24324\",\"type\":\"GlyphRenderer\"},{\"attributes\":{\"callback\":null},\"id\":\"24292\",\"type\":\"DataRange1d\"},{\"attributes\":{},\"id\":\"24294\",\"type\":\"CategoricalScale\"},{\"attributes\":{\"axis_label\":\"Athletes\",\"formatter\":{\"id\":\"25052\",\"type\":\"CategoricalTickFormatter\"},\"ticker\":{\"id\":\"24299\",\"type\":\"CategoricalTicker\"}},\"id\":\"24298\",\"type\":\"CategoricalAxis\"},{\"attributes\":{},\"id\":\"25052\",\"type\":\"CategoricalTickFormatter\"},{\"attributes\":{\"axis_label\":\"Average speed\",\"formatter\":{\"id\":\"25051\",\"type\":\"BasicTickFormatter\"},\"ticker\":{\"id\":\"24303\",\"type\":\"BasicTicker\"}},\"id\":\"24302\",\"type\":\"LinearAxis\"},{\"attributes\":{},\"id\":\"24307\",\"type\":\"PanTool\"},{\"attributes\":{\"bottom_units\":\"screen\",\"fill_alpha\":{\"value\":0.5},\"fill_color\":{\"value\":\"lightgrey\"},\"left_units\":\"screen\",\"level\":\"overlay\",\"line_alpha\":{\"value\":1.0},\"line_color\":{\"value\":\"black\"},\"line_dash\":[4,4],\"line_width\":{\"value\":2},\"render_mode\":\"css\",\"right_units\":\"screen\",\"top_units\":\"screen\"},\"id\":\"25054\",\"type\":\"BoxAnnotation\"},{\"attributes\":{\"ticker\":{\"id\":\"24299\",\"type\":\"CategoricalTicker\"}},\"id\":\"24301\",\"type\":\"Grid\"},{\"attributes\":{\"dimension\":1,\"ticker\":{\"id\":\"24303\",\"type\":\"BasicTicker\"}},\"id\":\"24306\",\"type\":\"Grid\"},{\"attributes\":{\"factors\":[\"Athlete1\",\"Athlete2\",\"Athlete3\",\"Athlete4\",\"Athlete5\"],\"palette\":[\"#756bb1\",\"#756bb1\",\"#756bb1\",\"#756bb1\",\"#756bb1\"]},\"id\":\"24320\",\"type\":\"CategoricalColorMapper\"},{\"attributes\":{},\"id\":\"25051\",\"type\":\"BasicTickFormatter\"},{\"attributes\":{},\"id\":\"24308\",\"type\":\"WheelZoomTool\"},{\"attributes\":{},\"id\":\"25056\",\"type\":\"Selection\"},{\"attributes\":{\"callback\":null,\"factors\":[\"Athlete1\",\"Athlete2\",\"Athlete3\",\"Athlete4\",\"Athlete5\"]},\"id\":\"24290\",\"type\":\"FactorRange\"},{\"attributes\":{},\"id\":\"25055\",\"type\":\"UnionRenderers\"},{\"attributes\":{\"fill_alpha\":{\"value\":0.1},\"fill_color\":{\"value\":\"#1f77b4\"},\"line_alpha\":{\"value\":0.1},\"line_color\":{\"value\":\"#1f77b4\"},\"top\":{\"field\":\"speed\"},\"width\":{\"value\":0.5},\"x\":{\"field\":\"athlete\"}},\"id\":\"24323\",\"type\":\"VBar\"},{\"attributes\":{\"callback\":null,\"data\":{\"athlete\":[\"Athlete1\",\"Athlete2\",\"Athlete3\",\"Athlete4\",\"Athlete5\"],\"index\":[0,1,2,3,4],\"speed\":{\"__ndarray__\":\"exKs51mjOUBmLYvVy/YyQL3slvtY6jpAWIYxkBCwLkA9iWQzVvs9QA==\",\"dtype\":\"float64\",\"shape\":[5]}},\"selected\":{\"id\":\"25056\",\"type\":\"Selection\"},\"selection_policy\":{\"id\":\"25055\",\"type\":\"UnionRenderers\"}},\"id\":\"24288\",\"type\":\"ColumnDataSource\"},{\"attributes\":{\"fill_color\":{\"field\":\"athlete\",\"transform\":{\"id\":\"24320\",\"type\":\"CategoricalColorMapper\"}},\"line_color\":{\"field\":\"athlete\",\"transform\":{\"id\":\"24320\",\"type\":\"CategoricalColorMapper\"}},\"top\":{\"field\":\"speed\"},\"width\":{\"value\":0.5},\"x\":{\"field\":\"athlete\"}},\"id\":\"24322\",\"type\":\"VBar\"},{\"attributes\":{\"text\":\"Comparing average speed for each athlete\"},\"id\":\"24326\",\"type\":\"Title\"},{\"attributes\":{\"source\":{\"id\":\"24288\",\"type\":\"ColumnDataSource\"}},\"id\":\"24325\",\"type\":\"CDSView\"}],\"root_ids\":[\"24289\"]},\"title\":\"Bokeh Application\",\"version\":\"1.4.0\"}};\n",
       "  var render_items = [{\"docid\":\"7bd32347-38f5-409b-a68f-d15b2281b6a6\",\"roots\":{\"24289\":\"5c6cb160-eb41-4352-986c-d4136d092a6f\"}}];\n",
       "  root.Bokeh.embed.embed_items_notebook(docs_json, render_items);\n",
       "\n",
       "  }\n",
       "  if (root.Bokeh !== undefined) {\n",
       "    embed_document(root);\n",
       "  } else {\n",
       "    var attempts = 0;\n",
       "    var timer = setInterval(function(root) {\n",
       "      if (root.Bokeh !== undefined) {\n",
       "        clearInterval(timer);\n",
       "        embed_document(root);\n",
       "      } else {\n",
       "        attempts++;\n",
       "        if (attempts > 100) {\n",
       "          clearInterval(timer);\n",
       "          console.log(\"Bokeh: ERROR: Unable to run BokehJS code because BokehJS library is missing\");\n",
       "        }\n",
       "      }\n",
       "    }, 10, root)\n",
       "  }\n",
       "})(window);"
      ],
      "application/vnd.bokehjs_exec.v0+json": ""
     },
     "metadata": {
      "application/vnd.bokehjs_exec.v0+json": {
       "id": "24289"
      }
     },
     "output_type": "display_data"
    }
   ],
   "source": [
    "speed_df = pd.DataFrame(speed.groupby('athlete').mean())\n",
    "speed_df.reset_index(inplace=True)\n",
    "speed_df.columns=['athlete', 'speed']\n",
    "source = ColumnDataSource(speed_df)\n",
    "athletes = source.data['athlete'].tolist()\n",
    "p = figure(x_range=athletes, plot_width=500, plot_height=400)\n",
    "color_map = factor_cmap(field_name='athlete',\n",
    "                    palette=['#756bb1']*5, factors=athletes)\n",
    "\n",
    "p.vbar(x='athlete', top='speed', source=source, width=0.50, color=color_map)\n",
    "\n",
    "p.title.text ='Comparing average speed for each athlete'\n",
    "p.xaxis.axis_label = 'Athletes'\n",
    "p.yaxis.axis_label = 'Average speed'\n",
    "show(p)"
   ]
  },
  {
   "cell_type": "markdown",
   "metadata": {},
   "source": [
    "#### let's see if the height difference of journies is correlated to the speed:"
   ]
  },
  {
   "cell_type": "code",
   "execution_count": 292,
   "metadata": {},
   "outputs": [
    {
     "data": {
      "text/plain": [
       "0.22825142641796312"
      ]
     },
     "execution_count": 292,
     "metadata": {},
     "output_type": "execute_result"
    }
   ],
   "source": [
    "diff['speed'] = speed\n",
    "diff['altitude'].corr(diff['speed'])"
   ]
  },
  {
   "cell_type": "markdown",
   "metadata": {},
   "source": [
    "#### There is almost no correlations"
   ]
  },
  {
   "cell_type": "markdown",
   "metadata": {},
   "source": [
    "#### We chose two journeys to see how the change of altitude was in each:"
   ]
  },
  {
   "cell_type": "code",
   "execution_count": 293,
   "metadata": {},
   "outputs": [],
   "source": [
    "sample_journey = sport_with_distances[sport_with_distances['athlete']=='Athlete5']\n",
    "sample_journey = sample_journey[sample_journey['journey']==1087]\n",
    "sample_journey['time'] = pd.Series([val.time() for val in sample_journey['time']])"
   ]
  },
  {
   "cell_type": "code",
   "execution_count": 294,
   "metadata": {},
   "outputs": [],
   "source": [
    "sample_journey2 = sport_with_distances[sport_with_distances['athlete']=='Athlete1']\n",
    "sample_journey2 = sample_journey2[sample_journey2['journey']==10]\n",
    "sample_journey2['time'] = pd.Series([val.time() for val in sample_journey2['time']])"
   ]
  },
  {
   "cell_type": "code",
   "execution_count": 295,
   "metadata": {},
   "outputs": [
    {
     "data": {
      "text/html": [
       "\n",
       "\n",
       "\n",
       "\n",
       "\n",
       "\n",
       "  <div class=\"bk-root\" id=\"8ec957a6-c732-4a7c-86e0-355fdbb3e05a\" data-root-id=\"25113\"></div>\n"
      ]
     },
     "metadata": {},
     "output_type": "display_data"
    },
    {
     "data": {
      "application/javascript": [
       "(function(root) {\n",
       "  function embed_document(root) {\n",
       "    \n",
       "  var docs_json = {\"a41d24ea-fa9a-4eba-819f-0e8e823794af\":{\"roots\":{\"references\":[{\"attributes\":{\"below\":[{\"id\":\"25122\",\"type\":\"DatetimeAxis\"}],\"center\":[{\"id\":\"25126\",\"type\":\"Grid\"},{\"id\":\"25131\",\"type\":\"Grid\"},{\"id\":\"25169\",\"type\":\"Legend\"}],\"left\":[{\"id\":\"25127\",\"type\":\"LinearAxis\"}],\"plot_height\":400,\"plot_width\":900,\"renderers\":[{\"id\":\"25148\",\"type\":\"GlyphRenderer\"},{\"id\":\"25174\",\"type\":\"GlyphRenderer\"}],\"title\":{\"id\":\"25151\",\"type\":\"Title\"},\"toolbar\":{\"id\":\"25138\",\"type\":\"Toolbar\"},\"x_range\":{\"id\":\"25114\",\"type\":\"DataRange1d\"},\"x_scale\":{\"id\":\"25118\",\"type\":\"LinearScale\"},\"y_range\":{\"id\":\"25116\",\"type\":\"DataRange1d\"},\"y_scale\":{\"id\":\"25120\",\"type\":\"LinearScale\"}},\"id\":\"25113\",\"subtype\":\"Figure\",\"type\":\"Plot\"},{\"attributes\":{},\"id\":\"25120\",\"type\":\"LinearScale\"},{\"attributes\":{\"label\":{\"value\":\"Athlete1\"},\"renderers\":[{\"id\":\"25174\",\"type\":\"GlyphRenderer\"}]},\"id\":\"25197\",\"type\":\"LegendItem\"},{\"attributes\":{},\"id\":\"25128\",\"type\":\"BasicTicker\"},{\"attributes\":{\"line_color\":\"orchid\",\"line_width\":2,\"x\":{\"field\":\"time\"},\"y\":{\"field\":\"altitude\"}},\"id\":\"25146\",\"type\":\"Line\"},{\"attributes\":{\"callback\":null,\"data\":{\"altitude\":{\"__ndarray__\":\"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\",\"dtype\":\"float64\",\"shape\":[2124]},\"athlete\":[\"Athlete1\",\"Athlete1\",\"Athlete1\",\"Athlete1\",\"Athlete1\",\"Athlete1\",\"Athlete1\",\"Athlete1\",\"Athlete1\",\"Athlete1\",\"Athlete1\",\"Athlete1\",\"Athlete1\",\"Athlete1\",\"Athlete1\",\"Athlete1\",\"Athlete1\",\"Athlete1\",\"Athlete1\",\"Athlete1\",\"Athlete1\",\"Athlete1\",\"Athlete1\",\"Athlete1\",\"Athlete1\",\"Athlete1\",\"Athlete1\",\"Athlete1\",\"Athlete1\",\"Athlete1\",\"Athlete1\",\"Athlete1\",\"Athlete1\",\"Athlete1\",\"Athlete1\",\"Athlete1\",\"Athlete1\",\"Athlete1\",\"Athlete1\",\"Athlete1\",\"Athlete1\",\"Athlete1\",\"Athlete1\",\"Athlete1\",\"Athlete1\",\"Athlete1\",\"Athlete1\",\"Athlete1\",\"Athlete1\",\"Athlete1\",\"Athlete1\",\"Athlete1\",\"Athlete1\",\"Athlete1\",\"Athlete1\",\"Athlete1\",\"Athlete1\",\"Athlete1\",\"Athlete1\",\"Athlete1\",\"Athlete1\",\"Athlete1\",\"Athlete1\",\"Athlete1\",\"Athlete1\",\"Athlete1\",\"Athlete1\",\"Athlete1\",\"Athlete1\",\"Athlete1\",\"Athlete1\",\"Athlete1\",\"Athlete1\",\"Athlete1\",\"Athlete1\",\"Athlete1\",\"Athlete1\",\"Athlete1\",\"Athlete1\",\"Athlete1\",\"Athlete1\",\"Athlete1\",\"Athlete1\",\"Athlete1\",\"Athlete1\",\"Athlete1\",\"Athlete1\",\"Athlete1\",\"Athlete1\",\"Athlete1\",\"Athlete1\",\"Athlete1\",\"Athlete1\",\"Athlete1\",\"Athlete1\",\"Athlete1\",\"Athlete1\",\"Athlete1\",\"Athlete1\",\"Athlete1\",\"Athlete1\",\"Athlete1\",\"Athlete1\",\"Athlete1\",\"Athlete1\",\"Athlete1\",\"Athlete1\",\"Athlete1\",\"Athlete1\",\"Athlete1\",\"Athlete1\",\"Athlete1\",\"Athlete1\",\"Athlete1\",\"Athlete1\",\"Athlete1\",\"Athlete1\",\"Athlete1\",\"Athlete1\",\"Athlete1\",\"Athlete1\",\"Athlete1\",\"Athlete1\",\"Athlete1\",\"Athlete1\",\"Athlete1\",\"Athlete1\",\"Athlete1\",\"Athlete1\",\"Athlete1\",\"Athlete1\",\"Athlete1\",\"Athlete1\",\"Athlete1\",\"Athlete1\",\"Athlete1\",\"Athlete1\",\"Athlete1\",\"Athlete1\",\"Athlete1\",\"Athlete1\",\"Athlete1\",\"Athlete1\",\"Athlete1\",\"Athlete1\",\"Athlete1\",\"Athlete1\",\"Athlete1\",\"Athlete1\",\"Athlete1\",\"Athlete1\",\"Athlete1\",\"Athlete1\",\"Athlete1\",\"Athlete1\",\"Athlete1\",\"Athlete1\",\"Athlete1\",\"Athlete1\",\"Athlete1\",\"Athlete1\",\"Athlete1\",\"Athlete1\",\"Athlete1\",\"Athlete1\",\"Athlete1\",\"Athlete1\",\"Athlete1\",\"Athlete1\",\"Athlete1\",\"Athlete1\",\"Athlete1\",\"Athlete1\",\"Athlete1\",\"Athlete1\",\"Athlete1\",\"Athlete1\",\"Athlete1\",\"Athlete1\",\"Athlete1\",\"Athlete1\",\"Athlete1\",\"Athlete1\",\"Athlete1\",\"Athlete1\",\"Athlete1\",\"Athlete1\",\"Athlete1\",\"Athlete1\",\"Athlete1\",\"Athlete1\",\"Athlete1\",\"Athlete1\",\"Athlete1\",\"Athlete1\",\"Athlete1\",\"Athlete1\",\"Athlete1\",\"Athlete1\",\"Athlete1\",\"Athlete1\",\"Athlete1\",\"Athlete1\",\"Athlete1\",\"Athlete1\",\"Athlete1\",\"Athlete1\",\"Athlete1\",\"Athlete1\",\"Athlete1\",\"Athlete1\",\"Athlete1\",\"Athlete1\",\"Athlete1\",\"Athlete1\",\"Athlete1\",\"Athlete1\",\"Athlete1\",\"Athlete1\",\"Athlete1\",\"Athlete1\",\"Athlete1\",\"Athlete1\",\"Athlete1\",\"Athlete1\",\"Athlete1\",\"Athlete1\",\"Athlete1\",\"Athlete1\",\"Athlete1\",\"Athlete1\",\"Athlete1\",\"Athlete1\",\"Athlete1\",\"Athlete1\",\"Athlete1\",\"Athlete1\",\"Athlete1\",\"Athlete1\",\"Athlete1\",\"Athlete1\",\"Athlete1\",\"Athlete1\",\"Athlete1\",\"Athlete1\",\"Athlete1\",\"Athlete1\",\"Athlete1\",\"Athlete1\",\"Athlete1\",\"Athlete1\",\"Athlete1\",\"Athlete1\",\"Athlete1\",\"Athlete1\",\"Athlete1\",\"Athlete1\",\"Athlete1\",\"Athlete1\",\"Athlete1\",\"Athlete1\",\"Athlete1\",\"Athlete1\",\"Athlete1\",\"Athlete1\",\"Athlete1\",\"Athlete1\",\"Athlete1\",\"Athlete1\",\"Athlete1\",\"Athlete1\",\"Athlete1\",\"Athlete1\",\"Athlete1\",\"Athlete1\",\"Athlete1\",\"Athlete1\",\"Athlete1\",\"Athlete1\",\"Athlete1\",\"Athlete1\",\"Athlete1\",\"Athlete1\",\"Athlete1\",\"Athlete1\",\"Athlete1\",\"Athlete1\",\"Athlete1\",\"Athlete1\",\"Athlete1\",\"Athlete1\",\"Athlete1\",\"Athlete1\",\"Athlete1\",\"Athlete1\",\"Athlete1\",\"Athlete1\",\"Athlete1\",\"Athlete1\",\"Athlete1\",\"Athlete1\",\"Athlete1\",\"Athlete1\",\"Athlete1\",\"Athlete1\",\"Athlete1\",\"Athlete1\",\"Athlete1\",\"Athlete1\",\"Athlete1\",\"Athlete1\",\"Athlete1\",\"Athlete1\",\"Athlete1\",\"Athlete1\",\"Athlete1\",\"Athlete1\",\"Athlete1\",\"Athlete1\",\"Athlete1\",\"Athlete1\",\"Athlete1\",\"Athlete1\",\"Athlete1\",\"Athlete1\",\"Athlete1\",\"Athlete1\",\"Athlete1\",\"Athlete1\",\"Athlete1\",\"Athlete1\",\"Athlete1\",\"Athlete1\",\"Athlete1\",\"Athlete1\",\"Athlete1\",\"Athlete1\",\"Athlete1\",\"Athlete1\",\"Athlete1\",\"Athlete1\",\"Athlete1\",\"Athlete1\",\"Athlete1\",\"Athlete1\",\"Athlete1\",\"Athlete1\",\"Athlete1\",\"Athlete1\",\"Athlete1\",\"Athlete1\",\"Athlete1\",\"Athlete1\",\"Athlete1\",\"Athlete1\",\"Athlete1\",\"Athlete1\",\"Athlete1\",\"Athlete1\",\"Athlete1\",\"Athlete1\",\"Athlete1\",\"Athlete1\",\"Athlete1\",\"Athlete1\",\"Athlete1\",\"Athlete1\",\"Athlete1\",\"Athlete1\",\"Athlete1\",\"Athlete1\",\"Athlete1\",\"Athlete1\",\"Athlete1\",\"Athlete1\",\"Athlete1\",\"Athlete1\",\"Athlete1\",\"Athlete1\",\"Athlete1\",\"Athlete1\",\"Athlete1\",\"Athlete1\",\"Athlete1\",\"Athlete1\",\"Athlete1\",\"Athlete1\",\"Athlete1\",\"Athlete1\",\"Athlete1\",\"Athlete1\",\"Athlete1\",\"Athlete1\",\"Athlete1\",\"Athlete1\",\"Athlete1\",\"Athlete1\",\"Athlete1\",\"Athlete1\",\"Athlete1\",\"Athlete1\",\"Athlete1\",\"Athlete1\",\"Athlete1\",\"Athlete1\",\"Athlete1\",\"Athlete1\",\"Athlete1\",\"Athlete1\",\"Athlete1\",\"Athlete1\",\"Athlete1\",\"Athlete1\",\"Athlete1\",\"Athlete1\",\"Athlete1\",\"Athlete1\",\"Athlete1\",\"Athlete1\",\"Athlete1\",\"Athlete1\",\"Athlete1\",\"Athlete1\",\"Athlete1\",\"Athlete1\",\"Athlete1\",\"Athlete1\",\"Athlete1\",\"Athlete1\",\"Athlete1\",\"Athlete1\",\"Athlete1\",\"Athlete1\",\"Athlete1\",\"Athlete1\",\"Athlete1\",\"Athlete1\",\"Athlete1\",\"Athlete1\",\"Athlete1\",\"Athlete1\",\"Athlete1\",\"Athlete1\",\"Athlete1\",\"Athlete1\",\"Athlete1\",\"Athlete1\",\"Athlete1\",\"Athlete1\",\"Athlete1\",\"Athlete1\",\"Athlete1\",\"Athlete1\",\"Athlete1\",\"Athlete1\",\"Athlete1\",\"Athlete1\",\"Athlete1\",\"Athlete1\",\"Athlete1\",\"Athlete1\",\"Athlete1\",\"Athlete1\",\"Athlete1\",\"Athlete1\",\"Athlete1\",\"Athlete1\",\"Athlete1\",\"Athlete1\",\"Athlete1\",\"Athlete1\",\"Athlete1\",\"Athlete1\",\"Athlete1\",\"Athlete1\",\"Athlete1\",\"Athlete1\",\"Athlete1\",\"Athlete1\",\"Athlete1\",\"Athlete1\",\"Athlete1\",\"Athlete1\",\"Athlete1\",\"Athlete1\",\"Athlete1\",\"Athlete1\",\"Athlete1\",\"Athlete1\",\"Athlete1\",\"Athlete1\",\"Athlete1\",\"Athlete1\",\"Athlete1\",\"Athlete1\",\"Athlete1\",\"Athlete1\",\"Athlete1\",\"Athlete1\",\"Athlete1\",\"Athlete1\",\"Athlete1\",\"Athlete1\",\"Athlete1\",\"Athlete1\",\"Athlete1\",\"Athlete1\",\"Athlete1\",\"Athlete1\",\"Athlete1\",\"Athlete1\",\"Athlete1\",\"Athlete1\",\"Athlete1\",\"Athlete1\",\"Athlete1\",\"Athlete1\",\"Athlete1\",\"Athlete1\",\"Athlete1\",\"Athlete1\",\"Athlete1\",\"Athlete1\",\"Athlete1\",\"Athlete1\",\"Athlete1\",\"Athlete1\",\"Athlete1\",\"Athlete1\",\"Athlete1\",\"Athlete1\",\"Athlete1\",\"Athlete1\",\"Athlete1\",\"Athlete1\",\"Athlete1\",\"Athlete1\",\"Athlete1\",\"Athlete1\",\"Athlete1\",\"Athlete1\",\"Athlete1\",\"Athlete1\",\"Athlete1\",\"Athlete1\",\"Athlete1\",\"Athlete1\",\"Athlete1\",\"Athlete1\",\"Athlete1\",\"Athlete1\",\"Athlete1\",\"Athlete1\",\"Athlete1\",\"Athlete1\",\"Athlete1\",\"Athlete1\",\"Athlete1\",\"Athlete1\",\"Athlete1\",\"Athlete1\",\"Athlete1\",\"Athlete1\",\"Athlete1\",\"Athlete1\",\"Athlete1\",\"Athlete1\",\"Athlete1\",\"Athlete1\",\"Athlete1\",\"Athlete1\",\"Athlete1\",\"Athlete1\",\"Athlete1\",\"Athlete1\",\"Athlete1\",\"Athlete1\",\"Athlete1\",\"Athlete1\",\"Athlete1\",\"Athlete1\",\"Athlete1\",\"Athlete1\",\"Athlete1\",\"Athlete1\",\"Athlete1\",\"Athlete1\",\"Athlete1\",\"Athlete1\",\"Athlete1\",\"Athlete1\",\"Athlete1\",\"Athlete1\",\"Athlete1\",\"Athlete1\",\"Athlete1\",\"Athlete1\",\"Athlete1\",\"Athlete1\",\"Athlete1\",\"Athlete1\",\"Athlete1\",\"Athlete1\",\"Athlete1\",\"Athlete1\",\"Athlete1\",\"Athlete1\",\"Athlete1\",\"Athlete1\",\"Athlete1\",\"Athlete1\",\"Athlete1\",\"Athlete1\",\"Athlete1\",\"Athlete1\",\"Athlete1\",\"Athlete1\",\"Athlete1\",\"Athlete1\",\"Athlete1\",\"Athlete1\",\"Athlete1\",\"Athlete1\",\"Athlete1\",\"Athlete1\",\"Athlete1\",\"Athlete1\",\"Athlete1\",\"Athlete1\",\"Athlete1\",\"Athlete1\",\"Athlete1\",\"Athlete1\",\"Athlete1\",\"Athlete1\",\"Athlete1\",\"Athlete1\",\"Athlete1\",\"Athlete1\",\"Athlete1\",\"Athlete1\",\"Athlete1\",\"Athlete1\",\"Athlete1\",\"Athlete1\",\"Athlete1\",\"Athlete1\",\"Athlete1\",\"Athlete1\",\"Athlete1\",\"Athlete1\",\"Athlete1\",\"Athlete1\",\"Athlete1\",\"Athlete1\",\"Athlete1\",\"Athlete1\",\"Athlete1\",\"Athlete1\",\"Athlete1\",\"Athlete1\",\"Athlete1\",\"Athlete1\",\"Athlete1\",\"Athlete1\",\"Athlete1\",\"Athlete1\",\"Athlete1\",\"Athlete1\",\"Athlete1\",\"Athlete1\",\"Athlete1\",\"Athlete1\",\"Athlete1\",\"Athlete1\",\"Athlete1\",\"Athlete1\",\"Athlete1\",\"Athlete1\",\"Athlete1\",\"Athlete1\",\"Athlete1\",\"Athlete1\",\"Athlete1\",\"Athlete1\",\"Athlete1\",\"Athlete1\",\"Athlete1\",\"Athlete1\",\"Athlete1\",\"Athlete1\",\"Athlete1\",\"Athlete1\",\"Athlete1\",\"Athlete1\",\"Athlete1\",\"Athlete1\",\"Athlete1\",\"Athlete1\",\"Athlete1\",\"Athlete1\",\"Athlete1\",\"Athlete1\",\"Athlete1\",\"Athlete1\",\"Athlete1\",\"Athlete1\",\"Athlete1\",\"Athlete1\",\"Athlete1\",\"Athlete1\",\"Athlete1\",\"Athlete1\",\"Athlete1\",\"Athlete1\",\"Athlete1\",\"Athlete1\",\"Athlete1\",\"Athlete1\",\"Athlete1\",\"Athlete1\",\"Athlete1\",\"Athlete1\",\"Athlete1\",\"Athlete1\",\"Athlete1\",\"Athlete1\",\"Athlete1\",\"Athlete1\",\"Athlete1\",\"Athlete1\",\"Athlete1\",\"Athlete1\",\"Athlete1\",\"Athlete1\",\"Athlete1\",\"Athlete1\",\"Athlete1\",\"Athlete1\",\"Athlete1\",\"Athlete1\",\"Athlete1\",\"Athlete1\",\"Athlete1\",\"Athlete1\",\"Athlete1\",\"Athlete1\",\"Athlete1\",\"Athlete1\",\"Athlete1\",\"Athlete1\",\"Athlete1\",\"Athlete1\",\"Athlete1\",\"Athlete1\",\"Athlete1\",\"Athlete1\",\"Athlete1\",\"Athlete1\",\"Athlete1\",\"Athlete1\",\"Athlete1\",\"Athlete1\",\"Athlete1\",\"Athlete1\",\"Athlete1\",\"Athlete1\",\"Athlete1\",\"Athlete1\",\"Athlete1\",\"Athlete1\",\"Athlete1\",\"Athlete1\",\"Athlete1\",\"Athlete1\",\"Athlete1\",\"Athlete1\",\"Athlete1\",\"Athlete1\",\"Athlete1\",\"Athlete1\",\"Athlete1\",\"Athlete1\",\"Athlete1\",\"Athlete1\",\"Athlete1\",\"Athlete1\",\"Athlete1\",\"Athlete1\",\"Athlete1\",\"Athlete1\",\"Athlete1\",\"Athlete1\",\"Athlete1\",\"Athlete1\",\"Athlete1\",\"Athlete1\",\"Athlete1\",\"Athlete1\",\"Athlete1\",\"Athlete1\",\"Athlete1\",\"Athlete1\",\"Athlete1\",\"Athlete1\",\"Athlete1\",\"Athlete1\",\"Athlete1\",\"Athlete1\",\"Athlete1\",\"Athlete1\",\"Athlete1\",\"Athlete1\",\"Athlete1\",\"Athlete1\",\"Athlete1\",\"Athlete1\",\"Athlete1\",\"Athlete1\",\"Athlete1\",\"Athlete1\",\"Athlete1\",\"Athlete1\",\"Athlete1\",\"Athlete1\",\"Athlete1\",\"Athlete1\",\"Athlete1\",\"Athlete1\",\"Athlete1\",\"Athlete1\",\"Athlete1\",\"Athlete1\",\"Athlete1\",\"Athlete1\",\"Athlete1\",\"Athlete1\",\"Athlete1\",\"Athlete1\",\"Athlete1\",\"Athlete1\",\"Athlete1\",\"Athlete1\",\"Athlete1\",\"Athlete1\",\"Athlete1\",\"Athlete1\",\"Athlete1\",\"Athlete1\",\"Athlete1\",\"Athlete1\",\"Athlete1\",\"Athlete1\",\"Athlete1\",\"Athlete1\",\"Athlete1\",\"Athlete1\",\"Athlete1\",\"Athlete1\",\"Athlete1\",\"Athlete1\",\"Athlete1\",\"Athlete1\",\"Athlete1\",\"Athlete1\",\"Athlete1\",\"Athlete1\",\"Athlete1\",\"Athlete1\",\"Athlete1\",\"Athlete1\",\"Athlete1\",\"Athlete1\",\"Athlete1\",\"Athlete1\",\"Athlete1\",\"Athlete1\",\"Athlete1\",\"Athlete1\",\"Athlete1\",\"Athlete1\",\"Athlete1\",\"Athlete1\",\"Athlete1\",\"Athlete1\",\"Athlete1\",\"Athlete1\",\"Athlete1\",\"Athlete1\",\"Athlete1\",\"Athlete1\",\"Athlete1\",\"Athlete1\",\"Athlete1\",\"Athlete1\",\"Athlete1\",\"Athlete1\",\"Athlete1\",\"Athlete1\",\"Athlete1\",\"Athlete1\",\"Athlete1\",\"Athlete1\",\"Athlete1\",\"Athlete1\",\"Athlete1\",\"Athlete1\",\"Athlete1\",\"Athlete1\",\"Athlete1\",\"Athlete1\",\"Athlete1\",\"Athlete1\",\"Athlete1\",\"Athlete1\",\"Athlete1\",\"Athlete1\",\"Athlete1\",\"Athlete1\",\"Athlete1\",\"Athlete1\",\"Athlete1\",\"Athlete1\",\"Athlete1\",\"Athlete1\",\"Athlete1\",\"Athlete1\",\"Athlete1\",\"Athlete1\",\"Athlete1\",\"Athlete1\",\"Athlete1\",\"Athlete1\",\"Athlete1\",\"Athlete1\",\"Athlete1\",\"Athlete1\",\"Athlete1\",\"Athlete1\",\"Athlete1\",\"Athlete1\",\"Athlete1\",\"Athlete1\",\"Athlete1\",\"Athlete1\",\"Athlete1\",\"Athlete1\",\"Athlete1\",\"Athlete1\",\"Athlete1\",\"Athlete1\",\"Athlete1\",\"Athlete1\",\"Athlete1\",\"Athlete1\",\"Athlete1\",\"Athlete1\",\"Athlete1\",\"Athlete1\",\"Athlete1\",\"Athlete1\",\"Athlete1\",\"Athlete1\",\"Athlete1\",\"Athlete1\",\"Athlete1\",\"Athlete1\",\"Athlete1\",\"Athlete1\",\"Athlete1\",\"Athlete1\",\"Athlete1\",\"Athlete1\",\"Athlete1\",\"Athlete1\",\"Athlete1\",\"Athlete1\",\"Athlete1\",\"Athlete1\",\"Athlete1\",\"Athlete1\",\"Athlete1\",\"Athlete1\",\"Athlete1\",\"Athlete1\",\"Athlete1\",\"Athlete1\",\"Athlete1\",\"Athlete1\",\"Athlete1\",\"Athlete1\",\"Athlete1\",\"Athlete1\",\"Athlete1\",\"Athlete1\",\"Athlete1\",\"Athlete1\",\"Athlete1\",\"Athlete1\",\"Athlete1\",\"Athlete1\",\"Athlete1\",\"Athlete1\",\"Athlete1\",\"Athlete1\",\"Athlete1\",\"Athlete1\",\"Athlete1\",\"Athlete1\",\"Athlete1\",\"Athlete1\",\"Athlete1\",\"Athlete1\",\"Athlete1\",\"Athlete1\",\"Athlete1\",\"Athlete1\",\"Athlete1\",\"Athlete1\",\"Athlete1\",\"Athlete1\",\"Athlete1\",\"Athlete1\",\"Athlete1\",\"Athlete1\",\"Athlete1\",\"Athlete1\",\"Athlete1\",\"Athlete1\",\"Athlete1\",\"Athlete1\",\"Athlete1\",\"Athlete1\",\"Athlete1\",\"Athlete1\",\"Athlete1\",\"Athlete1\",\"Athlete1\",\"Athlete1\",\"Athlete1\",\"Athlete1\",\"Athlete1\",\"Athlete1\",\"Athlete1\",\"Athlete1\",\"Athlete1\",\"Athlete1\",\"Athlete1\",\"Athlete1\",\"Athlete1\",\"Athlete1\",\"Athlete1\",\"Athlete1\",\"Athlete1\",\"Athlete1\",\"Athlete1\",\"Athlete1\",\"Athlete1\",\"Athlete1\",\"Athlete1\",\"Athlete1\",\"Athlete1\",\"Athlete1\",\"Athlete1\",\"Athlete1\",\"Athlete1\",\"Athlete1\",\"Athlete1\",\"Athlete1\",\"Athlete1\",\"Athlete1\",\"Athlete1\",\"Athlete1\",\"Athlete1\",\"Athlete1\",\"Athlete1\",\"Athlete1\",\"Athlete1\",\"Athlete1\",\"Athlete1\",\"Athlete1\",\"Athlete1\",\"Athlete1\",\"Athlete1\",\"Athlete1\",\"Athlete1\",\"Athlete1\",\"Athlete1\",\"Athlete1\",\"Athlete1\",\"Athlete1\",\"Athlete1\",\"Athlete1\",\"Athlete1\",\"Athlete1\",\"Athlete1\",\"Athlete1\",\"Athlete1\",\"Athlete1\",\"Athlete1\",\"Athlete1\",\"Athlete1\",\"Athlete1\",\"Athlete1\",\"Athlete1\",\"Athlete1\",\"Athlete1\",\"Athlete1\",\"Athlete1\",\"Athlete1\",\"Athlete1\",\"Athlete1\",\"Athlete1\",\"Athlete1\",\"Athlete1\",\"Athlete1\",\"Athlete1\",\"Athlete1\",\"Athlete1\",\"Athlete1\",\"Athlete1\",\"Athlete1\",\"Athlete1\",\"Athlete1\",\"Athlete1\",\"Athlete1\",\"Athlete1\",\"Athlete1\",\"Athlete1\",\"Athlete1\",\"Athlete1\",\"Athlete1\",\"Athlete1\",\"Athlete1\",\"Athlete1\",\"Athlete1\",\"Athlete1\",\"Athlete1\",\"Athlete1\",\"Athlete1\",\"Athlete1\",\"Athlete1\",\"Athlete1\",\"Athlete1\",\"Athlete1\",\"Athlete1\",\"Athlete1\",\"Athlete1\",\"Athlete1\",\"Athlete1\",\"Athlete1\",\"Athlete1\",\"Athlete1\",\"Athlete1\",\"Athlete1\",\"Athlete1\",\"Athlete1\",\"Athlete1\",\"Athlete1\",\"Athlete1\",\"Athlete1\",\"Athlete1\",\"Athlete1\",\"Athlete1\",\"Athlete1\",\"Athlete1\",\"Athlete1\",\"Athlete1\",\"Athlete1\",\"Athlete1\",\"Athlete1\",\"Athlete1\",\"Athlete1\",\"Athlete1\",\"Athlete1\",\"Athlete1\",\"Athlete1\",\"Athlete1\",\"Athlete1\",\"Athlete1\",\"Athlete1\",\"Athlete1\",\"Athlete1\",\"Athlete1\",\"Athlete1\",\"Athlete1\",\"Athlete1\",\"Athlete1\",\"Athlete1\",\"Athlete1\",\"Athlete1\",\"Athlete1\",\"Athlete1\",\"Athlete1\",\"Athlete1\",\"Athlete1\",\"Athlete1\",\"Athlete1\",\"Athlete1\",\"Athlete1\",\"Athlete1\",\"Athlete1\",\"Athlete1\",\"Athlete1\",\"Athlete1\",\"Athlete1\",\"Athlete1\",\"Athlete1\",\"Athlete1\",\"Athlete1\",\"Athlete1\",\"Athlete1\",\"Athlete1\",\"Athlete1\",\"Athlete1\",\"Athlete1\",\"Athlete1\",\"Athlete1\",\"Athlete1\",\"Athlete1\",\"Athlete1\",\"Athlete1\",\"Athlete1\",\"Athlete1\",\"Athlete1\",\"Athlete1\",\"Athlete1\",\"Athlete1\",\"Athlete1\",\"Athlete1\",\"Athlete1\",\"Athlete1\",\"Athlete1\",\"Athlete1\",\"Athlete1\",\"Athlete1\",\"Athlete1\",\"Athlete1\",\"Athlete1\",\"Athlete1\",\"Athlete1\",\"Athlete1\",\"Athlete1\",\"Athlete1\",\"Athlete1\",\"Athlete1\",\"Athlete1\",\"Athlete1\",\"Athlete1\",\"Athlete1\",\"Athlete1\",\"Athlete1\",\"Athlete1\",\"Athlete1\",\"Athlete1\",\"Athlete1\",\"Athlete1\",\"Athlete1\",\"Athlete1\",\"Athlete1\",\"Athlete1\",\"Athlete1\",\"Athlete1\",\"Athlete1\",\"Athlete1\",\"Athlete1\",\"Athlete1\",\"Athlete1\",\"Athlete1\",\"Athlete1\",\"Athlete1\",\"Athlete1\",\"Athlete1\",\"Athlete1\",\"Athlete1\",\"Athlete1\",\"Athlete1\",\"Athlete1\",\"Athlete1\",\"Athlete1\",\"Athlete1\",\"Athlete1\",\"Athlete1\",\"Athlete1\",\"Athlete1\",\"Athlete1\",\"Athlete1\",\"Athlete1\",\"Athlete1\",\"Athlete1\",\"Athlete1\",\"Athlete1\",\"Athlete1\",\"Athlete1\",\"Athlete1\",\"Athlete1\",\"Athlete1\",\"Athlete1\",\"Athlete1\",\"Athlete1\",\"Athlete1\",\"Athlete1\",\"Athlete1\",\"Athlete1\",\"Athlete1\",\"Athlete1\",\"Athlete1\",\"Athlete1\",\"Athlete1\",\"Athlete1\",\"Athlete1\",\"Athlete1\",\"Athlete1\",\"Athlete1\",\"Athlete1\",\"Athlete1\",\"Athlete1\",\"Athlete1\",\"Athlete1\",\"Athlete1\",\"Athlete1\",\"Athlete1\",\"Athlete1\",\"Athlete1\",\"Athlete1\",\"Athlete1\",\"Athlete1\",\"Athlete1\",\"Athlete1\",\"Athlete1\",\"Athlete1\",\"Athlete1\",\"Athlete1\",\"Athlete1\",\"Athlete1\",\"Athlete1\",\"Athlete1\",\"Athlete1\",\"Athlete1\",\"Athlete1\",\"Athlete1\",\"Athlete1\",\"Athlete1\",\"Athlete1\",\"Athlete1\",\"Athlete1\",\"Athlete1\",\"Athlete1\",\"Athlete1\",\"Athlete1\",\"Athlete1\",\"Athlete1\",\"Athlete1\",\"Athlete1\",\"Athlete1\",\"Athlete1\",\"Athlete1\",\"Athlete1\",\"Athlete1\",\"Athlete1\",\"Athlete1\",\"Athlete1\",\"Athlete1\",\"Athlete1\",\"Athlete1\",\"Athlete1\",\"Athlete1\",\"Athlete1\",\"Athlete1\",\"Athlete1\",\"Athlete1\",\"Athlete1\",\"Athlete1\",\"Athlete1\",\"Athlete1\",\"Athlete1\",\"Athlete1\",\"Athlete1\",\"Athlete1\",\"Athlete1\",\"Athlete1\",\"Athlete1\",\"Athlete1\",\"Athlete1\",\"Athlete1\",\"Athlete1\",\"Athlete1\",\"Athlete1\",\"Athlete1\",\"Athlete1\",\"Athlete1\",\"Athlete1\",\"Athlete1\",\"Athlete1\",\"Athlete1\",\"Athlete1\",\"Athlete1\",\"Athlete1\",\"Athlete1\",\"Athlete1\",\"Athlete1\",\"Athlete1\",\"Athlete1\",\"Athlete1\",\"Athlete1\",\"Athlete1\",\"Athlete1\",\"Athlete1\",\"Athlete1\",\"Athlete1\",\"Athlete1\",\"Athlete1\",\"Athlete1\",\"Athlete1\",\"Athlete1\",\"Athlete1\",\"Athlete1\",\"Athlete1\",\"Athlete1\",\"Athlete1\",\"Athlete1\",\"Athlete1\",\"Athlete1\",\"Athlete1\",\"Athlete1\",\"Athlete1\",\"Athlete1\",\"Athlete1\",\"Athlete1\",\"Athlete1\",\"Athlete1\",\"Athlete1\",\"Athlete1\",\"Athlete1\",\"Athlete1\",\"Athlete1\",\"Athlete1\",\"Athlete1\",\"Athlete1\",\"Athlete1\",\"Athlete1\",\"Athlete1\",\"Athlete1\",\"Athlete1\",\"Athlete1\",\"Athlete1\",\"Athlete1\",\"Athlete1\",\"Athlete1\",\"Athlete1\",\"Athlete1\",\"Athlete1\",\"Athlete1\",\"Athlete1\",\"Athlete1\",\"Athlete1\",\"Athlete1\",\"Athlete1\",\"Athlete1\",\"Athlete1\",\"Athlete1\",\"Athlete1\",\"Athlete1\",\"Athlete1\",\"Athlete1\",\"Athlete1\",\"Athlete1\",\"Athlete1\",\"Athlete1\",\"Athlete1\",\"Athlete1\",\"Athlete1\",\"Athlete1\",\"Athlete1\",\"Athlete1\",\"Athlete1\",\"Athlete1\",\"Athlete1\",\"Athlete1\",\"Athlete1\",\"Athlete1\",\"Athlete1\",\"Athlete1\",\"Athlete1\",\"Athlete1\",\"Athlete1\",\"Athlete1\",\"Athlete1\",\"Athlete1\",\"Athlete1\",\"Athlete1\",\"Athlete1\",\"Athlete1\",\"Athlete1\",\"Athlete1\",\"Athlete1\",\"Athlete1\",\"Athlete1\",\"Athlete1\",\"Athlete1\",\"Athlete1\",\"Athlete1\",\"Athlete1\",\"Athlete1\",\"Athlete1\",\"Athlete1\",\"Athlete1\",\"Athlete1\",\"Athlete1\",\"Athlete1\",\"Athlete1\",\"Athlete1\",\"Athlete1\",\"Athlete1\",\"Athlete1\",\"Athlete1\",\"Athlete1\",\"Athlete1\",\"Athlete1\",\"Athlete1\",\"Athlete1\",\"Athlete1\",\"Athlete1\",\"Athlete1\",\"Athlete1\",\"Athlete1\",\"Athlete1\",\"Athlete1\",\"Athlete1\",\"Athlete1\",\"Athlete1\",\"Athlete1\",\"Athlete1\",\"Athlete1\",\"Athlete1\",\"Athlete1\",\"Athlete1\",\"Athlete1\",\"Athlete1\",\"Athlete1\",\"Athlete1\",\"Athlete1\",\"Athlete1\",\"Athlete1\",\"Athlete1\",\"Athlete1\",\"Athlete1\",\"Athlete1\",\"Athlete1\",\"Athlete1\",\"Athlete1\",\"Athlete1\",\"Athlete1\",\"Athlete1\",\"Athlete1\",\"Athlete1\",\"Athlete1\",\"Athlete1\",\"Athlete1\",\"Athlete1\",\"Athlete1\",\"Athlete1\",\"Athlete1\",\"Athlete1\",\"Athlete1\",\"Athlete1\",\"Athlete1\",\"Athlete1\",\"Athlete1\",\"Athlete1\",\"Athlete1\",\"Athlete1\",\"Athlete1\",\"Athlete1\",\"Athlete1\",\"Athlete1\",\"Athlete1\",\"Athlete1\",\"Athlete1\",\"Athlete1\",\"Athlete1\",\"Athlete1\",\"Athlete1\",\"Athlete1\",\"Athlete1\",\"Athlete1\",\"Athlete1\",\"Athlete1\",\"Athlete1\",\"Athlete1\",\"Athlete1\",\"Athlete1\",\"Athlete1\",\"Athlete1\",\"Athlete1\",\"Athlete1\",\"Athlete1\",\"Athlete1\",\"Athlete1\",\"Athlete1\",\"Athlete1\",\"Athlete1\",\"Athlete1\",\"Athlete1\",\"Athlete1\",\"Athlete1\",\"Athlete1\",\"Athlete1\",\"Athlete1\",\"Athlete1\",\"Athlete1\",\"Athlete1\",\"Athlete1\",\"Athlete1\",\"Athlete1\",\"Athlete1\",\"Athlete1\",\"Athlete1\",\"Athlete1\",\"Athlete1\",\"Athlete1\",\"Athlete1\",\"Athlete1\",\"Athlete1\",\"Athlete1\",\"Athlete1\",\"Athlete1\",\"Athlete1\",\"Athlete1\",\"Athlete1\",\"Athlete1\",\"Athlete1\",\"Athlete1\",\"Athlete1\",\"Athlete1\",\"Athlete1\",\"Athlete1\",\"Athlete1\",\"Athlete1\",\"Athlete1\",\"Athlete1\",\"Athlete1\",\"Athlete1\",\"Athlete1\",\"Athlete1\",\"Athlete1\",\"Athlete1\",\"Athlete1\",\"Athlete1\",\"Athlete1\",\"Athlete1\",\"Athlete1\",\"Athlete1\",\"Athlete1\",\"Athlete1\",\"Athlete1\",\"Athlete1\",\"Athlete1\",\"Athlete1\",\"Athlete1\",\"Athlete1\",\"Athlete1\",\"Athlete1\",\"Athlete1\",\"Athlete1\",\"Athlete1\",\"Athlete1\",\"Athlete1\",\"Athlete1\",\"Athlete1\",\"Athlete1\",\"Athlete1\",\"Athlete1\",\"Athlete1\",\"Athlete1\",\"Athlete1\",\"Athlete1\",\"Athlete1\",\"Athlete1\",\"Athlete1\",\"Athlete1\",\"Athlete1\",\"Athlete1\",\"Athlete1\",\"Athlete1\",\"Athlete1\",\"Athlete1\",\"Athlete1\",\"Athlete1\",\"Athlete1\",\"Athlete1\",\"Athlete1\",\"Athlete1\",\"Athlete1\",\"Athlete1\",\"Athlete1\",\"Athlete1\",\"Athlete1\",\"Athlete1\",\"Athlete1\",\"Athlete1\",\"Athlete1\",\"Athlete1\",\"Athlete1\",\"Athlete1\",\"Athlete1\",\"Athlete1\",\"Athlete1\",\"Athlete1\",\"Athlete1\",\"Athlete1\",\"Athlete1\",\"Athlete1\",\"Athlete1\",\"Athlete1\",\"Athlete1\",\"Athlete1\",\"Athlete1\",\"Athlete1\",\"Athlete1\",\"Athlete1\",\"Athlete1\",\"Athlete1\",\"Athlete1\",\"Athlete1\",\"Athlete1\",\"Athlete1\",\"Athlete1\",\"Athlete1\",\"Athlete1\",\"Athlete1\",\"Athlete1\",\"Athlete1\",\"Athlete1\",\"Athlete1\",\"Athlete1\",\"Athlete1\",\"Athlete1\",\"Athlete1\",\"Athlete1\",\"Athlete1\",\"Athlete1\",\"Athlete1\",\"Athlete1\",\"Athlete1\",\"Athlete1\",\"Athlete1\",\"Athlete1\",\"Athlete1\",\"Athlete1\",\"Athlete1\",\"Athlete1\",\"Athlete1\",\"Athlete1\",\"Athlete1\",\"Athlete1\",\"Athlete1\",\"Athlete1\",\"Athlete1\",\"Athlete1\",\"Athlete1\",\"Athlete1\",\"Athlete1\",\"Athlete1\",\"Athlete1\",\"Athlete1\",\"Athlete1\",\"Athlete1\",\"Athlete1\",\"Athlete1\",\"Athlete1\",\"Athlete1\",\"Athlete1\",\"Athlete1\",\"Athlete1\",\"Athlete1\",\"Athlete1\",\"Athlete1\",\"Athlete1\",\"Athlete1\",\"Athlete1\",\"Athlete1\",\"Athlete1\",\"Athlete1\",\"Athlete1\",\"Athlete1\",\"Athlete1\",\"Athlete1\",\"Athlete1\",\"Athlete1\",\"Athlete1\",\"Athlete1\",\"Athlete1\",\"Athlete1\",\"Athlete1\",\"Athlete1\",\"Athlete1\",\"Athlete1\",\"Athlete1\",\"Athlete1\",\"Athlete1\",\"Athlete1\",\"Athlete1\",\"Athlete1\",\"Athlete1\",\"Athlete1\",\"Athlete1\",\"Athlete1\",\"Athlete1\",\"Athlete1\",\"Athlete1\",\"Athlete1\",\"Athlete1\",\"Athlete1\",\"Athlete1\",\"Athlete1\",\"Athlete1\",\"Athlete1\",\"Athlete1\",\"Athlete1\",\"Athlete1\",\"Athlete1\",\"Athlete1\",\"Athlete1\",\"Athlete1\",\"Athlete1\",\"Athlete1\",\"Athlete1\",\"Athlete1\",\"Athlete1\",\"Athlete1\",\"Athlete1\",\"Athlete1\",\"Athlete1\",\"Athlete1\",\"Athlete1\",\"Athlete1\",\"Athlete1\",\"Athlete1\",\"Athlete1\",\"Athlete1\",\"Athlete1\",\"Athlete1\",\"Athlete1\",\"Athlete1\",\"Athlete1\",\"Athlete1\",\"Athlete1\",\"Athlete1\",\"Athlete1\",\"Athlete1\",\"Athlete1\",\"Athlete1\",\"Athlete1\",\"Athlete1\",\"Athlete1\",\"Athlete1\",\"Athlete1\",\"Athlete1\",\"Athlete1\",\"Athlete1\",\"Athlete1\",\"Athlete1\",\"Athlete1\",\"Athlete1\",\"Athlete1\",\"Athlete1\",\"Athlete1\",\"Athlete1\",\"Athlete1\",\"Athlete1\",\"Athlete1\",\"Athlete1\",\"Athlete1\",\"Athlete1\",\"Athlete1\",\"Athlete1\",\"Athlete1\",\"Athlete1\",\"Athlete1\",\"Athlete1\",\"Athlete1\",\"Athlete1\",\"Athlete1\",\"Athlete1\",\"Athlete1\",\"Athlete1\",\"Athlete1\",\"Athlete1\",\"Athlete1\",\"Athlete1\",\"Athlete1\",\"Athlete1\",\"Athlete1\",\"Athlete1\",\"Athlete1\",\"Athlete1\",\"Athlete1\",\"Athlete1\",\"Athlete1\",\"Athlete1\",\"Athlete1\",\"Athlete1\",\"Athlete1\",\"Athlete1\",\"Athlete1\",\"Athlete1\",\"Athlete1\",\"Athlete1\",\"Athlete1\",\"Athlete1\",\"Athlete1\",\"Athlete1\",\"Athlete1\",\"Athlete1\",\"Athlete1\",\"Athlete1\",\"Athlete1\",\"Athlete1\",\"Athlete1\",\"Athlete1\",\"Athlete1\",\"Athlete1\",\"Athlete1\",\"Athlete1\",\"Athlete1\",\"Athlete1\",\"Athlete1\",\"Athlete1\",\"Athlete1\",\"Athlete1\",\"Athlete1\",\"Athlete1\",\"Athlete1\",\"Athlete1\",\"Athlete1\",\"Athlete1\",\"Athlete1\",\"Athlete1\",\"Athlete1\",\"Athlete1\",\"Athlete1\",\"Athlete1\",\"Athlete1\",\"Athlete1\",\"Athlete1\",\"Athlete1\",\"Athlete1\",\"Athlete1\",\"Athlete1\",\"Athlete1\",\"Athlete1\",\"Athlete1\",\"Athlete1\",\"Athlete1\",\"Athlete1\",\"Athlete1\",\"Athlete1\",\"Athlete1\",\"Athlete1\",\"Athlete1\",\"Athlete1\",\"Athlete1\",\"Athlete1\",\"Athlete1\",\"Athlete1\",\"Athlete1\",\"Athlete1\",\"Athlete1\",\"Athlete1\",\"Athlete1\",\"Athlete1\",\"Athlete1\",\"Athlete1\",\"Athlete1\",\"Athlete1\",\"Athlete1\",\"Athlete1\",\"Athlete1\",\"Athlete1\",\"Athlete1\",\"Athlete1\",\"Athlete1\",\"Athlete1\",\"Athlete1\",\"Athlete1\",\"Athlete1\",\"Athlete1\",\"Athlete1\",\"Athlete1\",\"Athlete1\",\"Athlete1\",\"Athlete1\",\"Athlete1\",\"Athlete1\",\"Athlete1\",\"Athlete1\",\"Athlete1\",\"Athlete1\",\"Athlete1\",\"Athlete1\",\"Athlete1\",\"Athlete1\",\"Athlete1\",\"Athlete1\",\"Athlete1\",\"Athlete1\",\"Athlete1\",\"Athlete1\",\"Athlete1\",\"Athlete1\",\"Athlete1\",\"Athlete1\",\"Athlete1\",\"Athlete1\",\"Athlete1\",\"Athlete1\",\"Athlete1\",\"Athlete1\",\"Athlete1\",\"Athlete1\",\"Athlete1\",\"Athlete1\",\"Athlete1\",\"Athlete1\",\"Athlete1\",\"Athlete1\",\"Athlete1\",\"Athlete1\",\"Athlete1\",\"Athlete1\",\"Athlete1\",\"Athlete1\",\"Athlete1\",\"Athlete1\",\"Athlete1\",\"Athlete1\",\"Athlete1\",\"Athlete1\",\"Athlete1\",\"Athlete1\",\"Athlete1\",\"Athlete1\",\"Athlete1\",\"Athlete1\",\"Athlete1\",\"Athlete1\",\"Athlete1\",\"Athlete1\",\"Athlete1\",\"Athlete1\",\"Athlete1\",\"Athlete1\",\"Athlete1\",\"Athlete1\",\"Athlete1\",\"Athlete1\",\"Athlete1\",\"Athlete1\",\"Athlete1\",\"Athlete1\",\"Athlete1\",\"Athlete1\",\"Athlete1\",\"Athlete1\",\"Athlete1\",\"Athlete1\",\"Athlete1\",\"Athlete1\",\"Athlete1\",\"Athlete1\",\"Athlete1\",\"Athlete1\",\"Athlete1\",\"Athlete1\",\"Athlete1\",\"Athlete1\",\"Athlete1\",\"Athlete1\",\"Athlete1\",\"Athlete1\",\"Athlete1\",\"Athlete1\",\"Athlete1\",\"Athlete1\",\"Athlete1\",\"Athlete1\",\"Athlete1\",\"Athlete1\",\"Athlete1\",\"Athlete1\",\"Athlete1\",\"Athlete1\",\"Athlete1\",\"Athlete1\",\"Athlete1\",\"Athlete1\",\"Athlete1\",\"Athlete1\",\"Athlete1\",\"Athlete1\",\"Athlete1\",\"Athlete1\",\"Athlete1\",\"Athlete1\",\"Athlete1\",\"Athlete1\",\"Athlete1\",\"Athlete1\",\"Athlete1\",\"Athlete1\",\"Athlete1\",\"Athlete1\",\"Athlete1\",\"Athlete1\",\"Athlete1\",\"Athlete1\",\"Athlete1\",\"Athlete1\",\"Athlete1\",\"Athlete1\",\"Athlete1\",\"Athlete1\",\"Athlete1\"],\"distance\":[0,17,36,53,26,16,28,57,70,53,11,60,72,72,67,33,77,53,62,9,73,11,81,86,88,12,12,65,39,65,52,92,65,91,96,13,12,11,11,10,8,7,14,13,36,23,23,20,32,22,78,11,84,24,91,13,90,12,51,26,49,9,15,17,18,37,19,19,38,9,36,18,60,71,9,29,70,19,70,10,65,40,10,28,8,8,8,12,11,44,11,11,11,10,35,68,11,70,12,70,52,19,4,8,9,18,6,29,42,44,34,8,23,25,13,93,13,98,70,39,11,18,18,8,36,9,51,50,35,26,52,93,12,25,12,12,12,12,11,12,61,85,12,87,73,84,85,12,12,11,12,11,9,9,35,23,38,12,12,36,69,11,10,10,11,11,12,13,83,14,14,15,14,15,44,86,14,84,28,83,86,14,14,14,15,43,14,13,13,67,27,13,12,13,65,93,12,157,80,94,66,92,96,26,80,61,9,11,11,11,11,53,13,41,26,37,23,85,12,84,72,24,12,12,12,12,86,83,23,80,11,72,12,62,62,86,38,37,61,35,11,49,28,41,14,14,14,14,79,12,60,23,73,26,78,39,13,13,12,12,88,70,82,11,80,46,76,64,70,85,11,83,59,91,26,13,38,13,12,12,12,24,86,25,12,26,92,75,85,85,50,86,62,86,85,85,84,12,87,12,89,63,63,89,12,79,25,77,12,75,12,26,13,13,26,89,13,13,12,12,90,78,79,90,25,65,13,51,25,48,50,37,25,87,89,26,24,34,22,85,37,87,49,84,11,63,18,15,23,10,30,20,20,9,71,11,81,54,20,57,31,5,10,4,6,2,2,1,2,3,1,12,14,30,14,14,17,17,17,17,8,17,17,34,52,64,9,63,35,63,27,54,27,19,10,66,45,61,18,18,9,20,11,24,12,12,51,38,37,12,54,41,19,68,18,43,52,51,61,17,17,9,9,8,8,18,64,62,63,36,65,8,45,9,44,18,50,65,68,9,35,18,64,64,63,54,8,9,9,10,9,9,67,19,64,9,9,29,10,20,10,10,10,10,60,9,46,35,8,38,21,34,71,83,68,11,27,28,32,10,65,76,77,55,72,10,25,7,15,9,52,71,30,69,67,69,20,70,61,71,10,71,30,70,40,71,30,71,28,69,71,41,72,31,73,31,73,31,72,51,68,9,67,29,38,55,37,9,25,30,43,62,35,18,9,8,6,7,23,8,17,9,8,19,19,10,50,9,71,40,40,55,32,8,42,78,11,78,20,29,28,67,55,62,56,67,19,67,37,66,48,9,9,9,9,9,39,68,19,66,9,38,68,68,39,38,58,47,27,65,38,66,38,48,29,39,58,41,73,10,58,64,65,9,65,47,48,67,65,65,28,47,66,70,65,79,11,78,78,44,78,11,65,11,60,74,10,67,9,71,51,20,73,43,55,77,32,66,78,76,31,58,48,30,10,10,10,10,10,10,79,16,15,14,13,17,10,44,45,47,38,8,15,11,4,6,5,5,17,13,7,7,14,7,7,14,15,7,7,7,7,7,7,7,7,15,36,8,41,48,12,11,12,12,12,11,11,11,10,9,9,19,10,11,12,11,58,77,10,74,20,70,10,38,11,18,35,51,9,35,35,9,17,53,60,8,62,16,60,17,55,63,65,19,47,19,62,74,9,38,9,34,53,12,35,25,53,91,93,88,18,15,31,10,35,40,27,25,59,86,25,86,72,81,23,70,54,29,49,70,66,51,12,80,92,83,22,11,10,10,10,10,73,78,35,81,79,34,75,20,74,30,45,8,19,3,2,4,4,8,16,28,31,32,34,37,59,80,11,79,77,50,9,67,19,69,69,38,49,38,70,73,41,72,49,72,10,81,11,23,12,11,11,11,69,81,48,87,87,50,51,77,51,12,12,12,13,91,61,87,48,74,62,87,48,72,71,96,95,36,86,87,11,74,86,36,87,87,25,87,87,12,86,49,85,85,48,84,45,76,11,90,11,45,47,25,26,12,12,12,50,59,33,23,24,36,26,39,12,91,74,35,12,35,20,29,71,40,38,9,8,8,7,21,17,6,3,8,5,28,39,8,27,9,51,17,9,10,10,52,31,10,10,10,10,32,88,11,85,25,13,26,13,27,53,12,13,12,13,13,88,77,75,77,21,72,20,10,10,10,10,33,82,12,89,88,12,72,12,11,12,12,12,85,12,87,84,57,10,11,10,11,46,63,53,55,72,14,14,14,14,14,85,13,13,13,13,14,13,93,39,92,38,36,60,12,88,26,99,78,158,12,12,12,12,12,85,12,64,54,14,13,13,14,55,13,13,13,13,13,95,81,95,40,91,91,50,49,12,12,12,12,70,32,10,10,10,10,85,21,79,59,48,48,83,11,80,79,80,69,22,80,91,23,74,87,49,88,87,62,87,87,49,95,42,7,6,4,2,5,4,135,10,33,21,33,22,10,11,55,44,54,22,45,59,90,32,88,21,19,19,18,19,10,10,10,10,21,63,86,80,85,84,36,36,85,24,96,35,84,58,70,35,93,12,12,12,12,50,62,87,12,88,86,24,85,98,12,87,24,87,86,12,97,73,87,62,84,11,46,57,69,24,75,90,25,88,63,90,12,91,12,44,10,63,55,80,71,11,10,10,11,20,19,20,10,10,10,10,21,12,12,12,10,23,34,23,11,11,12,45,45,66,32,55,43,10,10,10,10,11,11,50,87,85,88,12,38,65,51,89,12,73,70,81,72,80,68,81,66,71,9,10,9,10,10,53,34,11,85,86,84,24,12,12,24,12,49,86,51,64,78,90,12,12,12,12,12,67,53,26,51,86,10,33,12,26,29,29,29,15,15,30,59,88,15,45,31,65,32,96,16,15,16,15,16,63,94,15,94,30,96,63,93,47,92,76,91,89,89,60,88,14,14,14,14,43,85,98,28,13,14,13,27,79,74,24,74,39,13,13,13,13,41,57,15,46,15,75,70,79,54,13,27,13,83,41,88,24,12,12,12,26,83,85,15,43,14,87,14,90,29,89,57,84,26,41,57,15,71,50,11,31,9,9,9,8,57,38,20,30,31,55,22,10,50,67,38,27,9,36,18,44,61,59,8,40,51,59,25,8,8,8,8,17,59,8,58,33,58,33,59,34,67,40,68,9,19,9,9,9,19,18,17,33,37,9,10,10,10,10,10,73,21,29,9,8,9,9,51,51,33,22,8,17,64,65,9,27,24,8,26,15,13,6,7,8,8,9,10,36,19,23,8,17,17,12,6,3,15,30,6,6,7,6,6,16,14,6,2,13,4,15,9,20,20,21,22,22,22,33,57,36,13,12,52,62,83,12,88,12,89,78,65,88,62,88,24,89,38,90,26,92,13,65,50,89,26,91,24,29,7,18,15,16,8,9,9,8,9,16,61,69,24,16,33,16,41,18,32,10,73,67,66,29,18,17,61,26,34,35,51,9,9,8,8,34,60,17,60,17,50,8,44,50,40,23,17,30,21,51,23,5,4,6,7,5,12,10,23,43,52,17,60,23,14,36,14,61,46,8,42,53,9,73,28,9,9,9,9,26,53,35,75,37,75,64,73,37,75,19,73,73,19,74,27,63,35,35,70,68,8,34,68,17,69,52,58,18,73,9,54,54,76,75,75,55,27,56,18,9,9,8,9,9,16,12,4,3,5,6,25,17,18,58,9,8,9,9,9,54,65,37,75,44,59,70,26,51,24,48,49,33,8,33,16,25,41,8,23,14,26,37,28,34,41,14,44,30,30,9,20,20,53,8,8,8,8,8,16,22,8,8,8,8,16,8,8,8,8,85,76,31,32,11,11,11,11,11,11,11,12,11,12,11,12,12,12,11,11,11,11,42,75,8,9,8,8,25,24,16,67,33,41,24,8,8,8,8,8,65,32,64,16,64,65,8,67,8,62,75,78,80,10,81,86,64,84,20,85,52,86,84,10,81,20,83,81,58,78,57,18,86,79,20,20,9,10,10,9,70,10,9,10,10,21,21,42,83,52,73,42,81,30,80,10,79,9,75,9,70,8,70,8,49,15,22,26,11,5,5,5,5,5,13,15,17,16,15,61,62,23,38,55,62,23,63,16,57,58,33,50,8,67,8,51,17,66,66,33,33,43,34,59,49,62,47,19,61,86,68,36,46,95,25,12,13,12,12,49,87,25,98,25,84,98,85,12,11,12,11,11,70,35,23,11,70,44,22,11,11,44,10,31,43,53,64,10,62,20,62,10,65,21,75,40,10,10,8,7,11,27,45,71,79,10,26,20,23,12,12,12,12,35,10,39,27,8,64,18,63,9,66,57,9,26,9,53,62,8,29,35,12,70,23,24,23,21,37,8,26,9,34,12,64,90,11,14,22,28,9,54,17,8,24,15,14,21,62,21,14,46,55,13,20,20,66,13,60,20,42,48,39,9,12,4,4,7,3,14,16,7,28,33,11,37,19,13,14,22,7,21,28,64,6,52,27,21,27,7,6,32,13,15,24,77,48,14,20,24,35,9,49,37,28,84,9,16,42,8,15,25,23,8,8,8,7,30,15,6,7,8,8,8,9,19,9,25,9,17,17,4,9,11,16,5,5,5,6,18,19,7,8,30,15,32,14,49,7,43,29,24,17,26,19,21,43,60,67,37,15,22,7,62,39,60,30,61,15,28,15,46,60,8,30,8,28,18,15,8,17,21,28,30,41,62,86,10,69,54,58,68,72,9,63,63,64,59,26,20,32,42,20,16,15,15,13,7,13,10,17,6,50,55,43,5,31,13,45,35,33,6,268,5],\"index\":[0,1,2,3,4,5,6,7,8,9,10,11,12,13,14,15,16,17,18,19,20,21,22,23,24,25,26,27,28,29,30,31,32,33,34,35,36,37,38,39,40,41,42,43,44,45,46,47,48,49,50,51,52,53,54,55,56,57,58,59,60,61,62,63,64,65,66,67,68,69,70,71,72,73,74,75,76,77,78,79,80,81,82,83,84,85,86,87,88,89,90,91,92,93,94,95,96,97,98,99,100,101,102,103,104,105,106,107,108,109,110,111,112,113,114,115,116,117,118,119,120,121,122,123,124,125,126,127,128,129,130,131,132,133,134,135,136,137,138,139,140,141,142,143,144,145,146,147,148,149,150,151,152,153,154,155,156,157,158,159,160,161,162,163,164,165,166,167,168,169,170,171,172,173,174,175,176,177,178,179,180,181,182,183,184,185,186,187,188,189,190,191,192,193,194,195,196,197,198,199,200,201,202,203,204,205,206,207,208,209,210,211,212,213,214,215,216,217,218,219,220,221,222,223,224,225,226,227,228,229,230,231,232,233,234,235,236,237,238,239,240,241,242,243,244,245,246,247,248,249,250,251,252,253,254,255,256,257,258,259,260,261,262,263,264,265,266,267,268,269,270,271,272,273,274,275,276,277,278,279,280,281,282,283,284,285,286,287,288,289,290,291,292,293,294,295,296,297,298,299,300,301,302,303,304,305,306,307,308,309,310,311,312,313,314,315,316,317,318,319,320,321,322,323,324,325,326,327,328,329,330,331,332,333,334,335,336,337,338,339,340,341,342,343,344,345,346,347,348,349,350,351,352,353,354,355,356,357,358,359,360,361,362,363,364,365,366,367,368,369,370,371,372,373,374,375,376,377,378,379,380,381,382,383,384,385,386,387,388,389,390,391,392,393,394,395,396,397,398,399,400,401,402,403,404,405,406,407,408,409,410,411,412,413,414,415,416,417,418,419,420,421,422,423,424,425,426,427,428,429,430,431,432,433,434,435,436,437,438,439,440,441,442,443,444,445,446,447,448,449,450,451,452,453,454,455,456,457,458,459,460,461,462,463,464,465,466,467,468,469,470,471,472,473,474,475,476,477,478,479,480,481,482,483,484,485,486,487,488,489,490,491,492,493,494,495,496,497,498,499,500,501,502,503,504,505,506,507,508,509,510,511,512,513,514,515,516,517,518,519,520,521,522,523,524,525,526,527,528,529,530,531,532,533,534,535,536,537,538,539,540,541,542,543,544,545,546,547,548,549,550,551,552,553,554,555,556,557,558,559,560,561,562,563,564,565,566,567,568,569,570,571,572,573,574,575,576,577,578,579,580,581,582,583,584,585,586,587,588,589,590,591,592,593,594,595,596,597,598,599,600,601,602,603,604,605,606,607,608,609,610,611,612,613,614,615,616,617,618,619,620,621,622,623,624,625,626,627,628,629,630,631,632,633,634,635,636,637,638,639,640,641,642,643,644,645,646,647,648,649,650,651,652,653,654,655,656,657,658,659,660,661,662,663,664,665,666,667,668,669,670,671,672,673,674,675,676,677,678,679,680,681,682,683,684,685,686,687,688,689,690,691,692,693,694,695,696,697,698,699,700,701,702,703,704,705,706,707,708,709,710,711,712,713,714,715,716,717,718,719,720,721,722,723,724,725,726,727,728,729,730,731,732,733,734,735,736,737,738,739,740,741,742,743,744,745,746,747,748,749,750,751,752,753,754,755,756,757,758,759,760,761,762,763,764,765,766,767,768,769,770,771,772,773,774,775,776,777,778,779,780,781,782,783,784,785,786,787,788,789,790,791,792,793,794,795,796,797,798,799,800,801,802,803,804,805,806,807,808,809,810,811,812,813,814,815,816,817,818,819,820,821,822,823,824,825,826,827,828,829,830,831,832,833,834,835,836,837,838,839,840,841,842,843,844,845,846,847,848,849,850,851,852,853,854,855,856,857,858,859,860,861,862,863,864,865,866,867,868,869,870,871,872,873,874,875,876,877,878,879,880,881,882,883,884,885,886,887,888,889,890,891,892,893,894,895,896,897,898,899,900,901,902,903,904,905,906,907,908,909,910,911,912,913,914,915,916,917,918,919,920,921,922,923,924,925,926,927,928,929,930,931,932,933,934,935,936,937,938,939,940,941,942,943,944,945,946,947,948,949,950,951,952,953,954,955,956,957,958,959,960,961,962,963,964,965,966,967,968,969,970,971,972,973,974,975,976,977,978,979,980,981,982,983,984,985,986,987,988,989,990,991,992,993,994,995,996,997,998,999,1000,1001,1002,1003,1004,1005,1006,1007,1008,1009,1010,1011,1012,1013,1014,1015,1016,1017,1018,1019,1020,1021,1022,1023,1024,1025,1026,1027,1028,1029,1030,1031,1032,1033,1034,1035,1036,1037,1038,1039,1040,1041,1042,1043,1044,1045,1046,1047,1048,1049,1050,1051,1052,1053,1054,1055,1056,1057,1058,1059,1060,1061,1062,1063,1064,1065,1066,1067,1068,1069,1070,1071,1072,1073,1074,1075,1076,1077,1078,1079,1080,1081,1082,1083,1084,1085,1086,1087,1088,1089,1090,1091,1092,1093,1094,1095,1096,1097,1098,1099,1100,1101,1102,1103,1104,1105,1106,1107,1108,1109,1110,1111,1112,1113,1114,1115,1116,1117,1118,1119,1120,1121,1122,1123,1124,1125,1126,1127,1128,1129,1130,1131,1132,1133,1134,1135,1136,1137,1138,1139,1140,1141,1142,1143,1144,1145,1146,1147,1148,1149,1150,1151,1152,1153,1154,1155,1156,1157,1158,1159,1160,1161,1162,1163,1164,1165,1166,1167,1168,1169,1170,1171,1172,1173,1174,1175,1176,1177,1178,1179,1180,1181,1182,1183,1184,1185,1186,1187,1188,1189,1190,1191,1192,1193,1194,1195,1196,1197,1198,1199,1200,1201,1202,1203,1204,1205,1206,1207,1208,1209,1210,1211,1212,1213,1214,1215,1216,1217,1218,1219,1220,1221,1222,1223,1224,1225,1226,1227,1228,1229,1230,1231,1232,1233,1234,1235,1236,1237,1238,1239,1240,1241,1242,1243,1244,1245,1246,1247,1248,1249,1250,1251,1252,1253,1254,1255,1256,1257,1258,1259,1260,1261,1262,1263,1264,1265,1266,1267,1268,1269,1270,1271,1272,1273,1274,1275,1276,1277,1278,1279,1280,1281,1282,1283,1284,1285,1286,1287,1288,1289,1290,1291,1292,1293,1294,1295,1296,1297,1298,1299,1300,1301,1302,1303,1304,1305,1306,1307,1308,1309,1310,1311,1312,1313,1314,1315,1316,1317,1318,1319,1320,1321,1322,1323,1324,1325,1326,1327,1328,1329,1330,1331,1332,1333,1334,1335,1336,1337,1338,1339,1340,1341,1342,1343,1344,1345,1346,1347,1348,1349,1350,1351,1352,1353,1354,1355,1356,1357,1358,1359,1360,1361,1362,1363,1364,1365,1366,1367,1368,1369,1370,1371,1372,1373,1374,1375,1376,1377,1378,1379,1380,1381,1382,1383,1384,1385,1386,1387,1388,1389,1390,1391,1392,1393,1394,1395,1396,1397,1398,1399,1400,1401,1402,1403,1404,1405,1406,1407,1408,1409,1410,1411,1412,1413,1414,1415,1416,1417,1418,1419,1420,1421,1422,1423,1424,1425,1426,1427,1428,1429,1430,1431,1432,1433,1434,1435,1436,1437,1438,1439,1440,1441,1442,1443,1444,1445,1446,1447,1448,1449,1450,1451,1452,1453,1454,1455,1456,1457,1458,1459,1460,1461,1462,1463,1464,1465,1466,1467,1468,1469,1470,1471,1472,1473,1474,1475,1476,1477,1478,1479,1480,1481,1482,1483,1484,1485,1486,1487,1488,1489,1490,1491,1492,1493,1494,1495,1496,1497,1498,1499,1500,1501,1502,1503,1504,1505,1506,1507,1508,1509,1510,1511,1512,1513,1514,1515,1516,1517,1518,1519,1520,1521,1522,1523,1524,1525,1526,1527,1528,1529,1530,1531,1532,1533,1534,1535,1536,1537,1538,1539,1540,1541,1542,1543,1544,1545,1546,1547,1548,1549,1550,1551,1552,1553,1554,1555,1556,1557,1558,1559,1560,1561,1562,1563,1564,1565,1566,1567,1568,1569,1570,1571,1572,1573,1574,1575,1576,1577,1578,1579,1580,1581,1582,1583,1584,1585,1586,1587,1588,1589,1590,1591,1592,1593,1594,1595,1596,1597,1598,1599,1600,1601,1602,1603,1604,1605,1606,1607,1608,1609,1610,1611,1612,1613,1614,1615,1616,1617,1618,1619,1620,1621,1622,1623,1624,1625,1626,1627,1628,1629,1630,1631,1632,1633,1634,1635,1636,1637,1638,1639,1640,1641,1642,1643,1644,1645,1646,1647,1648,1649,1650,1651,1652,1653,1654,1655,1656,1657,1658,1659,1660,1661,1662,1663,1664,1665,1666,1667,1668,1669,1670,1671,1672,1673,1674,1675,1676,1677,1678,1679,1680,1681,1682,1683,1684,1685,1686,1687,1688,1689,1690,1691,1692,1693,1694,1695,1696,1697,1698,1699,1700,1701,1702,1703,1704,1705,1706,1707,1708,1709,1710,1711,1712,1713,1714,1715,1716,1717,1718,1719,1720,1721,1722,1723,1724,1725,1726,1727,1728,1729,1730,1731,1732,1733,1734,1735,1736,1737,1738,1739,1740,1741,1742,1743,1744,1745,1746,1747,1748,1749,1750,1751,1752,1753,1754,1755,1756,1757,1758,1759,1760,1761,1762,1763,1764,1765,1766,1767,1768,1769,1770,1771,1772,1773,1774,1775,1776,1777,1778,1779,1780,1781,1782,1783,1784,1785,1786,1787,1788,1789,1790,1791,1792,1793,1794,1795,1796,1797,1798,1799,1800,1801,1802,1803,1804,1805,1806,1807,1808,1809,1810,1811,1812,1813,1814,1815,1816,1817,1818,1819,1820,1821,1822,1823,1824,1825,1826,1827,1828,1829,1830,1831,1832,1833,1834,1835,1836,1837,1838,1839,1840,1841,1842,1843,1844,1845,1846,1847,1848,1849,1850,1851,1852,1853,1854,1855,1856,1857,1858,1859,1860,1861,1862,1863,1864,1865,1866,1867,1868,1869,1870,1871,1872,1873,1874,1875,1876,1877,1878,1879,1880,1881,1882,1883,1884,1885,1886,1887,1888,1889,1890,1891,1892,1893,1894,1895,1896,1897,1898,1899,1900,1901,1902,1903,1904,1905,1906,1907,1908,1909,1910,1911,1912,1913,1914,1915,1916,1917,1918,1919,1920,1921,1922,1923,1924,1925,1926,1927,1928,1929,1930,1931,1932,1933,1934,1935,1936,1937,1938,1939,1940,1941,1942,1943,1944,1945,1946,1947,1948,1949,1950,1951,1952,1953,1954,1955,1956,1957,1958,1959,1960,1961,1962,1963,1964,1965,1966,1967,1968,1969,1970,1971,1972,1973,1974,1975,1976,1977,1978,1979,1980,1981,1982,1983,1984,1985,1986,1987,1988,1989,1990,1991,1992,1993,1994,1995,1996,1997,1998,1999,2000,2001,2002,2003,2004,2005,2006,2007,2008,2009,2010,2011,2012,2013,2014,2015,2016,2017,2018,2019,2020,2021,2022,2023,2024,2025,2026,2027,2028,2029,2030,2031,2032,2033,2034,2035,2036,2037,2038,2039,2040,2041,2042,2043,2044,2045,2046,2047,2048,2049,2050,2051,2052,2053,2054,2055,2056,2057,2058,2059,2060,2061,2062,2063,2064,2065,2066,2067,2068,2069,2070,2071,2072,2073,2074,2075,2076,2077,2078,2079,2080,2081,2082,2083,2084,2085,2086,2087,2088,2089,2090,2091,2092,2093,2094,2095,2096,2097,2098,2099,2100,2101,2102,2103,2104,2105,2106,2107,2108,2109,2110,2111,2112,2113,2114,2115,2116,2117,2118,2119,2120,2121,2122,2123],\"journey\":[10,10,10,10,10,10,10,10,10,10,10,10,10,10,10,10,10,10,10,10,10,10,10,10,10,10,10,10,10,10,10,10,10,10,10,10,10,10,10,10,10,10,10,10,10,10,10,10,10,10,10,10,10,10,10,10,10,10,10,10,10,10,10,10,10,10,10,10,10,10,10,10,10,10,10,10,10,10,10,10,10,10,10,10,10,10,10,10,10,10,10,10,10,10,10,10,10,10,10,10,10,10,10,10,10,10,10,10,10,10,10,10,10,10,10,10,10,10,10,10,10,10,10,10,10,10,10,10,10,10,10,10,10,10,10,10,10,10,10,10,10,10,10,10,10,10,10,10,10,10,10,10,10,10,10,10,10,10,10,10,10,10,10,10,10,10,10,10,10,10,10,10,10,10,10,10,10,10,10,10,10,10,10,10,10,10,10,10,10,10,10,10,10,10,10,10,10,10,10,10,10,10,10,10,10,10,10,10,10,10,10,10,10,10,10,10,10,10,10,10,10,10,10,10,10,10,10,10,10,10,10,10,10,10,10,10,10,10,10,10,10,10,10,10,10,10,10,10,10,10,10,10,10,10,10,10,10,10,10,10,10,10,10,10,10,10,10,10,10,10,10,10,10,10,10,10,10,10,10,10,10,10,10,10,10,10,10,10,10,10,10,10,10,10,10,10,10,10,10,10,10,10,10,10,10,10,10,10,10,10,10,10,10,10,10,10,10,10,10,10,10,10,10,10,10,10,10,10,10,10,10,10,10,10,10,10,10,10,10,10,10,10,10,10,10,10,10,10,10,10,10,10,10,10,10,10,10,10,10,10,10,10,10,10,10,10,10,10,10,10,10,10,10,10,10,10,10,10,10,10,10,10,10,10,10,10,10,10,10,10,10,10,10,10,10,10,10,10,10,10,10,10,10,10,10,10,10,10,10,10,10,10,10,10,10,10,10,10,10,10,10,10,10,10,10,10,10,10,10,10,10,10,10,10,10,10,10,10,10,10,10,10,10,10,10,10,10,10,10,10,10,10,10,10,10,10,10,10,10,10,10,10,10,10,10,10,10,10,10,10,10,10,10,10,10,10,10,10,10,10,10,10,10,10,10,10,10,10,10,10,10,10,10,10,10,10,10,10,10,10,10,10,10,10,10,10,10,10,10,10,10,10,10,10,10,10,10,10,10,10,10,10,10,10,10,10,10,10,10,10,10,10,10,10,10,10,10,10,10,10,10,10,10,10,10,10,10,10,10,10,10,10,10,10,10,10,10,10,10,10,10,10,10,10,10,10,10,10,10,10,10,10,10,10,10,10,10,10,10,10,10,10,10,10,10,10,10,10,10,10,10,10,10,10,10,10,10,10,10,10,10,10,10,10,10,10,10,10,10,10,10,10,10,10,10,10,10,10,10,10,10,10,10,10,10,10,10,10,10,10,10,10,10,10,10,10,10,10,10,10,10,10,10,10,10,10,10,10,10,10,10,10,10,10,10,10,10,10,10,10,10,10,10,10,10,10,10,10,10,10,10,10,10,10,10,10,10,10,10,10,10,10,10,10,10,10,10,10,10,10,10,10,10,10,10,10,10,10,10,10,10,10,10,10,10,10,10,10,10,10,10,10,10,10,10,10,10,10,10,10,10,10,10,10,10,10,10,10,10,10,10,10,10,10,10,10,10,10,10,10,10,10,10,10,10,10,10,10,10,10,10,10,10,10,10,10,10,10,10,10,10,10,10,10,10,10,10,10,10,10,10,10,10,10,10,10,10,10,10,10,10,10,10,10,10,10,10,10,10,10,10,10,10,10,10,10,10,10,10,10,10,10,10,10,10,10,10,10,10,10,10,10,10,10,10,10,10,10,10,10,10,10,10,10,10,10,10,10,10,10,10,10,10,10,10,10,10,10,10,10,10,10,10,10,10,10,10,10,10,10,10,10,10,10,10,10,10,10,10,10,10,10,10,10,10,10,10,10,10,10,10,10,10,10,10,10,10,10,10,10,10,10,10,10,10,10,10,10,10,10,10,10,10,10,10,10,10,10,10,10,10,10,10,10,10,10,10,10,10,10,10,10,10,10,10,10,10,10,10,10,10,10,10,10,10,10,10,10,10,10,10,10,10,10,10,10,10,10,10,10,10,10,10,10,10,10,10,10,10,10,10,10,10,10,10,10,10,10,10,10,10,10,10,10,10,10,10,10,10,10,10,10,10,10,10,10,10,10,10,10,10,10,10,10,10,10,10,10,10,10,10,10,10,10,10,10,10,10,10,10,10,10,10,10,10,10,10,10,10,10,10,10,10,10,10,10,10,10,10,10,10,10,10,10,10,10,10,10,10,10,10,10,10,10,10,10,10,10,10,10,10,10,10,10,10,10,10,10,10,10,10,10,10,10,10,10,10,10,10,10,10,10,10,10,10,10,10,10,10,10,10,10,10,10,10,10,10,10,10,10,10,10,10,10,10,10,10,10,10,10,10,10,10,10,10,10,10,10,10,10,10,10,10,10,10,10,10,10,10,10,10,10,10,10,10,10,10,10,10,10,10,10,10,10,10,10,10,10,10,10,10,10,10,10,10,10,10,10,10,10,10,10,10,10,10,10,10,10,10,10,10,10,10,10,10,10,10,10,10,10,10,10,10,10,10,10,10,10,10,10,10,10,10,10,10,10,10,10,10,10,10,10,10,10,10,10,10,10,10,10,10,10,10,10,10,10,10,10,10,10,10,10,10,10,10,10,10,10,10,10,10,10,10,10,10,10,10,10,10,10,10,10,10,10,10,10,10,10,10,10,10,10,10,10,10,10,10,10,10,10,10,10,10,10,10,10,10,10,10,10,10,10,10,10,10,10,10,10,10,10,10,10,10,10,10,10,10,10,10,10,10,10,10,10,10,10,10,10,10,10,10,10,10,10,10,10,10,10,10,10,10,10,10,10,10,10,10,10,10,10,10,10,10,10,10,10,10,10,10,10,10,10,10,10,10,10,10,10,10,10,10,10,10,10,10,10,10,10,10,10,10,10,10,10,10,10,10,10,10,10,10,10,10,10,10,10,10,10,10,10,10,10,10,10,10,10,10,10,10,10,10,10,10,10,10,10,10,10,10,10,10,10,10,10,10,10,10,10,10,10,10,10,10,10,10,10,10,10,10,10,10,10,10,10,10,10,10,10,10,10,10,10,10,10,10,10,10,10,10,10,10,10,10,10,10,10,10,10,10,10,10,10,10,10,10,10,10,10,10,10,10,10,10,10,10,10,10,10,10,10,10,10,10,10,10,10,10,10,10,10,10,10,10,10,10,10,10,10,10,10,10,10,10,10,10,10,10,10,10,10,10,10,10,10,10,10,10,10,10,10,10,10,10,10,10,10,10,10,10,10,10,10,10,10,10,10,10,10,10,10,10,10,10,10,10,10,10,10,10,10,10,10,10,10,10,10,10,10,10,10,10,10,10,10,10,10,10,10,10,10,10,10,10,10,10,10,10,10,10,10,10,10,10,10,10,10,10,10,10,10,10,10,10,10,10,10,10,10,10,10,10,10,10,10,10,10,10,10,10,10,10,10,10,10,10,10,10,10,10,10,10,10,10,10,10,10,10,10,10,10,10,10,10,10,10,10,10,10,10,10,10,10,10,10,10,10,10,10,10,10,10,10,10,10,10,10,10,10,10,10,10,10,10,10,10,10,10,10,10,10,10,10,10,10,10,10,10,10,10,10,10,10,10,10,10,10,10,10,10,10,10,10,10,10,10,10,10,10,10,10,10,10,10,10,10,10,10,10,10,10,10,10,10,10,10,10,10,10,10,10,10,10,10,10,10,10,10,10,10,10,10,10,10,10,10,10,10,10,10,10,10,10,10,10,10,10,10,10,10,10,10,10,10,10,10,10,10,10,10,10,10,10,10,10,10,10,10,10,10,10,10,10,10,10,10,10,10,10,10,10,10,10,10,10,10,10,10,10,10,10,10,10,10,10,10,10,10,10,10,10,10,10,10,10,10,10,10,10,10,10,10,10,10,10,10,10,10,10,10,10,10,10,10,10,10,10,10,10,10,10,10,10,10,10,10,10,10,10,10,10,10,10,10,10,10,10,10,10,10,10,10,10,10,10,10,10,10,10,10,10,10,10,10,10,10,10,10,10,10,10,10,10,10,10,10,10,10,10,10,10,10,10,10,10,10,10,10,10,10,10,10,10,10,10,10,10,10,10,10,10,10,10,10,10,10,10,10,10,10,10,10,10,10,10,10,10,10,10,10,10,10,10,10,10,10,10,10,10,10,10,10,10,10,10,10,10,10,10,10,10,10,10,10,10,10,10,10,10,10,10,10,10,10,10,10,10,10,10,10,10,10,10,10,10,10,10,10,10,10,10,10,10,10,10,10,10,10,10,10,10,10,10,10,10,10,10,10,10,10,10,10,10,10,10,10,10,10,10,10,10,10,10,10,10,10,10,10,10,10,10,10,10,10,10,10,10,10,10,10,10,10,10,10,10,10,10,10,10,10,10,10,10,10,10,10,10,10,10,10,10,10,10,10,10,10,10,10,10,10,10,10,10,10,10,10,10,10,10,10,10,10,10,10,10,10,10,10,10,10,10,10,10,10,10,10,10,10,10,10,10,10,10,10,10,10,10,10,10,10,10,10,10,10,10,10,10,10,10,10,10,10,10,10,10,10,10,10,10,10,10,10,10,10,10,10,10,10,10,10,10,10,10,10,10,10,10,10,10,10,10,10,10,10,10,10,10,10,10,10,10,10,10,10,10,10,10,10,10,10,10,10,10,10,10,10,10,10,10,10,10,10,10,10,10],\"latitude\":{\"__ndarray__\":\"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\",\"dtype\":\"float64\",\"shape\":[2124]},\"longitude\":{\"__ndarray__\":\"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\",\"dtype\":\"float64\",\"shape\":[2124]},\"time\":[40062000.0,40064000.0,40068000.0,40074000.0,40077000.0,40079000.0,40082000.0,40088000.0,40096000.0,40101000.0,40102000.0,40107000.0,40113000.0,40119000.0,40125000.0,40128000.0,40135000.0,40140000.0,40146000.0,40147000.0,40154000.0,40155000.0,40162000.0,40169000.0,40176000.0,40177000.0,40178000.0,40183000.0,40186000.0,40191000.0,40195000.0,40202000.0,40207000.0,40214000.0,40221000.0,40222000.0,40223000.0,40224000.0,40225000.0,40226000.0,40227000.0,40228000.0,40230000.0,40231000.0,40234000.0,40236000.0,40238000.0,40240000.0,40243000.0,40245000.0,40252000.0,40253000.0,40260000.0,40262000.0,40269000.0,40270000.0,40277000.0,40278000.0,40282000.0,40284000.0,40288000.0,40289000.0,40291000.0,40293000.0,40295000.0,40299000.0,40301000.0,40303000.0,40307000.0,40308000.0,40312000.0,40314000.0,40320000.0,40327000.0,40328000.0,40331000.0,40338000.0,40340000.0,40347000.0,40348000.0,40354000.0,40358000.0,40359000.0,40362000.0,40363000.0,40364000.0,40365000.0,40366000.0,40367000.0,40371000.0,40372000.0,40373000.0,40374000.0,40375000.0,40378000.0,40384000.0,40385000.0,40391000.0,40392000.0,40398000.0,40403000.0,40406000.0,40409000.0,40411000.0,40413000.0,40416000.0,40417000.0,40421000.0,40426000.0,40431000.0,40435000.0,40436000.0,40438000.0,40440000.0,40441000.0,40448000.0,40449000.0,40456000.0,40461000.0,40464000.0,40465000.0,40467000.0,40469000.0,40470000.0,40474000.0,40475000.0,40481000.0,40487000.0,40490000.0,40492000.0,40496000.0,40503000.0,40504000.0,40506000.0,40507000.0,40508000.0,40509000.0,40510000.0,40511000.0,40512000.0,40517000.0,40524000.0,40525000.0,40532000.0,40538000.0,40545000.0,40552000.0,40553000.0,40554000.0,40555000.0,40556000.0,40557000.0,40558000.0,40559000.0,40563000.0,40565000.0,40568000.0,40569000.0,40570000.0,40573000.0,40579000.0,40580000.0,40581000.0,40582000.0,40583000.0,40584000.0,40585000.0,40586000.0,40592000.0,40593000.0,40594000.0,40595000.0,40596000.0,40597000.0,40600000.0,40606000.0,40607000.0,40613000.0,40615000.0,40621000.0,40627000.0,40628000.0,40629000.0,40630000.0,40631000.0,40634000.0,40635000.0,40636000.0,40637000.0,40642000.0,40644000.0,40645000.0,40646000.0,40647000.0,40652000.0,40659000.0,40660000.0,40672000.0,40678000.0,40685000.0,40690000.0,40697000.0,40704000.0,40706000.0,40713000.0,40719000.0,40720000.0,40721000.0,40722000.0,40723000.0,40724000.0,40728000.0,40729000.0,40732000.0,40734000.0,40737000.0,40739000.0,40746000.0,40747000.0,40754000.0,40760000.0,40762000.0,40763000.0,40764000.0,40765000.0,40766000.0,40773000.0,40780000.0,40782000.0,40789000.0,40790000.0,40796000.0,40797000.0,40802000.0,40807000.0,40814000.0,40817000.0,40820000.0,40825000.0,40828000.0,40829000.0,40833000.0,40835000.0,40838000.0,40839000.0,40840000.0,40841000.0,40842000.0,40848000.0,40849000.0,40854000.0,40856000.0,40862000.0,40864000.0,40870000.0,40873000.0,40874000.0,40875000.0,40876000.0,40877000.0,40884000.0,40890000.0,40897000.0,40898000.0,40905000.0,40909000.0,40916000.0,40922000.0,40928000.0,40935000.0,40936000.0,40943000.0,40948000.0,40956000.0,40958000.0,40959000.0,40962000.0,40963000.0,40964000.0,40965000.0,40966000.0,40968000.0,40975000.0,40977000.0,40978000.0,40980000.0,40987000.0,40993000.0,41000000.0,41007000.0,41011000.0,41018000.0,41023000.0,41030000.0,41037000.0,41044000.0,41051000.0,41052000.0,41059000.0,41060000.0,41067000.0,41072000.0,41077000.0,41084000.0,41085000.0,41091000.0,41093000.0,41099000.0,41100000.0,41106000.0,41107000.0,41109000.0,41110000.0,41111000.0,41113000.0,41120000.0,41121000.0,41122000.0,41123000.0,41124000.0,41131000.0,41137000.0,41143000.0,41150000.0,41152000.0,41157000.0,41158000.0,41162000.0,41164000.0,41168000.0,41172000.0,41175000.0,41177000.0,41184000.0,41191000.0,41193000.0,41195000.0,41198000.0,41200000.0,41207000.0,41210000.0,41217000.0,41221000.0,41228000.0,41229000.0,41235000.0,41237000.0,41239000.0,41242000.0,41243000.0,41246000.0,41248000.0,41250000.0,41251000.0,41258000.0,41259000.0,41266000.0,41271000.0,41273000.0,41279000.0,41283000.0,41284000.0,41286000.0,41287000.0,41289000.0,41290000.0,41291000.0,41292000.0,41295000.0,41296000.0,41297000.0,41303000.0,41307000.0,41312000.0,41314000.0,41316000.0,41318000.0,41320000.0,41322000.0,41324000.0,41325000.0,41327000.0,41329000.0,41333000.0,41339000.0,41346000.0,41347000.0,41354000.0,41358000.0,41365000.0,41368000.0,41374000.0,41377000.0,41379000.0,41380000.0,41387000.0,41392000.0,41399000.0,41401000.0,41403000.0,41404000.0,41406000.0,41407000.0,41409000.0,41410000.0,41411000.0,41415000.0,41418000.0,41421000.0,41422000.0,41427000.0,41431000.0,41433000.0,41440000.0,41442000.0,41447000.0,41453000.0,41459000.0,41466000.0,41468000.0,41470000.0,41471000.0,41472000.0,41473000.0,41474000.0,41476000.0,41483000.0,41490000.0,41497000.0,41501000.0,41508000.0,41509000.0,41514000.0,41515000.0,41520000.0,41522000.0,41528000.0,41535000.0,41542000.0,41543000.0,41547000.0,41549000.0,41556000.0,41563000.0,41570000.0,41576000.0,41577000.0,41578000.0,41579000.0,41580000.0,41581000.0,41582000.0,41589000.0,41591000.0,41598000.0,41599000.0,41600000.0,41603000.0,41604000.0,41606000.0,41607000.0,41608000.0,41609000.0,41610000.0,41616000.0,41617000.0,41622000.0,41626000.0,41627000.0,41631000.0,41633000.0,41636000.0,41642000.0,41649000.0,41655000.0,41656000.0,41659000.0,41662000.0,41665000.0,41666000.0,41672000.0,41679000.0,41686000.0,41691000.0,41698000.0,41699000.0,41702000.0,41703000.0,41705000.0,41706000.0,41711000.0,41718000.0,41721000.0,41728000.0,41735000.0,41742000.0,41744000.0,41751000.0,41757000.0,41764000.0,41765000.0,41772000.0,41775000.0,41782000.0,41786000.0,41793000.0,41796000.0,41803000.0,41806000.0,41813000.0,41820000.0,41824000.0,41831000.0,41834000.0,41841000.0,41844000.0,41851000.0,41854000.0,41861000.0,41866000.0,41873000.0,41874000.0,41881000.0,41884000.0,41888000.0,41894000.0,41898000.0,41899000.0,41902000.0,41906000.0,41911000.0,41918000.0,41922000.0,41924000.0,41925000.0,41926000.0,41927000.0,41928000.0,41931000.0,41932000.0,41934000.0,41935000.0,41936000.0,41938000.0,41940000.0,41941000.0,41946000.0,41947000.0,41954000.0,41958000.0,41962000.0,41968000.0,41972000.0,41973000.0,41977000.0,41984000.0,41985000.0,41992000.0,41994000.0,41997000.0,42000000.0,42007000.0,42013000.0,42020000.0,42026000.0,42033000.0,42035000.0,42042000.0,42046000.0,42053000.0,42058000.0,42059000.0,42060000.0,42061000.0,42062000.0,42063000.0,42067000.0,42074000.0,42076000.0,42083000.0,42084000.0,42088000.0,42095000.0,42102000.0,42106000.0,42110000.0,42116000.0,42121000.0,42124000.0,42131000.0,42135000.0,42142000.0,42146000.0,42151000.0,42154000.0,42158000.0,42164000.0,42168000.0,42175000.0,42176000.0,42182000.0,42189000.0,42196000.0,42197000.0,42204000.0,42209000.0,42214000.0,42221000.0,42228000.0,42235000.0,42238000.0,42243000.0,42250000.0,42257000.0,42263000.0,42270000.0,42271000.0,42278000.0,42285000.0,42289000.0,42296000.0,42297000.0,42303000.0,42304000.0,42310000.0,42317000.0,42318000.0,42325000.0,42326000.0,42333000.0,42338000.0,42340000.0,42347000.0,42351000.0,42355000.0,42362000.0,42365000.0,42372000.0,42379000.0,42386000.0,42389000.0,42395000.0,42400000.0,42403000.0,42404000.0,42405000.0,42406000.0,42407000.0,42408000.0,42409000.0,42417000.0,42419000.0,42421000.0,42423000.0,42425000.0,42428000.0,42430000.0,42437000.0,42445000.0,42451000.0,42455000.0,42456000.0,42458000.0,42460000.0,42461000.0,42462000.0,42463000.0,42464000.0,42467000.0,42469000.0,42470000.0,42471000.0,42473000.0,42474000.0,42475000.0,42477000.0,42479000.0,42480000.0,42481000.0,42482000.0,42483000.0,42484000.0,42485000.0,42486000.0,42487000.0,42489000.0,42493000.0,42494000.0,42498000.0,42502000.0,42503000.0,42504000.0,42505000.0,42506000.0,42507000.0,42508000.0,42509000.0,42510000.0,42511000.0,42512000.0,42513000.0,42515000.0,42516000.0,42517000.0,42518000.0,42519000.0,42524000.0,42531000.0,42532000.0,42539000.0,42541000.0,42548000.0,42549000.0,42554000.0,42558000.0,42562000.0,42567000.0,42573000.0,42574000.0,42578000.0,42582000.0,42583000.0,42585000.0,42591000.0,42598000.0,42599000.0,42606000.0,42608000.0,42615000.0,42617000.0,42623000.0,42629000.0,42636000.0,42638000.0,42643000.0,42645000.0,42651000.0,42658000.0,42659000.0,42663000.0,42664000.0,42668000.0,42674000.0,42675000.0,42678000.0,42680000.0,42684000.0,42691000.0,42698000.0,42705000.0,42707000.0,42709000.0,42712000.0,42713000.0,42716000.0,42719000.0,42721000.0,42723000.0,42728000.0,42735000.0,42737000.0,42744000.0,42750000.0,42757000.0,42759000.0,42765000.0,42770000.0,42773000.0,42778000.0,42785000.0,42791000.0,42795000.0,42796000.0,42802000.0,42809000.0,42816000.0,42818000.0,42819000.0,42820000.0,42821000.0,42822000.0,42823000.0,42830000.0,42837000.0,42840000.0,42847000.0,42854000.0,42857000.0,42864000.0,42866000.0,42873000.0,42876000.0,42881000.0,42882000.0,42885000.0,42886000.0,42887000.0,42888000.0,42889000.0,42890000.0,42892000.0,42895000.0,42898000.0,42901000.0,42904000.0,42907000.0,42912000.0,42919000.0,42920000.0,42927000.0,42934000.0,42939000.0,42940000.0,42947000.0,42949000.0,42956000.0,42963000.0,42967000.0,42972000.0,42976000.0,42983000.0,42990000.0,42994000.0,43001000.0,43006000.0,43013000.0,43014000.0,43021000.0,43022000.0,43024000.0,43025000.0,43026000.0,43027000.0,43028000.0,43034000.0,43041000.0,43045000.0,43052000.0,43059000.0,43063000.0,43067000.0,43073000.0,43077000.0,43078000.0,43079000.0,43080000.0,43081000.0,43088000.0,43093000.0,43100000.0,43104000.0,43110000.0,43115000.0,43122000.0,43126000.0,43132000.0,43138000.0,43146000.0,43154000.0,43157000.0,43164000.0,43171000.0,43172000.0,43178000.0,43185000.0,43188000.0,43195000.0,43202000.0,43204000.0,43211000.0,43218000.0,43219000.0,43226000.0,43230000.0,43237000.0,43244000.0,43248000.0,43255000.0,43259000.0,43266000.0,43267000.0,43275000.0,43276000.0,43280000.0,43284000.0,43286000.0,43288000.0,43289000.0,43290000.0,43291000.0,43295000.0,43300000.0,43303000.0,43305000.0,43307000.0,43310000.0,43312000.0,43315000.0,43316000.0,43323000.0,43329000.0,43332000.0,43333000.0,43336000.0,43338000.0,43341000.0,43348000.0,43352000.0,43356000.0,43357000.0,43358000.0,43359000.0,43360000.0,43363000.0,43366000.0,43368000.0,43370000.0,43372000.0,43373000.0,43377000.0,43382000.0,43383000.0,43386000.0,43387000.0,43392000.0,43394000.0,43395000.0,43396000.0,43397000.0,43402000.0,43405000.0,43406000.0,43407000.0,43408000.0,43409000.0,43412000.0,43420000.0,43421000.0,43428000.0,43430000.0,43431000.0,43433000.0,43434000.0,43436000.0,43440000.0,43441000.0,43442000.0,43443000.0,43444000.0,43445000.0,43452000.0,43459000.0,43466000.0,43473000.0,43475000.0,43482000.0,43484000.0,43485000.0,43486000.0,43487000.0,43488000.0,43491000.0,43498000.0,43499000.0,43506000.0,43513000.0,43514000.0,43520000.0,43521000.0,43522000.0,43523000.0,43524000.0,43525000.0,43532000.0,43533000.0,43540000.0,43547000.0,43552000.0,43553000.0,43554000.0,43555000.0,43556000.0,43560000.0,43565000.0,43569000.0,43573000.0,43578000.0,43579000.0,43580000.0,43581000.0,43582000.0,43583000.0,43589000.0,43590000.0,43591000.0,43592000.0,43593000.0,43594000.0,43595000.0,43602000.0,43605000.0,43612000.0,43615000.0,43618000.0,43623000.0,43624000.0,43631000.0,43633000.0,43640000.0,43646000.0,43659000.0,43660000.0,43661000.0,43662000.0,43663000.0,43664000.0,43671000.0,43672000.0,43677000.0,43681000.0,43682000.0,43683000.0,43684000.0,43685000.0,43689000.0,43690000.0,43691000.0,43692000.0,43693000.0,43694000.0,43701000.0,43707000.0,43714000.0,43717000.0,43724000.0,43731000.0,43735000.0,43739000.0,43740000.0,43741000.0,43742000.0,43743000.0,43749000.0,43752000.0,43753000.0,43754000.0,43755000.0,43756000.0,43764000.0,43766000.0,43773000.0,43778000.0,43782000.0,43786000.0,43793000.0,43794000.0,43801000.0,43808000.0,43815000.0,43821000.0,43823000.0,43830000.0,43838000.0,43840000.0,43846000.0,43853000.0,43857000.0,43864000.0,43871000.0,43876000.0,43883000.0,43890000.0,43894000.0,43902000.0,43906000.0,43907000.0,43908000.0,43909000.0,43910000.0,43912000.0,43914000.0,44113000.0,44114000.0,44117000.0,44119000.0,44122000.0,44124000.0,44125000.0,44126000.0,44131000.0,44135000.0,44140000.0,44142000.0,44146000.0,44151000.0,44159000.0,44162000.0,44170000.0,44172000.0,44174000.0,44176000.0,44178000.0,44180000.0,44181000.0,44182000.0,44183000.0,44184000.0,44186000.0,44192000.0,44200000.0,44207000.0,44214000.0,44221000.0,44224000.0,44227000.0,44234000.0,44236000.0,44244000.0,44247000.0,44254000.0,44259000.0,44265000.0,44268000.0,44275000.0,44276000.0,44277000.0,44278000.0,44279000.0,44283000.0,44288000.0,44295000.0,44296000.0,44303000.0,44310000.0,44312000.0,44319000.0,44327000.0,44328000.0,44335000.0,44337000.0,44344000.0,44351000.0,44352000.0,44360000.0,44366000.0,44373000.0,44378000.0,44385000.0,44386000.0,44390000.0,44395000.0,44401000.0,44403000.0,44409000.0,44416000.0,44418000.0,44425000.0,44430000.0,44437000.0,44438000.0,44445000.0,44446000.0,44450000.0,44451000.0,44457000.0,44462000.0,44469000.0,44475000.0,44476000.0,44477000.0,44478000.0,44479000.0,44481000.0,44483000.0,44485000.0,44486000.0,44487000.0,44488000.0,44489000.0,44491000.0,44492000.0,44493000.0,44494000.0,44495000.0,44497000.0,44500000.0,44502000.0,44503000.0,44504000.0,44505000.0,44509000.0,44513000.0,44519000.0,44522000.0,44527000.0,44531000.0,44532000.0,44533000.0,44534000.0,44535000.0,44536000.0,44537000.0,44541000.0,44548000.0,44555000.0,44562000.0,44563000.0,44566000.0,44571000.0,44575000.0,44582000.0,44583000.0,44589000.0,44595000.0,44602000.0,44609000.0,44616000.0,44622000.0,44629000.0,44635000.0,44642000.0,44643000.0,44644000.0,44645000.0,44646000.0,44647000.0,44652000.0,44655000.0,44656000.0,44663000.0,44670000.0,44677000.0,44679000.0,44680000.0,44681000.0,44683000.0,44684000.0,44688000.0,44695000.0,44699000.0,44704000.0,44710000.0,44717000.0,44718000.0,44719000.0,44720000.0,44721000.0,44722000.0,44727000.0,44731000.0,44733000.0,44737000.0,44744000.0,44745000.0,44748000.0,44749000.0,44751000.0,44753000.0,44755000.0,44757000.0,44758000.0,44759000.0,44761000.0,44765000.0,44771000.0,44772000.0,44775000.0,44777000.0,44781000.0,44783000.0,44789000.0,44790000.0,44791000.0,44792000.0,44793000.0,44794000.0,44798000.0,44804000.0,44805000.0,44811000.0,44813000.0,44819000.0,44823000.0,44829000.0,44832000.0,44838000.0,44843000.0,44849000.0,44855000.0,44861000.0,44865000.0,44871000.0,44872000.0,44873000.0,44874000.0,44875000.0,44878000.0,44884000.0,44891000.0,44893000.0,44894000.0,44895000.0,44896000.0,44898000.0,44904000.0,44910000.0,44912000.0,44918000.0,44921000.0,44922000.0,44923000.0,44924000.0,44925000.0,44928000.0,44932000.0,44933000.0,44936000.0,44937000.0,44942000.0,44947000.0,44953000.0,44957000.0,44958000.0,44960000.0,44961000.0,44967000.0,44970000.0,44977000.0,44979000.0,44980000.0,44981000.0,44982000.0,44984000.0,44990000.0,44996000.0,44997000.0,45000000.0,45001000.0,45007000.0,45008000.0,45014000.0,45016000.0,45022000.0,45026000.0,45032000.0,45034000.0,45037000.0,45041000.0,45042000.0,45047000.0,45051000.0,45052000.0,45055000.0,45056000.0,45057000.0,45058000.0,45059000.0,45065000.0,45069000.0,45071000.0,45074000.0,45077000.0,45082000.0,45084000.0,45085000.0,45090000.0,45097000.0,45101000.0,45104000.0,45105000.0,45109000.0,45111000.0,45116000.0,45123000.0,45130000.0,45131000.0,45136000.0,45142000.0,45149000.0,45152000.0,45153000.0,45154000.0,45155000.0,45156000.0,45158000.0,45165000.0,45166000.0,45173000.0,45177000.0,45184000.0,45188000.0,45195000.0,45199000.0,45207000.0,45212000.0,45220000.0,45221000.0,45223000.0,45224000.0,45225000.0,45226000.0,45228000.0,45230000.0,45232000.0,45236000.0,45240000.0,45241000.0,45242000.0,45243000.0,45244000.0,45245000.0,45246000.0,45253000.0,45255000.0,45258000.0,45259000.0,45260000.0,45261000.0,45262000.0,45268000.0,45274000.0,45278000.0,45281000.0,45282000.0,45284000.0,45291000.0,45298000.0,45299000.0,45302000.0,45305000.0,45306000.0,45309000.0,45311000.0,45313000.0,45314000.0,45315000.0,45316000.0,45317000.0,45318000.0,45319000.0,45323000.0,45325000.0,45328000.0,45329000.0,45331000.0,45333000.0,45335000.0,45337000.0,45338000.0,45341000.0,45346000.0,45347000.0,45348000.0,45349000.0,45350000.0,45351000.0,45354000.0,45357000.0,45359000.0,45360000.0,45363000.0,45364000.0,45366000.0,45367000.0,45369000.0,45371000.0,45373000.0,45375000.0,45377000.0,45379000.0,45382000.0,45387000.0,45390000.0,45391000.0,45392000.0,45396000.0,45401000.0,45408000.0,45409000.0,45416000.0,45417000.0,45424000.0,45430000.0,45435000.0,45442000.0,45447000.0,45454000.0,45456000.0,45463000.0,45466000.0,45473000.0,45475000.0,45482000.0,45483000.0,45488000.0,45492000.0,45499000.0,45501000.0,45508000.0,45510000.0,45513000.0,45514000.0,45517000.0,45519000.0,45521000.0,45522000.0,45523000.0,45524000.0,45525000.0,45526000.0,45528000.0,45535000.0,45543000.0,45546000.0,45548000.0,45552000.0,45554000.0,45559000.0,45561000.0,45564000.0,45565000.0,45572000.0,45579000.0,45586000.0,45589000.0,45591000.0,45593000.0,45600000.0,45603000.0,45607000.0,45611000.0,45617000.0,45618000.0,45619000.0,45620000.0,45621000.0,45625000.0,45632000.0,45634000.0,45641000.0,45643000.0,45649000.0,45650000.0,45655000.0,45661000.0,45666000.0,45669000.0,45671000.0,45674000.0,45676000.0,45681000.0,45684000.0,45685000.0,45686000.0,45687000.0,45688000.0,45689000.0,45692000.0,45695000.0,45699000.0,45705000.0,45711000.0,45713000.0,45721000.0,45724000.0,45726000.0,45731000.0,45733000.0,45741000.0,45747000.0,45748000.0,45753000.0,45759000.0,45760000.0,45768000.0,45771000.0,45772000.0,45773000.0,45774000.0,45775000.0,45778000.0,45784000.0,45788000.0,45796000.0,45800000.0,45808000.0,45815000.0,45823000.0,45827000.0,45835000.0,45837000.0,45845000.0,45853000.0,45855000.0,45863000.0,45866000.0,45873000.0,45877000.0,45881000.0,45889000.0,45897000.0,45898000.0,45902000.0,45910000.0,45912000.0,45920000.0,45926000.0,45933000.0,45935000.0,45943000.0,45944000.0,45950000.0,45956000.0,45964000.0,45972000.0,45980000.0,45986000.0,45989000.0,45995000.0,45997000.0,45998000.0,45999000.0,46000000.0,46001000.0,46002000.0,46004000.0,46006000.0,46007000.0,46008000.0,46009000.0,46010000.0,46013000.0,46015000.0,46017000.0,46023000.0,46024000.0,46025000.0,46026000.0,46027000.0,46028000.0,46034000.0,46041000.0,46045000.0,46053000.0,46058000.0,46065000.0,46073000.0,46076000.0,46082000.0,46085000.0,46091000.0,46097000.0,46101000.0,46102000.0,46106000.0,46108000.0,46111000.0,46116000.0,46117000.0,46120000.0,46122000.0,46125000.0,46129000.0,46132000.0,46136000.0,46141000.0,46143000.0,46148000.0,46151000.0,46154000.0,46155000.0,46157000.0,46159000.0,46165000.0,46166000.0,46167000.0,46168000.0,46169000.0,46170000.0,46172000.0,46174000.0,46175000.0,46176000.0,46177000.0,46178000.0,46180000.0,46181000.0,46182000.0,46183000.0,46184000.0,46194000.0,46202000.0,46205000.0,46208000.0,46209000.0,46210000.0,46211000.0,46212000.0,46213000.0,46214000.0,46215000.0,46216000.0,46217000.0,46218000.0,46219000.0,46220000.0,46221000.0,46222000.0,46223000.0,46224000.0,46225000.0,46226000.0,46230000.0,46238000.0,46239000.0,46240000.0,46241000.0,46242000.0,46245000.0,46248000.0,46250000.0,46258000.0,46262000.0,46267000.0,46270000.0,46271000.0,46272000.0,46273000.0,46274000.0,46275000.0,46283000.0,46287000.0,46295000.0,46297000.0,46306000.0,46314000.0,46315000.0,46323000.0,46324000.0,46331000.0,46339000.0,46347000.0,46355000.0,46356000.0,46363000.0,46371000.0,46377000.0,46385000.0,46387000.0,46395000.0,46400000.0,46408000.0,46416000.0,46417000.0,46425000.0,46427000.0,46435000.0,46443000.0,46449000.0,46457000.0,46463000.0,46465000.0,46474000.0,46482000.0,46484000.0,46486000.0,46487000.0,46488000.0,46489000.0,46490000.0,46497000.0,46498000.0,46499000.0,46500000.0,46501000.0,46503000.0,46505000.0,46509000.0,46517000.0,46522000.0,46529000.0,46533000.0,46541000.0,46544000.0,46552000.0,46553000.0,46561000.0,46562000.0,46570000.0,46571000.0,46579000.0,46580000.0,46588000.0,46589000.0,46595000.0,46597000.0,46600000.0,46604000.0,46606000.0,46607000.0,46608000.0,46609000.0,46610000.0,46611000.0,46613000.0,46615000.0,46617000.0,46619000.0,46621000.0,46629000.0,46637000.0,46640000.0,46645000.0,46652000.0,46660000.0,46663000.0,46671000.0,46673000.0,46680000.0,46687000.0,46691000.0,46697000.0,46698000.0,46706000.0,46707000.0,46713000.0,46715000.0,46723000.0,46731000.0,46735000.0,46739000.0,46744000.0,46748000.0,46755000.0,46761000.0,46768000.0,46773000.0,46775000.0,46781000.0,46789000.0,46795000.0,46798000.0,46802000.0,46810000.0,46812000.0,46813000.0,46814000.0,46815000.0,46816000.0,46820000.0,46827000.0,46829000.0,46837000.0,46839000.0,46846000.0,46854000.0,46861000.0,46862000.0,46863000.0,46864000.0,46865000.0,46866000.0,46872000.0,46875000.0,46877000.0,46878000.0,46884000.0,46888000.0,46890000.0,46891000.0,46892000.0,46896000.0,46897000.0,46900000.0,46904000.0,46909000.0,46915000.0,46916000.0,46922000.0,46924000.0,46930000.0,46931000.0,46937000.0,46939000.0,46946000.0,46950000.0,46951000.0,46952000.0,46953000.0,46954000.0,46956000.0,46959000.0,46964000.0,46971000.0,46978000.0,46979000.0,46982000.0,46984000.0,46986000.0,46987000.0,46988000.0,46989000.0,46990000.0,46993000.0,46994000.0,46998000.0,47001000.0,47002000.0,47009000.0,47011000.0,47018000.0,47019000.0,47026000.0,47032000.0,47033000.0,47036000.0,47037000.0,47043000.0,47050000.0,47051000.0,47054000.0,47057000.0,47058000.0,47064000.0,47066000.0,47068000.0,47070000.0,47072000.0,47076000.0,47077000.0,47080000.0,47081000.0,47084000.0,47085000.0,47090000.0,47097000.0,47098000.0,47100000.0,47103000.0,47106000.0,47107000.0,47113000.0,47115000.0,47116000.0,47119000.0,47121000.0,47123000.0,47126000.0,47135000.0,47138000.0,47140000.0,47146000.0,47153000.0,47155000.0,47158000.0,47161000.0,47171000.0,47173000.0,47182000.0,47185000.0,47191000.0,47198000.0,47205000.0,47207000.0,47210000.0,47211000.0,47212000.0,47214000.0,47215000.0,47219000.0,47224000.0,47226000.0,47232000.0,47238000.0,47240000.0,47246000.0,47249000.0,47251000.0,47253000.0,47256000.0,47257000.0,47260000.0,47264000.0,47273000.0,47274000.0,47282000.0,47286000.0,47289000.0,47293000.0,47294000.0,47295000.0,47300000.0,47302000.0,47304000.0,47307000.0,47316000.0,47322000.0,47324000.0,47327000.0,47330000.0,47334000.0,47335000.0,47340000.0,47344000.0,47347000.0,47356000.0,47357000.0,47359000.0,47364000.0,47365000.0,47367000.0,47370000.0,47373000.0,47374000.0,47375000.0,47376000.0,47377000.0,47381000.0,47383000.0,47384000.0,47385000.0,47386000.0,47387000.0,47388000.0,47389000.0,47391000.0,47392000.0,47395000.0,47396000.0,47398000.0,47401000.0,47402000.0,47404000.0,47406000.0,47408000.0,47409000.0,47410000.0,47411000.0,47412000.0,47415000.0,47418000.0,47419000.0,47420000.0,47424000.0,47426000.0,47430000.0,47432000.0,47439000.0,47440000.0,47446000.0,47450000.0,47453000.0,47455000.0,47458000.0,47460000.0,47462000.0,47466000.0,47472000.0,47479000.0,47483000.0,47485000.0,47488000.0,47489000.0,47497000.0,47502000.0,47510000.0,47514000.0,47522000.0,47524000.0,47528000.0,47530000.0,47536000.0,47544000.0,47545000.0,47549000.0,47550000.0,47553000.0,47555000.0,47557000.0,47558000.0,47560000.0,47562000.0,47565000.0,47568000.0,47572000.0,47578000.0,47586000.0,47587000.0,47594000.0,47600000.0,47607000.0,47615000.0,47623000.0,47624000.0,47631000.0,47638000.0,47645000.0,47652000.0,47655000.0,47657000.0,47660000.0,47664000.0,47666000.0,47668000.0,47670000.0,47672000.0,47674000.0,47675000.0,47677000.0,47679000.0,47682000.0,47683000.0,47690000.0,47698000.0,47705000.0,47706000.0,47711000.0,47713000.0,47719000.0,47724000.0,47729000.0,47730000.0,47782000.0,47783000.0]},\"selected\":{\"id\":\"25938\",\"type\":\"Selection\"},\"selection_policy\":{\"id\":\"25937\",\"type\":\"UnionRenderers\"}},\"id\":\"25112\",\"type\":\"ColumnDataSource\"},{\"attributes\":{},\"id\":\"25183\",\"type\":\"UnionRenderers\"},{\"attributes\":{},\"id\":\"25937\",\"type\":\"UnionRenderers\"},{\"attributes\":{},\"id\":\"25938\",\"type\":\"Selection\"},{\"attributes\":{\"base\":24,\"mantissas\":[1,2,4,6,8,12],\"max_interval\":43200000.0,\"min_interval\":3600000.0,\"num_minor_ticks\":0},\"id\":\"25159\",\"type\":\"AdaptiveTicker\"},{\"attributes\":{\"callback\":null},\"id\":\"25116\",\"type\":\"DataRange1d\"},{\"attributes\":{\"dimension\":1,\"ticker\":{\"id\":\"25128\",\"type\":\"BasicTicker\"}},\"id\":\"25131\",\"type\":\"Grid\"},{\"attributes\":{\"source\":{\"id\":\"25111\",\"type\":\"ColumnDataSource\"}},\"id\":\"25149\",\"type\":\"CDSView\"},{\"attributes\":{\"active_drag\":\"auto\",\"active_inspect\":\"auto\",\"active_multi\":null,\"active_scroll\":\"auto\",\"active_tap\":\"auto\",\"tools\":[{\"id\":\"25132\",\"type\":\"PanTool\"},{\"id\":\"25133\",\"type\":\"WheelZoomTool\"},{\"id\":\"25134\",\"type\":\"BoxZoomTool\"},{\"id\":\"25135\",\"type\":\"SaveTool\"},{\"id\":\"25136\",\"type\":\"ResetTool\"},{\"id\":\"25137\",\"type\":\"HelpTool\"}]},\"id\":\"25138\",\"type\":\"Toolbar\"},{\"attributes\":{},\"id\":\"25132\",\"type\":\"PanTool\"},{\"attributes\":{\"overlay\":{\"id\":\"25156\",\"type\":\"BoxAnnotation\"}},\"id\":\"25134\",\"type\":\"BoxZoomTool\"},{\"attributes\":{\"line_alpha\":0.1,\"line_color\":\"#1f77b4\",\"line_width\":2,\"x\":{\"field\":\"time\"},\"y\":{\"field\":\"altitude\"}},\"id\":\"25173\",\"type\":\"Line\"},{\"attributes\":{\"label\":{\"value\":\"Athlete5\"},\"renderers\":[{\"id\":\"25148\",\"type\":\"GlyphRenderer\"}]},\"id\":\"25170\",\"type\":\"LegendItem\"},{\"attributes\":{},\"id\":\"25118\",\"type\":\"LinearScale\"},{\"attributes\":{\"ticker\":{\"id\":\"25123\",\"type\":\"DatetimeTicker\"}},\"id\":\"25126\",\"type\":\"Grid\"},{\"attributes\":{},\"id\":\"25135\",\"type\":\"SaveTool\"},{\"attributes\":{\"days\":[1,8,15,22]},\"id\":\"25162\",\"type\":\"DaysTicker\"},{\"attributes\":{\"base\":60,\"mantissas\":[1,2,5,10,15,20,30],\"max_interval\":1800000.0,\"min_interval\":1000.0,\"num_minor_ticks\":0},\"id\":\"25158\",\"type\":\"AdaptiveTicker\"},{\"attributes\":{\"months\":[0,1,2,3,4,5,6,7,8,9,10,11]},\"id\":\"25164\",\"type\":\"MonthsTicker\"},{\"attributes\":{\"items\":[{\"id\":\"25170\",\"type\":\"LegendItem\"},{\"id\":\"25197\",\"type\":\"LegendItem\"}]},\"id\":\"25169\",\"type\":\"Legend\"},{\"attributes\":{\"source\":{\"id\":\"25112\",\"type\":\"ColumnDataSource\"}},\"id\":\"25175\",\"type\":\"CDSView\"},{\"attributes\":{\"days\":[1,4,7,10,13,16,19,22,25,28]},\"id\":\"25161\",\"type\":\"DaysTicker\"},{\"attributes\":{\"line_alpha\":0.1,\"line_color\":\"#1f77b4\",\"line_width\":2,\"x\":{\"field\":\"time\"},\"y\":{\"field\":\"altitude\"}},\"id\":\"25147\",\"type\":\"Line\"},{\"attributes\":{\"months\":[0,2,4,6,8,10]},\"id\":\"25165\",\"type\":\"MonthsTicker\"},{\"attributes\":{\"days\":[1,2,3,4,5,6,7,8,9,10,11,12,13,14,15,16,17,18,19,20,21,22,23,24,25,26,27,28,29,30,31]},\"id\":\"25160\",\"type\":\"DaysTicker\"},{\"attributes\":{},\"id\":\"25155\",\"type\":\"DatetimeTickFormatter\"},{\"attributes\":{\"text\":\"\"},\"id\":\"25151\",\"type\":\"Title\"},{\"attributes\":{\"mantissas\":[1,2,5],\"max_interval\":500.0,\"num_minor_ticks\":0},\"id\":\"25157\",\"type\":\"AdaptiveTicker\"},{\"attributes\":{\"months\":[0,6]},\"id\":\"25167\",\"type\":\"MonthsTicker\"},{\"attributes\":{},\"id\":\"25137\",\"type\":\"HelpTool\"},{\"attributes\":{\"axis_label\":\"Athlete 5: journey 1087 and Athlete1: journey 10 time span\",\"formatter\":{\"id\":\"25155\",\"type\":\"DatetimeTickFormatter\"},\"ticker\":{\"id\":\"25123\",\"type\":\"DatetimeTicker\"}},\"id\":\"25122\",\"type\":\"DatetimeAxis\"},{\"attributes\":{\"days\":[1,15]},\"id\":\"25163\",\"type\":\"DaysTicker\"},{\"attributes\":{\"data_source\":{\"id\":\"25112\",\"type\":\"ColumnDataSource\"},\"glyph\":{\"id\":\"25172\",\"type\":\"Line\"},\"hover_glyph\":null,\"muted_glyph\":null,\"nonselection_glyph\":{\"id\":\"25173\",\"type\":\"Line\"},\"selection_glyph\":null,\"view\":{\"id\":\"25175\",\"type\":\"CDSView\"}},\"id\":\"25174\",\"type\":\"GlyphRenderer\"},{\"attributes\":{\"callback\":null},\"id\":\"25114\",\"type\":\"DataRange1d\"},{\"attributes\":{\"line_color\":\"olive\",\"line_width\":2,\"x\":{\"field\":\"time\"},\"y\":{\"field\":\"altitude\"}},\"id\":\"25172\",\"type\":\"Line\"},{\"attributes\":{},\"id\":\"25168\",\"type\":\"YearsTicker\"},{\"attributes\":{\"data_source\":{\"id\":\"25111\",\"type\":\"ColumnDataSource\"},\"glyph\":{\"id\":\"25146\",\"type\":\"Line\"},\"hover_glyph\":null,\"muted_glyph\":null,\"nonselection_glyph\":{\"id\":\"25147\",\"type\":\"Line\"},\"selection_glyph\":null,\"view\":{\"id\":\"25149\",\"type\":\"CDSView\"}},\"id\":\"25148\",\"type\":\"GlyphRenderer\"},{\"attributes\":{\"num_minor_ticks\":5,\"tickers\":[{\"id\":\"25157\",\"type\":\"AdaptiveTicker\"},{\"id\":\"25158\",\"type\":\"AdaptiveTicker\"},{\"id\":\"25159\",\"type\":\"AdaptiveTicker\"},{\"id\":\"25160\",\"type\":\"DaysTicker\"},{\"id\":\"25161\",\"type\":\"DaysTicker\"},{\"id\":\"25162\",\"type\":\"DaysTicker\"},{\"id\":\"25163\",\"type\":\"DaysTicker\"},{\"id\":\"25164\",\"type\":\"MonthsTicker\"},{\"id\":\"25165\",\"type\":\"MonthsTicker\"},{\"id\":\"25166\",\"type\":\"MonthsTicker\"},{\"id\":\"25167\",\"type\":\"MonthsTicker\"},{\"id\":\"25168\",\"type\":\"YearsTicker\"}]},\"id\":\"25123\",\"type\":\"DatetimeTicker\"},{\"attributes\":{},\"id\":\"25153\",\"type\":\"BasicTickFormatter\"},{\"attributes\":{\"axis_label\":\"altitude\",\"formatter\":{\"id\":\"25153\",\"type\":\"BasicTickFormatter\"},\"ticker\":{\"id\":\"25128\",\"type\":\"BasicTicker\"}},\"id\":\"25127\",\"type\":\"LinearAxis\"},{\"attributes\":{},\"id\":\"25184\",\"type\":\"Selection\"},{\"attributes\":{},\"id\":\"25133\",\"type\":\"WheelZoomTool\"},{\"attributes\":{\"callback\":null,\"data\":{\"altitude\":{\"__ndarray__\":\"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\",\"dtype\":\"float64\",\"shape\":[819]},\"athlete\":[\"Athlete5\",\"Athlete5\",\"Athlete5\",\"Athlete5\",\"Athlete5\",\"Athlete5\",\"Athlete5\",\"Athlete5\",\"Athlete5\",\"Athlete5\",\"Athlete5\",\"Athlete5\",\"Athlete5\",\"Athlete5\",\"Athlete5\",\"Athlete5\",\"Athlete5\",\"Athlete5\",\"Athlete5\",\"Athlete5\",\"Athlete5\",\"Athlete5\",\"Athlete5\",\"Athlete5\",\"Athlete5\",\"Athlete5\",\"Athlete5\",\"Athlete5\",\"Athlete5\",\"Athlete5\",\"Athlete5\",\"Athlete5\",\"Athlete5\",\"Athlete5\",\"Athlete5\",\"Athlete5\",\"Athlete5\",\"Athlete5\",\"Athlete5\",\"Athlete5\",\"Athlete5\",\"Athlete5\",\"Athlete5\",\"Athlete5\",\"Athlete5\",\"Athlete5\",\"Athlete5\",\"Athlete5\",\"Athlete5\",\"Athlete5\",\"Athlete5\",\"Athlete5\",\"Athlete5\",\"Athlete5\",\"Athlete5\",\"Athlete5\",\"Athlete5\",\"Athlete5\",\"Athlete5\",\"Athlete5\",\"Athlete5\",\"Athlete5\",\"Athlete5\",\"Athlete5\",\"Athlete5\",\"Athlete5\",\"Athlete5\",\"Athlete5\",\"Athlete5\",\"Athlete5\",\"Athlete5\",\"Athlete5\",\"Athlete5\",\"Athlete5\",\"Athlete5\",\"Athlete5\",\"Athlete5\",\"Athlete5\",\"Athlete5\",\"Athlete5\",\"Athlete5\",\"Athlete5\",\"Athlete5\",\"Athlete5\",\"Athlete5\",\"Athlete5\",\"Athlete5\",\"Athlete5\",\"Athlete5\",\"Athlete5\",\"Athlete5\",\"Athlete5\",\"Athlete5\",\"Athlete5\",\"Athlete5\",\"Athlete5\",\"Athlete5\",\"Athlete5\",\"Athlete5\",\"Athlete5\",\"Athlete5\",\"Athlete5\",\"Athlete5\",\"Athlete5\",\"Athlete5\",\"Athlete5\",\"Athlete5\",\"Athlete5\",\"Athlete5\",\"Athlete5\",\"Athlete5\",\"Athlete5\",\"Athlete5\",\"Athlete5\",\"Athlete5\",\"Athlete5\",\"Athlete5\",\"Athlete5\",\"Athlete5\",\"Athlete5\",\"Athlete5\",\"Athlete5\",\"Athlete5\",\"Athlete5\",\"Athlete5\",\"Athlete5\",\"Athlete5\",\"Athlete5\",\"Athlete5\",\"Athlete5\",\"Athlete5\",\"Athlete5\",\"Athlete5\",\"Athlete5\",\"Athlete5\",\"Athlete5\",\"Athlete5\",\"Athlete5\",\"Athlete5\",\"Athlete5\",\"Athlete5\",\"Athlete5\",\"Athlete5\",\"Athlete5\",\"Athlete5\",\"Athlete5\",\"Athlete5\",\"Athlete5\",\"Athlete5\",\"Athlete5\",\"Athlete5\",\"Athlete5\",\"Athlete5\",\"Athlete5\",\"Athlete5\",\"Athlete5\",\"Athlete5\",\"Athlete5\",\"Athlete5\",\"Athlete5\",\"Athlete5\",\"Athlete5\",\"Athlete5\",\"Athlete5\",\"Athlete5\",\"Athlete5\",\"Athlete5\",\"Athlete5\",\"Athlete5\",\"Athlete5\",\"Athlete5\",\"Athlete5\",\"Athlete5\",\"Athlete5\",\"Athlete5\",\"Athlete5\",\"Athlete5\",\"Athlete5\",\"Athlete5\",\"Athlete5\",\"Athlete5\",\"Athlete5\",\"Athlete5\",\"Athlete5\",\"Athlete5\",\"Athlete5\",\"Athlete5\",\"Athlete5\",\"Athlete5\",\"Athlete5\",\"Athlete5\",\"Athlete5\",\"Athlete5\",\"Athlete5\",\"Athlete5\",\"Athlete5\",\"Athlete5\",\"Athlete5\",\"Athlete5\",\"Athlete5\",\"Athlete5\",\"Athlete5\",\"Athlete5\",\"Athlete5\",\"Athlete5\",\"Athlete5\",\"Athlete5\",\"Athlete5\",\"Athlete5\",\"Athlete5\",\"Athlete5\",\"Athlete5\",\"Athlete5\",\"Athlete5\",\"Athlete5\",\"Athlete5\",\"Athlete5\",\"Athlete5\",\"Athlete5\",\"Athlete5\",\"Athlete5\",\"Athlete5\",\"Athlete5\",\"Athlete5\",\"Athlete5\",\"Athlete5\",\"Athlete5\",\"Athlete5\",\"Athlete5\",\"Athlete5\",\"Athlete5\",\"Athlete5\",\"Athlete5\",\"Athlete5\",\"Athlete5\",\"Athlete5\",\"Athlete5\",\"Athlete5\",\"Athlete5\",\"Athlete5\",\"Athlete5\",\"Athlete5\",\"Athlete5\",\"Athlete5\",\"Athlete5\",\"Athlete5\",\"Athlete5\",\"Athlete5\",\"Athlete5\",\"Athlete5\",\"Athlete5\",\"Athlete5\",\"Athlete5\",\"Athlete5\",\"Athlete5\",\"Athlete5\",\"Athlete5\",\"Athlete5\",\"Athlete5\",\"Athlete5\",\"Athlete5\",\"Athlete5\",\"Athlete5\",\"Athlete5\",\"Athlete5\",\"Athlete5\",\"Athlete5\",\"Athlete5\",\"Athlete5\",\"Athlete5\",\"Athlete5\",\"Athlete5\",\"Athlete5\",\"Athlete5\",\"Athlete5\",\"Athlete5\",\"Athlete5\",\"Athlete5\",\"Athlete5\",\"Athlete5\",\"Athlete5\",\"Athlete5\",\"Athlete5\",\"Athlete5\",\"Athlete5\",\"Athlete5\",\"Athlete5\",\"Athlete5\",\"Athlete5\",\"Athlete5\",\"Athlete5\",\"Athlete5\",\"Athlete5\",\"Athlete5\",\"Athlete5\",\"Athlete5\",\"Athlete5\",\"Athlete5\",\"Athlete5\",\"Athlete5\",\"Athlete5\",\"Athlete5\",\"Athlete5\",\"Athlete5\",\"Athlete5\",\"Athlete5\",\"Athlete5\",\"Athlete5\",\"Athlete5\",\"Athlete5\",\"Athlete5\",\"Athlete5\",\"Athlete5\",\"Athlete5\",\"Athlete5\",\"Athlete5\",\"Athlete5\",\"Athlete5\",\"Athlete5\",\"Athlete5\",\"Athlete5\",\"Athlete5\",\"Athlete5\",\"Athlete5\",\"Athlete5\",\"Athlete5\",\"Athlete5\",\"Athlete5\",\"Athlete5\",\"Athlete5\",\"Athlete5\",\"Athlete5\",\"Athlete5\",\"Athlete5\",\"Athlete5\",\"Athlete5\",\"Athlete5\",\"Athlete5\",\"Athlete5\",\"Athlete5\",\"Athlete5\",\"Athlete5\",\"Athlete5\",\"Athlete5\",\"Athlete5\",\"Athlete5\",\"Athlete5\",\"Athlete5\",\"Athlete5\",\"Athlete5\",\"Athlete5\",\"Athlete5\",\"Athlete5\",\"Athlete5\",\"Athlete5\",\"Athlete5\",\"Athlete5\",\"Athlete5\",\"Athlete5\",\"Athlete5\",\"Athlete5\",\"Athlete5\",\"Athlete5\",\"Athlete5\",\"Athlete5\",\"Athlete5\",\"Athlete5\",\"Athlete5\",\"Athlete5\",\"Athlete5\",\"Athlete5\",\"Athlete5\",\"Athlete5\",\"Athlete5\",\"Athlete5\",\"Athlete5\",\"Athlete5\",\"Athlete5\",\"Athlete5\",\"Athlete5\",\"Athlete5\",\"Athlete5\",\"Athlete5\",\"Athlete5\",\"Athlete5\",\"Athlete5\",\"Athlete5\",\"Athlete5\",\"Athlete5\",\"Athlete5\",\"Athlete5\",\"Athlete5\",\"Athlete5\",\"Athlete5\",\"Athlete5\",\"Athlete5\",\"Athlete5\",\"Athlete5\",\"Athlete5\",\"Athlete5\",\"Athlete5\",\"Athlete5\",\"Athlete5\",\"Athlete5\",\"Athlete5\",\"Athlete5\",\"Athlete5\",\"Athlete5\",\"Athlete5\",\"Athlete5\",\"Athlete5\",\"Athlete5\",\"Athlete5\",\"Athlete5\",\"Athlete5\",\"Athlete5\",\"Athlete5\",\"Athlete5\",\"Athlete5\",\"Athlete5\",\"Athlete5\",\"Athlete5\",\"Athlete5\",\"Athlete5\",\"Athlete5\",\"Athlete5\",\"Athlete5\",\"Athlete5\",\"Athlete5\",\"Athlete5\",\"Athlete5\",\"Athlete5\",\"Athlete5\",\"Athlete5\",\"Athlete5\",\"Athlete5\",\"Athlete5\",\"Athlete5\",\"Athlete5\",\"Athlete5\",\"Athlete5\",\"Athlete5\",\"Athlete5\",\"Athlete5\",\"Athlete5\",\"Athlete5\",\"Athlete5\",\"Athlete5\",\"Athlete5\",\"Athlete5\",\"Athlete5\",\"Athlete5\",\"Athlete5\",\"Athlete5\",\"Athlete5\",\"Athlete5\",\"Athlete5\",\"Athlete5\",\"Athlete5\",\"Athlete5\",\"Athlete5\",\"Athlete5\",\"Athlete5\",\"Athlete5\",\"Athlete5\",\"Athlete5\",\"Athlete5\",\"Athlete5\",\"Athlete5\",\"Athlete5\",\"Athlete5\",\"Athlete5\",\"Athlete5\",\"Athlete5\",\"Athlete5\",\"Athlete5\",\"Athlete5\",\"Athlete5\",\"Athlete5\",\"Athlete5\",\"Athlete5\",\"Athlete5\",\"Athlete5\",\"Athlete5\",\"Athlete5\",\"Athlete5\",\"Athlete5\",\"Athlete5\",\"Athlete5\",\"Athlete5\",\"Athlete5\",\"Athlete5\",\"Athlete5\",\"Athlete5\",\"Athlete5\",\"Athlete5\",\"Athlete5\",\"Athlete5\",\"Athlete5\",\"Athlete5\",\"Athlete5\",\"Athlete5\",\"Athlete5\",\"Athlete5\",\"Athlete5\",\"Athlete5\",\"Athlete5\",\"Athlete5\",\"Athlete5\",\"Athlete5\",\"Athlete5\",\"Athlete5\",\"Athlete5\",\"Athlete5\",\"Athlete5\",\"Athlete5\",\"Athlete5\",\"Athlete5\",\"Athlete5\",\"Athlete5\",\"Athlete5\",\"Athlete5\",\"Athlete5\",\"Athlete5\",\"Athlete5\",\"Athlete5\",\"Athlete5\",\"Athlete5\",\"Athlete5\",\"Athlete5\",\"Athlete5\",\"Athlete5\",\"Athlete5\",\"Athlete5\",\"Athlete5\",\"Athlete5\",\"Athlete5\",\"Athlete5\",\"Athlete5\",\"Athlete5\",\"Athlete5\",\"Athlete5\",\"Athlete5\",\"Athlete5\",\"Athlete5\",\"Athlete5\",\"Athlete5\",\"Athlete5\",\"Athlete5\",\"Athlete5\",\"Athlete5\",\"Athlete5\",\"Athlete5\",\"Athlete5\",\"Athlete5\",\"Athlete5\",\"Athlete5\",\"Athlete5\",\"Athlete5\",\"Athlete5\",\"Athlete5\",\"Athlete5\",\"Athlete5\",\"Athlete5\",\"Athlete5\",\"Athlete5\",\"Athlete5\",\"Athlete5\",\"Athlete5\",\"Athlete5\",\"Athlete5\",\"Athlete5\",\"Athlete5\",\"Athlete5\",\"Athlete5\",\"Athlete5\",\"Athlete5\",\"Athlete5\",\"Athlete5\",\"Athlete5\",\"Athlete5\",\"Athlete5\",\"Athlete5\",\"Athlete5\",\"Athlete5\",\"Athlete5\",\"Athlete5\",\"Athlete5\",\"Athlete5\",\"Athlete5\",\"Athlete5\",\"Athlete5\",\"Athlete5\",\"Athlete5\",\"Athlete5\",\"Athlete5\",\"Athlete5\",\"Athlete5\",\"Athlete5\",\"Athlete5\",\"Athlete5\",\"Athlete5\",\"Athlete5\",\"Athlete5\",\"Athlete5\",\"Athlete5\",\"Athlete5\",\"Athlete5\",\"Athlete5\",\"Athlete5\",\"Athlete5\",\"Athlete5\",\"Athlete5\",\"Athlete5\",\"Athlete5\",\"Athlete5\",\"Athlete5\",\"Athlete5\",\"Athlete5\",\"Athlete5\",\"Athlete5\",\"Athlete5\",\"Athlete5\",\"Athlete5\",\"Athlete5\",\"Athlete5\",\"Athlete5\",\"Athlete5\",\"Athlete5\",\"Athlete5\",\"Athlete5\",\"Athlete5\",\"Athlete5\",\"Athlete5\",\"Athlete5\",\"Athlete5\",\"Athlete5\",\"Athlete5\",\"Athlete5\",\"Athlete5\",\"Athlete5\",\"Athlete5\",\"Athlete5\",\"Athlete5\",\"Athlete5\",\"Athlete5\",\"Athlete5\",\"Athlete5\",\"Athlete5\",\"Athlete5\",\"Athlete5\",\"Athlete5\",\"Athlete5\",\"Athlete5\",\"Athlete5\",\"Athlete5\",\"Athlete5\",\"Athlete5\",\"Athlete5\",\"Athlete5\",\"Athlete5\",\"Athlete5\",\"Athlete5\",\"Athlete5\",\"Athlete5\",\"Athlete5\",\"Athlete5\",\"Athlete5\",\"Athlete5\",\"Athlete5\",\"Athlete5\",\"Athlete5\",\"Athlete5\",\"Athlete5\",\"Athlete5\",\"Athlete5\",\"Athlete5\",\"Athlete5\",\"Athlete5\",\"Athlete5\",\"Athlete5\",\"Athlete5\",\"Athlete5\",\"Athlete5\",\"Athlete5\",\"Athlete5\",\"Athlete5\",\"Athlete5\",\"Athlete5\",\"Athlete5\",\"Athlete5\",\"Athlete5\",\"Athlete5\",\"Athlete5\",\"Athlete5\",\"Athlete5\",\"Athlete5\",\"Athlete5\",\"Athlete5\",\"Athlete5\",\"Athlete5\",\"Athlete5\",\"Athlete5\",\"Athlete5\",\"Athlete5\",\"Athlete5\",\"Athlete5\",\"Athlete5\",\"Athlete5\",\"Athlete5\",\"Athlete5\",\"Athlete5\",\"Athlete5\",\"Athlete5\",\"Athlete5\",\"Athlete5\",\"Athlete5\",\"Athlete5\",\"Athlete5\",\"Athlete5\",\"Athlete5\",\"Athlete5\",\"Athlete5\",\"Athlete5\",\"Athlete5\",\"Athlete5\",\"Athlete5\",\"Athlete5\",\"Athlete5\",\"Athlete5\",\"Athlete5\",\"Athlete5\",\"Athlete5\",\"Athlete5\",\"Athlete5\",\"Athlete5\",\"Athlete5\",\"Athlete5\",\"Athlete5\",\"Athlete5\",\"Athlete5\",\"Athlete5\",\"Athlete5\",\"Athlete5\",\"Athlete5\",\"Athlete5\",\"Athlete5\",\"Athlete5\",\"Athlete5\",\"Athlete5\",\"Athlete5\",\"Athlete5\",\"Athlete5\",\"Athlete5\",\"Athlete5\",\"Athlete5\",\"Athlete5\",\"Athlete5\",\"Athlete5\",\"Athlete5\",\"Athlete5\",\"Athlete5\",\"Athlete5\",\"Athlete5\",\"Athlete5\",\"Athlete5\",\"Athlete5\",\"Athlete5\",\"Athlete5\",\"Athlete5\",\"Athlete5\",\"Athlete5\",\"Athlete5\",\"Athlete5\",\"Athlete5\",\"Athlete5\",\"Athlete5\",\"Athlete5\",\"Athlete5\",\"Athlete5\",\"Athlete5\",\"Athlete5\",\"Athlete5\",\"Athlete5\",\"Athlete5\",\"Athlete5\",\"Athlete5\",\"Athlete5\",\"Athlete5\",\"Athlete5\",\"Athlete5\",\"Athlete5\",\"Athlete5\",\"Athlete5\",\"Athlete5\",\"Athlete5\",\"Athlete5\",\"Athlete5\",\"Athlete5\",\"Athlete5\",\"Athlete5\",\"Athlete5\",\"Athlete5\",\"Athlete5\",\"Athlete5\",\"Athlete5\",\"Athlete5\",\"Athlete5\",\"Athlete5\",\"Athlete5\",\"Athlete5\",\"Athlete5\",\"Athlete5\",\"Athlete5\",\"Athlete5\",\"Athlete5\",\"Athlete5\",\"Athlete5\",\"Athlete5\"],\"distance\":[0,5,5,7,7,7,7,7,7,7,7,8,7,7,10,8,9,9,9,10,11,10,11,10,10,9,9,9,8,8,8,8,7,7,8,7,7,8,8,10,10,11,10,7,4,3,6,8,10,11,11,10,10,8,9,5,5,25,11,11,12,17,15,20,20,22,21,25,28,27,27,26,26,23,23,23,23,21,22,25,23,23,21,24,21,22,24,21,24,24,23,28,28,29,29,28,28,32,36,34,34,37,32,42,39,41,41,38,43,48,40,46,49,46,42,51,48,43,52,44,50,48,51,53,49,48,44,48,49,46,43,46,43,41,42,42,41,39,40,44,40,40,35,40,35,37,35,32,38,28,34,36,30,34,31,34,31,36,40,36,36,35,34,42,75,43,36,38,41,38,39,69,38,40,36,31,37,36,33,39,33,34,41,36,32,35,38,33,33,35,61,35,30,31,29,31,34,32,33,31,36,31,39,32,31,36,35,32,38,37,37,34,43,34,40,45,43,43,43,38,53,47,42,52,63,40,55,61,57,63,63,55,71,64,57,72,64,56,70,62,71,64,64,57,67,71,65,62,65,63,71,62,68,66,60,67,73,68,63,58,69,54,66,58,52,62,56,46,60,49,49,47,45,40,41,41,37,36,35,31,39,34,34,35,29,34,40,29,36,36,69,39,34,33,39,35,67,37,39,36,36,34,37,39,37,38,37,33,40,36,37,38,35,39,47,43,43,41,50,43,54,50,49,57,57,47,64,54,58,54,55,49,57,59,52,52,51,42,58,40,55,48,41,49,54,92,52,54,43,57,50,43,59,51,44,56,45,54,49,49,41,48,48,53,50,48,45,53,49,50,51,44,55,59,54,56,52,64,52,69,63,58,70,63,62,74,69,72,75,71,62,82,75,71,67,69,57,78,58,69,77,56,72,67,64,79,68,75,65,79,74,69,148,75,80,65,76,68,67,58,64,68,54,63,55,50,55,53,53,49,46,49,56,52,54,50,114,69,64,57,71,68,58,76,63,67,64,62,62,127,62,63,63,52,72,188,52,63,73,63,55,70,70,58,68,65,56,64,50,82,72,60,70,66,65,57,67,71,62,65,66,62,66,65,68,63,62,59,75,62,65,54,64,66,70,64,56,67,60,53,67,57,64,61,60,52,62,68,61,61,62,50,72,61,50,72,49,66,173,52,52,47,51,48,43,50,45,43,48,44,51,50,52,45,57,56,55,53,53,48,54,53,52,52,49,51,55,51,54,50,56,49,57,54,50,57,54,50,57,55,51,54,54,49,53,58,53,54,53,44,60,43,62,52,49,52,55,53,158,48,58,55,46,57,52,44,64,51,59,58,61,51,64,77,68,69,72,63,74,70,69,68,64,60,77,66,62,58,64,55,61,56,50,54,49,44,53,45,45,44,43,39,43,47,45,46,44,41,48,129,44,37,55,77,51,43,40,46,43,39,41,35,42,38,32,36,31,31,26,27,27,24,22,21,20,22,22,23,23,21,23,26,23,23,20,24,20,24,22,18,25,22,20,24,23,22,23,23,22,23,25,22,24,24,21,28,24,71,24,23,28,21,28,25,22,26,24,22,26,23,20,24,24,25,23,22,20,23,26,24,24,24,22,25,23,23,23,22,24,25,23,24,23,25,23,25,23,22,24,22,18,25,22,20,20,19,19,17,17,14,14,13,10,12,16,6,11,9,10,5,9,9,8,7,2,10,5,5,6,7,7,8,9,9,10,10,9,8,8,8,7,18,8,8,9,8,9,9,9,10,11,10,12,12,13,15,15,14,14,13,12,12,11,10,11,10,10,10,10,9,10,14,8,7,9,5,5,5,7,5,5,7,7,7,10,8,4,0,1],\"index\":[0,1,2,3,4,5,6,7,8,9,10,11,12,13,14,15,16,17,18,19,20,21,22,23,24,25,26,27,28,29,30,31,32,33,34,35,36,37,38,39,40,41,42,43,44,45,46,47,48,49,50,51,52,53,54,55,56,57,58,59,60,61,62,63,64,65,66,67,68,69,70,71,72,73,74,75,76,77,78,79,80,81,82,83,84,85,86,87,88,89,90,91,92,93,94,95,96,97,98,99,100,101,102,103,104,105,106,107,108,109,110,111,112,113,114,115,116,117,118,119,120,121,122,123,124,125,126,127,128,129,130,131,132,133,134,135,136,137,138,139,140,141,142,143,144,145,146,147,148,149,150,151,152,153,154,155,156,157,158,159,160,161,162,163,164,165,166,167,168,169,170,171,172,173,174,175,176,177,178,179,180,181,182,183,184,185,186,187,188,189,190,191,192,193,194,195,196,197,198,199,200,201,202,203,204,205,206,207,208,209,210,211,212,213,214,215,216,217,218,219,220,221,222,223,224,225,226,227,228,229,230,231,232,233,234,235,236,237,238,239,240,241,242,243,244,245,246,247,248,249,250,251,252,253,254,255,256,257,258,259,260,261,262,263,264,265,266,267,268,269,270,271,272,273,274,275,276,277,278,279,280,281,282,283,284,285,286,287,288,289,290,291,292,293,294,295,296,297,298,299,300,301,302,303,304,305,306,307,308,309,310,311,312,313,314,315,316,317,318,319,320,321,322,323,324,325,326,327,328,329,330,331,332,333,334,335,336,337,338,339,340,341,342,343,344,345,346,347,348,349,350,351,352,353,354,355,356,357,358,359,360,361,362,363,364,365,366,367,368,369,370,371,372,373,374,375,376,377,378,379,380,381,382,383,384,385,386,387,388,389,390,391,392,393,394,395,396,397,398,399,400,401,402,403,404,405,406,407,408,409,410,411,412,413,414,415,416,417,418,419,420,421,422,423,424,425,426,427,428,429,430,431,432,433,434,435,436,437,438,439,440,441,442,443,444,445,446,447,448,449,450,451,452,453,454,455,456,457,458,459,460,461,462,463,464,465,466,467,468,469,470,471,472,473,474,475,476,477,478,479,480,481,482,483,484,485,486,487,488,489,490,491,492,493,494,495,496,497,498,499,500,501,502,503,504,505,506,507,508,509,510,511,512,513,514,515,516,517,518,519,520,521,522,523,524,525,526,527,528,529,530,531,532,533,534,535,536,537,538,539,540,541,542,543,544,545,546,547,548,549,550,551,552,553,554,555,556,557,558,559,560,561,562,563,564,565,566,567,568,569,570,571,572,573,574,575,576,577,578,579,580,581,582,583,584,585,586,587,588,589,590,591,592,593,594,595,596,597,598,599,600,601,602,603,604,605,606,607,608,609,610,611,612,613,614,615,616,617,618,619,620,621,622,623,624,625,626,627,628,629,630,631,632,633,634,635,636,637,638,639,640,641,642,643,644,645,646,647,648,649,650,651,652,653,654,655,656,657,658,659,660,661,662,663,664,665,666,667,668,669,670,671,672,673,674,675,676,677,678,679,680,681,682,683,684,685,686,687,688,689,690,691,692,693,694,695,696,697,698,699,700,701,702,703,704,705,706,707,708,709,710,711,712,713,714,715,716,717,718,719,720,721,722,723,724,725,726,727,728,729,730,731,732,733,734,735,736,737,738,739,740,741,742,743,744,745,746,747,748,749,750,751,752,753,754,755,756,757,758,759,760,761,762,763,764,765,766,767,768,769,770,771,772,773,774,775,776,777,778,779,780,781,782,783,784,785,786,787,788,789,790,791,792,793,794,795,796,797,798,799,800,801,802,803,804,805,806,807,808,809,810,811,812,813,814,815,816,817,818],\"journey\":[1087,1087,1087,1087,1087,1087,1087,1087,1087,1087,1087,1087,1087,1087,1087,1087,1087,1087,1087,1087,1087,1087,1087,1087,1087,1087,1087,1087,1087,1087,1087,1087,1087,1087,1087,1087,1087,1087,1087,1087,1087,1087,1087,1087,1087,1087,1087,1087,1087,1087,1087,1087,1087,1087,1087,1087,1087,1087,1087,1087,1087,1087,1087,1087,1087,1087,1087,1087,1087,1087,1087,1087,1087,1087,1087,1087,1087,1087,1087,1087,1087,1087,1087,1087,1087,1087,1087,1087,1087,1087,1087,1087,1087,1087,1087,1087,1087,1087,1087,1087,1087,1087,1087,1087,1087,1087,1087,1087,1087,1087,1087,1087,1087,1087,1087,1087,1087,1087,1087,1087,1087,1087,1087,1087,1087,1087,1087,1087,1087,1087,1087,1087,1087,1087,1087,1087,1087,1087,1087,1087,1087,1087,1087,1087,1087,1087,1087,1087,1087,1087,1087,1087,1087,1087,1087,1087,1087,1087,1087,1087,1087,1087,1087,1087,1087,1087,1087,1087,1087,1087,1087,1087,1087,1087,1087,1087,1087,1087,1087,1087,1087,1087,1087,1087,1087,1087,1087,1087,1087,1087,1087,1087,1087,1087,1087,1087,1087,1087,1087,1087,1087,1087,1087,1087,1087,1087,1087,1087,1087,1087,1087,1087,1087,1087,1087,1087,1087,1087,1087,1087,1087,1087,1087,1087,1087,1087,1087,1087,1087,1087,1087,1087,1087,1087,1087,1087,1087,1087,1087,1087,1087,1087,1087,1087,1087,1087,1087,1087,1087,1087,1087,1087,1087,1087,1087,1087,1087,1087,1087,1087,1087,1087,1087,1087,1087,1087,1087,1087,1087,1087,1087,1087,1087,1087,1087,1087,1087,1087,1087,1087,1087,1087,1087,1087,1087,1087,1087,1087,1087,1087,1087,1087,1087,1087,1087,1087,1087,1087,1087,1087,1087,1087,1087,1087,1087,1087,1087,1087,1087,1087,1087,1087,1087,1087,1087,1087,1087,1087,1087,1087,1087,1087,1087,1087,1087,1087,1087,1087,1087,1087,1087,1087,1087,1087,1087,1087,1087,1087,1087,1087,1087,1087,1087,1087,1087,1087,1087,1087,1087,1087,1087,1087,1087,1087,1087,1087,1087,1087,1087,1087,1087,1087,1087,1087,1087,1087,1087,1087,1087,1087,1087,1087,1087,1087,1087,1087,1087,1087,1087,1087,1087,1087,1087,1087,1087,1087,1087,1087,1087,1087,1087,1087,1087,1087,1087,1087,1087,1087,1087,1087,1087,1087,1087,1087,1087,1087,1087,1087,1087,1087,1087,1087,1087,1087,1087,1087,1087,1087,1087,1087,1087,1087,1087,1087,1087,1087,1087,1087,1087,1087,1087,1087,1087,1087,1087,1087,1087,1087,1087,1087,1087,1087,1087,1087,1087,1087,1087,1087,1087,1087,1087,1087,1087,1087,1087,1087,1087,1087,1087,1087,1087,1087,1087,1087,1087,1087,1087,1087,1087,1087,1087,1087,1087,1087,1087,1087,1087,1087,1087,1087,1087,1087,1087,1087,1087,1087,1087,1087,1087,1087,1087,1087,1087,1087,1087,1087,1087,1087,1087,1087,1087,1087,1087,1087,1087,1087,1087,1087,1087,1087,1087,1087,1087,1087,1087,1087,1087,1087,1087,1087,1087,1087,1087,1087,1087,1087,1087,1087,1087,1087,1087,1087,1087,1087,1087,1087,1087,1087,1087,1087,1087,1087,1087,1087,1087,1087,1087,1087,1087,1087,1087,1087,1087,1087,1087,1087,1087,1087,1087,1087,1087,1087,1087,1087,1087,1087,1087,1087,1087,1087,1087,1087,1087,1087,1087,1087,1087,1087,1087,1087,1087,1087,1087,1087,1087,1087,1087,1087,1087,1087,1087,1087,1087,1087,1087,1087,1087,1087,1087,1087,1087,1087,1087,1087,1087,1087,1087,1087,1087,1087,1087,1087,1087,1087,1087,1087,1087,1087,1087,1087,1087,1087,1087,1087,1087,1087,1087,1087,1087,1087,1087,1087,1087,1087,1087,1087,1087,1087,1087,1087,1087,1087,1087,1087,1087,1087,1087,1087,1087,1087,1087,1087,1087,1087,1087,1087,1087,1087,1087,1087,1087,1087,1087,1087,1087,1087,1087,1087,1087,1087,1087,1087,1087,1087,1087,1087,1087,1087,1087,1087,1087,1087,1087,1087,1087,1087,1087,1087,1087,1087,1087,1087,1087,1087,1087,1087,1087,1087,1087,1087,1087,1087,1087,1087,1087,1087,1087,1087,1087,1087,1087,1087,1087,1087,1087,1087,1087,1087,1087,1087,1087,1087,1087,1087,1087,1087,1087,1087,1087,1087,1087,1087,1087,1087,1087,1087,1087,1087,1087,1087,1087,1087,1087,1087,1087,1087,1087,1087,1087,1087,1087,1087,1087,1087,1087,1087,1087,1087,1087,1087,1087,1087,1087,1087,1087,1087,1087,1087,1087,1087,1087,1087,1087,1087,1087,1087,1087,1087,1087,1087,1087,1087,1087,1087,1087,1087,1087,1087,1087,1087,1087,1087,1087,1087,1087,1087,1087,1087,1087,1087,1087,1087,1087,1087,1087,1087,1087,1087,1087,1087,1087,1087,1087,1087,1087,1087,1087,1087,1087],\"latitude\":{\"__ndarray__\":\"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\",\"dtype\":\"float64\",\"shape\":[819]},\"longitude\":{\"__ndarray__\":\"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\",\"dtype\":\"float64\",\"shape\":[819]},\"time\":[44905000.0,44907000.0,44909000.0,44911000.0,44913000.0,44915000.0,44917000.0,44919000.0,44921000.0,44923000.0,44925000.0,44927000.0,44929000.0,44931000.0,44934000.0,44936000.0,44938000.0,44940000.0,44942000.0,44944000.0,44946000.0,44948000.0,44950000.0,44952000.0,44954000.0,44956000.0,44958000.0,44960000.0,44962000.0,44964000.0,44966000.0,44968000.0,44970000.0,44972000.0,44974000.0,44976000.0,44978000.0,44980000.0,44982000.0,44984000.0,44986000.0,44988000.0,44990000.0,44992000.0,44996000.0,45078000.0,45106000.0,45108000.0,45110000.0,45112000.0,45114000.0,45116000.0,45118000.0,45120000.0,45123000.0,45125000.0,45127000.0,45132000.0,45133000.0,45134000.0,45135000.0,45136000.0,45137000.0,45138000.0,45139000.0,45140000.0,45141000.0,45142000.0,45143000.0,45144000.0,45145000.0,45146000.0,45147000.0,45148000.0,45149000.0,45150000.0,45151000.0,45152000.0,45153000.0,45154000.0,45155000.0,45156000.0,45157000.0,45158000.0,45159000.0,45160000.0,45161000.0,45162000.0,45163000.0,45164000.0,45165000.0,45166000.0,45167000.0,45168000.0,45169000.0,45170000.0,45171000.0,45172000.0,45173000.0,45174000.0,45175000.0,45176000.0,45177000.0,45178000.0,45179000.0,45180000.0,45181000.0,45182000.0,45183000.0,45184000.0,45185000.0,45186000.0,45187000.0,45188000.0,45189000.0,45190000.0,45191000.0,45192000.0,45193000.0,45194000.0,45195000.0,45196000.0,45197000.0,45198000.0,45199000.0,45200000.0,45201000.0,45202000.0,45203000.0,45204000.0,45205000.0,45206000.0,45207000.0,45208000.0,45209000.0,45210000.0,45211000.0,45212000.0,45213000.0,45214000.0,45215000.0,45216000.0,45217000.0,45218000.0,45219000.0,45220000.0,45221000.0,45222000.0,45223000.0,45224000.0,45225000.0,45226000.0,45227000.0,45228000.0,45229000.0,45230000.0,45231000.0,45232000.0,45233000.0,45234000.0,45235000.0,45236000.0,45237000.0,45238000.0,45240000.0,45241000.0,45242000.0,45243000.0,45244000.0,45245000.0,45246000.0,45248000.0,45249000.0,45250000.0,45251000.0,45252000.0,45253000.0,45254000.0,45255000.0,45256000.0,45257000.0,45258000.0,45259000.0,45260000.0,45261000.0,45262000.0,45263000.0,45264000.0,45265000.0,45266000.0,45268000.0,45269000.0,45270000.0,45271000.0,45272000.0,45273000.0,45274000.0,45275000.0,45276000.0,45277000.0,45278000.0,45279000.0,45280000.0,45281000.0,45282000.0,45283000.0,45284000.0,45285000.0,45286000.0,45287000.0,45288000.0,45289000.0,45290000.0,45291000.0,45292000.0,45293000.0,45294000.0,45295000.0,45296000.0,45297000.0,45298000.0,45299000.0,45300000.0,45301000.0,45302000.0,45303000.0,45304000.0,45305000.0,45306000.0,45307000.0,45308000.0,45309000.0,45310000.0,45311000.0,45312000.0,45313000.0,45314000.0,45315000.0,45316000.0,45317000.0,45318000.0,45319000.0,45320000.0,45321000.0,45322000.0,45323000.0,45324000.0,45325000.0,45326000.0,45327000.0,45328000.0,45329000.0,45330000.0,45331000.0,45332000.0,45333000.0,45334000.0,45335000.0,45336000.0,45337000.0,45338000.0,45339000.0,45340000.0,45341000.0,45342000.0,45343000.0,45344000.0,45345000.0,45346000.0,45347000.0,45348000.0,45349000.0,45350000.0,45351000.0,45352000.0,45353000.0,45354000.0,45355000.0,45356000.0,45357000.0,45358000.0,45359000.0,45360000.0,45361000.0,45362000.0,45363000.0,45364000.0,45365000.0,45366000.0,45367000.0,45369000.0,45370000.0,45371000.0,45372000.0,45373000.0,45374000.0,45376000.0,45377000.0,45378000.0,45379000.0,45380000.0,45381000.0,45382000.0,45383000.0,45384000.0,45385000.0,45386000.0,45387000.0,45388000.0,45389000.0,45390000.0,45391000.0,45392000.0,45393000.0,45394000.0,45395000.0,45396000.0,45397000.0,45398000.0,45399000.0,45400000.0,45401000.0,45402000.0,45403000.0,45404000.0,45405000.0,45406000.0,45407000.0,45408000.0,45409000.0,45410000.0,45411000.0,45412000.0,45413000.0,45414000.0,45415000.0,45416000.0,45417000.0,45418000.0,45419000.0,45420000.0,45421000.0,45422000.0,45423000.0,45424000.0,45426000.0,45427000.0,45428000.0,45429000.0,45430000.0,45431000.0,45432000.0,45433000.0,45434000.0,45435000.0,45436000.0,45437000.0,45438000.0,45439000.0,45440000.0,45441000.0,45442000.0,45443000.0,45444000.0,45445000.0,45446000.0,45447000.0,45448000.0,45449000.0,45450000.0,45451000.0,45452000.0,45453000.0,45454000.0,45455000.0,45456000.0,45457000.0,45458000.0,45459000.0,45460000.0,45461000.0,45462000.0,45463000.0,45464000.0,45465000.0,45466000.0,45467000.0,45468000.0,45469000.0,45470000.0,45471000.0,45472000.0,45473000.0,45474000.0,45475000.0,45476000.0,45477000.0,45478000.0,45479000.0,45480000.0,45481000.0,45482000.0,45483000.0,45484000.0,45485000.0,45486000.0,45487000.0,45488000.0,45489000.0,45490000.0,45491000.0,45492000.0,45494000.0,45495000.0,45496000.0,45497000.0,45498000.0,45499000.0,45500000.0,45501000.0,45502000.0,45503000.0,45504000.0,45505000.0,45506000.0,45507000.0,45508000.0,45509000.0,45510000.0,45511000.0,45512000.0,45513000.0,45514000.0,45515000.0,45516000.0,45517000.0,45518000.0,45519000.0,45520000.0,45521000.0,45522000.0,45523000.0,45524000.0,45525000.0,45526000.0,45527000.0,45528000.0,45529000.0,45530000.0,45532000.0,45533000.0,45534000.0,45535000.0,45536000.0,45537000.0,45540000.0,45541000.0,45542000.0,45543000.0,45544000.0,45545000.0,45546000.0,45547000.0,45548000.0,45549000.0,45550000.0,45551000.0,45552000.0,45553000.0,45554000.0,45555000.0,45556000.0,45557000.0,45558000.0,45559000.0,45560000.0,45561000.0,45562000.0,45563000.0,45564000.0,45565000.0,45566000.0,45567000.0,45568000.0,45569000.0,45570000.0,45571000.0,45572000.0,45573000.0,45574000.0,45575000.0,45576000.0,45577000.0,45578000.0,45579000.0,45580000.0,45581000.0,45582000.0,45583000.0,45584000.0,45585000.0,45586000.0,45587000.0,45588000.0,45589000.0,45590000.0,45591000.0,45592000.0,45593000.0,45594000.0,45595000.0,45596000.0,45597000.0,45598000.0,45599000.0,45600000.0,45601000.0,45602000.0,45605000.0,45606000.0,45607000.0,45608000.0,45609000.0,45610000.0,45611000.0,45612000.0,45613000.0,45614000.0,45615000.0,45616000.0,45617000.0,45618000.0,45619000.0,45620000.0,45621000.0,45622000.0,45623000.0,45624000.0,45625000.0,45626000.0,45627000.0,45628000.0,45629000.0,45630000.0,45631000.0,45632000.0,45633000.0,45634000.0,45635000.0,45636000.0,45637000.0,45638000.0,45639000.0,45640000.0,45641000.0,45642000.0,45643000.0,45644000.0,45645000.0,45646000.0,45647000.0,45648000.0,45649000.0,45650000.0,45651000.0,45652000.0,45653000.0,45654000.0,45655000.0,45656000.0,45657000.0,45658000.0,45659000.0,45660000.0,45661000.0,45662000.0,45663000.0,45664000.0,45667000.0,45668000.0,45669000.0,45670000.0,45671000.0,45672000.0,45673000.0,45674000.0,45675000.0,45676000.0,45677000.0,45678000.0,45679000.0,45680000.0,45681000.0,45682000.0,45683000.0,45684000.0,45685000.0,45686000.0,45687000.0,45688000.0,45689000.0,45690000.0,45691000.0,45692000.0,45693000.0,45694000.0,45695000.0,45696000.0,45697000.0,45698000.0,45699000.0,45700000.0,45701000.0,45702000.0,45703000.0,45704000.0,45705000.0,45706000.0,45707000.0,45708000.0,45709000.0,45710000.0,45711000.0,45712000.0,45713000.0,45714000.0,45715000.0,45716000.0,45717000.0,45720000.0,45721000.0,45722000.0,45723000.0,45725000.0,45726000.0,45727000.0,45728000.0,45729000.0,45730000.0,45731000.0,45732000.0,45733000.0,45734000.0,45735000.0,45736000.0,45737000.0,45738000.0,45739000.0,45740000.0,45741000.0,45742000.0,45743000.0,45744000.0,45745000.0,45746000.0,45747000.0,45748000.0,45749000.0,45750000.0,45751000.0,45752000.0,45753000.0,45754000.0,45755000.0,45756000.0,45757000.0,45758000.0,45759000.0,45760000.0,45761000.0,45762000.0,45763000.0,45764000.0,45765000.0,45766000.0,45767000.0,45768000.0,45769000.0,45770000.0,45771000.0,45772000.0,45773000.0,45774000.0,45775000.0,45776000.0,45777000.0,45778000.0,45781000.0,45782000.0,45783000.0,45784000.0,45785000.0,45786000.0,45787000.0,45788000.0,45789000.0,45790000.0,45791000.0,45792000.0,45793000.0,45794000.0,45795000.0,45796000.0,45797000.0,45798000.0,45799000.0,45800000.0,45801000.0,45802000.0,45803000.0,45804000.0,45805000.0,45806000.0,45807000.0,45808000.0,45809000.0,45810000.0,45811000.0,45812000.0,45813000.0,45814000.0,45815000.0,45816000.0,45817000.0,45818000.0,45819000.0,45820000.0,45821000.0,45822000.0,45823000.0,45824000.0,45825000.0,45826000.0,45827000.0,45828000.0,45829000.0,45830000.0,45831000.0,45832000.0,45833000.0,45834000.0,45835000.0,45836000.0,45837000.0,45839000.0,45840000.0,45842000.0,45844000.0,45847000.0,45849000.0,45852000.0,45855000.0,45858000.0,45861000.0,45862000.0,45866000.0,45868000.0,45870000.0,45872000.0,45874000.0,45876000.0,45878000.0,45880000.0,45882000.0,45884000.0,45886000.0,45888000.0,45890000.0,45892000.0,45894000.0,45896000.0,45900000.0,45902000.0,45904000.0,45906000.0,45908000.0,45910000.0,45912000.0,45914000.0,45916000.0,45918000.0,45920000.0,45922000.0,45924000.0,45926000.0,45928000.0,45930000.0,45932000.0,45934000.0,45936000.0,45938000.0,45940000.0,45942000.0,45944000.0,45946000.0,45948000.0,45950000.0,45952000.0,45954000.0,45956000.0,45958000.0,45961000.0,45963000.0,45965000.0,45968000.0,45970000.0,45972000.0,45974000.0,45977000.0,45979000.0,45981000.0,45983000.0,45985000.0,45987000.0,45990000.0,45993000.0,45996000.0,46006000.0,46026000.0]},\"selected\":{\"id\":\"25184\",\"type\":\"Selection\"},\"selection_policy\":{\"id\":\"25183\",\"type\":\"UnionRenderers\"}},\"id\":\"25111\",\"type\":\"ColumnDataSource\"},{\"attributes\":{\"bottom_units\":\"screen\",\"fill_alpha\":{\"value\":0.5},\"fill_color\":{\"value\":\"lightgrey\"},\"left_units\":\"screen\",\"level\":\"overlay\",\"line_alpha\":{\"value\":1.0},\"line_color\":{\"value\":\"black\"},\"line_dash\":[4,4],\"line_width\":{\"value\":2},\"render_mode\":\"css\",\"right_units\":\"screen\",\"top_units\":\"screen\"},\"id\":\"25156\",\"type\":\"BoxAnnotation\"},{\"attributes\":{\"months\":[0,4,8]},\"id\":\"25166\",\"type\":\"MonthsTicker\"},{\"attributes\":{},\"id\":\"25136\",\"type\":\"ResetTool\"}],\"root_ids\":[\"25113\"]},\"title\":\"Bokeh Application\",\"version\":\"1.4.0\"}};\n",
       "  var render_items = [{\"docid\":\"a41d24ea-fa9a-4eba-819f-0e8e823794af\",\"roots\":{\"25113\":\"8ec957a6-c732-4a7c-86e0-355fdbb3e05a\"}}];\n",
       "  root.Bokeh.embed.embed_items_notebook(docs_json, render_items);\n",
       "\n",
       "  }\n",
       "  if (root.Bokeh !== undefined) {\n",
       "    embed_document(root);\n",
       "  } else {\n",
       "    var attempts = 0;\n",
       "    var timer = setInterval(function(root) {\n",
       "      if (root.Bokeh !== undefined) {\n",
       "        clearInterval(timer);\n",
       "        embed_document(root);\n",
       "      } else {\n",
       "        attempts++;\n",
       "        if (attempts > 100) {\n",
       "          clearInterval(timer);\n",
       "          console.log(\"Bokeh: ERROR: Unable to run BokehJS code because BokehJS library is missing\");\n",
       "        }\n",
       "      }\n",
       "    }, 10, root)\n",
       "  }\n",
       "})(window);"
      ],
      "application/vnd.bokehjs_exec.v0+json": ""
     },
     "metadata": {
      "application/vnd.bokehjs_exec.v0+json": {
       "id": "25113"
      }
     },
     "output_type": "display_data"
    }
   ],
   "source": [
    "source = ColumnDataSource(sample_journey)\n",
    "source2 = ColumnDataSource(sample_journey2)\n",
    "\n",
    "\n",
    "\n",
    "p = figure(x_axis_type='datetime', plot_height=400, plot_width=900)\n",
    "\n",
    "p.line(x='time', y='altitude', line_width=2, source=source, color='orchid', legend_label='Athlete5')\n",
    "p.line(x='time', y='altitude', line_width=2, source=source2, color='olive', legend_label='Athlete1')\n",
    "\n",
    "p.xaxis.axis_label = 'Athlete 5: journey 1087 and Athlete1: journey 10 time span'\n",
    "p.yaxis.axis_label = 'altitude'\n",
    "\n",
    "show(p)"
   ]
  },
  {
   "cell_type": "markdown",
   "metadata": {},
   "source": [
    "#### We can clearly see that the first journey had much higher height difference. Now we see the second plot in a smaller altitude range:"
   ]
  },
  {
   "cell_type": "code",
   "execution_count": 296,
   "metadata": {},
   "outputs": [
    {
     "data": {
      "text/html": [
       "\n",
       "\n",
       "\n",
       "\n",
       "\n",
       "\n",
       "  <div class=\"bk-root\" id=\"115f939a-ced8-4972-8458-8d29d40e0f2d\" data-root-id=\"26089\"></div>\n"
      ]
     },
     "metadata": {},
     "output_type": "display_data"
    },
    {
     "data": {
      "application/javascript": [
       "(function(root) {\n",
       "  function embed_document(root) {\n",
       "    \n",
       "  var docs_json = {\"7b63a06e-4a50-4c7b-9104-892bc91c5ee0\":{\"roots\":{\"references\":[{\"attributes\":{\"below\":[{\"id\":\"26098\",\"type\":\"DatetimeAxis\"}],\"center\":[{\"id\":\"26102\",\"type\":\"Grid\"},{\"id\":\"26107\",\"type\":\"Grid\"},{\"id\":\"26145\",\"type\":\"Legend\"}],\"left\":[{\"id\":\"26103\",\"type\":\"LinearAxis\"}],\"plot_height\":400,\"renderers\":[{\"id\":\"26124\",\"type\":\"GlyphRenderer\"}],\"title\":{\"id\":\"26127\",\"type\":\"Title\"},\"toolbar\":{\"id\":\"26114\",\"type\":\"Toolbar\"},\"x_range\":{\"id\":\"26090\",\"type\":\"DataRange1d\"},\"x_scale\":{\"id\":\"26094\",\"type\":\"LinearScale\"},\"y_range\":{\"id\":\"26092\",\"type\":\"DataRange1d\"},\"y_scale\":{\"id\":\"26096\",\"type\":\"LinearScale\"}},\"id\":\"26089\",\"subtype\":\"Figure\",\"type\":\"Plot\"},{\"attributes\":{\"axis_label\":\"altitude\",\"formatter\":{\"id\":\"26129\",\"type\":\"BasicTickFormatter\"},\"ticker\":{\"id\":\"26104\",\"type\":\"BasicTicker\"}},\"id\":\"26103\",\"type\":\"LinearAxis\"},{\"attributes\":{\"axis_label\":\"Athlete 1, journey number 10 time span\",\"formatter\":{\"id\":\"26131\",\"type\":\"DatetimeTickFormatter\"},\"ticker\":{\"id\":\"26099\",\"type\":\"DatetimeTicker\"}},\"id\":\"26098\",\"type\":\"DatetimeAxis\"},{\"attributes\":{},\"id\":\"26112\",\"type\":\"ResetTool\"},{\"attributes\":{\"line_alpha\":0.1,\"line_color\":\"#1f77b4\",\"line_width\":2,\"x\":{\"field\":\"time\"},\"y\":{\"field\":\"altitude\"}},\"id\":\"26123\",\"type\":\"Line\"},{\"attributes\":{\"num_minor_ticks\":5,\"tickers\":[{\"id\":\"26133\",\"type\":\"AdaptiveTicker\"},{\"id\":\"26134\",\"type\":\"AdaptiveTicker\"},{\"id\":\"26135\",\"type\":\"AdaptiveTicker\"},{\"id\":\"26136\",\"type\":\"DaysTicker\"},{\"id\":\"26137\",\"type\":\"DaysTicker\"},{\"id\":\"26138\",\"type\":\"DaysTicker\"},{\"id\":\"26139\",\"type\":\"DaysTicker\"},{\"id\":\"26140\",\"type\":\"MonthsTicker\"},{\"id\":\"26141\",\"type\":\"MonthsTicker\"},{\"id\":\"26142\",\"type\":\"MonthsTicker\"},{\"id\":\"26143\",\"type\":\"MonthsTicker\"},{\"id\":\"26144\",\"type\":\"YearsTicker\"}]},\"id\":\"26099\",\"type\":\"DatetimeTicker\"},{\"attributes\":{},\"id\":\"25937\",\"type\":\"UnionRenderers\"},{\"attributes\":{},\"id\":\"25938\",\"type\":\"Selection\"},{\"attributes\":{\"days\":[1,4,7,10,13,16,19,22,25,28]},\"id\":\"26137\",\"type\":\"DaysTicker\"},{\"attributes\":{\"label\":{\"value\":\"Athlete1\"},\"renderers\":[{\"id\":\"26124\",\"type\":\"GlyphRenderer\"}]},\"id\":\"26146\",\"type\":\"LegendItem\"},{\"attributes\":{\"days\":[1,15]},\"id\":\"26139\",\"type\":\"DaysTicker\"},{\"attributes\":{\"overlay\":{\"id\":\"26132\",\"type\":\"BoxAnnotation\"}},\"id\":\"26110\",\"type\":\"BoxZoomTool\"},{\"attributes\":{\"days\":[1,8,15,22]},\"id\":\"26138\",\"type\":\"DaysTicker\"},{\"attributes\":{\"text\":\"\"},\"id\":\"26127\",\"type\":\"Title\"},{\"attributes\":{\"ticker\":{\"id\":\"26099\",\"type\":\"DatetimeTicker\"}},\"id\":\"26102\",\"type\":\"Grid\"},{\"attributes\":{},\"id\":\"26108\",\"type\":\"PanTool\"},{\"attributes\":{\"months\":[0,2,4,6,8,10]},\"id\":\"26141\",\"type\":\"MonthsTicker\"},{\"attributes\":{\"callback\":null},\"id\":\"26092\",\"type\":\"DataRange1d\"},{\"attributes\":{},\"id\":\"26113\",\"type\":\"HelpTool\"},{\"attributes\":{\"line_color\":\"olive\",\"line_width\":2,\"x\":{\"field\":\"time\"},\"y\":{\"field\":\"altitude\"}},\"id\":\"26122\",\"type\":\"Line\"},{\"attributes\":{\"dimension\":1,\"ticker\":{\"id\":\"26104\",\"type\":\"BasicTicker\"}},\"id\":\"26107\",\"type\":\"Grid\"},{\"attributes\":{\"callback\":null},\"id\":\"26090\",\"type\":\"DataRange1d\"},{\"attributes\":{},\"id\":\"26104\",\"type\":\"BasicTicker\"},{\"attributes\":{\"bottom_units\":\"screen\",\"fill_alpha\":{\"value\":0.5},\"fill_color\":{\"value\":\"lightgrey\"},\"left_units\":\"screen\",\"level\":\"overlay\",\"line_alpha\":{\"value\":1.0},\"line_color\":{\"value\":\"black\"},\"line_dash\":[4,4],\"line_width\":{\"value\":2},\"render_mode\":\"css\",\"right_units\":\"screen\",\"top_units\":\"screen\"},\"id\":\"26132\",\"type\":\"BoxAnnotation\"},{\"attributes\":{},\"id\":\"26111\",\"type\":\"SaveTool\"},{\"attributes\":{},\"id\":\"26144\",\"type\":\"YearsTicker\"},{\"attributes\":{\"source\":{\"id\":\"25112\",\"type\":\"ColumnDataSource\"}},\"id\":\"26125\",\"type\":\"CDSView\"},{\"attributes\":{\"months\":[0,4,8]},\"id\":\"26142\",\"type\":\"MonthsTicker\"},{\"attributes\":{},\"id\":\"26129\",\"type\":\"BasicTickFormatter\"},{\"attributes\":{\"months\":[0,6]},\"id\":\"26143\",\"type\":\"MonthsTicker\"},{\"attributes\":{\"active_drag\":\"auto\",\"active_inspect\":\"auto\",\"active_multi\":null,\"active_scroll\":\"auto\",\"active_tap\":\"auto\",\"tools\":[{\"id\":\"26108\",\"type\":\"PanTool\"},{\"id\":\"26109\",\"type\":\"WheelZoomTool\"},{\"id\":\"26110\",\"type\":\"BoxZoomTool\"},{\"id\":\"26111\",\"type\":\"SaveTool\"},{\"id\":\"26112\",\"type\":\"ResetTool\"},{\"id\":\"26113\",\"type\":\"HelpTool\"}]},\"id\":\"26114\",\"type\":\"Toolbar\"},{\"attributes\":{},\"id\":\"26109\",\"type\":\"WheelZoomTool\"},{\"attributes\":{\"days\":[1,2,3,4,5,6,7,8,9,10,11,12,13,14,15,16,17,18,19,20,21,22,23,24,25,26,27,28,29,30,31]},\"id\":\"26136\",\"type\":\"DaysTicker\"},{\"attributes\":{},\"id\":\"26096\",\"type\":\"LinearScale\"},{\"attributes\":{\"data_source\":{\"id\":\"25112\",\"type\":\"ColumnDataSource\"},\"glyph\":{\"id\":\"26122\",\"type\":\"Line\"},\"hover_glyph\":null,\"muted_glyph\":null,\"nonselection_glyph\":{\"id\":\"26123\",\"type\":\"Line\"},\"selection_glyph\":null,\"view\":{\"id\":\"26125\",\"type\":\"CDSView\"}},\"id\":\"26124\",\"type\":\"GlyphRenderer\"},{\"attributes\":{},\"id\":\"26094\",\"type\":\"LinearScale\"},{\"attributes\":{\"items\":[{\"id\":\"26146\",\"type\":\"LegendItem\"}]},\"id\":\"26145\",\"type\":\"Legend\"},{\"attributes\":{\"mantissas\":[1,2,5],\"max_interval\":500.0,\"num_minor_ticks\":0},\"id\":\"26133\",\"type\":\"AdaptiveTicker\"},{\"attributes\":{\"base\":60,\"mantissas\":[1,2,5,10,15,20,30],\"max_interval\":1800000.0,\"min_interval\":1000.0,\"num_minor_ticks\":0},\"id\":\"26134\",\"type\":\"AdaptiveTicker\"},{\"attributes\":{},\"id\":\"26131\",\"type\":\"DatetimeTickFormatter\"},{\"attributes\":{\"months\":[0,1,2,3,4,5,6,7,8,9,10,11]},\"id\":\"26140\",\"type\":\"MonthsTicker\"},{\"attributes\":{\"base\":24,\"mantissas\":[1,2,4,6,8,12],\"max_interval\":43200000.0,\"min_interval\":3600000.0,\"num_minor_ticks\":0},\"id\":\"26135\",\"type\":\"AdaptiveTicker\"},{\"attributes\":{\"callback\":null,\"data\":{\"altitude\":{\"__ndarray__\":\"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\",\"dtype\":\"float64\",\"shape\":[2124]},\"athlete\":[\"Athlete1\",\"Athlete1\",\"Athlete1\",\"Athlete1\",\"Athlete1\",\"Athlete1\",\"Athlete1\",\"Athlete1\",\"Athlete1\",\"Athlete1\",\"Athlete1\",\"Athlete1\",\"Athlete1\",\"Athlete1\",\"Athlete1\",\"Athlete1\",\"Athlete1\",\"Athlete1\",\"Athlete1\",\"Athlete1\",\"Athlete1\",\"Athlete1\",\"Athlete1\",\"Athlete1\",\"Athlete1\",\"Athlete1\",\"Athlete1\",\"Athlete1\",\"Athlete1\",\"Athlete1\",\"Athlete1\",\"Athlete1\",\"Athlete1\",\"Athlete1\",\"Athlete1\",\"Athlete1\",\"Athlete1\",\"Athlete1\",\"Athlete1\",\"Athlete1\",\"Athlete1\",\"Athlete1\",\"Athlete1\",\"Athlete1\",\"Athlete1\",\"Athlete1\",\"Athlete1\",\"Athlete1\",\"Athlete1\",\"Athlete1\",\"Athlete1\",\"Athlete1\",\"Athlete1\",\"Athlete1\",\"Athlete1\",\"Athlete1\",\"Athlete1\",\"Athlete1\",\"Athlete1\",\"Athlete1\",\"Athlete1\",\"Athlete1\",\"Athlete1\",\"Athlete1\",\"Athlete1\",\"Athlete1\",\"Athlete1\",\"Athlete1\",\"Athlete1\",\"Athlete1\",\"Athlete1\",\"Athlete1\",\"Athlete1\",\"Athlete1\",\"Athlete1\",\"Athlete1\",\"Athlete1\",\"Athlete1\",\"Athlete1\",\"Athlete1\",\"Athlete1\",\"Athlete1\",\"Athlete1\",\"Athlete1\",\"Athlete1\",\"Athlete1\",\"Athlete1\",\"Athlete1\",\"Athlete1\",\"Athlete1\",\"Athlete1\",\"Athlete1\",\"Athlete1\",\"Athlete1\",\"Athlete1\",\"Athlete1\",\"Athlete1\",\"Athlete1\",\"Athlete1\",\"Athlete1\",\"Athlete1\",\"Athlete1\",\"Athlete1\",\"Athlete1\",\"Athlete1\",\"Athlete1\",\"Athlete1\",\"Athlete1\",\"Athlete1\",\"Athlete1\",\"Athlete1\",\"Athlete1\",\"Athlete1\",\"Athlete1\",\"Athlete1\",\"Athlete1\",\"Athlete1\",\"Athlete1\",\"Athlete1\",\"Athlete1\",\"Athlete1\",\"Athlete1\",\"Athlete1\",\"Athlete1\",\"Athlete1\",\"Athlete1\",\"Athlete1\",\"Athlete1\",\"Athlete1\",\"Athlete1\",\"Athlete1\",\"Athlete1\",\"Athlete1\",\"Athlete1\",\"Athlete1\",\"Athlete1\",\"Athlete1\",\"Athlete1\",\"Athlete1\",\"Athlete1\",\"Athlete1\",\"Athlete1\",\"Athlete1\",\"Athlete1\",\"Athlete1\",\"Athlete1\",\"Athlete1\",\"Athlete1\",\"Athlete1\",\"Athlete1\",\"Athlete1\",\"Athlete1\",\"Athlete1\",\"Athlete1\",\"Athlete1\",\"Athlete1\",\"Athlete1\",\"Athlete1\",\"Athlete1\",\"Athlete1\",\"Athlete1\",\"Athlete1\",\"Athlete1\",\"Athlete1\",\"Athlete1\",\"Athlete1\",\"Athlete1\",\"Athlete1\",\"Athlete1\",\"Athlete1\",\"Athlete1\",\"Athlete1\",\"Athlete1\",\"Athlete1\",\"Athlete1\",\"Athlete1\",\"Athlete1\",\"Athlete1\",\"Athlete1\",\"Athlete1\",\"Athlete1\",\"Athlete1\",\"Athlete1\",\"Athlete1\",\"Athlete1\",\"Athlete1\",\"Athlete1\",\"Athlete1\",\"Athlete1\",\"Athlete1\",\"Athlete1\",\"Athlete1\",\"Athlete1\",\"Athlete1\",\"Athlete1\",\"Athlete1\",\"Athlete1\",\"Athlete1\",\"Athlete1\",\"Athlete1\",\"Athlete1\",\"Athlete1\",\"Athlete1\",\"Athlete1\",\"Athlete1\",\"Athlete1\",\"Athlete1\",\"Athlete1\",\"Athlete1\",\"Athlete1\",\"Athlete1\",\"Athlete1\",\"Athlete1\",\"Athlete1\",\"Athlete1\",\"Athlete1\",\"Athlete1\",\"Athlete1\",\"Athlete1\",\"Athlete1\",\"Athlete1\",\"Athlete1\",\"Athlete1\",\"Athlete1\",\"Athlete1\",\"Athlete1\",\"Athlete1\",\"Athlete1\",\"Athlete1\",\"Athlete1\",\"Athlete1\",\"Athlete1\",\"Athlete1\",\"Athlete1\",\"Athlete1\",\"Athlete1\",\"Athlete1\",\"Athlete1\",\"Athlete1\",\"Athlete1\",\"Athlete1\",\"Athlete1\",\"Athlete1\",\"Athlete1\",\"Athlete1\",\"Athlete1\",\"Athlete1\",\"Athlete1\",\"Athlete1\",\"Athlete1\",\"Athlete1\",\"Athlete1\",\"Athlete1\",\"Athlete1\",\"Athlete1\",\"Athlete1\",\"Athlete1\",\"Athlete1\",\"Athlete1\",\"Athlete1\",\"Athlete1\",\"Athlete1\",\"Athlete1\",\"Athlete1\",\"Athlete1\",\"Athlete1\",\"Athlete1\",\"Athlete1\",\"Athlete1\",\"Athlete1\",\"Athlete1\",\"Athlete1\",\"Athlete1\",\"Athlete1\",\"Athlete1\",\"Athlete1\",\"Athlete1\",\"Athlete1\",\"Athlete1\",\"Athlete1\",\"Athlete1\",\"Athlete1\",\"Athlete1\",\"Athlete1\",\"Athlete1\",\"Athlete1\",\"Athlete1\",\"Athlete1\",\"Athlete1\",\"Athlete1\",\"Athlete1\",\"Athlete1\",\"Athlete1\",\"Athlete1\",\"Athlete1\",\"Athlete1\",\"Athlete1\",\"Athlete1\",\"Athlete1\",\"Athlete1\",\"Athlete1\",\"Athlete1\",\"Athlete1\",\"Athlete1\",\"Athlete1\",\"Athlete1\",\"Athlete1\",\"Athlete1\",\"Athlete1\",\"Athlete1\",\"Athlete1\",\"Athlete1\",\"Athlete1\",\"Athlete1\",\"Athlete1\",\"Athlete1\",\"Athlete1\",\"Athlete1\",\"Athlete1\",\"Athlete1\",\"Athlete1\",\"Athlete1\",\"Athlete1\",\"Athlete1\",\"Athlete1\",\"Athlete1\",\"Athlete1\",\"Athlete1\",\"Athlete1\",\"Athlete1\",\"Athlete1\",\"Athlete1\",\"Athlete1\",\"Athlete1\",\"Athlete1\",\"Athlete1\",\"Athlete1\",\"Athlete1\",\"Athlete1\",\"Athlete1\",\"Athlete1\",\"Athlete1\",\"Athlete1\",\"Athlete1\",\"Athlete1\",\"Athlete1\",\"Athlete1\",\"Athlete1\",\"Athlete1\",\"Athlete1\",\"Athlete1\",\"Athlete1\",\"Athlete1\",\"Athlete1\",\"Athlete1\",\"Athlete1\",\"Athlete1\",\"Athlete1\",\"Athlete1\",\"Athlete1\",\"Athlete1\",\"Athlete1\",\"Athlete1\",\"Athlete1\",\"Athlete1\",\"Athlete1\",\"Athlete1\",\"Athlete1\",\"Athlete1\",\"Athlete1\",\"Athlete1\",\"Athlete1\",\"Athlete1\",\"Athlete1\",\"Athlete1\",\"Athlete1\",\"Athlete1\",\"Athlete1\",\"Athlete1\",\"Athlete1\",\"Athlete1\",\"Athlete1\",\"Athlete1\",\"Athlete1\",\"Athlete1\",\"Athlete1\",\"Athlete1\",\"Athlete1\",\"Athlete1\",\"Athlete1\",\"Athlete1\",\"Athlete1\",\"Athlete1\",\"Athlete1\",\"Athlete1\",\"Athlete1\",\"Athlete1\",\"Athlete1\",\"Athlete1\",\"Athlete1\",\"Athlete1\",\"Athlete1\",\"Athlete1\",\"Athlete1\",\"Athlete1\",\"Athlete1\",\"Athlete1\",\"Athlete1\",\"Athlete1\",\"Athlete1\",\"Athlete1\",\"Athlete1\",\"Athlete1\",\"Athlete1\",\"Athlete1\",\"Athlete1\",\"Athlete1\",\"Athlete1\",\"Athlete1\",\"Athlete1\",\"Athlete1\",\"Athlete1\",\"Athlete1\",\"Athlete1\",\"Athlete1\",\"Athlete1\",\"Athlete1\",\"Athlete1\",\"Athlete1\",\"Athlete1\",\"Athlete1\",\"Athlete1\",\"Athlete1\",\"Athlete1\",\"Athlete1\",\"Athlete1\",\"Athlete1\",\"Athlete1\",\"Athlete1\",\"Athlete1\",\"Athlete1\",\"Athlete1\",\"Athlete1\",\"Athlete1\",\"Athlete1\",\"Athlete1\",\"Athlete1\",\"Athlete1\",\"Athlete1\",\"Athlete1\",\"Athlete1\",\"Athlete1\",\"Athlete1\",\"Athlete1\",\"Athlete1\",\"Athlete1\",\"Athlete1\",\"Athlete1\",\"Athlete1\",\"Athlete1\",\"Athlete1\",\"Athlete1\",\"Athlete1\",\"Athlete1\",\"Athlete1\",\"Athlete1\",\"Athlete1\",\"Athlete1\",\"Athlete1\",\"Athlete1\",\"Athlete1\",\"Athlete1\",\"Athlete1\",\"Athlete1\",\"Athlete1\",\"Athlete1\",\"Athlete1\",\"Athlete1\",\"Athlete1\",\"Athlete1\",\"Athlete1\",\"Athlete1\",\"Athlete1\",\"Athlete1\",\"Athlete1\",\"Athlete1\",\"Athlete1\",\"Athlete1\",\"Athlete1\",\"Athlete1\",\"Athlete1\",\"Athlete1\",\"Athlete1\",\"Athlete1\",\"Athlete1\",\"Athlete1\",\"Athlete1\",\"Athlete1\",\"Athlete1\",\"Athlete1\",\"Athlete1\",\"Athlete1\",\"Athlete1\",\"Athlete1\",\"Athlete1\",\"Athlete1\",\"Athlete1\",\"Athlete1\",\"Athlete1\",\"Athlete1\",\"Athlete1\",\"Athlete1\",\"Athlete1\",\"Athlete1\",\"Athlete1\",\"Athlete1\",\"Athlete1\",\"Athlete1\",\"Athlete1\",\"Athlete1\",\"Athlete1\",\"Athlete1\",\"Athlete1\",\"Athlete1\",\"Athlete1\",\"Athlete1\",\"Athlete1\",\"Athlete1\",\"Athlete1\",\"Athlete1\",\"Athlete1\",\"Athlete1\",\"Athlete1\",\"Athlete1\",\"Athlete1\",\"Athlete1\",\"Athlete1\",\"Athlete1\",\"Athlete1\",\"Athlete1\",\"Athlete1\",\"Athlete1\",\"Athlete1\",\"Athlete1\",\"Athlete1\",\"Athlete1\",\"Athlete1\",\"Athlete1\",\"Athlete1\",\"Athlete1\",\"Athlete1\",\"Athlete1\",\"Athlete1\",\"Athlete1\",\"Athlete1\",\"Athlete1\",\"Athlete1\",\"Athlete1\",\"Athlete1\",\"Athlete1\",\"Athlete1\",\"Athlete1\",\"Athlete1\",\"Athlete1\",\"Athlete1\",\"Athlete1\",\"Athlete1\",\"Athlete1\",\"Athlete1\",\"Athlete1\",\"Athlete1\",\"Athlete1\",\"Athlete1\",\"Athlete1\",\"Athlete1\",\"Athlete1\",\"Athlete1\",\"Athlete1\",\"Athlete1\",\"Athlete1\",\"Athlete1\",\"Athlete1\",\"Athlete1\",\"Athlete1\",\"Athlete1\",\"Athlete1\",\"Athlete1\",\"Athlete1\",\"Athlete1\",\"Athlete1\",\"Athlete1\",\"Athlete1\",\"Athlete1\",\"Athlete1\",\"Athlete1\",\"Athlete1\",\"Athlete1\",\"Athlete1\",\"Athlete1\",\"Athlete1\",\"Athlete1\",\"Athlete1\",\"Athlete1\",\"Athlete1\",\"Athlete1\",\"Athlete1\",\"Athlete1\",\"Athlete1\",\"Athlete1\",\"Athlete1\",\"Athlete1\",\"Athlete1\",\"Athlete1\",\"Athlete1\",\"Athlete1\",\"Athlete1\",\"Athlete1\",\"Athlete1\",\"Athlete1\",\"Athlete1\",\"Athlete1\",\"Athlete1\",\"Athlete1\",\"Athlete1\",\"Athlete1\",\"Athlete1\",\"Athlete1\",\"Athlete1\",\"Athlete1\",\"Athlete1\",\"Athlete1\",\"Athlete1\",\"Athlete1\",\"Athlete1\",\"Athlete1\",\"Athlete1\",\"Athlete1\",\"Athlete1\",\"Athlete1\",\"Athlete1\",\"Athlete1\",\"Athlete1\",\"Athlete1\",\"Athlete1\",\"Athlete1\",\"Athlete1\",\"Athlete1\",\"Athlete1\",\"Athlete1\",\"Athlete1\",\"Athlete1\",\"Athlete1\",\"Athlete1\",\"Athlete1\",\"Athlete1\",\"Athlete1\",\"Athlete1\",\"Athlete1\",\"Athlete1\",\"Athlete1\",\"Athlete1\",\"Athlete1\",\"Athlete1\",\"Athlete1\",\"Athlete1\",\"Athlete1\",\"Athlete1\",\"Athlete1\",\"Athlete1\",\"Athlete1\",\"Athlete1\",\"Athlete1\",\"Athlete1\",\"Athlete1\",\"Athlete1\",\"Athlete1\",\"Athlete1\",\"Athlete1\",\"Athlete1\",\"Athlete1\",\"Athlete1\",\"Athlete1\",\"Athlete1\",\"Athlete1\",\"Athlete1\",\"Athlete1\",\"Athlete1\",\"Athlete1\",\"Athlete1\",\"Athlete1\",\"Athlete1\",\"Athlete1\",\"Athlete1\",\"Athlete1\",\"Athlete1\",\"Athlete1\",\"Athlete1\",\"Athlete1\",\"Athlete1\",\"Athlete1\",\"Athlete1\",\"Athlete1\",\"Athlete1\",\"Athlete1\",\"Athlete1\",\"Athlete1\",\"Athlete1\",\"Athlete1\",\"Athlete1\",\"Athlete1\",\"Athlete1\",\"Athlete1\",\"Athlete1\",\"Athlete1\",\"Athlete1\",\"Athlete1\",\"Athlete1\",\"Athlete1\",\"Athlete1\",\"Athlete1\",\"Athlete1\",\"Athlete1\",\"Athlete1\",\"Athlete1\",\"Athlete1\",\"Athlete1\",\"Athlete1\",\"Athlete1\",\"Athlete1\",\"Athlete1\",\"Athlete1\",\"Athlete1\",\"Athlete1\",\"Athlete1\",\"Athlete1\",\"Athlete1\",\"Athlete1\",\"Athlete1\",\"Athlete1\",\"Athlete1\",\"Athlete1\",\"Athlete1\",\"Athlete1\",\"Athlete1\",\"Athlete1\",\"Athlete1\",\"Athlete1\",\"Athlete1\",\"Athlete1\",\"Athlete1\",\"Athlete1\",\"Athlete1\",\"Athlete1\",\"Athlete1\",\"Athlete1\",\"Athlete1\",\"Athlete1\",\"Athlete1\",\"Athlete1\",\"Athlete1\",\"Athlete1\",\"Athlete1\",\"Athlete1\",\"Athlete1\",\"Athlete1\",\"Athlete1\",\"Athlete1\",\"Athlete1\",\"Athlete1\",\"Athlete1\",\"Athlete1\",\"Athlete1\",\"Athlete1\",\"Athlete1\",\"Athlete1\",\"Athlete1\",\"Athlete1\",\"Athlete1\",\"Athlete1\",\"Athlete1\",\"Athlete1\",\"Athlete1\",\"Athlete1\",\"Athlete1\",\"Athlete1\",\"Athlete1\",\"Athlete1\",\"Athlete1\",\"Athlete1\",\"Athlete1\",\"Athlete1\",\"Athlete1\",\"Athlete1\",\"Athlete1\",\"Athlete1\",\"Athlete1\",\"Athlete1\",\"Athlete1\",\"Athlete1\",\"Athlete1\",\"Athlete1\",\"Athlete1\",\"Athlete1\",\"Athlete1\",\"Athlete1\",\"Athlete1\",\"Athlete1\",\"Athlete1\",\"Athlete1\",\"Athlete1\",\"Athlete1\",\"Athlete1\",\"Athlete1\",\"Athlete1\",\"Athlete1\",\"Athlete1\",\"Athlete1\",\"Athlete1\",\"Athlete1\",\"Athlete1\",\"Athlete1\",\"Athlete1\",\"Athlete1\",\"Athlete1\",\"Athlete1\",\"Athlete1\",\"Athlete1\",\"Athlete1\",\"Athlete1\",\"Athlete1\",\"Athlete1\",\"Athlete1\",\"Athlete1\",\"Athlete1\",\"Athlete1\",\"Athlete1\",\"Athlete1\",\"Athlete1\",\"Athlete1\",\"Athlete1\",\"Athlete1\",\"Athlete1\",\"Athlete1\",\"Athlete1\",\"Athlete1\",\"Athlete1\",\"Athlete1\",\"Athlete1\",\"Athlete1\",\"Athlete1\",\"Athlete1\",\"Athlete1\",\"Athlete1\",\"Athlete1\",\"Athlete1\",\"Athlete1\",\"Athlete1\",\"Athlete1\",\"Athlete1\",\"Athlete1\",\"Athlete1\",\"Athlete1\",\"Athlete1\",\"Athlete1\",\"Athlete1\",\"Athlete1\",\"Athlete1\",\"Athlete1\",\"Athlete1\",\"Athlete1\",\"Athlete1\",\"Athlete1\",\"Athlete1\",\"Athlete1\",\"Athlete1\",\"Athlete1\",\"Athlete1\",\"Athlete1\",\"Athlete1\",\"Athlete1\",\"Athlete1\",\"Athlete1\",\"Athlete1\",\"Athlete1\",\"Athlete1\",\"Athlete1\",\"Athlete1\",\"Athlete1\",\"Athlete1\",\"Athlete1\",\"Athlete1\",\"Athlete1\",\"Athlete1\",\"Athlete1\",\"Athlete1\",\"Athlete1\",\"Athlete1\",\"Athlete1\",\"Athlete1\",\"Athlete1\",\"Athlete1\",\"Athlete1\",\"Athlete1\",\"Athlete1\",\"Athlete1\",\"Athlete1\",\"Athlete1\",\"Athlete1\",\"Athlete1\",\"Athlete1\",\"Athlete1\",\"Athlete1\",\"Athlete1\",\"Athlete1\",\"Athlete1\",\"Athlete1\",\"Athlete1\",\"Athlete1\",\"Athlete1\",\"Athlete1\",\"Athlete1\",\"Athlete1\",\"Athlete1\",\"Athlete1\",\"Athlete1\",\"Athlete1\",\"Athlete1\",\"Athlete1\",\"Athlete1\",\"Athlete1\",\"Athlete1\",\"Athlete1\",\"Athlete1\",\"Athlete1\",\"Athlete1\",\"Athlete1\",\"Athlete1\",\"Athlete1\",\"Athlete1\",\"Athlete1\",\"Athlete1\",\"Athlete1\",\"Athlete1\",\"Athlete1\",\"Athlete1\",\"Athlete1\",\"Athlete1\",\"Athlete1\",\"Athlete1\",\"Athlete1\",\"Athlete1\",\"Athlete1\",\"Athlete1\",\"Athlete1\",\"Athlete1\",\"Athlete1\",\"Athlete1\",\"Athlete1\",\"Athlete1\",\"Athlete1\",\"Athlete1\",\"Athlete1\",\"Athlete1\",\"Athlete1\",\"Athlete1\",\"Athlete1\",\"Athlete1\",\"Athlete1\",\"Athlete1\",\"Athlete1\",\"Athlete1\",\"Athlete1\",\"Athlete1\",\"Athlete1\",\"Athlete1\",\"Athlete1\",\"Athlete1\",\"Athlete1\",\"Athlete1\",\"Athlete1\",\"Athlete1\",\"Athlete1\",\"Athlete1\",\"Athlete1\",\"Athlete1\",\"Athlete1\",\"Athlete1\",\"Athlete1\",\"Athlete1\",\"Athlete1\",\"Athlete1\",\"Athlete1\",\"Athlete1\",\"Athlete1\",\"Athlete1\",\"Athlete1\",\"Athlete1\",\"Athlete1\",\"Athlete1\",\"Athlete1\",\"Athlete1\",\"Athlete1\",\"Athlete1\",\"Athlete1\",\"Athlete1\",\"Athlete1\",\"Athlete1\",\"Athlete1\",\"Athlete1\",\"Athlete1\",\"Athlete1\",\"Athlete1\",\"Athlete1\",\"Athlete1\",\"Athlete1\",\"Athlete1\",\"Athlete1\",\"Athlete1\",\"Athlete1\",\"Athlete1\",\"Athlete1\",\"Athlete1\",\"Athlete1\",\"Athlete1\",\"Athlete1\",\"Athlete1\",\"Athlete1\",\"Athlete1\",\"Athlete1\",\"Athlete1\",\"Athlete1\",\"Athlete1\",\"Athlete1\",\"Athlete1\",\"Athlete1\",\"Athlete1\",\"Athlete1\",\"Athlete1\",\"Athlete1\",\"Athlete1\",\"Athlete1\",\"Athlete1\",\"Athlete1\",\"Athlete1\",\"Athlete1\",\"Athlete1\",\"Athlete1\",\"Athlete1\",\"Athlete1\",\"Athlete1\",\"Athlete1\",\"Athlete1\",\"Athlete1\",\"Athlete1\",\"Athlete1\",\"Athlete1\",\"Athlete1\",\"Athlete1\",\"Athlete1\",\"Athlete1\",\"Athlete1\",\"Athlete1\",\"Athlete1\",\"Athlete1\",\"Athlete1\",\"Athlete1\",\"Athlete1\",\"Athlete1\",\"Athlete1\",\"Athlete1\",\"Athlete1\",\"Athlete1\",\"Athlete1\",\"Athlete1\",\"Athlete1\",\"Athlete1\",\"Athlete1\",\"Athlete1\",\"Athlete1\",\"Athlete1\",\"Athlete1\",\"Athlete1\",\"Athlete1\",\"Athlete1\",\"Athlete1\",\"Athlete1\",\"Athlete1\",\"Athlete1\",\"Athlete1\",\"Athlete1\",\"Athlete1\",\"Athlete1\",\"Athlete1\",\"Athlete1\",\"Athlete1\",\"Athlete1\",\"Athlete1\",\"Athlete1\",\"Athlete1\",\"Athlete1\",\"Athlete1\",\"Athlete1\",\"Athlete1\",\"Athlete1\",\"Athlete1\",\"Athlete1\",\"Athlete1\",\"Athlete1\",\"Athlete1\",\"Athlete1\",\"Athlete1\",\"Athlete1\",\"Athlete1\",\"Athlete1\",\"Athlete1\",\"Athlete1\",\"Athlete1\",\"Athlete1\",\"Athlete1\",\"Athlete1\",\"Athlete1\",\"Athlete1\",\"Athlete1\",\"Athlete1\",\"Athlete1\",\"Athlete1\",\"Athlete1\",\"Athlete1\",\"Athlete1\",\"Athlete1\",\"Athlete1\",\"Athlete1\",\"Athlete1\",\"Athlete1\",\"Athlete1\",\"Athlete1\",\"Athlete1\",\"Athlete1\",\"Athlete1\",\"Athlete1\",\"Athlete1\",\"Athlete1\",\"Athlete1\",\"Athlete1\",\"Athlete1\",\"Athlete1\",\"Athlete1\",\"Athlete1\",\"Athlete1\",\"Athlete1\",\"Athlete1\",\"Athlete1\",\"Athlete1\",\"Athlete1\",\"Athlete1\",\"Athlete1\",\"Athlete1\",\"Athlete1\",\"Athlete1\",\"Athlete1\",\"Athlete1\",\"Athlete1\",\"Athlete1\",\"Athlete1\",\"Athlete1\",\"Athlete1\",\"Athlete1\",\"Athlete1\",\"Athlete1\",\"Athlete1\",\"Athlete1\",\"Athlete1\",\"Athlete1\",\"Athlete1\",\"Athlete1\",\"Athlete1\",\"Athlete1\",\"Athlete1\",\"Athlete1\",\"Athlete1\",\"Athlete1\",\"Athlete1\",\"Athlete1\",\"Athlete1\",\"Athlete1\",\"Athlete1\",\"Athlete1\",\"Athlete1\",\"Athlete1\",\"Athlete1\",\"Athlete1\",\"Athlete1\",\"Athlete1\",\"Athlete1\",\"Athlete1\",\"Athlete1\",\"Athlete1\",\"Athlete1\",\"Athlete1\",\"Athlete1\",\"Athlete1\",\"Athlete1\",\"Athlete1\",\"Athlete1\",\"Athlete1\",\"Athlete1\",\"Athlete1\",\"Athlete1\",\"Athlete1\",\"Athlete1\",\"Athlete1\",\"Athlete1\",\"Athlete1\",\"Athlete1\",\"Athlete1\",\"Athlete1\",\"Athlete1\",\"Athlete1\",\"Athlete1\",\"Athlete1\",\"Athlete1\",\"Athlete1\",\"Athlete1\",\"Athlete1\",\"Athlete1\",\"Athlete1\",\"Athlete1\",\"Athlete1\",\"Athlete1\",\"Athlete1\",\"Athlete1\",\"Athlete1\",\"Athlete1\",\"Athlete1\",\"Athlete1\",\"Athlete1\",\"Athlete1\",\"Athlete1\",\"Athlete1\",\"Athlete1\",\"Athlete1\",\"Athlete1\",\"Athlete1\",\"Athlete1\",\"Athlete1\",\"Athlete1\",\"Athlete1\",\"Athlete1\",\"Athlete1\",\"Athlete1\",\"Athlete1\",\"Athlete1\",\"Athlete1\",\"Athlete1\",\"Athlete1\",\"Athlete1\",\"Athlete1\",\"Athlete1\",\"Athlete1\",\"Athlete1\",\"Athlete1\",\"Athlete1\",\"Athlete1\",\"Athlete1\",\"Athlete1\",\"Athlete1\",\"Athlete1\",\"Athlete1\",\"Athlete1\",\"Athlete1\",\"Athlete1\",\"Athlete1\",\"Athlete1\",\"Athlete1\",\"Athlete1\",\"Athlete1\",\"Athlete1\",\"Athlete1\",\"Athlete1\",\"Athlete1\",\"Athlete1\",\"Athlete1\",\"Athlete1\",\"Athlete1\",\"Athlete1\",\"Athlete1\",\"Athlete1\",\"Athlete1\",\"Athlete1\",\"Athlete1\",\"Athlete1\",\"Athlete1\",\"Athlete1\",\"Athlete1\",\"Athlete1\",\"Athlete1\",\"Athlete1\",\"Athlete1\",\"Athlete1\",\"Athlete1\",\"Athlete1\",\"Athlete1\",\"Athlete1\",\"Athlete1\",\"Athlete1\",\"Athlete1\",\"Athlete1\",\"Athlete1\",\"Athlete1\",\"Athlete1\",\"Athlete1\",\"Athlete1\",\"Athlete1\",\"Athlete1\",\"Athlete1\",\"Athlete1\",\"Athlete1\",\"Athlete1\",\"Athlete1\",\"Athlete1\",\"Athlete1\",\"Athlete1\",\"Athlete1\",\"Athlete1\",\"Athlete1\",\"Athlete1\",\"Athlete1\",\"Athlete1\",\"Athlete1\",\"Athlete1\",\"Athlete1\",\"Athlete1\",\"Athlete1\",\"Athlete1\",\"Athlete1\",\"Athlete1\",\"Athlete1\",\"Athlete1\",\"Athlete1\",\"Athlete1\",\"Athlete1\",\"Athlete1\",\"Athlete1\",\"Athlete1\",\"Athlete1\",\"Athlete1\",\"Athlete1\",\"Athlete1\",\"Athlete1\",\"Athlete1\",\"Athlete1\",\"Athlete1\",\"Athlete1\",\"Athlete1\",\"Athlete1\",\"Athlete1\",\"Athlete1\",\"Athlete1\",\"Athlete1\",\"Athlete1\",\"Athlete1\",\"Athlete1\",\"Athlete1\",\"Athlete1\",\"Athlete1\",\"Athlete1\",\"Athlete1\",\"Athlete1\",\"Athlete1\",\"Athlete1\",\"Athlete1\",\"Athlete1\",\"Athlete1\",\"Athlete1\",\"Athlete1\",\"Athlete1\",\"Athlete1\",\"Athlete1\",\"Athlete1\",\"Athlete1\",\"Athlete1\",\"Athlete1\",\"Athlete1\",\"Athlete1\",\"Athlete1\",\"Athlete1\",\"Athlete1\",\"Athlete1\",\"Athlete1\",\"Athlete1\",\"Athlete1\",\"Athlete1\",\"Athlete1\",\"Athlete1\",\"Athlete1\",\"Athlete1\",\"Athlete1\",\"Athlete1\",\"Athlete1\",\"Athlete1\",\"Athlete1\",\"Athlete1\",\"Athlete1\",\"Athlete1\",\"Athlete1\",\"Athlete1\",\"Athlete1\",\"Athlete1\",\"Athlete1\",\"Athlete1\",\"Athlete1\",\"Athlete1\",\"Athlete1\",\"Athlete1\",\"Athlete1\",\"Athlete1\",\"Athlete1\",\"Athlete1\",\"Athlete1\",\"Athlete1\",\"Athlete1\",\"Athlete1\",\"Athlete1\",\"Athlete1\",\"Athlete1\",\"Athlete1\",\"Athlete1\",\"Athlete1\",\"Athlete1\",\"Athlete1\",\"Athlete1\",\"Athlete1\",\"Athlete1\",\"Athlete1\",\"Athlete1\",\"Athlete1\",\"Athlete1\",\"Athlete1\",\"Athlete1\",\"Athlete1\",\"Athlete1\",\"Athlete1\",\"Athlete1\",\"Athlete1\",\"Athlete1\",\"Athlete1\",\"Athlete1\",\"Athlete1\",\"Athlete1\",\"Athlete1\",\"Athlete1\",\"Athlete1\",\"Athlete1\",\"Athlete1\",\"Athlete1\",\"Athlete1\",\"Athlete1\",\"Athlete1\",\"Athlete1\",\"Athlete1\",\"Athlete1\",\"Athlete1\",\"Athlete1\",\"Athlete1\",\"Athlete1\",\"Athlete1\",\"Athlete1\",\"Athlete1\",\"Athlete1\",\"Athlete1\",\"Athlete1\",\"Athlete1\",\"Athlete1\",\"Athlete1\",\"Athlete1\",\"Athlete1\",\"Athlete1\",\"Athlete1\",\"Athlete1\",\"Athlete1\",\"Athlete1\",\"Athlete1\",\"Athlete1\",\"Athlete1\",\"Athlete1\",\"Athlete1\",\"Athlete1\",\"Athlete1\",\"Athlete1\",\"Athlete1\",\"Athlete1\",\"Athlete1\",\"Athlete1\",\"Athlete1\",\"Athlete1\",\"Athlete1\",\"Athlete1\",\"Athlete1\",\"Athlete1\",\"Athlete1\",\"Athlete1\",\"Athlete1\",\"Athlete1\",\"Athlete1\",\"Athlete1\",\"Athlete1\",\"Athlete1\",\"Athlete1\",\"Athlete1\",\"Athlete1\",\"Athlete1\",\"Athlete1\",\"Athlete1\",\"Athlete1\",\"Athlete1\",\"Athlete1\",\"Athlete1\",\"Athlete1\",\"Athlete1\",\"Athlete1\",\"Athlete1\",\"Athlete1\",\"Athlete1\",\"Athlete1\",\"Athlete1\",\"Athlete1\",\"Athlete1\",\"Athlete1\",\"Athlete1\",\"Athlete1\",\"Athlete1\",\"Athlete1\",\"Athlete1\",\"Athlete1\",\"Athlete1\",\"Athlete1\",\"Athlete1\",\"Athlete1\",\"Athlete1\",\"Athlete1\",\"Athlete1\",\"Athlete1\",\"Athlete1\",\"Athlete1\",\"Athlete1\",\"Athlete1\",\"Athlete1\",\"Athlete1\",\"Athlete1\",\"Athlete1\",\"Athlete1\",\"Athlete1\",\"Athlete1\",\"Athlete1\",\"Athlete1\",\"Athlete1\",\"Athlete1\",\"Athlete1\",\"Athlete1\",\"Athlete1\",\"Athlete1\",\"Athlete1\",\"Athlete1\",\"Athlete1\",\"Athlete1\",\"Athlete1\",\"Athlete1\",\"Athlete1\",\"Athlete1\",\"Athlete1\",\"Athlete1\",\"Athlete1\",\"Athlete1\",\"Athlete1\",\"Athlete1\",\"Athlete1\",\"Athlete1\",\"Athlete1\",\"Athlete1\",\"Athlete1\",\"Athlete1\",\"Athlete1\",\"Athlete1\",\"Athlete1\",\"Athlete1\",\"Athlete1\",\"Athlete1\",\"Athlete1\",\"Athlete1\",\"Athlete1\",\"Athlete1\",\"Athlete1\",\"Athlete1\",\"Athlete1\",\"Athlete1\",\"Athlete1\",\"Athlete1\",\"Athlete1\",\"Athlete1\",\"Athlete1\",\"Athlete1\",\"Athlete1\",\"Athlete1\",\"Athlete1\",\"Athlete1\",\"Athlete1\",\"Athlete1\",\"Athlete1\",\"Athlete1\",\"Athlete1\",\"Athlete1\",\"Athlete1\",\"Athlete1\",\"Athlete1\",\"Athlete1\",\"Athlete1\",\"Athlete1\",\"Athlete1\",\"Athlete1\",\"Athlete1\",\"Athlete1\",\"Athlete1\",\"Athlete1\",\"Athlete1\",\"Athlete1\",\"Athlete1\",\"Athlete1\",\"Athlete1\",\"Athlete1\",\"Athlete1\",\"Athlete1\",\"Athlete1\",\"Athlete1\",\"Athlete1\",\"Athlete1\",\"Athlete1\",\"Athlete1\",\"Athlete1\",\"Athlete1\",\"Athlete1\",\"Athlete1\",\"Athlete1\",\"Athlete1\",\"Athlete1\",\"Athlete1\",\"Athlete1\",\"Athlete1\",\"Athlete1\",\"Athlete1\",\"Athlete1\",\"Athlete1\",\"Athlete1\",\"Athlete1\",\"Athlete1\",\"Athlete1\",\"Athlete1\",\"Athlete1\",\"Athlete1\",\"Athlete1\",\"Athlete1\",\"Athlete1\",\"Athlete1\",\"Athlete1\",\"Athlete1\",\"Athlete1\",\"Athlete1\",\"Athlete1\",\"Athlete1\",\"Athlete1\",\"Athlete1\",\"Athlete1\",\"Athlete1\",\"Athlete1\",\"Athlete1\",\"Athlete1\",\"Athlete1\",\"Athlete1\",\"Athlete1\",\"Athlete1\",\"Athlete1\",\"Athlete1\",\"Athlete1\",\"Athlete1\",\"Athlete1\",\"Athlete1\",\"Athlete1\",\"Athlete1\",\"Athlete1\",\"Athlete1\",\"Athlete1\",\"Athlete1\",\"Athlete1\",\"Athlete1\",\"Athlete1\",\"Athlete1\",\"Athlete1\",\"Athlete1\",\"Athlete1\",\"Athlete1\",\"Athlete1\",\"Athlete1\",\"Athlete1\",\"Athlete1\",\"Athlete1\",\"Athlete1\",\"Athlete1\",\"Athlete1\",\"Athlete1\",\"Athlete1\",\"Athlete1\",\"Athlete1\",\"Athlete1\",\"Athlete1\",\"Athlete1\",\"Athlete1\",\"Athlete1\",\"Athlete1\",\"Athlete1\",\"Athlete1\",\"Athlete1\",\"Athlete1\",\"Athlete1\",\"Athlete1\",\"Athlete1\",\"Athlete1\",\"Athlete1\",\"Athlete1\",\"Athlete1\",\"Athlete1\",\"Athlete1\",\"Athlete1\",\"Athlete1\",\"Athlete1\",\"Athlete1\",\"Athlete1\",\"Athlete1\",\"Athlete1\",\"Athlete1\",\"Athlete1\",\"Athlete1\",\"Athlete1\",\"Athlete1\",\"Athlete1\",\"Athlete1\",\"Athlete1\",\"Athlete1\",\"Athlete1\",\"Athlete1\",\"Athlete1\",\"Athlete1\",\"Athlete1\",\"Athlete1\",\"Athlete1\",\"Athlete1\",\"Athlete1\",\"Athlete1\",\"Athlete1\",\"Athlete1\",\"Athlete1\",\"Athlete1\",\"Athlete1\",\"Athlete1\",\"Athlete1\",\"Athlete1\",\"Athlete1\",\"Athlete1\",\"Athlete1\",\"Athlete1\",\"Athlete1\",\"Athlete1\",\"Athlete1\",\"Athlete1\",\"Athlete1\",\"Athlete1\",\"Athlete1\",\"Athlete1\",\"Athlete1\",\"Athlete1\",\"Athlete1\",\"Athlete1\",\"Athlete1\",\"Athlete1\",\"Athlete1\",\"Athlete1\",\"Athlete1\",\"Athlete1\",\"Athlete1\",\"Athlete1\",\"Athlete1\",\"Athlete1\",\"Athlete1\",\"Athlete1\",\"Athlete1\",\"Athlete1\",\"Athlete1\",\"Athlete1\",\"Athlete1\",\"Athlete1\",\"Athlete1\",\"Athlete1\",\"Athlete1\",\"Athlete1\",\"Athlete1\",\"Athlete1\",\"Athlete1\",\"Athlete1\",\"Athlete1\",\"Athlete1\",\"Athlete1\",\"Athlete1\",\"Athlete1\",\"Athlete1\",\"Athlete1\",\"Athlete1\",\"Athlete1\",\"Athlete1\",\"Athlete1\",\"Athlete1\",\"Athlete1\",\"Athlete1\",\"Athlete1\",\"Athlete1\",\"Athlete1\",\"Athlete1\",\"Athlete1\",\"Athlete1\",\"Athlete1\",\"Athlete1\",\"Athlete1\",\"Athlete1\",\"Athlete1\",\"Athlete1\",\"Athlete1\",\"Athlete1\",\"Athlete1\",\"Athlete1\",\"Athlete1\",\"Athlete1\",\"Athlete1\",\"Athlete1\",\"Athlete1\",\"Athlete1\",\"Athlete1\",\"Athlete1\",\"Athlete1\",\"Athlete1\",\"Athlete1\",\"Athlete1\",\"Athlete1\",\"Athlete1\",\"Athlete1\",\"Athlete1\",\"Athlete1\",\"Athlete1\",\"Athlete1\",\"Athlete1\",\"Athlete1\",\"Athlete1\",\"Athlete1\",\"Athlete1\",\"Athlete1\",\"Athlete1\",\"Athlete1\",\"Athlete1\",\"Athlete1\",\"Athlete1\",\"Athlete1\",\"Athlete1\",\"Athlete1\",\"Athlete1\",\"Athlete1\",\"Athlete1\",\"Athlete1\",\"Athlete1\",\"Athlete1\",\"Athlete1\",\"Athlete1\",\"Athlete1\",\"Athlete1\",\"Athlete1\",\"Athlete1\",\"Athlete1\",\"Athlete1\",\"Athlete1\",\"Athlete1\",\"Athlete1\",\"Athlete1\",\"Athlete1\",\"Athlete1\",\"Athlete1\",\"Athlete1\",\"Athlete1\",\"Athlete1\",\"Athlete1\",\"Athlete1\",\"Athlete1\",\"Athlete1\",\"Athlete1\",\"Athlete1\",\"Athlete1\",\"Athlete1\",\"Athlete1\",\"Athlete1\",\"Athlete1\",\"Athlete1\",\"Athlete1\",\"Athlete1\",\"Athlete1\",\"Athlete1\",\"Athlete1\",\"Athlete1\",\"Athlete1\",\"Athlete1\",\"Athlete1\",\"Athlete1\",\"Athlete1\",\"Athlete1\",\"Athlete1\",\"Athlete1\",\"Athlete1\",\"Athlete1\",\"Athlete1\",\"Athlete1\",\"Athlete1\",\"Athlete1\",\"Athlete1\",\"Athlete1\",\"Athlete1\",\"Athlete1\",\"Athlete1\",\"Athlete1\",\"Athlete1\",\"Athlete1\",\"Athlete1\",\"Athlete1\",\"Athlete1\",\"Athlete1\",\"Athlete1\",\"Athlete1\",\"Athlete1\",\"Athlete1\",\"Athlete1\",\"Athlete1\",\"Athlete1\",\"Athlete1\",\"Athlete1\",\"Athlete1\",\"Athlete1\",\"Athlete1\",\"Athlete1\",\"Athlete1\",\"Athlete1\",\"Athlete1\",\"Athlete1\",\"Athlete1\",\"Athlete1\",\"Athlete1\",\"Athlete1\",\"Athlete1\",\"Athlete1\",\"Athlete1\",\"Athlete1\",\"Athlete1\",\"Athlete1\",\"Athlete1\",\"Athlete1\",\"Athlete1\",\"Athlete1\",\"Athlete1\",\"Athlete1\",\"Athlete1\",\"Athlete1\",\"Athlete1\",\"Athlete1\",\"Athlete1\",\"Athlete1\",\"Athlete1\",\"Athlete1\",\"Athlete1\",\"Athlete1\",\"Athlete1\",\"Athlete1\",\"Athlete1\",\"Athlete1\",\"Athlete1\",\"Athlete1\",\"Athlete1\",\"Athlete1\",\"Athlete1\",\"Athlete1\",\"Athlete1\",\"Athlete1\",\"Athlete1\",\"Athlete1\",\"Athlete1\",\"Athlete1\",\"Athlete1\",\"Athlete1\",\"Athlete1\",\"Athlete1\",\"Athlete1\",\"Athlete1\",\"Athlete1\",\"Athlete1\",\"Athlete1\",\"Athlete1\",\"Athlete1\",\"Athlete1\",\"Athlete1\",\"Athlete1\",\"Athlete1\",\"Athlete1\",\"Athlete1\",\"Athlete1\",\"Athlete1\",\"Athlete1\",\"Athlete1\",\"Athlete1\",\"Athlete1\",\"Athlete1\",\"Athlete1\",\"Athlete1\",\"Athlete1\",\"Athlete1\",\"Athlete1\",\"Athlete1\",\"Athlete1\",\"Athlete1\",\"Athlete1\",\"Athlete1\",\"Athlete1\",\"Athlete1\",\"Athlete1\",\"Athlete1\",\"Athlete1\",\"Athlete1\",\"Athlete1\",\"Athlete1\",\"Athlete1\",\"Athlete1\",\"Athlete1\",\"Athlete1\",\"Athlete1\",\"Athlete1\",\"Athlete1\",\"Athlete1\",\"Athlete1\",\"Athlete1\",\"Athlete1\",\"Athlete1\",\"Athlete1\",\"Athlete1\",\"Athlete1\",\"Athlete1\",\"Athlete1\",\"Athlete1\",\"Athlete1\",\"Athlete1\",\"Athlete1\",\"Athlete1\",\"Athlete1\",\"Athlete1\",\"Athlete1\",\"Athlete1\",\"Athlete1\",\"Athlete1\",\"Athlete1\",\"Athlete1\",\"Athlete1\",\"Athlete1\",\"Athlete1\",\"Athlete1\",\"Athlete1\",\"Athlete1\",\"Athlete1\",\"Athlete1\",\"Athlete1\",\"Athlete1\",\"Athlete1\",\"Athlete1\",\"Athlete1\",\"Athlete1\",\"Athlete1\",\"Athlete1\",\"Athlete1\",\"Athlete1\",\"Athlete1\",\"Athlete1\",\"Athlete1\",\"Athlete1\",\"Athlete1\",\"Athlete1\",\"Athlete1\",\"Athlete1\",\"Athlete1\",\"Athlete1\",\"Athlete1\",\"Athlete1\",\"Athlete1\",\"Athlete1\",\"Athlete1\",\"Athlete1\",\"Athlete1\",\"Athlete1\",\"Athlete1\",\"Athlete1\",\"Athlete1\",\"Athlete1\",\"Athlete1\",\"Athlete1\",\"Athlete1\",\"Athlete1\",\"Athlete1\",\"Athlete1\",\"Athlete1\",\"Athlete1\",\"Athlete1\",\"Athlete1\",\"Athlete1\",\"Athlete1\",\"Athlete1\",\"Athlete1\",\"Athlete1\",\"Athlete1\"],\"distance\":[0,17,36,53,26,16,28,57,70,53,11,60,72,72,67,33,77,53,62,9,73,11,81,86,88,12,12,65,39,65,52,92,65,91,96,13,12,11,11,10,8,7,14,13,36,23,23,20,32,22,78,11,84,24,91,13,90,12,51,26,49,9,15,17,18,37,19,19,38,9,36,18,60,71,9,29,70,19,70,10,65,40,10,28,8,8,8,12,11,44,11,11,11,10,35,68,11,70,12,70,52,19,4,8,9,18,6,29,42,44,34,8,23,25,13,93,13,98,70,39,11,18,18,8,36,9,51,50,35,26,52,93,12,25,12,12,12,12,11,12,61,85,12,87,73,84,85,12,12,11,12,11,9,9,35,23,38,12,12,36,69,11,10,10,11,11,12,13,83,14,14,15,14,15,44,86,14,84,28,83,86,14,14,14,15,43,14,13,13,67,27,13,12,13,65,93,12,157,80,94,66,92,96,26,80,61,9,11,11,11,11,53,13,41,26,37,23,85,12,84,72,24,12,12,12,12,86,83,23,80,11,72,12,62,62,86,38,37,61,35,11,49,28,41,14,14,14,14,79,12,60,23,73,26,78,39,13,13,12,12,88,70,82,11,80,46,76,64,70,85,11,83,59,91,26,13,38,13,12,12,12,24,86,25,12,26,92,75,85,85,50,86,62,86,85,85,84,12,87,12,89,63,63,89,12,79,25,77,12,75,12,26,13,13,26,89,13,13,12,12,90,78,79,90,25,65,13,51,25,48,50,37,25,87,89,26,24,34,22,85,37,87,49,84,11,63,18,15,23,10,30,20,20,9,71,11,81,54,20,57,31,5,10,4,6,2,2,1,2,3,1,12,14,30,14,14,17,17,17,17,8,17,17,34,52,64,9,63,35,63,27,54,27,19,10,66,45,61,18,18,9,20,11,24,12,12,51,38,37,12,54,41,19,68,18,43,52,51,61,17,17,9,9,8,8,18,64,62,63,36,65,8,45,9,44,18,50,65,68,9,35,18,64,64,63,54,8,9,9,10,9,9,67,19,64,9,9,29,10,20,10,10,10,10,60,9,46,35,8,38,21,34,71,83,68,11,27,28,32,10,65,76,77,55,72,10,25,7,15,9,52,71,30,69,67,69,20,70,61,71,10,71,30,70,40,71,30,71,28,69,71,41,72,31,73,31,73,31,72,51,68,9,67,29,38,55,37,9,25,30,43,62,35,18,9,8,6,7,23,8,17,9,8,19,19,10,50,9,71,40,40,55,32,8,42,78,11,78,20,29,28,67,55,62,56,67,19,67,37,66,48,9,9,9,9,9,39,68,19,66,9,38,68,68,39,38,58,47,27,65,38,66,38,48,29,39,58,41,73,10,58,64,65,9,65,47,48,67,65,65,28,47,66,70,65,79,11,78,78,44,78,11,65,11,60,74,10,67,9,71,51,20,73,43,55,77,32,66,78,76,31,58,48,30,10,10,10,10,10,10,79,16,15,14,13,17,10,44,45,47,38,8,15,11,4,6,5,5,17,13,7,7,14,7,7,14,15,7,7,7,7,7,7,7,7,15,36,8,41,48,12,11,12,12,12,11,11,11,10,9,9,19,10,11,12,11,58,77,10,74,20,70,10,38,11,18,35,51,9,35,35,9,17,53,60,8,62,16,60,17,55,63,65,19,47,19,62,74,9,38,9,34,53,12,35,25,53,91,93,88,18,15,31,10,35,40,27,25,59,86,25,86,72,81,23,70,54,29,49,70,66,51,12,80,92,83,22,11,10,10,10,10,73,78,35,81,79,34,75,20,74,30,45,8,19,3,2,4,4,8,16,28,31,32,34,37,59,80,11,79,77,50,9,67,19,69,69,38,49,38,70,73,41,72,49,72,10,81,11,23,12,11,11,11,69,81,48,87,87,50,51,77,51,12,12,12,13,91,61,87,48,74,62,87,48,72,71,96,95,36,86,87,11,74,86,36,87,87,25,87,87,12,86,49,85,85,48,84,45,76,11,90,11,45,47,25,26,12,12,12,50,59,33,23,24,36,26,39,12,91,74,35,12,35,20,29,71,40,38,9,8,8,7,21,17,6,3,8,5,28,39,8,27,9,51,17,9,10,10,52,31,10,10,10,10,32,88,11,85,25,13,26,13,27,53,12,13,12,13,13,88,77,75,77,21,72,20,10,10,10,10,33,82,12,89,88,12,72,12,11,12,12,12,85,12,87,84,57,10,11,10,11,46,63,53,55,72,14,14,14,14,14,85,13,13,13,13,14,13,93,39,92,38,36,60,12,88,26,99,78,158,12,12,12,12,12,85,12,64,54,14,13,13,14,55,13,13,13,13,13,95,81,95,40,91,91,50,49,12,12,12,12,70,32,10,10,10,10,85,21,79,59,48,48,83,11,80,79,80,69,22,80,91,23,74,87,49,88,87,62,87,87,49,95,42,7,6,4,2,5,4,135,10,33,21,33,22,10,11,55,44,54,22,45,59,90,32,88,21,19,19,18,19,10,10,10,10,21,63,86,80,85,84,36,36,85,24,96,35,84,58,70,35,93,12,12,12,12,50,62,87,12,88,86,24,85,98,12,87,24,87,86,12,97,73,87,62,84,11,46,57,69,24,75,90,25,88,63,90,12,91,12,44,10,63,55,80,71,11,10,10,11,20,19,20,10,10,10,10,21,12,12,12,10,23,34,23,11,11,12,45,45,66,32,55,43,10,10,10,10,11,11,50,87,85,88,12,38,65,51,89,12,73,70,81,72,80,68,81,66,71,9,10,9,10,10,53,34,11,85,86,84,24,12,12,24,12,49,86,51,64,78,90,12,12,12,12,12,67,53,26,51,86,10,33,12,26,29,29,29,15,15,30,59,88,15,45,31,65,32,96,16,15,16,15,16,63,94,15,94,30,96,63,93,47,92,76,91,89,89,60,88,14,14,14,14,43,85,98,28,13,14,13,27,79,74,24,74,39,13,13,13,13,41,57,15,46,15,75,70,79,54,13,27,13,83,41,88,24,12,12,12,26,83,85,15,43,14,87,14,90,29,89,57,84,26,41,57,15,71,50,11,31,9,9,9,8,57,38,20,30,31,55,22,10,50,67,38,27,9,36,18,44,61,59,8,40,51,59,25,8,8,8,8,17,59,8,58,33,58,33,59,34,67,40,68,9,19,9,9,9,19,18,17,33,37,9,10,10,10,10,10,73,21,29,9,8,9,9,51,51,33,22,8,17,64,65,9,27,24,8,26,15,13,6,7,8,8,9,10,36,19,23,8,17,17,12,6,3,15,30,6,6,7,6,6,16,14,6,2,13,4,15,9,20,20,21,22,22,22,33,57,36,13,12,52,62,83,12,88,12,89,78,65,88,62,88,24,89,38,90,26,92,13,65,50,89,26,91,24,29,7,18,15,16,8,9,9,8,9,16,61,69,24,16,33,16,41,18,32,10,73,67,66,29,18,17,61,26,34,35,51,9,9,8,8,34,60,17,60,17,50,8,44,50,40,23,17,30,21,51,23,5,4,6,7,5,12,10,23,43,52,17,60,23,14,36,14,61,46,8,42,53,9,73,28,9,9,9,9,26,53,35,75,37,75,64,73,37,75,19,73,73,19,74,27,63,35,35,70,68,8,34,68,17,69,52,58,18,73,9,54,54,76,75,75,55,27,56,18,9,9,8,9,9,16,12,4,3,5,6,25,17,18,58,9,8,9,9,9,54,65,37,75,44,59,70,26,51,24,48,49,33,8,33,16,25,41,8,23,14,26,37,28,34,41,14,44,30,30,9,20,20,53,8,8,8,8,8,16,22,8,8,8,8,16,8,8,8,8,85,76,31,32,11,11,11,11,11,11,11,12,11,12,11,12,12,12,11,11,11,11,42,75,8,9,8,8,25,24,16,67,33,41,24,8,8,8,8,8,65,32,64,16,64,65,8,67,8,62,75,78,80,10,81,86,64,84,20,85,52,86,84,10,81,20,83,81,58,78,57,18,86,79,20,20,9,10,10,9,70,10,9,10,10,21,21,42,83,52,73,42,81,30,80,10,79,9,75,9,70,8,70,8,49,15,22,26,11,5,5,5,5,5,13,15,17,16,15,61,62,23,38,55,62,23,63,16,57,58,33,50,8,67,8,51,17,66,66,33,33,43,34,59,49,62,47,19,61,86,68,36,46,95,25,12,13,12,12,49,87,25,98,25,84,98,85,12,11,12,11,11,70,35,23,11,70,44,22,11,11,44,10,31,43,53,64,10,62,20,62,10,65,21,75,40,10,10,8,7,11,27,45,71,79,10,26,20,23,12,12,12,12,35,10,39,27,8,64,18,63,9,66,57,9,26,9,53,62,8,29,35,12,70,23,24,23,21,37,8,26,9,34,12,64,90,11,14,22,28,9,54,17,8,24,15,14,21,62,21,14,46,55,13,20,20,66,13,60,20,42,48,39,9,12,4,4,7,3,14,16,7,28,33,11,37,19,13,14,22,7,21,28,64,6,52,27,21,27,7,6,32,13,15,24,77,48,14,20,24,35,9,49,37,28,84,9,16,42,8,15,25,23,8,8,8,7,30,15,6,7,8,8,8,9,19,9,25,9,17,17,4,9,11,16,5,5,5,6,18,19,7,8,30,15,32,14,49,7,43,29,24,17,26,19,21,43,60,67,37,15,22,7,62,39,60,30,61,15,28,15,46,60,8,30,8,28,18,15,8,17,21,28,30,41,62,86,10,69,54,58,68,72,9,63,63,64,59,26,20,32,42,20,16,15,15,13,7,13,10,17,6,50,55,43,5,31,13,45,35,33,6,268,5],\"index\":[0,1,2,3,4,5,6,7,8,9,10,11,12,13,14,15,16,17,18,19,20,21,22,23,24,25,26,27,28,29,30,31,32,33,34,35,36,37,38,39,40,41,42,43,44,45,46,47,48,49,50,51,52,53,54,55,56,57,58,59,60,61,62,63,64,65,66,67,68,69,70,71,72,73,74,75,76,77,78,79,80,81,82,83,84,85,86,87,88,89,90,91,92,93,94,95,96,97,98,99,100,101,102,103,104,105,106,107,108,109,110,111,112,113,114,115,116,117,118,119,120,121,122,123,124,125,126,127,128,129,130,131,132,133,134,135,136,137,138,139,140,141,142,143,144,145,146,147,148,149,150,151,152,153,154,155,156,157,158,159,160,161,162,163,164,165,166,167,168,169,170,171,172,173,174,175,176,177,178,179,180,181,182,183,184,185,186,187,188,189,190,191,192,193,194,195,196,197,198,199,200,201,202,203,204,205,206,207,208,209,210,211,212,213,214,215,216,217,218,219,220,221,222,223,224,225,226,227,228,229,230,231,232,233,234,235,236,237,238,239,240,241,242,243,244,245,246,247,248,249,250,251,252,253,254,255,256,257,258,259,260,261,262,263,264,265,266,267,268,269,270,271,272,273,274,275,276,277,278,279,280,281,282,283,284,285,286,287,288,289,290,291,292,293,294,295,296,297,298,299,300,301,302,303,304,305,306,307,308,309,310,311,312,313,314,315,316,317,318,319,320,321,322,323,324,325,326,327,328,329,330,331,332,333,334,335,336,337,338,339,340,341,342,343,344,345,346,347,348,349,350,351,352,353,354,355,356,357,358,359,360,361,362,363,364,365,366,367,368,369,370,371,372,373,374,375,376,377,378,379,380,381,382,383,384,385,386,387,388,389,390,391,392,393,394,395,396,397,398,399,400,401,402,403,404,405,406,407,408,409,410,411,412,413,414,415,416,417,418,419,420,421,422,423,424,425,426,427,428,429,430,431,432,433,434,435,436,437,438,439,440,441,442,443,444,445,446,447,448,449,450,451,452,453,454,455,456,457,458,459,460,461,462,463,464,465,466,467,468,469,470,471,472,473,474,475,476,477,478,479,480,481,482,483,484,485,486,487,488,489,490,491,492,493,494,495,496,497,498,499,500,501,502,503,504,505,506,507,508,509,510,511,512,513,514,515,516,517,518,519,520,521,522,523,524,525,526,527,528,529,530,531,532,533,534,535,536,537,538,539,540,541,542,543,544,545,546,547,548,549,550,551,552,553,554,555,556,557,558,559,560,561,562,563,564,565,566,567,568,569,570,571,572,573,574,575,576,577,578,579,580,581,582,583,584,585,586,587,588,589,590,591,592,593,594,595,596,597,598,599,600,601,602,603,604,605,606,607,608,609,610,611,612,613,614,615,616,617,618,619,620,621,622,623,624,625,626,627,628,629,630,631,632,633,634,635,636,637,638,639,640,641,642,643,644,645,646,647,648,649,650,651,652,653,654,655,656,657,658,659,660,661,662,663,664,665,666,667,668,669,670,671,672,673,674,675,676,677,678,679,680,681,682,683,684,685,686,687,688,689,690,691,692,693,694,695,696,697,698,699,700,701,702,703,704,705,706,707,708,709,710,711,712,713,714,715,716,717,718,719,720,721,722,723,724,725,726,727,728,729,730,731,732,733,734,735,736,737,738,739,740,741,742,743,744,745,746,747,748,749,750,751,752,753,754,755,756,757,758,759,760,761,762,763,764,765,766,767,768,769,770,771,772,773,774,775,776,777,778,779,780,781,782,783,784,785,786,787,788,789,790,791,792,793,794,795,796,797,798,799,800,801,802,803,804,805,806,807,808,809,810,811,812,813,814,815,816,817,818,819,820,821,822,823,824,825,826,827,828,829,830,831,832,833,834,835,836,837,838,839,840,841,842,843,844,845,846,847,848,849,850,851,852,853,854,855,856,857,858,859,860,861,862,863,864,865,866,867,868,869,870,871,872,873,874,875,876,877,878,879,880,881,882,883,884,885,886,887,888,889,890,891,892,893,894,895,896,897,898,899,900,901,902,903,904,905,906,907,908,909,910,911,912,913,914,915,916,917,918,919,920,921,922,923,924,925,926,927,928,929,930,931,932,933,934,935,936,937,938,939,940,941,942,943,944,945,946,947,948,949,950,951,952,953,954,955,956,957,958,959,960,961,962,963,964,965,966,967,968,969,970,971,972,973,974,975,976,977,978,979,980,981,982,983,984,985,986,987,988,989,990,991,992,993,994,995,996,997,998,999,1000,1001,1002,1003,1004,1005,1006,1007,1008,1009,1010,1011,1012,1013,1014,1015,1016,1017,1018,1019,1020,1021,1022,1023,1024,1025,1026,1027,1028,1029,1030,1031,1032,1033,1034,1035,1036,1037,1038,1039,1040,1041,1042,1043,1044,1045,1046,1047,1048,1049,1050,1051,1052,1053,1054,1055,1056,1057,1058,1059,1060,1061,1062,1063,1064,1065,1066,1067,1068,1069,1070,1071,1072,1073,1074,1075,1076,1077,1078,1079,1080,1081,1082,1083,1084,1085,1086,1087,1088,1089,1090,1091,1092,1093,1094,1095,1096,1097,1098,1099,1100,1101,1102,1103,1104,1105,1106,1107,1108,1109,1110,1111,1112,1113,1114,1115,1116,1117,1118,1119,1120,1121,1122,1123,1124,1125,1126,1127,1128,1129,1130,1131,1132,1133,1134,1135,1136,1137,1138,1139,1140,1141,1142,1143,1144,1145,1146,1147,1148,1149,1150,1151,1152,1153,1154,1155,1156,1157,1158,1159,1160,1161,1162,1163,1164,1165,1166,1167,1168,1169,1170,1171,1172,1173,1174,1175,1176,1177,1178,1179,1180,1181,1182,1183,1184,1185,1186,1187,1188,1189,1190,1191,1192,1193,1194,1195,1196,1197,1198,1199,1200,1201,1202,1203,1204,1205,1206,1207,1208,1209,1210,1211,1212,1213,1214,1215,1216,1217,1218,1219,1220,1221,1222,1223,1224,1225,1226,1227,1228,1229,1230,1231,1232,1233,1234,1235,1236,1237,1238,1239,1240,1241,1242,1243,1244,1245,1246,1247,1248,1249,1250,1251,1252,1253,1254,1255,1256,1257,1258,1259,1260,1261,1262,1263,1264,1265,1266,1267,1268,1269,1270,1271,1272,1273,1274,1275,1276,1277,1278,1279,1280,1281,1282,1283,1284,1285,1286,1287,1288,1289,1290,1291,1292,1293,1294,1295,1296,1297,1298,1299,1300,1301,1302,1303,1304,1305,1306,1307,1308,1309,1310,1311,1312,1313,1314,1315,1316,1317,1318,1319,1320,1321,1322,1323,1324,1325,1326,1327,1328,1329,1330,1331,1332,1333,1334,1335,1336,1337,1338,1339,1340,1341,1342,1343,1344,1345,1346,1347,1348,1349,1350,1351,1352,1353,1354,1355,1356,1357,1358,1359,1360,1361,1362,1363,1364,1365,1366,1367,1368,1369,1370,1371,1372,1373,1374,1375,1376,1377,1378,1379,1380,1381,1382,1383,1384,1385,1386,1387,1388,1389,1390,1391,1392,1393,1394,1395,1396,1397,1398,1399,1400,1401,1402,1403,1404,1405,1406,1407,1408,1409,1410,1411,1412,1413,1414,1415,1416,1417,1418,1419,1420,1421,1422,1423,1424,1425,1426,1427,1428,1429,1430,1431,1432,1433,1434,1435,1436,1437,1438,1439,1440,1441,1442,1443,1444,1445,1446,1447,1448,1449,1450,1451,1452,1453,1454,1455,1456,1457,1458,1459,1460,1461,1462,1463,1464,1465,1466,1467,1468,1469,1470,1471,1472,1473,1474,1475,1476,1477,1478,1479,1480,1481,1482,1483,1484,1485,1486,1487,1488,1489,1490,1491,1492,1493,1494,1495,1496,1497,1498,1499,1500,1501,1502,1503,1504,1505,1506,1507,1508,1509,1510,1511,1512,1513,1514,1515,1516,1517,1518,1519,1520,1521,1522,1523,1524,1525,1526,1527,1528,1529,1530,1531,1532,1533,1534,1535,1536,1537,1538,1539,1540,1541,1542,1543,1544,1545,1546,1547,1548,1549,1550,1551,1552,1553,1554,1555,1556,1557,1558,1559,1560,1561,1562,1563,1564,1565,1566,1567,1568,1569,1570,1571,1572,1573,1574,1575,1576,1577,1578,1579,1580,1581,1582,1583,1584,1585,1586,1587,1588,1589,1590,1591,1592,1593,1594,1595,1596,1597,1598,1599,1600,1601,1602,1603,1604,1605,1606,1607,1608,1609,1610,1611,1612,1613,1614,1615,1616,1617,1618,1619,1620,1621,1622,1623,1624,1625,1626,1627,1628,1629,1630,1631,1632,1633,1634,1635,1636,1637,1638,1639,1640,1641,1642,1643,1644,1645,1646,1647,1648,1649,1650,1651,1652,1653,1654,1655,1656,1657,1658,1659,1660,1661,1662,1663,1664,1665,1666,1667,1668,1669,1670,1671,1672,1673,1674,1675,1676,1677,1678,1679,1680,1681,1682,1683,1684,1685,1686,1687,1688,1689,1690,1691,1692,1693,1694,1695,1696,1697,1698,1699,1700,1701,1702,1703,1704,1705,1706,1707,1708,1709,1710,1711,1712,1713,1714,1715,1716,1717,1718,1719,1720,1721,1722,1723,1724,1725,1726,1727,1728,1729,1730,1731,1732,1733,1734,1735,1736,1737,1738,1739,1740,1741,1742,1743,1744,1745,1746,1747,1748,1749,1750,1751,1752,1753,1754,1755,1756,1757,1758,1759,1760,1761,1762,1763,1764,1765,1766,1767,1768,1769,1770,1771,1772,1773,1774,1775,1776,1777,1778,1779,1780,1781,1782,1783,1784,1785,1786,1787,1788,1789,1790,1791,1792,1793,1794,1795,1796,1797,1798,1799,1800,1801,1802,1803,1804,1805,1806,1807,1808,1809,1810,1811,1812,1813,1814,1815,1816,1817,1818,1819,1820,1821,1822,1823,1824,1825,1826,1827,1828,1829,1830,1831,1832,1833,1834,1835,1836,1837,1838,1839,1840,1841,1842,1843,1844,1845,1846,1847,1848,1849,1850,1851,1852,1853,1854,1855,1856,1857,1858,1859,1860,1861,1862,1863,1864,1865,1866,1867,1868,1869,1870,1871,1872,1873,1874,1875,1876,1877,1878,1879,1880,1881,1882,1883,1884,1885,1886,1887,1888,1889,1890,1891,1892,1893,1894,1895,1896,1897,1898,1899,1900,1901,1902,1903,1904,1905,1906,1907,1908,1909,1910,1911,1912,1913,1914,1915,1916,1917,1918,1919,1920,1921,1922,1923,1924,1925,1926,1927,1928,1929,1930,1931,1932,1933,1934,1935,1936,1937,1938,1939,1940,1941,1942,1943,1944,1945,1946,1947,1948,1949,1950,1951,1952,1953,1954,1955,1956,1957,1958,1959,1960,1961,1962,1963,1964,1965,1966,1967,1968,1969,1970,1971,1972,1973,1974,1975,1976,1977,1978,1979,1980,1981,1982,1983,1984,1985,1986,1987,1988,1989,1990,1991,1992,1993,1994,1995,1996,1997,1998,1999,2000,2001,2002,2003,2004,2005,2006,2007,2008,2009,2010,2011,2012,2013,2014,2015,2016,2017,2018,2019,2020,2021,2022,2023,2024,2025,2026,2027,2028,2029,2030,2031,2032,2033,2034,2035,2036,2037,2038,2039,2040,2041,2042,2043,2044,2045,2046,2047,2048,2049,2050,2051,2052,2053,2054,2055,2056,2057,2058,2059,2060,2061,2062,2063,2064,2065,2066,2067,2068,2069,2070,2071,2072,2073,2074,2075,2076,2077,2078,2079,2080,2081,2082,2083,2084,2085,2086,2087,2088,2089,2090,2091,2092,2093,2094,2095,2096,2097,2098,2099,2100,2101,2102,2103,2104,2105,2106,2107,2108,2109,2110,2111,2112,2113,2114,2115,2116,2117,2118,2119,2120,2121,2122,2123],\"journey\":[10,10,10,10,10,10,10,10,10,10,10,10,10,10,10,10,10,10,10,10,10,10,10,10,10,10,10,10,10,10,10,10,10,10,10,10,10,10,10,10,10,10,10,10,10,10,10,10,10,10,10,10,10,10,10,10,10,10,10,10,10,10,10,10,10,10,10,10,10,10,10,10,10,10,10,10,10,10,10,10,10,10,10,10,10,10,10,10,10,10,10,10,10,10,10,10,10,10,10,10,10,10,10,10,10,10,10,10,10,10,10,10,10,10,10,10,10,10,10,10,10,10,10,10,10,10,10,10,10,10,10,10,10,10,10,10,10,10,10,10,10,10,10,10,10,10,10,10,10,10,10,10,10,10,10,10,10,10,10,10,10,10,10,10,10,10,10,10,10,10,10,10,10,10,10,10,10,10,10,10,10,10,10,10,10,10,10,10,10,10,10,10,10,10,10,10,10,10,10,10,10,10,10,10,10,10,10,10,10,10,10,10,10,10,10,10,10,10,10,10,10,10,10,10,10,10,10,10,10,10,10,10,10,10,10,10,10,10,10,10,10,10,10,10,10,10,10,10,10,10,10,10,10,10,10,10,10,10,10,10,10,10,10,10,10,10,10,10,10,10,10,10,10,10,10,10,10,10,10,10,10,10,10,10,10,10,10,10,10,10,10,10,10,10,10,10,10,10,10,10,10,10,10,10,10,10,10,10,10,10,10,10,10,10,10,10,10,10,10,10,10,10,10,10,10,10,10,10,10,10,10,10,10,10,10,10,10,10,10,10,10,10,10,10,10,10,10,10,10,10,10,10,10,10,10,10,10,10,10,10,10,10,10,10,10,10,10,10,10,10,10,10,10,10,10,10,10,10,10,10,10,10,10,10,10,10,10,10,10,10,10,10,10,10,10,10,10,10,10,10,10,10,10,10,10,10,10,10,10,10,10,10,10,10,10,10,10,10,10,10,10,10,10,10,10,10,10,10,10,10,10,10,10,10,10,10,10,10,10,10,10,10,10,10,10,10,10,10,10,10,10,10,10,10,10,10,10,10,10,10,10,10,10,10,10,10,10,10,10,10,10,10,10,10,10,10,10,10,10,10,10,10,10,10,10,10,10,10,10,10,10,10,10,10,10,10,10,10,10,10,10,10,10,10,10,10,10,10,10,10,10,10,10,10,10,10,10,10,10,10,10,10,10,10,10,10,10,10,10,10,10,10,10,10,10,10,10,10,10,10,10,10,10,10,10,10,10,10,10,10,10,10,10,10,10,10,10,10,10,10,10,10,10,10,10,10,10,10,10,10,10,10,10,10,10,10,10,10,10,10,10,10,10,10,10,10,10,10,10,10,10,10,10,10,10,10,10,10,10,10,10,10,10,10,10,10,10,10,10,10,10,10,10,10,10,10,10,10,10,10,10,10,10,10,10,10,10,10,10,10,10,10,10,10,10,10,10,10,10,10,10,10,10,10,10,10,10,10,10,10,10,10,10,10,10,10,10,10,10,10,10,10,10,10,10,10,10,10,10,10,10,10,10,10,10,10,10,10,10,10,10,10,10,10,10,10,10,10,10,10,10,10,10,10,10,10,10,10,10,10,10,10,10,10,10,10,10,10,10,10,10,10,10,10,10,10,10,10,10,10,10,10,10,10,10,10,10,10,10,10,10,10,10,10,10,10,10,10,10,10,10,10,10,10,10,10,10,10,10,10,10,10,10,10,10,10,10,10,10,10,10,10,10,10,10,10,10,10,10,10,10,10,10,10,10,10,10,10,10,10,10,10,10,10,10,10,10,10,10,10,10,10,10,10,10,10,10,10,10,10,10,10,10,10,10,10,10,10,10,10,10,10,10,10,10,10,10,10,10,10,10,10,10,10,10,10,10,10,10,10,10,10,10,10,10,10,10,10,10,10,10,10,10,10,10,10,10,10,10,10,10,10,10,10,10,10,10,10,10,10,10,10,10,10,10,10,10,10,10,10,10,10,10,10,10,10,10,10,10,10,10,10,10,10,10,10,10,10,10,10,10,10,10,10,10,10,10,10,10,10,10,10,10,10,10,10,10,10,10,10,10,10,10,10,10,10,10,10,10,10,10,10,10,10,10,10,10,10,10,10,10,10,10,10,10,10,10,10,10,10,10,10,10,10,10,10,10,10,10,10,10,10,10,10,10,10,10,10,10,10,10,10,10,10,10,10,10,10,10,10,10,10,10,10,10,10,10,10,10,10,10,10,10,10,10,10,10,10,10,10,10,10,10,10,10,10,10,10,10,10,10,10,10,10,10,10,10,10,10,10,10,10,10,10,10,10,10,10,10,10,10,10,10,10,10,10,10,10,10,10,10,10,10,10,10,10,10,10,10,10,10,10,10,10,10,10,10,10,10,10,10,10,10,10,10,10,10,10,10,10,10,10,10,10,10,10,10,10,10,10,10,10,10,10,10,10,10,10,10,10,10,10,10,10,10,10,10,10,10,10,10,10,10,10,10,10,10,10,10,10,10,10,10,10,10,10,10,10,10,10,10,10,10,10,10,10,10,10,10,10,10,10,10,10,10,10,10,10,10,10,10,10,10,10,10,10,10,10,10,10,10,10,10,10,10,10,10,10,10,10,10,10,10,10,10,10,10,10,10,10,10,10,10,10,10,10,10,10,10,10,10,10,10,10,10,10,10,10,10,10,10,10,10,10,10,10,10,10,10,10,10,10,10,10,10,10,10,10,10,10,10,10,10,10,10,10,10,10,10,10,10,10,10,10,10,10,10,10,10,10,10,10,10,10,10,10,10,10,10,10,10,10,10,10,10,10,10,10,10,10,10,10,10,10,10,10,10,10,10,10,10,10,10,10,10,10,10,10,10,10,10,10,10,10,10,10,10,10,10,10,10,10,10,10,10,10,10,10,10,10,10,10,10,10,10,10,10,10,10,10,10,10,10,10,10,10,10,10,10,10,10,10,10,10,10,10,10,10,10,10,10,10,10,10,10,10,10,10,10,10,10,10,10,10,10,10,10,10,10,10,10,10,10,10,10,10,10,10,10,10,10,10,10,10,10,10,10,10,10,10,10,10,10,10,10,10,10,10,10,10,10,10,10,10,10,10,10,10,10,10,10,10,10,10,10,10,10,10,10,10,10,10,10,10,10,10,10,10,10,10,10,10,10,10,10,10,10,10,10,10,10,10,10,10,10,10,10,10,10,10,10,10,10,10,10,10,10,10,10,10,10,10,10,10,10,10,10,10,10,10,10,10,10,10,10,10,10,10,10,10,10,10,10,10,10,10,10,10,10,10,10,10,10,10,10,10,10,10,10,10,10,10,10,10,10,10,10,10,10,10,10,10,10,10,10,10,10,10,10,10,10,10,10,10,10,10,10,10,10,10,10,10,10,10,10,10,10,10,10,10,10,10,10,10,10,10,10,10,10,10,10,10,10,10,10,10,10,10,10,10,10,10,10,10,10,10,10,10,10,10,10,10,10,10,10,10,10,10,10,10,10,10,10,10,10,10,10,10,10,10,10,10,10,10,10,10,10,10,10,10,10,10,10,10,10,10,10,10,10,10,10,10,10,10,10,10,10,10,10,10,10,10,10,10,10,10,10,10,10,10,10,10,10,10,10,10,10,10,10,10,10,10,10,10,10,10,10,10,10,10,10,10,10,10,10,10,10,10,10,10,10,10,10,10,10,10,10,10,10,10,10,10,10,10,10,10,10,10,10,10,10,10,10,10,10,10,10,10,10,10,10,10,10,10,10,10,10,10,10,10,10,10,10,10,10,10,10,10,10,10,10,10,10,10,10,10,10,10,10,10,10,10,10,10,10,10,10,10,10,10,10,10,10,10,10,10,10,10,10,10,10,10,10,10,10,10,10,10,10,10,10,10,10,10,10,10,10,10,10,10,10,10,10,10,10,10,10,10,10,10,10,10,10,10,10,10,10,10,10,10,10,10,10,10,10,10,10,10,10,10,10,10,10,10,10,10,10,10,10,10,10,10,10,10,10,10,10,10,10,10,10,10,10,10,10,10,10,10,10,10,10,10,10,10,10,10,10,10,10,10,10,10,10,10,10,10,10,10,10,10,10,10,10,10,10,10,10,10,10,10,10,10,10,10,10,10,10,10,10,10,10,10,10,10,10,10,10,10,10,10,10,10,10,10,10,10,10,10,10,10,10,10,10,10,10,10,10,10,10,10,10,10,10,10,10,10,10,10,10,10,10,10,10,10,10,10,10,10,10,10,10,10,10,10,10,10,10,10,10,10,10,10,10,10,10,10,10,10,10,10,10,10,10,10,10,10,10,10,10,10,10,10,10,10,10,10,10,10,10,10,10,10,10,10,10,10,10,10,10,10,10,10,10,10,10,10,10,10,10,10,10,10,10,10,10,10,10,10,10,10,10,10,10,10,10,10,10,10,10,10,10,10,10,10,10,10,10,10,10,10,10,10,10,10,10,10,10,10,10,10,10,10,10,10,10,10,10,10,10,10,10,10,10,10,10,10,10,10,10,10,10,10,10,10,10,10,10,10,10,10,10,10,10,10,10,10,10,10,10,10,10,10,10,10,10,10,10,10,10,10,10,10,10,10,10,10,10,10,10,10,10,10,10,10,10,10,10,10,10,10,10,10,10,10,10,10,10,10,10,10,10,10,10,10,10,10,10,10,10,10,10,10,10,10,10,10,10,10,10,10,10,10,10,10,10,10,10,10,10,10,10,10,10,10,10,10,10,10,10,10,10,10,10,10,10,10,10,10,10,10,10,10,10,10,10,10,10,10,10,10,10,10,10,10,10,10,10,10,10,10,10,10,10,10],\"latitude\":{\"__ndarray__\":\"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\",\"dtype\":\"float64\",\"shape\":[2124]},\"longitude\":{\"__ndarray__\":\"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\",\"dtype\":\"float64\",\"shape\":[2124]},\"time\":[40062000.0,40064000.0,40068000.0,40074000.0,40077000.0,40079000.0,40082000.0,40088000.0,40096000.0,40101000.0,40102000.0,40107000.0,40113000.0,40119000.0,40125000.0,40128000.0,40135000.0,40140000.0,40146000.0,40147000.0,40154000.0,40155000.0,40162000.0,40169000.0,40176000.0,40177000.0,40178000.0,40183000.0,40186000.0,40191000.0,40195000.0,40202000.0,40207000.0,40214000.0,40221000.0,40222000.0,40223000.0,40224000.0,40225000.0,40226000.0,40227000.0,40228000.0,40230000.0,40231000.0,40234000.0,40236000.0,40238000.0,40240000.0,40243000.0,40245000.0,40252000.0,40253000.0,40260000.0,40262000.0,40269000.0,40270000.0,40277000.0,40278000.0,40282000.0,40284000.0,40288000.0,40289000.0,40291000.0,40293000.0,40295000.0,40299000.0,40301000.0,40303000.0,40307000.0,40308000.0,40312000.0,40314000.0,40320000.0,40327000.0,40328000.0,40331000.0,40338000.0,40340000.0,40347000.0,40348000.0,40354000.0,40358000.0,40359000.0,40362000.0,40363000.0,40364000.0,40365000.0,40366000.0,40367000.0,40371000.0,40372000.0,40373000.0,40374000.0,40375000.0,40378000.0,40384000.0,40385000.0,40391000.0,40392000.0,40398000.0,40403000.0,40406000.0,40409000.0,40411000.0,40413000.0,40416000.0,40417000.0,40421000.0,40426000.0,40431000.0,40435000.0,40436000.0,40438000.0,40440000.0,40441000.0,40448000.0,40449000.0,40456000.0,40461000.0,40464000.0,40465000.0,40467000.0,40469000.0,40470000.0,40474000.0,40475000.0,40481000.0,40487000.0,40490000.0,40492000.0,40496000.0,40503000.0,40504000.0,40506000.0,40507000.0,40508000.0,40509000.0,40510000.0,40511000.0,40512000.0,40517000.0,40524000.0,40525000.0,40532000.0,40538000.0,40545000.0,40552000.0,40553000.0,40554000.0,40555000.0,40556000.0,40557000.0,40558000.0,40559000.0,40563000.0,40565000.0,40568000.0,40569000.0,40570000.0,40573000.0,40579000.0,40580000.0,40581000.0,40582000.0,40583000.0,40584000.0,40585000.0,40586000.0,40592000.0,40593000.0,40594000.0,40595000.0,40596000.0,40597000.0,40600000.0,40606000.0,40607000.0,40613000.0,40615000.0,40621000.0,40627000.0,40628000.0,40629000.0,40630000.0,40631000.0,40634000.0,40635000.0,40636000.0,40637000.0,40642000.0,40644000.0,40645000.0,40646000.0,40647000.0,40652000.0,40659000.0,40660000.0,40672000.0,40678000.0,40685000.0,40690000.0,40697000.0,40704000.0,40706000.0,40713000.0,40719000.0,40720000.0,40721000.0,40722000.0,40723000.0,40724000.0,40728000.0,40729000.0,40732000.0,40734000.0,40737000.0,40739000.0,40746000.0,40747000.0,40754000.0,40760000.0,40762000.0,40763000.0,40764000.0,40765000.0,40766000.0,40773000.0,40780000.0,40782000.0,40789000.0,40790000.0,40796000.0,40797000.0,40802000.0,40807000.0,40814000.0,40817000.0,40820000.0,40825000.0,40828000.0,40829000.0,40833000.0,40835000.0,40838000.0,40839000.0,40840000.0,40841000.0,40842000.0,40848000.0,40849000.0,40854000.0,40856000.0,40862000.0,40864000.0,40870000.0,40873000.0,40874000.0,40875000.0,40876000.0,40877000.0,40884000.0,40890000.0,40897000.0,40898000.0,40905000.0,40909000.0,40916000.0,40922000.0,40928000.0,40935000.0,40936000.0,40943000.0,40948000.0,40956000.0,40958000.0,40959000.0,40962000.0,40963000.0,40964000.0,40965000.0,40966000.0,40968000.0,40975000.0,40977000.0,40978000.0,40980000.0,40987000.0,40993000.0,41000000.0,41007000.0,41011000.0,41018000.0,41023000.0,41030000.0,41037000.0,41044000.0,41051000.0,41052000.0,41059000.0,41060000.0,41067000.0,41072000.0,41077000.0,41084000.0,41085000.0,41091000.0,41093000.0,41099000.0,41100000.0,41106000.0,41107000.0,41109000.0,41110000.0,41111000.0,41113000.0,41120000.0,41121000.0,41122000.0,41123000.0,41124000.0,41131000.0,41137000.0,41143000.0,41150000.0,41152000.0,41157000.0,41158000.0,41162000.0,41164000.0,41168000.0,41172000.0,41175000.0,41177000.0,41184000.0,41191000.0,41193000.0,41195000.0,41198000.0,41200000.0,41207000.0,41210000.0,41217000.0,41221000.0,41228000.0,41229000.0,41235000.0,41237000.0,41239000.0,41242000.0,41243000.0,41246000.0,41248000.0,41250000.0,41251000.0,41258000.0,41259000.0,41266000.0,41271000.0,41273000.0,41279000.0,41283000.0,41284000.0,41286000.0,41287000.0,41289000.0,41290000.0,41291000.0,41292000.0,41295000.0,41296000.0,41297000.0,41303000.0,41307000.0,41312000.0,41314000.0,41316000.0,41318000.0,41320000.0,41322000.0,41324000.0,41325000.0,41327000.0,41329000.0,41333000.0,41339000.0,41346000.0,41347000.0,41354000.0,41358000.0,41365000.0,41368000.0,41374000.0,41377000.0,41379000.0,41380000.0,41387000.0,41392000.0,41399000.0,41401000.0,41403000.0,41404000.0,41406000.0,41407000.0,41409000.0,41410000.0,41411000.0,41415000.0,41418000.0,41421000.0,41422000.0,41427000.0,41431000.0,41433000.0,41440000.0,41442000.0,41447000.0,41453000.0,41459000.0,41466000.0,41468000.0,41470000.0,41471000.0,41472000.0,41473000.0,41474000.0,41476000.0,41483000.0,41490000.0,41497000.0,41501000.0,41508000.0,41509000.0,41514000.0,41515000.0,41520000.0,41522000.0,41528000.0,41535000.0,41542000.0,41543000.0,41547000.0,41549000.0,41556000.0,41563000.0,41570000.0,41576000.0,41577000.0,41578000.0,41579000.0,41580000.0,41581000.0,41582000.0,41589000.0,41591000.0,41598000.0,41599000.0,41600000.0,41603000.0,41604000.0,41606000.0,41607000.0,41608000.0,41609000.0,41610000.0,41616000.0,41617000.0,41622000.0,41626000.0,41627000.0,41631000.0,41633000.0,41636000.0,41642000.0,41649000.0,41655000.0,41656000.0,41659000.0,41662000.0,41665000.0,41666000.0,41672000.0,41679000.0,41686000.0,41691000.0,41698000.0,41699000.0,41702000.0,41703000.0,41705000.0,41706000.0,41711000.0,41718000.0,41721000.0,41728000.0,41735000.0,41742000.0,41744000.0,41751000.0,41757000.0,41764000.0,41765000.0,41772000.0,41775000.0,41782000.0,41786000.0,41793000.0,41796000.0,41803000.0,41806000.0,41813000.0,41820000.0,41824000.0,41831000.0,41834000.0,41841000.0,41844000.0,41851000.0,41854000.0,41861000.0,41866000.0,41873000.0,41874000.0,41881000.0,41884000.0,41888000.0,41894000.0,41898000.0,41899000.0,41902000.0,41906000.0,41911000.0,41918000.0,41922000.0,41924000.0,41925000.0,41926000.0,41927000.0,41928000.0,41931000.0,41932000.0,41934000.0,41935000.0,41936000.0,41938000.0,41940000.0,41941000.0,41946000.0,41947000.0,41954000.0,41958000.0,41962000.0,41968000.0,41972000.0,41973000.0,41977000.0,41984000.0,41985000.0,41992000.0,41994000.0,41997000.0,42000000.0,42007000.0,42013000.0,42020000.0,42026000.0,42033000.0,42035000.0,42042000.0,42046000.0,42053000.0,42058000.0,42059000.0,42060000.0,42061000.0,42062000.0,42063000.0,42067000.0,42074000.0,42076000.0,42083000.0,42084000.0,42088000.0,42095000.0,42102000.0,42106000.0,42110000.0,42116000.0,42121000.0,42124000.0,42131000.0,42135000.0,42142000.0,42146000.0,42151000.0,42154000.0,42158000.0,42164000.0,42168000.0,42175000.0,42176000.0,42182000.0,42189000.0,42196000.0,42197000.0,42204000.0,42209000.0,42214000.0,42221000.0,42228000.0,42235000.0,42238000.0,42243000.0,42250000.0,42257000.0,42263000.0,42270000.0,42271000.0,42278000.0,42285000.0,42289000.0,42296000.0,42297000.0,42303000.0,42304000.0,42310000.0,42317000.0,42318000.0,42325000.0,42326000.0,42333000.0,42338000.0,42340000.0,42347000.0,42351000.0,42355000.0,42362000.0,42365000.0,42372000.0,42379000.0,42386000.0,42389000.0,42395000.0,42400000.0,42403000.0,42404000.0,42405000.0,42406000.0,42407000.0,42408000.0,42409000.0,42417000.0,42419000.0,42421000.0,42423000.0,42425000.0,42428000.0,42430000.0,42437000.0,42445000.0,42451000.0,42455000.0,42456000.0,42458000.0,42460000.0,42461000.0,42462000.0,42463000.0,42464000.0,42467000.0,42469000.0,42470000.0,42471000.0,42473000.0,42474000.0,42475000.0,42477000.0,42479000.0,42480000.0,42481000.0,42482000.0,42483000.0,42484000.0,42485000.0,42486000.0,42487000.0,42489000.0,42493000.0,42494000.0,42498000.0,42502000.0,42503000.0,42504000.0,42505000.0,42506000.0,42507000.0,42508000.0,42509000.0,42510000.0,42511000.0,42512000.0,42513000.0,42515000.0,42516000.0,42517000.0,42518000.0,42519000.0,42524000.0,42531000.0,42532000.0,42539000.0,42541000.0,42548000.0,42549000.0,42554000.0,42558000.0,42562000.0,42567000.0,42573000.0,42574000.0,42578000.0,42582000.0,42583000.0,42585000.0,42591000.0,42598000.0,42599000.0,42606000.0,42608000.0,42615000.0,42617000.0,42623000.0,42629000.0,42636000.0,42638000.0,42643000.0,42645000.0,42651000.0,42658000.0,42659000.0,42663000.0,42664000.0,42668000.0,42674000.0,42675000.0,42678000.0,42680000.0,42684000.0,42691000.0,42698000.0,42705000.0,42707000.0,42709000.0,42712000.0,42713000.0,42716000.0,42719000.0,42721000.0,42723000.0,42728000.0,42735000.0,42737000.0,42744000.0,42750000.0,42757000.0,42759000.0,42765000.0,42770000.0,42773000.0,42778000.0,42785000.0,42791000.0,42795000.0,42796000.0,42802000.0,42809000.0,42816000.0,42818000.0,42819000.0,42820000.0,42821000.0,42822000.0,42823000.0,42830000.0,42837000.0,42840000.0,42847000.0,42854000.0,42857000.0,42864000.0,42866000.0,42873000.0,42876000.0,42881000.0,42882000.0,42885000.0,42886000.0,42887000.0,42888000.0,42889000.0,42890000.0,42892000.0,42895000.0,42898000.0,42901000.0,42904000.0,42907000.0,42912000.0,42919000.0,42920000.0,42927000.0,42934000.0,42939000.0,42940000.0,42947000.0,42949000.0,42956000.0,42963000.0,42967000.0,42972000.0,42976000.0,42983000.0,42990000.0,42994000.0,43001000.0,43006000.0,43013000.0,43014000.0,43021000.0,43022000.0,43024000.0,43025000.0,43026000.0,43027000.0,43028000.0,43034000.0,43041000.0,43045000.0,43052000.0,43059000.0,43063000.0,43067000.0,43073000.0,43077000.0,43078000.0,43079000.0,43080000.0,43081000.0,43088000.0,43093000.0,43100000.0,43104000.0,43110000.0,43115000.0,43122000.0,43126000.0,43132000.0,43138000.0,43146000.0,43154000.0,43157000.0,43164000.0,43171000.0,43172000.0,43178000.0,43185000.0,43188000.0,43195000.0,43202000.0,43204000.0,43211000.0,43218000.0,43219000.0,43226000.0,43230000.0,43237000.0,43244000.0,43248000.0,43255000.0,43259000.0,43266000.0,43267000.0,43275000.0,43276000.0,43280000.0,43284000.0,43286000.0,43288000.0,43289000.0,43290000.0,43291000.0,43295000.0,43300000.0,43303000.0,43305000.0,43307000.0,43310000.0,43312000.0,43315000.0,43316000.0,43323000.0,43329000.0,43332000.0,43333000.0,43336000.0,43338000.0,43341000.0,43348000.0,43352000.0,43356000.0,43357000.0,43358000.0,43359000.0,43360000.0,43363000.0,43366000.0,43368000.0,43370000.0,43372000.0,43373000.0,43377000.0,43382000.0,43383000.0,43386000.0,43387000.0,43392000.0,43394000.0,43395000.0,43396000.0,43397000.0,43402000.0,43405000.0,43406000.0,43407000.0,43408000.0,43409000.0,43412000.0,43420000.0,43421000.0,43428000.0,43430000.0,43431000.0,43433000.0,43434000.0,43436000.0,43440000.0,43441000.0,43442000.0,43443000.0,43444000.0,43445000.0,43452000.0,43459000.0,43466000.0,43473000.0,43475000.0,43482000.0,43484000.0,43485000.0,43486000.0,43487000.0,43488000.0,43491000.0,43498000.0,43499000.0,43506000.0,43513000.0,43514000.0,43520000.0,43521000.0,43522000.0,43523000.0,43524000.0,43525000.0,43532000.0,43533000.0,43540000.0,43547000.0,43552000.0,43553000.0,43554000.0,43555000.0,43556000.0,43560000.0,43565000.0,43569000.0,43573000.0,43578000.0,43579000.0,43580000.0,43581000.0,43582000.0,43583000.0,43589000.0,43590000.0,43591000.0,43592000.0,43593000.0,43594000.0,43595000.0,43602000.0,43605000.0,43612000.0,43615000.0,43618000.0,43623000.0,43624000.0,43631000.0,43633000.0,43640000.0,43646000.0,43659000.0,43660000.0,43661000.0,43662000.0,43663000.0,43664000.0,43671000.0,43672000.0,43677000.0,43681000.0,43682000.0,43683000.0,43684000.0,43685000.0,43689000.0,43690000.0,43691000.0,43692000.0,43693000.0,43694000.0,43701000.0,43707000.0,43714000.0,43717000.0,43724000.0,43731000.0,43735000.0,43739000.0,43740000.0,43741000.0,43742000.0,43743000.0,43749000.0,43752000.0,43753000.0,43754000.0,43755000.0,43756000.0,43764000.0,43766000.0,43773000.0,43778000.0,43782000.0,43786000.0,43793000.0,43794000.0,43801000.0,43808000.0,43815000.0,43821000.0,43823000.0,43830000.0,43838000.0,43840000.0,43846000.0,43853000.0,43857000.0,43864000.0,43871000.0,43876000.0,43883000.0,43890000.0,43894000.0,43902000.0,43906000.0,43907000.0,43908000.0,43909000.0,43910000.0,43912000.0,43914000.0,44113000.0,44114000.0,44117000.0,44119000.0,44122000.0,44124000.0,44125000.0,44126000.0,44131000.0,44135000.0,44140000.0,44142000.0,44146000.0,44151000.0,44159000.0,44162000.0,44170000.0,44172000.0,44174000.0,44176000.0,44178000.0,44180000.0,44181000.0,44182000.0,44183000.0,44184000.0,44186000.0,44192000.0,44200000.0,44207000.0,44214000.0,44221000.0,44224000.0,44227000.0,44234000.0,44236000.0,44244000.0,44247000.0,44254000.0,44259000.0,44265000.0,44268000.0,44275000.0,44276000.0,44277000.0,44278000.0,44279000.0,44283000.0,44288000.0,44295000.0,44296000.0,44303000.0,44310000.0,44312000.0,44319000.0,44327000.0,44328000.0,44335000.0,44337000.0,44344000.0,44351000.0,44352000.0,44360000.0,44366000.0,44373000.0,44378000.0,44385000.0,44386000.0,44390000.0,44395000.0,44401000.0,44403000.0,44409000.0,44416000.0,44418000.0,44425000.0,44430000.0,44437000.0,44438000.0,44445000.0,44446000.0,44450000.0,44451000.0,44457000.0,44462000.0,44469000.0,44475000.0,44476000.0,44477000.0,44478000.0,44479000.0,44481000.0,44483000.0,44485000.0,44486000.0,44487000.0,44488000.0,44489000.0,44491000.0,44492000.0,44493000.0,44494000.0,44495000.0,44497000.0,44500000.0,44502000.0,44503000.0,44504000.0,44505000.0,44509000.0,44513000.0,44519000.0,44522000.0,44527000.0,44531000.0,44532000.0,44533000.0,44534000.0,44535000.0,44536000.0,44537000.0,44541000.0,44548000.0,44555000.0,44562000.0,44563000.0,44566000.0,44571000.0,44575000.0,44582000.0,44583000.0,44589000.0,44595000.0,44602000.0,44609000.0,44616000.0,44622000.0,44629000.0,44635000.0,44642000.0,44643000.0,44644000.0,44645000.0,44646000.0,44647000.0,44652000.0,44655000.0,44656000.0,44663000.0,44670000.0,44677000.0,44679000.0,44680000.0,44681000.0,44683000.0,44684000.0,44688000.0,44695000.0,44699000.0,44704000.0,44710000.0,44717000.0,44718000.0,44719000.0,44720000.0,44721000.0,44722000.0,44727000.0,44731000.0,44733000.0,44737000.0,44744000.0,44745000.0,44748000.0,44749000.0,44751000.0,44753000.0,44755000.0,44757000.0,44758000.0,44759000.0,44761000.0,44765000.0,44771000.0,44772000.0,44775000.0,44777000.0,44781000.0,44783000.0,44789000.0,44790000.0,44791000.0,44792000.0,44793000.0,44794000.0,44798000.0,44804000.0,44805000.0,44811000.0,44813000.0,44819000.0,44823000.0,44829000.0,44832000.0,44838000.0,44843000.0,44849000.0,44855000.0,44861000.0,44865000.0,44871000.0,44872000.0,44873000.0,44874000.0,44875000.0,44878000.0,44884000.0,44891000.0,44893000.0,44894000.0,44895000.0,44896000.0,44898000.0,44904000.0,44910000.0,44912000.0,44918000.0,44921000.0,44922000.0,44923000.0,44924000.0,44925000.0,44928000.0,44932000.0,44933000.0,44936000.0,44937000.0,44942000.0,44947000.0,44953000.0,44957000.0,44958000.0,44960000.0,44961000.0,44967000.0,44970000.0,44977000.0,44979000.0,44980000.0,44981000.0,44982000.0,44984000.0,44990000.0,44996000.0,44997000.0,45000000.0,45001000.0,45007000.0,45008000.0,45014000.0,45016000.0,45022000.0,45026000.0,45032000.0,45034000.0,45037000.0,45041000.0,45042000.0,45047000.0,45051000.0,45052000.0,45055000.0,45056000.0,45057000.0,45058000.0,45059000.0,45065000.0,45069000.0,45071000.0,45074000.0,45077000.0,45082000.0,45084000.0,45085000.0,45090000.0,45097000.0,45101000.0,45104000.0,45105000.0,45109000.0,45111000.0,45116000.0,45123000.0,45130000.0,45131000.0,45136000.0,45142000.0,45149000.0,45152000.0,45153000.0,45154000.0,45155000.0,45156000.0,45158000.0,45165000.0,45166000.0,45173000.0,45177000.0,45184000.0,45188000.0,45195000.0,45199000.0,45207000.0,45212000.0,45220000.0,45221000.0,45223000.0,45224000.0,45225000.0,45226000.0,45228000.0,45230000.0,45232000.0,45236000.0,45240000.0,45241000.0,45242000.0,45243000.0,45244000.0,45245000.0,45246000.0,45253000.0,45255000.0,45258000.0,45259000.0,45260000.0,45261000.0,45262000.0,45268000.0,45274000.0,45278000.0,45281000.0,45282000.0,45284000.0,45291000.0,45298000.0,45299000.0,45302000.0,45305000.0,45306000.0,45309000.0,45311000.0,45313000.0,45314000.0,45315000.0,45316000.0,45317000.0,45318000.0,45319000.0,45323000.0,45325000.0,45328000.0,45329000.0,45331000.0,45333000.0,45335000.0,45337000.0,45338000.0,45341000.0,45346000.0,45347000.0,45348000.0,45349000.0,45350000.0,45351000.0,45354000.0,45357000.0,45359000.0,45360000.0,45363000.0,45364000.0,45366000.0,45367000.0,45369000.0,45371000.0,45373000.0,45375000.0,45377000.0,45379000.0,45382000.0,45387000.0,45390000.0,45391000.0,45392000.0,45396000.0,45401000.0,45408000.0,45409000.0,45416000.0,45417000.0,45424000.0,45430000.0,45435000.0,45442000.0,45447000.0,45454000.0,45456000.0,45463000.0,45466000.0,45473000.0,45475000.0,45482000.0,45483000.0,45488000.0,45492000.0,45499000.0,45501000.0,45508000.0,45510000.0,45513000.0,45514000.0,45517000.0,45519000.0,45521000.0,45522000.0,45523000.0,45524000.0,45525000.0,45526000.0,45528000.0,45535000.0,45543000.0,45546000.0,45548000.0,45552000.0,45554000.0,45559000.0,45561000.0,45564000.0,45565000.0,45572000.0,45579000.0,45586000.0,45589000.0,45591000.0,45593000.0,45600000.0,45603000.0,45607000.0,45611000.0,45617000.0,45618000.0,45619000.0,45620000.0,45621000.0,45625000.0,45632000.0,45634000.0,45641000.0,45643000.0,45649000.0,45650000.0,45655000.0,45661000.0,45666000.0,45669000.0,45671000.0,45674000.0,45676000.0,45681000.0,45684000.0,45685000.0,45686000.0,45687000.0,45688000.0,45689000.0,45692000.0,45695000.0,45699000.0,45705000.0,45711000.0,45713000.0,45721000.0,45724000.0,45726000.0,45731000.0,45733000.0,45741000.0,45747000.0,45748000.0,45753000.0,45759000.0,45760000.0,45768000.0,45771000.0,45772000.0,45773000.0,45774000.0,45775000.0,45778000.0,45784000.0,45788000.0,45796000.0,45800000.0,45808000.0,45815000.0,45823000.0,45827000.0,45835000.0,45837000.0,45845000.0,45853000.0,45855000.0,45863000.0,45866000.0,45873000.0,45877000.0,45881000.0,45889000.0,45897000.0,45898000.0,45902000.0,45910000.0,45912000.0,45920000.0,45926000.0,45933000.0,45935000.0,45943000.0,45944000.0,45950000.0,45956000.0,45964000.0,45972000.0,45980000.0,45986000.0,45989000.0,45995000.0,45997000.0,45998000.0,45999000.0,46000000.0,46001000.0,46002000.0,46004000.0,46006000.0,46007000.0,46008000.0,46009000.0,46010000.0,46013000.0,46015000.0,46017000.0,46023000.0,46024000.0,46025000.0,46026000.0,46027000.0,46028000.0,46034000.0,46041000.0,46045000.0,46053000.0,46058000.0,46065000.0,46073000.0,46076000.0,46082000.0,46085000.0,46091000.0,46097000.0,46101000.0,46102000.0,46106000.0,46108000.0,46111000.0,46116000.0,46117000.0,46120000.0,46122000.0,46125000.0,46129000.0,46132000.0,46136000.0,46141000.0,46143000.0,46148000.0,46151000.0,46154000.0,46155000.0,46157000.0,46159000.0,46165000.0,46166000.0,46167000.0,46168000.0,46169000.0,46170000.0,46172000.0,46174000.0,46175000.0,46176000.0,46177000.0,46178000.0,46180000.0,46181000.0,46182000.0,46183000.0,46184000.0,46194000.0,46202000.0,46205000.0,46208000.0,46209000.0,46210000.0,46211000.0,46212000.0,46213000.0,46214000.0,46215000.0,46216000.0,46217000.0,46218000.0,46219000.0,46220000.0,46221000.0,46222000.0,46223000.0,46224000.0,46225000.0,46226000.0,46230000.0,46238000.0,46239000.0,46240000.0,46241000.0,46242000.0,46245000.0,46248000.0,46250000.0,46258000.0,46262000.0,46267000.0,46270000.0,46271000.0,46272000.0,46273000.0,46274000.0,46275000.0,46283000.0,46287000.0,46295000.0,46297000.0,46306000.0,46314000.0,46315000.0,46323000.0,46324000.0,46331000.0,46339000.0,46347000.0,46355000.0,46356000.0,46363000.0,46371000.0,46377000.0,46385000.0,46387000.0,46395000.0,46400000.0,46408000.0,46416000.0,46417000.0,46425000.0,46427000.0,46435000.0,46443000.0,46449000.0,46457000.0,46463000.0,46465000.0,46474000.0,46482000.0,46484000.0,46486000.0,46487000.0,46488000.0,46489000.0,46490000.0,46497000.0,46498000.0,46499000.0,46500000.0,46501000.0,46503000.0,46505000.0,46509000.0,46517000.0,46522000.0,46529000.0,46533000.0,46541000.0,46544000.0,46552000.0,46553000.0,46561000.0,46562000.0,46570000.0,46571000.0,46579000.0,46580000.0,46588000.0,46589000.0,46595000.0,46597000.0,46600000.0,46604000.0,46606000.0,46607000.0,46608000.0,46609000.0,46610000.0,46611000.0,46613000.0,46615000.0,46617000.0,46619000.0,46621000.0,46629000.0,46637000.0,46640000.0,46645000.0,46652000.0,46660000.0,46663000.0,46671000.0,46673000.0,46680000.0,46687000.0,46691000.0,46697000.0,46698000.0,46706000.0,46707000.0,46713000.0,46715000.0,46723000.0,46731000.0,46735000.0,46739000.0,46744000.0,46748000.0,46755000.0,46761000.0,46768000.0,46773000.0,46775000.0,46781000.0,46789000.0,46795000.0,46798000.0,46802000.0,46810000.0,46812000.0,46813000.0,46814000.0,46815000.0,46816000.0,46820000.0,46827000.0,46829000.0,46837000.0,46839000.0,46846000.0,46854000.0,46861000.0,46862000.0,46863000.0,46864000.0,46865000.0,46866000.0,46872000.0,46875000.0,46877000.0,46878000.0,46884000.0,46888000.0,46890000.0,46891000.0,46892000.0,46896000.0,46897000.0,46900000.0,46904000.0,46909000.0,46915000.0,46916000.0,46922000.0,46924000.0,46930000.0,46931000.0,46937000.0,46939000.0,46946000.0,46950000.0,46951000.0,46952000.0,46953000.0,46954000.0,46956000.0,46959000.0,46964000.0,46971000.0,46978000.0,46979000.0,46982000.0,46984000.0,46986000.0,46987000.0,46988000.0,46989000.0,46990000.0,46993000.0,46994000.0,46998000.0,47001000.0,47002000.0,47009000.0,47011000.0,47018000.0,47019000.0,47026000.0,47032000.0,47033000.0,47036000.0,47037000.0,47043000.0,47050000.0,47051000.0,47054000.0,47057000.0,47058000.0,47064000.0,47066000.0,47068000.0,47070000.0,47072000.0,47076000.0,47077000.0,47080000.0,47081000.0,47084000.0,47085000.0,47090000.0,47097000.0,47098000.0,47100000.0,47103000.0,47106000.0,47107000.0,47113000.0,47115000.0,47116000.0,47119000.0,47121000.0,47123000.0,47126000.0,47135000.0,47138000.0,47140000.0,47146000.0,47153000.0,47155000.0,47158000.0,47161000.0,47171000.0,47173000.0,47182000.0,47185000.0,47191000.0,47198000.0,47205000.0,47207000.0,47210000.0,47211000.0,47212000.0,47214000.0,47215000.0,47219000.0,47224000.0,47226000.0,47232000.0,47238000.0,47240000.0,47246000.0,47249000.0,47251000.0,47253000.0,47256000.0,47257000.0,47260000.0,47264000.0,47273000.0,47274000.0,47282000.0,47286000.0,47289000.0,47293000.0,47294000.0,47295000.0,47300000.0,47302000.0,47304000.0,47307000.0,47316000.0,47322000.0,47324000.0,47327000.0,47330000.0,47334000.0,47335000.0,47340000.0,47344000.0,47347000.0,47356000.0,47357000.0,47359000.0,47364000.0,47365000.0,47367000.0,47370000.0,47373000.0,47374000.0,47375000.0,47376000.0,47377000.0,47381000.0,47383000.0,47384000.0,47385000.0,47386000.0,47387000.0,47388000.0,47389000.0,47391000.0,47392000.0,47395000.0,47396000.0,47398000.0,47401000.0,47402000.0,47404000.0,47406000.0,47408000.0,47409000.0,47410000.0,47411000.0,47412000.0,47415000.0,47418000.0,47419000.0,47420000.0,47424000.0,47426000.0,47430000.0,47432000.0,47439000.0,47440000.0,47446000.0,47450000.0,47453000.0,47455000.0,47458000.0,47460000.0,47462000.0,47466000.0,47472000.0,47479000.0,47483000.0,47485000.0,47488000.0,47489000.0,47497000.0,47502000.0,47510000.0,47514000.0,47522000.0,47524000.0,47528000.0,47530000.0,47536000.0,47544000.0,47545000.0,47549000.0,47550000.0,47553000.0,47555000.0,47557000.0,47558000.0,47560000.0,47562000.0,47565000.0,47568000.0,47572000.0,47578000.0,47586000.0,47587000.0,47594000.0,47600000.0,47607000.0,47615000.0,47623000.0,47624000.0,47631000.0,47638000.0,47645000.0,47652000.0,47655000.0,47657000.0,47660000.0,47664000.0,47666000.0,47668000.0,47670000.0,47672000.0,47674000.0,47675000.0,47677000.0,47679000.0,47682000.0,47683000.0,47690000.0,47698000.0,47705000.0,47706000.0,47711000.0,47713000.0,47719000.0,47724000.0,47729000.0,47730000.0,47782000.0,47783000.0]},\"selected\":{\"id\":\"25938\",\"type\":\"Selection\"},\"selection_policy\":{\"id\":\"25937\",\"type\":\"UnionRenderers\"}},\"id\":\"25112\",\"type\":\"ColumnDataSource\"}],\"root_ids\":[\"26089\"]},\"title\":\"Bokeh Application\",\"version\":\"1.4.0\"}};\n",
       "  var render_items = [{\"docid\":\"7b63a06e-4a50-4c7b-9104-892bc91c5ee0\",\"roots\":{\"26089\":\"115f939a-ced8-4972-8458-8d29d40e0f2d\"}}];\n",
       "  root.Bokeh.embed.embed_items_notebook(docs_json, render_items);\n",
       "\n",
       "  }\n",
       "  if (root.Bokeh !== undefined) {\n",
       "    embed_document(root);\n",
       "  } else {\n",
       "    var attempts = 0;\n",
       "    var timer = setInterval(function(root) {\n",
       "      if (root.Bokeh !== undefined) {\n",
       "        clearInterval(timer);\n",
       "        embed_document(root);\n",
       "      } else {\n",
       "        attempts++;\n",
       "        if (attempts > 100) {\n",
       "          clearInterval(timer);\n",
       "          console.log(\"Bokeh: ERROR: Unable to run BokehJS code because BokehJS library is missing\");\n",
       "        }\n",
       "      }\n",
       "    }, 10, root)\n",
       "  }\n",
       "})(window);"
      ],
      "application/vnd.bokehjs_exec.v0+json": ""
     },
     "metadata": {
      "application/vnd.bokehjs_exec.v0+json": {
       "id": "26089"
      }
     },
     "output_type": "display_data"
    }
   ],
   "source": [
    "\n",
    "p = figure(x_axis_type='datetime', plot_height=400)\n",
    "\n",
    "p.line(x='time', y='altitude', line_width=2, source=source2, color='olive', legend_label='Athlete1')\n",
    "\n",
    "\n",
    "p.xaxis.axis_label = 'Athlete 1, journey number 10 time span'\n",
    "p.yaxis.axis_label = 'altitude'\n",
    "\n",
    "show(p)"
   ]
  }
 ],
 "metadata": {
  "kernelspec": {
   "display_name": "Python 3",
   "language": "python",
   "name": "python3"
  },
  "language_info": {
   "codemirror_mode": {
    "name": "ipython",
    "version": 3
   },
   "file_extension": ".py",
   "mimetype": "text/x-python",
   "name": "python",
   "nbconvert_exporter": "python",
   "pygments_lexer": "ipython3",
   "version": "3.7.6"
  },
  "varInspector": {
   "cols": {
    "lenName": 16,
    "lenType": 16,
    "lenVar": 40
   },
   "kernels_config": {
    "python": {
     "delete_cmd_postfix": "",
     "delete_cmd_prefix": "del ",
     "library": "var_list.py",
     "varRefreshCmd": "print(var_dic_list())"
    },
    "r": {
     "delete_cmd_postfix": ") ",
     "delete_cmd_prefix": "rm(",
     "library": "var_list.r",
     "varRefreshCmd": "cat(var_dic_list()) "
    }
   },
   "types_to_exclude": [
    "module",
    "function",
    "builtin_function_or_method",
    "instance",
    "_Feature"
   ],
   "window_display": false
  }
 },
 "nbformat": 4,
 "nbformat_minor": 4
}
