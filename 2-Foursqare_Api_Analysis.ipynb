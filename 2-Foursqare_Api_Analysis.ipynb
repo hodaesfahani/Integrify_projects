{
 "cells": [
  {
   "cell_type": "markdown",
   "metadata": {
    "ExecuteTime": {
     "end_time": "2020-07-03T16:59:39.555346Z",
     "start_time": "2020-07-03T16:59:39.527881Z"
    }
   },
   "source": [
    "<h1 align= 'center' style=\"font-family:Lucida Bright\"><font size = 6>Foursqare Api </font></h1>"
   ]
  },
  {
   "cell_type": "markdown",
   "metadata": {},
   "source": [
    "### *Group members*:\n",
    ">##### Hoda Esfahani\n",
    ">\n",
    ">##### Md. Nazmul Haque Khan\n"
   ]
  },
  {
   "cell_type": "code",
   "execution_count": 1,
   "metadata": {
    "ExecuteTime": {
     "end_time": "2020-07-08T06:02:39.807598Z",
     "start_time": "2020-07-08T06:02:36.646563Z"
    }
   },
   "outputs": [],
   "source": [
    "# load necessary\n",
    "import requests  # library to handle requests\n",
    "import pandas as pd  # library for data analsysis\n",
    "import numpy as np  # library to handle data in a vectorized manner\n",
    "from pandas import json_normalize  # tranforming json file into a pandas dataframe library\n",
    "import pickle  # handle pickle format data\n",
    "import folium\n",
    "\n",
    "# Run me if you'd like to install dataprep\n",
    "#!pip install dataprep"
   ]
  },
  {
   "cell_type": "code",
   "execution_count": 2,
   "metadata": {
    "ExecuteTime": {
     "end_time": "2020-07-08T06:02:44.799896Z",
     "start_time": "2020-07-08T06:02:39.814579Z"
    }
   },
   "outputs": [
    {
     "data": {
      "text/html": [
       "        <script type=\"text/javascript\">\n",
       "        window.PlotlyConfig = {MathJaxConfig: 'local'};\n",
       "        if (window.MathJax) {MathJax.Hub.Config({SVG: {font: \"STIX-Web\"}});}\n",
       "        if (typeof require !== 'undefined') {\n",
       "        require.undef(\"plotly\");\n",
       "        requirejs.config({\n",
       "            paths: {\n",
       "                'plotly': ['https://cdn.plot.ly/plotly-latest.min']\n",
       "            }\n",
       "        });\n",
       "        require(['plotly'], function(Plotly) {\n",
       "            window._Plotly = Plotly;\n",
       "        });\n",
       "        }\n",
       "        </script>\n",
       "        "
      ]
     },
     "metadata": {},
     "output_type": "display_data"
    }
   ],
   "source": [
    "# load plotly\n",
    "import plotly.offline as py\n",
    "import plotly.express as px\n",
    "import plotly.figure_factory as ff\n",
    "py.init_notebook_mode(connected=True)\n",
    "import plotly.graph_objs as go\n",
    "from plotly import tools\n",
    "pd.options.plotting.backend = \"plotly\"\n"
   ]
  },
  {
   "cell_type": "code",
   "execution_count": 3,
   "metadata": {
    "ExecuteTime": {
     "end_time": "2020-07-08T06:02:44.828816Z",
     "start_time": "2020-07-08T06:02:44.814852Z"
    }
   },
   "outputs": [],
   "source": [
    "# Suppress warnings\n",
    "import warnings\n",
    "warnings.filterwarnings('ignore')\n",
    "warnings.simplefilter('ignore')"
   ]
  },
  {
   "cell_type": "code",
   "execution_count": 4,
   "metadata": {
    "ExecuteTime": {
     "end_time": "2020-07-08T06:02:44.855745Z",
     "start_time": "2020-07-08T06:02:44.841782Z"
    }
   },
   "outputs": [],
   "source": [
    "# display multiple outputs\n",
    "from IPython.core.interactiveshell import InteractiveShell\n",
    "InteractiveShell.ast_node_interactivity = \"all\""
   ]
  },
  {
   "cell_type": "code",
   "execution_count": 5,
   "metadata": {
    "ExecuteTime": {
     "end_time": "2020-07-08T06:02:44.895635Z",
     "start_time": "2020-07-08T06:02:44.868710Z"
    }
   },
   "outputs": [],
   "source": [
    "from IPython.display import Markdown, display\n",
    "\n",
    "\n",
    "# display or print markdown as output\n",
    "def printMd(string, color=None):\n",
    "    colorstr = \"<span style='color:{}'>{}</span>\".format(color, string)\n",
    "    display(Markdown(colorstr))\n",
    "\n",
    "\n",
    "def printFullDf(df):\n",
    "    # set options temporarily to display one large DataFrame\n",
    "    with pd.option_context('display.max_rows', None, 'display.max_columns',\n",
    "                           None):\n",
    "        display(df)"
   ]
  },
  {
   "cell_type": "code",
   "execution_count": null,
   "metadata": {},
   "outputs": [],
   "source": []
  },
  {
   "cell_type": "markdown",
   "metadata": {},
   "source": [
    "## Load Data"
   ]
  },
  {
   "cell_type": "code",
   "execution_count": 6,
   "metadata": {
    "ExecuteTime": {
     "end_time": "2020-07-08T06:02:45.552462Z",
     "start_time": "2020-07-08T06:02:44.906606Z"
    }
   },
   "outputs": [
    {
     "data": {
      "text/html": [
       "<div>\n",
       "<style scoped>\n",
       "    .dataframe tbody tr th:only-of-type {\n",
       "        vertical-align: middle;\n",
       "    }\n",
       "\n",
       "    .dataframe tbody tr th {\n",
       "        vertical-align: top;\n",
       "    }\n",
       "\n",
       "    .dataframe thead th {\n",
       "        text-align: right;\n",
       "    }\n",
       "</style>\n",
       "<table border=\"1\" class=\"dataframe\">\n",
       "  <thead>\n",
       "    <tr style=\"text-align: right;\">\n",
       "      <th></th>\n",
       "      <th>id</th>\n",
       "      <th>name</th>\n",
       "      <th>canonicalUrl</th>\n",
       "      <th>categories</th>\n",
       "      <th>verified</th>\n",
       "      <th>url</th>\n",
       "      <th>like</th>\n",
       "      <th>dislike</th>\n",
       "      <th>ok</th>\n",
       "      <th>rating</th>\n",
       "      <th>...</th>\n",
       "      <th>page.user.contact.twitter</th>\n",
       "      <th>page.pageInfo.description</th>\n",
       "      <th>hasMenu</th>\n",
       "      <th>hours.seasonalRange.startMonth</th>\n",
       "      <th>hours.seasonalRange.startDay</th>\n",
       "      <th>hours.seasonalRange.endMonth</th>\n",
       "      <th>hours.seasonalRange.endDay</th>\n",
       "      <th>hours.seasonalRange.closed</th>\n",
       "      <th>hours.seasonalRange.displayDateRange</th>\n",
       "      <th>parent.venuePage.id</th>\n",
       "    </tr>\n",
       "  </thead>\n",
       "  <tbody>\n",
       "    <tr>\n",
       "      <th>0</th>\n",
       "      <td>4bcc34bc937ca5937cafaa92</td>\n",
       "      <td>Lenininpuisto</td>\n",
       "      <td>https://foursquare.com/v/lenininpuisto/4bcc34b...</td>\n",
       "      <td>[{'id': '4bf58dd8d48988d163941735', 'name': 'P...</td>\n",
       "      <td>False</td>\n",
       "      <td>https://fi.wikipedia.org/wiki/Lenininpuisto</td>\n",
       "      <td>False</td>\n",
       "      <td>False</td>\n",
       "      <td>False</td>\n",
       "      <td>9.0</td>\n",
       "      <td>...</td>\n",
       "      <td>NaN</td>\n",
       "      <td>NaN</td>\n",
       "      <td>NaN</td>\n",
       "      <td>NaN</td>\n",
       "      <td>NaN</td>\n",
       "      <td>NaN</td>\n",
       "      <td>NaN</td>\n",
       "      <td>NaN</td>\n",
       "      <td>NaN</td>\n",
       "      <td>NaN</td>\n",
       "    </tr>\n",
       "    <tr>\n",
       "      <th>1</th>\n",
       "      <td>5cf5c8c96fd626002c4fbf65</td>\n",
       "      <td>Konepaja Biergarten</td>\n",
       "      <td>https://foursquare.com/v/konepaja-biergarten/5...</td>\n",
       "      <td>[{'id': '4bf58dd8d48988d117941735', 'name': 'B...</td>\n",
       "      <td>False</td>\n",
       "      <td>NaN</td>\n",
       "      <td>False</td>\n",
       "      <td>False</td>\n",
       "      <td>False</td>\n",
       "      <td>8.1</td>\n",
       "      <td>...</td>\n",
       "      <td>NaN</td>\n",
       "      <td>NaN</td>\n",
       "      <td>NaN</td>\n",
       "      <td>NaN</td>\n",
       "      <td>NaN</td>\n",
       "      <td>NaN</td>\n",
       "      <td>NaN</td>\n",
       "      <td>NaN</td>\n",
       "      <td>NaN</td>\n",
       "      <td>NaN</td>\n",
       "    </tr>\n",
       "    <tr>\n",
       "      <th>2</th>\n",
       "      <td>4b1809a0f964a520dccb23e3</td>\n",
       "      <td>Maltainen Riekko</td>\n",
       "      <td>https://foursquare.com/v/maltainen-riekko/4b18...</td>\n",
       "      <td>[{'id': '4bf58dd8d48988d11b941735', 'name': 'P...</td>\n",
       "      <td>True</td>\n",
       "      <td>NaN</td>\n",
       "      <td>False</td>\n",
       "      <td>False</td>\n",
       "      <td>False</td>\n",
       "      <td>8.0</td>\n",
       "      <td>...</td>\n",
       "      <td>NaN</td>\n",
       "      <td>NaN</td>\n",
       "      <td>NaN</td>\n",
       "      <td>NaN</td>\n",
       "      <td>NaN</td>\n",
       "      <td>NaN</td>\n",
       "      <td>NaN</td>\n",
       "      <td>NaN</td>\n",
       "      <td>NaN</td>\n",
       "      <td>NaN</td>\n",
       "    </tr>\n",
       "    <tr>\n",
       "      <th>3</th>\n",
       "      <td>55f32b4d498ed2c829de7b7d</td>\n",
       "      <td>Alppilan Huone</td>\n",
       "      <td>https://foursquare.com/v/alppilan-huone/55f32b...</td>\n",
       "      <td>[{'id': '4bf58dd8d48988d116941735', 'name': 'B...</td>\n",
       "      <td>False</td>\n",
       "      <td>http://www.alppilanhuone.fi</td>\n",
       "      <td>False</td>\n",
       "      <td>False</td>\n",
       "      <td>False</td>\n",
       "      <td>8.0</td>\n",
       "      <td>...</td>\n",
       "      <td>NaN</td>\n",
       "      <td>NaN</td>\n",
       "      <td>NaN</td>\n",
       "      <td>NaN</td>\n",
       "      <td>NaN</td>\n",
       "      <td>NaN</td>\n",
       "      <td>NaN</td>\n",
       "      <td>NaN</td>\n",
       "      <td>NaN</td>\n",
       "      <td>NaN</td>\n",
       "    </tr>\n",
       "    <tr>\n",
       "      <th>4</th>\n",
       "      <td>5a240d39da5ede3855f51f73</td>\n",
       "      <td>Going Greek</td>\n",
       "      <td>https://foursquare.com/v/going-greek/5a240d39d...</td>\n",
       "      <td>[{'id': '4bf58dd8d48988d10e941735', 'name': 'G...</td>\n",
       "      <td>False</td>\n",
       "      <td>https://www.goinggreek.fi</td>\n",
       "      <td>False</td>\n",
       "      <td>False</td>\n",
       "      <td>False</td>\n",
       "      <td>8.6</td>\n",
       "      <td>...</td>\n",
       "      <td>NaN</td>\n",
       "      <td>NaN</td>\n",
       "      <td>NaN</td>\n",
       "      <td>NaN</td>\n",
       "      <td>NaN</td>\n",
       "      <td>NaN</td>\n",
       "      <td>NaN</td>\n",
       "      <td>NaN</td>\n",
       "      <td>NaN</td>\n",
       "      <td>NaN</td>\n",
       "    </tr>\n",
       "  </tbody>\n",
       "</table>\n",
       "<p>5 rows × 150 columns</p>\n",
       "</div>"
      ],
      "text/plain": [
       "                         id                 name  \\\n",
       "0  4bcc34bc937ca5937cafaa92        Lenininpuisto   \n",
       "1  5cf5c8c96fd626002c4fbf65  Konepaja Biergarten   \n",
       "2  4b1809a0f964a520dccb23e3     Maltainen Riekko   \n",
       "3  55f32b4d498ed2c829de7b7d       Alppilan Huone   \n",
       "4  5a240d39da5ede3855f51f73          Going Greek   \n",
       "\n",
       "                                        canonicalUrl  \\\n",
       "0  https://foursquare.com/v/lenininpuisto/4bcc34b...   \n",
       "1  https://foursquare.com/v/konepaja-biergarten/5...   \n",
       "2  https://foursquare.com/v/maltainen-riekko/4b18...   \n",
       "3  https://foursquare.com/v/alppilan-huone/55f32b...   \n",
       "4  https://foursquare.com/v/going-greek/5a240d39d...   \n",
       "\n",
       "                                          categories  verified  \\\n",
       "0  [{'id': '4bf58dd8d48988d163941735', 'name': 'P...     False   \n",
       "1  [{'id': '4bf58dd8d48988d117941735', 'name': 'B...     False   \n",
       "2  [{'id': '4bf58dd8d48988d11b941735', 'name': 'P...      True   \n",
       "3  [{'id': '4bf58dd8d48988d116941735', 'name': 'B...     False   \n",
       "4  [{'id': '4bf58dd8d48988d10e941735', 'name': 'G...     False   \n",
       "\n",
       "                                           url   like  dislike     ok  rating  \\\n",
       "0  https://fi.wikipedia.org/wiki/Lenininpuisto  False    False  False     9.0   \n",
       "1                                          NaN  False    False  False     8.1   \n",
       "2                                          NaN  False    False  False     8.0   \n",
       "3                  http://www.alppilanhuone.fi  False    False  False     8.0   \n",
       "4                    https://www.goinggreek.fi  False    False  False     8.6   \n",
       "\n",
       "   ... page.user.contact.twitter  page.pageInfo.description hasMenu  \\\n",
       "0  ...                       NaN                        NaN     NaN   \n",
       "1  ...                       NaN                        NaN     NaN   \n",
       "2  ...                       NaN                        NaN     NaN   \n",
       "3  ...                       NaN                        NaN     NaN   \n",
       "4  ...                       NaN                        NaN     NaN   \n",
       "\n",
       "   hours.seasonalRange.startMonth hours.seasonalRange.startDay  \\\n",
       "0                             NaN                          NaN   \n",
       "1                             NaN                          NaN   \n",
       "2                             NaN                          NaN   \n",
       "3                             NaN                          NaN   \n",
       "4                             NaN                          NaN   \n",
       "\n",
       "  hours.seasonalRange.endMonth hours.seasonalRange.endDay  \\\n",
       "0                          NaN                        NaN   \n",
       "1                          NaN                        NaN   \n",
       "2                          NaN                        NaN   \n",
       "3                          NaN                        NaN   \n",
       "4                          NaN                        NaN   \n",
       "\n",
       "  hours.seasonalRange.closed hours.seasonalRange.displayDateRange  \\\n",
       "0                        NaN                                  NaN   \n",
       "1                        NaN                                  NaN   \n",
       "2                        NaN                                  NaN   \n",
       "3                        NaN                                  NaN   \n",
       "4                        NaN                                  NaN   \n",
       "\n",
       "  parent.venuePage.id  \n",
       "0                 NaN  \n",
       "1                 NaN  \n",
       "2                 NaN  \n",
       "3                 NaN  \n",
       "4                 NaN  \n",
       "\n",
       "[5 rows x 150 columns]"
      ]
     },
     "execution_count": 6,
     "metadata": {},
     "output_type": "execute_result"
    }
   ],
   "source": [
    "with open(\"dataframe_raw\", \"rb\") as file:\n",
    "    fs_df = pickle.load(file)\n",
    "\n",
    "fs_df.head()"
   ]
  },
  {
   "cell_type": "code",
   "execution_count": 7,
   "metadata": {
    "ExecuteTime": {
     "end_time": "2020-07-08T06:02:45.629259Z",
     "start_time": "2020-07-08T06:02:45.559448Z"
    }
   },
   "outputs": [],
   "source": [
    "test = fs_df.loc[:, [\n",
    "    'name', 'categories', 'location.city', 'location.country', 'location.lat',\n",
    "    'location.lng', 'likes.count', 'rating', 'ratingSignals', 'ratingColor',\n",
    "    'contact.phone', 'contact.formattedPhone', 'contact.twitter',\n",
    "    'contact.facebook', 'contact.facebookUsername', 'contact.instagram',\n",
    "    'contact.facebookName', 'stats.tipCount', 'photos.count', 'listed.count',\n",
    "    'url'\n",
    "]]\n",
    "contact = test.loc[:, [\n",
    "    'contact.phone', 'contact.formattedPhone', 'contact.twitter',\n",
    "    'contact.facebook', 'contact.facebookUsername', 'contact.instagram',\n",
    "    'contact.facebookName'\n",
    "]]\n",
    "test['has_contact'] = ~(contact.isna().all(axis=1))\n",
    "test.drop([\n",
    "    'contact.phone', 'contact.formattedPhone', 'contact.twitter',\n",
    "    'contact.facebook', 'contact.facebookUsername', 'contact.instagram',\n",
    "    'contact.facebookName'\n",
    "],\n",
    "          axis=1,\n",
    "          inplace=True)\n",
    "test['url'] = test['url'].isna()\n",
    "test['categories'] = test['categories'].astype(str).str.extract(\n",
    "    '(?<=\\'name\\': \\')(.*?)(?=\\', \\'p)', expand=True)"
   ]
  },
  {
   "cell_type": "code",
   "execution_count": 8,
   "metadata": {
    "ExecuteTime": {
     "end_time": "2020-07-08T06:02:45.716542Z",
     "start_time": "2020-07-08T06:02:45.641229Z"
    }
   },
   "outputs": [
    {
     "data": {
      "text/html": [
       "<div>\n",
       "<style scoped>\n",
       "    .dataframe tbody tr th:only-of-type {\n",
       "        vertical-align: middle;\n",
       "    }\n",
       "\n",
       "    .dataframe tbody tr th {\n",
       "        vertical-align: top;\n",
       "    }\n",
       "\n",
       "    .dataframe thead th {\n",
       "        text-align: right;\n",
       "    }\n",
       "</style>\n",
       "<table border=\"1\" class=\"dataframe\">\n",
       "  <thead>\n",
       "    <tr style=\"text-align: right;\">\n",
       "      <th></th>\n",
       "      <th>name</th>\n",
       "      <th>category</th>\n",
       "      <th>city</th>\n",
       "      <th>country</th>\n",
       "      <th>lat</th>\n",
       "      <th>lon</th>\n",
       "      <th>likes</th>\n",
       "      <th>rating</th>\n",
       "      <th>rating_count</th>\n",
       "      <th>rating_color</th>\n",
       "      <th>tip_count</th>\n",
       "      <th>photos_count</th>\n",
       "      <th>listed_count</th>\n",
       "      <th>has_website</th>\n",
       "      <th>has_contact</th>\n",
       "    </tr>\n",
       "  </thead>\n",
       "  <tbody>\n",
       "    <tr>\n",
       "      <th>473</th>\n",
       "      <td>Restaurant Schützengasse</td>\n",
       "      <td>Swiss Restaurant</td>\n",
       "      <td>Zürich</td>\n",
       "      <td>Schweiz</td>\n",
       "      <td>47.377154</td>\n",
       "      <td>8.537430</td>\n",
       "      <td>36</td>\n",
       "      <td>8.5</td>\n",
       "      <td>51</td>\n",
       "      <td>73CF42</td>\n",
       "      <td>12</td>\n",
       "      <td>27</td>\n",
       "      <td>15</td>\n",
       "      <td>True</td>\n",
       "      <td>True</td>\n",
       "    </tr>\n",
       "    <tr>\n",
       "      <th>474</th>\n",
       "      <td>Zurich Main Station (Zürich Hauptbahnhof)</td>\n",
       "      <td>Train Station</td>\n",
       "      <td>Zürich</td>\n",
       "      <td>Schweiz</td>\n",
       "      <td>47.378705</td>\n",
       "      <td>8.538724</td>\n",
       "      <td>1267</td>\n",
       "      <td>8.3</td>\n",
       "      <td>1643</td>\n",
       "      <td>73CF42</td>\n",
       "      <td>235</td>\n",
       "      <td>4746</td>\n",
       "      <td>222</td>\n",
       "      <td>False</td>\n",
       "      <td>True</td>\n",
       "    </tr>\n",
       "    <tr>\n",
       "      <th>475</th>\n",
       "      <td>H&amp;M</td>\n",
       "      <td>Clothing Store</td>\n",
       "      <td>Zürich</td>\n",
       "      <td>Schweiz</td>\n",
       "      <td>47.375877</td>\n",
       "      <td>8.539477</td>\n",
       "      <td>28</td>\n",
       "      <td>7.9</td>\n",
       "      <td>36</td>\n",
       "      <td>C5DE35</td>\n",
       "      <td>1</td>\n",
       "      <td>26</td>\n",
       "      <td>9</td>\n",
       "      <td>False</td>\n",
       "      <td>True</td>\n",
       "    </tr>\n",
       "    <tr>\n",
       "      <th>476</th>\n",
       "      <td>Café Gourmet</td>\n",
       "      <td>Café</td>\n",
       "      <td>Zürich</td>\n",
       "      <td>Schweiz</td>\n",
       "      <td>47.377094</td>\n",
       "      <td>8.539425</td>\n",
       "      <td>8</td>\n",
       "      <td>7.9</td>\n",
       "      <td>11</td>\n",
       "      <td>C5DE35</td>\n",
       "      <td>6</td>\n",
       "      <td>14</td>\n",
       "      <td>2</td>\n",
       "      <td>False</td>\n",
       "      <td>True</td>\n",
       "    </tr>\n",
       "    <tr>\n",
       "      <th>477</th>\n",
       "      <td>Victorinox Flagship Store Zürich</td>\n",
       "      <td>Watch Shop</td>\n",
       "      <td>Zürich</td>\n",
       "      <td>Schweiz</td>\n",
       "      <td>47.374041</td>\n",
       "      <td>8.538962</td>\n",
       "      <td>39</td>\n",
       "      <td>8.7</td>\n",
       "      <td>46</td>\n",
       "      <td>73CF42</td>\n",
       "      <td>6</td>\n",
       "      <td>31</td>\n",
       "      <td>13</td>\n",
       "      <td>False</td>\n",
       "      <td>True</td>\n",
       "    </tr>\n",
       "  </tbody>\n",
       "</table>\n",
       "</div>"
      ],
      "text/plain": [
       "                                          name          category    city  \\\n",
       "473                   Restaurant Schützengasse  Swiss Restaurant  Zürich   \n",
       "474  Zurich Main Station (Zürich Hauptbahnhof)     Train Station  Zürich   \n",
       "475                                        H&M    Clothing Store  Zürich   \n",
       "476                               Café Gourmet              Café  Zürich   \n",
       "477           Victorinox Flagship Store Zürich        Watch Shop  Zürich   \n",
       "\n",
       "     country        lat       lon  likes  rating  rating_count rating_color  \\\n",
       "473  Schweiz  47.377154  8.537430     36     8.5            51       73CF42   \n",
       "474  Schweiz  47.378705  8.538724   1267     8.3          1643       73CF42   \n",
       "475  Schweiz  47.375877  8.539477     28     7.9            36       C5DE35   \n",
       "476  Schweiz  47.377094  8.539425      8     7.9            11       C5DE35   \n",
       "477  Schweiz  47.374041  8.538962     39     8.7            46       73CF42   \n",
       "\n",
       "     tip_count  photos_count  listed_count  has_website  has_contact  \n",
       "473         12            27            15         True         True  \n",
       "474        235          4746           222        False         True  \n",
       "475          1            26             9        False         True  \n",
       "476          6            14             2        False         True  \n",
       "477          6            31            13        False         True  "
      ]
     },
     "execution_count": 8,
     "metadata": {},
     "output_type": "execute_result"
    }
   ],
   "source": [
    "test.columns = [\n",
    "    'name', 'category', 'city', 'country', 'lat', 'lon', 'likes', 'rating',\n",
    "    'rating_count', 'rating_color', 'tip_count', 'photos_count',\n",
    "    'listed_count', 'has_website', 'has_contact'\n",
    "]\n",
    "fs_df = test\n",
    "fs_df.tail()"
   ]
  },
  {
   "cell_type": "code",
   "execution_count": 9,
   "metadata": {
    "ExecuteTime": {
     "end_time": "2020-07-08T06:02:45.771397Z",
     "start_time": "2020-07-08T06:02:45.725518Z"
    }
   },
   "outputs": [
    {
     "name": "stdout",
     "output_type": "stream",
     "text": [
      "<class 'pandas.core.frame.DataFrame'>\n",
      "RangeIndex: 478 entries, 0 to 477\n",
      "Data columns (total 15 columns):\n",
      " #   Column        Non-Null Count  Dtype  \n",
      "---  ------        --------------  -----  \n",
      " 0   name          478 non-null    object \n",
      " 1   category      478 non-null    object \n",
      " 2   city          459 non-null    object \n",
      " 3   country       478 non-null    object \n",
      " 4   lat           478 non-null    float64\n",
      " 5   lon           478 non-null    float64\n",
      " 6   likes         478 non-null    int64  \n",
      " 7   rating        478 non-null    float64\n",
      " 8   rating_count  478 non-null    int64  \n",
      " 9   rating_color  478 non-null    object \n",
      " 10  tip_count     478 non-null    int64  \n",
      " 11  photos_count  478 non-null    int64  \n",
      " 12  listed_count  478 non-null    int64  \n",
      " 13  has_website   478 non-null    bool   \n",
      " 14  has_contact   478 non-null    bool   \n",
      "dtypes: bool(2), float64(3), int64(5), object(5)\n",
      "memory usage: 49.6+ KB\n"
     ]
    }
   ],
   "source": [
    "fs_df.info()"
   ]
  },
  {
   "cell_type": "code",
   "execution_count": 10,
   "metadata": {
    "ExecuteTime": {
     "end_time": "2020-07-08T06:02:46.049702Z",
     "start_time": "2020-07-08T06:02:45.777383Z"
    }
   },
   "outputs": [
    {
     "data": {
      "text/html": [
       "<div>\n",
       "<style scoped>\n",
       "    .dataframe tbody tr th:only-of-type {\n",
       "        vertical-align: middle;\n",
       "    }\n",
       "\n",
       "    .dataframe tbody tr th {\n",
       "        vertical-align: top;\n",
       "    }\n",
       "\n",
       "    .dataframe thead th {\n",
       "        text-align: right;\n",
       "    }\n",
       "</style>\n",
       "<table border=\"1\" class=\"dataframe\">\n",
       "  <thead>\n",
       "    <tr style=\"text-align: right;\">\n",
       "      <th></th>\n",
       "      <th>name</th>\n",
       "      <th>category</th>\n",
       "      <th>city</th>\n",
       "      <th>country</th>\n",
       "      <th>lat</th>\n",
       "      <th>lon</th>\n",
       "      <th>likes</th>\n",
       "      <th>rating</th>\n",
       "      <th>rating_count</th>\n",
       "      <th>rating_color</th>\n",
       "      <th>tip_count</th>\n",
       "      <th>photos_count</th>\n",
       "      <th>listed_count</th>\n",
       "      <th>has_website</th>\n",
       "      <th>has_contact</th>\n",
       "    </tr>\n",
       "  </thead>\n",
       "  <tbody>\n",
       "    <tr>\n",
       "      <th>count</th>\n",
       "      <td>478</td>\n",
       "      <td>478</td>\n",
       "      <td>459</td>\n",
       "      <td>478</td>\n",
       "      <td>478.000000</td>\n",
       "      <td>478.000000</td>\n",
       "      <td>478.000000</td>\n",
       "      <td>478.000000</td>\n",
       "      <td>478.000000</td>\n",
       "      <td>478</td>\n",
       "      <td>478.000000</td>\n",
       "      <td>478.000000</td>\n",
       "      <td>478.000000</td>\n",
       "      <td>478</td>\n",
       "      <td>478</td>\n",
       "    </tr>\n",
       "    <tr>\n",
       "      <th>unique</th>\n",
       "      <td>473</td>\n",
       "      <td>156</td>\n",
       "      <td>14</td>\n",
       "      <td>10</td>\n",
       "      <td>NaN</td>\n",
       "      <td>NaN</td>\n",
       "      <td>NaN</td>\n",
       "      <td>NaN</td>\n",
       "      <td>NaN</td>\n",
       "      <td>3</td>\n",
       "      <td>NaN</td>\n",
       "      <td>NaN</td>\n",
       "      <td>NaN</td>\n",
       "      <td>2</td>\n",
       "      <td>2</td>\n",
       "    </tr>\n",
       "    <tr>\n",
       "      <th>top</th>\n",
       "      <td>Amorino</td>\n",
       "      <td>Hotel</td>\n",
       "      <td>Paris</td>\n",
       "      <td>Magyarország</td>\n",
       "      <td>NaN</td>\n",
       "      <td>NaN</td>\n",
       "      <td>NaN</td>\n",
       "      <td>NaN</td>\n",
       "      <td>NaN</td>\n",
       "      <td>73CF42</td>\n",
       "      <td>NaN</td>\n",
       "      <td>NaN</td>\n",
       "      <td>NaN</td>\n",
       "      <td>False</td>\n",
       "      <td>True</td>\n",
       "    </tr>\n",
       "    <tr>\n",
       "      <th>freq</th>\n",
       "      <td>4</td>\n",
       "      <td>36</td>\n",
       "      <td>50</td>\n",
       "      <td>50</td>\n",
       "      <td>NaN</td>\n",
       "      <td>NaN</td>\n",
       "      <td>NaN</td>\n",
       "      <td>NaN</td>\n",
       "      <td>NaN</td>\n",
       "      <td>338</td>\n",
       "      <td>NaN</td>\n",
       "      <td>NaN</td>\n",
       "      <td>NaN</td>\n",
       "      <td>315</td>\n",
       "      <td>349</td>\n",
       "    </tr>\n",
       "    <tr>\n",
       "      <th>mean</th>\n",
       "      <td>NaN</td>\n",
       "      <td>NaN</td>\n",
       "      <td>NaN</td>\n",
       "      <td>NaN</td>\n",
       "      <td>48.999710</td>\n",
       "      <td>10.606440</td>\n",
       "      <td>192.543933</td>\n",
       "      <td>8.399372</td>\n",
       "      <td>244.133891</td>\n",
       "      <td>NaN</td>\n",
       "      <td>43.018828</td>\n",
       "      <td>316.560669</td>\n",
       "      <td>226.196653</td>\n",
       "      <td>NaN</td>\n",
       "      <td>NaN</td>\n",
       "    </tr>\n",
       "    <tr>\n",
       "      <th>std</th>\n",
       "      <td>NaN</td>\n",
       "      <td>NaN</td>\n",
       "      <td>NaN</td>\n",
       "      <td>NaN</td>\n",
       "      <td>5.185954</td>\n",
       "      <td>8.044202</td>\n",
       "      <td>583.746313</td>\n",
       "      <td>0.464843</td>\n",
       "      <td>686.372431</td>\n",
       "      <td>NaN</td>\n",
       "      <td>89.704486</td>\n",
       "      <td>1292.392383</td>\n",
       "      <td>499.563662</td>\n",
       "      <td>NaN</td>\n",
       "      <td>NaN</td>\n",
       "    </tr>\n",
       "    <tr>\n",
       "      <th>min</th>\n",
       "      <td>NaN</td>\n",
       "      <td>NaN</td>\n",
       "      <td>NaN</td>\n",
       "      <td>NaN</td>\n",
       "      <td>41.387399</td>\n",
       "      <td>-0.129001</td>\n",
       "      <td>1.000000</td>\n",
       "      <td>7.100000</td>\n",
       "      <td>2.000000</td>\n",
       "      <td>NaN</td>\n",
       "      <td>0.000000</td>\n",
       "      <td>0.000000</td>\n",
       "      <td>0.000000</td>\n",
       "      <td>NaN</td>\n",
       "      <td>NaN</td>\n",
       "    </tr>\n",
       "    <tr>\n",
       "      <th>25%</th>\n",
       "      <td>NaN</td>\n",
       "      <td>NaN</td>\n",
       "      <td>NaN</td>\n",
       "      <td>NaN</td>\n",
       "      <td>47.377109</td>\n",
       "      <td>2.346964</td>\n",
       "      <td>22.250000</td>\n",
       "      <td>8.100000</td>\n",
       "      <td>29.250000</td>\n",
       "      <td>NaN</td>\n",
       "      <td>6.000000</td>\n",
       "      <td>24.000000</td>\n",
       "      <td>15.000000</td>\n",
       "      <td>NaN</td>\n",
       "      <td>NaN</td>\n",
       "    </tr>\n",
       "    <tr>\n",
       "      <th>50%</th>\n",
       "      <td>NaN</td>\n",
       "      <td>NaN</td>\n",
       "      <td>NaN</td>\n",
       "      <td>NaN</td>\n",
       "      <td>48.850984</td>\n",
       "      <td>12.494443</td>\n",
       "      <td>56.500000</td>\n",
       "      <td>8.400000</td>\n",
       "      <td>76.000000</td>\n",
       "      <td>NaN</td>\n",
       "      <td>15.000000</td>\n",
       "      <td>57.500000</td>\n",
       "      <td>53.500000</td>\n",
       "      <td>NaN</td>\n",
       "      <td>NaN</td>\n",
       "    </tr>\n",
       "    <tr>\n",
       "      <th>75%</th>\n",
       "      <td>NaN</td>\n",
       "      <td>NaN</td>\n",
       "      <td>NaN</td>\n",
       "      <td>NaN</td>\n",
       "      <td>51.509757</td>\n",
       "      <td>16.366150</td>\n",
       "      <td>145.250000</td>\n",
       "      <td>8.700000</td>\n",
       "      <td>192.500000</td>\n",
       "      <td>NaN</td>\n",
       "      <td>42.000000</td>\n",
       "      <td>174.000000</td>\n",
       "      <td>181.000000</td>\n",
       "      <td>NaN</td>\n",
       "      <td>NaN</td>\n",
       "    </tr>\n",
       "    <tr>\n",
       "      <th>max</th>\n",
       "      <td>NaN</td>\n",
       "      <td>NaN</td>\n",
       "      <td>NaN</td>\n",
       "      <td>NaN</td>\n",
       "      <td>60.198093</td>\n",
       "      <td>24.959010</td>\n",
       "      <td>8626.000000</td>\n",
       "      <td>9.500000</td>\n",
       "      <td>9741.000000</td>\n",
       "      <td>NaN</td>\n",
       "      <td>978.000000</td>\n",
       "      <td>19300.000000</td>\n",
       "      <td>4894.000000</td>\n",
       "      <td>NaN</td>\n",
       "      <td>NaN</td>\n",
       "    </tr>\n",
       "  </tbody>\n",
       "</table>\n",
       "</div>"
      ],
      "text/plain": [
       "           name category   city       country         lat         lon  \\\n",
       "count       478      478    459           478  478.000000  478.000000   \n",
       "unique      473      156     14            10         NaN         NaN   \n",
       "top     Amorino    Hotel  Paris  Magyarország         NaN         NaN   \n",
       "freq          4       36     50            50         NaN         NaN   \n",
       "mean        NaN      NaN    NaN           NaN   48.999710   10.606440   \n",
       "std         NaN      NaN    NaN           NaN    5.185954    8.044202   \n",
       "min         NaN      NaN    NaN           NaN   41.387399   -0.129001   \n",
       "25%         NaN      NaN    NaN           NaN   47.377109    2.346964   \n",
       "50%         NaN      NaN    NaN           NaN   48.850984   12.494443   \n",
       "75%         NaN      NaN    NaN           NaN   51.509757   16.366150   \n",
       "max         NaN      NaN    NaN           NaN   60.198093   24.959010   \n",
       "\n",
       "              likes      rating  rating_count rating_color   tip_count  \\\n",
       "count    478.000000  478.000000    478.000000          478  478.000000   \n",
       "unique          NaN         NaN           NaN            3         NaN   \n",
       "top             NaN         NaN           NaN       73CF42         NaN   \n",
       "freq            NaN         NaN           NaN          338         NaN   \n",
       "mean     192.543933    8.399372    244.133891          NaN   43.018828   \n",
       "std      583.746313    0.464843    686.372431          NaN   89.704486   \n",
       "min        1.000000    7.100000      2.000000          NaN    0.000000   \n",
       "25%       22.250000    8.100000     29.250000          NaN    6.000000   \n",
       "50%       56.500000    8.400000     76.000000          NaN   15.000000   \n",
       "75%      145.250000    8.700000    192.500000          NaN   42.000000   \n",
       "max     8626.000000    9.500000   9741.000000          NaN  978.000000   \n",
       "\n",
       "        photos_count  listed_count has_website has_contact  \n",
       "count     478.000000    478.000000         478         478  \n",
       "unique           NaN           NaN           2           2  \n",
       "top              NaN           NaN       False        True  \n",
       "freq             NaN           NaN         315         349  \n",
       "mean      316.560669    226.196653         NaN         NaN  \n",
       "std      1292.392383    499.563662         NaN         NaN  \n",
       "min         0.000000      0.000000         NaN         NaN  \n",
       "25%        24.000000     15.000000         NaN         NaN  \n",
       "50%        57.500000     53.500000         NaN         NaN  \n",
       "75%       174.000000    181.000000         NaN         NaN  \n",
       "max     19300.000000   4894.000000         NaN         NaN  "
      ]
     },
     "execution_count": 10,
     "metadata": {},
     "output_type": "execute_result"
    }
   ],
   "source": [
    "fs_df.describe(include='all')"
   ]
  },
  {
   "cell_type": "markdown",
   "metadata": {},
   "source": [
    "## Dataprep.EDA"
   ]
  },
  {
   "cell_type": "code",
   "execution_count": 11,
   "metadata": {
    "ExecuteTime": {
     "end_time": "2020-07-08T06:02:55.858875Z",
     "start_time": "2020-07-08T06:02:46.056685Z"
    }
   },
   "outputs": [
    {
     "name": "stderr",
     "output_type": "stream",
     "text": [
      "NumExpr defaulting to 8 threads.\n"
     ]
    },
    {
     "data": {
      "application/javascript": [
       "\n",
       "(function(root) {\n",
       "  function now() {\n",
       "    return new Date();\n",
       "  }\n",
       "\n",
       "  var force = true;\n",
       "\n",
       "  if (typeof root._bokeh_onload_callbacks === \"undefined\" || force === true) {\n",
       "    root._bokeh_onload_callbacks = [];\n",
       "    root._bokeh_is_loading = undefined;\n",
       "  }\n",
       "\n",
       "  var JS_MIME_TYPE = 'application/javascript';\n",
       "  var HTML_MIME_TYPE = 'text/html';\n",
       "  var EXEC_MIME_TYPE = 'application/vnd.bokehjs_exec.v0+json';\n",
       "  var CLASS_NAME = 'output_bokeh rendered_html';\n",
       "\n",
       "  /**\n",
       "   * Render data to the DOM node\n",
       "   */\n",
       "  function render(props, node) {\n",
       "    var script = document.createElement(\"script\");\n",
       "    node.appendChild(script);\n",
       "  }\n",
       "\n",
       "  /**\n",
       "   * Handle when an output is cleared or removed\n",
       "   */\n",
       "  function handleClearOutput(event, handle) {\n",
       "    var cell = handle.cell;\n",
       "\n",
       "    var id = cell.output_area._bokeh_element_id;\n",
       "    var server_id = cell.output_area._bokeh_server_id;\n",
       "    // Clean up Bokeh references\n",
       "    if (id != null && id in Bokeh.index) {\n",
       "      Bokeh.index[id].model.document.clear();\n",
       "      delete Bokeh.index[id];\n",
       "    }\n",
       "\n",
       "    if (server_id !== undefined) {\n",
       "      // Clean up Bokeh references\n",
       "      var cmd = \"from bokeh.io.state import curstate; print(curstate().uuid_to_server['\" + server_id + \"'].get_sessions()[0].document.roots[0]._id)\";\n",
       "      cell.notebook.kernel.execute(cmd, {\n",
       "        iopub: {\n",
       "          output: function(msg) {\n",
       "            var id = msg.content.text.trim();\n",
       "            if (id in Bokeh.index) {\n",
       "              Bokeh.index[id].model.document.clear();\n",
       "              delete Bokeh.index[id];\n",
       "            }\n",
       "          }\n",
       "        }\n",
       "      });\n",
       "      // Destroy server and session\n",
       "      var cmd = \"import bokeh.io.notebook as ion; ion.destroy_server('\" + server_id + \"')\";\n",
       "      cell.notebook.kernel.execute(cmd);\n",
       "    }\n",
       "  }\n",
       "\n",
       "  /**\n",
       "   * Handle when a new output is added\n",
       "   */\n",
       "  function handleAddOutput(event, handle) {\n",
       "    var output_area = handle.output_area;\n",
       "    var output = handle.output;\n",
       "\n",
       "    // limit handleAddOutput to display_data with EXEC_MIME_TYPE content only\n",
       "    if ((output.output_type != \"display_data\") || (!output.data.hasOwnProperty(EXEC_MIME_TYPE))) {\n",
       "      return\n",
       "    }\n",
       "\n",
       "    var toinsert = output_area.element.find(\".\" + CLASS_NAME.split(' ')[0]);\n",
       "\n",
       "    if (output.metadata[EXEC_MIME_TYPE][\"id\"] !== undefined) {\n",
       "      toinsert[toinsert.length - 1].firstChild.textContent = output.data[JS_MIME_TYPE];\n",
       "      // store reference to embed id on output_area\n",
       "      output_area._bokeh_element_id = output.metadata[EXEC_MIME_TYPE][\"id\"];\n",
       "    }\n",
       "    if (output.metadata[EXEC_MIME_TYPE][\"server_id\"] !== undefined) {\n",
       "      var bk_div = document.createElement(\"div\");\n",
       "      bk_div.innerHTML = output.data[HTML_MIME_TYPE];\n",
       "      var script_attrs = bk_div.children[0].attributes;\n",
       "      for (var i = 0; i < script_attrs.length; i++) {\n",
       "        toinsert[toinsert.length - 1].firstChild.setAttribute(script_attrs[i].name, script_attrs[i].value);\n",
       "        toinsert[toinsert.length - 1].firstChild.textContent = bk_div.children[0].textContent\n",
       "      }\n",
       "      // store reference to server id on output_area\n",
       "      output_area._bokeh_server_id = output.metadata[EXEC_MIME_TYPE][\"server_id\"];\n",
       "    }\n",
       "  }\n",
       "\n",
       "  function register_renderer(events, OutputArea) {\n",
       "\n",
       "    function append_mime(data, metadata, element) {\n",
       "      // create a DOM node to render to\n",
       "      var toinsert = this.create_output_subarea(\n",
       "        metadata,\n",
       "        CLASS_NAME,\n",
       "        EXEC_MIME_TYPE\n",
       "      );\n",
       "      this.keyboard_manager.register_events(toinsert);\n",
       "      // Render to node\n",
       "      var props = {data: data, metadata: metadata[EXEC_MIME_TYPE]};\n",
       "      render(props, toinsert[toinsert.length - 1]);\n",
       "      element.append(toinsert);\n",
       "      return toinsert\n",
       "    }\n",
       "\n",
       "    /* Handle when an output is cleared or removed */\n",
       "    events.on('clear_output.CodeCell', handleClearOutput);\n",
       "    events.on('delete.Cell', handleClearOutput);\n",
       "\n",
       "    /* Handle when a new output is added */\n",
       "    events.on('output_added.OutputArea', handleAddOutput);\n",
       "\n",
       "    /**\n",
       "     * Register the mime type and append_mime function with output_area\n",
       "     */\n",
       "    OutputArea.prototype.register_mime_type(EXEC_MIME_TYPE, append_mime, {\n",
       "      /* Is output safe? */\n",
       "      safe: true,\n",
       "      /* Index of renderer in `output_area.display_order` */\n",
       "      index: 0\n",
       "    });\n",
       "  }\n",
       "\n",
       "  // register the mime type if in Jupyter Notebook environment and previously unregistered\n",
       "  if (root.Jupyter !== undefined) {\n",
       "    var events = require('base/js/events');\n",
       "    var OutputArea = require('notebook/js/outputarea').OutputArea;\n",
       "\n",
       "    if (OutputArea.prototype.mime_types().indexOf(EXEC_MIME_TYPE) == -1) {\n",
       "      register_renderer(events, OutputArea);\n",
       "    }\n",
       "  }\n",
       "\n",
       "  \n",
       "  if (typeof (root._bokeh_timeout) === \"undefined\" || force === true) {\n",
       "    root._bokeh_timeout = Date.now() + 5000;\n",
       "    root._bokeh_failed_load = false;\n",
       "  }\n",
       "\n",
       "  var NB_LOAD_WARNING = {'data': {'text/html':\n",
       "     \"<div style='background-color: #fdd'>\\n\"+\n",
       "     \"<p>\\n\"+\n",
       "     \"BokehJS does not appear to have successfully loaded. If loading BokehJS from CDN, this \\n\"+\n",
       "     \"may be due to a slow or bad network connection. Possible fixes:\\n\"+\n",
       "     \"</p>\\n\"+\n",
       "     \"<ul>\\n\"+\n",
       "     \"<li>re-rerun `output_notebook()` to attempt to load from CDN again, or</li>\\n\"+\n",
       "     \"<li>use INLINE resources instead, as so:</li>\\n\"+\n",
       "     \"</ul>\\n\"+\n",
       "     \"<code>\\n\"+\n",
       "     \"from bokeh.resources import INLINE\\n\"+\n",
       "     \"output_notebook(resources=INLINE)\\n\"+\n",
       "     \"</code>\\n\"+\n",
       "     \"</div>\"}};\n",
       "\n",
       "  function display_loaded() {\n",
       "    var el = document.getElementById(null);\n",
       "    if (el != null) {\n",
       "      el.textContent = \"BokehJS is loading...\";\n",
       "    }\n",
       "    if (root.Bokeh !== undefined) {\n",
       "      if (el != null) {\n",
       "        el.textContent = \"BokehJS \" + root.Bokeh.version + \" successfully loaded.\";\n",
       "      }\n",
       "    } else if (Date.now() < root._bokeh_timeout) {\n",
       "      setTimeout(display_loaded, 100)\n",
       "    }\n",
       "  }\n",
       "\n",
       "\n",
       "  function run_callbacks() {\n",
       "    try {\n",
       "      root._bokeh_onload_callbacks.forEach(function(callback) {\n",
       "        if (callback != null)\n",
       "          callback();\n",
       "      });\n",
       "    } finally {\n",
       "      delete root._bokeh_onload_callbacks\n",
       "    }\n",
       "    console.debug(\"Bokeh: all callbacks have finished\");\n",
       "  }\n",
       "\n",
       "  function load_libs(css_urls, js_urls, callback) {\n",
       "    if (css_urls == null) css_urls = [];\n",
       "    if (js_urls == null) js_urls = [];\n",
       "\n",
       "    root._bokeh_onload_callbacks.push(callback);\n",
       "    if (root._bokeh_is_loading > 0) {\n",
       "      console.debug(\"Bokeh: BokehJS is being loaded, scheduling callback at\", now());\n",
       "      return null;\n",
       "    }\n",
       "    if (js_urls == null || js_urls.length === 0) {\n",
       "      run_callbacks();\n",
       "      return null;\n",
       "    }\n",
       "    console.debug(\"Bokeh: BokehJS not loaded, scheduling load and callback at\", now());\n",
       "    root._bokeh_is_loading = css_urls.length + js_urls.length;\n",
       "\n",
       "    function on_load() {\n",
       "      root._bokeh_is_loading--;\n",
       "      if (root._bokeh_is_loading === 0) {\n",
       "        console.debug(\"Bokeh: all BokehJS libraries/stylesheets loaded\");\n",
       "        run_callbacks()\n",
       "      }\n",
       "    }\n",
       "\n",
       "    function on_error() {\n",
       "      console.error(\"failed to load \" + url);\n",
       "    }\n",
       "\n",
       "    for (var i = 0; i < css_urls.length; i++) {\n",
       "      var url = css_urls[i];\n",
       "      const element = document.createElement(\"link\");\n",
       "      element.onload = on_load;\n",
       "      element.onerror = on_error;\n",
       "      element.rel = \"stylesheet\";\n",
       "      element.type = \"text/css\";\n",
       "      element.href = url;\n",
       "      console.debug(\"Bokeh: injecting link tag for BokehJS stylesheet: \", url);\n",
       "      document.body.appendChild(element);\n",
       "    }\n",
       "\n",
       "    const hashes = {\"https://cdn.bokeh.org/bokeh/release/bokeh-2.1.0.min.js\": \"YobFyzPeVUsFQydHkJGsJL1kyfHnWxOlPc3EwaV22TmBaeGoXHLWx5aRRVPS9xlE\", \"https://cdn.bokeh.org/bokeh/release/bokeh-widgets-2.1.0.min.js\": \"NuAg9+TcTQQqvQCTtkCneRrpkTiMhhfiq0KHiBzx8ECiKiLWXHN6i6ia3q7b3eHu\", \"https://cdn.bokeh.org/bokeh/release/bokeh-tables-2.1.0.min.js\": \"uMVqQc8JqHitD67bXTn9a06Mrk3EiHRaZ18EJENQenAKJ/KL71SakdXYomZQpGRr\", \"https://cdn.bokeh.org/bokeh/release/bokeh-gl-2.1.0.min.js\": \"u+eGuEXC8aw0VSCm2mH+b/tQEAitUOYiR1H6SuIVEdUmXsf4vN8m/SmXpmjb7U/X\"};\n",
       "\n",
       "    for (var i = 0; i < js_urls.length; i++) {\n",
       "      var url = js_urls[i];\n",
       "      var element = document.createElement('script');\n",
       "      element.onload = on_load;\n",
       "      element.onerror = on_error;\n",
       "      element.async = false;\n",
       "      element.src = url;\n",
       "      if (url in hashes) {\n",
       "        element.crossOrigin = \"anonymous\";\n",
       "        element.integrity = \"sha384-\" + hashes[url];\n",
       "      }\n",
       "      console.debug(\"Bokeh: injecting script tag for BokehJS library: \", url);\n",
       "      document.head.appendChild(element);\n",
       "    }\n",
       "  };\n",
       "\n",
       "  function inject_raw_css(css) {\n",
       "    const element = document.createElement(\"style\");\n",
       "    element.appendChild(document.createTextNode(css));\n",
       "    document.body.appendChild(element);\n",
       "  }\n",
       "\n",
       "  \n",
       "  var js_urls = [\"https://cdn.bokeh.org/bokeh/release/bokeh-2.1.0.min.js\", \"https://cdn.bokeh.org/bokeh/release/bokeh-widgets-2.1.0.min.js\", \"https://cdn.bokeh.org/bokeh/release/bokeh-tables-2.1.0.min.js\", \"https://cdn.bokeh.org/bokeh/release/bokeh-gl-2.1.0.min.js\", \"https://unpkg.com/@holoviz/panel@^0.9.7/dist/panel.min.js\"];\n",
       "  var css_urls = [];\n",
       "  \n",
       "\n",
       "  var inline_js = [\n",
       "    function(Bokeh) {\n",
       "      inject_raw_css(\"table.panel-df {\\n    margin-left: auto;\\n    margin-right: auto;\\n    border: none;\\n    border-collapse: collapse;\\n    border-spacing: 0;\\n    color: black;\\n    font-size: 12px;\\n    table-layout: fixed;\\n    width: 100%;\\n}\\n\\n.panel-df tr, .panel-df th, .panel-df td {\\n    text-align: right;\\n    vertical-align: middle;\\n    padding: 0.5em 0.5em !important;\\n    line-height: normal;\\n    white-space: normal;\\n    max-width: none;\\n    border: none;\\n}\\n\\n.panel-df tbody {\\n    display: table-row-group;\\n    vertical-align: middle;\\n    border-color: inherit;\\n}\\n\\n.panel-df tbody tr:nth-child(odd) {\\n    background: #f5f5f5;\\n}\\n\\n.panel-df thead {\\n    border-bottom: 1px solid black;\\n    vertical-align: bottom;\\n}\\n\\n.panel-df tr:hover {\\n    background: lightblue !important;\\n    cursor: pointer;\\n}\\n\");\n",
       "    },\n",
       "    function(Bokeh) {\n",
       "      inject_raw_css(\".json-formatter-row {\\n  font-family: monospace;\\n}\\n.json-formatter-row,\\n.json-formatter-row a,\\n.json-formatter-row a:hover {\\n  color: black;\\n  text-decoration: none;\\n}\\n.json-formatter-row .json-formatter-row {\\n  margin-left: 1rem;\\n}\\n.json-formatter-row .json-formatter-children.json-formatter-empty {\\n  opacity: 0.5;\\n  margin-left: 1rem;\\n}\\n.json-formatter-row .json-formatter-children.json-formatter-empty:after {\\n  display: none;\\n}\\n.json-formatter-row .json-formatter-children.json-formatter-empty.json-formatter-object:after {\\n  content: \\\"No properties\\\";\\n}\\n.json-formatter-row .json-formatter-children.json-formatter-empty.json-formatter-array:after {\\n  content: \\\"[]\\\";\\n}\\n.json-formatter-row .json-formatter-string,\\n.json-formatter-row .json-formatter-stringifiable {\\n  color: green;\\n  white-space: pre;\\n  word-wrap: break-word;\\n}\\n.json-formatter-row .json-formatter-number {\\n  color: blue;\\n}\\n.json-formatter-row .json-formatter-boolean {\\n  color: red;\\n}\\n.json-formatter-row .json-formatter-null {\\n  color: #855A00;\\n}\\n.json-formatter-row .json-formatter-undefined {\\n  color: #ca0b69;\\n}\\n.json-formatter-row .json-formatter-function {\\n  color: #FF20ED;\\n}\\n.json-formatter-row .json-formatter-date {\\n  background-color: rgba(0, 0, 0, 0.05);\\n}\\n.json-formatter-row .json-formatter-url {\\n  text-decoration: underline;\\n  color: blue;\\n  cursor: pointer;\\n}\\n.json-formatter-row .json-formatter-bracket {\\n  color: blue;\\n}\\n.json-formatter-row .json-formatter-key {\\n  color: #00008B;\\n  padding-right: 0.2rem;\\n}\\n.json-formatter-row .json-formatter-toggler-link {\\n  cursor: pointer;\\n}\\n.json-formatter-row .json-formatter-toggler {\\n  line-height: 1.2rem;\\n  font-size: 0.7rem;\\n  vertical-align: middle;\\n  opacity: 0.6;\\n  cursor: pointer;\\n  padding-right: 0.2rem;\\n}\\n.json-formatter-row .json-formatter-toggler:after {\\n  display: inline-block;\\n  transition: transform 100ms ease-in;\\n  content: \\\"\\\\25BA\\\";\\n}\\n.json-formatter-row > a > .json-formatter-preview-text {\\n  opacity: 0;\\n  transition: opacity 0.15s ease-in;\\n  font-style: italic;\\n}\\n.json-formatter-row:hover > a > .json-formatter-preview-text {\\n  opacity: 0.6;\\n}\\n.json-formatter-row.json-formatter-open > .json-formatter-toggler-link .json-formatter-toggler:after {\\n  transform: rotate(90deg);\\n}\\n.json-formatter-row.json-formatter-open > .json-formatter-children:after {\\n  display: inline-block;\\n}\\n.json-formatter-row.json-formatter-open > a > .json-formatter-preview-text {\\n  display: none;\\n}\\n.json-formatter-row.json-formatter-open.json-formatter-empty:after {\\n  display: block;\\n}\\n.json-formatter-dark.json-formatter-row {\\n  font-family: monospace;\\n}\\n.json-formatter-dark.json-formatter-row,\\n.json-formatter-dark.json-formatter-row a,\\n.json-formatter-dark.json-formatter-row a:hover {\\n  color: white;\\n  text-decoration: none;\\n}\\n.json-formatter-dark.json-formatter-row .json-formatter-row {\\n  margin-left: 1rem;\\n}\\n.json-formatter-dark.json-formatter-row .json-formatter-children.json-formatter-empty {\\n  opacity: 0.5;\\n  margin-left: 1rem;\\n}\\n.json-formatter-dark.json-formatter-row .json-formatter-children.json-formatter-empty:after {\\n  display: none;\\n}\\n.json-formatter-dark.json-formatter-row .json-formatter-children.json-formatter-empty.json-formatter-object:after {\\n  content: \\\"No properties\\\";\\n}\\n.json-formatter-dark.json-formatter-row .json-formatter-children.json-formatter-empty.json-formatter-array:after {\\n  content: \\\"[]\\\";\\n}\\n.json-formatter-dark.json-formatter-row .json-formatter-string,\\n.json-formatter-dark.json-formatter-row .json-formatter-stringifiable {\\n  color: #31F031;\\n  white-space: pre;\\n  word-wrap: break-word;\\n}\\n.json-formatter-dark.json-formatter-row .json-formatter-number {\\n  color: #66C2FF;\\n}\\n.json-formatter-dark.json-formatter-row .json-formatter-boolean {\\n  color: #EC4242;\\n}\\n.json-formatter-dark.json-formatter-row .json-formatter-null {\\n  color: #EEC97D;\\n}\\n.json-formatter-dark.json-formatter-row .json-formatter-undefined {\\n  color: #ef8fbe;\\n}\\n.json-formatter-dark.json-formatter-row .json-formatter-function {\\n  color: #FD48CB;\\n}\\n.json-formatter-dark.json-formatter-row .json-formatter-date {\\n  background-color: rgba(255, 255, 255, 0.05);\\n}\\n.json-formatter-dark.json-formatter-row .json-formatter-url {\\n  text-decoration: underline;\\n  color: #027BFF;\\n  cursor: pointer;\\n}\\n.json-formatter-dark.json-formatter-row .json-formatter-bracket {\\n  color: #9494FF;\\n}\\n.json-formatter-dark.json-formatter-row .json-formatter-key {\\n  color: #23A0DB;\\n  padding-right: 0.2rem;\\n}\\n.json-formatter-dark.json-formatter-row .json-formatter-toggler-link {\\n  cursor: pointer;\\n}\\n.json-formatter-dark.json-formatter-row .json-formatter-toggler {\\n  line-height: 1.2rem;\\n  font-size: 0.7rem;\\n  vertical-align: middle;\\n  opacity: 0.6;\\n  cursor: pointer;\\n  padding-right: 0.2rem;\\n}\\n.json-formatter-dark.json-formatter-row .json-formatter-toggler:after {\\n  display: inline-block;\\n  transition: transform 100ms ease-in;\\n  content: \\\"\\\\25BA\\\";\\n}\\n.json-formatter-dark.json-formatter-row > a > .json-formatter-preview-text {\\n  opacity: 0;\\n  transition: opacity 0.15s ease-in;\\n  font-style: italic;\\n}\\n.json-formatter-dark.json-formatter-row:hover > a > .json-formatter-preview-text {\\n  opacity: 0.6;\\n}\\n.json-formatter-dark.json-formatter-row.json-formatter-open > .json-formatter-toggler-link .json-formatter-toggler:after {\\n  transform: rotate(90deg);\\n}\\n.json-formatter-dark.json-formatter-row.json-formatter-open > .json-formatter-children:after {\\n  display: inline-block;\\n}\\n.json-formatter-dark.json-formatter-row.json-formatter-open > a > .json-formatter-preview-text {\\n  display: none;\\n}\\n.json-formatter-dark.json-formatter-row.json-formatter-open.json-formatter-empty:after {\\n  display: block;\\n}\\n\");\n",
       "    },\n",
       "    function(Bokeh) {\n",
       "      inject_raw_css(\".codehilite .hll { background-color: #ffffcc }\\n.codehilite  { background: #f8f8f8; }\\n.codehilite .c { color: #408080; font-style: italic } /* Comment */\\n.codehilite .err { border: 1px solid #FF0000 } /* Error */\\n.codehilite .k { color: #008000; font-weight: bold } /* Keyword */\\n.codehilite .o { color: #666666 } /* Operator */\\n.codehilite .ch { color: #408080; font-style: italic } /* Comment.Hashbang */\\n.codehilite .cm { color: #408080; font-style: italic } /* Comment.Multiline */\\n.codehilite .cp { color: #BC7A00 } /* Comment.Preproc */\\n.codehilite .cpf { color: #408080; font-style: italic } /* Comment.PreprocFile */\\n.codehilite .c1 { color: #408080; font-style: italic } /* Comment.Single */\\n.codehilite .cs { color: #408080; font-style: italic } /* Comment.Special */\\n.codehilite .gd { color: #A00000 } /* Generic.Deleted */\\n.codehilite .ge { font-style: italic } /* Generic.Emph */\\n.codehilite .gr { color: #FF0000 } /* Generic.Error */\\n.codehilite .gh { color: #000080; font-weight: bold } /* Generic.Heading */\\n.codehilite .gi { color: #00A000 } /* Generic.Inserted */\\n.codehilite .go { color: #888888 } /* Generic.Output */\\n.codehilite .gp { color: #000080; font-weight: bold } /* Generic.Prompt */\\n.codehilite .gs { font-weight: bold } /* Generic.Strong */\\n.codehilite .gu { color: #800080; font-weight: bold } /* Generic.Subheading */\\n.codehilite .gt { color: #0044DD } /* Generic.Traceback */\\n.codehilite .kc { color: #008000; font-weight: bold } /* Keyword.Constant */\\n.codehilite .kd { color: #008000; font-weight: bold } /* Keyword.Declaration */\\n.codehilite .kn { color: #008000; font-weight: bold } /* Keyword.Namespace */\\n.codehilite .kp { color: #008000 } /* Keyword.Pseudo */\\n.codehilite .kr { color: #008000; font-weight: bold } /* Keyword.Reserved */\\n.codehilite .kt { color: #B00040 } /* Keyword.Type */\\n.codehilite .m { color: #666666 } /* Literal.Number */\\n.codehilite .s { color: #BA2121 } /* Literal.String */\\n.codehilite .na { color: #7D9029 } /* Name.Attribute */\\n.codehilite .nb { color: #008000 } /* Name.Builtin */\\n.codehilite .nc { color: #0000FF; font-weight: bold } /* Name.Class */\\n.codehilite .no { color: #880000 } /* Name.Constant */\\n.codehilite .nd { color: #AA22FF } /* Name.Decorator */\\n.codehilite .ni { color: #999999; font-weight: bold } /* Name.Entity */\\n.codehilite .ne { color: #D2413A; font-weight: bold } /* Name.Exception */\\n.codehilite .nf { color: #0000FF } /* Name.Function */\\n.codehilite .nl { color: #A0A000 } /* Name.Label */\\n.codehilite .nn { color: #0000FF; font-weight: bold } /* Name.Namespace */\\n.codehilite .nt { color: #008000; font-weight: bold } /* Name.Tag */\\n.codehilite .nv { color: #19177C } /* Name.Variable */\\n.codehilite .ow { color: #AA22FF; font-weight: bold } /* Operator.Word */\\n.codehilite .w { color: #bbbbbb } /* Text.Whitespace */\\n.codehilite .mb { color: #666666 } /* Literal.Number.Bin */\\n.codehilite .mf { color: #666666 } /* Literal.Number.Float */\\n.codehilite .mh { color: #666666 } /* Literal.Number.Hex */\\n.codehilite .mi { color: #666666 } /* Literal.Number.Integer */\\n.codehilite .mo { color: #666666 } /* Literal.Number.Oct */\\n.codehilite .sa { color: #BA2121 } /* Literal.String.Affix */\\n.codehilite .sb { color: #BA2121 } /* Literal.String.Backtick */\\n.codehilite .sc { color: #BA2121 } /* Literal.String.Char */\\n.codehilite .dl { color: #BA2121 } /* Literal.String.Delimiter */\\n.codehilite .sd { color: #BA2121; font-style: italic } /* Literal.String.Doc */\\n.codehilite .s2 { color: #BA2121 } /* Literal.String.Double */\\n.codehilite .se { color: #BB6622; font-weight: bold } /* Literal.String.Escape */\\n.codehilite .sh { color: #BA2121 } /* Literal.String.Heredoc */\\n.codehilite .si { color: #BB6688; font-weight: bold } /* Literal.String.Interpol */\\n.codehilite .sx { color: #008000 } /* Literal.String.Other */\\n.codehilite .sr { color: #BB6688 } /* Literal.String.Regex */\\n.codehilite .s1 { color: #BA2121 } /* Literal.String.Single */\\n.codehilite .ss { color: #19177C } /* Literal.String.Symbol */\\n.codehilite .bp { color: #008000 } /* Name.Builtin.Pseudo */\\n.codehilite .fm { color: #0000FF } /* Name.Function.Magic */\\n.codehilite .vc { color: #19177C } /* Name.Variable.Class */\\n.codehilite .vg { color: #19177C } /* Name.Variable.Global */\\n.codehilite .vi { color: #19177C } /* Name.Variable.Instance */\\n.codehilite .vm { color: #19177C } /* Name.Variable.Magic */\\n.codehilite .il { color: #666666 } /* Literal.Number.Integer.Long */\\n\\n.markdown h1 { margin-block-start: 0.34em }\\n.markdown h2 { margin-block-start: 0.42em }\\n.markdown h3 { margin-block-start: 0.5em }\\n.markdown h4 { margin-block-start: 0.67em }\\n.markdown h5 { margin-block-start: 0.84em }\\n.markdown h6 { margin-block-start: 1.17em }\\n.markdown ul { padding-inline-start: 2em }\\n.markdown ol { padding-inline-start: 2em }\\n.markdown strong { font-weight: 600 }\\n.markdown a { color: -webkit-link }\\n.markdown a { color: -moz-hyperlinkText }\\n\");\n",
       "    },\n",
       "    function(Bokeh) {\n",
       "      inject_raw_css(\".panel-widget-box {\\n\\tmin-height: 20px;\\n\\tbackground-color: #f5f5f5;\\n\\tborder: 1px solid #e3e3e3 !important;\\n\\tborder-radius: 4px;\\n\\t-webkit-box-shadow: inset 0 1px 1px rgba(0,0,0,.05);\\n\\tbox-shadow: inset 0 1px 1px rgba(0,0,0,.05);\\n\\toverflow-x: hidden;\\n\\toverflow-y: hidden;\\n}\\n\\n.scrollable {\\n  overflow: scroll;\\n}\\n\\nprogress {\\n\\tappearance: none;\\n\\t-moz-appearance: none;\\n\\t-webkit-appearance: none;\\n\\n\\tborder: none;\\n\\theight: 20px;\\n\\tbackground-color: whiteSmoke;\\n\\tborder-radius: 3px;\\n\\tbox-shadow: 0 2px 3px rgba(0,0,0,.5) inset;\\n\\tcolor: royalblue;\\n\\tposition: relative;\\n\\tmargin: 0 0 1.5em;\\n}\\n\\nprogress[value]::-webkit-progress-bar {\\n\\tbackground-color: whiteSmoke;\\n\\tborder-radius: 3px;\\n\\tbox-shadow: 0 2px 3px rgba(0,0,0,.5) inset;\\n}\\n\\nprogress[value]::-webkit-progress-value {\\n\\tposition: relative;\\n\\n\\tbackground-size: 35px 20px, 100% 100%, 100% 100%;\\n\\tborder-radius:3px;\\n}\\n\\nprogress.active:not([value])::before {\\n\\tbackground-position: 10%;\\n\\tanimation-name: stripes;\\n\\tanimation-duration: 3s;\\n\\tanimation-timing-function: linear;\\n\\tanimation-iteration-count: infinite;\\n}\\n\\nprogress[value]::-moz-progress-bar {\\n\\tbackground-size: 35px 20px, 100% 100%, 100% 100%;\\n\\tborder-radius:3px;\\n}\\n\\nprogress:not([value])::-moz-progress-bar {\\n\\tborder-radius:3px;\\n\\tbackground:\\n\\tlinear-gradient(-45deg, transparent 33%, rgba(0, 0, 0, 0.2) 33%, rgba(0, 0, 0, 0.2) 66%, transparent 66%) left/2.5em 1.5em;\\n\\n}\\n\\nprogress.active:not([value])::-moz-progress-bar {\\n\\tbackground-position: 10%;\\n\\tanimation-name: stripes;\\n\\tanimation-duration: 3s;\\n\\tanimation-timing-function: linear;\\n\\tanimation-iteration-count: infinite;\\n}\\n\\nprogress.active:not([value])::-webkit-progress-bar {\\n\\tbackground-position: 10%;\\n\\tanimation-name: stripes;\\n\\tanimation-duration: 3s;\\n\\tanimation-timing-function: linear;\\n\\tanimation-iteration-count: infinite;\\n}\\n\\nprogress.primary[value]::-webkit-progress-value { background-color: #007bff; }\\nprogress.primary:not([value])::before { background-color: #007bff; }\\nprogress.primary:not([value])::-webkit-progress-bar { background-color: #007bff; }\\nprogress.primary::-moz-progress-bar { background-color: #007bff; }\\n\\nprogress.secondary[value]::-webkit-progress-value { background-color: #6c757d; }\\nprogress.secondary:not([value])::before { background-color: #6c757d; }\\nprogress.secondary:not([value])::-webkit-progress-bar { background-color: #6c757d; }\\nprogress.secondary::-moz-progress-bar { background-color: #6c757d; }\\n\\nprogress.success[value]::-webkit-progress-value { background-color: #28a745; }\\nprogress.success:not([value])::before { background-color: #28a745; }\\nprogress.success:not([value])::-webkit-progress-bar { background-color: #28a745; }\\nprogress.success::-moz-progress-bar { background-color: #28a745; }\\n\\nprogress.danger[value]::-webkit-progress-value { background-color: #dc3545; }\\nprogress.danger:not([value])::before { background-color: #dc3545; }\\nprogress.danger:not([value])::-webkit-progress-bar { background-color: #dc3545; }\\nprogress.danger::-moz-progress-bar { background-color: #dc3545; }\\n\\nprogress.warning[value]::-webkit-progress-value { background-color: #ffc107; }\\nprogress.warning:not([value])::before { background-color: #ffc107; }\\nprogress.warning:not([value])::-webkit-progress-bar { background-color: #ffc107; }\\nprogress.warning::-moz-progress-bar { background-color: #ffc107; }\\n\\nprogress.info[value]::-webkit-progress-value { background-color: #17a2b8; }\\nprogress.info:not([value])::before { background-color: #17a2b8; }\\nprogress.info:not([value])::-webkit-progress-bar { background-color: #17a2b8; }\\nprogress.info::-moz-progress-bar { background-color: #17a2b8; }\\n\\nprogress.light[value]::-webkit-progress-value { background-color: #f8f9fa; }\\nprogress.light:not([value])::before { background-color: #f8f9fa; }\\nprogress.light:not([value])::-webkit-progress-bar { background-color: #f8f9fa; }\\nprogress.light::-moz-progress-bar { background-color: #f8f9fa; }\\n\\nprogress.dark[value]::-webkit-progress-value { background-color: #343a40; }\\nprogress.dark:not([value])::-webkit-progress-bar { background-color: #343a40; }\\nprogress.dark:not([value])::before { background-color: #343a40; }\\nprogress.dark::-moz-progress-bar { background-color: #343a40; }\\n\\nprogress:not([value])::-webkit-progress-bar {\\n\\tborder-radius: 3px;\\n\\tbackground:\\n\\tlinear-gradient(-45deg, transparent 33%, rgba(0, 0, 0, 0.2) 33%, rgba(0, 0, 0, 0.2) 66%, transparent 66%) left/2.5em 1.5em;\\n}\\nprogress:not([value])::before {\\n\\tcontent:\\\" \\\";\\n\\tposition:absolute;\\n\\theight: 20px;\\n\\ttop:0;\\n\\tleft:0;\\n\\tright:0;\\n\\tbottom:0;\\n\\tborder-radius: 3px;\\n\\tbackground:\\n\\tlinear-gradient(-45deg, transparent 33%, rgba(0, 0, 0, 0.2) 33%, rgba(0, 0, 0, 0.2) 66%, transparent 66%) left/2.5em 1.5em;\\n}\\n\\n@keyframes stripes {\\n  from {background-position: 0%}\\n  to {background-position: 100%}\\n}\\n\");\n",
       "    },\n",
       "    function(Bokeh) {\n",
       "      Bokeh.set_log_level(\"info\");\n",
       "    },\n",
       "    function(Bokeh) {\n",
       "    \n",
       "    \n",
       "    }\n",
       "  ];\n",
       "\n",
       "  function run_inline_js() {\n",
       "    \n",
       "    if (root.Bokeh !== undefined || force === true) {\n",
       "      \n",
       "    for (var i = 0; i < inline_js.length; i++) {\n",
       "      inline_js[i].call(root, root.Bokeh);\n",
       "    }\n",
       "    } else if (Date.now() < root._bokeh_timeout) {\n",
       "      setTimeout(run_inline_js, 100);\n",
       "    } else if (!root._bokeh_failed_load) {\n",
       "      console.log(\"Bokeh: BokehJS failed to load within specified timeout.\");\n",
       "      root._bokeh_failed_load = true;\n",
       "    } else if (force !== true) {\n",
       "      var cell = $(document.getElementById(null)).parents('.cell').data().cell;\n",
       "      cell.output_area.append_execute_result(NB_LOAD_WARNING)\n",
       "    }\n",
       "\n",
       "  }\n",
       "\n",
       "  if (root._bokeh_is_loading === 0) {\n",
       "    console.debug(\"Bokeh: BokehJS loaded, going straight to plotting\");\n",
       "    run_inline_js();\n",
       "  } else {\n",
       "    load_libs(css_urls, js_urls, function() {\n",
       "      console.debug(\"Bokeh: BokehJS plotting callback run at\", now());\n",
       "      run_inline_js();\n",
       "    });\n",
       "  }\n",
       "}(window));"
      ],
      "application/vnd.bokehjs_load.v0+json": "\n(function(root) {\n  function now() {\n    return new Date();\n  }\n\n  var force = true;\n\n  if (typeof root._bokeh_onload_callbacks === \"undefined\" || force === true) {\n    root._bokeh_onload_callbacks = [];\n    root._bokeh_is_loading = undefined;\n  }\n\n  \n\n  \n  if (typeof (root._bokeh_timeout) === \"undefined\" || force === true) {\n    root._bokeh_timeout = Date.now() + 5000;\n    root._bokeh_failed_load = false;\n  }\n\n  var NB_LOAD_WARNING = {'data': {'text/html':\n     \"<div style='background-color: #fdd'>\\n\"+\n     \"<p>\\n\"+\n     \"BokehJS does not appear to have successfully loaded. If loading BokehJS from CDN, this \\n\"+\n     \"may be due to a slow or bad network connection. Possible fixes:\\n\"+\n     \"</p>\\n\"+\n     \"<ul>\\n\"+\n     \"<li>re-rerun `output_notebook()` to attempt to load from CDN again, or</li>\\n\"+\n     \"<li>use INLINE resources instead, as so:</li>\\n\"+\n     \"</ul>\\n\"+\n     \"<code>\\n\"+\n     \"from bokeh.resources import INLINE\\n\"+\n     \"output_notebook(resources=INLINE)\\n\"+\n     \"</code>\\n\"+\n     \"</div>\"}};\n\n  function display_loaded() {\n    var el = document.getElementById(null);\n    if (el != null) {\n      el.textContent = \"BokehJS is loading...\";\n    }\n    if (root.Bokeh !== undefined) {\n      if (el != null) {\n        el.textContent = \"BokehJS \" + root.Bokeh.version + \" successfully loaded.\";\n      }\n    } else if (Date.now() < root._bokeh_timeout) {\n      setTimeout(display_loaded, 100)\n    }\n  }\n\n\n  function run_callbacks() {\n    try {\n      root._bokeh_onload_callbacks.forEach(function(callback) {\n        if (callback != null)\n          callback();\n      });\n    } finally {\n      delete root._bokeh_onload_callbacks\n    }\n    console.debug(\"Bokeh: all callbacks have finished\");\n  }\n\n  function load_libs(css_urls, js_urls, callback) {\n    if (css_urls == null) css_urls = [];\n    if (js_urls == null) js_urls = [];\n\n    root._bokeh_onload_callbacks.push(callback);\n    if (root._bokeh_is_loading > 0) {\n      console.debug(\"Bokeh: BokehJS is being loaded, scheduling callback at\", now());\n      return null;\n    }\n    if (js_urls == null || js_urls.length === 0) {\n      run_callbacks();\n      return null;\n    }\n    console.debug(\"Bokeh: BokehJS not loaded, scheduling load and callback at\", now());\n    root._bokeh_is_loading = css_urls.length + js_urls.length;\n\n    function on_load() {\n      root._bokeh_is_loading--;\n      if (root._bokeh_is_loading === 0) {\n        console.debug(\"Bokeh: all BokehJS libraries/stylesheets loaded\");\n        run_callbacks()\n      }\n    }\n\n    function on_error() {\n      console.error(\"failed to load \" + url);\n    }\n\n    for (var i = 0; i < css_urls.length; i++) {\n      var url = css_urls[i];\n      const element = document.createElement(\"link\");\n      element.onload = on_load;\n      element.onerror = on_error;\n      element.rel = \"stylesheet\";\n      element.type = \"text/css\";\n      element.href = url;\n      console.debug(\"Bokeh: injecting link tag for BokehJS stylesheet: \", url);\n      document.body.appendChild(element);\n    }\n\n    const hashes = {\"https://cdn.bokeh.org/bokeh/release/bokeh-2.1.0.min.js\": \"YobFyzPeVUsFQydHkJGsJL1kyfHnWxOlPc3EwaV22TmBaeGoXHLWx5aRRVPS9xlE\", \"https://cdn.bokeh.org/bokeh/release/bokeh-widgets-2.1.0.min.js\": \"NuAg9+TcTQQqvQCTtkCneRrpkTiMhhfiq0KHiBzx8ECiKiLWXHN6i6ia3q7b3eHu\", \"https://cdn.bokeh.org/bokeh/release/bokeh-tables-2.1.0.min.js\": \"uMVqQc8JqHitD67bXTn9a06Mrk3EiHRaZ18EJENQenAKJ/KL71SakdXYomZQpGRr\", \"https://cdn.bokeh.org/bokeh/release/bokeh-gl-2.1.0.min.js\": \"u+eGuEXC8aw0VSCm2mH+b/tQEAitUOYiR1H6SuIVEdUmXsf4vN8m/SmXpmjb7U/X\"};\n\n    for (var i = 0; i < js_urls.length; i++) {\n      var url = js_urls[i];\n      var element = document.createElement('script');\n      element.onload = on_load;\n      element.onerror = on_error;\n      element.async = false;\n      element.src = url;\n      if (url in hashes) {\n        element.crossOrigin = \"anonymous\";\n        element.integrity = \"sha384-\" + hashes[url];\n      }\n      console.debug(\"Bokeh: injecting script tag for BokehJS library: \", url);\n      document.head.appendChild(element);\n    }\n  };\n\n  function inject_raw_css(css) {\n    const element = document.createElement(\"style\");\n    element.appendChild(document.createTextNode(css));\n    document.body.appendChild(element);\n  }\n\n  \n  var js_urls = [\"https://cdn.bokeh.org/bokeh/release/bokeh-2.1.0.min.js\", \"https://cdn.bokeh.org/bokeh/release/bokeh-widgets-2.1.0.min.js\", \"https://cdn.bokeh.org/bokeh/release/bokeh-tables-2.1.0.min.js\", \"https://cdn.bokeh.org/bokeh/release/bokeh-gl-2.1.0.min.js\", \"https://unpkg.com/@holoviz/panel@^0.9.7/dist/panel.min.js\"];\n  var css_urls = [];\n  \n\n  var inline_js = [\n    function(Bokeh) {\n      inject_raw_css(\"table.panel-df {\\n    margin-left: auto;\\n    margin-right: auto;\\n    border: none;\\n    border-collapse: collapse;\\n    border-spacing: 0;\\n    color: black;\\n    font-size: 12px;\\n    table-layout: fixed;\\n    width: 100%;\\n}\\n\\n.panel-df tr, .panel-df th, .panel-df td {\\n    text-align: right;\\n    vertical-align: middle;\\n    padding: 0.5em 0.5em !important;\\n    line-height: normal;\\n    white-space: normal;\\n    max-width: none;\\n    border: none;\\n}\\n\\n.panel-df tbody {\\n    display: table-row-group;\\n    vertical-align: middle;\\n    border-color: inherit;\\n}\\n\\n.panel-df tbody tr:nth-child(odd) {\\n    background: #f5f5f5;\\n}\\n\\n.panel-df thead {\\n    border-bottom: 1px solid black;\\n    vertical-align: bottom;\\n}\\n\\n.panel-df tr:hover {\\n    background: lightblue !important;\\n    cursor: pointer;\\n}\\n\");\n    },\n    function(Bokeh) {\n      inject_raw_css(\".json-formatter-row {\\n  font-family: monospace;\\n}\\n.json-formatter-row,\\n.json-formatter-row a,\\n.json-formatter-row a:hover {\\n  color: black;\\n  text-decoration: none;\\n}\\n.json-formatter-row .json-formatter-row {\\n  margin-left: 1rem;\\n}\\n.json-formatter-row .json-formatter-children.json-formatter-empty {\\n  opacity: 0.5;\\n  margin-left: 1rem;\\n}\\n.json-formatter-row .json-formatter-children.json-formatter-empty:after {\\n  display: none;\\n}\\n.json-formatter-row .json-formatter-children.json-formatter-empty.json-formatter-object:after {\\n  content: \\\"No properties\\\";\\n}\\n.json-formatter-row .json-formatter-children.json-formatter-empty.json-formatter-array:after {\\n  content: \\\"[]\\\";\\n}\\n.json-formatter-row .json-formatter-string,\\n.json-formatter-row .json-formatter-stringifiable {\\n  color: green;\\n  white-space: pre;\\n  word-wrap: break-word;\\n}\\n.json-formatter-row .json-formatter-number {\\n  color: blue;\\n}\\n.json-formatter-row .json-formatter-boolean {\\n  color: red;\\n}\\n.json-formatter-row .json-formatter-null {\\n  color: #855A00;\\n}\\n.json-formatter-row .json-formatter-undefined {\\n  color: #ca0b69;\\n}\\n.json-formatter-row .json-formatter-function {\\n  color: #FF20ED;\\n}\\n.json-formatter-row .json-formatter-date {\\n  background-color: rgba(0, 0, 0, 0.05);\\n}\\n.json-formatter-row .json-formatter-url {\\n  text-decoration: underline;\\n  color: blue;\\n  cursor: pointer;\\n}\\n.json-formatter-row .json-formatter-bracket {\\n  color: blue;\\n}\\n.json-formatter-row .json-formatter-key {\\n  color: #00008B;\\n  padding-right: 0.2rem;\\n}\\n.json-formatter-row .json-formatter-toggler-link {\\n  cursor: pointer;\\n}\\n.json-formatter-row .json-formatter-toggler {\\n  line-height: 1.2rem;\\n  font-size: 0.7rem;\\n  vertical-align: middle;\\n  opacity: 0.6;\\n  cursor: pointer;\\n  padding-right: 0.2rem;\\n}\\n.json-formatter-row .json-formatter-toggler:after {\\n  display: inline-block;\\n  transition: transform 100ms ease-in;\\n  content: \\\"\\\\25BA\\\";\\n}\\n.json-formatter-row > a > .json-formatter-preview-text {\\n  opacity: 0;\\n  transition: opacity 0.15s ease-in;\\n  font-style: italic;\\n}\\n.json-formatter-row:hover > a > .json-formatter-preview-text {\\n  opacity: 0.6;\\n}\\n.json-formatter-row.json-formatter-open > .json-formatter-toggler-link .json-formatter-toggler:after {\\n  transform: rotate(90deg);\\n}\\n.json-formatter-row.json-formatter-open > .json-formatter-children:after {\\n  display: inline-block;\\n}\\n.json-formatter-row.json-formatter-open > a > .json-formatter-preview-text {\\n  display: none;\\n}\\n.json-formatter-row.json-formatter-open.json-formatter-empty:after {\\n  display: block;\\n}\\n.json-formatter-dark.json-formatter-row {\\n  font-family: monospace;\\n}\\n.json-formatter-dark.json-formatter-row,\\n.json-formatter-dark.json-formatter-row a,\\n.json-formatter-dark.json-formatter-row a:hover {\\n  color: white;\\n  text-decoration: none;\\n}\\n.json-formatter-dark.json-formatter-row .json-formatter-row {\\n  margin-left: 1rem;\\n}\\n.json-formatter-dark.json-formatter-row .json-formatter-children.json-formatter-empty {\\n  opacity: 0.5;\\n  margin-left: 1rem;\\n}\\n.json-formatter-dark.json-formatter-row .json-formatter-children.json-formatter-empty:after {\\n  display: none;\\n}\\n.json-formatter-dark.json-formatter-row .json-formatter-children.json-formatter-empty.json-formatter-object:after {\\n  content: \\\"No properties\\\";\\n}\\n.json-formatter-dark.json-formatter-row .json-formatter-children.json-formatter-empty.json-formatter-array:after {\\n  content: \\\"[]\\\";\\n}\\n.json-formatter-dark.json-formatter-row .json-formatter-string,\\n.json-formatter-dark.json-formatter-row .json-formatter-stringifiable {\\n  color: #31F031;\\n  white-space: pre;\\n  word-wrap: break-word;\\n}\\n.json-formatter-dark.json-formatter-row .json-formatter-number {\\n  color: #66C2FF;\\n}\\n.json-formatter-dark.json-formatter-row .json-formatter-boolean {\\n  color: #EC4242;\\n}\\n.json-formatter-dark.json-formatter-row .json-formatter-null {\\n  color: #EEC97D;\\n}\\n.json-formatter-dark.json-formatter-row .json-formatter-undefined {\\n  color: #ef8fbe;\\n}\\n.json-formatter-dark.json-formatter-row .json-formatter-function {\\n  color: #FD48CB;\\n}\\n.json-formatter-dark.json-formatter-row .json-formatter-date {\\n  background-color: rgba(255, 255, 255, 0.05);\\n}\\n.json-formatter-dark.json-formatter-row .json-formatter-url {\\n  text-decoration: underline;\\n  color: #027BFF;\\n  cursor: pointer;\\n}\\n.json-formatter-dark.json-formatter-row .json-formatter-bracket {\\n  color: #9494FF;\\n}\\n.json-formatter-dark.json-formatter-row .json-formatter-key {\\n  color: #23A0DB;\\n  padding-right: 0.2rem;\\n}\\n.json-formatter-dark.json-formatter-row .json-formatter-toggler-link {\\n  cursor: pointer;\\n}\\n.json-formatter-dark.json-formatter-row .json-formatter-toggler {\\n  line-height: 1.2rem;\\n  font-size: 0.7rem;\\n  vertical-align: middle;\\n  opacity: 0.6;\\n  cursor: pointer;\\n  padding-right: 0.2rem;\\n}\\n.json-formatter-dark.json-formatter-row .json-formatter-toggler:after {\\n  display: inline-block;\\n  transition: transform 100ms ease-in;\\n  content: \\\"\\\\25BA\\\";\\n}\\n.json-formatter-dark.json-formatter-row > a > .json-formatter-preview-text {\\n  opacity: 0;\\n  transition: opacity 0.15s ease-in;\\n  font-style: italic;\\n}\\n.json-formatter-dark.json-formatter-row:hover > a > .json-formatter-preview-text {\\n  opacity: 0.6;\\n}\\n.json-formatter-dark.json-formatter-row.json-formatter-open > .json-formatter-toggler-link .json-formatter-toggler:after {\\n  transform: rotate(90deg);\\n}\\n.json-formatter-dark.json-formatter-row.json-formatter-open > .json-formatter-children:after {\\n  display: inline-block;\\n}\\n.json-formatter-dark.json-formatter-row.json-formatter-open > a > .json-formatter-preview-text {\\n  display: none;\\n}\\n.json-formatter-dark.json-formatter-row.json-formatter-open.json-formatter-empty:after {\\n  display: block;\\n}\\n\");\n    },\n    function(Bokeh) {\n      inject_raw_css(\".codehilite .hll { background-color: #ffffcc }\\n.codehilite  { background: #f8f8f8; }\\n.codehilite .c { color: #408080; font-style: italic } /* Comment */\\n.codehilite .err { border: 1px solid #FF0000 } /* Error */\\n.codehilite .k { color: #008000; font-weight: bold } /* Keyword */\\n.codehilite .o { color: #666666 } /* Operator */\\n.codehilite .ch { color: #408080; font-style: italic } /* Comment.Hashbang */\\n.codehilite .cm { color: #408080; font-style: italic } /* Comment.Multiline */\\n.codehilite .cp { color: #BC7A00 } /* Comment.Preproc */\\n.codehilite .cpf { color: #408080; font-style: italic } /* Comment.PreprocFile */\\n.codehilite .c1 { color: #408080; font-style: italic } /* Comment.Single */\\n.codehilite .cs { color: #408080; font-style: italic } /* Comment.Special */\\n.codehilite .gd { color: #A00000 } /* Generic.Deleted */\\n.codehilite .ge { font-style: italic } /* Generic.Emph */\\n.codehilite .gr { color: #FF0000 } /* Generic.Error */\\n.codehilite .gh { color: #000080; font-weight: bold } /* Generic.Heading */\\n.codehilite .gi { color: #00A000 } /* Generic.Inserted */\\n.codehilite .go { color: #888888 } /* Generic.Output */\\n.codehilite .gp { color: #000080; font-weight: bold } /* Generic.Prompt */\\n.codehilite .gs { font-weight: bold } /* Generic.Strong */\\n.codehilite .gu { color: #800080; font-weight: bold } /* Generic.Subheading */\\n.codehilite .gt { color: #0044DD } /* Generic.Traceback */\\n.codehilite .kc { color: #008000; font-weight: bold } /* Keyword.Constant */\\n.codehilite .kd { color: #008000; font-weight: bold } /* Keyword.Declaration */\\n.codehilite .kn { color: #008000; font-weight: bold } /* Keyword.Namespace */\\n.codehilite .kp { color: #008000 } /* Keyword.Pseudo */\\n.codehilite .kr { color: #008000; font-weight: bold } /* Keyword.Reserved */\\n.codehilite .kt { color: #B00040 } /* Keyword.Type */\\n.codehilite .m { color: #666666 } /* Literal.Number */\\n.codehilite .s { color: #BA2121 } /* Literal.String */\\n.codehilite .na { color: #7D9029 } /* Name.Attribute */\\n.codehilite .nb { color: #008000 } /* Name.Builtin */\\n.codehilite .nc { color: #0000FF; font-weight: bold } /* Name.Class */\\n.codehilite .no { color: #880000 } /* Name.Constant */\\n.codehilite .nd { color: #AA22FF } /* Name.Decorator */\\n.codehilite .ni { color: #999999; font-weight: bold } /* Name.Entity */\\n.codehilite .ne { color: #D2413A; font-weight: bold } /* Name.Exception */\\n.codehilite .nf { color: #0000FF } /* Name.Function */\\n.codehilite .nl { color: #A0A000 } /* Name.Label */\\n.codehilite .nn { color: #0000FF; font-weight: bold } /* Name.Namespace */\\n.codehilite .nt { color: #008000; font-weight: bold } /* Name.Tag */\\n.codehilite .nv { color: #19177C } /* Name.Variable */\\n.codehilite .ow { color: #AA22FF; font-weight: bold } /* Operator.Word */\\n.codehilite .w { color: #bbbbbb } /* Text.Whitespace */\\n.codehilite .mb { color: #666666 } /* Literal.Number.Bin */\\n.codehilite .mf { color: #666666 } /* Literal.Number.Float */\\n.codehilite .mh { color: #666666 } /* Literal.Number.Hex */\\n.codehilite .mi { color: #666666 } /* Literal.Number.Integer */\\n.codehilite .mo { color: #666666 } /* Literal.Number.Oct */\\n.codehilite .sa { color: #BA2121 } /* Literal.String.Affix */\\n.codehilite .sb { color: #BA2121 } /* Literal.String.Backtick */\\n.codehilite .sc { color: #BA2121 } /* Literal.String.Char */\\n.codehilite .dl { color: #BA2121 } /* Literal.String.Delimiter */\\n.codehilite .sd { color: #BA2121; font-style: italic } /* Literal.String.Doc */\\n.codehilite .s2 { color: #BA2121 } /* Literal.String.Double */\\n.codehilite .se { color: #BB6622; font-weight: bold } /* Literal.String.Escape */\\n.codehilite .sh { color: #BA2121 } /* Literal.String.Heredoc */\\n.codehilite .si { color: #BB6688; font-weight: bold } /* Literal.String.Interpol */\\n.codehilite .sx { color: #008000 } /* Literal.String.Other */\\n.codehilite .sr { color: #BB6688 } /* Literal.String.Regex */\\n.codehilite .s1 { color: #BA2121 } /* Literal.String.Single */\\n.codehilite .ss { color: #19177C } /* Literal.String.Symbol */\\n.codehilite .bp { color: #008000 } /* Name.Builtin.Pseudo */\\n.codehilite .fm { color: #0000FF } /* Name.Function.Magic */\\n.codehilite .vc { color: #19177C } /* Name.Variable.Class */\\n.codehilite .vg { color: #19177C } /* Name.Variable.Global */\\n.codehilite .vi { color: #19177C } /* Name.Variable.Instance */\\n.codehilite .vm { color: #19177C } /* Name.Variable.Magic */\\n.codehilite .il { color: #666666 } /* Literal.Number.Integer.Long */\\n\\n.markdown h1 { margin-block-start: 0.34em }\\n.markdown h2 { margin-block-start: 0.42em }\\n.markdown h3 { margin-block-start: 0.5em }\\n.markdown h4 { margin-block-start: 0.67em }\\n.markdown h5 { margin-block-start: 0.84em }\\n.markdown h6 { margin-block-start: 1.17em }\\n.markdown ul { padding-inline-start: 2em }\\n.markdown ol { padding-inline-start: 2em }\\n.markdown strong { font-weight: 600 }\\n.markdown a { color: -webkit-link }\\n.markdown a { color: -moz-hyperlinkText }\\n\");\n    },\n    function(Bokeh) {\n      inject_raw_css(\".panel-widget-box {\\n\\tmin-height: 20px;\\n\\tbackground-color: #f5f5f5;\\n\\tborder: 1px solid #e3e3e3 !important;\\n\\tborder-radius: 4px;\\n\\t-webkit-box-shadow: inset 0 1px 1px rgba(0,0,0,.05);\\n\\tbox-shadow: inset 0 1px 1px rgba(0,0,0,.05);\\n\\toverflow-x: hidden;\\n\\toverflow-y: hidden;\\n}\\n\\n.scrollable {\\n  overflow: scroll;\\n}\\n\\nprogress {\\n\\tappearance: none;\\n\\t-moz-appearance: none;\\n\\t-webkit-appearance: none;\\n\\n\\tborder: none;\\n\\theight: 20px;\\n\\tbackground-color: whiteSmoke;\\n\\tborder-radius: 3px;\\n\\tbox-shadow: 0 2px 3px rgba(0,0,0,.5) inset;\\n\\tcolor: royalblue;\\n\\tposition: relative;\\n\\tmargin: 0 0 1.5em;\\n}\\n\\nprogress[value]::-webkit-progress-bar {\\n\\tbackground-color: whiteSmoke;\\n\\tborder-radius: 3px;\\n\\tbox-shadow: 0 2px 3px rgba(0,0,0,.5) inset;\\n}\\n\\nprogress[value]::-webkit-progress-value {\\n\\tposition: relative;\\n\\n\\tbackground-size: 35px 20px, 100% 100%, 100% 100%;\\n\\tborder-radius:3px;\\n}\\n\\nprogress.active:not([value])::before {\\n\\tbackground-position: 10%;\\n\\tanimation-name: stripes;\\n\\tanimation-duration: 3s;\\n\\tanimation-timing-function: linear;\\n\\tanimation-iteration-count: infinite;\\n}\\n\\nprogress[value]::-moz-progress-bar {\\n\\tbackground-size: 35px 20px, 100% 100%, 100% 100%;\\n\\tborder-radius:3px;\\n}\\n\\nprogress:not([value])::-moz-progress-bar {\\n\\tborder-radius:3px;\\n\\tbackground:\\n\\tlinear-gradient(-45deg, transparent 33%, rgba(0, 0, 0, 0.2) 33%, rgba(0, 0, 0, 0.2) 66%, transparent 66%) left/2.5em 1.5em;\\n\\n}\\n\\nprogress.active:not([value])::-moz-progress-bar {\\n\\tbackground-position: 10%;\\n\\tanimation-name: stripes;\\n\\tanimation-duration: 3s;\\n\\tanimation-timing-function: linear;\\n\\tanimation-iteration-count: infinite;\\n}\\n\\nprogress.active:not([value])::-webkit-progress-bar {\\n\\tbackground-position: 10%;\\n\\tanimation-name: stripes;\\n\\tanimation-duration: 3s;\\n\\tanimation-timing-function: linear;\\n\\tanimation-iteration-count: infinite;\\n}\\n\\nprogress.primary[value]::-webkit-progress-value { background-color: #007bff; }\\nprogress.primary:not([value])::before { background-color: #007bff; }\\nprogress.primary:not([value])::-webkit-progress-bar { background-color: #007bff; }\\nprogress.primary::-moz-progress-bar { background-color: #007bff; }\\n\\nprogress.secondary[value]::-webkit-progress-value { background-color: #6c757d; }\\nprogress.secondary:not([value])::before { background-color: #6c757d; }\\nprogress.secondary:not([value])::-webkit-progress-bar { background-color: #6c757d; }\\nprogress.secondary::-moz-progress-bar { background-color: #6c757d; }\\n\\nprogress.success[value]::-webkit-progress-value { background-color: #28a745; }\\nprogress.success:not([value])::before { background-color: #28a745; }\\nprogress.success:not([value])::-webkit-progress-bar { background-color: #28a745; }\\nprogress.success::-moz-progress-bar { background-color: #28a745; }\\n\\nprogress.danger[value]::-webkit-progress-value { background-color: #dc3545; }\\nprogress.danger:not([value])::before { background-color: #dc3545; }\\nprogress.danger:not([value])::-webkit-progress-bar { background-color: #dc3545; }\\nprogress.danger::-moz-progress-bar { background-color: #dc3545; }\\n\\nprogress.warning[value]::-webkit-progress-value { background-color: #ffc107; }\\nprogress.warning:not([value])::before { background-color: #ffc107; }\\nprogress.warning:not([value])::-webkit-progress-bar { background-color: #ffc107; }\\nprogress.warning::-moz-progress-bar { background-color: #ffc107; }\\n\\nprogress.info[value]::-webkit-progress-value { background-color: #17a2b8; }\\nprogress.info:not([value])::before { background-color: #17a2b8; }\\nprogress.info:not([value])::-webkit-progress-bar { background-color: #17a2b8; }\\nprogress.info::-moz-progress-bar { background-color: #17a2b8; }\\n\\nprogress.light[value]::-webkit-progress-value { background-color: #f8f9fa; }\\nprogress.light:not([value])::before { background-color: #f8f9fa; }\\nprogress.light:not([value])::-webkit-progress-bar { background-color: #f8f9fa; }\\nprogress.light::-moz-progress-bar { background-color: #f8f9fa; }\\n\\nprogress.dark[value]::-webkit-progress-value { background-color: #343a40; }\\nprogress.dark:not([value])::-webkit-progress-bar { background-color: #343a40; }\\nprogress.dark:not([value])::before { background-color: #343a40; }\\nprogress.dark::-moz-progress-bar { background-color: #343a40; }\\n\\nprogress:not([value])::-webkit-progress-bar {\\n\\tborder-radius: 3px;\\n\\tbackground:\\n\\tlinear-gradient(-45deg, transparent 33%, rgba(0, 0, 0, 0.2) 33%, rgba(0, 0, 0, 0.2) 66%, transparent 66%) left/2.5em 1.5em;\\n}\\nprogress:not([value])::before {\\n\\tcontent:\\\" \\\";\\n\\tposition:absolute;\\n\\theight: 20px;\\n\\ttop:0;\\n\\tleft:0;\\n\\tright:0;\\n\\tbottom:0;\\n\\tborder-radius: 3px;\\n\\tbackground:\\n\\tlinear-gradient(-45deg, transparent 33%, rgba(0, 0, 0, 0.2) 33%, rgba(0, 0, 0, 0.2) 66%, transparent 66%) left/2.5em 1.5em;\\n}\\n\\n@keyframes stripes {\\n  from {background-position: 0%}\\n  to {background-position: 100%}\\n}\\n\");\n    },\n    function(Bokeh) {\n      Bokeh.set_log_level(\"info\");\n    },\n    function(Bokeh) {\n    \n    \n    }\n  ];\n\n  function run_inline_js() {\n    \n    if (root.Bokeh !== undefined || force === true) {\n      \n    for (var i = 0; i < inline_js.length; i++) {\n      inline_js[i].call(root, root.Bokeh);\n    }\n    } else if (Date.now() < root._bokeh_timeout) {\n      setTimeout(run_inline_js, 100);\n    } else if (!root._bokeh_failed_load) {\n      console.log(\"Bokeh: BokehJS failed to load within specified timeout.\");\n      root._bokeh_failed_load = true;\n    } else if (force !== true) {\n      var cell = $(document.getElementById(null)).parents('.cell').data().cell;\n      cell.output_area.append_execute_result(NB_LOAD_WARNING)\n    }\n\n  }\n\n  if (root._bokeh_is_loading === 0) {\n    console.debug(\"Bokeh: BokehJS loaded, going straight to plotting\");\n    run_inline_js();\n  } else {\n    load_libs(css_urls, js_urls, function() {\n      console.debug(\"Bokeh: BokehJS plotting callback run at\", now());\n      run_inline_js();\n    });\n  }\n}(window));"
     },
     "metadata": {},
     "output_type": "display_data"
    }
   ],
   "source": [
    "# Run me if you'd like to install dataprep\n",
    "# !pip install dataprep\n",
    "from dataprep.eda import plot as edaplot\n",
    "from dataprep.eda import plot_correlation\n",
    "from dataprep.eda import plot_missing"
   ]
  },
  {
   "cell_type": "code",
   "execution_count": 12,
   "metadata": {
    "ExecuteTime": {
     "end_time": "2020-07-08T06:02:57.711255Z",
     "start_time": "2020-07-08T06:02:55.865856Z"
    }
   },
   "outputs": [
    {
     "data": {
      "text/html": [
       "\n",
       "\n",
       "\n",
       "    \n",
       "    \n",
       "        \n",
       "        \n",
       "        \n",
       "            <div class=\"bk-root\" id=\"7ff15b67-6150-4989-ad41-32f67591d5c1\" data-root-id=\"1561\"></div>\n",
       "        \n",
       "        \n",
       "    \n",
       "    \n",
       "    \n",
       "        <script type=\"application/json\" id=\"2552\">\n",
       "          {\"5e82fb1e-155f-4d6f-9582-bd03ee8ca3d1\":{\"roots\":{\"references\":[{\"attributes\":{},\"id\":\"1493\",\"type\":\"Selection\"},{\"attributes\":{\"active_drag\":\"auto\",\"active_inspect\":\"auto\",\"active_multi\":null,\"active_scroll\":\"auto\",\"active_tap\":\"auto\",\"tools\":[{\"id\":\"1077\"}]},\"id\":\"1078\",\"type\":\"Toolbar\"},{\"attributes\":{},\"id\":\"1368\",\"type\":\"DataRange1d\"},{\"attributes\":{},\"id\":\"1499\",\"type\":\"UnionRenderers\"},{\"attributes\":{},\"id\":\"1457\",\"type\":\"UnionRenderers\"},{\"attributes\":{\"formatter\":{\"id\":\"1491\"},\"major_label_overrides\":{\"0\":\"0\",\"12\":\"12\",\"18\":\"18\",\"24\":\"24\",\"6\":\"6\"},\"major_label_standoff\":7,\"major_label_text_font_size\":\"10pt\",\"major_tick_line_color\":null,\"minor_tick_line_color\":\"white\",\"ticker\":{\"id\":\"1177\"}},\"id\":\"1159\",\"type\":\"LinearAxis\"},{\"attributes\":{\"source\":{\"id\":\"1168\"}},\"id\":\"1173\",\"type\":\"CDSView\"},{\"attributes\":{\"axis\":{\"id\":\"1159\"},\"grid_line_color\":null,\"ticker\":{\"id\":\"1176\"}},\"id\":\"1162\",\"type\":\"Grid\"},{\"attributes\":{\"text\":\"listed_count\",\"text_font_size\":{\"value\":\"10pt\"}},\"id\":\"1364\",\"type\":\"Title\"},{\"attributes\":{\"axis_label\":\"Top 10 of 473 name\",\"axis_label_standoff\":0,\"formatter\":{\"id\":\"1028\"},\"major_label_orientation\":1.0471975511965976,\"major_label_text_font_size\":\"9pt\",\"minor_tick_line_color\":\"white\",\"ticker\":{\"id\":\"1013\"}},\"id\":\"1012\",\"type\":\"CategoricalAxis\"},{\"attributes\":{},\"id\":\"1497\",\"type\":\"BasicTickFormatter\"},{\"attributes\":{},\"id\":\"1366\",\"type\":\"DataRange1d\"},{\"attributes\":{},\"id\":\"1500\",\"type\":\"Selection\"},{\"attributes\":{},\"id\":\"1498\",\"type\":\"BasicTickFormatter\"},{\"attributes\":{},\"id\":\"1506\",\"type\":\"UnionRenderers\"},{\"attributes\":{\"bottom\":{\"value\":0.01},\"fill_color\":{\"value\":\"#1f77b4\"},\"line_color\":{\"value\":\"#1f77b4\"},\"top\":{\"field\":\"cnt\"},\"width\":{\"value\":0.9},\"x\":{\"field\":\"col\"}},\"id\":\"1111\",\"type\":\"VBar\"},{\"attributes\":{},\"id\":\"1504\",\"type\":\"BasicTickFormatter\"},{\"attributes\":{\"ticks\":[0,4000,8000,12000,16000]},\"id\":\"1360\",\"type\":\"FixedTicker\"},{\"attributes\":{},\"id\":\"1507\",\"type\":\"Selection\"},{\"attributes\":{},\"id\":\"1505\",\"type\":\"BasicTickFormatter\"},{\"attributes\":{\"ticks\":[0,4000,8000,12000,16000]},\"id\":\"1361\",\"type\":\"FixedTicker\"},{\"attributes\":{},\"id\":\"1372\",\"type\":\"LinearScale\"},{\"attributes\":{},\"id\":\"1513\",\"type\":\"UnionRenderers\"},{\"attributes\":{},\"id\":\"1068\",\"type\":\"LinearScale\"},{\"attributes\":{},\"id\":\"1370\",\"type\":\"LinearScale\"},{\"attributes\":{},\"id\":\"1511\",\"type\":\"BasicTickFormatter\"},{\"attributes\":{\"active_drag\":\"auto\",\"active_inspect\":\"auto\",\"active_multi\":null,\"active_scroll\":\"auto\",\"active_tap\":\"auto\",\"tools\":[{\"id\":\"1267\"}]},\"id\":\"1260\",\"type\":\"Toolbar\"},{\"attributes\":{},\"id\":\"1514\",\"type\":\"Selection\"},{\"attributes\":{\"formatter\":{\"id\":\"1540\"},\"major_label_overrides\":{\"0\":\"0\",\"1000\":\"1000\",\"2000\":\"2000\",\"3000\":\"3000\",\"4000\":\"4000\"},\"major_label_standoff\":7,\"major_label_text_font_size\":\"10pt\",\"major_tick_line_color\":null,\"minor_tick_line_color\":\"white\",\"ticker\":{\"id\":\"1392\"}},\"id\":\"1374\",\"type\":\"LinearAxis\"},{\"attributes\":{},\"id\":\"1512\",\"type\":\"BasicTickFormatter\"},{\"attributes\":{\"bottom\":{\"value\":0.01},\"fill_color\":{\"value\":\"#1f77b4\"},\"line_color\":{\"value\":\"#1f77b4\"},\"top\":{\"field\":\"cnt\"},\"width\":{\"value\":0.9},\"x\":{\"field\":\"col\"}},\"id\":\"1446\",\"type\":\"VBar\"},{\"attributes\":{},\"id\":\"1064\",\"type\":\"DataRange1d\"},{\"attributes\":{\"axis_label\":\"Frequency\",\"formatter\":{\"id\":\"1539\"},\"major_label_text_font_size\":\"0pt\",\"major_tick_line_color\":null,\"minor_tick_line_color\":\"white\",\"ticker\":{\"id\":\"1379\"}},\"id\":\"1378\",\"type\":\"LinearAxis\"},{\"attributes\":{},\"id\":\"1521\",\"type\":\"Selection\"},{\"attributes\":{},\"id\":\"1527\",\"type\":\"UnionRenderers\"},{\"attributes\":{},\"id\":\"1035\",\"type\":\"DataRange1d\"},{\"attributes\":{\"axis\":{\"id\":\"1374\"},\"grid_line_color\":null,\"ticker\":{\"id\":\"1391\"}},\"id\":\"1377\",\"type\":\"Grid\"},{\"attributes\":{},\"id\":\"1066\",\"type\":\"CategoricalScale\"},{\"attributes\":{},\"id\":\"1520\",\"type\":\"UnionRenderers\"},{\"attributes\":{},\"id\":\"1379\",\"type\":\"BasicTicker\"},{\"attributes\":{\"active_drag\":\"auto\",\"active_inspect\":\"auto\",\"active_multi\":null,\"active_scroll\":\"auto\",\"active_tap\":\"auto\",\"tools\":[{\"id\":\"1389\"}]},\"id\":\"1382\",\"type\":\"Toolbar\"},{\"attributes\":{},\"id\":\"1525\",\"type\":\"BasicTickFormatter\"},{\"attributes\":{},\"id\":\"1528\",\"type\":\"Selection\"},{\"attributes\":{},\"id\":\"1526\",\"type\":\"BasicTickFormatter\"},{\"attributes\":{\"callback\":null,\"mode\":\"vline\",\"tooltips\":[[\"Bin\",\"@intvls\"],[\"Frequency\",\"@freq\"],[\"Percent\",\"@pct{0.2f}%\"]]},\"id\":\"1389\",\"type\":\"HoverTool\"},{\"attributes\":{},\"id\":\"1534\",\"type\":\"UnionRenderers\"},{\"attributes\":{\"axis\":{\"id\":\"1378\"},\"dimension\":1,\"grid_line_color\":null,\"ticker\":null},\"id\":\"1381\",\"type\":\"Grid\"},{\"attributes\":{\"code\":\"\\n            if (tick.length &gt; 15) return tick.substring(0, 15-2) + '...';\\n            else return tick;\\n        \"},\"id\":\"1028\",\"type\":\"FuncTickFormatter\"},{\"attributes\":{\"data\":{\"cnt\":[349,129],\"col\":[\"True\",\"False\"],\"index\":[0,1],\"pct\":{\"__ndarray__\":\"XtgqqM1AUkCHnlRfyfw6QA==\",\"dtype\":\"float64\",\"order\":\"little\",\"shape\":[2]}},\"selected\":{\"id\":\"1556\"},\"selection_policy\":{\"id\":\"1555\"}},\"id\":\"1444\",\"type\":\"ColumnDataSource\"},{\"attributes\":{},\"id\":\"1532\",\"type\":\"BasicTickFormatter\"},{\"attributes\":{},\"id\":\"1006\",\"type\":\"DataRange1d\"},{\"attributes\":{},\"id\":\"1484\",\"type\":\"BasicTickFormatter\"},{\"attributes\":{},\"id\":\"1535\",\"type\":\"Selection\"},{\"attributes\":{},\"id\":\"1533\",\"type\":\"BasicTickFormatter\"},{\"attributes\":{\"bottom\":{\"value\":0.01},\"fill_alpha\":{\"value\":0.1},\"fill_color\":{\"value\":\"#1f77b4\"},\"line_alpha\":{\"value\":0.1},\"line_color\":{\"value\":\"#1f77b4\"},\"top\":{\"field\":\"cnt\"},\"width\":{\"value\":0.9},\"x\":{\"field\":\"col\"}},\"id\":\"1447\",\"type\":\"VBar\"},{\"attributes\":{},\"id\":\"1541\",\"type\":\"UnionRenderers\"},{\"attributes\":{\"axis_label\":\"Top 10 of 14 city\",\"axis_label_standoff\":0,\"formatter\":{\"id\":\"1086\"},\"major_label_orientation\":1.0471975511965976,\"major_label_text_font_size\":\"9pt\",\"minor_tick_line_color\":\"white\",\"ticker\":{\"id\":\"1071\"}},\"id\":\"1070\",\"type\":\"CategoricalAxis\"},{\"attributes\":{\"bottom\":{\"value\":0},\"fill_alpha\":{\"value\":0.5},\"fill_color\":{\"value\":\"#6baed6\"},\"left\":{\"field\":\"left\"},\"line_alpha\":{\"value\":0.5},\"line_color\":{\"value\":\"#1f77b4\"},\"right\":{\"field\":\"right\"},\"top\":{\"field\":\"freq\"}},\"id\":\"1139\",\"type\":\"Quad\"},{\"attributes\":{\"axis\":{\"id\":\"1437\"},\"dimension\":1,\"grid_line_color\":null,\"ticker\":null},\"id\":\"1440\",\"type\":\"Grid\"},{\"attributes\":{\"data\":{\"freq\":[4,15,32,64,66,112,72,71,23,19],\"index\":[0,1,2,3,4,5,6,7,8,9],\"intvls\":[\"[7.1, 7.34)\",\"[7.34, 7.58)\",\"[7.58, 7.82)\",\"[7.82, 8.06)\",\"[8.06, 8.3)\",\"[8.3, 8.54)\",\"[8.54, 8.78)\",\"[8.78, 9.02)\",\"[9.02, 9.26)\",\"[9.26,9.5]\"],\"left\":{\"__ndarray__\":\"ZmZmZmZmHEBcj8L1KFwdQFK4HoXrUR5ASOF6FK5HH0AfhetRuB4gQJqZmZmZmSBAFK5H4XoUIUCPwvUoXI8hQArXo3A9CiJAhetRuB6FIkA=\",\"dtype\":\"float64\",\"order\":\"little\",\"shape\":[10]},\"pct\":{\"__ndarray__\":\"UJuB6TrH6j+bgek6xxoJQFCbgek6xxpAUJuB6TrHKkArqM3AdJ0rQOZnUYxTbjdAu86xRiIgLkBNyAtbBbUtQKIn1VcyPxNAb+hJ9ZXMD0A=\",\"dtype\":\"float64\",\"order\":\"little\",\"shape\":[10]},\"right\":{\"__ndarray__\":\"XI/C9ShcHUBSuB6F61EeQEjhehSuRx9AH4XrUbgeIECamZmZmZkgQBSuR+F6FCFAj8L1KFyPIUAK16NwPQoiQIXrUbgehSJAAAAAAAAAI0A=\",\"dtype\":\"float64\",\"order\":\"little\",\"shape\":[10]}},\"selected\":{\"id\":\"1507\"},\"selection_policy\":{\"id\":\"1506\"}},\"id\":\"1230\",\"type\":\"ColumnDataSource\"},{\"attributes\":{\"bottom\":{\"value\":0.01},\"fill_alpha\":{\"value\":0.1},\"fill_color\":{\"value\":\"#1f77b4\"},\"line_alpha\":{\"value\":0.1},\"line_color\":{\"value\":\"#1f77b4\"},\"top\":{\"field\":\"cnt\"},\"width\":{\"value\":0.9},\"x\":{\"field\":\"col\"}},\"id\":\"1112\",\"type\":\"VBar\"},{\"attributes\":{},\"id\":\"1539\",\"type\":\"BasicTickFormatter\"},{\"attributes\":{},\"id\":\"1542\",\"type\":\"Selection\"},{\"attributes\":{},\"id\":\"1540\",\"type\":\"BasicTickFormatter\"},{\"attributes\":{},\"id\":\"1485\",\"type\":\"UnionRenderers\"},{\"attributes\":{\"source\":{\"id\":\"1383\"}},\"id\":\"1388\",\"type\":\"CDSView\"},{\"attributes\":{\"callback\":null,\"tooltips\":[[\"has_contact\",\"@col\"],[\"Count\",\"@cnt\"],[\"Percent\",\"@pct{0.2f}%\"]]},\"id\":\"1441\",\"type\":\"HoverTool\"},{\"attributes\":{},\"id\":\"1438\",\"type\":\"BasicTicker\"},{\"attributes\":{},\"id\":\"1549\",\"type\":\"Selection\"},{\"attributes\":{\"bottom\":{\"value\":0},\"fill_alpha\":{\"value\":0.1},\"fill_color\":{\"value\":\"#6baed6\"},\"left\":{\"field\":\"left\"},\"line_alpha\":{\"value\":0.1},\"line_color\":{\"value\":\"#1f77b4\"},\"right\":{\"field\":\"right\"},\"top\":{\"field\":\"freq\"}},\"id\":\"1386\",\"type\":\"Quad\"},{\"attributes\":{},\"id\":\"1546\",\"type\":\"BasicTickFormatter\"},{\"attributes\":{\"data_source\":{\"id\":\"1383\"},\"glyph\":{\"id\":\"1385\"},\"hover_glyph\":null,\"muted_glyph\":null,\"nonselection_glyph\":{\"id\":\"1386\"},\"selection_glyph\":null,\"view\":{\"id\":\"1388\"}},\"id\":\"1387\",\"type\":\"GlyphRenderer\"},{\"attributes\":{\"bottom\":{\"value\":0},\"fill_alpha\":{\"value\":0.5},\"fill_color\":{\"value\":\"#6baed6\"},\"left\":{\"field\":\"left\"},\"line_alpha\":{\"value\":0.5},\"line_color\":{\"value\":\"#1f77b4\"},\"right\":{\"field\":\"right\"},\"top\":{\"field\":\"freq\"}},\"id\":\"1385\",\"type\":\"Quad\"},{\"attributes\":{},\"id\":\"1548\",\"type\":\"UnionRenderers\"},{\"attributes\":{},\"id\":\"1553\",\"type\":\"BasicTickFormatter\"},{\"attributes\":{\"active_drag\":\"auto\",\"active_inspect\":\"auto\",\"active_multi\":null,\"active_scroll\":\"auto\",\"active_tap\":\"auto\",\"tools\":[{\"id\":\"1174\"}]},\"id\":\"1167\",\"type\":\"Toolbar\"},{\"attributes\":{\"callback\":null,\"mode\":\"vline\",\"tooltips\":[[\"Bin\",\"@intvls\"],[\"Frequency\",\"@freq\"],[\"Percent\",\"@pct{0.2f}%\"]]},\"id\":\"1327\",\"type\":\"HoverTool\"},{\"attributes\":{\"axis_label\":\"Count\",\"formatter\":{\"id\":\"1476\"},\"major_label_text_font_size\":\"0pt\",\"major_tick_line_color\":null,\"minor_tick_line_color\":\"white\",\"ticker\":{\"id\":\"1103\"}},\"id\":\"1102\",\"type\":\"LinearAxis\"},{\"attributes\":{\"axis_label\":\"Frequency\",\"formatter\":{\"id\":\"1525\"},\"major_label_text_font_size\":\"0pt\",\"major_tick_line_color\":null,\"minor_tick_line_color\":\"white\",\"ticker\":{\"id\":\"1317\"}},\"id\":\"1316\",\"type\":\"LinearAxis\"},{\"attributes\":{\"bottom\":{\"value\":0},\"fill_alpha\":{\"value\":0.5},\"fill_color\":{\"value\":\"#6baed6\"},\"left\":{\"field\":\"left\"},\"line_alpha\":{\"value\":0.5},\"line_color\":{\"value\":\"#1f77b4\"},\"right\":{\"field\":\"right\"},\"top\":{\"field\":\"freq\"}},\"id\":\"1232\",\"type\":\"Quad\"},{\"attributes\":{\"source\":{\"id\":\"1022\"}},\"id\":\"1027\",\"type\":\"CDSView\"},{\"attributes\":{\"axis\":{\"id\":\"1312\"},\"grid_line_color\":null,\"ticker\":{\"id\":\"1329\"}},\"id\":\"1315\",\"type\":\"Grid\"},{\"attributes\":{\"data\":{\"freq\":[462,9,3,0,1,2,0,0,0,1],\"index\":[0,1,2,3,4,5,6,7,8,9],\"intvls\":[\"[1, 863.5)\",\"[863.5, 1726)\",\"[1726, 2588.5)\",\"[2588.5, 3451)\",\"[3451, 4313.5)\",\"[4313.5, 5176)\",\"[5176, 6038.5)\",\"[6038.5, 6901)\",\"[6901, 7763.5)\",\"[7763.5,8626]\"],\"left\":{\"__ndarray__\":\"AAAAAAAA8D8AAAAAAPyKQAAAAAAA+JpAAAAAAAA5pEAAAAAAAPaqQAAAAACA2bBAAAAAAAA4tEAAAAAAgJa3QAAAAAAA9bpAAAAAAIBTvkA=\",\"dtype\":\"float64\",\"order\":\"little\",\"shape\":[10]},\"pct\":{\"__ndarray__\":\"JvOzKMYpWEC7zrFGIiD+P3w0IS9sFeQ/AAAAAAAAAABQm4HpOsfKP1Cbgek6x9o/AAAAAAAAAAAAAAAAAAAAAAAAAAAAAAAAUJuB6TrHyj8=\",\"dtype\":\"float64\",\"order\":\"little\",\"shape\":[10]},\"right\":{\"__ndarray__\":\"AAAAAAD8ikAAAAAAAPiaQAAAAAAAOaRAAAAAAAD2qkAAAAAAgNmwQAAAAAAAOLRAAAAAAICWt0AAAAAAAPW6QAAAAACAU75AAAAAAADZwEA=\",\"dtype\":\"float64\",\"order\":\"little\",\"shape\":[10]}},\"selected\":{\"id\":\"1500\"},\"selection_policy\":{\"id\":\"1499\"}},\"id\":\"1199\",\"type\":\"ColumnDataSource\"},{\"attributes\":{\"active_drag\":\"auto\",\"active_inspect\":\"auto\",\"active_multi\":null,\"active_scroll\":\"auto\",\"active_tap\":\"auto\",\"tools\":[{\"id\":\"1327\"}]},\"id\":\"1320\",\"type\":\"Toolbar\"},{\"attributes\":{},\"id\":\"1103\",\"type\":\"BasicTicker\"},{\"attributes\":{},\"id\":\"1317\",\"type\":\"BasicTicker\"},{\"attributes\":{\"active_drag\":\"auto\",\"active_inspect\":\"auto\",\"active_multi\":null,\"active_scroll\":\"auto\",\"active_tap\":\"auto\",\"tools\":[{\"id\":\"1019\"}]},\"id\":\"1020\",\"type\":\"Toolbar\"},{\"attributes\":{\"axis\":{\"id\":\"1044\"},\"dimension\":1,\"grid_line_color\":null,\"ticker\":null},\"id\":\"1047\",\"type\":\"Grid\"},{\"attributes\":{},\"id\":\"1246\",\"type\":\"DataRange1d\"},{\"attributes\":{},\"id\":\"1213\",\"type\":\"DataRange1d\"},{\"attributes\":{\"axis\":{\"id\":\"1316\"},\"dimension\":1,\"grid_line_color\":null,\"ticker\":null},\"id\":\"1319\",\"type\":\"Grid\"},{\"attributes\":{\"data\":{\"freq\":[420,34,11,2,5,1,4,0,0,1],\"index\":[0,1,2,3,4,5,6,7,8,9],\"intvls\":[\"[0, 489.4)\",\"[489.4, 978.8)\",\"[978.8, 1468.2)\",\"[1468.2, 1957.6)\",\"[1957.6, 2447)\",\"[2447, 2936.4)\",\"[2936.4, 3425.8)\",\"[3425.8, 3915.2)\",\"[3915.2, 4404.6)\",\"[4404.6,4894]\"],\"left\":{\"__ndarray__\":\"AAAAAAAAAABmZmZmZpZ+QGZmZmZmlo5AzMzMzMzwlkBmZmZmZpaeQAAAAAAAHqNAzMzMzMzwpkCZmZmZmcOqQGZmZmZmlq5AmZmZmZk0sUA=\",\"dtype\":\"float64\",\"order\":\"little\",\"shape\":[10]},\"pct\":{\"__ndarray__\":\"aFGMU273VUAGtRmYrnMcQMcaiYD4aAJAUJuB6TrH2j8SAfHRhLzwP1Cbgek6x8o/UJuB6TrH6j8AAAAAAAAAAAAAAAAAAAAAUJuB6TrHyj8=\",\"dtype\":\"float64\",\"order\":\"little\",\"shape\":[10]},\"right\":{\"__ndarray__\":\"ZmZmZmaWfkBmZmZmZpaOQMzMzMzM8JZAZmZmZmaWnkAAAAAAAB6jQMzMzMzM8KZAmZmZmZnDqkBmZmZmZpauQJmZmZmZNLFAAAAAAAAes0A=\",\"dtype\":\"float64\",\"order\":\"little\",\"shape\":[10]}},\"selected\":{\"id\":\"1542\"},\"selection_policy\":{\"id\":\"1541\"}},\"id\":\"1383\",\"type\":\"ColumnDataSource\"},{\"attributes\":{\"data_source\":{\"id\":\"1199\"},\"glyph\":{\"id\":\"1201\"},\"hover_glyph\":null,\"muted_glyph\":null,\"nonselection_glyph\":{\"id\":\"1202\"},\"selection_glyph\":null,\"view\":{\"id\":\"1204\"}},\"id\":\"1203\",\"type\":\"GlyphRenderer\"},{\"attributes\":{\"source\":{\"id\":\"1352\"}},\"id\":\"1357\",\"type\":\"CDSView\"},{\"attributes\":{\"axis\":{\"id\":\"1099\"},\"grid_line_color\":null,\"ticker\":null},\"id\":\"1101\",\"type\":\"Grid\"},{\"attributes\":{\"active_drag\":\"auto\",\"active_inspect\":\"auto\",\"active_multi\":null,\"active_scroll\":\"auto\",\"active_tap\":\"auto\",\"tools\":[{\"id\":\"1106\"}]},\"id\":\"1107\",\"type\":\"Toolbar\"},{\"attributes\":{\"below\":[{\"id\":\"1312\"}],\"center\":[{\"id\":\"1315\"},{\"id\":\"1319\"}],\"left\":[{\"id\":\"1316\"}],\"plot_height\":300,\"plot_width\":324,\"renderers\":[{\"id\":\"1325\"}],\"title\":{\"id\":\"1302\"},\"toolbar\":{\"id\":\"1320\"},\"toolbar_location\":null,\"x_range\":{\"id\":\"1304\"},\"x_scale\":{\"id\":\"1308\"},\"y_range\":{\"id\":\"1306\"},\"y_scale\":{\"id\":\"1310\"}},\"id\":\"1301\",\"subtype\":\"Figure\",\"type\":\"Plot\"},{\"attributes\":{\"data_source\":{\"id\":\"1022\"},\"glyph\":{\"id\":\"1024\"},\"hover_glyph\":null,\"muted_glyph\":null,\"nonselection_glyph\":{\"id\":\"1025\"},\"selection_glyph\":null,\"view\":{\"id\":\"1027\"}},\"id\":\"1026\",\"type\":\"GlyphRenderer\"},{\"attributes\":{\"source\":{\"id\":\"1199\"}},\"id\":\"1204\",\"type\":\"CDSView\"},{\"attributes\":{\"data_source\":{\"id\":\"1352\"},\"glyph\":{\"id\":\"1354\"},\"hover_glyph\":null,\"muted_glyph\":null,\"nonselection_glyph\":{\"id\":\"1355\"},\"selection_glyph\":null,\"view\":{\"id\":\"1357\"}},\"id\":\"1356\",\"type\":\"GlyphRenderer\"},{\"attributes\":{},\"id\":\"1215\",\"type\":\"DataRange1d\"},{\"attributes\":{},\"id\":\"1008\",\"type\":\"CategoricalScale\"},{\"attributes\":{},\"id\":\"1478\",\"type\":\"UnionRenderers\"},{\"attributes\":{\"bottom\":{\"value\":0},\"fill_alpha\":{\"value\":0.5},\"fill_color\":{\"value\":\"#6baed6\"},\"left\":{\"field\":\"left\"},\"line_alpha\":{\"value\":0.5},\"line_color\":{\"value\":\"#1f77b4\"},\"right\":{\"field\":\"right\"},\"top\":{\"field\":\"freq\"}},\"id\":\"1170\",\"type\":\"Quad\"},{\"attributes\":{\"bottom\":{\"value\":0},\"fill_alpha\":{\"value\":0.5},\"fill_color\":{\"value\":\"#6baed6\"},\"left\":{\"field\":\"left\"},\"line_alpha\":{\"value\":0.5},\"line_color\":{\"value\":\"#1f77b4\"},\"right\":{\"field\":\"right\"},\"top\":{\"field\":\"freq\"}},\"id\":\"1354\",\"type\":\"Quad\"},{\"attributes\":{\"text\":\"rating\",\"text_font_size\":{\"value\":\"10pt\"}},\"id\":\"1211\",\"type\":\"Title\"},{\"attributes\":{},\"id\":\"1037\",\"type\":\"CategoricalScale\"},{\"attributes\":{\"ticks\":[0,2000,4000,6000,8000]},\"id\":\"1207\",\"type\":\"FixedTicker\"},{\"attributes\":{\"below\":[{\"id\":\"1343\"}],\"center\":[{\"id\":\"1346\"},{\"id\":\"1350\"}],\"left\":[{\"id\":\"1347\"}],\"plot_height\":300,\"plot_width\":324,\"renderers\":[{\"id\":\"1356\"}],\"title\":{\"id\":\"1333\"},\"toolbar\":{\"id\":\"1351\"},\"toolbar_location\":null,\"x_range\":{\"id\":\"1335\"},\"x_scale\":{\"id\":\"1339\"},\"y_range\":{\"id\":\"1337\"},\"y_scale\":{\"id\":\"1341\"}},\"id\":\"1332\",\"subtype\":\"Figure\",\"type\":\"Plot\"},{\"attributes\":{\"ticks\":[0,2000,4000,6000,8000]},\"id\":\"1208\",\"type\":\"FixedTicker\"},{\"attributes\":{},\"id\":\"1219\",\"type\":\"LinearScale\"},{\"attributes\":{\"data_source\":{\"id\":\"1109\"},\"glyph\":{\"id\":\"1111\"},\"hover_glyph\":null,\"muted_glyph\":null,\"nonselection_glyph\":{\"id\":\"1112\"},\"selection_glyph\":null,\"view\":{\"id\":\"1114\"}},\"id\":\"1113\",\"type\":\"GlyphRenderer\"},{\"attributes\":{},\"id\":\"1257\",\"type\":\"BasicTicker\"},{\"attributes\":{\"data_source\":{\"id\":\"1321\"},\"glyph\":{\"id\":\"1323\"},\"hover_glyph\":null,\"muted_glyph\":null,\"nonselection_glyph\":{\"id\":\"1324\"},\"selection_glyph\":null,\"view\":{\"id\":\"1326\"}},\"id\":\"1325\",\"type\":\"GlyphRenderer\"},{\"attributes\":{},\"id\":\"1217\",\"type\":\"LinearScale\"},{\"attributes\":{\"bottom\":{\"value\":0.01},\"fill_alpha\":{\"value\":0.1},\"fill_color\":{\"value\":\"#1f77b4\"},\"line_alpha\":{\"value\":0.1},\"line_color\":{\"value\":\"#1f77b4\"},\"top\":{\"field\":\"cnt\"},\"width\":{\"value\":0.9},\"x\":{\"field\":\"col\"}},\"id\":\"1025\",\"type\":\"VBar\"},{\"attributes\":{\"data_source\":{\"id\":\"1051\"},\"glyph\":{\"id\":\"1053\"},\"hover_glyph\":null,\"muted_glyph\":null,\"nonselection_glyph\":{\"id\":\"1054\"},\"selection_glyph\":null,\"view\":{\"id\":\"1056\"}},\"id\":\"1055\",\"type\":\"GlyphRenderer\"},{\"attributes\":{\"ticks\":[41,45,49,53,57]},\"id\":\"1145\",\"type\":\"FixedTicker\"},{\"attributes\":{\"bottom\":{\"value\":0},\"fill_alpha\":{\"value\":0.1},\"fill_color\":{\"value\":\"#6baed6\"},\"left\":{\"field\":\"left\"},\"line_alpha\":{\"value\":0.1},\"line_color\":{\"value\":\"#1f77b4\"},\"right\":{\"field\":\"right\"},\"top\":{\"field\":\"freq\"}},\"id\":\"1355\",\"type\":\"Quad\"},{\"attributes\":{\"formatter\":{\"id\":\"1505\"},\"major_label_overrides\":{\"7.1\":\"7.1\",\"7.6\":\"7.6\",\"8.1\":\"8.1\",\"8.6\":\"8.6\",\"9.1\":\"9.1\"},\"major_label_standoff\":7,\"major_label_text_font_size\":\"10pt\",\"major_tick_line_color\":null,\"minor_tick_line_color\":\"white\",\"ticker\":{\"id\":\"1239\"}},\"id\":\"1221\",\"type\":\"LinearAxis\"},{\"attributes\":{\"ticks\":[41,45,49,53,57]},\"id\":\"1146\",\"type\":\"FixedTicker\"},{\"attributes\":{\"axis_label\":\"Frequency\",\"formatter\":{\"id\":\"1504\"},\"major_label_text_font_size\":\"0pt\",\"major_tick_line_color\":null,\"minor_tick_line_color\":\"white\",\"ticker\":{\"id\":\"1226\"}},\"id\":\"1225\",\"type\":\"LinearAxis\"},{\"attributes\":{},\"id\":\"1335\",\"type\":\"DataRange1d\"},{\"attributes\":{},\"id\":\"1133\",\"type\":\"BasicTicker\"},{\"attributes\":{\"text\":\"rating_count\",\"text_font_size\":{\"value\":\"10pt\"}},\"id\":\"1242\",\"type\":\"Title\"},{\"attributes\":{\"data\":{\"freq\":[459,12,2,1,0,3,0,0,0,1],\"index\":[0,1,2,3,4,5,6,7,8,9],\"intvls\":[\"[2, 975.9)\",\"[975.9, 1949.8)\",\"[1949.8, 2923.7)\",\"[2923.7, 3897.6)\",\"[3897.6, 4871.5)\",\"[4871.5, 5845.4)\",\"[5845.4, 6819.3)\",\"[6819.3, 7793.2)\",\"[7793.2, 8767.1)\",\"[8767.1,9741]\"],\"left\":{\"__ndarray__\":\"AAAAAAAAAEAzMzMzM3+OQDMzMzMzd55AZmZmZmbXpkAzMzMzM3OuQAAAAACAB7NAZmZmZmbVtkDNzMzMTKO6QDMzMzMzcb5AzczMzIwfwUA=\",\"dtype\":\"float64\",\"order\":\"little\",\"shape\":[10]},\"pct\":{\"__ndarray__\":\"vLBVUJsBWEB8NCEvbBUEQFCbgek6x9o/UJuB6TrHyj8AAAAAAAAAAHw0IS9sFeQ/AAAAAAAAAAAAAAAAAAAAAAAAAAAAAAAAUJuB6TrHyj8=\",\"dtype\":\"float64\",\"order\":\"little\",\"shape\":[10]},\"right\":{\"__ndarray__\":\"MzMzMzN/jkAzMzMzM3eeQGZmZmZm16ZAMzMzMzNzrkAAAAAAgAezQGZmZmZm1bZAzczMzEyjukAzMzMzM3G+QM3MzMyMH8FAAAAAAIAGw0A=\",\"dtype\":\"float64\",\"order\":\"little\",\"shape\":[10]}},\"selected\":{\"id\":\"1514\"},\"selection_policy\":{\"id\":\"1513\"}},\"id\":\"1261\",\"type\":\"ColumnDataSource\"},{\"attributes\":{\"source\":{\"id\":\"1321\"}},\"id\":\"1326\",\"type\":\"CDSView\"},{\"attributes\":{},\"id\":\"1157\",\"type\":\"LinearScale\"},{\"attributes\":{\"bottom\":{\"value\":0.01},\"fill_alpha\":{\"value\":0.1},\"fill_color\":{\"value\":\"#1f77b4\"},\"line_alpha\":{\"value\":0.1},\"line_color\":{\"value\":\"#1f77b4\"},\"top\":{\"field\":\"cnt\"},\"width\":{\"value\":0.9},\"x\":{\"field\":\"col\"}},\"id\":\"1054\",\"type\":\"VBar\"},{\"attributes\":{\"axis\":{\"id\":\"1221\"},\"grid_line_color\":null,\"ticker\":{\"id\":\"1238\"}},\"id\":\"1224\",\"type\":\"Grid\"},{\"attributes\":{\"callback\":null,\"tooltips\":[[\"name\",\"@col\"],[\"Count\",\"@cnt\"],[\"Percent\",\"@pct{0.2f}%\"]]},\"id\":\"1019\",\"type\":\"HoverTool\"},{\"attributes\":{\"below\":[{\"id\":\"1252\"}],\"center\":[{\"id\":\"1255\"},{\"id\":\"1259\"}],\"left\":[{\"id\":\"1256\"}],\"plot_height\":300,\"plot_width\":324,\"renderers\":[{\"id\":\"1265\"}],\"title\":{\"id\":\"1242\"},\"toolbar\":{\"id\":\"1260\"},\"toolbar_location\":null,\"x_range\":{\"id\":\"1244\"},\"x_scale\":{\"id\":\"1248\"},\"y_range\":{\"id\":\"1246\"},\"y_scale\":{\"id\":\"1250\"}},\"id\":\"1241\",\"subtype\":\"Figure\",\"type\":\"Plot\"},{\"attributes\":{},\"id\":\"1337\",\"type\":\"DataRange1d\"},{\"attributes\":{\"axis_label\":\"Frequency\",\"formatter\":{\"id\":\"1483\"},\"major_label_text_font_size\":\"0pt\",\"major_tick_line_color\":null,\"minor_tick_line_color\":\"white\",\"ticker\":{\"id\":\"1133\"}},\"id\":\"1132\",\"type\":\"LinearAxis\"},{\"attributes\":{},\"id\":\"1226\",\"type\":\"BasicTicker\"},{\"attributes\":{\"source\":{\"id\":\"1109\"}},\"id\":\"1114\",\"type\":\"CDSView\"},{\"attributes\":{\"height\":280,\"style\":{\"width\":\"100%\"},\"text\":\"\\n    &lt;div style=\\\"display: flex;\\\"&gt;\\n        \\n    &lt;div style=\\\"flex: 50%; margin-right: 6px;\\\"&gt;\\n        &lt;table style=\\\"width: 100%; table-layout: auto;\\\"&gt;\\n            &lt;tbody&gt;&lt;h3 style=\\\"text-align:center;\\\"&gt;Dataset Statistics&lt;/h3&gt;\\n    &lt;tr style=\\\"border-bottom: 1px solid;\\\"&gt;\\n        &lt;th style=\\\"text-align: left\\\"&gt;Number of Variables&lt;/th&gt;\\n        &lt;td style=\\\"text-align: left\\\"&gt;15&lt;/td&gt;\\n    &lt;/tr&gt;\\n    \\n    &lt;tr style=\\\"border-bottom: 1px solid;\\\"&gt;\\n        &lt;th style=\\\"text-align: left\\\"&gt;Number of Observations&lt;/th&gt;\\n        &lt;td style=\\\"text-align: left\\\"&gt;478&lt;/td&gt;\\n    &lt;/tr&gt;\\n    \\n    &lt;tr style=\\\"border-bottom: 1px solid;\\\"&gt;\\n        &lt;th style=\\\"text-align: left\\\"&gt;Missing Cells&lt;/th&gt;\\n        &lt;td style=\\\"text-align: left\\\"&gt;19&lt;/td&gt;\\n    &lt;/tr&gt;\\n    \\n    &lt;tr style=\\\"border-bottom: 1px solid;\\\"&gt;\\n        &lt;th style=\\\"text-align: left\\\"&gt;Missing Cells (%)&lt;/th&gt;\\n        &lt;td style=\\\"text-align: left\\\"&gt;0.3%&lt;/td&gt;\\n    &lt;/tr&gt;\\n    \\n    &lt;tr style=\\\"border-bottom: 1px solid;\\\"&gt;\\n        &lt;th style=\\\"text-align: left\\\"&gt;Duplicate Rows&lt;/th&gt;\\n        &lt;td style=\\\"text-align: left\\\"&gt;0&lt;/td&gt;\\n    &lt;/tr&gt;\\n    \\n    &lt;tr style=\\\"border-bottom: 1px solid;\\\"&gt;\\n        &lt;th style=\\\"text-align: left\\\"&gt;Duplicate Rows (%)&lt;/th&gt;\\n        &lt;td style=\\\"text-align: left\\\"&gt;0.0%&lt;/td&gt;\\n    &lt;/tr&gt;\\n    \\n    &lt;tr style=\\\"border-bottom: 1px solid;\\\"&gt;\\n        &lt;th style=\\\"text-align: left\\\"&gt;Total Size in Memory&lt;/th&gt;\\n        &lt;td style=\\\"text-align: left\\\"&gt;49.6 KB&lt;/td&gt;\\n    &lt;/tr&gt;\\n    \\n    &lt;tr style=\\\"border-bottom: 1px solid;\\\"&gt;\\n        &lt;th style=\\\"text-align: left\\\"&gt;Average Record Size in Memory&lt;/th&gt;\\n        &lt;td style=\\\"text-align: left\\\"&gt;106.3 B&lt;/td&gt;\\n    &lt;/tr&gt;\\n    &lt;/tbody&gt;\\n        &lt;/table&gt;\\n    &lt;/div&gt;\\n    \\n        \\n    &lt;div style=\\\"flex: 50%; margin-right: 6px;\\\"&gt;\\n        &lt;table style=\\\"width: 100%; table-layout: auto;\\\"&gt;\\n            &lt;tbody&gt;&lt;h3 style=\\\"text-align:center;\\\"&gt;Variable Types&lt;/h3&gt;\\n    &lt;tr style=\\\"border-bottom: 1px solid;\\\"&gt;\\n        &lt;th style=\\\"text-align: left\\\"&gt;Categorical&lt;/th&gt;\\n        &lt;td style=\\\"text-align: left\\\"&gt;7&lt;/td&gt;\\n    &lt;/tr&gt;\\n    \\n    &lt;tr style=\\\"border-bottom: 1px solid;\\\"&gt;\\n        &lt;th style=\\\"text-align: left\\\"&gt;Numerical&lt;/th&gt;\\n        &lt;td style=\\\"text-align: left\\\"&gt;8&lt;/td&gt;\\n    &lt;/tr&gt;\\n    &lt;/tbody&gt;\\n        &lt;/table&gt;\\n    &lt;/div&gt;\\n    \\n    &lt;/div&gt;\\n    &lt;hr&gt;\\n    \",\"visible\":false,\"width\":972},\"id\":\"1452\",\"type\":\"Div\"},{\"attributes\":{},\"id\":\"1155\",\"type\":\"LinearScale\"},{\"attributes\":{\"active_drag\":\"auto\",\"active_inspect\":\"auto\",\"active_multi\":null,\"active_scroll\":\"auto\",\"active_tap\":\"auto\",\"tools\":[{\"id\":\"1236\"}]},\"id\":\"1229\",\"type\":\"Toolbar\"},{\"attributes\":{\"callback\":null,\"tooltips\":[[\"category\",\"@col\"],[\"Count\",\"@cnt\"],[\"Percent\",\"@pct{0.2f}%\"]]},\"id\":\"1048\",\"type\":\"HoverTool\"},{\"attributes\":{\"bottom\":{\"value\":0},\"fill_alpha\":{\"value\":0.1},\"fill_color\":{\"value\":\"#6baed6\"},\"left\":{\"field\":\"left\"},\"line_alpha\":{\"value\":0.1},\"line_color\":{\"value\":\"#1f77b4\"},\"right\":{\"field\":\"right\"},\"top\":{\"field\":\"freq\"}},\"id\":\"1324\",\"type\":\"Quad\"},{\"attributes\":{\"callback\":null,\"mode\":\"vline\",\"tooltips\":[[\"Bin\",\"@intvls\"],[\"Frequency\",\"@freq\"],[\"Percent\",\"@pct{0.2f}%\"]]},\"id\":\"1236\",\"type\":\"HoverTool\"},{\"attributes\":{\"bottom\":{\"value\":0.01},\"fill_color\":{\"value\":\"#1f77b4\"},\"line_color\":{\"value\":\"#1f77b4\"},\"top\":{\"field\":\"cnt\"},\"width\":{\"value\":0.9},\"x\":{\"field\":\"col\"}},\"id\":\"1082\",\"type\":\"VBar\"},{\"attributes\":{\"callback\":null,\"mode\":\"vline\",\"tooltips\":[[\"Bin\",\"@intvls\"],[\"Frequency\",\"@freq\"],[\"Percent\",\"@pct{0.2f}%\"]]},\"id\":\"1267\",\"type\":\"HoverTool\"},{\"attributes\":{\"text\":\"photos_count\",\"text_font_size\":{\"value\":\"10pt\"}},\"id\":\"1333\",\"type\":\"Title\"},{\"attributes\":{\"axis\":{\"id\":\"1225\"},\"dimension\":1,\"grid_line_color\":null,\"ticker\":null},\"id\":\"1228\",\"type\":\"Grid\"},{\"attributes\":{},\"id\":\"1153\",\"type\":\"DataRange1d\"},{\"attributes\":{\"ticks\":[0,200,400,600,800]},\"id\":\"1329\",\"type\":\"FixedTicker\"},{\"attributes\":{\"bottom\":{\"value\":0},\"fill_alpha\":{\"value\":0.1},\"fill_color\":{\"value\":\"#6baed6\"},\"left\":{\"field\":\"left\"},\"line_alpha\":{\"value\":0.1},\"line_color\":{\"value\":\"#1f77b4\"},\"right\":{\"field\":\"right\"},\"top\":{\"field\":\"freq\"}},\"id\":\"1233\",\"type\":\"Quad\"},{\"attributes\":{\"ticks\":[0,200,400,600,800]},\"id\":\"1330\",\"type\":\"FixedTicker\"},{\"attributes\":{},\"id\":\"1483\",\"type\":\"BasicTickFormatter\"},{\"attributes\":{},\"id\":\"1248\",\"type\":\"LinearScale\"},{\"attributes\":{\"callback\":null,\"tooltips\":[[\"country\",\"@col\"],[\"Count\",\"@cnt\"],[\"Percent\",\"@pct{0.2f}%\"]]},\"id\":\"1106\",\"type\":\"HoverTool\"},{\"attributes\":{},\"id\":\"1250\",\"type\":\"LinearScale\"},{\"attributes\":{\"below\":[{\"id\":\"1374\"}],\"center\":[{\"id\":\"1377\"},{\"id\":\"1381\"}],\"left\":[{\"id\":\"1378\"}],\"plot_height\":300,\"plot_width\":324,\"renderers\":[{\"id\":\"1387\"}],\"title\":{\"id\":\"1364\"},\"toolbar\":{\"id\":\"1382\"},\"toolbar_location\":null,\"x_range\":{\"id\":\"1366\"},\"x_scale\":{\"id\":\"1370\"},\"y_range\":{\"id\":\"1368\"},\"y_scale\":{\"id\":\"1372\"}},\"id\":\"1363\",\"subtype\":\"Figure\",\"type\":\"Plot\"},{\"attributes\":{\"formatter\":{\"id\":\"1512\"},\"major_label_overrides\":{\"0\":\"0\",\"2000\":\"2000\",\"4000\":\"4000\",\"6000\":\"6000\",\"8000\":\"8000\"},\"major_label_standoff\":7,\"major_label_text_font_size\":\"10pt\",\"major_tick_line_color\":null,\"minor_tick_line_color\":\"white\",\"ticker\":{\"id\":\"1270\"}},\"id\":\"1252\",\"type\":\"LinearAxis\"},{\"attributes\":{\"active_drag\":\"auto\",\"active_inspect\":\"auto\",\"active_multi\":null,\"active_scroll\":\"auto\",\"active_tap\":\"auto\",\"tools\":[{\"id\":\"1048\"}]},\"id\":\"1049\",\"type\":\"Toolbar\"},{\"attributes\":{\"axis\":{\"id\":\"1102\"},\"dimension\":1,\"grid_line_color\":null,\"ticker\":null},\"id\":\"1105\",\"type\":\"Grid\"},{\"attributes\":{},\"id\":\"1339\",\"type\":\"LinearScale\"},{\"attributes\":{},\"id\":\"1244\",\"type\":\"DataRange1d\"},{\"attributes\":{\"source\":{\"id\":\"1051\"}},\"id\":\"1056\",\"type\":\"CDSView\"},{\"attributes\":{\"source\":{\"id\":\"1137\"}},\"id\":\"1142\",\"type\":\"CDSView\"},{\"attributes\":{},\"id\":\"1479\",\"type\":\"Selection\"},{\"attributes\":{\"data\":{\"freq\":[150,0,49,29,0,100,50,50,0,50],\"index\":[0,1,2,3,4,5,6,7,8,9],\"intvls\":[\"[-0.129, 2.38)\",\"[2.38, 4.889)\",\"[4.889, 7.397)\",\"[7.397, 9.906)\",\"[9.906, 12.415)\",\"[12.415, 14.924)\",\"[14.924, 17.433)\",\"[17.433, 19.941)\",\"[19.941, 22.45)\",\"[22.45,24.959]\"],\"left\":{\"__ndarray__\":\"PyxWnhqDwL+uLm2l1AkDQBDgX3rtjRNAySgJovCWHUDBONnk+c8jQB3drXh71ChAeoGCDP3YLUDskitQv24xQBrlFRoA8TNASDcA5EBzNkA=\",\"dtype\":\"float64\",\"order\":\"little\",\"shape\":[10]},\"pct\":{\"__ndarray__\":\"AuKjCXlhP0AAAAAAAAAAAOo6xxqJgCRAwXSdY41EGEAAAAAAAAAAAFZBbQam6zRAVkFtBqbrJEBWQW0GpuskQAAAAAAAAAAAVkFtBqbrJEA=\",\"dtype\":\"float64\",\"order\":\"little\",\"shape\":[10]},\"right\":{\"__ndarray__\":\"ri5tpdQJA0AQ4F967Y0TQMkoCaLwlh1AwTjZ5PnPI0Ad3a14e9QoQHqBggz92C1A7JIrUL9uMUAa5RUaAPEzQEg3AORAczZAdonqrYH1OEA=\",\"dtype\":\"float64\",\"order\":\"little\",\"shape\":[10]}},\"selected\":{\"id\":\"1493\"},\"selection_policy\":{\"id\":\"1492\"}},\"id\":\"1168\",\"type\":\"ColumnDataSource\"},{\"attributes\":{\"text\":\"city (4.0% missing)\",\"text_font_size\":{\"value\":\"10pt\"}},\"id\":\"1060\",\"type\":\"Title\"},{\"attributes\":{\"below\":[{\"id\":\"1012\"}],\"center\":[{\"id\":\"1014\"},{\"id\":\"1018\"}],\"left\":[{\"id\":\"1015\"}],\"plot_height\":300,\"plot_width\":324,\"renderers\":[{\"id\":\"1026\"}],\"title\":{\"id\":\"1002\"},\"toolbar\":{\"id\":\"1020\"},\"toolbar_location\":null,\"x_range\":{\"id\":\"1004\"},\"x_scale\":{\"id\":\"1008\"},\"y_range\":{\"id\":\"1006\"},\"y_scale\":{\"id\":\"1010\"}},\"id\":\"1001\",\"subtype\":\"Figure\",\"type\":\"Plot\"},{\"attributes\":{},\"id\":\"1100\",\"type\":\"CategoricalTicker\"},{\"attributes\":{\"text\":\"tip_count\",\"text_font_size\":{\"value\":\"10pt\"}},\"id\":\"1302\",\"type\":\"Title\"},{\"attributes\":{\"factors\":[\"Paris\",\"Helsinki\",\"Wien\",\"Amsterdam\",\"Barcelona\",\"Praha\",\"Budapest\",\"London\",\"Roma\",\"Z\\u00fcrich\"]},\"id\":\"1062\",\"type\":\"FactorRange\"},{\"attributes\":{\"data_source\":{\"id\":\"1230\"},\"glyph\":{\"id\":\"1232\"},\"hover_glyph\":null,\"muted_glyph\":null,\"nonselection_glyph\":{\"id\":\"1233\"},\"selection_glyph\":null,\"view\":{\"id\":\"1235\"}},\"id\":\"1234\",\"type\":\"GlyphRenderer\"},{\"attributes\":{},\"id\":\"1039\",\"type\":\"LinearScale\"},{\"attributes\":{\"axis\":{\"id\":\"1347\"},\"dimension\":1,\"grid_line_color\":null,\"ticker\":null},\"id\":\"1350\",\"type\":\"Grid\"},{\"attributes\":{\"bottom\":{\"value\":0},\"fill_alpha\":{\"value\":0.5},\"fill_color\":{\"value\":\"#6baed6\"},\"left\":{\"field\":\"left\"},\"line_alpha\":{\"value\":0.5},\"line_color\":{\"value\":\"#1f77b4\"},\"right\":{\"field\":\"right\"},\"top\":{\"field\":\"freq\"}},\"id\":\"1263\",\"type\":\"Quad\"},{\"attributes\":{},\"id\":\"1097\",\"type\":\"LinearScale\"},{\"attributes\":{},\"id\":\"1120\",\"type\":\"DataRange1d\"},{\"attributes\":{\"data\":{\"cnt\":[4,2,2,1,1,1,1,1,1,1],\"col\":[\"Amorino\",\"Louis Vuitton\",\"Spr\\u00fcngli\",\"&amp;klevering Centraal\",\"420 Caf\\u00e9\",\"A'Palloza\",\"A. Lacroix P\\u00e2tissier &amp; Glacier\",\"Adelphi Theatre\",\"Aelius B&amp;B\",\"African Pots\"],\"index\":[0,1,2,3,4,5,6,7,8,9],\"pct\":{\"__ndarray__\":\"UJuB6TrH6j9Qm4HpOsfaP1Cbgek6x9o/UJuB6TrHyj9Qm4HpOsfKP1Cbgek6x8o/UJuB6TrHyj9Qm4HpOsfKP1Cbgek6x8o/UJuB6TrHyj8=\",\"dtype\":\"float64\",\"order\":\"little\",\"shape\":[10]}},\"selected\":{\"id\":\"1458\"},\"selection_policy\":{\"id\":\"1457\"}},\"id\":\"1022\",\"type\":\"ColumnDataSource\"},{\"attributes\":{\"data\":{\"cnt\":[50,50,50,50,50,50,50,50,49,29],\"col\":[\"Espa\\u00f1a\",\"France\",\"Italia\",\"Magyarorsz\\u00e1g\",\"Suomi\",\"United Kingdom\",\"\\u00d6sterreich\",\"\\u010cesk\\u00e1 republika\",\"Nederland\",\"Schweiz\"],\"index\":[0,1,2,3,4,5,6,7,8,9],\"pct\":{\"__ndarray__\":\"VkFtBqbrJEBWQW0GpuskQFZBbQam6yRAVkFtBqbrJEBWQW0GpuskQFZBbQam6yRAVkFtBqbrJEBWQW0GpuskQOo6xxqJgCRAwXSdY41EGEA=\",\"dtype\":\"float64\",\"order\":\"little\",\"shape\":[10]}},\"selected\":{\"id\":\"1479\"},\"selection_policy\":{\"id\":\"1478\"}},\"id\":\"1109\",\"type\":\"ColumnDataSource\"},{\"attributes\":{\"factors\":[\"Amorino\",\"Louis Vuitton\",\"Spr\\u00fcngli\",\"&amp;klevering Centraal\",\"420 Caf\\u00e9\",\"A'Palloza\",\"A. Lacroix P\\u00e2tissier &amp; Glacier\",\"Adelphi Theatre\",\"Aelius B&amp;B\",\"African Pots\"]},\"id\":\"1004\",\"type\":\"FactorRange\"},{\"attributes\":{\"axis\":{\"id\":\"1015\"},\"dimension\":1,\"grid_line_color\":null,\"ticker\":null},\"id\":\"1018\",\"type\":\"Grid\"},{\"attributes\":{},\"id\":\"1093\",\"type\":\"DataRange1d\"},{\"attributes\":{\"source\":{\"id\":\"1230\"}},\"id\":\"1235\",\"type\":\"CDSView\"},{\"attributes\":{},\"id\":\"1016\",\"type\":\"BasicTicker\"},{\"attributes\":{\"callback\":null,\"mode\":\"vline\",\"tooltips\":[[\"Bin\",\"@intvls\"],[\"Frequency\",\"@freq\"],[\"Percent\",\"@pct{0.2f}%\"]]},\"id\":\"1358\",\"type\":\"HoverTool\"},{\"attributes\":{\"ticks\":[7.1,7.6,8.1,8.6,9.1]},\"id\":\"1238\",\"type\":\"FixedTicker\"},{\"attributes\":{},\"id\":\"1095\",\"type\":\"CategoricalScale\"},{\"attributes\":{\"ticks\":[7.1,7.6,8.1,8.6,9.1]},\"id\":\"1239\",\"type\":\"FixedTicker\"},{\"attributes\":{\"active_drag\":\"auto\",\"active_inspect\":\"auto\",\"active_multi\":null,\"active_scroll\":\"auto\",\"active_tap\":\"auto\",\"tools\":[{\"id\":\"1358\"}]},\"id\":\"1351\",\"type\":\"Toolbar\"},{\"attributes\":{\"axis\":{\"id\":\"1012\"},\"grid_line_color\":null,\"ticker\":null},\"id\":\"1014\",\"type\":\"Grid\"},{\"attributes\":{},\"id\":\"1122\",\"type\":\"DataRange1d\"},{\"attributes\":{\"axis_label\":\"Count\",\"formatter\":{\"id\":\"1455\"},\"major_label_text_font_size\":\"0pt\",\"major_tick_line_color\":null,\"minor_tick_line_color\":\"white\",\"ticker\":{\"id\":\"1016\"}},\"id\":\"1015\",\"type\":\"LinearAxis\"},{\"attributes\":{\"text\":\"country\",\"text_font_size\":{\"value\":\"10pt\"}},\"id\":\"1089\",\"type\":\"Title\"},{\"attributes\":{},\"id\":\"1348\",\"type\":\"BasicTicker\"},{\"attributes\":{\"below\":[{\"id\":\"1128\"}],\"center\":[{\"id\":\"1131\"},{\"id\":\"1135\"}],\"left\":[{\"id\":\"1132\"}],\"plot_height\":300,\"plot_width\":324,\"renderers\":[{\"id\":\"1141\"}],\"title\":{\"id\":\"1118\"},\"toolbar\":{\"id\":\"1136\"},\"toolbar_location\":null,\"x_range\":{\"id\":\"1120\"},\"x_scale\":{\"id\":\"1124\"},\"y_range\":{\"id\":\"1122\"},\"y_scale\":{\"id\":\"1126\"}},\"id\":\"1117\",\"subtype\":\"Figure\",\"type\":\"Plot\"},{\"attributes\":{\"source\":{\"id\":\"1261\"}},\"id\":\"1266\",\"type\":\"CDSView\"},{\"attributes\":{\"code\":\"\\n            if (tick.length &gt; 15) return tick.substring(0, 15-2) + '...';\\n            else return tick;\\n        \"},\"id\":\"1086\",\"type\":\"FuncTickFormatter\"},{\"attributes\":{},\"id\":\"1306\",\"type\":\"DataRange1d\"},{\"attributes\":{\"below\":[{\"id\":\"1070\"}],\"center\":[{\"id\":\"1072\"},{\"id\":\"1076\"}],\"left\":[{\"id\":\"1073\"}],\"plot_height\":300,\"plot_width\":324,\"renderers\":[{\"id\":\"1084\"}],\"title\":{\"id\":\"1060\"},\"toolbar\":{\"id\":\"1078\"},\"toolbar_location\":null,\"x_range\":{\"id\":\"1062\"},\"x_scale\":{\"id\":\"1066\"},\"y_range\":{\"id\":\"1064\"},\"y_scale\":{\"id\":\"1068\"}},\"id\":\"1059\",\"subtype\":\"Figure\",\"type\":\"Plot\"},{\"attributes\":{\"formatter\":{\"id\":\"1115\"},\"major_label_orientation\":1.0471975511965976,\"major_label_text_font_size\":\"9pt\",\"minor_tick_line_color\":\"white\",\"ticker\":{\"id\":\"1100\"}},\"id\":\"1099\",\"type\":\"CategoricalAxis\"},{\"attributes\":{\"axis_label\":\"Top 10 of 156 category\",\"axis_label_standoff\":0,\"formatter\":{\"id\":\"1057\"},\"major_label_orientation\":1.0471975511965976,\"major_label_text_font_size\":\"9pt\",\"minor_tick_line_color\":\"white\",\"ticker\":{\"id\":\"1042\"}},\"id\":\"1041\",\"type\":\"CategoricalAxis\"},{\"attributes\":{\"factors\":[\"Espa\\u00f1a\",\"France\",\"Italia\",\"Magyarorsz\\u00e1g\",\"Suomi\",\"United Kingdom\",\"\\u00d6sterreich\",\"\\u010cesk\\u00e1 republika\",\"Nederland\",\"Schweiz\"]},\"id\":\"1091\",\"type\":\"FactorRange\"},{\"attributes\":{\"data\":{\"freq\":[463,8,4,0,0,1,1,0,0,1],\"index\":[0,1,2,3,4,5,6,7,8,9],\"intvls\":[\"[0, 1930)\",\"[1930, 3860)\",\"[3860, 5790)\",\"[5790, 7720)\",\"[7720, 9650)\",\"[9650, 11580)\",\"[11580, 13510)\",\"[13510, 15440)\",\"[15440, 17370)\",\"[17370,19300]\"],\"left\":{\"__ndarray__\":\"AAAAAAAAAAAAAAAAACieQAAAAAAAKK5AAAAAAACetkAAAAAAACi+QAAAAAAA2cJAAAAAAACexkAAAAAAAGPKQAAAAAAAKM5AAAAAAID20EA=\",\"dtype\":\"float64\",\"order\":\"little\",\"shape\":[10]},\"pct\":{\"__ndarray__\":\"87Moxik3WEBQm4HpOsf6P1Cbgek6x+o/AAAAAAAAAAAAAAAAAAAAAFCbgek6x8o/UJuB6TrHyj8AAAAAAAAAAAAAAAAAAAAAUJuB6TrHyj8=\",\"dtype\":\"float64\",\"order\":\"little\",\"shape\":[10]},\"right\":{\"__ndarray__\":\"AAAAAAAonkAAAAAAACiuQAAAAAAAnrZAAAAAAAAovkAAAAAAANnCQAAAAAAAnsZAAAAAAABjykAAAAAAACjOQAAAAACA9tBAAAAAAADZ0kA=\",\"dtype\":\"float64\",\"order\":\"little\",\"shape\":[10]}},\"selected\":{\"id\":\"1535\"},\"selection_policy\":{\"id\":\"1534\"}},\"id\":\"1352\",\"type\":\"ColumnDataSource\"},{\"attributes\":{\"code\":\"\\n            if (tick.length &gt; 15) return tick.substring(0, 15-2) + '...';\\n            else return tick;\\n        \"},\"id\":\"1115\",\"type\":\"FuncTickFormatter\"},{\"attributes\":{\"factors\":[\"Hotel\",\"Caf\\u00e9\",\"Italian Restaurant\",\"Plaza\",\"Coffee Shop\",\"Bakery\",\"Cocktail Bar\",\"French Restaurant\",\"Ice Cream Shop\",\"Park\"]},\"id\":\"1033\",\"type\":\"FactorRange\"},{\"attributes\":{\"bottom\":{\"value\":0},\"fill_alpha\":{\"value\":0.1},\"fill_color\":{\"value\":\"#6baed6\"},\"left\":{\"field\":\"left\"},\"line_alpha\":{\"value\":0.1},\"line_color\":{\"value\":\"#1f77b4\"},\"right\":{\"field\":\"right\"},\"top\":{\"field\":\"freq\"}},\"id\":\"1264\",\"type\":\"Quad\"},{\"attributes\":{\"data_source\":{\"id\":\"1261\"},\"glyph\":{\"id\":\"1263\"},\"hover_glyph\":null,\"muted_glyph\":null,\"nonselection_glyph\":{\"id\":\"1264\"},\"selection_glyph\":null,\"view\":{\"id\":\"1266\"}},\"id\":\"1265\",\"type\":\"GlyphRenderer\"},{\"attributes\":{\"axis\":{\"id\":\"1434\"},\"grid_line_color\":null,\"ticker\":null},\"id\":\"1436\",\"type\":\"Grid\"},{\"attributes\":{\"text\":\"name\",\"text_font_size\":{\"value\":\"10pt\"}},\"id\":\"1002\",\"type\":\"Title\"},{\"attributes\":{\"below\":[{\"id\":\"1099\"}],\"center\":[{\"id\":\"1101\"},{\"id\":\"1105\"}],\"left\":[{\"id\":\"1102\"}],\"plot_height\":300,\"plot_width\":324,\"renderers\":[{\"id\":\"1113\"}],\"title\":{\"id\":\"1089\"},\"toolbar\":{\"id\":\"1107\"},\"toolbar_location\":null,\"x_range\":{\"id\":\"1091\"},\"x_scale\":{\"id\":\"1095\"},\"y_range\":{\"id\":\"1093\"},\"y_scale\":{\"id\":\"1097\"}},\"id\":\"1088\",\"subtype\":\"Figure\",\"type\":\"Plot\"},{\"attributes\":{\"data\":{\"cnt\":[50,49,49,48,48,48,45,42,41,29],\"col\":[\"Paris\",\"Helsinki\",\"Wien\",\"Amsterdam\",\"Barcelona\",\"Praha\",\"Budapest\",\"London\",\"Roma\",\"Z\\u00fcrich\"],\"index\":[0,1,2,3,4,5,6,7,8,9],\"pct\":{\"__ndarray__\":\"VkFtBqbrJEDqOscaiYAkQOo6xxqJgCRAfDQhL2wVJEB8NCEvbBUkQHw0IS9sFSRANCEvbBXUIkDsDT2pvpIhQIAHl72hJyFAwXSdY41EGEA=\",\"dtype\":\"float64\",\"order\":\"little\",\"shape\":[10]}},\"selected\":{\"id\":\"1472\"},\"selection_policy\":{\"id\":\"1471\"}},\"id\":\"1080\",\"type\":\"ColumnDataSource\"},{\"attributes\":{\"ticks\":[0,2000,4000,6000,8000]},\"id\":\"1269\",\"type\":\"FixedTicker\"},{\"attributes\":{\"ticks\":[0,2000,4000,6000,8000]},\"id\":\"1270\",\"type\":\"FixedTicker\"},{\"attributes\":{\"below\":[{\"id\":\"1283\"}],\"center\":[{\"id\":\"1285\"},{\"id\":\"1289\"}],\"left\":[{\"id\":\"1286\"}],\"plot_height\":300,\"plot_width\":324,\"renderers\":[{\"id\":\"1297\"}],\"title\":{\"id\":\"1273\"},\"toolbar\":{\"id\":\"1291\"},\"toolbar_location\":null,\"x_range\":{\"id\":\"1275\"},\"x_scale\":{\"id\":\"1279\"},\"y_range\":{\"id\":\"1277\"},\"y_scale\":{\"id\":\"1281\"}},\"id\":\"1272\",\"subtype\":\"Figure\",\"type\":\"Plot\"},{\"attributes\":{},\"id\":\"1304\",\"type\":\"DataRange1d\"},{\"attributes\":{\"bottom\":{\"value\":0.01},\"fill_color\":{\"value\":\"#1f77b4\"},\"line_color\":{\"value\":\"#1f77b4\"},\"top\":{\"field\":\"cnt\"},\"width\":{\"value\":0.9},\"x\":{\"field\":\"col\"}},\"id\":\"1024\",\"type\":\"VBar\"},{\"attributes\":{\"data\":{\"cnt\":[338,84,56],\"col\":[\"73CF42\",\"C5DE35\",\"00B551\"],\"index\":[0,1,2],\"pct\":{\"__ndarray__\":\"iI8m5IWtUUDsDT2pvpIxQOZnUYxTbidA\",\"dtype\":\"float64\",\"order\":\"little\",\"shape\":[3]}},\"selected\":{\"id\":\"1521\"},\"selection_policy\":{\"id\":\"1520\"}},\"id\":\"1293\",\"type\":\"ColumnDataSource\"},{\"attributes\":{\"text\":\"rating_color\",\"text_font_size\":{\"value\":\"10pt\"}},\"id\":\"1273\",\"type\":\"Title\"},{\"attributes\":{},\"id\":\"1182\",\"type\":\"DataRange1d\"},{\"attributes\":{\"callback\":null,\"mode\":\"vline\",\"tooltips\":[[\"Bin\",\"@intvls\"],[\"Frequency\",\"@freq\"],[\"Percent\",\"@pct{0.2f}%\"]]},\"id\":\"1143\",\"type\":\"HoverTool\"},{\"attributes\":{},\"id\":\"1555\",\"type\":\"UnionRenderers\"},{\"attributes\":{\"active_drag\":\"auto\",\"active_inspect\":\"auto\",\"active_multi\":null,\"active_scroll\":\"auto\",\"active_tap\":\"auto\",\"tools\":[{\"id\":\"1143\"}]},\"id\":\"1136\",\"type\":\"Toolbar\"},{\"attributes\":{\"factors\":[\"73CF42\",\"C5DE35\",\"00B551\"]},\"id\":\"1275\",\"type\":\"FactorRange\"},{\"attributes\":{},\"id\":\"1465\",\"type\":\"Selection\"},{\"attributes\":{},\"id\":\"1556\",\"type\":\"Selection\"},{\"attributes\":{},\"id\":\"1277\",\"type\":\"DataRange1d\"},{\"attributes\":{\"factors\":[\"True\",\"False\"]},\"id\":\"1426\",\"type\":\"FactorRange\"},{\"attributes\":{\"children\":[{\"id\":\"1559\"},{\"id\":\"1452\"},{\"id\":\"1558\"}]},\"id\":\"1561\",\"type\":\"Column\"},{\"attributes\":{\"bottom\":{\"value\":0},\"fill_alpha\":{\"value\":0.1},\"fill_color\":{\"value\":\"#6baed6\"},\"left\":{\"field\":\"left\"},\"line_alpha\":{\"value\":0.1},\"line_color\":{\"value\":\"#1f77b4\"},\"right\":{\"field\":\"right\"},\"top\":{\"field\":\"freq\"}},\"id\":\"1171\",\"type\":\"Quad\"},{\"attributes\":{},\"id\":\"1184\",\"type\":\"DataRange1d\"},{\"attributes\":{\"axis\":{\"id\":\"1070\"},\"grid_line_color\":null,\"ticker\":null},\"id\":\"1072\",\"type\":\"Grid\"},{\"attributes\":{\"active_drag\":\"auto\",\"active_inspect\":\"auto\",\"active_multi\":null,\"active_scroll\":\"auto\",\"active_tap\":\"auto\",\"tools\":[{\"id\":\"1412\"}]},\"id\":\"1413\",\"type\":\"Toolbar\"},{\"attributes\":{},\"id\":\"1491\",\"type\":\"BasicTickFormatter\"},{\"attributes\":{},\"id\":\"1010\",\"type\":\"LinearScale\"},{\"attributes\":{},\"id\":\"1281\",\"type\":\"LinearScale\"},{\"attributes\":{\"text\":\"has_contact\",\"text_font_size\":{\"value\":\"10pt\"}},\"id\":\"1424\",\"type\":\"Title\"},{\"attributes\":{\"args\":{\"button\":{\"id\":\"1559\"},\"div\":{\"id\":\"1452\"}},\"code\":\"\\n        let buttonLabel = button.label\\n        let isDivVisible = div.visible\\n        div.visible = isDivVisible ? false : true\\n        button.label = (buttonLabel === 'Hide Stats Info') ? 'Show Stats Info' : 'Hide Stats Info'\\n    \"},\"id\":\"1560\",\"type\":\"CustomJS\"},{\"attributes\":{},\"id\":\"1462\",\"type\":\"BasicTickFormatter\"},{\"attributes\":{},\"id\":\"1455\",\"type\":\"BasicTickFormatter\"},{\"attributes\":{\"axis\":{\"id\":\"1041\"},\"grid_line_color\":null,\"ticker\":null},\"id\":\"1043\",\"type\":\"Grid\"},{\"attributes\":{\"data_source\":{\"id\":\"1137\"},\"glyph\":{\"id\":\"1139\"},\"hover_glyph\":null,\"muted_glyph\":null,\"nonselection_glyph\":{\"id\":\"1140\"},\"selection_glyph\":null,\"view\":{\"id\":\"1142\"}},\"id\":\"1141\",\"type\":\"GlyphRenderer\"},{\"attributes\":{},\"id\":\"1279\",\"type\":\"CategoricalScale\"},{\"attributes\":{\"data_source\":{\"id\":\"1415\"},\"glyph\":{\"id\":\"1417\"},\"hover_glyph\":null,\"muted_glyph\":null,\"nonselection_glyph\":{\"id\":\"1418\"},\"selection_glyph\":null,\"view\":{\"id\":\"1420\"}},\"id\":\"1419\",\"type\":\"GlyphRenderer\"},{\"attributes\":{},\"id\":\"1151\",\"type\":\"DataRange1d\"},{\"attributes\":{\"formatter\":{\"id\":\"1299\"},\"major_label_orientation\":1.0471975511965976,\"major_label_text_font_size\":\"9pt\",\"minor_tick_line_color\":\"white\",\"ticker\":{\"id\":\"1284\"}},\"id\":\"1283\",\"type\":\"CategoricalAxis\"},{\"attributes\":{\"source\":{\"id\":\"1415\"}},\"id\":\"1420\",\"type\":\"CDSView\"},{\"attributes\":{\"axis\":{\"id\":\"1283\"},\"grid_line_color\":null,\"ticker\":null},\"id\":\"1285\",\"type\":\"Grid\"},{\"attributes\":{},\"id\":\"1458\",\"type\":\"Selection\"},{\"attributes\":{\"text\":\"has_website\",\"text_font_size\":{\"value\":\"10pt\"}},\"id\":\"1395\",\"type\":\"Title\"},{\"attributes\":{\"bottom\":{\"value\":0},\"fill_alpha\":{\"value\":0.5},\"fill_color\":{\"value\":\"#6baed6\"},\"left\":{\"field\":\"left\"},\"line_alpha\":{\"value\":0.5},\"line_color\":{\"value\":\"#1f77b4\"},\"right\":{\"field\":\"right\"},\"top\":{\"field\":\"freq\"}},\"id\":\"1323\",\"type\":\"Quad\"},{\"attributes\":{},\"id\":\"1476\",\"type\":\"BasicTickFormatter\"},{\"attributes\":{\"formatter\":{\"id\":\"1484\"},\"major_label_overrides\":{\"41\":\"41\",\"45\":\"45\",\"49\":\"49\",\"53\":\"53\",\"57\":\"57\"},\"major_label_standoff\":7,\"major_label_text_font_size\":\"10pt\",\"major_tick_line_color\":null,\"minor_tick_line_color\":\"white\",\"ticker\":{\"id\":\"1146\"}},\"id\":\"1128\",\"type\":\"LinearAxis\"},{\"attributes\":{},\"id\":\"1284\",\"type\":\"CategoricalTicker\"},{\"attributes\":{\"bottom\":{\"value\":0.01},\"fill_color\":{\"value\":\"#1f77b4\"},\"line_color\":{\"value\":\"#1f77b4\"},\"top\":{\"field\":\"cnt\"},\"width\":{\"value\":0.9},\"x\":{\"field\":\"col\"}},\"id\":\"1053\",\"type\":\"VBar\"},{\"attributes\":{\"ticks\":[0,1000,2000,3000,4000]},\"id\":\"1391\",\"type\":\"FixedTicker\"},{\"attributes\":{\"bottom\":{\"value\":0},\"fill_alpha\":{\"value\":0.1},\"fill_color\":{\"value\":\"#6baed6\"},\"left\":{\"field\":\"left\"},\"line_alpha\":{\"value\":0.1},\"line_color\":{\"value\":\"#1f77b4\"},\"right\":{\"field\":\"right\"},\"top\":{\"field\":\"freq\"}},\"id\":\"1140\",\"type\":\"Quad\"},{\"attributes\":{\"ticks\":[0,1000,2000,3000,4000]},\"id\":\"1392\",\"type\":\"FixedTicker\"},{\"attributes\":{\"axis_label\":\"Count\",\"formatter\":{\"id\":\"1518\"},\"major_label_text_font_size\":\"0pt\",\"major_tick_line_color\":null,\"minor_tick_line_color\":\"white\",\"ticker\":{\"id\":\"1287\"}},\"id\":\"1286\",\"type\":\"LinearAxis\"},{\"attributes\":{},\"id\":\"1428\",\"type\":\"DataRange1d\"},{\"attributes\":{\"axis_label\":\"Count\",\"formatter\":{\"id\":\"1462\"},\"major_label_text_font_size\":\"0pt\",\"major_tick_line_color\":null,\"minor_tick_line_color\":\"white\",\"ticker\":{\"id\":\"1045\"}},\"id\":\"1044\",\"type\":\"LinearAxis\"},{\"attributes\":{\"bottom\":{\"value\":0},\"fill_alpha\":{\"value\":0.1},\"fill_color\":{\"value\":\"#6baed6\"},\"left\":{\"field\":\"left\"},\"line_alpha\":{\"value\":0.1},\"line_color\":{\"value\":\"#1f77b4\"},\"right\":{\"field\":\"right\"},\"top\":{\"field\":\"freq\"}},\"id\":\"1202\",\"type\":\"Quad\"},{\"attributes\":{},\"id\":\"1486\",\"type\":\"Selection\"},{\"attributes\":{\"children\":[[{\"id\":\"1001\"},0,0],[{\"id\":\"1030\"},0,1],[{\"id\":\"1059\"},0,2],[{\"id\":\"1088\"},1,0],[{\"id\":\"1117\"},1,1],[{\"id\":\"1148\"},1,2],[{\"id\":\"1179\"},2,0],[{\"id\":\"1210\"},2,1],[{\"id\":\"1241\"},2,2],[{\"id\":\"1272\"},3,0],[{\"id\":\"1301\"},3,1],[{\"id\":\"1332\"},3,2],[{\"id\":\"1363\"},4,0],[{\"id\":\"1394\"},4,1],[{\"id\":\"1423\"},4,2]]},\"id\":\"1558\",\"type\":\"GridBox\"},{\"attributes\":{\"text\":\"likes\",\"text_font_size\":{\"value\":\"10pt\"}},\"id\":\"1180\",\"type\":\"Title\"},{\"attributes\":{\"below\":[{\"id\":\"1434\"}],\"center\":[{\"id\":\"1436\"},{\"id\":\"1440\"}],\"left\":[{\"id\":\"1437\"}],\"plot_height\":300,\"plot_width\":324,\"renderers\":[{\"id\":\"1448\"}],\"title\":{\"id\":\"1424\"},\"toolbar\":{\"id\":\"1442\"},\"toolbar_location\":null,\"x_range\":{\"id\":\"1426\"},\"x_scale\":{\"id\":\"1430\"},\"y_range\":{\"id\":\"1428\"},\"y_scale\":{\"id\":\"1432\"}},\"id\":\"1423\",\"subtype\":\"Figure\",\"type\":\"Plot\"},{\"attributes\":{},\"id\":\"1287\",\"type\":\"BasicTicker\"},{\"attributes\":{\"below\":[{\"id\":\"1405\"}],\"center\":[{\"id\":\"1407\"},{\"id\":\"1411\"}],\"left\":[{\"id\":\"1408\"}],\"plot_height\":300,\"plot_width\":324,\"renderers\":[{\"id\":\"1419\"}],\"title\":{\"id\":\"1395\"},\"toolbar\":{\"id\":\"1413\"},\"toolbar_location\":null,\"x_range\":{\"id\":\"1397\"},\"x_scale\":{\"id\":\"1401\"},\"y_range\":{\"id\":\"1399\"},\"y_scale\":{\"id\":\"1403\"}},\"id\":\"1394\",\"subtype\":\"Figure\",\"type\":\"Plot\"},{\"attributes\":{\"callback\":null,\"tooltips\":[[\"rating_color\",\"@col\"],[\"Count\",\"@cnt\"],[\"Percent\",\"@pct{0.2f}%\"]]},\"id\":\"1290\",\"type\":\"HoverTool\"},{\"attributes\":{\"text\":\"category\",\"text_font_size\":{\"value\":\"10pt\"}},\"id\":\"1031\",\"type\":\"Title\"},{\"attributes\":{},\"id\":\"1042\",\"type\":\"CategoricalTicker\"},{\"attributes\":{\"ticks\":[0,6,12,18,24]},\"id\":\"1176\",\"type\":\"FixedTicker\"},{\"attributes\":{\"data\":{\"cnt\":[315,163],\"col\":[\"False\",\"True\"],\"index\":[0,1],\"pct\":{\"__ndarray__\":\"Dj2pvpJ5UEDkha2C2gxBQA==\",\"dtype\":\"float64\",\"order\":\"little\",\"shape\":[2]}},\"selected\":{\"id\":\"1549\"},\"selection_policy\":{\"id\":\"1548\"}},\"id\":\"1415\",\"type\":\"ColumnDataSource\"},{\"attributes\":{\"axis_label\":\"Count\",\"formatter\":{\"id\":\"1469\"},\"major_label_text_font_size\":\"0pt\",\"major_tick_line_color\":null,\"minor_tick_line_color\":\"white\",\"ticker\":{\"id\":\"1074\"}},\"id\":\"1073\",\"type\":\"LinearAxis\"},{\"attributes\":{},\"id\":\"1399\",\"type\":\"DataRange1d\"},{\"attributes\":{\"ticks\":[0,6,12,18,24]},\"id\":\"1177\",\"type\":\"FixedTicker\"},{\"attributes\":{\"data_source\":{\"id\":\"1168\"},\"glyph\":{\"id\":\"1170\"},\"hover_glyph\":null,\"muted_glyph\":null,\"nonselection_glyph\":{\"id\":\"1171\"},\"selection_glyph\":null,\"view\":{\"id\":\"1173\"}},\"id\":\"1172\",\"type\":\"GlyphRenderer\"},{\"attributes\":{},\"id\":\"1188\",\"type\":\"LinearScale\"},{\"attributes\":{},\"id\":\"1071\",\"type\":\"CategoricalTicker\"},{\"attributes\":{\"axis\":{\"id\":\"1286\"},\"dimension\":1,\"grid_line_color\":null,\"ticker\":null},\"id\":\"1289\",\"type\":\"Grid\"},{\"attributes\":{\"factors\":[\"False\",\"True\"]},\"id\":\"1397\",\"type\":\"FactorRange\"},{\"attributes\":{},\"id\":\"1013\",\"type\":\"CategoricalTicker\"},{\"attributes\":{\"data\":{\"freq\":[100,0,0,179,50,99,0,0,0,50],\"index\":[0,1,2,3,4,5,6,7,8,9],\"intvls\":[\"[41.387, 43.268)\",\"[43.268, 45.15)\",\"[45.15, 47.031)\",\"[47.031, 48.912)\",\"[48.912, 50.793)\",\"[50.793, 52.674)\",\"[52.674, 54.555)\",\"[54.555, 56.436)\",\"[56.436, 58.317)\",\"[58.317,60.198]\"],\"left\":{\"__ndarray__\":\"g2BPR5axREC2d24pXaJFQOqOjQskk0ZAHaas7eqDR0BQvcvPsXRIQITU6rF4ZUlAt+sJlD9WSkDqAil2BkdLQB4aSFjNN0xAUTFnOpQoTUA=\",\"dtype\":\"float64\",\"order\":\"little\",\"shape\":[10]},\"pct\":{\"__ndarray__\":\"VkFtBqbrNEAAAAAAAAAAAAAAAAAAAAAAmZ9FMU65QkBWQW0GpuskQCA+mpAXtjRAAAAAAAAAAAAAAAAAAAAAAAAAAAAAAAAAVkFtBqbrJEA=\",\"dtype\":\"float64\",\"order\":\"little\",\"shape\":[10]},\"right\":{\"__ndarray__\":\"tnduKV2iRUDqjo0LJJNGQB2mrO3qg0dAUL3Lz7F0SECE1OqxeGVJQLfrCZQ/VkpA6gIpdgZHS0AeGkhYzTdMQFExZzqUKE1AhEiGHFsZTkA=\",\"dtype\":\"float64\",\"order\":\"little\",\"shape\":[10]}},\"selected\":{\"id\":\"1486\"},\"selection_policy\":{\"id\":\"1485\"}},\"id\":\"1137\",\"type\":\"ColumnDataSource\"},{\"attributes\":{\"bottom\":{\"value\":0.01},\"fill_alpha\":{\"value\":0.1},\"fill_color\":{\"value\":\"#1f77b4\"},\"line_alpha\":{\"value\":0.1},\"line_color\":{\"value\":\"#1f77b4\"},\"top\":{\"field\":\"cnt\"},\"width\":{\"value\":0.9},\"x\":{\"field\":\"col\"}},\"id\":\"1296\",\"type\":\"VBar\"},{\"attributes\":{\"axis\":{\"id\":\"1343\"},\"grid_line_color\":null,\"ticker\":{\"id\":\"1360\"}},\"id\":\"1346\",\"type\":\"Grid\"},{\"attributes\":{\"callback\":null,\"mode\":\"vline\",\"tooltips\":[[\"Bin\",\"@intvls\"],[\"Frequency\",\"@freq\"],[\"Percent\",\"@pct{0.2f}%\"]]},\"id\":\"1174\",\"type\":\"HoverTool\"},{\"attributes\":{\"data_source\":{\"id\":\"1293\"},\"glyph\":{\"id\":\"1295\"},\"hover_glyph\":null,\"muted_glyph\":null,\"nonselection_glyph\":{\"id\":\"1296\"},\"selection_glyph\":null,\"view\":{\"id\":\"1298\"}},\"id\":\"1297\",\"type\":\"GlyphRenderer\"},{\"attributes\":{},\"id\":\"1432\",\"type\":\"LinearScale\"},{\"attributes\":{},\"id\":\"1186\",\"type\":\"LinearScale\"},{\"attributes\":{},\"id\":\"1403\",\"type\":\"LinearScale\"},{\"attributes\":{\"formatter\":{\"id\":\"1498\"},\"major_label_overrides\":{\"0\":\"0\",\"2000\":\"2000\",\"4000\":\"4000\",\"6000\":\"6000\",\"8000\":\"8000\"},\"major_label_standoff\":7,\"major_label_text_font_size\":\"10pt\",\"major_tick_line_color\":null,\"minor_tick_line_color\":\"white\",\"ticker\":{\"id\":\"1208\"}},\"id\":\"1190\",\"type\":\"LinearAxis\"},{\"attributes\":{},\"id\":\"1430\",\"type\":\"CategoricalScale\"},{\"attributes\":{\"below\":[{\"id\":\"1159\"}],\"center\":[{\"id\":\"1162\"},{\"id\":\"1166\"}],\"left\":[{\"id\":\"1163\"}],\"plot_height\":300,\"plot_width\":324,\"renderers\":[{\"id\":\"1172\"}],\"title\":{\"id\":\"1149\"},\"toolbar\":{\"id\":\"1167\"},\"toolbar_location\":null,\"x_range\":{\"id\":\"1151\"},\"x_scale\":{\"id\":\"1155\"},\"y_range\":{\"id\":\"1153\"},\"y_scale\":{\"id\":\"1157\"}},\"id\":\"1148\",\"subtype\":\"Figure\",\"type\":\"Plot\"},{\"attributes\":{\"axis\":{\"id\":\"1073\"},\"dimension\":1,\"grid_line_color\":null,\"ticker\":null},\"id\":\"1076\",\"type\":\"Grid\"},{\"attributes\":{\"axis_label\":\"Frequency\",\"formatter\":{\"id\":\"1497\"},\"major_label_text_font_size\":\"0pt\",\"major_tick_line_color\":null,\"minor_tick_line_color\":\"white\",\"ticker\":{\"id\":\"1195\"}},\"id\":\"1194\",\"type\":\"LinearAxis\"},{\"attributes\":{},\"id\":\"1401\",\"type\":\"CategoricalScale\"},{\"attributes\":{\"formatter\":{\"id\":\"1450\"},\"major_label_orientation\":1.0471975511965976,\"major_label_text_font_size\":\"9pt\",\"minor_tick_line_color\":\"white\",\"ticker\":{\"id\":\"1435\"}},\"id\":\"1434\",\"type\":\"CategoricalAxis\"},{\"attributes\":{\"below\":[{\"id\":\"1221\"}],\"center\":[{\"id\":\"1224\"},{\"id\":\"1228\"}],\"left\":[{\"id\":\"1225\"}],\"plot_height\":300,\"plot_width\":324,\"renderers\":[{\"id\":\"1234\"}],\"title\":{\"id\":\"1211\"},\"toolbar\":{\"id\":\"1229\"},\"toolbar_location\":null,\"x_range\":{\"id\":\"1213\"},\"x_scale\":{\"id\":\"1217\"},\"y_range\":{\"id\":\"1215\"},\"y_scale\":{\"id\":\"1219\"}},\"id\":\"1210\",\"subtype\":\"Figure\",\"type\":\"Plot\"},{\"attributes\":{\"formatter\":{\"id\":\"1421\"},\"major_label_orientation\":1.0471975511965976,\"major_label_text_font_size\":\"9pt\",\"minor_tick_line_color\":\"white\",\"ticker\":{\"id\":\"1406\"}},\"id\":\"1405\",\"type\":\"CategoricalAxis\"},{\"attributes\":{\"data_source\":{\"id\":\"1444\"},\"glyph\":{\"id\":\"1446\"},\"hover_glyph\":null,\"muted_glyph\":null,\"nonselection_glyph\":{\"id\":\"1447\"},\"selection_glyph\":null,\"view\":{\"id\":\"1449\"}},\"id\":\"1448\",\"type\":\"GlyphRenderer\"},{\"attributes\":{\"axis\":{\"id\":\"1405\"},\"grid_line_color\":null,\"ticker\":null},\"id\":\"1407\",\"type\":\"Grid\"},{\"attributes\":{\"axis\":{\"id\":\"1132\"},\"dimension\":1,\"grid_line_color\":null,\"ticker\":null},\"id\":\"1135\",\"type\":\"Grid\"},{\"attributes\":{\"source\":{\"id\":\"1444\"}},\"id\":\"1449\",\"type\":\"CDSView\"},{\"attributes\":{\"source\":{\"id\":\"1080\"}},\"id\":\"1085\",\"type\":\"CDSView\"},{\"attributes\":{\"code\":\"\\n            if (tick.length &gt; 15) return tick.substring(0, 15-2) + '...';\\n            else return tick;\\n        \"},\"id\":\"1421\",\"type\":\"FuncTickFormatter\"},{\"attributes\":{},\"id\":\"1126\",\"type\":\"LinearScale\"},{\"attributes\":{},\"id\":\"1310\",\"type\":\"LinearScale\"},{\"attributes\":{\"axis\":{\"id\":\"1190\"},\"grid_line_color\":null,\"ticker\":{\"id\":\"1207\"}},\"id\":\"1193\",\"type\":\"Grid\"},{\"attributes\":{},\"id\":\"1435\",\"type\":\"CategoricalTicker\"},{\"attributes\":{\"axis_label\":\"Frequency\",\"formatter\":{\"id\":\"1532\"},\"major_label_text_font_size\":\"0pt\",\"major_tick_line_color\":null,\"minor_tick_line_color\":\"white\",\"ticker\":{\"id\":\"1348\"}},\"id\":\"1347\",\"type\":\"LinearAxis\"},{\"attributes\":{\"bottom\":{\"value\":0},\"fill_alpha\":{\"value\":0.5},\"fill_color\":{\"value\":\"#6baed6\"},\"left\":{\"field\":\"left\"},\"line_alpha\":{\"value\":0.5},\"line_color\":{\"value\":\"#1f77b4\"},\"right\":{\"field\":\"right\"},\"top\":{\"field\":\"freq\"}},\"id\":\"1201\",\"type\":\"Quad\"},{\"attributes\":{},\"id\":\"1406\",\"type\":\"CategoricalTicker\"},{\"attributes\":{},\"id\":\"1124\",\"type\":\"LinearScale\"},{\"attributes\":{\"axis_label\":\"Frequency\",\"formatter\":{\"id\":\"1490\"},\"major_label_text_font_size\":\"0pt\",\"major_tick_line_color\":null,\"minor_tick_line_color\":\"white\",\"ticker\":{\"id\":\"1164\"}},\"id\":\"1163\",\"type\":\"LinearAxis\"},{\"attributes\":{},\"id\":\"1195\",\"type\":\"BasicTicker\"},{\"attributes\":{\"active_drag\":\"auto\",\"active_inspect\":\"auto\",\"active_multi\":null,\"active_scroll\":\"auto\",\"active_tap\":\"auto\",\"tools\":[{\"id\":\"1290\"}]},\"id\":\"1291\",\"type\":\"Toolbar\"},{\"attributes\":{\"callback\":null,\"tooltips\":[[\"city\",\"@col\"],[\"Count\",\"@cnt\"],[\"Percent\",\"@pct{0.2f}%\"]]},\"id\":\"1077\",\"type\":\"HoverTool\"},{\"attributes\":{\"active_drag\":\"auto\",\"active_inspect\":\"auto\",\"active_multi\":null,\"active_scroll\":\"auto\",\"active_tap\":\"auto\",\"tools\":[{\"id\":\"1205\"}]},\"id\":\"1198\",\"type\":\"Toolbar\"},{\"attributes\":{\"axis_label\":\"Count\",\"formatter\":{\"id\":\"1546\"},\"major_label_text_font_size\":\"0pt\",\"major_tick_line_color\":null,\"minor_tick_line_color\":\"white\",\"ticker\":{\"id\":\"1409\"}},\"id\":\"1408\",\"type\":\"LinearAxis\"},{\"attributes\":{\"button_type\":\"primary\",\"icon\":null,\"js_event_callbacks\":{\"button_click\":[{\"id\":\"1560\"}]},\"label\":\"Show Stats Info\",\"width\":972},\"id\":\"1559\",\"type\":\"Button\"},{\"attributes\":{\"formatter\":{\"id\":\"1533\"},\"major_label_overrides\":{\"0\":\"0\",\"12000\":\"12K\",\"16000\":\"16K\",\"4000\":\"4000\",\"8000\":\"8000\"},\"major_label_standoff\":7,\"major_label_text_font_size\":\"10pt\",\"major_tick_line_color\":null,\"minor_tick_line_color\":\"white\",\"ticker\":{\"id\":\"1361\"}},\"id\":\"1343\",\"type\":\"LinearAxis\"},{\"attributes\":{\"code\":\"\\n            if (tick.length &gt; 15) return tick.substring(0, 15-2) + '...';\\n            else return tick;\\n        \"},\"id\":\"1450\",\"type\":\"FuncTickFormatter\"},{\"attributes\":{},\"id\":\"1074\",\"type\":\"BasicTicker\"},{\"attributes\":{\"callback\":null,\"mode\":\"vline\",\"tooltips\":[[\"Bin\",\"@intvls\"],[\"Frequency\",\"@freq\"],[\"Percent\",\"@pct{0.2f}%\"]]},\"id\":\"1205\",\"type\":\"HoverTool\"},{\"attributes\":{\"bottom\":{\"value\":0.01},\"fill_alpha\":{\"value\":0.1},\"fill_color\":{\"value\":\"#1f77b4\"},\"line_alpha\":{\"value\":0.1},\"line_color\":{\"value\":\"#1f77b4\"},\"top\":{\"field\":\"cnt\"},\"width\":{\"value\":0.9},\"x\":{\"field\":\"col\"}},\"id\":\"1418\",\"type\":\"VBar\"},{\"attributes\":{\"axis\":{\"id\":\"1128\"},\"grid_line_color\":null,\"ticker\":{\"id\":\"1145\"}},\"id\":\"1131\",\"type\":\"Grid\"},{\"attributes\":{\"text\":\"lat\",\"text_font_size\":{\"value\":\"10pt\"}},\"id\":\"1118\",\"type\":\"Title\"},{\"attributes\":{},\"id\":\"1045\",\"type\":\"BasicTicker\"},{\"attributes\":{},\"id\":\"1409\",\"type\":\"BasicTicker\"},{\"attributes\":{},\"id\":\"1164\",\"type\":\"BasicTicker\"},{\"attributes\":{\"callback\":null,\"tooltips\":[[\"has_website\",\"@col\"],[\"Count\",\"@cnt\"],[\"Percent\",\"@pct{0.2f}%\"]]},\"id\":\"1412\",\"type\":\"HoverTool\"},{\"attributes\":{\"data\":{\"freq\":[428,32,10,3,0,2,1,0,1,1],\"index\":[0,1,2,3,4,5,6,7,8,9],\"intvls\":[\"[0, 97.8)\",\"[97.8, 195.6)\",\"[195.6, 293.4)\",\"[293.4, 391.2)\",\"[391.2, 489)\",\"[489, 586.8)\",\"[586.8, 684.6)\",\"[684.6, 782.4)\",\"[782.4, 880.2)\",\"[880.2,978]\"],\"left\":{\"__ndarray__\":\"AAAAAAAAAAAzMzMzM3NYQDMzMzMzc2hAZmZmZmZWckAzMzMzM3N4QAAAAAAAkH5AZmZmZmZWgkDNzMzMzGSFQDMzMzMzc4hAmZmZmZmBi0A=\",\"dtype\":\"float64\",\"order\":\"little\",\"shape\":[10]},\"pct\":{\"__ndarray__\":\"1VcyP4tiVkBQm4HpOscaQBIB8dGEvABAfDQhL2wV5D8AAAAAAAAAAFCbgek6x9o/UJuB6TrHyj8AAAAAAAAAAFCbgek6x8o/UJuB6TrHyj8=\",\"dtype\":\"float64\",\"order\":\"little\",\"shape\":[10]},\"right\":{\"__ndarray__\":\"MzMzMzNzWEAzMzMzM3NoQGZmZmZmVnJAMzMzMzNzeEAAAAAAAJB+QGZmZmZmVoJAzczMzMxkhUAzMzMzM3OIQJmZmZmZgYtAAAAAAACQjkA=\",\"dtype\":\"float64\",\"order\":\"little\",\"shape\":[10]}},\"selected\":{\"id\":\"1528\"},\"selection_policy\":{\"id\":\"1527\"}},\"id\":\"1321\",\"type\":\"ColumnDataSource\"},{\"attributes\":{\"axis\":{\"id\":\"1163\"},\"dimension\":1,\"grid_line_color\":null,\"ticker\":null},\"id\":\"1166\",\"type\":\"Grid\"},{\"attributes\":{\"axis\":{\"id\":\"1194\"},\"dimension\":1,\"grid_line_color\":null,\"ticker\":null},\"id\":\"1197\",\"type\":\"Grid\"},{\"attributes\":{\"code\":\"\\n            if (tick.length &gt; 15) return tick.substring(0, 15-2) + '...';\\n            else return tick;\\n        \"},\"id\":\"1057\",\"type\":\"FuncTickFormatter\"},{\"attributes\":{},\"id\":\"1464\",\"type\":\"UnionRenderers\"},{\"attributes\":{\"data_source\":{\"id\":\"1080\"},\"glyph\":{\"id\":\"1082\"},\"hover_glyph\":null,\"muted_glyph\":null,\"nonselection_glyph\":{\"id\":\"1083\"},\"selection_glyph\":null,\"view\":{\"id\":\"1085\"}},\"id\":\"1084\",\"type\":\"GlyphRenderer\"},{\"attributes\":{\"axis\":{\"id\":\"1252\"},\"grid_line_color\":null,\"ticker\":{\"id\":\"1269\"}},\"id\":\"1255\",\"type\":\"Grid\"},{\"attributes\":{\"data\":{\"cnt\":[36,20,16,16,12,11,11,11,11,11],\"col\":[\"Hotel\",\"Caf\\u00e9\",\"Italian Restaurant\",\"Plaza\",\"Coffee Shop\",\"Bakery\",\"Cocktail Bar\",\"French Restaurant\",\"Ice Cream Shop\",\"Park\"],\"index\":[0,1,2,3,4,5,6,7,8,9],\"pct\":{\"__ndarray__\":\"u86xRiIgHkASAfHRhLwQQFCbgek6xwpAUJuB6TrHCkB8NCEvbBUEQMcaiYD4aAJAxxqJgPhoAkDHGomA+GgCQMcaiYD4aAJAxxqJgPhoAkA=\",\"dtype\":\"float64\",\"order\":\"little\",\"shape\":[10]}},\"selected\":{\"id\":\"1465\"},\"selection_policy\":{\"id\":\"1464\"}},\"id\":\"1051\",\"type\":\"ColumnDataSource\"},{\"attributes\":{},\"id\":\"1472\",\"type\":\"Selection\"},{\"attributes\":{},\"id\":\"1469\",\"type\":\"BasicTickFormatter\"},{\"attributes\":{\"axis\":{\"id\":\"1256\"},\"dimension\":1,\"grid_line_color\":null,\"ticker\":null},\"id\":\"1259\",\"type\":\"Grid\"},{\"attributes\":{\"axis\":{\"id\":\"1408\"},\"dimension\":1,\"grid_line_color\":null,\"ticker\":null},\"id\":\"1411\",\"type\":\"Grid\"},{\"attributes\":{\"text\":\"lon\",\"text_font_size\":{\"value\":\"10pt\"}},\"id\":\"1149\",\"type\":\"Title\"},{\"attributes\":{\"active_drag\":\"auto\",\"active_inspect\":\"auto\",\"active_multi\":null,\"active_scroll\":\"auto\",\"active_tap\":\"auto\",\"tools\":[{\"id\":\"1441\"}]},\"id\":\"1442\",\"type\":\"Toolbar\"},{\"attributes\":{\"code\":\"\\n            if (tick.length &gt; 15) return tick.substring(0, 15-2) + '...';\\n            else return tick;\\n        \"},\"id\":\"1299\",\"type\":\"FuncTickFormatter\"},{\"attributes\":{},\"id\":\"1471\",\"type\":\"UnionRenderers\"},{\"attributes\":{\"bottom\":{\"value\":0.01},\"fill_color\":{\"value\":\"#1f77b4\"},\"line_color\":{\"value\":\"#1f77b4\"},\"top\":{\"field\":\"cnt\"},\"width\":{\"value\":0.9},\"x\":{\"field\":\"col\"}},\"id\":\"1417\",\"type\":\"VBar\"},{\"attributes\":{\"below\":[{\"id\":\"1041\"}],\"center\":[{\"id\":\"1043\"},{\"id\":\"1047\"}],\"left\":[{\"id\":\"1044\"}],\"plot_height\":300,\"plot_width\":324,\"renderers\":[{\"id\":\"1055\"}],\"title\":{\"id\":\"1031\"},\"toolbar\":{\"id\":\"1049\"},\"toolbar_location\":null,\"x_range\":{\"id\":\"1033\"},\"x_scale\":{\"id\":\"1037\"},\"y_range\":{\"id\":\"1035\"},\"y_scale\":{\"id\":\"1039\"}},\"id\":\"1030\",\"subtype\":\"Figure\",\"type\":\"Plot\"},{\"attributes\":{\"source\":{\"id\":\"1293\"}},\"id\":\"1298\",\"type\":\"CDSView\"},{\"attributes\":{\"below\":[{\"id\":\"1190\"}],\"center\":[{\"id\":\"1193\"},{\"id\":\"1197\"}],\"left\":[{\"id\":\"1194\"}],\"plot_height\":300,\"plot_width\":324,\"renderers\":[{\"id\":\"1203\"}],\"title\":{\"id\":\"1180\"},\"toolbar\":{\"id\":\"1198\"},\"toolbar_location\":null,\"x_range\":{\"id\":\"1182\"},\"x_scale\":{\"id\":\"1186\"},\"y_range\":{\"id\":\"1184\"},\"y_scale\":{\"id\":\"1188\"}},\"id\":\"1179\",\"subtype\":\"Figure\",\"type\":\"Plot\"},{\"attributes\":{\"formatter\":{\"id\":\"1526\"},\"major_label_overrides\":{\"0\":\"0\",\"200\":\"200\",\"400\":\"400\",\"600\":\"600\",\"800\":\"800\"},\"major_label_standoff\":7,\"major_label_text_font_size\":\"10pt\",\"major_tick_line_color\":null,\"minor_tick_line_color\":\"white\",\"ticker\":{\"id\":\"1330\"}},\"id\":\"1312\",\"type\":\"LinearAxis\"},{\"attributes\":{},\"id\":\"1341\",\"type\":\"LinearScale\"},{\"attributes\":{},\"id\":\"1518\",\"type\":\"BasicTickFormatter\"},{\"attributes\":{\"bottom\":{\"value\":0.01},\"fill_color\":{\"value\":\"#1f77b4\"},\"line_color\":{\"value\":\"#1f77b4\"},\"top\":{\"field\":\"cnt\"},\"width\":{\"value\":0.9},\"x\":{\"field\":\"col\"}},\"id\":\"1295\",\"type\":\"VBar\"},{\"attributes\":{\"axis_label\":\"Frequency\",\"formatter\":{\"id\":\"1511\"},\"major_label_text_font_size\":\"0pt\",\"major_tick_line_color\":null,\"minor_tick_line_color\":\"white\",\"ticker\":{\"id\":\"1257\"}},\"id\":\"1256\",\"type\":\"LinearAxis\"},{\"attributes\":{\"axis_label\":\"Count\",\"formatter\":{\"id\":\"1553\"},\"major_label_text_font_size\":\"0pt\",\"major_tick_line_color\":null,\"minor_tick_line_color\":\"white\",\"ticker\":{\"id\":\"1438\"}},\"id\":\"1437\",\"type\":\"LinearAxis\"},{\"attributes\":{\"bottom\":{\"value\":0.01},\"fill_alpha\":{\"value\":0.1},\"fill_color\":{\"value\":\"#1f77b4\"},\"line_alpha\":{\"value\":0.1},\"line_color\":{\"value\":\"#1f77b4\"},\"top\":{\"field\":\"cnt\"},\"width\":{\"value\":0.9},\"x\":{\"field\":\"col\"}},\"id\":\"1083\",\"type\":\"VBar\"},{\"attributes\":{},\"id\":\"1490\",\"type\":\"BasicTickFormatter\"},{\"attributes\":{},\"id\":\"1308\",\"type\":\"LinearScale\"},{\"attributes\":{},\"id\":\"1492\",\"type\":\"UnionRenderers\"}],\"root_ids\":[\"1561\"]},\"title\":\"Bokeh Application\",\"version\":\"2.1.0\"}}\n",
       "        </script>\n",
       "        <script type=\"text/javascript\">\n",
       "          (function() {\n",
       "            var fn = function() {\n",
       "              var __dataprep_bokeh_fix = (f) => document.Bokeh === undefined ? setTimeout(f, 1000) : f(); __dataprep_bokeh_fix(function() {\n",
       "                (function(root) {\n",
       "                  function embed_document(root) {\n",
       "                    \n",
       "                  var docs_json = document.getElementById('2552').textContent;\n",
       "                  var render_items = [{\"docid\":\"5e82fb1e-155f-4d6f-9582-bd03ee8ca3d1\",\"root_ids\":[\"1561\"],\"roots\":{\"1561\":\"7ff15b67-6150-4989-ad41-32f67591d5c1\"}}];\n",
       "                  root.Bokeh.embed.embed_items(docs_json, render_items);\n",
       "                \n",
       "                  }\n",
       "                  if (root.Bokeh !== undefined) {\n",
       "                    embed_document(root);\n",
       "                  } else {\n",
       "                    var attempts = 0;\n",
       "                    var timer = setInterval(function(root) {\n",
       "                      if (root.Bokeh !== undefined) {\n",
       "                        clearInterval(timer);\n",
       "                        embed_document(root);\n",
       "                      } else {\n",
       "                        attempts++;\n",
       "                        if (attempts > 100) {\n",
       "                          clearInterval(timer);\n",
       "                          console.log(\"Bokeh: ERROR: Unable to run BokehJS code because BokehJS library is missing\");\n",
       "                        }\n",
       "                      }\n",
       "                    }, 10, root)\n",
       "                  }\n",
       "                })(window);\n",
       "              });\n",
       "            };\n",
       "            if (document.readyState != \"loading\") fn();\n",
       "            else document.addEventListener(\"DOMContentLoaded\", fn);\n",
       "          })();\n",
       "        </script>\n"
      ],
      "text/plain": [
       "<dataprep.eda.report.Report at 0x1fb988822c8>"
      ]
     },
     "execution_count": 12,
     "metadata": {},
     "output_type": "execute_result"
    }
   ],
   "source": [
    "edaplot(fs_df)"
   ]
  },
  {
   "cell_type": "code",
   "execution_count": 13,
   "metadata": {
    "ExecuteTime": {
     "end_time": "2020-07-08T06:02:58.345771Z",
     "start_time": "2020-07-08T06:02:57.715242Z"
    }
   },
   "outputs": [
    {
     "data": {
      "text/html": [
       "\n",
       "\n",
       "\n",
       "    \n",
       "    \n",
       "        \n",
       "        \n",
       "        \n",
       "            <div class=\"bk-root\" id=\"50dcb44d-a71d-4fff-a1f6-2829cfef4c45\" data-root-id=\"2674\"></div>\n",
       "        \n",
       "        \n",
       "    \n",
       "    \n",
       "    \n",
       "        <script type=\"application/json\" id=\"2987\">\n",
       "          {\"5ab4cb6a-2aa2-47cf-9604-eda64f79a485\":{\"roots\":{\"references\":[{\"attributes\":{\"items\":[{\"id\":\"2592\"},{\"id\":\"2609\"}]},\"id\":\"2591\",\"type\":\"Legend\"},{\"attributes\":{},\"id\":\"2622\",\"type\":\"CategoricalScale\"},{\"attributes\":{\"formatter\":{\"id\":\"2688\"},\"major_label_orientation\":1.0471975511965976,\"major_label_standoff\":0,\"major_label_text_font_size\":\"9pt\",\"major_tick_line_color\":null,\"ticker\":{\"id\":\"2627\"}},\"id\":\"2626\",\"type\":\"CategoricalAxis\"},{\"attributes\":{\"fields\":[\"present\"]},\"id\":\"2574\",\"type\":\"Stack\"},{\"attributes\":{},\"id\":\"2662\",\"type\":\"CategoricalTicker\"},{\"attributes\":{},\"id\":\"2699\",\"type\":\"UnionRenderers\"},{\"attributes\":{\"axis\":{\"id\":\"2661\"},\"dimension\":1,\"grid_line_color\":null,\"ticker\":null},\"id\":\"2663\",\"type\":\"Grid\"},{\"attributes\":{\"factors\":[\"city\"]},\"id\":\"2649\",\"type\":\"FactorRange\"},{\"attributes\":{},\"id\":\"2567\",\"type\":\"BasicTicker\"},{\"attributes\":{},\"id\":\"2624\",\"type\":\"LinearScale\"},{\"attributes\":{\"data\":{\"features\":[\"name\",\"category\",\"city\",\"country\",\"lat\",\"lon\",\"likes\",\"rating\",\"rating_count\",\"rating_color\",\"tip_count\",\"photos_count\",\"listed_count\",\"has_website\",\"has_contact\"],\"missing\":[0.0,0.0,19.0,0.0,0.0,0.0,0.0,0.0,0.0,0.0,0.0,0.0,0.0,0.0,0.0],\"present\":[478.0,478.0,459.0,478.0,478.0,478.0,478.0,478.0,478.0,478.0,478.0,478.0,478.0,478.0,478.0]},\"selected\":{\"id\":\"2608\"},\"selection_policy\":{\"id\":\"2607\"}},\"id\":\"2593\",\"type\":\"ColumnDataSource\"},{\"attributes\":{\"callback\":null,\"tooltips\":[[\"x\",\"@x\"],[\"y\",\"@y\"],[\"correlation\",\"@correlation{1.11}\"]]},\"id\":\"2664\",\"type\":\"HoverTool\"},{\"attributes\":{\"axis\":{\"id\":\"2626\"},\"grid_line_color\":null,\"ticker\":null},\"id\":\"2628\",\"type\":\"Grid\"},{\"attributes\":{\"child\":{\"id\":\"2651\"},\"title\":\"Heatmap\"},\"id\":\"2673\",\"type\":\"Panel\"},{\"attributes\":{\"color_mapper\":{\"id\":\"2611\"},\"formatter\":{\"id\":\"2613\"},\"label_standoff\":10,\"location\":[0,0],\"major_label_text_font_size\":\"8pt\",\"ticker\":{\"id\":\"2612\"}},\"id\":\"2614\",\"type\":\"ColorBar\"},{\"attributes\":{\"color_mapper\":{\"id\":\"2643\"},\"formatter\":{\"id\":\"2645\"},\"label_standoff\":6,\"location\":[0,0],\"major_label_text_font_size\":\"8pt\",\"ticker\":{\"id\":\"2644\"}},\"id\":\"2646\",\"type\":\"ColorBar\"},{\"attributes\":{},\"id\":\"2690\",\"type\":\"CategoricalTickFormatter\"},{\"attributes\":{\"factors\":[\"name\",\"category\",\"city (4.0%)\",\"country\",\"lat\",\"lon\",\"likes\",\"rating\",\"rating_count\",\"rating_color\",\"tip_count\",\"photos_count\",\"listed_count\",\"has_website\",\"has_contact\"]},\"id\":\"2617\",\"type\":\"FactorRange\"},{\"attributes\":{},\"id\":\"2627\",\"type\":\"CategoricalTicker\"},{\"attributes\":{},\"id\":\"2607\",\"type\":\"UnionRenderers\"},{\"attributes\":{\"axis\":{\"id\":\"2566\"},\"dimension\":1,\"ticker\":null},\"id\":\"2569\",\"type\":\"Grid\"},{\"attributes\":{},\"id\":\"2654\",\"type\":\"CategoricalScale\"},{\"attributes\":{\"format\":\"0 %\"},\"id\":\"2613\",\"type\":\"NumeralTickFormatter\"},{\"attributes\":{\"format\":\"%.2f\"},\"id\":\"2645\",\"type\":\"PrintfTickFormatter\"},{\"attributes\":{\"below\":[{\"id\":\"2563\"}],\"center\":[{\"id\":\"2565\"},{\"id\":\"2569\"}],\"left\":[{\"id\":\"2566\"}],\"plot_height\":500,\"plot_width\":500,\"renderers\":[{\"id\":\"2581\"},{\"id\":\"2597\"}],\"right\":[{\"id\":\"2591\"}],\"title\":{\"id\":\"2584\"},\"toolbar\":{\"id\":\"2571\"},\"toolbar_location\":null,\"x_range\":{\"id\":\"2555\"},\"x_scale\":{\"id\":\"2559\"},\"y_range\":{\"id\":\"2557\"},\"y_scale\":{\"id\":\"2561\"}},\"id\":\"2554\",\"subtype\":\"Figure\",\"type\":\"Plot\"},{\"attributes\":{\"fields\":[\"present\",\"missing\"]},\"id\":\"2576\",\"type\":\"Stack\"},{\"attributes\":{\"formatter\":{\"id\":\"2686\"},\"major_label_standoff\":0,\"major_label_text_font_size\":\"9pt\",\"major_tick_line_color\":null,\"ticker\":{\"id\":\"2630\"}},\"id\":\"2629\",\"type\":\"LinearAxis\"},{\"attributes\":{},\"id\":\"2564\",\"type\":\"CategoricalTicker\"},{\"attributes\":{},\"id\":\"2688\",\"type\":\"CategoricalTickFormatter\"},{\"attributes\":{},\"id\":\"2630\",\"type\":\"BasicTicker\"},{\"attributes\":{\"bottom\":{\"expr\":{\"id\":\"2575\"}},\"fill_alpha\":{\"value\":0.1},\"fill_color\":{\"value\":\"#ff7f0e\"},\"line_alpha\":{\"value\":0.1},\"line_color\":{\"value\":\"#ff7f0e\"},\"top\":{\"expr\":{\"id\":\"2576\"}},\"width\":{\"value\":0.9},\"x\":{\"field\":\"features\"}},\"id\":\"2596\",\"type\":\"VBar\"},{\"attributes\":{},\"id\":\"2697\",\"type\":\"UnionRenderers\"},{\"attributes\":{\"callback\":null,\"tooltips\":[[\"Column\",\"@column\"],[\"Loc\",\"@loc_start{1}~@loc_end{1}\"],[\"Missing%\",\"@missing_rate{1%}\"]]},\"id\":\"2633\",\"type\":\"HoverTool\"},{\"attributes\":{\"fill_color\":{\"field\":\"correlation\",\"transform\":{\"id\":\"2643\"}},\"height\":{\"units\":\"data\",\"value\":1},\"line_color\":{\"value\":null},\"width\":{\"units\":\"data\",\"value\":1},\"x\":{\"field\":\"x\"},\"y\":{\"field\":\"y\"}},\"id\":\"2669\",\"type\":\"Rect\"},{\"attributes\":{\"fill_alpha\":{\"value\":0.1},\"fill_color\":{\"field\":\"missing_rate\",\"transform\":{\"id\":\"2611\"}},\"height\":{\"units\":\"data\",\"value\":15.0},\"line_alpha\":{\"value\":0.1},\"line_color\":{\"value\":null},\"line_width\":{\"value\":0},\"width\":{\"units\":\"data\",\"value\":0.95},\"x\":{\"field\":\"column_with_perc\"},\"y\":{\"field\":\"location\"}},\"id\":\"2639\",\"type\":\"Rect\"},{\"attributes\":{\"axis_label\":\"Total Count\",\"formatter\":{\"id\":\"2586\"},\"major_label_standoff\":0,\"major_label_text_font_size\":\"9pt\",\"major_tick_line_color\":null,\"ticker\":{\"id\":\"2567\"}},\"id\":\"2566\",\"type\":\"LinearAxis\"},{\"attributes\":{\"factors\":[\"name\",\"category\",\"city\",\"country\",\"lat\",\"lon\",\"likes\",\"rating\",\"rating_count\",\"rating_color\",\"tip_count\",\"photos_count\",\"listed_count\",\"has_website\",\"has_contact\"],\"range_padding\":0.1},\"id\":\"2555\",\"type\":\"FactorRange\"},{\"attributes\":{},\"id\":\"2559\",\"type\":\"CategoricalScale\"},{\"attributes\":{},\"id\":\"2586\",\"type\":\"BasicTickFormatter\"},{\"attributes\":{\"axis\":{\"id\":\"2629\"},\"dimension\":1,\"grid_line_color\":null,\"ticker\":null},\"id\":\"2632\",\"type\":\"Grid\"},{\"attributes\":{\"fill_alpha\":{\"value\":0.1},\"fill_color\":{\"field\":\"correlation\",\"transform\":{\"id\":\"2643\"}},\"height\":{\"units\":\"data\",\"value\":1},\"line_alpha\":{\"value\":0.1},\"line_color\":{\"value\":null},\"width\":{\"units\":\"data\",\"value\":1},\"x\":{\"field\":\"x\"},\"y\":{\"field\":\"y\"}},\"id\":\"2670\",\"type\":\"Rect\"},{\"attributes\":{},\"id\":\"2700\",\"type\":\"Selection\"},{\"attributes\":{\"data_source\":{\"id\":\"2667\"},\"glyph\":{\"id\":\"2669\"},\"hover_glyph\":null,\"muted_glyph\":null,\"nonselection_glyph\":{\"id\":\"2670\"},\"selection_glyph\":null,\"view\":{\"id\":\"2672\"}},\"id\":\"2671\",\"type\":\"GlyphRenderer\"},{\"attributes\":{\"data\":{\"features\":[\"name\",\"category\",\"city\",\"country\",\"lat\",\"lon\",\"likes\",\"rating\",\"rating_count\",\"rating_color\",\"tip_count\",\"photos_count\",\"listed_count\",\"has_website\",\"has_contact\"],\"missing\":[0.0,0.0,19.0,0.0,0.0,0.0,0.0,0.0,0.0,0.0,0.0,0.0,0.0,0.0,0.0],\"present\":[478.0,478.0,459.0,478.0,478.0,478.0,478.0,478.0,478.0,478.0,478.0,478.0,478.0,478.0,478.0]},\"selected\":{\"id\":\"2590\"},\"selection_policy\":{\"id\":\"2589\"}},\"id\":\"2577\",\"type\":\"ColumnDataSource\"},{\"attributes\":{\"fields\":[]},\"id\":\"2573\",\"type\":\"Stack\"},{\"attributes\":{\"fill_color\":{\"field\":\"missing_rate\",\"transform\":{\"id\":\"2611\"}},\"height\":{\"units\":\"data\",\"value\":15.0},\"line_color\":{\"value\":null},\"line_width\":{\"value\":0},\"width\":{\"units\":\"data\",\"value\":0.95},\"x\":{\"field\":\"column_with_perc\"},\"y\":{\"field\":\"location\"}},\"id\":\"2638\",\"type\":\"Rect\"},{\"attributes\":{},\"id\":\"2644\",\"type\":\"BasicTicker\"},{\"attributes\":{\"high\":1,\"low\":0,\"palette\":[\"#ffffff\",\"#fefefe\",\"#fdfdfd\",\"#fcfcfc\",\"#fbfbfb\",\"#fafafa\",\"#f9f9f9\",\"#f8f8f8\",\"#f7f7f7\",\"#f6f6f6\",\"#f5f5f5\",\"#f4f4f4\",\"#f3f3f3\",\"#f2f2f2\",\"#f1f1f1\",\"#f0f0f0\",\"#efefef\",\"#eeeeee\",\"#ededed\",\"#ececec\",\"#ebebeb\",\"#eaeaea\",\"#e9e9e9\",\"#e8e8e8\",\"#e7e7e7\",\"#e6e6e6\",\"#e5e5e5\",\"#e4e4e4\",\"#e3e3e3\",\"#e2e2e2\",\"#e1e1e1\",\"#e0e0e0\",\"#dfdfdf\",\"#dedede\",\"#dddddd\",\"#dcdcdc\",\"#dbdbdb\",\"#dadada\",\"#d9d9d9\",\"#d8d8d8\",\"#d7d7d7\",\"#d6d6d6\",\"#d5d5d5\",\"#d4d4d4\",\"#d3d3d3\",\"#d2d2d2\",\"#d1d1d1\",\"#d0d0d0\",\"#cfcfcf\",\"#cecece\",\"#cdcdcd\",\"#cccccc\",\"#cbcbcb\",\"#cacaca\",\"#c9c9c9\",\"#c8c8c8\",\"#c7c7c7\",\"#c6c6c6\",\"#c5c5c5\",\"#c4c4c4\",\"#c3c3c3\",\"#c2c2c2\",\"#c1c1c1\",\"#c0c0c0\",\"#bfbfbf\",\"#bebebe\",\"#bdbdbd\",\"#bcbcbc\",\"#bbbbbb\",\"#bababa\",\"#b9b9b9\",\"#b8b8b8\",\"#b7b7b7\",\"#b6b6b6\",\"#b5b5b5\",\"#b4b4b4\",\"#b3b3b3\",\"#b2b2b2\",\"#b1b1b1\",\"#b0b0b0\",\"#afafaf\",\"#aeaeae\",\"#adadad\",\"#acacac\",\"#ababab\",\"#aaaaaa\",\"#a9a9a9\",\"#a8a8a8\",\"#a7a7a7\",\"#a6a6a6\",\"#a5a5a5\",\"#a4a4a4\",\"#a3a3a3\",\"#a2a2a2\",\"#a1a1a1\",\"#a0a0a0\",\"#9f9f9f\",\"#9e9e9e\",\"#9d9d9d\",\"#9c9c9c\",\"#9b9b9b\",\"#9a9a9a\",\"#999999\",\"#989898\",\"#979797\",\"#969696\",\"#959595\",\"#949494\",\"#939393\",\"#929292\",\"#919191\",\"#909090\",\"#8f8f8f\",\"#8e8e8e\",\"#8d8d8d\",\"#8c8c8c\",\"#8b8b8b\",\"#8a8a8a\",\"#898989\",\"#888888\",\"#878787\",\"#868686\",\"#858585\",\"#848484\",\"#838383\",\"#828282\",\"#818181\",\"#808080\",\"#7f7f7f\",\"#7e7e7e\",\"#7d7d7d\",\"#7c7c7c\",\"#7b7b7b\",\"#7a7a7a\",\"#797979\",\"#787878\",\"#777777\",\"#767676\",\"#757575\",\"#747474\",\"#737373\",\"#727272\",\"#717171\",\"#707070\",\"#6f6f6f\",\"#6e6e6e\",\"#6d6d6d\",\"#6c6c6c\",\"#6b6b6b\",\"#6a6a6a\",\"#696969\",\"#686868\",\"#676767\",\"#666666\",\"#656565\",\"#646464\",\"#636363\",\"#626262\",\"#616161\",\"#606060\",\"#5f5f5f\",\"#5e5e5e\",\"#5d5d5d\",\"#5c5c5c\",\"#5b5b5b\",\"#5a5a5a\",\"#595959\",\"#585858\",\"#575757\",\"#565656\",\"#555555\",\"#545454\",\"#535353\",\"#525252\",\"#515151\",\"#505050\",\"#4f4f4f\",\"#4e4e4e\",\"#4d4d4d\",\"#4c4c4c\",\"#4b4b4b\",\"#4a4a4a\",\"#494949\",\"#484848\",\"#474747\",\"#464646\",\"#454545\",\"#444444\",\"#434343\",\"#424242\",\"#414141\",\"#404040\",\"#3f3f3f\",\"#3e3e3e\",\"#3d3d3d\",\"#3c3c3c\",\"#3b3b3b\",\"#3a3a3a\",\"#393939\",\"#383838\",\"#373737\",\"#363636\",\"#353535\",\"#343434\",\"#333333\",\"#323232\",\"#313131\",\"#303030\",\"#2f2f2f\",\"#2e2e2e\",\"#2d2d2d\",\"#2c2c2c\",\"#2b2b2b\",\"#2a2a2a\",\"#292929\",\"#282828\",\"#272727\",\"#262626\",\"#252525\",\"#242424\",\"#232323\",\"#222222\",\"#212121\",\"#202020\",\"#1f1f1f\",\"#1e1e1e\",\"#1d1d1d\",\"#1c1c1c\",\"#1b1b1b\",\"#1a1a1a\",\"#191919\",\"#181818\",\"#171717\",\"#161616\",\"#151515\",\"#141414\",\"#131313\",\"#121212\",\"#111111\",\"#101010\",\"#0f0f0f\",\"#0e0e0e\",\"#0d0d0d\",\"#0c0c0c\",\"#0b0b0b\",\"#0a0a0a\",\"#090909\",\"#080808\",\"#070707\",\"#060606\",\"#050505\",\"#040404\",\"#030303\",\"#020202\",\"#010101\",\"#000000\"]},\"id\":\"2611\",\"type\":\"LinearColorMapper\"},{\"attributes\":{\"formatter\":{\"id\":\"2588\"},\"major_label_orientation\":1.0471975511965976,\"major_label_standoff\":0,\"major_label_text_font_size\":\"9pt\",\"major_tick_line_color\":null,\"ticker\":{\"id\":\"2564\"}},\"id\":\"2563\",\"type\":\"CategoricalAxis\"},{\"attributes\":{},\"id\":\"2698\",\"type\":\"Selection\"},{\"attributes\":{},\"id\":\"2692\",\"type\":\"CategoricalTickFormatter\"},{\"attributes\":{\"source\":{\"id\":\"2667\"}},\"id\":\"2672\",\"type\":\"CDSView\"},{\"attributes\":{\"data_source\":{\"id\":\"2593\"},\"glyph\":{\"id\":\"2595\"},\"hover_glyph\":null,\"muted_glyph\":null,\"name\":\"missing\",\"nonselection_glyph\":{\"id\":\"2596\"},\"selection_glyph\":null,\"view\":{\"id\":\"2598\"}},\"id\":\"2597\",\"type\":\"GlyphRenderer\"},{\"attributes\":{},\"id\":\"2590\",\"type\":\"Selection\"},{\"attributes\":{\"start\":0},\"id\":\"2557\",\"type\":\"DataRange1d\"},{\"attributes\":{\"fields\":[\"present\"]},\"id\":\"2575\",\"type\":\"Stack\"},{\"attributes\":{},\"id\":\"2612\",\"type\":\"BasicTicker\"},{\"attributes\":{},\"id\":\"2561\",\"type\":\"LinearScale\"},{\"attributes\":{\"callback\":null,\"tooltips\":\"$name @features: @$name\"},\"id\":\"2570\",\"type\":\"HoverTool\"},{\"attributes\":{\"text\":\"\"},\"id\":\"2680\",\"type\":\"Title\"},{\"attributes\":{},\"id\":\"2588\",\"type\":\"CategoricalTickFormatter\"},{\"attributes\":{\"high\":1,\"low\":-1,\"palette\":[\"#053061\",\"#063263\",\"#073466\",\"#083669\",\"#09386c\",\"#0a3a6f\",\"#0b3c72\",\"#0c3e75\",\"#0d4078\",\"#0e437b\",\"#0f457e\",\"#114781\",\"#124984\",\"#134b87\",\"#144d8a\",\"#154f8d\",\"#165190\",\"#175493\",\"#185695\",\"#195898\",\"#1a5a9b\",\"#1c5c9e\",\"#1d5ea1\",\"#1e60a4\",\"#1f62a7\",\"#2064aa\",\"#2166ac\",\"#2368ad\",\"#246aae\",\"#256caf\",\"#276db0\",\"#286fb0\",\"#2971b1\",\"#2b73b2\",\"#2c75b3\",\"#2d76b4\",\"#2f78b5\",\"#307ab6\",\"#317cb7\",\"#337db8\",\"#347fb9\",\"#3581b9\",\"#3783ba\",\"#3884bb\",\"#3986bc\",\"#3b88bd\",\"#3c8abe\",\"#3d8bbf\",\"#3f8dc0\",\"#408fc1\",\"#4191c2\",\"#4393c3\",\"#4694c4\",\"#4996c5\",\"#4c98c6\",\"#4f9ac7\",\"#529cc8\",\"#559ec9\",\"#58a0ca\",\"#5ba2cb\",\"#5ea4cc\",\"#61a6cd\",\"#65a8ce\",\"#68aacf\",\"#6bacd0\",\"#6eaed1\",\"#71b0d2\",\"#74b2d3\",\"#77b4d5\",\"#7ab6d6\",\"#7db8d7\",\"#80bad8\",\"#84bcd9\",\"#87beda\",\"#8ac0db\",\"#8dc2dc\",\"#90c4dd\",\"#93c5de\",\"#95c6df\",\"#98c8df\",\"#9ac9e0\",\"#9dcae1\",\"#9fcbe1\",\"#a2cde2\",\"#a4cee3\",\"#a7cfe4\",\"#a9d0e4\",\"#abd2e5\",\"#aed3e6\",\"#b0d4e6\",\"#b3d5e7\",\"#b5d7e8\",\"#b8d8e8\",\"#bad9e9\",\"#bddaea\",\"#bfdceb\",\"#c2ddeb\",\"#c4deec\",\"#c7dfed\",\"#c9e1ed\",\"#cce2ee\",\"#cee3ef\",\"#d1e5f0\",\"#d2e5f0\",\"#d3e6f0\",\"#d5e7f0\",\"#d6e7f1\",\"#d8e8f1\",\"#d9e9f1\",\"#dbe9f1\",\"#dceaf2\",\"#deebf2\",\"#dfecf2\",\"#e1ecf3\",\"#e2edf3\",\"#e4eef3\",\"#e5eef3\",\"#e7eff4\",\"#e8f0f4\",\"#eaf1f4\",\"#ebf1f4\",\"#edf2f5\",\"#eef3f5\",\"#f0f3f5\",\"#f1f4f6\",\"#f3f5f6\",\"#f4f5f6\",\"#f6f6f6\",\"#f7f6f6\",\"#f7f5f4\",\"#f7f4f2\",\"#f7f3f0\",\"#f8f2ee\",\"#f8f0ec\",\"#f8efea\",\"#f8eee8\",\"#f9ede7\",\"#f9ece5\",\"#f9ebe3\",\"#f9eae1\",\"#f9e9df\",\"#fae8dd\",\"#fae7db\",\"#fae5d9\",\"#fae4d7\",\"#fbe3d6\",\"#fbe2d4\",\"#fbe1d2\",\"#fbe0d0\",\"#fcdfce\",\"#fcdecc\",\"#fcddca\",\"#fcdcc8\",\"#fddbc7\",\"#fcd8c4\",\"#fcd6c1\",\"#fbd4be\",\"#fbd2bc\",\"#fbd0b9\",\"#faceb6\",\"#faccb4\",\"#facab1\",\"#f9c7ae\",\"#f9c5ab\",\"#f9c3a9\",\"#f8c1a6\",\"#f8bfa3\",\"#f8bda1\",\"#f7bb9e\",\"#f7b99b\",\"#f7b698\",\"#f6b496\",\"#f6b293\",\"#f5b090\",\"#f5ae8e\",\"#f5ac8b\",\"#f4aa88\",\"#f4a886\",\"#f4a683\",\"#f3a380\",\"#f2a07e\",\"#f19e7c\",\"#ef9b7a\",\"#ee9878\",\"#ed9676\",\"#ec9374\",\"#eb9072\",\"#ea8d70\",\"#e88b6e\",\"#e7886c\",\"#e6856a\",\"#e58368\",\"#e48065\",\"#e27d63\",\"#e17b61\",\"#e0785f\",\"#df755d\",\"#de725b\",\"#dd7059\",\"#db6d57\",\"#da6a55\",\"#d96853\",\"#d86551\",\"#d7624f\",\"#d6604d\",\"#d45d4b\",\"#d35a4a\",\"#d15749\",\"#d05447\",\"#ce5146\",\"#cd4f44\",\"#cc4c43\",\"#ca4942\",\"#c94641\",\"#c7433f\",\"#c6403e\",\"#c53e3c\",\"#c33b3b\",\"#c2383a\",\"#c03538\",\"#bf3237\",\"#be3036\",\"#bc2d34\",\"#bb2a33\",\"#b92732\",\"#b82431\",\"#b6212f\",\"#b51f2e\",\"#b41c2d\",\"#b2192b\",\"#b0172a\",\"#ad162a\",\"#aa1529\",\"#a71429\",\"#a41328\",\"#a11228\",\"#9e1127\",\"#9b1027\",\"#991027\",\"#960f26\",\"#930e26\",\"#900d25\",\"#8d0c25\",\"#8a0b24\",\"#870a24\",\"#840923\",\"#810823\",\"#7e0722\",\"#7b0622\",\"#780521\",\"#750421\",\"#720320\",\"#6f0220\",\"#6c011f\",\"#69001f\",\"#67001f\"]},\"id\":\"2643\",\"type\":\"LinearColorMapper\"},{\"attributes\":{\"active_drag\":\"auto\",\"active_inspect\":\"auto\",\"active_multi\":null,\"active_scroll\":\"auto\",\"active_tap\":\"auto\",\"tools\":[{\"id\":\"2633\"}]},\"id\":\"2634\",\"type\":\"Toolbar\"},{\"attributes\":{\"axis_line_color\":null,\"formatter\":{\"id\":\"2690\"},\"major_label_standoff\":0,\"major_label_text_font_size\":\"9pt\",\"major_tick_line_color\":null,\"ticker\":{\"id\":\"2662\"}},\"id\":\"2661\",\"type\":\"CategoricalAxis\"},{\"attributes\":{\"source\":{\"id\":\"2593\"}},\"id\":\"2598\",\"type\":\"CDSView\"},{\"attributes\":{\"bottom\":{\"expr\":{\"id\":\"2575\"}},\"fill_color\":{\"value\":\"#ff7f0e\"},\"line_color\":{\"value\":\"#ff7f0e\"},\"top\":{\"expr\":{\"id\":\"2576\"}},\"width\":{\"value\":0.9},\"x\":{\"field\":\"features\"}},\"id\":\"2595\",\"type\":\"VBar\"},{\"attributes\":{\"data\":{\"column\":[\"name\",\"name\",\"name\",\"name\",\"name\",\"name\",\"name\",\"name\",\"name\",\"name\",\"name\",\"name\",\"name\",\"name\",\"name\",\"name\",\"name\",\"name\",\"name\",\"name\",\"name\",\"name\",\"name\",\"name\",\"name\",\"name\",\"name\",\"name\",\"name\",\"name\",\"name\",\"name\",\"category\",\"category\",\"category\",\"category\",\"category\",\"category\",\"category\",\"category\",\"category\",\"category\",\"category\",\"category\",\"category\",\"category\",\"category\",\"category\",\"category\",\"category\",\"category\",\"category\",\"category\",\"category\",\"category\",\"category\",\"category\",\"category\",\"category\",\"category\",\"category\",\"category\",\"category\",\"category\",\"city\",\"city\",\"city\",\"city\",\"city\",\"city\",\"city\",\"city\",\"city\",\"city\",\"city\",\"city\",\"city\",\"city\",\"city\",\"city\",\"city\",\"city\",\"city\",\"city\",\"city\",\"city\",\"city\",\"city\",\"city\",\"city\",\"city\",\"city\",\"city\",\"city\",\"city\",\"city\",\"country\",\"country\",\"country\",\"country\",\"country\",\"country\",\"country\",\"country\",\"country\",\"country\",\"country\",\"country\",\"country\",\"country\",\"country\",\"country\",\"country\",\"country\",\"country\",\"country\",\"country\",\"country\",\"country\",\"country\",\"country\",\"country\",\"country\",\"country\",\"country\",\"country\",\"country\",\"country\",\"lat\",\"lat\",\"lat\",\"lat\",\"lat\",\"lat\",\"lat\",\"lat\",\"lat\",\"lat\",\"lat\",\"lat\",\"lat\",\"lat\",\"lat\",\"lat\",\"lat\",\"lat\",\"lat\",\"lat\",\"lat\",\"lat\",\"lat\",\"lat\",\"lat\",\"lat\",\"lat\",\"lat\",\"lat\",\"lat\",\"lat\",\"lat\",\"lon\",\"lon\",\"lon\",\"lon\",\"lon\",\"lon\",\"lon\",\"lon\",\"lon\",\"lon\",\"lon\",\"lon\",\"lon\",\"lon\",\"lon\",\"lon\",\"lon\",\"lon\",\"lon\",\"lon\",\"lon\",\"lon\",\"lon\",\"lon\",\"lon\",\"lon\",\"lon\",\"lon\",\"lon\",\"lon\",\"lon\",\"lon\",\"likes\",\"likes\",\"likes\",\"likes\",\"likes\",\"likes\",\"likes\",\"likes\",\"likes\",\"likes\",\"likes\",\"likes\",\"likes\",\"likes\",\"likes\",\"likes\",\"likes\",\"likes\",\"likes\",\"likes\",\"likes\",\"likes\",\"likes\",\"likes\",\"likes\",\"likes\",\"likes\",\"likes\",\"likes\",\"likes\",\"likes\",\"likes\",\"rating\",\"rating\",\"rating\",\"rating\",\"rating\",\"rating\",\"rating\",\"rating\",\"rating\",\"rating\",\"rating\",\"rating\",\"rating\",\"rating\",\"rating\",\"rating\",\"rating\",\"rating\",\"rating\",\"rating\",\"rating\",\"rating\",\"rating\",\"rating\",\"rating\",\"rating\",\"rating\",\"rating\",\"rating\",\"rating\",\"rating\",\"rating\",\"rating_count\",\"rating_count\",\"rating_count\",\"rating_count\",\"rating_count\",\"rating_count\",\"rating_count\",\"rating_count\",\"rating_count\",\"rating_count\",\"rating_count\",\"rating_count\",\"rating_count\",\"rating_count\",\"rating_count\",\"rating_count\",\"rating_count\",\"rating_count\",\"rating_count\",\"rating_count\",\"rating_count\",\"rating_count\",\"rating_count\",\"rating_count\",\"rating_count\",\"rating_count\",\"rating_count\",\"rating_count\",\"rating_count\",\"rating_count\",\"rating_count\",\"rating_count\",\"rating_color\",\"rating_color\",\"rating_color\",\"rating_color\",\"rating_color\",\"rating_color\",\"rating_color\",\"rating_color\",\"rating_color\",\"rating_color\",\"rating_color\",\"rating_color\",\"rating_color\",\"rating_color\",\"rating_color\",\"rating_color\",\"rating_color\",\"rating_color\",\"rating_color\",\"rating_color\",\"rating_color\",\"rating_color\",\"rating_color\",\"rating_color\",\"rating_color\",\"rating_color\",\"rating_color\",\"rating_color\",\"rating_color\",\"rating_color\",\"rating_color\",\"rating_color\",\"tip_count\",\"tip_count\",\"tip_count\",\"tip_count\",\"tip_count\",\"tip_count\",\"tip_count\",\"tip_count\",\"tip_count\",\"tip_count\",\"tip_count\",\"tip_count\",\"tip_count\",\"tip_count\",\"tip_count\",\"tip_count\",\"tip_count\",\"tip_count\",\"tip_count\",\"tip_count\",\"tip_count\",\"tip_count\",\"tip_count\",\"tip_count\",\"tip_count\",\"tip_count\",\"tip_count\",\"tip_count\",\"tip_count\",\"tip_count\",\"tip_count\",\"tip_count\",\"photos_count\",\"photos_count\",\"photos_count\",\"photos_count\",\"photos_count\",\"photos_count\",\"photos_count\",\"photos_count\",\"photos_count\",\"photos_count\",\"photos_count\",\"photos_count\",\"photos_count\",\"photos_count\",\"photos_count\",\"photos_count\",\"photos_count\",\"photos_count\",\"photos_count\",\"photos_count\",\"photos_count\",\"photos_count\",\"photos_count\",\"photos_count\",\"photos_count\",\"photos_count\",\"photos_count\",\"photos_count\",\"photos_count\",\"photos_count\",\"photos_count\",\"photos_count\",\"listed_count\",\"listed_count\",\"listed_count\",\"listed_count\",\"listed_count\",\"listed_count\",\"listed_count\",\"listed_count\",\"listed_count\",\"listed_count\",\"listed_count\",\"listed_count\",\"listed_count\",\"listed_count\",\"listed_count\",\"listed_count\",\"listed_count\",\"listed_count\",\"listed_count\",\"listed_count\",\"listed_count\",\"listed_count\",\"listed_count\",\"listed_count\",\"listed_count\",\"listed_count\",\"listed_count\",\"listed_count\",\"listed_count\",\"listed_count\",\"listed_count\",\"listed_count\",\"has_website\",\"has_website\",\"has_website\",\"has_website\",\"has_website\",\"has_website\",\"has_website\",\"has_website\",\"has_website\",\"has_website\",\"has_website\",\"has_website\",\"has_website\",\"has_website\",\"has_website\",\"has_website\",\"has_website\",\"has_website\",\"has_website\",\"has_website\",\"has_website\",\"has_website\",\"has_website\",\"has_website\",\"has_website\",\"has_website\",\"has_website\",\"has_website\",\"has_website\",\"has_website\",\"has_website\",\"has_website\",\"has_contact\",\"has_contact\",\"has_contact\",\"has_contact\",\"has_contact\",\"has_contact\",\"has_contact\",\"has_contact\",\"has_contact\",\"has_contact\",\"has_contact\",\"has_contact\",\"has_contact\",\"has_contact\",\"has_contact\",\"has_contact\",\"has_contact\",\"has_contact\",\"has_contact\",\"has_contact\",\"has_contact\",\"has_contact\",\"has_contact\",\"has_contact\",\"has_contact\",\"has_contact\",\"has_contact\",\"has_contact\",\"has_contact\",\"has_contact\",\"has_contact\",\"has_contact\"],\"column_with_perc\":[\"name\",\"name\",\"name\",\"name\",\"name\",\"name\",\"name\",\"name\",\"name\",\"name\",\"name\",\"name\",\"name\",\"name\",\"name\",\"name\",\"name\",\"name\",\"name\",\"name\",\"name\",\"name\",\"name\",\"name\",\"name\",\"name\",\"name\",\"name\",\"name\",\"name\",\"name\",\"name\",\"category\",\"category\",\"category\",\"category\",\"category\",\"category\",\"category\",\"category\",\"category\",\"category\",\"category\",\"category\",\"category\",\"category\",\"category\",\"category\",\"category\",\"category\",\"category\",\"category\",\"category\",\"category\",\"category\",\"category\",\"category\",\"category\",\"category\",\"category\",\"category\",\"category\",\"category\",\"category\",\"city (4.0%)\",\"city (4.0%)\",\"city (4.0%)\",\"city (4.0%)\",\"city (4.0%)\",\"city (4.0%)\",\"city (4.0%)\",\"city (4.0%)\",\"city (4.0%)\",\"city (4.0%)\",\"city (4.0%)\",\"city (4.0%)\",\"city (4.0%)\",\"city (4.0%)\",\"city (4.0%)\",\"city (4.0%)\",\"city (4.0%)\",\"city (4.0%)\",\"city (4.0%)\",\"city (4.0%)\",\"city (4.0%)\",\"city (4.0%)\",\"city (4.0%)\",\"city (4.0%)\",\"city (4.0%)\",\"city (4.0%)\",\"city (4.0%)\",\"city (4.0%)\",\"city (4.0%)\",\"city (4.0%)\",\"city (4.0%)\",\"city (4.0%)\",\"country\",\"country\",\"country\",\"country\",\"country\",\"country\",\"country\",\"country\",\"country\",\"country\",\"country\",\"country\",\"country\",\"country\",\"country\",\"country\",\"country\",\"country\",\"country\",\"country\",\"country\",\"country\",\"country\",\"country\",\"country\",\"country\",\"country\",\"country\",\"country\",\"country\",\"country\",\"country\",\"lat\",\"lat\",\"lat\",\"lat\",\"lat\",\"lat\",\"lat\",\"lat\",\"lat\",\"lat\",\"lat\",\"lat\",\"lat\",\"lat\",\"lat\",\"lat\",\"lat\",\"lat\",\"lat\",\"lat\",\"lat\",\"lat\",\"lat\",\"lat\",\"lat\",\"lat\",\"lat\",\"lat\",\"lat\",\"lat\",\"lat\",\"lat\",\"lon\",\"lon\",\"lon\",\"lon\",\"lon\",\"lon\",\"lon\",\"lon\",\"lon\",\"lon\",\"lon\",\"lon\",\"lon\",\"lon\",\"lon\",\"lon\",\"lon\",\"lon\",\"lon\",\"lon\",\"lon\",\"lon\",\"lon\",\"lon\",\"lon\",\"lon\",\"lon\",\"lon\",\"lon\",\"lon\",\"lon\",\"lon\",\"likes\",\"likes\",\"likes\",\"likes\",\"likes\",\"likes\",\"likes\",\"likes\",\"likes\",\"likes\",\"likes\",\"likes\",\"likes\",\"likes\",\"likes\",\"likes\",\"likes\",\"likes\",\"likes\",\"likes\",\"likes\",\"likes\",\"likes\",\"likes\",\"likes\",\"likes\",\"likes\",\"likes\",\"likes\",\"likes\",\"likes\",\"likes\",\"rating\",\"rating\",\"rating\",\"rating\",\"rating\",\"rating\",\"rating\",\"rating\",\"rating\",\"rating\",\"rating\",\"rating\",\"rating\",\"rating\",\"rating\",\"rating\",\"rating\",\"rating\",\"rating\",\"rating\",\"rating\",\"rating\",\"rating\",\"rating\",\"rating\",\"rating\",\"rating\",\"rating\",\"rating\",\"rating\",\"rating\",\"rating\",\"rating_count\",\"rating_count\",\"rating_count\",\"rating_count\",\"rating_count\",\"rating_count\",\"rating_count\",\"rating_count\",\"rating_count\",\"rating_count\",\"rating_count\",\"rating_count\",\"rating_count\",\"rating_count\",\"rating_count\",\"rating_count\",\"rating_count\",\"rating_count\",\"rating_count\",\"rating_count\",\"rating_count\",\"rating_count\",\"rating_count\",\"rating_count\",\"rating_count\",\"rating_count\",\"rating_count\",\"rating_count\",\"rating_count\",\"rating_count\",\"rating_count\",\"rating_count\",\"rating_color\",\"rating_color\",\"rating_color\",\"rating_color\",\"rating_color\",\"rating_color\",\"rating_color\",\"rating_color\",\"rating_color\",\"rating_color\",\"rating_color\",\"rating_color\",\"rating_color\",\"rating_color\",\"rating_color\",\"rating_color\",\"rating_color\",\"rating_color\",\"rating_color\",\"rating_color\",\"rating_color\",\"rating_color\",\"rating_color\",\"rating_color\",\"rating_color\",\"rating_color\",\"rating_color\",\"rating_color\",\"rating_color\",\"rating_color\",\"rating_color\",\"rating_color\",\"tip_count\",\"tip_count\",\"tip_count\",\"tip_count\",\"tip_count\",\"tip_count\",\"tip_count\",\"tip_count\",\"tip_count\",\"tip_count\",\"tip_count\",\"tip_count\",\"tip_count\",\"tip_count\",\"tip_count\",\"tip_count\",\"tip_count\",\"tip_count\",\"tip_count\",\"tip_count\",\"tip_count\",\"tip_count\",\"tip_count\",\"tip_count\",\"tip_count\",\"tip_count\",\"tip_count\",\"tip_count\",\"tip_count\",\"tip_count\",\"tip_count\",\"tip_count\",\"photos_count\",\"photos_count\",\"photos_count\",\"photos_count\",\"photos_count\",\"photos_count\",\"photos_count\",\"photos_count\",\"photos_count\",\"photos_count\",\"photos_count\",\"photos_count\",\"photos_count\",\"photos_count\",\"photos_count\",\"photos_count\",\"photos_count\",\"photos_count\",\"photos_count\",\"photos_count\",\"photos_count\",\"photos_count\",\"photos_count\",\"photos_count\",\"photos_count\",\"photos_count\",\"photos_count\",\"photos_count\",\"photos_count\",\"photos_count\",\"photos_count\",\"photos_count\",\"listed_count\",\"listed_count\",\"listed_count\",\"listed_count\",\"listed_count\",\"listed_count\",\"listed_count\",\"listed_count\",\"listed_count\",\"listed_count\",\"listed_count\",\"listed_count\",\"listed_count\",\"listed_count\",\"listed_count\",\"listed_count\",\"listed_count\",\"listed_count\",\"listed_count\",\"listed_count\",\"listed_count\",\"listed_count\",\"listed_count\",\"listed_count\",\"listed_count\",\"listed_count\",\"listed_count\",\"listed_count\",\"listed_count\",\"listed_count\",\"listed_count\",\"listed_count\",\"has_website\",\"has_website\",\"has_website\",\"has_website\",\"has_website\",\"has_website\",\"has_website\",\"has_website\",\"has_website\",\"has_website\",\"has_website\",\"has_website\",\"has_website\",\"has_website\",\"has_website\",\"has_website\",\"has_website\",\"has_website\",\"has_website\",\"has_website\",\"has_website\",\"has_website\",\"has_website\",\"has_website\",\"has_website\",\"has_website\",\"has_website\",\"has_website\",\"has_website\",\"has_website\",\"has_website\",\"has_website\",\"has_contact\",\"has_contact\",\"has_contact\",\"has_contact\",\"has_contact\",\"has_contact\",\"has_contact\",\"has_contact\",\"has_contact\",\"has_contact\",\"has_contact\",\"has_contact\",\"has_contact\",\"has_contact\",\"has_contact\",\"has_contact\",\"has_contact\",\"has_contact\",\"has_contact\",\"has_contact\",\"has_contact\",\"has_contact\",\"has_contact\",\"has_contact\",\"has_contact\",\"has_contact\",\"has_contact\",\"has_contact\",\"has_contact\",\"has_contact\",\"has_contact\",\"has_contact\"],\"index\":[0,1,2,3,4,5,6,7,8,9,10,11,12,13,14,15,16,17,18,19,20,21,22,23,24,25,26,27,28,29,30,31,32,33,34,35,36,37,38,39,40,41,42,43,44,45,46,47,48,49,50,51,52,53,54,55,56,57,58,59,60,61,62,63,64,65,66,67,68,69,70,71,72,73,74,75,76,77,78,79,80,81,82,83,84,85,86,87,88,89,90,91,92,93,94,95,96,97,98,99,100,101,102,103,104,105,106,107,108,109,110,111,112,113,114,115,116,117,118,119,120,121,122,123,124,125,126,127,128,129,130,131,132,133,134,135,136,137,138,139,140,141,142,143,144,145,146,147,148,149,150,151,152,153,154,155,156,157,158,159,160,161,162,163,164,165,166,167,168,169,170,171,172,173,174,175,176,177,178,179,180,181,182,183,184,185,186,187,188,189,190,191,192,193,194,195,196,197,198,199,200,201,202,203,204,205,206,207,208,209,210,211,212,213,214,215,216,217,218,219,220,221,222,223,224,225,226,227,228,229,230,231,232,233,234,235,236,237,238,239,240,241,242,243,244,245,246,247,248,249,250,251,252,253,254,255,256,257,258,259,260,261,262,263,264,265,266,267,268,269,270,271,272,273,274,275,276,277,278,279,280,281,282,283,284,285,286,287,288,289,290,291,292,293,294,295,296,297,298,299,300,301,302,303,304,305,306,307,308,309,310,311,312,313,314,315,316,317,318,319,320,321,322,323,324,325,326,327,328,329,330,331,332,333,334,335,336,337,338,339,340,341,342,343,344,345,346,347,348,349,350,351,352,353,354,355,356,357,358,359,360,361,362,363,364,365,366,367,368,369,370,371,372,373,374,375,376,377,378,379,380,381,382,383,384,385,386,387,388,389,390,391,392,393,394,395,396,397,398,399,400,401,402,403,404,405,406,407,408,409,410,411,412,413,414,415,416,417,418,419,420,421,422,423,424,425,426,427,428,429,430,431,432,433,434,435,436,437,438,439,440,441,442,443,444,445,446,447,448,449,450,451,452,453,454,455,456,457,458,459,460,461,462,463,464,465,466,467,468,469,470,471,472,473,474,475,476,477,478,479],\"loc_end\":{\"__ndarray__\":\"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\",\"dtype\":\"int32\",\"order\":\"little\",\"shape\":[480]},\"loc_start\":{\"__ndarray__\":\"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\",\"dtype\":\"int32\",\"order\":\"little\",\"shape\":[480]},\"location\":{\"__ndarray__\":\"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\",\"dtype\":\"float64\",\"order\":\"little\",\"shape\":[480]},\"missing_rate\":{\"__ndarray__\":\"AAAAAAAAAAAAAAAAAAAAAAAAAAAAAAAAAAAAAAAAAAAAAAAAAAAAAAAAAAAAAAAAAAAAAAAAAAAAAAAAAAAAAAAAAAAAAAAAAAAAAAAAAAAAAAAAAAAAAAAAAAAAAAAAAAAAAAAAAAAAAAAAAAAAAAAAAAAAAAAAAAAAAAAAAAAAAAAAAAAAAAAAAAAAAAAAAAAAAAAAAAAAAAAAAAAAAAAAAAAAAAAAAAAAAAAAAAAAAAAAAAAAAAAAAAAAAAAAAAAAAAAAAAAAAAAAAAAAAAAAAAAAAAAAAAAAAAAAAAAAAAAAAAAAAAAAAAAAAAAAAAAAAAAAAAAAAAAAAAAAAAAAAAAAAAAAAAAAAAAAAAAAAAAAAAAAAAAAAAAAAAAAAAAAAAAAAAAAAAAAAAAAAAAAAAAAAAAAAAAAAAAAAAAAAAAAAAAAAAAAAAAAAAAAAAAAAAAAAAAAAAAAAAAAAAAAAAAAAAAAAAAAAAAAAAAAAAAAAAAAAAAAAAAAAAAAAAAAAAAAAAAAAAAAAAAAAAAAAAAAAAAAAAAAAAAAAAAAAAAAAAAAAAAAAAAAAAAAAAAAAAAAAAAAAAAAAAAAAAAAAAAAAAAAAAAAAAAAAAAAAAAAAAAAAAAAAAAAAAAAAAAAAAAAAAAAAAAAAAAAAAAAAAAAAAAAAAAAAAAAAAAAAAAAAAAAAAAAAAAAAAAAAAAAAAAAAAAAAAAAAAAAAAAAAAAAAAAAAAAAAAAAAAAAAAAAAAAAABEREREREbE/ERERERERsT8AAAAAAAAAAAAAAAAAAAAAAAAAAAAAAAAAAAAAAAAAABEREREREbE/AAAAAAAAAAARERERERGxPwAAAAAAAAAAERERERERwT8RERERERHRP5qZmZmZmck/AAAAAAAAAAAAAAAAAAAAABEREREREbE/AAAAAAAAAAAAAAAAAAAAABEREREREbE/ERERERERsT8RERERERGxPxEREREREbE/ERERERERsT8AAAAAAAAAAAAAAAAAAAAAAAAAAAAAAAAAAAAAAAAAAAAAAAAAAAAAAAAAAAAAAAAAAAAAAAAAAAAAAAAAAAAAAAAAAAAAAAAAAAAAAAAAAAAAAAAAAAAAAAAAAAAAAAAAAAAAAAAAAAAAAAAAAAAAAAAAAAAAAAAAAAAAAAAAAAAAAAAAAAAAAAAAAAAAAAAAAAAAAAAAAAAAAAAAAAAAAAAAAAAAAAAAAAAAAAAAAAAAAAAAAAAAAAAAAAAAAAAAAAAAAAAAAAAAAAAAAAAAAAAAAAAAAAAAAAAAAAAAAAAAAAAAAAAAAAAAAAAAAAAAAAAAAAAAAAAAAAAAAAAAAAAAAAAAAAAAAAAAAAAAAAAAAAAAAAAAAAAAAAAAAAAAAAAAAAAAAAAAAAAAAAAAAAAAAAAAAAAAAAAAAAAAAAAAAAAAAAAAAAAAAAAAAAAAAAAAAAAAAAAAAAAAAAAAAAAAAAAAAAAAAAAAAAAAAAAAAAAAAAAAAAAAAAAAAAAAAAAAAAAAAAAAAAAAAAAAAAAAAAAAAAAAAAAAAAAAAAAAAAAAAAAAAAAAAAAAAAAAAAAAAAAAAAAAAAAAAAAAAAAAAAAAAAAAAAAAAAAAAAAAAAAAAAAAAAAAAAAAAAAAAAAAAAAAAAAAAAAAAAAAAAAAAAAAAAAAAAAAAAAAAAAAAAAAAAAAAAAAAAAAAAAAAAAAAAAAAAAAAAAAAAAAAAAAAAAAAAAAAAAAAAAAAAAAAAAAAAAAAAAAAAAAAAAAAAAAAAAAAAAAAAAAAAAAAAAAAAAAAAAAAAAAAAAAAAAAAAAAAAAAAAAAAAAAAAAAAAAAAAAAAAAAAAAAAAAAAAAAAAAAAAAAAAAAAAAAAAAAAAAAAAAAAAAAAAAAAAAAAAAAAAAAAAAAAAAAAAAAAAAAAAAAAAAAAAAAAAAAAAAAAAAAAAAAAAAAAAAAAAAAAAAAAAAAAAAAAAAAAAAAAAAAAAAAAAAAAAAAAAAAAAAAAAAAAAAAAAAAAAAAAAAAAAAAAAAAAAAAAAAAAAAAAAAAAAAAAAAAAAAAAAAAAAAAAAAAAAAAAAAAAAAAAAAAAAAAAAAAAAAAAAAAAAAAAAAAAAAAAAAAAAAAAAAAAAAAAAAAAAAAAAAAAAAAAAAAAAAAAAAAAAAAAAAAAAAAAAAAAAAAAAAAAAAAAAAAAAAAAAAAAAAAAAAAAAAAAAAAAAAAAAAAAAAAAAAAAAAAAAAAAAAAAAAAAAAAAAAAAAAAAAAAAAAAAAAAAAAAAAAAAAAAAAAAAAAAAAAAAAAAAAAAAAAAAAAAAAAAAAAAAAAAAAAAAAAAAAAAAAAAAAAAAAAAAAAAAAAAAAAAAAAAAAAAAAAAAAAAAAAAAAAAAAAAAAAAAAAAAAAAAAAAAAAAAAAAAAAAAAAAAAAAAAAAAAAAAAAAAAAAAAAAAAAAAAAAAAAAAAAAAAAAAAAAAAAAAAAAAAAAAAAAAAAAAAAAAAAAAAAAAAAAAAAAAAAAAAAAAAAAAAAAAAAAAAAAAAAAAAAAAAAAAAAAAAAAAAAAAAAAAAAAAAAAAAAAAAAAAAAAAAAAAAAAAAAAAAAAAAAAAAAAAAAAAAAAAAAAAAAAAAAAAAAAAAAAAAAAAAAAAAAAAAAAAAAAAAAAAAAAAAAAAAAAAAAAAAAAAAAAAAAAAAAAAAAAAAAAAAAAAAAAAAAAAAAAAAAAAAAAAAAAAAAAAAAAAAAAAAAAAAAAAAAAAAAAAAAAAAAAAAAAAAAAAAAAAAAAAAAAAAAAAAAAAAAAAAAAAAAAAAAAAAAAAAAAAAAAAAAAAAAAAAAAAAAAAAAAAAAAAAAAAAAAAAAAAAAAAAAAAAAAAAAAAAAAAAAAAAAAAAAAAAAAAAAAAAAAAAAAAAAAAAAAAAAAAAAAAAAAAAAAAAAAAAAAAAAAAAAAAAAAAAAAAAAAAAAAAAAAAAAAAAAAAAAAAAAAAAAAAAAAAAAAAAAAAAAAAAAAAAAAAAAAAAAAAAAAAAAAAAAAAAAAAAAAAAAAAAAAAAAAAAAAAAAAAAAAAAAAAAAAAAAAAAAAAAAAAAAAAAAAAAAAAAAAAAAAAAAAAAAAAAAAAAAAAAAAAAAAAAAAAAAAAAAAAAAAAAAAAAAAAAAAAAAAAAAAAAAAAAAAAAAAAAAAAAAAAAAAAAAAAAAAAAAAAAAAAAAAAAAAAAAAAAAAAAAAAAAAAAAAAAAAAAAAAAAAAAAAAAAAAAAAAAAAAAAAAAAAAAAAAAAAAAAAAAAAAAAAAAAAAAAAAAAAAAAAAAAAAAAAAAAAAAAAAAAAAAAAAAAAAAAAAAAAAAAAAAAAAAAAAAAAAAAAAAAAAAAAAAAAAAAAAAAAAAAAAAAAAAAAAAAAAAAAAAAAAAAAAAAAAAAAAAAAAAAAAAAAAAAAAAAAAAAAAAAAAAAAAAAAAAAAAAAAAAAAAAAAAAAAAAAAAAAAAAAAAAAAAAAAAAAAAAAAAAAAAAAAAAAAAAAAAAAAAAAAAAAAAAAAAAAAAAAAAAAAAAAAAAAAAAAAAAAAAAAAAAAAAAAAAAAAAAAAAAAAAAAAAAAAAAAAAAAAAAAAAAAAAAAAAAAAAAAAAAAAAAAAAAAAAAAAAAAAAAAAAAAAAAAAAAAAAAAAAAAAAAAAAAAAAAAAAAAAAAAAAAAAAAAAAAAAAAAAAAAAAAAAAAAAAAAAAAAAAAAAAAAAAAAAAAAAAAAAAAAAAAAAAAAAAAAAAAAAAAAAAAAAAAAAAAAAAAAAAAAAAAAAAAAAAAAAAAAAAAAAAAAAAAAAAAAAAAAAAAAAAAAAAAAAAAAAAAAAAAAAAAAAAAAAAAAAAAAAAAAAAAAAAAAAAAAAAAAAAAAAAAAAAAAAAAAAAAAAAAAAAAAAAAAAAAAAAAAAAAAAAAAAAAAAAAAAAAAAAAAAAAAAAAAAAAAAAAAAAAAAAAAAAAAAAAAAAAAAAAAAAAAAAAAAAAAAAAAAAAAAAAAAAAAAAAAAAAAAAAAAAAAAAAAAAAAAAAAAAAAAAAAAAAAAAAAAAAAAAAAAAAAAAAAAAAAAAAAAAAAAAAAAAAAAAAAAAAAAAAAAAAAAAAAAAAAAAAAAAAAAAAAAAAAAAAAAAAAAAAAAAAAAAAAAAAAAAAAAAAAAAAAAAAAAAAAAAAAAAAAAAAAAAAAAAAAAAAAAAAAAAAAAAAAAAAAAAAAAAAAAAAAAAAAAAAAAAAAAAAAAAAAAAAAAAAAAAAAAAAAAAAAAAAAAAAAAAAAAAAAAAAAAAAAAAAAAAAAAAAAAAAAAAAAAAAAAAAAAAAAAAAAAAAAAAAAAAAAAAAAAAAAAAAAAAAAAAAAAAAAAAAAAAAAAAAAAAAAAAAAAAAAAAAAAAAAAAAAAAAAAAAAAAAAAAAAAAAAAAAAAAAAAAAAAAAAAAAAAAAAAAAAAAAAAAAAAAAAAAAAAAAAAAAAAAAAAAAAAAAAAAAAAAAAAAAAAAAAAAAAAAAAAAAAAAAAAAAAAAAAAAAAAAAAAAAAAAAAAAAAAAAAAAAAAAAAAAAAAAAAAAAAAAAAAAAAAAAAAAAAAAAAAAAAAAAAAAAAAAAAAAAAAAAAAAAAAAAAAAAAAAAAAAAAAAAAAAAAAAAAAAAAAAAAAAAAAAAAAAAAAAAAAAAAAAAAAAAAAAAAAAAAAAAAAAAAAAAAAAAAAAAAAAAAAAAAAAAAAAAAAAAAAAAAAAAAAAAAAAAAAAAAAAAAAAAAAAAAAAAAAAAAAAAAAAAAAAAAAAAAAAAAAAAAAAAAAAAAAAAAAAAAAAAAAAAAAAAAAAAAAAAAAAAAAAAAAAAAAAAAAAAAAAAAAAAAAAAAAAAAAAAAAAAAAAAAAAAAAAAAAAAAAAAAAAAAAAAAAAAAAAAAAAAAAAAAAAAAAAAAAAAAAAAAAAAAAAAAAAAAAAAAAAAAAAAAAAAAAAAAAAAAAAAAAAAAAAAAAAAAAAAAAAAAAAAAAAAAAAAAAAAAAAAAAAAAAAAAAAAAAAAAAAAAAAAAAAAAAAAAAAAAAAAAAAAAAAAAAAAAAAAAAAAAAAAAAAAAAAAAAAAAAAAAAAAAAAAAAAAAAAAAAAAAAAAAAAAAAAAAA\",\"dtype\":\"float64\",\"order\":\"little\",\"shape\":[480]}},\"selected\":{\"id\":\"2698\"},\"selection_policy\":{\"id\":\"2697\"}},\"id\":\"2636\",\"type\":\"ColumnDataSource\"},{\"attributes\":{\"bottom\":{\"expr\":{\"id\":\"2573\"}},\"fill_color\":{\"value\":\"#1f77b4\"},\"line_color\":{\"value\":\"#1f77b4\"},\"top\":{\"expr\":{\"id\":\"2574\"}},\"width\":{\"value\":0.9},\"x\":{\"field\":\"features\"}},\"id\":\"2579\",\"type\":\"VBar\"},{\"attributes\":{\"text\":\"\"},\"id\":\"2584\",\"type\":\"Title\"},{\"attributes\":{\"tabs\":[{\"id\":\"2610\"},{\"id\":\"2642\"},{\"id\":\"2673\"}]},\"id\":\"2674\",\"type\":\"Tabs\"},{\"attributes\":{\"factors\":[\"city\"]},\"id\":\"2650\",\"type\":\"FactorRange\"},{\"attributes\":{\"end\":0.0,\"start\":480.0},\"id\":\"2618\",\"type\":\"Range1d\"},{\"attributes\":{\"below\":[{\"id\":\"2626\"}],\"center\":[{\"id\":\"2628\"},{\"id\":\"2632\"}],\"left\":[{\"id\":\"2629\"}],\"plot_height\":500,\"plot_width\":500,\"renderers\":[{\"id\":\"2640\"}],\"right\":[{\"id\":\"2614\"}],\"title\":{\"id\":\"2678\"},\"toolbar\":{\"id\":\"2634\"},\"toolbar_location\":null,\"x_range\":{\"id\":\"2617\"},\"x_scale\":{\"id\":\"2622\"},\"y_range\":{\"id\":\"2618\"},\"y_scale\":{\"id\":\"2624\"}},\"id\":\"2619\",\"subtype\":\"Figure\",\"type\":\"Plot\"},{\"attributes\":{\"axis\":{\"id\":\"2563\"},\"ticker\":null},\"id\":\"2565\",\"type\":\"Grid\"},{\"attributes\":{},\"id\":\"2608\",\"type\":\"Selection\"},{\"attributes\":{\"background_fill_color\":\"#fafafa\",\"below\":[{\"id\":\"2658\"}],\"center\":[{\"id\":\"2660\"},{\"id\":\"2663\"}],\"left\":[{\"id\":\"2661\"}],\"plot_height\":500,\"plot_width\":500,\"renderers\":[{\"id\":\"2671\"}],\"right\":[{\"id\":\"2646\"}],\"title\":{\"id\":\"2680\"},\"toolbar\":{\"id\":\"2665\"},\"toolbar_location\":null,\"x_range\":{\"id\":\"2649\"},\"x_scale\":{\"id\":\"2654\"},\"y_range\":{\"id\":\"2650\"},\"y_scale\":{\"id\":\"2656\"}},\"id\":\"2651\",\"subtype\":\"Figure\",\"type\":\"Plot\"},{\"attributes\":{\"label\":{\"value\":\"missing\"},\"renderers\":[{\"id\":\"2597\"}]},\"id\":\"2609\",\"type\":\"LegendItem\"},{\"attributes\":{},\"id\":\"2589\",\"type\":\"UnionRenderers\"},{\"attributes\":{\"data_source\":{\"id\":\"2577\"},\"glyph\":{\"id\":\"2579\"},\"hover_glyph\":null,\"muted_glyph\":null,\"name\":\"present\",\"nonselection_glyph\":{\"id\":\"2580\"},\"selection_glyph\":null,\"view\":{\"id\":\"2582\"}},\"id\":\"2581\",\"type\":\"GlyphRenderer\"},{\"attributes\":{\"data\":{\"correlation\":{\"__ndarray__\":\"\",\"dtype\":\"float64\",\"order\":\"little\",\"shape\":[0]},\"index\":[],\"x\":[],\"y\":[]},\"selected\":{\"id\":\"2700\"},\"selection_policy\":{\"id\":\"2699\"}},\"id\":\"2667\",\"type\":\"ColumnDataSource\"},{\"attributes\":{\"child\":{\"id\":\"2619\"},\"title\":\"Spectrum\"},\"id\":\"2642\",\"type\":\"Panel\"},{\"attributes\":{\"axis_line_color\":null,\"formatter\":{\"id\":\"2692\"},\"major_label_orientation\":1.0471975511965976,\"major_label_standoff\":0,\"major_label_text_font_size\":\"9pt\",\"major_tick_line_color\":null,\"ticker\":{\"id\":\"2659\"}},\"id\":\"2658\",\"type\":\"CategoricalAxis\"},{\"attributes\":{\"label\":{\"value\":\"present\"},\"renderers\":[{\"id\":\"2581\"}]},\"id\":\"2592\",\"type\":\"LegendItem\"},{\"attributes\":{\"bottom\":{\"expr\":{\"id\":\"2573\"}},\"fill_alpha\":{\"value\":0.1},\"fill_color\":{\"value\":\"#1f77b4\"},\"line_alpha\":{\"value\":0.1},\"line_color\":{\"value\":\"#1f77b4\"},\"top\":{\"expr\":{\"id\":\"2574\"}},\"width\":{\"value\":0.9},\"x\":{\"field\":\"features\"}},\"id\":\"2580\",\"type\":\"VBar\"},{\"attributes\":{\"text\":\"\"},\"id\":\"2678\",\"type\":\"Title\"},{\"attributes\":{},\"id\":\"2656\",\"type\":\"CategoricalScale\"},{\"attributes\":{},\"id\":\"2686\",\"type\":\"BasicTickFormatter\"},{\"attributes\":{\"child\":{\"id\":\"2554\"},\"title\":\"Barchart\"},\"id\":\"2610\",\"type\":\"Panel\"},{\"attributes\":{\"source\":{\"id\":\"2577\"}},\"id\":\"2582\",\"type\":\"CDSView\"},{\"attributes\":{\"active_drag\":\"auto\",\"active_inspect\":\"auto\",\"active_multi\":null,\"active_scroll\":\"auto\",\"active_tap\":\"auto\",\"tools\":[{\"id\":\"2570\"}]},\"id\":\"2571\",\"type\":\"Toolbar\"},{\"attributes\":{\"active_drag\":\"auto\",\"active_inspect\":\"auto\",\"active_multi\":null,\"active_scroll\":\"auto\",\"active_tap\":\"auto\",\"tools\":[{\"id\":\"2664\"}]},\"id\":\"2665\",\"type\":\"Toolbar\"},{\"attributes\":{\"data_source\":{\"id\":\"2636\"},\"glyph\":{\"id\":\"2638\"},\"hover_glyph\":null,\"muted_glyph\":null,\"nonselection_glyph\":{\"id\":\"2639\"},\"selection_glyph\":null,\"view\":{\"id\":\"2641\"}},\"id\":\"2640\",\"type\":\"GlyphRenderer\"},{\"attributes\":{\"source\":{\"id\":\"2636\"}},\"id\":\"2641\",\"type\":\"CDSView\"},{\"attributes\":{\"axis\":{\"id\":\"2658\"},\"grid_line_color\":null,\"ticker\":null},\"id\":\"2660\",\"type\":\"Grid\"},{\"attributes\":{},\"id\":\"2659\",\"type\":\"CategoricalTicker\"}],\"root_ids\":[\"2674\"]},\"title\":\"Bokeh Application\",\"version\":\"2.1.0\"}}\n",
       "        </script>\n",
       "        <script type=\"text/javascript\">\n",
       "          (function() {\n",
       "            var fn = function() {\n",
       "              var __dataprep_bokeh_fix = (f) => document.Bokeh === undefined ? setTimeout(f, 1000) : f(); __dataprep_bokeh_fix(function() {\n",
       "                (function(root) {\n",
       "                  function embed_document(root) {\n",
       "                    \n",
       "                  var docs_json = document.getElementById('2987').textContent;\n",
       "                  var render_items = [{\"docid\":\"5ab4cb6a-2aa2-47cf-9604-eda64f79a485\",\"root_ids\":[\"2674\"],\"roots\":{\"2674\":\"50dcb44d-a71d-4fff-a1f6-2829cfef4c45\"}}];\n",
       "                  root.Bokeh.embed.embed_items(docs_json, render_items);\n",
       "                \n",
       "                  }\n",
       "                  if (root.Bokeh !== undefined) {\n",
       "                    embed_document(root);\n",
       "                  } else {\n",
       "                    var attempts = 0;\n",
       "                    var timer = setInterval(function(root) {\n",
       "                      if (root.Bokeh !== undefined) {\n",
       "                        clearInterval(timer);\n",
       "                        embed_document(root);\n",
       "                      } else {\n",
       "                        attempts++;\n",
       "                        if (attempts > 100) {\n",
       "                          clearInterval(timer);\n",
       "                          console.log(\"Bokeh: ERROR: Unable to run BokehJS code because BokehJS library is missing\");\n",
       "                        }\n",
       "                      }\n",
       "                    }, 10, root)\n",
       "                  }\n",
       "                })(window);\n",
       "              });\n",
       "            };\n",
       "            if (document.readyState != \"loading\") fn();\n",
       "            else document.addEventListener(\"DOMContentLoaded\", fn);\n",
       "          })();\n",
       "        </script>\n"
      ],
      "text/plain": [
       "<dataprep.eda.report.Report at 0x1fb995a3608>"
      ]
     },
     "execution_count": 13,
     "metadata": {},
     "output_type": "execute_result"
    }
   ],
   "source": [
    "plot_missing(fs_df)"
   ]
  },
  {
   "cell_type": "markdown",
   "metadata": {},
   "source": [
    "### Is there any relation between the rating and the number of photos?"
   ]
  },
  {
   "cell_type": "code",
   "execution_count": 14,
   "metadata": {
    "ExecuteTime": {
     "end_time": "2020-07-08T06:03:00.716507Z",
     "start_time": "2020-07-08T06:02:58.351755Z"
    }
   },
   "outputs": [
    {
     "data": {
      "text/html": [
       "\n",
       "\n",
       "\n",
       "    \n",
       "    \n",
       "        \n",
       "        \n",
       "        \n",
       "            <div class=\"bk-root\" id=\"8f8be3c4-950c-422c-9d89-8e7214012cb3\" data-root-id=\"3081\"></div>\n",
       "        \n",
       "        \n",
       "    \n",
       "    \n",
       "    \n",
       "        <script type=\"application/json\" id=\"3370\">\n",
       "          {\"2cf63d84-7c91-4c41-b8a3-8b8fd7d7ab98\":{\"roots\":{\"references\":[{\"attributes\":{},\"id\":\"3104\",\"type\":\"UnionRenderers\"},{\"attributes\":{},\"id\":\"3035\",\"type\":\"CategoricalTicker\"},{\"attributes\":{},\"id\":\"3020\",\"type\":\"BasicTicker\"},{\"attributes\":{\"text\":\"\"},\"id\":\"3085\",\"type\":\"Title\"},{\"attributes\":{},\"id\":\"3091\",\"type\":\"CategoricalTickFormatter\"},{\"attributes\":{\"child\":{\"id\":\"3058\"},\"title\":\"KendallTau\"},\"id\":\"3080\",\"type\":\"Panel\"},{\"attributes\":{\"child\":{\"id\":\"3027\"},\"title\":\"Spearman\"},\"id\":\"3049\",\"type\":\"Panel\"},{\"attributes\":{\"background_fill_color\":\"#fafafa\",\"below\":[{\"id\":\"3003\"}],\"center\":[{\"id\":\"3005\"},{\"id\":\"3008\"}],\"left\":[{\"id\":\"3006\"}],\"plot_height\":500,\"plot_width\":500,\"renderers\":[{\"id\":\"3016\"}],\"right\":[{\"id\":\"2991\"}],\"title\":{\"id\":\"3083\"},\"toolbar\":{\"id\":\"3010\"},\"toolbar_location\":null,\"x_range\":{\"id\":\"2994\"},\"x_scale\":{\"id\":\"2999\"},\"y_range\":{\"id\":\"2995\"},\"y_scale\":{\"id\":\"3001\"}},\"id\":\"2996\",\"subtype\":\"Figure\",\"type\":\"Plot\"},{\"attributes\":{},\"id\":\"3102\",\"type\":\"UnionRenderers\"},{\"attributes\":{},\"id\":\"2989\",\"type\":\"BasicTicker\"},{\"attributes\":{},\"id\":\"3030\",\"type\":\"CategoricalScale\"},{\"attributes\":{\"factors\":[\"lat\",\"lon\",\"likes\",\"rating\",\"rating_count\",\"tip_count\",\"photos_count\",\"listed_count\"]},\"id\":\"2994\",\"type\":\"FactorRange\"},{\"attributes\":{\"axis_line_color\":null,\"formatter\":{\"id\":\"3099\"},\"major_label_orientation\":1.0471975511965976,\"major_label_standoff\":0,\"major_label_text_font_size\":\"9pt\",\"major_tick_line_color\":null,\"ticker\":{\"id\":\"3066\"}},\"id\":\"3065\",\"type\":\"CategoricalAxis\"},{\"attributes\":{\"active_drag\":\"auto\",\"active_inspect\":\"auto\",\"active_multi\":null,\"active_scroll\":\"auto\",\"active_tap\":\"auto\",\"tools\":[{\"id\":\"3009\"}]},\"id\":\"3010\",\"type\":\"Toolbar\"},{\"attributes\":{},\"id\":\"3038\",\"type\":\"CategoricalTicker\"},{\"attributes\":{\"high\":1,\"low\":-1,\"palette\":[\"#053061\",\"#063263\",\"#073466\",\"#083669\",\"#09386c\",\"#0a3a6f\",\"#0b3c72\",\"#0c3e75\",\"#0d4078\",\"#0e437b\",\"#0f457e\",\"#114781\",\"#124984\",\"#134b87\",\"#144d8a\",\"#154f8d\",\"#165190\",\"#175493\",\"#185695\",\"#195898\",\"#1a5a9b\",\"#1c5c9e\",\"#1d5ea1\",\"#1e60a4\",\"#1f62a7\",\"#2064aa\",\"#2166ac\",\"#2368ad\",\"#246aae\",\"#256caf\",\"#276db0\",\"#286fb0\",\"#2971b1\",\"#2b73b2\",\"#2c75b3\",\"#2d76b4\",\"#2f78b5\",\"#307ab6\",\"#317cb7\",\"#337db8\",\"#347fb9\",\"#3581b9\",\"#3783ba\",\"#3884bb\",\"#3986bc\",\"#3b88bd\",\"#3c8abe\",\"#3d8bbf\",\"#3f8dc0\",\"#408fc1\",\"#4191c2\",\"#4393c3\",\"#4694c4\",\"#4996c5\",\"#4c98c6\",\"#4f9ac7\",\"#529cc8\",\"#559ec9\",\"#58a0ca\",\"#5ba2cb\",\"#5ea4cc\",\"#61a6cd\",\"#65a8ce\",\"#68aacf\",\"#6bacd0\",\"#6eaed1\",\"#71b0d2\",\"#74b2d3\",\"#77b4d5\",\"#7ab6d6\",\"#7db8d7\",\"#80bad8\",\"#84bcd9\",\"#87beda\",\"#8ac0db\",\"#8dc2dc\",\"#90c4dd\",\"#93c5de\",\"#95c6df\",\"#98c8df\",\"#9ac9e0\",\"#9dcae1\",\"#9fcbe1\",\"#a2cde2\",\"#a4cee3\",\"#a7cfe4\",\"#a9d0e4\",\"#abd2e5\",\"#aed3e6\",\"#b0d4e6\",\"#b3d5e7\",\"#b5d7e8\",\"#b8d8e8\",\"#bad9e9\",\"#bddaea\",\"#bfdceb\",\"#c2ddeb\",\"#c4deec\",\"#c7dfed\",\"#c9e1ed\",\"#cce2ee\",\"#cee3ef\",\"#d1e5f0\",\"#d2e5f0\",\"#d3e6f0\",\"#d5e7f0\",\"#d6e7f1\",\"#d8e8f1\",\"#d9e9f1\",\"#dbe9f1\",\"#dceaf2\",\"#deebf2\",\"#dfecf2\",\"#e1ecf3\",\"#e2edf3\",\"#e4eef3\",\"#e5eef3\",\"#e7eff4\",\"#e8f0f4\",\"#eaf1f4\",\"#ebf1f4\",\"#edf2f5\",\"#eef3f5\",\"#f0f3f5\",\"#f1f4f6\",\"#f3f5f6\",\"#f4f5f6\",\"#f6f6f6\",\"#f7f6f6\",\"#f7f5f4\",\"#f7f4f2\",\"#f7f3f0\",\"#f8f2ee\",\"#f8f0ec\",\"#f8efea\",\"#f8eee8\",\"#f9ede7\",\"#f9ece5\",\"#f9ebe3\",\"#f9eae1\",\"#f9e9df\",\"#fae8dd\",\"#fae7db\",\"#fae5d9\",\"#fae4d7\",\"#fbe3d6\",\"#fbe2d4\",\"#fbe1d2\",\"#fbe0d0\",\"#fcdfce\",\"#fcdecc\",\"#fcddca\",\"#fcdcc8\",\"#fddbc7\",\"#fcd8c4\",\"#fcd6c1\",\"#fbd4be\",\"#fbd2bc\",\"#fbd0b9\",\"#faceb6\",\"#faccb4\",\"#facab1\",\"#f9c7ae\",\"#f9c5ab\",\"#f9c3a9\",\"#f8c1a6\",\"#f8bfa3\",\"#f8bda1\",\"#f7bb9e\",\"#f7b99b\",\"#f7b698\",\"#f6b496\",\"#f6b293\",\"#f5b090\",\"#f5ae8e\",\"#f5ac8b\",\"#f4aa88\",\"#f4a886\",\"#f4a683\",\"#f3a380\",\"#f2a07e\",\"#f19e7c\",\"#ef9b7a\",\"#ee9878\",\"#ed9676\",\"#ec9374\",\"#eb9072\",\"#ea8d70\",\"#e88b6e\",\"#e7886c\",\"#e6856a\",\"#e58368\",\"#e48065\",\"#e27d63\",\"#e17b61\",\"#e0785f\",\"#df755d\",\"#de725b\",\"#dd7059\",\"#db6d57\",\"#da6a55\",\"#d96853\",\"#d86551\",\"#d7624f\",\"#d6604d\",\"#d45d4b\",\"#d35a4a\",\"#d15749\",\"#d05447\",\"#ce5146\",\"#cd4f44\",\"#cc4c43\",\"#ca4942\",\"#c94641\",\"#c7433f\",\"#c6403e\",\"#c53e3c\",\"#c33b3b\",\"#c2383a\",\"#c03538\",\"#bf3237\",\"#be3036\",\"#bc2d34\",\"#bb2a33\",\"#b92732\",\"#b82431\",\"#b6212f\",\"#b51f2e\",\"#b41c2d\",\"#b2192b\",\"#b0172a\",\"#ad162a\",\"#aa1529\",\"#a71429\",\"#a41328\",\"#a11228\",\"#9e1127\",\"#9b1027\",\"#991027\",\"#960f26\",\"#930e26\",\"#900d25\",\"#8d0c25\",\"#8a0b24\",\"#870a24\",\"#840923\",\"#810823\",\"#7e0722\",\"#7b0622\",\"#780521\",\"#750421\",\"#720320\",\"#6f0220\",\"#6c011f\",\"#69001f\",\"#67001f\"]},\"id\":\"3019\",\"type\":\"LinearColorMapper\"},{\"attributes\":{\"axis\":{\"id\":\"3006\"},\"dimension\":1,\"grid_line_color\":null,\"ticker\":null},\"id\":\"3008\",\"type\":\"Grid\"},{\"attributes\":{},\"id\":\"3089\",\"type\":\"CategoricalTickFormatter\"},{\"attributes\":{},\"id\":\"3101\",\"type\":\"Selection\"},{\"attributes\":{\"fill_alpha\":{\"value\":0.1},\"fill_color\":{\"field\":\"correlation\",\"transform\":{\"id\":\"3019\"}},\"height\":{\"units\":\"data\",\"value\":1},\"line_alpha\":{\"value\":0.1},\"line_color\":{\"value\":null},\"width\":{\"units\":\"data\",\"value\":1},\"x\":{\"field\":\"x\"},\"y\":{\"field\":\"y\"}},\"id\":\"3046\",\"type\":\"Rect\"},{\"attributes\":{\"color_mapper\":{\"id\":\"3050\"},\"formatter\":{\"id\":\"3052\"},\"label_standoff\":6,\"location\":[0,0],\"major_label_text_font_size\":\"8pt\",\"ticker\":{\"id\":\"3051\"}},\"id\":\"3053\",\"type\":\"ColorBar\"},{\"attributes\":{\"high\":1,\"low\":-1,\"palette\":[\"#053061\",\"#063263\",\"#073466\",\"#083669\",\"#09386c\",\"#0a3a6f\",\"#0b3c72\",\"#0c3e75\",\"#0d4078\",\"#0e437b\",\"#0f457e\",\"#114781\",\"#124984\",\"#134b87\",\"#144d8a\",\"#154f8d\",\"#165190\",\"#175493\",\"#185695\",\"#195898\",\"#1a5a9b\",\"#1c5c9e\",\"#1d5ea1\",\"#1e60a4\",\"#1f62a7\",\"#2064aa\",\"#2166ac\",\"#2368ad\",\"#246aae\",\"#256caf\",\"#276db0\",\"#286fb0\",\"#2971b1\",\"#2b73b2\",\"#2c75b3\",\"#2d76b4\",\"#2f78b5\",\"#307ab6\",\"#317cb7\",\"#337db8\",\"#347fb9\",\"#3581b9\",\"#3783ba\",\"#3884bb\",\"#3986bc\",\"#3b88bd\",\"#3c8abe\",\"#3d8bbf\",\"#3f8dc0\",\"#408fc1\",\"#4191c2\",\"#4393c3\",\"#4694c4\",\"#4996c5\",\"#4c98c6\",\"#4f9ac7\",\"#529cc8\",\"#559ec9\",\"#58a0ca\",\"#5ba2cb\",\"#5ea4cc\",\"#61a6cd\",\"#65a8ce\",\"#68aacf\",\"#6bacd0\",\"#6eaed1\",\"#71b0d2\",\"#74b2d3\",\"#77b4d5\",\"#7ab6d6\",\"#7db8d7\",\"#80bad8\",\"#84bcd9\",\"#87beda\",\"#8ac0db\",\"#8dc2dc\",\"#90c4dd\",\"#93c5de\",\"#95c6df\",\"#98c8df\",\"#9ac9e0\",\"#9dcae1\",\"#9fcbe1\",\"#a2cde2\",\"#a4cee3\",\"#a7cfe4\",\"#a9d0e4\",\"#abd2e5\",\"#aed3e6\",\"#b0d4e6\",\"#b3d5e7\",\"#b5d7e8\",\"#b8d8e8\",\"#bad9e9\",\"#bddaea\",\"#bfdceb\",\"#c2ddeb\",\"#c4deec\",\"#c7dfed\",\"#c9e1ed\",\"#cce2ee\",\"#cee3ef\",\"#d1e5f0\",\"#d2e5f0\",\"#d3e6f0\",\"#d5e7f0\",\"#d6e7f1\",\"#d8e8f1\",\"#d9e9f1\",\"#dbe9f1\",\"#dceaf2\",\"#deebf2\",\"#dfecf2\",\"#e1ecf3\",\"#e2edf3\",\"#e4eef3\",\"#e5eef3\",\"#e7eff4\",\"#e8f0f4\",\"#eaf1f4\",\"#ebf1f4\",\"#edf2f5\",\"#eef3f5\",\"#f0f3f5\",\"#f1f4f6\",\"#f3f5f6\",\"#f4f5f6\",\"#f6f6f6\",\"#f7f6f6\",\"#f7f5f4\",\"#f7f4f2\",\"#f7f3f0\",\"#f8f2ee\",\"#f8f0ec\",\"#f8efea\",\"#f8eee8\",\"#f9ede7\",\"#f9ece5\",\"#f9ebe3\",\"#f9eae1\",\"#f9e9df\",\"#fae8dd\",\"#fae7db\",\"#fae5d9\",\"#fae4d7\",\"#fbe3d6\",\"#fbe2d4\",\"#fbe1d2\",\"#fbe0d0\",\"#fcdfce\",\"#fcdecc\",\"#fcddca\",\"#fcdcc8\",\"#fddbc7\",\"#fcd8c4\",\"#fcd6c1\",\"#fbd4be\",\"#fbd2bc\",\"#fbd0b9\",\"#faceb6\",\"#faccb4\",\"#facab1\",\"#f9c7ae\",\"#f9c5ab\",\"#f9c3a9\",\"#f8c1a6\",\"#f8bfa3\",\"#f8bda1\",\"#f7bb9e\",\"#f7b99b\",\"#f7b698\",\"#f6b496\",\"#f6b293\",\"#f5b090\",\"#f5ae8e\",\"#f5ac8b\",\"#f4aa88\",\"#f4a886\",\"#f4a683\",\"#f3a380\",\"#f2a07e\",\"#f19e7c\",\"#ef9b7a\",\"#ee9878\",\"#ed9676\",\"#ec9374\",\"#eb9072\",\"#ea8d70\",\"#e88b6e\",\"#e7886c\",\"#e6856a\",\"#e58368\",\"#e48065\",\"#e27d63\",\"#e17b61\",\"#e0785f\",\"#df755d\",\"#de725b\",\"#dd7059\",\"#db6d57\",\"#da6a55\",\"#d96853\",\"#d86551\",\"#d7624f\",\"#d6604d\",\"#d45d4b\",\"#d35a4a\",\"#d15749\",\"#d05447\",\"#ce5146\",\"#cd4f44\",\"#cc4c43\",\"#ca4942\",\"#c94641\",\"#c7433f\",\"#c6403e\",\"#c53e3c\",\"#c33b3b\",\"#c2383a\",\"#c03538\",\"#bf3237\",\"#be3036\",\"#bc2d34\",\"#bb2a33\",\"#b92732\",\"#b82431\",\"#b6212f\",\"#b51f2e\",\"#b41c2d\",\"#b2192b\",\"#b0172a\",\"#ad162a\",\"#aa1529\",\"#a71429\",\"#a41328\",\"#a11228\",\"#9e1127\",\"#9b1027\",\"#991027\",\"#960f26\",\"#930e26\",\"#900d25\",\"#8d0c25\",\"#8a0b24\",\"#870a24\",\"#840923\",\"#810823\",\"#7e0722\",\"#7b0622\",\"#780521\",\"#750421\",\"#720320\",\"#6f0220\",\"#6c011f\",\"#69001f\",\"#67001f\"]},\"id\":\"3050\",\"type\":\"LinearColorMapper\"},{\"attributes\":{\"factors\":[\"listed_count\",\"photos_count\",\"tip_count\",\"rating_count\",\"rating\",\"likes\",\"lon\",\"lat\"]},\"id\":\"2995\",\"type\":\"FactorRange\"},{\"attributes\":{\"data_source\":{\"id\":\"3012\"},\"glyph\":{\"id\":\"3014\"},\"hover_glyph\":null,\"muted_glyph\":null,\"nonselection_glyph\":{\"id\":\"3015\"},\"selection_glyph\":null,\"view\":{\"id\":\"3017\"}},\"id\":\"3016\",\"type\":\"GlyphRenderer\"},{\"attributes\":{\"data\":{\"correlation\":{\"__ndarray__\":\"cdKQsvIG2T+5BZ97ZPiEP/2aeGZV3ZK/Pq5CNsz5fT/SdtRw0becv2JIp3aGFIk/Co4exE+Nrb/0sTiajWS6v6IizjS3gMW/ihfTpDsyvL8Ac8d1+crCv7S5ri0k/7O/uqRJ1/ekxr/ZnHeTpFDTP9UZM9Qo6O8/gi1lbQVQ7D+KaMrkPEXuP/FSz7oIH+o/BKqGmfAO0z96kbi7lz7SPwatt+9y2M4/+PLQBkB/2j937VFxxEXtP0Xa9t2pJu4/1i3bKYaA6j/v2kstjcTpP+YwvviN0Os/SDKJedQZ5j8=\",\"dtype\":\"float64\",\"order\":\"little\",\"shape\":[28]},\"index\":[1,2,3,4,5,6,7,10,11,12,13,14,15,19,20,21,22,23,28,29,30,31,37,38,39,46,47,55],\"x\":[\"lat\",\"lat\",\"lat\",\"lat\",\"lat\",\"lat\",\"lat\",\"lon\",\"lon\",\"lon\",\"lon\",\"lon\",\"lon\",\"likes\",\"likes\",\"likes\",\"likes\",\"likes\",\"rating\",\"rating\",\"rating\",\"rating\",\"rating_count\",\"rating_count\",\"rating_count\",\"tip_count\",\"tip_count\",\"photos_count\"],\"y\":[\"lon\",\"likes\",\"rating\",\"rating_count\",\"tip_count\",\"photos_count\",\"listed_count\",\"likes\",\"rating\",\"rating_count\",\"tip_count\",\"photos_count\",\"listed_count\",\"rating\",\"rating_count\",\"tip_count\",\"photos_count\",\"listed_count\",\"rating_count\",\"tip_count\",\"photos_count\",\"listed_count\",\"tip_count\",\"photos_count\",\"listed_count\",\"photos_count\",\"listed_count\",\"listed_count\"]},\"selected\":{\"id\":\"3101\"},\"selection_policy\":{\"id\":\"3100\"}},\"id\":\"3012\",\"type\":\"ColumnDataSource\"},{\"attributes\":{\"tabs\":[{\"id\":\"3018\"},{\"id\":\"3049\"},{\"id\":\"3080\"}]},\"id\":\"3081\",\"type\":\"Tabs\"},{\"attributes\":{},\"id\":\"3099\",\"type\":\"CategoricalTickFormatter\"},{\"attributes\":{\"callback\":null,\"tooltips\":[[\"x\",\"@x\"],[\"y\",\"@y\"],[\"correlation\",\"@correlation{1.11}\"]]},\"id\":\"3071\",\"type\":\"HoverTool\"},{\"attributes\":{},\"id\":\"3007\",\"type\":\"CategoricalTicker\"},{\"attributes\":{\"factors\":[\"lat\",\"lon\",\"likes\",\"rating\",\"rating_count\",\"tip_count\",\"photos_count\",\"listed_count\"]},\"id\":\"3025\",\"type\":\"FactorRange\"},{\"attributes\":{\"high\":1,\"low\":-1,\"palette\":[\"#053061\",\"#063263\",\"#073466\",\"#083669\",\"#09386c\",\"#0a3a6f\",\"#0b3c72\",\"#0c3e75\",\"#0d4078\",\"#0e437b\",\"#0f457e\",\"#114781\",\"#124984\",\"#134b87\",\"#144d8a\",\"#154f8d\",\"#165190\",\"#175493\",\"#185695\",\"#195898\",\"#1a5a9b\",\"#1c5c9e\",\"#1d5ea1\",\"#1e60a4\",\"#1f62a7\",\"#2064aa\",\"#2166ac\",\"#2368ad\",\"#246aae\",\"#256caf\",\"#276db0\",\"#286fb0\",\"#2971b1\",\"#2b73b2\",\"#2c75b3\",\"#2d76b4\",\"#2f78b5\",\"#307ab6\",\"#317cb7\",\"#337db8\",\"#347fb9\",\"#3581b9\",\"#3783ba\",\"#3884bb\",\"#3986bc\",\"#3b88bd\",\"#3c8abe\",\"#3d8bbf\",\"#3f8dc0\",\"#408fc1\",\"#4191c2\",\"#4393c3\",\"#4694c4\",\"#4996c5\",\"#4c98c6\",\"#4f9ac7\",\"#529cc8\",\"#559ec9\",\"#58a0ca\",\"#5ba2cb\",\"#5ea4cc\",\"#61a6cd\",\"#65a8ce\",\"#68aacf\",\"#6bacd0\",\"#6eaed1\",\"#71b0d2\",\"#74b2d3\",\"#77b4d5\",\"#7ab6d6\",\"#7db8d7\",\"#80bad8\",\"#84bcd9\",\"#87beda\",\"#8ac0db\",\"#8dc2dc\",\"#90c4dd\",\"#93c5de\",\"#95c6df\",\"#98c8df\",\"#9ac9e0\",\"#9dcae1\",\"#9fcbe1\",\"#a2cde2\",\"#a4cee3\",\"#a7cfe4\",\"#a9d0e4\",\"#abd2e5\",\"#aed3e6\",\"#b0d4e6\",\"#b3d5e7\",\"#b5d7e8\",\"#b8d8e8\",\"#bad9e9\",\"#bddaea\",\"#bfdceb\",\"#c2ddeb\",\"#c4deec\",\"#c7dfed\",\"#c9e1ed\",\"#cce2ee\",\"#cee3ef\",\"#d1e5f0\",\"#d2e5f0\",\"#d3e6f0\",\"#d5e7f0\",\"#d6e7f1\",\"#d8e8f1\",\"#d9e9f1\",\"#dbe9f1\",\"#dceaf2\",\"#deebf2\",\"#dfecf2\",\"#e1ecf3\",\"#e2edf3\",\"#e4eef3\",\"#e5eef3\",\"#e7eff4\",\"#e8f0f4\",\"#eaf1f4\",\"#ebf1f4\",\"#edf2f5\",\"#eef3f5\",\"#f0f3f5\",\"#f1f4f6\",\"#f3f5f6\",\"#f4f5f6\",\"#f6f6f6\",\"#f7f6f6\",\"#f7f5f4\",\"#f7f4f2\",\"#f7f3f0\",\"#f8f2ee\",\"#f8f0ec\",\"#f8efea\",\"#f8eee8\",\"#f9ede7\",\"#f9ece5\",\"#f9ebe3\",\"#f9eae1\",\"#f9e9df\",\"#fae8dd\",\"#fae7db\",\"#fae5d9\",\"#fae4d7\",\"#fbe3d6\",\"#fbe2d4\",\"#fbe1d2\",\"#fbe0d0\",\"#fcdfce\",\"#fcdecc\",\"#fcddca\",\"#fcdcc8\",\"#fddbc7\",\"#fcd8c4\",\"#fcd6c1\",\"#fbd4be\",\"#fbd2bc\",\"#fbd0b9\",\"#faceb6\",\"#faccb4\",\"#facab1\",\"#f9c7ae\",\"#f9c5ab\",\"#f9c3a9\",\"#f8c1a6\",\"#f8bfa3\",\"#f8bda1\",\"#f7bb9e\",\"#f7b99b\",\"#f7b698\",\"#f6b496\",\"#f6b293\",\"#f5b090\",\"#f5ae8e\",\"#f5ac8b\",\"#f4aa88\",\"#f4a886\",\"#f4a683\",\"#f3a380\",\"#f2a07e\",\"#f19e7c\",\"#ef9b7a\",\"#ee9878\",\"#ed9676\",\"#ec9374\",\"#eb9072\",\"#ea8d70\",\"#e88b6e\",\"#e7886c\",\"#e6856a\",\"#e58368\",\"#e48065\",\"#e27d63\",\"#e17b61\",\"#e0785f\",\"#df755d\",\"#de725b\",\"#dd7059\",\"#db6d57\",\"#da6a55\",\"#d96853\",\"#d86551\",\"#d7624f\",\"#d6604d\",\"#d45d4b\",\"#d35a4a\",\"#d15749\",\"#d05447\",\"#ce5146\",\"#cd4f44\",\"#cc4c43\",\"#ca4942\",\"#c94641\",\"#c7433f\",\"#c6403e\",\"#c53e3c\",\"#c33b3b\",\"#c2383a\",\"#c03538\",\"#bf3237\",\"#be3036\",\"#bc2d34\",\"#bb2a33\",\"#b92732\",\"#b82431\",\"#b6212f\",\"#b51f2e\",\"#b41c2d\",\"#b2192b\",\"#b0172a\",\"#ad162a\",\"#aa1529\",\"#a71429\",\"#a41328\",\"#a11228\",\"#9e1127\",\"#9b1027\",\"#991027\",\"#960f26\",\"#930e26\",\"#900d25\",\"#8d0c25\",\"#8a0b24\",\"#870a24\",\"#840923\",\"#810823\",\"#7e0722\",\"#7b0622\",\"#780521\",\"#750421\",\"#720320\",\"#6f0220\",\"#6c011f\",\"#69001f\",\"#67001f\"]},\"id\":\"2988\",\"type\":\"LinearColorMapper\"},{\"attributes\":{\"data_source\":{\"id\":\"3043\"},\"glyph\":{\"id\":\"3045\"},\"hover_glyph\":null,\"muted_glyph\":null,\"nonselection_glyph\":{\"id\":\"3046\"},\"selection_glyph\":null,\"view\":{\"id\":\"3048\"}},\"id\":\"3047\",\"type\":\"GlyphRenderer\"},{\"attributes\":{},\"id\":\"3095\",\"type\":\"CategoricalTickFormatter\"},{\"attributes\":{\"source\":{\"id\":\"3074\"}},\"id\":\"3079\",\"type\":\"CDSView\"},{\"attributes\":{},\"id\":\"3093\",\"type\":\"CategoricalTickFormatter\"},{\"attributes\":{\"axis_line_color\":null,\"formatter\":{\"id\":\"3097\"},\"major_label_standoff\":0,\"major_label_text_font_size\":\"9pt\",\"major_tick_line_color\":null,\"ticker\":{\"id\":\"3069\"}},\"id\":\"3068\",\"type\":\"CategoricalAxis\"},{\"attributes\":{\"factors\":[\"listed_count\",\"photos_count\",\"tip_count\",\"rating_count\",\"rating\",\"likes\",\"lon\",\"lat\"]},\"id\":\"3026\",\"type\":\"FactorRange\"},{\"attributes\":{\"axis\":{\"id\":\"3068\"},\"dimension\":1,\"grid_line_color\":null,\"ticker\":null},\"id\":\"3070\",\"type\":\"Grid\"},{\"attributes\":{\"fill_color\":{\"field\":\"correlation\",\"transform\":{\"id\":\"3019\"}},\"height\":{\"units\":\"data\",\"value\":1},\"line_color\":{\"value\":null},\"width\":{\"units\":\"data\",\"value\":1},\"x\":{\"field\":\"x\"},\"y\":{\"field\":\"y\"}},\"id\":\"3045\",\"type\":\"Rect\"},{\"attributes\":{\"axis\":{\"id\":\"3034\"},\"grid_line_color\":null,\"ticker\":null},\"id\":\"3036\",\"type\":\"Grid\"},{\"attributes\":{},\"id\":\"3061\",\"type\":\"CategoricalScale\"},{\"attributes\":{\"fill_color\":{\"field\":\"correlation\",\"transform\":{\"id\":\"3050\"}},\"height\":{\"units\":\"data\",\"value\":1},\"line_color\":{\"value\":null},\"width\":{\"units\":\"data\",\"value\":1},\"x\":{\"field\":\"x\"},\"y\":{\"field\":\"y\"}},\"id\":\"3076\",\"type\":\"Rect\"},{\"attributes\":{\"fill_alpha\":{\"value\":0.1},\"fill_color\":{\"field\":\"correlation\",\"transform\":{\"id\":\"3050\"}},\"height\":{\"units\":\"data\",\"value\":1},\"line_alpha\":{\"value\":0.1},\"line_color\":{\"value\":null},\"width\":{\"units\":\"data\",\"value\":1},\"x\":{\"field\":\"x\"},\"y\":{\"field\":\"y\"}},\"id\":\"3077\",\"type\":\"Rect\"},{\"attributes\":{\"axis_line_color\":null,\"formatter\":{\"id\":\"3089\"},\"major_label_standoff\":0,\"major_label_text_font_size\":\"9pt\",\"major_tick_line_color\":null,\"ticker\":{\"id\":\"3007\"}},\"id\":\"3006\",\"type\":\"CategoricalAxis\"},{\"attributes\":{\"data_source\":{\"id\":\"3074\"},\"glyph\":{\"id\":\"3076\"},\"hover_glyph\":null,\"muted_glyph\":null,\"nonselection_glyph\":{\"id\":\"3077\"},\"selection_glyph\":null,\"view\":{\"id\":\"3079\"}},\"id\":\"3078\",\"type\":\"GlyphRenderer\"},{\"attributes\":{\"source\":{\"id\":\"3043\"}},\"id\":\"3048\",\"type\":\"CDSView\"},{\"attributes\":{\"factors\":[\"listed_count\",\"photos_count\",\"tip_count\",\"rating_count\",\"rating\",\"likes\",\"lon\",\"lat\"]},\"id\":\"3057\",\"type\":\"FactorRange\"},{\"attributes\":{\"color_mapper\":{\"id\":\"3019\"},\"formatter\":{\"id\":\"3021\"},\"label_standoff\":6,\"location\":[0,0],\"major_label_text_font_size\":\"8pt\",\"ticker\":{\"id\":\"3020\"}},\"id\":\"3022\",\"type\":\"ColorBar\"},{\"attributes\":{\"format\":\"%.2f\"},\"id\":\"2990\",\"type\":\"PrintfTickFormatter\"},{\"attributes\":{},\"id\":\"3069\",\"type\":\"CategoricalTicker\"},{\"attributes\":{\"child\":{\"id\":\"2996\"},\"title\":\"Pearson\"},\"id\":\"3018\",\"type\":\"Panel\"},{\"attributes\":{},\"id\":\"3051\",\"type\":\"BasicTicker\"},{\"attributes\":{\"format\":\"%.2f\"},\"id\":\"3021\",\"type\":\"PrintfTickFormatter\"},{\"attributes\":{\"active_drag\":\"auto\",\"active_inspect\":\"auto\",\"active_multi\":null,\"active_scroll\":\"auto\",\"active_tap\":\"auto\",\"tools\":[{\"id\":\"3071\"}]},\"id\":\"3072\",\"type\":\"Toolbar\"},{\"attributes\":{\"fill_color\":{\"field\":\"correlation\",\"transform\":{\"id\":\"2988\"}},\"height\":{\"units\":\"data\",\"value\":1},\"line_color\":{\"value\":null},\"width\":{\"units\":\"data\",\"value\":1},\"x\":{\"field\":\"x\"},\"y\":{\"field\":\"y\"}},\"id\":\"3014\",\"type\":\"Rect\"},{\"attributes\":{\"fill_alpha\":{\"value\":0.1},\"fill_color\":{\"field\":\"correlation\",\"transform\":{\"id\":\"2988\"}},\"height\":{\"units\":\"data\",\"value\":1},\"line_alpha\":{\"value\":0.1},\"line_color\":{\"value\":null},\"width\":{\"units\":\"data\",\"value\":1},\"x\":{\"field\":\"x\"},\"y\":{\"field\":\"y\"}},\"id\":\"3015\",\"type\":\"Rect\"},{\"attributes\":{\"background_fill_color\":\"#fafafa\",\"below\":[{\"id\":\"3065\"}],\"center\":[{\"id\":\"3067\"},{\"id\":\"3070\"}],\"left\":[{\"id\":\"3068\"}],\"plot_height\":500,\"plot_width\":500,\"renderers\":[{\"id\":\"3078\"}],\"right\":[{\"id\":\"3053\"}],\"title\":{\"id\":\"3087\"},\"toolbar\":{\"id\":\"3072\"},\"toolbar_location\":null,\"x_range\":{\"id\":\"3056\"},\"x_scale\":{\"id\":\"3061\"},\"y_range\":{\"id\":\"3057\"},\"y_scale\":{\"id\":\"3063\"}},\"id\":\"3058\",\"subtype\":\"Figure\",\"type\":\"Plot\"},{\"attributes\":{\"data\":{\"correlation\":{\"__ndarray__\":\"q0ZGNVHvxD8bbNO9+GObP0KEjjrLxog/gLO9PbBskz/9tL9DjM6JvyJG3JLV0lG/QhGwcRGnj7822Y+AZq/Jv4OdC/SX5MG/w28wLAT9yr+PlXMveVLQv9/ga+GuJ8S/J26JOySD1L+9DKpGip7gPxLn2KzJ3u8/h1pr29pw7T/icSLlQeXrP8liIY3yDOs/lNAz7F4L3z/alSn6YO/aP3HbXMkQ9Nw/0xg9DM9d4T/j5IO7qRzuPyFGWFmhtOs/IppCjvI56z+na5cDpmDpPwfldXbqf+s/bc1Ny/bj5z8=\",\"dtype\":\"float64\",\"order\":\"little\",\"shape\":[28]},\"index\":[1,2,3,4,5,6,7,10,11,12,13,14,15,19,20,21,22,23,28,29,30,31,37,38,39,46,47,55],\"x\":[\"lat\",\"lat\",\"lat\",\"lat\",\"lat\",\"lat\",\"lat\",\"lon\",\"lon\",\"lon\",\"lon\",\"lon\",\"lon\",\"likes\",\"likes\",\"likes\",\"likes\",\"likes\",\"rating\",\"rating\",\"rating\",\"rating\",\"rating_count\",\"rating_count\",\"rating_count\",\"tip_count\",\"tip_count\",\"photos_count\"],\"y\":[\"lon\",\"likes\",\"rating\",\"rating_count\",\"tip_count\",\"photos_count\",\"listed_count\",\"likes\",\"rating\",\"rating_count\",\"tip_count\",\"photos_count\",\"listed_count\",\"rating\",\"rating_count\",\"tip_count\",\"photos_count\",\"listed_count\",\"rating_count\",\"tip_count\",\"photos_count\",\"listed_count\",\"tip_count\",\"photos_count\",\"listed_count\",\"photos_count\",\"listed_count\",\"listed_count\"]},\"selected\":{\"id\":\"3103\"},\"selection_policy\":{\"id\":\"3102\"}},\"id\":\"3043\",\"type\":\"ColumnDataSource\"},{\"attributes\":{\"factors\":[\"lat\",\"lon\",\"likes\",\"rating\",\"rating_count\",\"tip_count\",\"photos_count\",\"listed_count\"]},\"id\":\"3056\",\"type\":\"FactorRange\"},{\"attributes\":{\"axis\":{\"id\":\"3037\"},\"dimension\":1,\"grid_line_color\":null,\"ticker\":null},\"id\":\"3039\",\"type\":\"Grid\"},{\"attributes\":{\"axis\":{\"id\":\"3003\"},\"grid_line_color\":null,\"ticker\":null},\"id\":\"3005\",\"type\":\"Grid\"},{\"attributes\":{},\"id\":\"3100\",\"type\":\"UnionRenderers\"},{\"attributes\":{\"active_drag\":\"auto\",\"active_inspect\":\"auto\",\"active_multi\":null,\"active_scroll\":\"auto\",\"active_tap\":\"auto\",\"tools\":[{\"id\":\"3040\"}]},\"id\":\"3041\",\"type\":\"Toolbar\"},{\"attributes\":{\"axis_line_color\":null,\"formatter\":{\"id\":\"3093\"},\"major_label_standoff\":0,\"major_label_text_font_size\":\"9pt\",\"major_tick_line_color\":null,\"ticker\":{\"id\":\"3038\"}},\"id\":\"3037\",\"type\":\"CategoricalAxis\"},{\"attributes\":{\"text\":\"\"},\"id\":\"3083\",\"type\":\"Title\"},{\"attributes\":{\"axis_line_color\":null,\"formatter\":{\"id\":\"3091\"},\"major_label_orientation\":1.0471975511965976,\"major_label_standoff\":0,\"major_label_text_font_size\":\"9pt\",\"major_tick_line_color\":null,\"ticker\":{\"id\":\"3004\"}},\"id\":\"3003\",\"type\":\"CategoricalAxis\"},{\"attributes\":{\"axis_line_color\":null,\"formatter\":{\"id\":\"3095\"},\"major_label_orientation\":1.0471975511965976,\"major_label_standoff\":0,\"major_label_text_font_size\":\"9pt\",\"major_tick_line_color\":null,\"ticker\":{\"id\":\"3035\"}},\"id\":\"3034\",\"type\":\"CategoricalAxis\"},{\"attributes\":{\"text\":\"\"},\"id\":\"3087\",\"type\":\"Title\"},{\"attributes\":{\"callback\":null,\"tooltips\":[[\"x\",\"@x\"],[\"y\",\"@y\"],[\"correlation\",\"@correlation{1.11}\"]]},\"id\":\"3009\",\"type\":\"HoverTool\"},{\"attributes\":{\"source\":{\"id\":\"3012\"}},\"id\":\"3017\",\"type\":\"CDSView\"},{\"attributes\":{\"color_mapper\":{\"id\":\"2988\"},\"formatter\":{\"id\":\"2990\"},\"label_standoff\":6,\"location\":[0,0],\"major_label_text_font_size\":\"8pt\",\"ticker\":{\"id\":\"2989\"}},\"id\":\"2991\",\"type\":\"ColorBar\"},{\"attributes\":{},\"id\":\"3105\",\"type\":\"Selection\"},{\"attributes\":{},\"id\":\"3001\",\"type\":\"CategoricalScale\"},{\"attributes\":{\"callback\":null,\"tooltips\":[[\"x\",\"@x\"],[\"y\",\"@y\"],[\"correlation\",\"@correlation{1.11}\"]]},\"id\":\"3040\",\"type\":\"HoverTool\"},{\"attributes\":{},\"id\":\"3004\",\"type\":\"CategoricalTicker\"},{\"attributes\":{\"data\":{\"correlation\":{\"__ndarray__\":\"PUuqrEwFuD8H3eclfS2RP3aCale+Onw/qh6Yi0zShj+hnirREkaGv+w1u2FMXVm/FokkRn/ZgL+UQf9zl2bBvzTNVy5Y+bi/uBnBeBNQwr/WybU9Oz7Gvyz44/IyXbu/R9fBNd5xy7/KetbWRuvXPxQedP3kdO4/JeeqZSJr6D+p2oNZLG7mP6/l6N1WGuU//j/LcfM31j8ltbXk0kvTP2XHghmnndQ/XniUzwM52T9PEZ+gfKHpP/lmEg7QIOY/cAqTd7hP5T9KiwP7/nPjP0REoNExv+U/hUYV6/Sm4T8=\",\"dtype\":\"float64\",\"order\":\"little\",\"shape\":[28]},\"index\":[1,2,3,4,5,6,7,10,11,12,13,14,15,19,20,21,22,23,28,29,30,31,37,38,39,46,47,55],\"x\":[\"lat\",\"lat\",\"lat\",\"lat\",\"lat\",\"lat\",\"lat\",\"lon\",\"lon\",\"lon\",\"lon\",\"lon\",\"lon\",\"likes\",\"likes\",\"likes\",\"likes\",\"likes\",\"rating\",\"rating\",\"rating\",\"rating\",\"rating_count\",\"rating_count\",\"rating_count\",\"tip_count\",\"tip_count\",\"photos_count\"],\"y\":[\"lon\",\"likes\",\"rating\",\"rating_count\",\"tip_count\",\"photos_count\",\"listed_count\",\"likes\",\"rating\",\"rating_count\",\"tip_count\",\"photos_count\",\"listed_count\",\"rating\",\"rating_count\",\"tip_count\",\"photos_count\",\"listed_count\",\"rating_count\",\"tip_count\",\"photos_count\",\"listed_count\",\"tip_count\",\"photos_count\",\"listed_count\",\"photos_count\",\"listed_count\",\"listed_count\"]},\"selected\":{\"id\":\"3105\"},\"selection_policy\":{\"id\":\"3104\"}},\"id\":\"3074\",\"type\":\"ColumnDataSource\"},{\"attributes\":{},\"id\":\"3066\",\"type\":\"CategoricalTicker\"},{\"attributes\":{\"format\":\"%.2f\"},\"id\":\"3052\",\"type\":\"PrintfTickFormatter\"},{\"attributes\":{\"background_fill_color\":\"#fafafa\",\"below\":[{\"id\":\"3034\"}],\"center\":[{\"id\":\"3036\"},{\"id\":\"3039\"}],\"left\":[{\"id\":\"3037\"}],\"plot_height\":500,\"plot_width\":500,\"renderers\":[{\"id\":\"3047\"}],\"right\":[{\"id\":\"3022\"}],\"title\":{\"id\":\"3085\"},\"toolbar\":{\"id\":\"3041\"},\"toolbar_location\":null,\"x_range\":{\"id\":\"3025\"},\"x_scale\":{\"id\":\"3030\"},\"y_range\":{\"id\":\"3026\"},\"y_scale\":{\"id\":\"3032\"}},\"id\":\"3027\",\"subtype\":\"Figure\",\"type\":\"Plot\"},{\"attributes\":{},\"id\":\"3063\",\"type\":\"CategoricalScale\"},{\"attributes\":{},\"id\":\"3097\",\"type\":\"CategoricalTickFormatter\"},{\"attributes\":{},\"id\":\"3103\",\"type\":\"Selection\"},{\"attributes\":{},\"id\":\"3032\",\"type\":\"CategoricalScale\"},{\"attributes\":{},\"id\":\"2999\",\"type\":\"CategoricalScale\"},{\"attributes\":{\"axis\":{\"id\":\"3065\"},\"grid_line_color\":null,\"ticker\":null},\"id\":\"3067\",\"type\":\"Grid\"}],\"root_ids\":[\"3081\"]},\"title\":\"Bokeh Application\",\"version\":\"2.1.0\"}}\n",
       "        </script>\n",
       "        <script type=\"text/javascript\">\n",
       "          (function() {\n",
       "            var fn = function() {\n",
       "              var __dataprep_bokeh_fix = (f) => document.Bokeh === undefined ? setTimeout(f, 1000) : f(); __dataprep_bokeh_fix(function() {\n",
       "                (function(root) {\n",
       "                  function embed_document(root) {\n",
       "                    \n",
       "                  var docs_json = document.getElementById('3370').textContent;\n",
       "                  var render_items = [{\"docid\":\"2cf63d84-7c91-4c41-b8a3-8b8fd7d7ab98\",\"root_ids\":[\"3081\"],\"roots\":{\"3081\":\"8f8be3c4-950c-422c-9d89-8e7214012cb3\"}}];\n",
       "                  root.Bokeh.embed.embed_items(docs_json, render_items);\n",
       "                \n",
       "                  }\n",
       "                  if (root.Bokeh !== undefined) {\n",
       "                    embed_document(root);\n",
       "                  } else {\n",
       "                    var attempts = 0;\n",
       "                    var timer = setInterval(function(root) {\n",
       "                      if (root.Bokeh !== undefined) {\n",
       "                        clearInterval(timer);\n",
       "                        embed_document(root);\n",
       "                      } else {\n",
       "                        attempts++;\n",
       "                        if (attempts > 100) {\n",
       "                          clearInterval(timer);\n",
       "                          console.log(\"Bokeh: ERROR: Unable to run BokehJS code because BokehJS library is missing\");\n",
       "                        }\n",
       "                      }\n",
       "                    }, 10, root)\n",
       "                  }\n",
       "                })(window);\n",
       "              });\n",
       "            };\n",
       "            if (document.readyState != \"loading\") fn();\n",
       "            else document.addEventListener(\"DOMContentLoaded\", fn);\n",
       "          })();\n",
       "        </script>\n"
      ],
      "text/plain": [
       "<dataprep.eda.report.Report at 0x1fb995e1648>"
      ]
     },
     "execution_count": 14,
     "metadata": {},
     "output_type": "execute_result"
    }
   ],
   "source": [
    "plot_correlation(fs_df)"
   ]
  },
  {
   "cell_type": "markdown",
   "metadata": {},
   "source": [
    "## Number of places in each category"
   ]
  },
  {
   "cell_type": "code",
   "execution_count": 15,
   "metadata": {
    "ExecuteTime": {
     "end_time": "2020-07-08T06:03:00.729469Z",
     "start_time": "2020-07-08T06:03:00.719497Z"
    }
   },
   "outputs": [
    {
     "data": {
      "text/plain": [
       "category\n",
       "African Restaurant        1\n",
       "Argentinian Restaurant    1\n",
       "Art Gallery               5\n",
       "Art Museum                3\n",
       "Arts & Crafts Store       2\n",
       "                         ..\n",
       "Whisky Bar                1\n",
       "Wine Bar                  9\n",
       "Wine Shop                 3\n",
       "Yoga Studio               1\n",
       "Zoo                       1\n",
       "Length: 156, dtype: int64"
      ]
     },
     "execution_count": 15,
     "metadata": {},
     "output_type": "execute_result"
    }
   ],
   "source": [
    "fs_df.groupby(['category']).size()"
   ]
  },
  {
   "cell_type": "markdown",
   "metadata": {},
   "source": [
    "## Top 20 Categories"
   ]
  },
  {
   "cell_type": "code",
   "execution_count": 16,
   "metadata": {
    "ExecuteTime": {
     "end_time": "2020-07-08T06:03:00.743943Z",
     "start_time": "2020-07-08T06:03:00.732462Z"
    }
   },
   "outputs": [
    {
     "data": {
      "text/plain": [
       "category\n",
       "Hotel                  36\n",
       "Café                   20\n",
       "Italian Restaurant     16\n",
       "Plaza                  16\n",
       "Coffee Shop            12\n",
       "Bakery                 11\n",
       "French Restaurant      11\n",
       "Cocktail Bar           11\n",
       "Park                   11\n",
       "Ice Cream Shop         11\n",
       "Restaurant             10\n",
       "Bar                    10\n",
       "Pub                    10\n",
       "Wine Bar                9\n",
       "Theater                 8\n",
       "Burger Joint            8\n",
       "Japanese Restaurant     8\n",
       "Spanish Restaurant      7\n",
       "Bistro                  7\n",
       "Chocolate Shop          5\n",
       "Name: name, dtype: int64"
      ]
     },
     "execution_count": 16,
     "metadata": {},
     "output_type": "execute_result"
    }
   ],
   "source": [
    "plt1 = fs_df.groupby(['category']).name.count().sort_values(ascending=False).head(20)\n",
    "plt1"
   ]
  },
  {
   "cell_type": "code",
   "execution_count": 17,
   "metadata": {
    "ExecuteTime": {
     "end_time": "2020-07-08T06:03:01.716348Z",
     "start_time": "2020-07-08T06:03:00.746936Z"
    }
   },
   "outputs": [
    {
     "data": {
      "application/vnd.plotly.v1+json": {
       "config": {
        "linkText": "Export to plot.ly",
        "plotlyServerURL": "https://plot.ly",
        "showLink": false
       },
       "data": [
        {
         "marker": {
          "color": [
           36,
           20,
           16,
           16,
           12,
           11,
           11,
           11,
           11,
           11,
           10,
           10,
           10,
           9,
           8,
           8,
           8,
           7,
           7,
           5
          ],
          "colorscale": [
           [
            0,
            "rgb(0,0,131)"
           ],
           [
            0.2,
            "rgb(0,60,170)"
           ],
           [
            0.4,
            "rgb(5,255,255)"
           ],
           [
            0.6,
            "rgb(255,255,0)"
           ],
           [
            0.8,
            "rgb(250,0,0)"
           ],
           [
            1,
            "rgb(128,0,0)"
           ]
          ],
          "showscale": true
         },
         "type": "bar",
         "x": [
          "Hotel",
          "Café",
          "Italian Restaurant",
          "Plaza",
          "Coffee Shop",
          "Bakery",
          "French Restaurant",
          "Cocktail Bar",
          "Park",
          "Ice Cream Shop",
          "Restaurant",
          "Bar",
          "Pub",
          "Wine Bar",
          "Theater",
          "Burger Joint",
          "Japanese Restaurant",
          "Spanish Restaurant",
          "Bistro",
          "Chocolate Shop"
         ],
         "y": [
          36,
          20,
          16,
          16,
          12,
          11,
          11,
          11,
          11,
          11,
          10,
          10,
          10,
          9,
          8,
          8,
          8,
          7,
          7,
          5
         ]
        }
       ],
       "layout": {
        "template": {
         "data": {
          "bar": [
           {
            "error_x": {
             "color": "#2a3f5f"
            },
            "error_y": {
             "color": "#2a3f5f"
            },
            "marker": {
             "line": {
              "color": "#E5ECF6",
              "width": 0.5
             }
            },
            "type": "bar"
           }
          ],
          "barpolar": [
           {
            "marker": {
             "line": {
              "color": "#E5ECF6",
              "width": 0.5
             }
            },
            "type": "barpolar"
           }
          ],
          "carpet": [
           {
            "aaxis": {
             "endlinecolor": "#2a3f5f",
             "gridcolor": "white",
             "linecolor": "white",
             "minorgridcolor": "white",
             "startlinecolor": "#2a3f5f"
            },
            "baxis": {
             "endlinecolor": "#2a3f5f",
             "gridcolor": "white",
             "linecolor": "white",
             "minorgridcolor": "white",
             "startlinecolor": "#2a3f5f"
            },
            "type": "carpet"
           }
          ],
          "choropleth": [
           {
            "colorbar": {
             "outlinewidth": 0,
             "ticks": ""
            },
            "type": "choropleth"
           }
          ],
          "contour": [
           {
            "colorbar": {
             "outlinewidth": 0,
             "ticks": ""
            },
            "colorscale": [
             [
              0,
              "#0d0887"
             ],
             [
              0.1111111111111111,
              "#46039f"
             ],
             [
              0.2222222222222222,
              "#7201a8"
             ],
             [
              0.3333333333333333,
              "#9c179e"
             ],
             [
              0.4444444444444444,
              "#bd3786"
             ],
             [
              0.5555555555555556,
              "#d8576b"
             ],
             [
              0.6666666666666666,
              "#ed7953"
             ],
             [
              0.7777777777777778,
              "#fb9f3a"
             ],
             [
              0.8888888888888888,
              "#fdca26"
             ],
             [
              1,
              "#f0f921"
             ]
            ],
            "type": "contour"
           }
          ],
          "contourcarpet": [
           {
            "colorbar": {
             "outlinewidth": 0,
             "ticks": ""
            },
            "type": "contourcarpet"
           }
          ],
          "heatmap": [
           {
            "colorbar": {
             "outlinewidth": 0,
             "ticks": ""
            },
            "colorscale": [
             [
              0,
              "#0d0887"
             ],
             [
              0.1111111111111111,
              "#46039f"
             ],
             [
              0.2222222222222222,
              "#7201a8"
             ],
             [
              0.3333333333333333,
              "#9c179e"
             ],
             [
              0.4444444444444444,
              "#bd3786"
             ],
             [
              0.5555555555555556,
              "#d8576b"
             ],
             [
              0.6666666666666666,
              "#ed7953"
             ],
             [
              0.7777777777777778,
              "#fb9f3a"
             ],
             [
              0.8888888888888888,
              "#fdca26"
             ],
             [
              1,
              "#f0f921"
             ]
            ],
            "type": "heatmap"
           }
          ],
          "heatmapgl": [
           {
            "colorbar": {
             "outlinewidth": 0,
             "ticks": ""
            },
            "colorscale": [
             [
              0,
              "#0d0887"
             ],
             [
              0.1111111111111111,
              "#46039f"
             ],
             [
              0.2222222222222222,
              "#7201a8"
             ],
             [
              0.3333333333333333,
              "#9c179e"
             ],
             [
              0.4444444444444444,
              "#bd3786"
             ],
             [
              0.5555555555555556,
              "#d8576b"
             ],
             [
              0.6666666666666666,
              "#ed7953"
             ],
             [
              0.7777777777777778,
              "#fb9f3a"
             ],
             [
              0.8888888888888888,
              "#fdca26"
             ],
             [
              1,
              "#f0f921"
             ]
            ],
            "type": "heatmapgl"
           }
          ],
          "histogram": [
           {
            "marker": {
             "colorbar": {
              "outlinewidth": 0,
              "ticks": ""
             }
            },
            "type": "histogram"
           }
          ],
          "histogram2d": [
           {
            "colorbar": {
             "outlinewidth": 0,
             "ticks": ""
            },
            "colorscale": [
             [
              0,
              "#0d0887"
             ],
             [
              0.1111111111111111,
              "#46039f"
             ],
             [
              0.2222222222222222,
              "#7201a8"
             ],
             [
              0.3333333333333333,
              "#9c179e"
             ],
             [
              0.4444444444444444,
              "#bd3786"
             ],
             [
              0.5555555555555556,
              "#d8576b"
             ],
             [
              0.6666666666666666,
              "#ed7953"
             ],
             [
              0.7777777777777778,
              "#fb9f3a"
             ],
             [
              0.8888888888888888,
              "#fdca26"
             ],
             [
              1,
              "#f0f921"
             ]
            ],
            "type": "histogram2d"
           }
          ],
          "histogram2dcontour": [
           {
            "colorbar": {
             "outlinewidth": 0,
             "ticks": ""
            },
            "colorscale": [
             [
              0,
              "#0d0887"
             ],
             [
              0.1111111111111111,
              "#46039f"
             ],
             [
              0.2222222222222222,
              "#7201a8"
             ],
             [
              0.3333333333333333,
              "#9c179e"
             ],
             [
              0.4444444444444444,
              "#bd3786"
             ],
             [
              0.5555555555555556,
              "#d8576b"
             ],
             [
              0.6666666666666666,
              "#ed7953"
             ],
             [
              0.7777777777777778,
              "#fb9f3a"
             ],
             [
              0.8888888888888888,
              "#fdca26"
             ],
             [
              1,
              "#f0f921"
             ]
            ],
            "type": "histogram2dcontour"
           }
          ],
          "mesh3d": [
           {
            "colorbar": {
             "outlinewidth": 0,
             "ticks": ""
            },
            "type": "mesh3d"
           }
          ],
          "parcoords": [
           {
            "line": {
             "colorbar": {
              "outlinewidth": 0,
              "ticks": ""
             }
            },
            "type": "parcoords"
           }
          ],
          "pie": [
           {
            "automargin": true,
            "type": "pie"
           }
          ],
          "scatter": [
           {
            "marker": {
             "colorbar": {
              "outlinewidth": 0,
              "ticks": ""
             }
            },
            "type": "scatter"
           }
          ],
          "scatter3d": [
           {
            "line": {
             "colorbar": {
              "outlinewidth": 0,
              "ticks": ""
             }
            },
            "marker": {
             "colorbar": {
              "outlinewidth": 0,
              "ticks": ""
             }
            },
            "type": "scatter3d"
           }
          ],
          "scattercarpet": [
           {
            "marker": {
             "colorbar": {
              "outlinewidth": 0,
              "ticks": ""
             }
            },
            "type": "scattercarpet"
           }
          ],
          "scattergeo": [
           {
            "marker": {
             "colorbar": {
              "outlinewidth": 0,
              "ticks": ""
             }
            },
            "type": "scattergeo"
           }
          ],
          "scattergl": [
           {
            "marker": {
             "colorbar": {
              "outlinewidth": 0,
              "ticks": ""
             }
            },
            "type": "scattergl"
           }
          ],
          "scattermapbox": [
           {
            "marker": {
             "colorbar": {
              "outlinewidth": 0,
              "ticks": ""
             }
            },
            "type": "scattermapbox"
           }
          ],
          "scatterpolar": [
           {
            "marker": {
             "colorbar": {
              "outlinewidth": 0,
              "ticks": ""
             }
            },
            "type": "scatterpolar"
           }
          ],
          "scatterpolargl": [
           {
            "marker": {
             "colorbar": {
              "outlinewidth": 0,
              "ticks": ""
             }
            },
            "type": "scatterpolargl"
           }
          ],
          "scatterternary": [
           {
            "marker": {
             "colorbar": {
              "outlinewidth": 0,
              "ticks": ""
             }
            },
            "type": "scatterternary"
           }
          ],
          "surface": [
           {
            "colorbar": {
             "outlinewidth": 0,
             "ticks": ""
            },
            "colorscale": [
             [
              0,
              "#0d0887"
             ],
             [
              0.1111111111111111,
              "#46039f"
             ],
             [
              0.2222222222222222,
              "#7201a8"
             ],
             [
              0.3333333333333333,
              "#9c179e"
             ],
             [
              0.4444444444444444,
              "#bd3786"
             ],
             [
              0.5555555555555556,
              "#d8576b"
             ],
             [
              0.6666666666666666,
              "#ed7953"
             ],
             [
              0.7777777777777778,
              "#fb9f3a"
             ],
             [
              0.8888888888888888,
              "#fdca26"
             ],
             [
              1,
              "#f0f921"
             ]
            ],
            "type": "surface"
           }
          ],
          "table": [
           {
            "cells": {
             "fill": {
              "color": "#EBF0F8"
             },
             "line": {
              "color": "white"
             }
            },
            "header": {
             "fill": {
              "color": "#C8D4E3"
             },
             "line": {
              "color": "white"
             }
            },
            "type": "table"
           }
          ]
         },
         "layout": {
          "annotationdefaults": {
           "arrowcolor": "#2a3f5f",
           "arrowhead": 0,
           "arrowwidth": 1
          },
          "coloraxis": {
           "colorbar": {
            "outlinewidth": 0,
            "ticks": ""
           }
          },
          "colorscale": {
           "diverging": [
            [
             0,
             "#8e0152"
            ],
            [
             0.1,
             "#c51b7d"
            ],
            [
             0.2,
             "#de77ae"
            ],
            [
             0.3,
             "#f1b6da"
            ],
            [
             0.4,
             "#fde0ef"
            ],
            [
             0.5,
             "#f7f7f7"
            ],
            [
             0.6,
             "#e6f5d0"
            ],
            [
             0.7,
             "#b8e186"
            ],
            [
             0.8,
             "#7fbc41"
            ],
            [
             0.9,
             "#4d9221"
            ],
            [
             1,
             "#276419"
            ]
           ],
           "sequential": [
            [
             0,
             "#0d0887"
            ],
            [
             0.1111111111111111,
             "#46039f"
            ],
            [
             0.2222222222222222,
             "#7201a8"
            ],
            [
             0.3333333333333333,
             "#9c179e"
            ],
            [
             0.4444444444444444,
             "#bd3786"
            ],
            [
             0.5555555555555556,
             "#d8576b"
            ],
            [
             0.6666666666666666,
             "#ed7953"
            ],
            [
             0.7777777777777778,
             "#fb9f3a"
            ],
            [
             0.8888888888888888,
             "#fdca26"
            ],
            [
             1,
             "#f0f921"
            ]
           ],
           "sequentialminus": [
            [
             0,
             "#0d0887"
            ],
            [
             0.1111111111111111,
             "#46039f"
            ],
            [
             0.2222222222222222,
             "#7201a8"
            ],
            [
             0.3333333333333333,
             "#9c179e"
            ],
            [
             0.4444444444444444,
             "#bd3786"
            ],
            [
             0.5555555555555556,
             "#d8576b"
            ],
            [
             0.6666666666666666,
             "#ed7953"
            ],
            [
             0.7777777777777778,
             "#fb9f3a"
            ],
            [
             0.8888888888888888,
             "#fdca26"
            ],
            [
             1,
             "#f0f921"
            ]
           ]
          },
          "colorway": [
           "#636efa",
           "#EF553B",
           "#00cc96",
           "#ab63fa",
           "#FFA15A",
           "#19d3f3",
           "#FF6692",
           "#B6E880",
           "#FF97FF",
           "#FECB52"
          ],
          "font": {
           "color": "#2a3f5f"
          },
          "geo": {
           "bgcolor": "white",
           "lakecolor": "white",
           "landcolor": "#E5ECF6",
           "showlakes": true,
           "showland": true,
           "subunitcolor": "white"
          },
          "hoverlabel": {
           "align": "left"
          },
          "hovermode": "closest",
          "mapbox": {
           "style": "light"
          },
          "paper_bgcolor": "white",
          "plot_bgcolor": "#E5ECF6",
          "polar": {
           "angularaxis": {
            "gridcolor": "white",
            "linecolor": "white",
            "ticks": ""
           },
           "bgcolor": "#E5ECF6",
           "radialaxis": {
            "gridcolor": "white",
            "linecolor": "white",
            "ticks": ""
           }
          },
          "scene": {
           "xaxis": {
            "backgroundcolor": "#E5ECF6",
            "gridcolor": "white",
            "gridwidth": 2,
            "linecolor": "white",
            "showbackground": true,
            "ticks": "",
            "zerolinecolor": "white"
           },
           "yaxis": {
            "backgroundcolor": "#E5ECF6",
            "gridcolor": "white",
            "gridwidth": 2,
            "linecolor": "white",
            "showbackground": true,
            "ticks": "",
            "zerolinecolor": "white"
           },
           "zaxis": {
            "backgroundcolor": "#E5ECF6",
            "gridcolor": "white",
            "gridwidth": 2,
            "linecolor": "white",
            "showbackground": true,
            "ticks": "",
            "zerolinecolor": "white"
           }
          },
          "shapedefaults": {
           "line": {
            "color": "#2a3f5f"
           }
          },
          "ternary": {
           "aaxis": {
            "gridcolor": "white",
            "linecolor": "white",
            "ticks": ""
           },
           "baxis": {
            "gridcolor": "white",
            "linecolor": "white",
            "ticks": ""
           },
           "bgcolor": "#E5ECF6",
           "caxis": {
            "gridcolor": "white",
            "linecolor": "white",
            "ticks": ""
           }
          },
          "title": {
           "x": 0.05
          },
          "xaxis": {
           "automargin": true,
           "gridcolor": "white",
           "linecolor": "white",
           "ticks": "",
           "title": {
            "standoff": 15
           },
           "zerolinecolor": "white",
           "zerolinewidth": 2
          },
          "yaxis": {
           "automargin": true,
           "gridcolor": "white",
           "linecolor": "white",
           "ticks": "",
           "title": {
            "standoff": 15
           },
           "zerolinecolor": "white",
           "zerolinewidth": 2
          }
         }
        },
        "title": {
         "text": "Top 20 recomended Categories"
        },
        "yaxis": {
         "title": {
          "text": "# of Flights"
         }
        }
       }
      },
      "text/html": [
       "<div>\n",
       "        \n",
       "        \n",
       "            <div id=\"f4e9b658-51f1-456a-8d55-19585424f7d9\" class=\"plotly-graph-div\" style=\"height:525px; width:100%;\"></div>\n",
       "            <script type=\"text/javascript\">\n",
       "                require([\"plotly\"], function(Plotly) {\n",
       "                    window.PLOTLYENV=window.PLOTLYENV || {};\n",
       "                    \n",
       "                if (document.getElementById(\"f4e9b658-51f1-456a-8d55-19585424f7d9\")) {\n",
       "                    Plotly.newPlot(\n",
       "                        'f4e9b658-51f1-456a-8d55-19585424f7d9',\n",
       "                        [{\"marker\": {\"color\": [36, 20, 16, 16, 12, 11, 11, 11, 11, 11, 10, 10, 10, 9, 8, 8, 8, 7, 7, 5], \"colorscale\": [[0.0, \"rgb(0,0,131)\"], [0.2, \"rgb(0,60,170)\"], [0.4, \"rgb(5,255,255)\"], [0.6, \"rgb(255,255,0)\"], [0.8, \"rgb(250,0,0)\"], [1.0, \"rgb(128,0,0)\"]], \"showscale\": true}, \"type\": \"bar\", \"x\": [\"Hotel\", \"Caf\\u00e9\", \"Italian Restaurant\", \"Plaza\", \"Coffee Shop\", \"Bakery\", \"French Restaurant\", \"Cocktail Bar\", \"Park\", \"Ice Cream Shop\", \"Restaurant\", \"Bar\", \"Pub\", \"Wine Bar\", \"Theater\", \"Burger Joint\", \"Japanese Restaurant\", \"Spanish Restaurant\", \"Bistro\", \"Chocolate Shop\"], \"y\": [36, 20, 16, 16, 12, 11, 11, 11, 11, 11, 10, 10, 10, 9, 8, 8, 8, 7, 7, 5]}],\n",
       "                        {\"template\": {\"data\": {\"bar\": [{\"error_x\": {\"color\": \"#2a3f5f\"}, \"error_y\": {\"color\": \"#2a3f5f\"}, \"marker\": {\"line\": {\"color\": \"#E5ECF6\", \"width\": 0.5}}, \"type\": \"bar\"}], \"barpolar\": [{\"marker\": {\"line\": {\"color\": \"#E5ECF6\", \"width\": 0.5}}, \"type\": \"barpolar\"}], \"carpet\": [{\"aaxis\": {\"endlinecolor\": \"#2a3f5f\", \"gridcolor\": \"white\", \"linecolor\": \"white\", \"minorgridcolor\": \"white\", \"startlinecolor\": \"#2a3f5f\"}, \"baxis\": {\"endlinecolor\": \"#2a3f5f\", \"gridcolor\": \"white\", \"linecolor\": \"white\", \"minorgridcolor\": \"white\", \"startlinecolor\": \"#2a3f5f\"}, \"type\": \"carpet\"}], \"choropleth\": [{\"colorbar\": {\"outlinewidth\": 0, \"ticks\": \"\"}, \"type\": \"choropleth\"}], \"contour\": [{\"colorbar\": {\"outlinewidth\": 0, \"ticks\": \"\"}, \"colorscale\": [[0.0, \"#0d0887\"], [0.1111111111111111, \"#46039f\"], [0.2222222222222222, \"#7201a8\"], [0.3333333333333333, \"#9c179e\"], [0.4444444444444444, \"#bd3786\"], [0.5555555555555556, \"#d8576b\"], [0.6666666666666666, \"#ed7953\"], [0.7777777777777778, \"#fb9f3a\"], [0.8888888888888888, \"#fdca26\"], [1.0, \"#f0f921\"]], \"type\": \"contour\"}], \"contourcarpet\": [{\"colorbar\": {\"outlinewidth\": 0, \"ticks\": \"\"}, \"type\": \"contourcarpet\"}], \"heatmap\": [{\"colorbar\": {\"outlinewidth\": 0, \"ticks\": \"\"}, \"colorscale\": [[0.0, \"#0d0887\"], [0.1111111111111111, \"#46039f\"], [0.2222222222222222, \"#7201a8\"], [0.3333333333333333, \"#9c179e\"], [0.4444444444444444, \"#bd3786\"], [0.5555555555555556, \"#d8576b\"], [0.6666666666666666, \"#ed7953\"], [0.7777777777777778, \"#fb9f3a\"], [0.8888888888888888, \"#fdca26\"], [1.0, \"#f0f921\"]], \"type\": \"heatmap\"}], \"heatmapgl\": [{\"colorbar\": {\"outlinewidth\": 0, \"ticks\": \"\"}, \"colorscale\": [[0.0, \"#0d0887\"], [0.1111111111111111, \"#46039f\"], [0.2222222222222222, \"#7201a8\"], [0.3333333333333333, \"#9c179e\"], [0.4444444444444444, \"#bd3786\"], [0.5555555555555556, \"#d8576b\"], [0.6666666666666666, \"#ed7953\"], [0.7777777777777778, \"#fb9f3a\"], [0.8888888888888888, \"#fdca26\"], [1.0, \"#f0f921\"]], \"type\": \"heatmapgl\"}], \"histogram\": [{\"marker\": {\"colorbar\": {\"outlinewidth\": 0, \"ticks\": \"\"}}, \"type\": \"histogram\"}], \"histogram2d\": [{\"colorbar\": {\"outlinewidth\": 0, \"ticks\": \"\"}, \"colorscale\": [[0.0, \"#0d0887\"], [0.1111111111111111, \"#46039f\"], [0.2222222222222222, \"#7201a8\"], [0.3333333333333333, \"#9c179e\"], [0.4444444444444444, \"#bd3786\"], [0.5555555555555556, \"#d8576b\"], [0.6666666666666666, \"#ed7953\"], [0.7777777777777778, \"#fb9f3a\"], [0.8888888888888888, \"#fdca26\"], [1.0, \"#f0f921\"]], \"type\": \"histogram2d\"}], \"histogram2dcontour\": [{\"colorbar\": {\"outlinewidth\": 0, \"ticks\": \"\"}, \"colorscale\": [[0.0, \"#0d0887\"], [0.1111111111111111, \"#46039f\"], [0.2222222222222222, \"#7201a8\"], [0.3333333333333333, \"#9c179e\"], [0.4444444444444444, \"#bd3786\"], [0.5555555555555556, \"#d8576b\"], [0.6666666666666666, \"#ed7953\"], [0.7777777777777778, \"#fb9f3a\"], [0.8888888888888888, \"#fdca26\"], [1.0, \"#f0f921\"]], \"type\": \"histogram2dcontour\"}], \"mesh3d\": [{\"colorbar\": {\"outlinewidth\": 0, \"ticks\": \"\"}, \"type\": \"mesh3d\"}], \"parcoords\": [{\"line\": {\"colorbar\": {\"outlinewidth\": 0, \"ticks\": \"\"}}, \"type\": \"parcoords\"}], \"pie\": [{\"automargin\": true, \"type\": \"pie\"}], \"scatter\": [{\"marker\": {\"colorbar\": {\"outlinewidth\": 0, \"ticks\": \"\"}}, \"type\": \"scatter\"}], \"scatter3d\": [{\"line\": {\"colorbar\": {\"outlinewidth\": 0, \"ticks\": \"\"}}, \"marker\": {\"colorbar\": {\"outlinewidth\": 0, \"ticks\": \"\"}}, \"type\": \"scatter3d\"}], \"scattercarpet\": [{\"marker\": {\"colorbar\": {\"outlinewidth\": 0, \"ticks\": \"\"}}, \"type\": \"scattercarpet\"}], \"scattergeo\": [{\"marker\": {\"colorbar\": {\"outlinewidth\": 0, \"ticks\": \"\"}}, \"type\": \"scattergeo\"}], \"scattergl\": [{\"marker\": {\"colorbar\": {\"outlinewidth\": 0, \"ticks\": \"\"}}, \"type\": \"scattergl\"}], \"scattermapbox\": [{\"marker\": {\"colorbar\": {\"outlinewidth\": 0, \"ticks\": \"\"}}, \"type\": \"scattermapbox\"}], \"scatterpolar\": [{\"marker\": {\"colorbar\": {\"outlinewidth\": 0, \"ticks\": \"\"}}, \"type\": \"scatterpolar\"}], \"scatterpolargl\": [{\"marker\": {\"colorbar\": {\"outlinewidth\": 0, \"ticks\": \"\"}}, \"type\": \"scatterpolargl\"}], \"scatterternary\": [{\"marker\": {\"colorbar\": {\"outlinewidth\": 0, \"ticks\": \"\"}}, \"type\": \"scatterternary\"}], \"surface\": [{\"colorbar\": {\"outlinewidth\": 0, \"ticks\": \"\"}, \"colorscale\": [[0.0, \"#0d0887\"], [0.1111111111111111, \"#46039f\"], [0.2222222222222222, \"#7201a8\"], [0.3333333333333333, \"#9c179e\"], [0.4444444444444444, \"#bd3786\"], [0.5555555555555556, \"#d8576b\"], [0.6666666666666666, \"#ed7953\"], [0.7777777777777778, \"#fb9f3a\"], [0.8888888888888888, \"#fdca26\"], [1.0, \"#f0f921\"]], \"type\": \"surface\"}], \"table\": [{\"cells\": {\"fill\": {\"color\": \"#EBF0F8\"}, \"line\": {\"color\": \"white\"}}, \"header\": {\"fill\": {\"color\": \"#C8D4E3\"}, \"line\": {\"color\": \"white\"}}, \"type\": \"table\"}]}, \"layout\": {\"annotationdefaults\": {\"arrowcolor\": \"#2a3f5f\", \"arrowhead\": 0, \"arrowwidth\": 1}, \"coloraxis\": {\"colorbar\": {\"outlinewidth\": 0, \"ticks\": \"\"}}, \"colorscale\": {\"diverging\": [[0, \"#8e0152\"], [0.1, \"#c51b7d\"], [0.2, \"#de77ae\"], [0.3, \"#f1b6da\"], [0.4, \"#fde0ef\"], [0.5, \"#f7f7f7\"], [0.6, \"#e6f5d0\"], [0.7, \"#b8e186\"], [0.8, \"#7fbc41\"], [0.9, \"#4d9221\"], [1, \"#276419\"]], \"sequential\": [[0.0, \"#0d0887\"], [0.1111111111111111, \"#46039f\"], [0.2222222222222222, \"#7201a8\"], [0.3333333333333333, \"#9c179e\"], [0.4444444444444444, \"#bd3786\"], [0.5555555555555556, \"#d8576b\"], [0.6666666666666666, \"#ed7953\"], [0.7777777777777778, \"#fb9f3a\"], [0.8888888888888888, \"#fdca26\"], [1.0, \"#f0f921\"]], \"sequentialminus\": [[0.0, \"#0d0887\"], [0.1111111111111111, \"#46039f\"], [0.2222222222222222, \"#7201a8\"], [0.3333333333333333, \"#9c179e\"], [0.4444444444444444, \"#bd3786\"], [0.5555555555555556, \"#d8576b\"], [0.6666666666666666, \"#ed7953\"], [0.7777777777777778, \"#fb9f3a\"], [0.8888888888888888, \"#fdca26\"], [1.0, \"#f0f921\"]]}, \"colorway\": [\"#636efa\", \"#EF553B\", \"#00cc96\", \"#ab63fa\", \"#FFA15A\", \"#19d3f3\", \"#FF6692\", \"#B6E880\", \"#FF97FF\", \"#FECB52\"], \"font\": {\"color\": \"#2a3f5f\"}, \"geo\": {\"bgcolor\": \"white\", \"lakecolor\": \"white\", \"landcolor\": \"#E5ECF6\", \"showlakes\": true, \"showland\": true, \"subunitcolor\": \"white\"}, \"hoverlabel\": {\"align\": \"left\"}, \"hovermode\": \"closest\", \"mapbox\": {\"style\": \"light\"}, \"paper_bgcolor\": \"white\", \"plot_bgcolor\": \"#E5ECF6\", \"polar\": {\"angularaxis\": {\"gridcolor\": \"white\", \"linecolor\": \"white\", \"ticks\": \"\"}, \"bgcolor\": \"#E5ECF6\", \"radialaxis\": {\"gridcolor\": \"white\", \"linecolor\": \"white\", \"ticks\": \"\"}}, \"scene\": {\"xaxis\": {\"backgroundcolor\": \"#E5ECF6\", \"gridcolor\": \"white\", \"gridwidth\": 2, \"linecolor\": \"white\", \"showbackground\": true, \"ticks\": \"\", \"zerolinecolor\": \"white\"}, \"yaxis\": {\"backgroundcolor\": \"#E5ECF6\", \"gridcolor\": \"white\", \"gridwidth\": 2, \"linecolor\": \"white\", \"showbackground\": true, \"ticks\": \"\", \"zerolinecolor\": \"white\"}, \"zaxis\": {\"backgroundcolor\": \"#E5ECF6\", \"gridcolor\": \"white\", \"gridwidth\": 2, \"linecolor\": \"white\", \"showbackground\": true, \"ticks\": \"\", \"zerolinecolor\": \"white\"}}, \"shapedefaults\": {\"line\": {\"color\": \"#2a3f5f\"}}, \"ternary\": {\"aaxis\": {\"gridcolor\": \"white\", \"linecolor\": \"white\", \"ticks\": \"\"}, \"baxis\": {\"gridcolor\": \"white\", \"linecolor\": \"white\", \"ticks\": \"\"}, \"bgcolor\": \"#E5ECF6\", \"caxis\": {\"gridcolor\": \"white\", \"linecolor\": \"white\", \"ticks\": \"\"}}, \"title\": {\"x\": 0.05}, \"xaxis\": {\"automargin\": true, \"gridcolor\": \"white\", \"linecolor\": \"white\", \"ticks\": \"\", \"title\": {\"standoff\": 15}, \"zerolinecolor\": \"white\", \"zerolinewidth\": 2}, \"yaxis\": {\"automargin\": true, \"gridcolor\": \"white\", \"linecolor\": \"white\", \"ticks\": \"\", \"title\": {\"standoff\": 15}, \"zerolinecolor\": \"white\", \"zerolinewidth\": 2}}}, \"title\": {\"text\": \"Top 20 recomended Categories\"}, \"yaxis\": {\"title\": {\"text\": \"# of Flights\"}}},\n",
       "                        {\"responsive\": true}\n",
       "                    ).then(function(){\n",
       "                            \n",
       "var gd = document.getElementById('f4e9b658-51f1-456a-8d55-19585424f7d9');\n",
       "var x = new MutationObserver(function (mutations, observer) {{\n",
       "        var display = window.getComputedStyle(gd).display;\n",
       "        if (!display || display === 'none') {{\n",
       "            console.log([gd, 'removed!']);\n",
       "            Plotly.purge(gd);\n",
       "            observer.disconnect();\n",
       "        }}\n",
       "}});\n",
       "\n",
       "// Listen for the removal of the full notebook cells\n",
       "var notebookContainer = gd.closest('#notebook-container');\n",
       "if (notebookContainer) {{\n",
       "    x.observe(notebookContainer, {childList: true});\n",
       "}}\n",
       "\n",
       "// Listen for the clearing of the current output cell\n",
       "var outputEl = gd.closest('.output');\n",
       "if (outputEl) {{\n",
       "    x.observe(outputEl, {childList: true});\n",
       "}}\n",
       "\n",
       "                        })\n",
       "                };\n",
       "                });\n",
       "            </script>\n",
       "        </div>"
      ]
     },
     "metadata": {},
     "output_type": "display_data"
    }
   ],
   "source": [
    "trace = go.Bar(\n",
    "    x=plt1.index,\n",
    "    y=plt1.values,\n",
    "    marker=dict(\n",
    "        color = plt1.values,\n",
    "        colorscale='Jet',\n",
    "        showscale=True\n",
    "    )\n",
    ")\n",
    "\n",
    "data = [trace]\n",
    "layout = go.Layout(\n",
    "    title='Top 20 recomended Categories', \n",
    "    yaxis = dict(title = '# of Flights')\n",
    ")\n",
    "\n",
    "fig = go.Figure(data=data, layout=layout)\n",
    "#for showing on the notbook\n",
    "py.iplot(fig)"
   ]
  },
  {
   "cell_type": "markdown",
   "metadata": {},
   "source": [
    "## Top 20 categories recomended by cities"
   ]
  },
  {
   "cell_type": "code",
   "execution_count": 18,
   "metadata": {
    "ExecuteTime": {
     "end_time": "2020-07-08T06:03:01.991607Z",
     "start_time": "2020-07-08T06:03:01.720334Z"
    }
   },
   "outputs": [
    {
     "data": {
      "application/vnd.plotly.v1+json": {
       "config": {
        "plotlyServerURL": "https://plot.ly"
       },
       "data": [
        {
         "alignmentgroup": "True",
         "hovertemplate": "category=Hotel<br>city=%{x}<br>value=%{y}<extra></extra>",
         "legendgroup": "Hotel",
         "marker": {
          "color": "#636efa"
         },
         "name": "Hotel",
         "offsetgroup": "Hotel",
         "orientation": "v",
         "showlegend": true,
         "textposition": "auto",
         "type": "bar",
         "x": [
          "Roma",
          "Paris",
          "Wien",
          "Barcelona",
          "Helsinki",
          "Budapest",
          "Amsterdam"
         ],
         "xaxis": "x",
         "y": [
          14,
          null,
          null,
          null,
          null,
          4,
          null
         ],
         "yaxis": "y"
        },
        {
         "alignmentgroup": "True",
         "hovertemplate": "category=French Restaurant<br>city=%{x}<br>value=%{y}<extra></extra>",
         "legendgroup": "French Restaurant",
         "marker": {
          "color": "#EF553B"
         },
         "name": "French Restaurant",
         "offsetgroup": "French Restaurant",
         "orientation": "v",
         "showlegend": true,
         "textposition": "auto",
         "type": "bar",
         "x": [
          "Roma",
          "Paris",
          "Wien",
          "Barcelona",
          "Helsinki",
          "Budapest",
          "Amsterdam"
         ],
         "xaxis": "x",
         "y": [
          null,
          6,
          null,
          null,
          null,
          null,
          null
         ],
         "yaxis": "y"
        },
        {
         "alignmentgroup": "True",
         "hovertemplate": "category=Plaza<br>city=%{x}<br>value=%{y}<extra></extra>",
         "legendgroup": "Plaza",
         "marker": {
          "color": "#00cc96"
         },
         "name": "Plaza",
         "offsetgroup": "Plaza",
         "orientation": "v",
         "showlegend": true,
         "textposition": "auto",
         "type": "bar",
         "x": [
          "Roma",
          "Paris",
          "Wien",
          "Barcelona",
          "Helsinki",
          "Budapest",
          "Amsterdam"
         ],
         "xaxis": "x",
         "y": [
          null,
          null,
          6,
          null,
          null,
          null,
          null
         ],
         "yaxis": "y"
        },
        {
         "alignmentgroup": "True",
         "hovertemplate": "category=Japanese Restaurant<br>city=%{x}<br>value=%{y}<extra></extra>",
         "legendgroup": "Japanese Restaurant",
         "marker": {
          "color": "#ab63fa"
         },
         "name": "Japanese Restaurant",
         "offsetgroup": "Japanese Restaurant",
         "orientation": "v",
         "showlegend": true,
         "textposition": "auto",
         "type": "bar",
         "x": [
          "Roma",
          "Paris",
          "Wien",
          "Barcelona",
          "Helsinki",
          "Budapest",
          "Amsterdam"
         ],
         "xaxis": "x",
         "y": [
          null,
          null,
          null,
          5,
          null,
          null,
          null
         ],
         "yaxis": "y"
        },
        {
         "alignmentgroup": "True",
         "hovertemplate": "category=Café<br>city=%{x}<br>value=%{y}<extra></extra>",
         "legendgroup": "Café",
         "marker": {
          "color": "#FFA15A"
         },
         "name": "Café",
         "offsetgroup": "Café",
         "orientation": "v",
         "showlegend": true,
         "textposition": "auto",
         "type": "bar",
         "x": [
          "Roma",
          "Paris",
          "Wien",
          "Barcelona",
          "Helsinki",
          "Budapest",
          "Amsterdam"
         ],
         "xaxis": "x",
         "y": [
          null,
          null,
          5,
          null,
          4,
          null,
          null
         ],
         "yaxis": "y"
        },
        {
         "alignmentgroup": "True",
         "hovertemplate": "category=Italian Restaurant<br>city=%{x}<br>value=%{y}<extra></extra>",
         "legendgroup": "Italian Restaurant",
         "marker": {
          "color": "#19d3f3"
         },
         "name": "Italian Restaurant",
         "offsetgroup": "Italian Restaurant",
         "orientation": "v",
         "showlegend": true,
         "textposition": "auto",
         "type": "bar",
         "x": [
          "Roma",
          "Paris",
          "Wien",
          "Barcelona",
          "Helsinki",
          "Budapest",
          "Amsterdam"
         ],
         "xaxis": "x",
         "y": [
          5,
          null,
          3,
          null,
          null,
          null,
          null
         ],
         "yaxis": "y"
        },
        {
         "alignmentgroup": "True",
         "hovertemplate": "category=Spanish Restaurant<br>city=%{x}<br>value=%{y}<extra></extra>",
         "legendgroup": "Spanish Restaurant",
         "marker": {
          "color": "#FF6692"
         },
         "name": "Spanish Restaurant",
         "offsetgroup": "Spanish Restaurant",
         "orientation": "v",
         "showlegend": true,
         "textposition": "auto",
         "type": "bar",
         "x": [
          "Roma",
          "Paris",
          "Wien",
          "Barcelona",
          "Helsinki",
          "Budapest",
          "Amsterdam"
         ],
         "xaxis": "x",
         "y": [
          null,
          null,
          null,
          5,
          null,
          null,
          null
         ],
         "yaxis": "y"
        },
        {
         "alignmentgroup": "True",
         "hovertemplate": "category=Thai Restaurant<br>city=%{x}<br>value=%{y}<extra></extra>",
         "legendgroup": "Thai Restaurant",
         "marker": {
          "color": "#B6E880"
         },
         "name": "Thai Restaurant",
         "offsetgroup": "Thai Restaurant",
         "orientation": "v",
         "showlegend": true,
         "textposition": "auto",
         "type": "bar",
         "x": [
          "Roma",
          "Paris",
          "Wien",
          "Barcelona",
          "Helsinki",
          "Budapest",
          "Amsterdam"
         ],
         "xaxis": "x",
         "y": [
          null,
          null,
          null,
          null,
          4,
          null,
          null
         ],
         "yaxis": "y"
        },
        {
         "alignmentgroup": "True",
         "hovertemplate": "category=Boutique<br>city=%{x}<br>value=%{y}<extra></extra>",
         "legendgroup": "Boutique",
         "marker": {
          "color": "#FF97FF"
         },
         "name": "Boutique",
         "offsetgroup": "Boutique",
         "orientation": "v",
         "showlegend": true,
         "textposition": "auto",
         "type": "bar",
         "x": [
          "Roma",
          "Paris",
          "Wien",
          "Barcelona",
          "Helsinki",
          "Budapest",
          "Amsterdam"
         ],
         "xaxis": "x",
         "y": [
          null,
          null,
          4,
          null,
          null,
          null,
          null
         ],
         "yaxis": "y"
        },
        {
         "alignmentgroup": "True",
         "hovertemplate": "category=Pub<br>city=%{x}<br>value=%{y}<extra></extra>",
         "legendgroup": "Pub",
         "marker": {
          "color": "#FECB52"
         },
         "name": "Pub",
         "offsetgroup": "Pub",
         "orientation": "v",
         "showlegend": true,
         "textposition": "auto",
         "type": "bar",
         "x": [
          "Roma",
          "Paris",
          "Wien",
          "Barcelona",
          "Helsinki",
          "Budapest",
          "Amsterdam"
         ],
         "xaxis": "x",
         "y": [
          null,
          null,
          null,
          null,
          null,
          4,
          null
         ],
         "yaxis": "y"
        },
        {
         "alignmentgroup": "True",
         "hovertemplate": "category=Mediterranean Restaurant<br>city=%{x}<br>value=%{y}<extra></extra>",
         "legendgroup": "Mediterranean Restaurant",
         "marker": {
          "color": "#636efa"
         },
         "name": "Mediterranean Restaurant",
         "offsetgroup": "Mediterranean Restaurant",
         "orientation": "v",
         "showlegend": true,
         "textposition": "auto",
         "type": "bar",
         "x": [
          "Roma",
          "Paris",
          "Wien",
          "Barcelona",
          "Helsinki",
          "Budapest",
          "Amsterdam"
         ],
         "xaxis": "x",
         "y": [
          null,
          null,
          null,
          4,
          null,
          null,
          null
         ],
         "yaxis": "y"
        },
        {
         "alignmentgroup": "True",
         "hovertemplate": "category=Cocktail Bar<br>city=%{x}<br>value=%{y}<extra></extra>",
         "legendgroup": "Cocktail Bar",
         "marker": {
          "color": "#EF553B"
         },
         "name": "Cocktail Bar",
         "offsetgroup": "Cocktail Bar",
         "orientation": "v",
         "showlegend": true,
         "textposition": "auto",
         "type": "bar",
         "x": [
          "Roma",
          "Paris",
          "Wien",
          "Barcelona",
          "Helsinki",
          "Budapest",
          "Amsterdam"
         ],
         "xaxis": "x",
         "y": [
          null,
          null,
          null,
          4,
          null,
          null,
          null
         ],
         "yaxis": "y"
        },
        {
         "alignmentgroup": "True",
         "hovertemplate": "category=Ice Cream Shop<br>city=%{x}<br>value=%{y}<extra></extra>",
         "legendgroup": "Ice Cream Shop",
         "marker": {
          "color": "#00cc96"
         },
         "name": "Ice Cream Shop",
         "offsetgroup": "Ice Cream Shop",
         "orientation": "v",
         "showlegend": true,
         "textposition": "auto",
         "type": "bar",
         "x": [
          "Roma",
          "Paris",
          "Wien",
          "Barcelona",
          "Helsinki",
          "Budapest",
          "Amsterdam"
         ],
         "xaxis": "x",
         "y": [
          4,
          null,
          null,
          null,
          null,
          null,
          null
         ],
         "yaxis": "y"
        },
        {
         "alignmentgroup": "True",
         "hovertemplate": "category=Park<br>city=%{x}<br>value=%{y}<extra></extra>",
         "legendgroup": "Park",
         "marker": {
          "color": "#ab63fa"
         },
         "name": "Park",
         "offsetgroup": "Park",
         "orientation": "v",
         "showlegend": true,
         "textposition": "auto",
         "type": "bar",
         "x": [
          "Roma",
          "Paris",
          "Wien",
          "Barcelona",
          "Helsinki",
          "Budapest",
          "Amsterdam"
         ],
         "xaxis": "x",
         "y": [
          null,
          3,
          null,
          null,
          3,
          null,
          null
         ],
         "yaxis": "y"
        },
        {
         "alignmentgroup": "True",
         "hovertemplate": "category=Tapas Restaurant<br>city=%{x}<br>value=%{y}<extra></extra>",
         "legendgroup": "Tapas Restaurant",
         "marker": {
          "color": "#FFA15A"
         },
         "name": "Tapas Restaurant",
         "offsetgroup": "Tapas Restaurant",
         "orientation": "v",
         "showlegend": true,
         "textposition": "auto",
         "type": "bar",
         "x": [
          "Roma",
          "Paris",
          "Wien",
          "Barcelona",
          "Helsinki",
          "Budapest",
          "Amsterdam"
         ],
         "xaxis": "x",
         "y": [
          null,
          null,
          null,
          3,
          null,
          null,
          null
         ],
         "yaxis": "y"
        },
        {
         "alignmentgroup": "True",
         "hovertemplate": "category=Coffee Shop<br>city=%{x}<br>value=%{y}<extra></extra>",
         "legendgroup": "Coffee Shop",
         "marker": {
          "color": "#19d3f3"
         },
         "name": "Coffee Shop",
         "offsetgroup": "Coffee Shop",
         "orientation": "v",
         "showlegend": true,
         "textposition": "auto",
         "type": "bar",
         "x": [
          "Roma",
          "Paris",
          "Wien",
          "Barcelona",
          "Helsinki",
          "Budapest",
          "Amsterdam"
         ],
         "xaxis": "x",
         "y": [
          null,
          null,
          null,
          null,
          null,
          null,
          3
         ],
         "yaxis": "y"
        }
       ],
       "layout": {
        "barmode": "relative",
        "legend": {
         "title": {
          "text": "category"
         },
         "tracegroupgap": 0
        },
        "margin": {
         "t": 60
        },
        "template": {
         "data": {
          "bar": [
           {
            "error_x": {
             "color": "#2a3f5f"
            },
            "error_y": {
             "color": "#2a3f5f"
            },
            "marker": {
             "line": {
              "color": "#E5ECF6",
              "width": 0.5
             }
            },
            "type": "bar"
           }
          ],
          "barpolar": [
           {
            "marker": {
             "line": {
              "color": "#E5ECF6",
              "width": 0.5
             }
            },
            "type": "barpolar"
           }
          ],
          "carpet": [
           {
            "aaxis": {
             "endlinecolor": "#2a3f5f",
             "gridcolor": "white",
             "linecolor": "white",
             "minorgridcolor": "white",
             "startlinecolor": "#2a3f5f"
            },
            "baxis": {
             "endlinecolor": "#2a3f5f",
             "gridcolor": "white",
             "linecolor": "white",
             "minorgridcolor": "white",
             "startlinecolor": "#2a3f5f"
            },
            "type": "carpet"
           }
          ],
          "choropleth": [
           {
            "colorbar": {
             "outlinewidth": 0,
             "ticks": ""
            },
            "type": "choropleth"
           }
          ],
          "contour": [
           {
            "colorbar": {
             "outlinewidth": 0,
             "ticks": ""
            },
            "colorscale": [
             [
              0,
              "#0d0887"
             ],
             [
              0.1111111111111111,
              "#46039f"
             ],
             [
              0.2222222222222222,
              "#7201a8"
             ],
             [
              0.3333333333333333,
              "#9c179e"
             ],
             [
              0.4444444444444444,
              "#bd3786"
             ],
             [
              0.5555555555555556,
              "#d8576b"
             ],
             [
              0.6666666666666666,
              "#ed7953"
             ],
             [
              0.7777777777777778,
              "#fb9f3a"
             ],
             [
              0.8888888888888888,
              "#fdca26"
             ],
             [
              1,
              "#f0f921"
             ]
            ],
            "type": "contour"
           }
          ],
          "contourcarpet": [
           {
            "colorbar": {
             "outlinewidth": 0,
             "ticks": ""
            },
            "type": "contourcarpet"
           }
          ],
          "heatmap": [
           {
            "colorbar": {
             "outlinewidth": 0,
             "ticks": ""
            },
            "colorscale": [
             [
              0,
              "#0d0887"
             ],
             [
              0.1111111111111111,
              "#46039f"
             ],
             [
              0.2222222222222222,
              "#7201a8"
             ],
             [
              0.3333333333333333,
              "#9c179e"
             ],
             [
              0.4444444444444444,
              "#bd3786"
             ],
             [
              0.5555555555555556,
              "#d8576b"
             ],
             [
              0.6666666666666666,
              "#ed7953"
             ],
             [
              0.7777777777777778,
              "#fb9f3a"
             ],
             [
              0.8888888888888888,
              "#fdca26"
             ],
             [
              1,
              "#f0f921"
             ]
            ],
            "type": "heatmap"
           }
          ],
          "heatmapgl": [
           {
            "colorbar": {
             "outlinewidth": 0,
             "ticks": ""
            },
            "colorscale": [
             [
              0,
              "#0d0887"
             ],
             [
              0.1111111111111111,
              "#46039f"
             ],
             [
              0.2222222222222222,
              "#7201a8"
             ],
             [
              0.3333333333333333,
              "#9c179e"
             ],
             [
              0.4444444444444444,
              "#bd3786"
             ],
             [
              0.5555555555555556,
              "#d8576b"
             ],
             [
              0.6666666666666666,
              "#ed7953"
             ],
             [
              0.7777777777777778,
              "#fb9f3a"
             ],
             [
              0.8888888888888888,
              "#fdca26"
             ],
             [
              1,
              "#f0f921"
             ]
            ],
            "type": "heatmapgl"
           }
          ],
          "histogram": [
           {
            "marker": {
             "colorbar": {
              "outlinewidth": 0,
              "ticks": ""
             }
            },
            "type": "histogram"
           }
          ],
          "histogram2d": [
           {
            "colorbar": {
             "outlinewidth": 0,
             "ticks": ""
            },
            "colorscale": [
             [
              0,
              "#0d0887"
             ],
             [
              0.1111111111111111,
              "#46039f"
             ],
             [
              0.2222222222222222,
              "#7201a8"
             ],
             [
              0.3333333333333333,
              "#9c179e"
             ],
             [
              0.4444444444444444,
              "#bd3786"
             ],
             [
              0.5555555555555556,
              "#d8576b"
             ],
             [
              0.6666666666666666,
              "#ed7953"
             ],
             [
              0.7777777777777778,
              "#fb9f3a"
             ],
             [
              0.8888888888888888,
              "#fdca26"
             ],
             [
              1,
              "#f0f921"
             ]
            ],
            "type": "histogram2d"
           }
          ],
          "histogram2dcontour": [
           {
            "colorbar": {
             "outlinewidth": 0,
             "ticks": ""
            },
            "colorscale": [
             [
              0,
              "#0d0887"
             ],
             [
              0.1111111111111111,
              "#46039f"
             ],
             [
              0.2222222222222222,
              "#7201a8"
             ],
             [
              0.3333333333333333,
              "#9c179e"
             ],
             [
              0.4444444444444444,
              "#bd3786"
             ],
             [
              0.5555555555555556,
              "#d8576b"
             ],
             [
              0.6666666666666666,
              "#ed7953"
             ],
             [
              0.7777777777777778,
              "#fb9f3a"
             ],
             [
              0.8888888888888888,
              "#fdca26"
             ],
             [
              1,
              "#f0f921"
             ]
            ],
            "type": "histogram2dcontour"
           }
          ],
          "mesh3d": [
           {
            "colorbar": {
             "outlinewidth": 0,
             "ticks": ""
            },
            "type": "mesh3d"
           }
          ],
          "parcoords": [
           {
            "line": {
             "colorbar": {
              "outlinewidth": 0,
              "ticks": ""
             }
            },
            "type": "parcoords"
           }
          ],
          "pie": [
           {
            "automargin": true,
            "type": "pie"
           }
          ],
          "scatter": [
           {
            "marker": {
             "colorbar": {
              "outlinewidth": 0,
              "ticks": ""
             }
            },
            "type": "scatter"
           }
          ],
          "scatter3d": [
           {
            "line": {
             "colorbar": {
              "outlinewidth": 0,
              "ticks": ""
             }
            },
            "marker": {
             "colorbar": {
              "outlinewidth": 0,
              "ticks": ""
             }
            },
            "type": "scatter3d"
           }
          ],
          "scattercarpet": [
           {
            "marker": {
             "colorbar": {
              "outlinewidth": 0,
              "ticks": ""
             }
            },
            "type": "scattercarpet"
           }
          ],
          "scattergeo": [
           {
            "marker": {
             "colorbar": {
              "outlinewidth": 0,
              "ticks": ""
             }
            },
            "type": "scattergeo"
           }
          ],
          "scattergl": [
           {
            "marker": {
             "colorbar": {
              "outlinewidth": 0,
              "ticks": ""
             }
            },
            "type": "scattergl"
           }
          ],
          "scattermapbox": [
           {
            "marker": {
             "colorbar": {
              "outlinewidth": 0,
              "ticks": ""
             }
            },
            "type": "scattermapbox"
           }
          ],
          "scatterpolar": [
           {
            "marker": {
             "colorbar": {
              "outlinewidth": 0,
              "ticks": ""
             }
            },
            "type": "scatterpolar"
           }
          ],
          "scatterpolargl": [
           {
            "marker": {
             "colorbar": {
              "outlinewidth": 0,
              "ticks": ""
             }
            },
            "type": "scatterpolargl"
           }
          ],
          "scatterternary": [
           {
            "marker": {
             "colorbar": {
              "outlinewidth": 0,
              "ticks": ""
             }
            },
            "type": "scatterternary"
           }
          ],
          "surface": [
           {
            "colorbar": {
             "outlinewidth": 0,
             "ticks": ""
            },
            "colorscale": [
             [
              0,
              "#0d0887"
             ],
             [
              0.1111111111111111,
              "#46039f"
             ],
             [
              0.2222222222222222,
              "#7201a8"
             ],
             [
              0.3333333333333333,
              "#9c179e"
             ],
             [
              0.4444444444444444,
              "#bd3786"
             ],
             [
              0.5555555555555556,
              "#d8576b"
             ],
             [
              0.6666666666666666,
              "#ed7953"
             ],
             [
              0.7777777777777778,
              "#fb9f3a"
             ],
             [
              0.8888888888888888,
              "#fdca26"
             ],
             [
              1,
              "#f0f921"
             ]
            ],
            "type": "surface"
           }
          ],
          "table": [
           {
            "cells": {
             "fill": {
              "color": "#EBF0F8"
             },
             "line": {
              "color": "white"
             }
            },
            "header": {
             "fill": {
              "color": "#C8D4E3"
             },
             "line": {
              "color": "white"
             }
            },
            "type": "table"
           }
          ]
         },
         "layout": {
          "annotationdefaults": {
           "arrowcolor": "#2a3f5f",
           "arrowhead": 0,
           "arrowwidth": 1
          },
          "coloraxis": {
           "colorbar": {
            "outlinewidth": 0,
            "ticks": ""
           }
          },
          "colorscale": {
           "diverging": [
            [
             0,
             "#8e0152"
            ],
            [
             0.1,
             "#c51b7d"
            ],
            [
             0.2,
             "#de77ae"
            ],
            [
             0.3,
             "#f1b6da"
            ],
            [
             0.4,
             "#fde0ef"
            ],
            [
             0.5,
             "#f7f7f7"
            ],
            [
             0.6,
             "#e6f5d0"
            ],
            [
             0.7,
             "#b8e186"
            ],
            [
             0.8,
             "#7fbc41"
            ],
            [
             0.9,
             "#4d9221"
            ],
            [
             1,
             "#276419"
            ]
           ],
           "sequential": [
            [
             0,
             "#0d0887"
            ],
            [
             0.1111111111111111,
             "#46039f"
            ],
            [
             0.2222222222222222,
             "#7201a8"
            ],
            [
             0.3333333333333333,
             "#9c179e"
            ],
            [
             0.4444444444444444,
             "#bd3786"
            ],
            [
             0.5555555555555556,
             "#d8576b"
            ],
            [
             0.6666666666666666,
             "#ed7953"
            ],
            [
             0.7777777777777778,
             "#fb9f3a"
            ],
            [
             0.8888888888888888,
             "#fdca26"
            ],
            [
             1,
             "#f0f921"
            ]
           ],
           "sequentialminus": [
            [
             0,
             "#0d0887"
            ],
            [
             0.1111111111111111,
             "#46039f"
            ],
            [
             0.2222222222222222,
             "#7201a8"
            ],
            [
             0.3333333333333333,
             "#9c179e"
            ],
            [
             0.4444444444444444,
             "#bd3786"
            ],
            [
             0.5555555555555556,
             "#d8576b"
            ],
            [
             0.6666666666666666,
             "#ed7953"
            ],
            [
             0.7777777777777778,
             "#fb9f3a"
            ],
            [
             0.8888888888888888,
             "#fdca26"
            ],
            [
             1,
             "#f0f921"
            ]
           ]
          },
          "colorway": [
           "#636efa",
           "#EF553B",
           "#00cc96",
           "#ab63fa",
           "#FFA15A",
           "#19d3f3",
           "#FF6692",
           "#B6E880",
           "#FF97FF",
           "#FECB52"
          ],
          "font": {
           "color": "#2a3f5f"
          },
          "geo": {
           "bgcolor": "white",
           "lakecolor": "white",
           "landcolor": "#E5ECF6",
           "showlakes": true,
           "showland": true,
           "subunitcolor": "white"
          },
          "hoverlabel": {
           "align": "left"
          },
          "hovermode": "closest",
          "mapbox": {
           "style": "light"
          },
          "paper_bgcolor": "white",
          "plot_bgcolor": "#E5ECF6",
          "polar": {
           "angularaxis": {
            "gridcolor": "white",
            "linecolor": "white",
            "ticks": ""
           },
           "bgcolor": "#E5ECF6",
           "radialaxis": {
            "gridcolor": "white",
            "linecolor": "white",
            "ticks": ""
           }
          },
          "scene": {
           "xaxis": {
            "backgroundcolor": "#E5ECF6",
            "gridcolor": "white",
            "gridwidth": 2,
            "linecolor": "white",
            "showbackground": true,
            "ticks": "",
            "zerolinecolor": "white"
           },
           "yaxis": {
            "backgroundcolor": "#E5ECF6",
            "gridcolor": "white",
            "gridwidth": 2,
            "linecolor": "white",
            "showbackground": true,
            "ticks": "",
            "zerolinecolor": "white"
           },
           "zaxis": {
            "backgroundcolor": "#E5ECF6",
            "gridcolor": "white",
            "gridwidth": 2,
            "linecolor": "white",
            "showbackground": true,
            "ticks": "",
            "zerolinecolor": "white"
           }
          },
          "shapedefaults": {
           "line": {
            "color": "#2a3f5f"
           }
          },
          "ternary": {
           "aaxis": {
            "gridcolor": "white",
            "linecolor": "white",
            "ticks": ""
           },
           "baxis": {
            "gridcolor": "white",
            "linecolor": "white",
            "ticks": ""
           },
           "bgcolor": "#E5ECF6",
           "caxis": {
            "gridcolor": "white",
            "linecolor": "white",
            "ticks": ""
           }
          },
          "title": {
           "x": 0.05
          },
          "xaxis": {
           "automargin": true,
           "gridcolor": "white",
           "linecolor": "white",
           "ticks": "",
           "title": {
            "standoff": 15
           },
           "zerolinecolor": "white",
           "zerolinewidth": 2
          },
          "yaxis": {
           "automargin": true,
           "gridcolor": "white",
           "linecolor": "white",
           "ticks": "",
           "title": {
            "standoff": 15
           },
           "zerolinecolor": "white",
           "zerolinewidth": 2
          }
         }
        },
        "xaxis": {
         "anchor": "y",
         "domain": [
          0,
          1
         ],
         "title": {
          "text": "city"
         }
        },
        "yaxis": {
         "anchor": "x",
         "domain": [
          0,
          1
         ],
         "title": {
          "text": "value"
         }
        }
       }
      },
      "text/html": [
       "<div>\n",
       "        \n",
       "        \n",
       "            <div id=\"e64855bc-638b-4455-b486-31e1ed56dcf7\" class=\"plotly-graph-div\" style=\"height:525px; width:100%;\"></div>\n",
       "            <script type=\"text/javascript\">\n",
       "                require([\"plotly\"], function(Plotly) {\n",
       "                    window.PLOTLYENV=window.PLOTLYENV || {};\n",
       "                    \n",
       "                if (document.getElementById(\"e64855bc-638b-4455-b486-31e1ed56dcf7\")) {\n",
       "                    Plotly.newPlot(\n",
       "                        'e64855bc-638b-4455-b486-31e1ed56dcf7',\n",
       "                        [{\"alignmentgroup\": \"True\", \"hovertemplate\": \"category=Hotel<br>city=%{x}<br>value=%{y}<extra></extra>\", \"legendgroup\": \"Hotel\", \"marker\": {\"color\": \"#636efa\"}, \"name\": \"Hotel\", \"offsetgroup\": \"Hotel\", \"orientation\": \"v\", \"showlegend\": true, \"textposition\": \"auto\", \"type\": \"bar\", \"x\": [\"Roma\", \"Paris\", \"Wien\", \"Barcelona\", \"Helsinki\", \"Budapest\", \"Amsterdam\"], \"xaxis\": \"x\", \"y\": [14.0, null, null, null, null, 4.0, null], \"yaxis\": \"y\"}, {\"alignmentgroup\": \"True\", \"hovertemplate\": \"category=French Restaurant<br>city=%{x}<br>value=%{y}<extra></extra>\", \"legendgroup\": \"French Restaurant\", \"marker\": {\"color\": \"#EF553B\"}, \"name\": \"French Restaurant\", \"offsetgroup\": \"French Restaurant\", \"orientation\": \"v\", \"showlegend\": true, \"textposition\": \"auto\", \"type\": \"bar\", \"x\": [\"Roma\", \"Paris\", \"Wien\", \"Barcelona\", \"Helsinki\", \"Budapest\", \"Amsterdam\"], \"xaxis\": \"x\", \"y\": [null, 6.0, null, null, null, null, null], \"yaxis\": \"y\"}, {\"alignmentgroup\": \"True\", \"hovertemplate\": \"category=Plaza<br>city=%{x}<br>value=%{y}<extra></extra>\", \"legendgroup\": \"Plaza\", \"marker\": {\"color\": \"#00cc96\"}, \"name\": \"Plaza\", \"offsetgroup\": \"Plaza\", \"orientation\": \"v\", \"showlegend\": true, \"textposition\": \"auto\", \"type\": \"bar\", \"x\": [\"Roma\", \"Paris\", \"Wien\", \"Barcelona\", \"Helsinki\", \"Budapest\", \"Amsterdam\"], \"xaxis\": \"x\", \"y\": [null, null, 6.0, null, null, null, null], \"yaxis\": \"y\"}, {\"alignmentgroup\": \"True\", \"hovertemplate\": \"category=Japanese Restaurant<br>city=%{x}<br>value=%{y}<extra></extra>\", \"legendgroup\": \"Japanese Restaurant\", \"marker\": {\"color\": \"#ab63fa\"}, \"name\": \"Japanese Restaurant\", \"offsetgroup\": \"Japanese Restaurant\", \"orientation\": \"v\", \"showlegend\": true, \"textposition\": \"auto\", \"type\": \"bar\", \"x\": [\"Roma\", \"Paris\", \"Wien\", \"Barcelona\", \"Helsinki\", \"Budapest\", \"Amsterdam\"], \"xaxis\": \"x\", \"y\": [null, null, null, 5.0, null, null, null], \"yaxis\": \"y\"}, {\"alignmentgroup\": \"True\", \"hovertemplate\": \"category=Caf\\u00e9<br>city=%{x}<br>value=%{y}<extra></extra>\", \"legendgroup\": \"Caf\\u00e9\", \"marker\": {\"color\": \"#FFA15A\"}, \"name\": \"Caf\\u00e9\", \"offsetgroup\": \"Caf\\u00e9\", \"orientation\": \"v\", \"showlegend\": true, \"textposition\": \"auto\", \"type\": \"bar\", \"x\": [\"Roma\", \"Paris\", \"Wien\", \"Barcelona\", \"Helsinki\", \"Budapest\", \"Amsterdam\"], \"xaxis\": \"x\", \"y\": [null, null, 5.0, null, 4.0, null, null], \"yaxis\": \"y\"}, {\"alignmentgroup\": \"True\", \"hovertemplate\": \"category=Italian Restaurant<br>city=%{x}<br>value=%{y}<extra></extra>\", \"legendgroup\": \"Italian Restaurant\", \"marker\": {\"color\": \"#19d3f3\"}, \"name\": \"Italian Restaurant\", \"offsetgroup\": \"Italian Restaurant\", \"orientation\": \"v\", \"showlegend\": true, \"textposition\": \"auto\", \"type\": \"bar\", \"x\": [\"Roma\", \"Paris\", \"Wien\", \"Barcelona\", \"Helsinki\", \"Budapest\", \"Amsterdam\"], \"xaxis\": \"x\", \"y\": [5.0, null, 3.0, null, null, null, null], \"yaxis\": \"y\"}, {\"alignmentgroup\": \"True\", \"hovertemplate\": \"category=Spanish Restaurant<br>city=%{x}<br>value=%{y}<extra></extra>\", \"legendgroup\": \"Spanish Restaurant\", \"marker\": {\"color\": \"#FF6692\"}, \"name\": \"Spanish Restaurant\", \"offsetgroup\": \"Spanish Restaurant\", \"orientation\": \"v\", \"showlegend\": true, \"textposition\": \"auto\", \"type\": \"bar\", \"x\": [\"Roma\", \"Paris\", \"Wien\", \"Barcelona\", \"Helsinki\", \"Budapest\", \"Amsterdam\"], \"xaxis\": \"x\", \"y\": [null, null, null, 5.0, null, null, null], \"yaxis\": \"y\"}, {\"alignmentgroup\": \"True\", \"hovertemplate\": \"category=Thai Restaurant<br>city=%{x}<br>value=%{y}<extra></extra>\", \"legendgroup\": \"Thai Restaurant\", \"marker\": {\"color\": \"#B6E880\"}, \"name\": \"Thai Restaurant\", \"offsetgroup\": \"Thai Restaurant\", \"orientation\": \"v\", \"showlegend\": true, \"textposition\": \"auto\", \"type\": \"bar\", \"x\": [\"Roma\", \"Paris\", \"Wien\", \"Barcelona\", \"Helsinki\", \"Budapest\", \"Amsterdam\"], \"xaxis\": \"x\", \"y\": [null, null, null, null, 4.0, null, null], \"yaxis\": \"y\"}, {\"alignmentgroup\": \"True\", \"hovertemplate\": \"category=Boutique<br>city=%{x}<br>value=%{y}<extra></extra>\", \"legendgroup\": \"Boutique\", \"marker\": {\"color\": \"#FF97FF\"}, \"name\": \"Boutique\", \"offsetgroup\": \"Boutique\", \"orientation\": \"v\", \"showlegend\": true, \"textposition\": \"auto\", \"type\": \"bar\", \"x\": [\"Roma\", \"Paris\", \"Wien\", \"Barcelona\", \"Helsinki\", \"Budapest\", \"Amsterdam\"], \"xaxis\": \"x\", \"y\": [null, null, 4.0, null, null, null, null], \"yaxis\": \"y\"}, {\"alignmentgroup\": \"True\", \"hovertemplate\": \"category=Pub<br>city=%{x}<br>value=%{y}<extra></extra>\", \"legendgroup\": \"Pub\", \"marker\": {\"color\": \"#FECB52\"}, \"name\": \"Pub\", \"offsetgroup\": \"Pub\", \"orientation\": \"v\", \"showlegend\": true, \"textposition\": \"auto\", \"type\": \"bar\", \"x\": [\"Roma\", \"Paris\", \"Wien\", \"Barcelona\", \"Helsinki\", \"Budapest\", \"Amsterdam\"], \"xaxis\": \"x\", \"y\": [null, null, null, null, null, 4.0, null], \"yaxis\": \"y\"}, {\"alignmentgroup\": \"True\", \"hovertemplate\": \"category=Mediterranean Restaurant<br>city=%{x}<br>value=%{y}<extra></extra>\", \"legendgroup\": \"Mediterranean Restaurant\", \"marker\": {\"color\": \"#636efa\"}, \"name\": \"Mediterranean Restaurant\", \"offsetgroup\": \"Mediterranean Restaurant\", \"orientation\": \"v\", \"showlegend\": true, \"textposition\": \"auto\", \"type\": \"bar\", \"x\": [\"Roma\", \"Paris\", \"Wien\", \"Barcelona\", \"Helsinki\", \"Budapest\", \"Amsterdam\"], \"xaxis\": \"x\", \"y\": [null, null, null, 4.0, null, null, null], \"yaxis\": \"y\"}, {\"alignmentgroup\": \"True\", \"hovertemplate\": \"category=Cocktail Bar<br>city=%{x}<br>value=%{y}<extra></extra>\", \"legendgroup\": \"Cocktail Bar\", \"marker\": {\"color\": \"#EF553B\"}, \"name\": \"Cocktail Bar\", \"offsetgroup\": \"Cocktail Bar\", \"orientation\": \"v\", \"showlegend\": true, \"textposition\": \"auto\", \"type\": \"bar\", \"x\": [\"Roma\", \"Paris\", \"Wien\", \"Barcelona\", \"Helsinki\", \"Budapest\", \"Amsterdam\"], \"xaxis\": \"x\", \"y\": [null, null, null, 4.0, null, null, null], \"yaxis\": \"y\"}, {\"alignmentgroup\": \"True\", \"hovertemplate\": \"category=Ice Cream Shop<br>city=%{x}<br>value=%{y}<extra></extra>\", \"legendgroup\": \"Ice Cream Shop\", \"marker\": {\"color\": \"#00cc96\"}, \"name\": \"Ice Cream Shop\", \"offsetgroup\": \"Ice Cream Shop\", \"orientation\": \"v\", \"showlegend\": true, \"textposition\": \"auto\", \"type\": \"bar\", \"x\": [\"Roma\", \"Paris\", \"Wien\", \"Barcelona\", \"Helsinki\", \"Budapest\", \"Amsterdam\"], \"xaxis\": \"x\", \"y\": [4.0, null, null, null, null, null, null], \"yaxis\": \"y\"}, {\"alignmentgroup\": \"True\", \"hovertemplate\": \"category=Park<br>city=%{x}<br>value=%{y}<extra></extra>\", \"legendgroup\": \"Park\", \"marker\": {\"color\": \"#ab63fa\"}, \"name\": \"Park\", \"offsetgroup\": \"Park\", \"orientation\": \"v\", \"showlegend\": true, \"textposition\": \"auto\", \"type\": \"bar\", \"x\": [\"Roma\", \"Paris\", \"Wien\", \"Barcelona\", \"Helsinki\", \"Budapest\", \"Amsterdam\"], \"xaxis\": \"x\", \"y\": [null, 3.0, null, null, 3.0, null, null], \"yaxis\": \"y\"}, {\"alignmentgroup\": \"True\", \"hovertemplate\": \"category=Tapas Restaurant<br>city=%{x}<br>value=%{y}<extra></extra>\", \"legendgroup\": \"Tapas Restaurant\", \"marker\": {\"color\": \"#FFA15A\"}, \"name\": \"Tapas Restaurant\", \"offsetgroup\": \"Tapas Restaurant\", \"orientation\": \"v\", \"showlegend\": true, \"textposition\": \"auto\", \"type\": \"bar\", \"x\": [\"Roma\", \"Paris\", \"Wien\", \"Barcelona\", \"Helsinki\", \"Budapest\", \"Amsterdam\"], \"xaxis\": \"x\", \"y\": [null, null, null, 3.0, null, null, null], \"yaxis\": \"y\"}, {\"alignmentgroup\": \"True\", \"hovertemplate\": \"category=Coffee Shop<br>city=%{x}<br>value=%{y}<extra></extra>\", \"legendgroup\": \"Coffee Shop\", \"marker\": {\"color\": \"#19d3f3\"}, \"name\": \"Coffee Shop\", \"offsetgroup\": \"Coffee Shop\", \"orientation\": \"v\", \"showlegend\": true, \"textposition\": \"auto\", \"type\": \"bar\", \"x\": [\"Roma\", \"Paris\", \"Wien\", \"Barcelona\", \"Helsinki\", \"Budapest\", \"Amsterdam\"], \"xaxis\": \"x\", \"y\": [null, null, null, null, null, null, 3.0], \"yaxis\": \"y\"}],\n",
       "                        {\"barmode\": \"relative\", \"legend\": {\"title\": {\"text\": \"category\"}, \"tracegroupgap\": 0}, \"margin\": {\"t\": 60}, \"template\": {\"data\": {\"bar\": [{\"error_x\": {\"color\": \"#2a3f5f\"}, \"error_y\": {\"color\": \"#2a3f5f\"}, \"marker\": {\"line\": {\"color\": \"#E5ECF6\", \"width\": 0.5}}, \"type\": \"bar\"}], \"barpolar\": [{\"marker\": {\"line\": {\"color\": \"#E5ECF6\", \"width\": 0.5}}, \"type\": \"barpolar\"}], \"carpet\": [{\"aaxis\": {\"endlinecolor\": \"#2a3f5f\", \"gridcolor\": \"white\", \"linecolor\": \"white\", \"minorgridcolor\": \"white\", \"startlinecolor\": \"#2a3f5f\"}, \"baxis\": {\"endlinecolor\": \"#2a3f5f\", \"gridcolor\": \"white\", \"linecolor\": \"white\", \"minorgridcolor\": \"white\", \"startlinecolor\": \"#2a3f5f\"}, \"type\": \"carpet\"}], \"choropleth\": [{\"colorbar\": {\"outlinewidth\": 0, \"ticks\": \"\"}, \"type\": \"choropleth\"}], \"contour\": [{\"colorbar\": {\"outlinewidth\": 0, \"ticks\": \"\"}, \"colorscale\": [[0.0, \"#0d0887\"], [0.1111111111111111, \"#46039f\"], [0.2222222222222222, \"#7201a8\"], [0.3333333333333333, \"#9c179e\"], [0.4444444444444444, \"#bd3786\"], [0.5555555555555556, \"#d8576b\"], [0.6666666666666666, \"#ed7953\"], [0.7777777777777778, \"#fb9f3a\"], [0.8888888888888888, \"#fdca26\"], [1.0, \"#f0f921\"]], \"type\": \"contour\"}], \"contourcarpet\": [{\"colorbar\": {\"outlinewidth\": 0, \"ticks\": \"\"}, \"type\": \"contourcarpet\"}], \"heatmap\": [{\"colorbar\": {\"outlinewidth\": 0, \"ticks\": \"\"}, \"colorscale\": [[0.0, \"#0d0887\"], [0.1111111111111111, \"#46039f\"], [0.2222222222222222, \"#7201a8\"], [0.3333333333333333, \"#9c179e\"], [0.4444444444444444, \"#bd3786\"], [0.5555555555555556, \"#d8576b\"], [0.6666666666666666, \"#ed7953\"], [0.7777777777777778, \"#fb9f3a\"], [0.8888888888888888, \"#fdca26\"], [1.0, \"#f0f921\"]], \"type\": \"heatmap\"}], \"heatmapgl\": [{\"colorbar\": {\"outlinewidth\": 0, \"ticks\": \"\"}, \"colorscale\": [[0.0, \"#0d0887\"], [0.1111111111111111, \"#46039f\"], [0.2222222222222222, \"#7201a8\"], [0.3333333333333333, \"#9c179e\"], [0.4444444444444444, \"#bd3786\"], [0.5555555555555556, \"#d8576b\"], [0.6666666666666666, \"#ed7953\"], [0.7777777777777778, \"#fb9f3a\"], [0.8888888888888888, \"#fdca26\"], [1.0, \"#f0f921\"]], \"type\": \"heatmapgl\"}], \"histogram\": [{\"marker\": {\"colorbar\": {\"outlinewidth\": 0, \"ticks\": \"\"}}, \"type\": \"histogram\"}], \"histogram2d\": [{\"colorbar\": {\"outlinewidth\": 0, \"ticks\": \"\"}, \"colorscale\": [[0.0, \"#0d0887\"], [0.1111111111111111, \"#46039f\"], [0.2222222222222222, \"#7201a8\"], [0.3333333333333333, \"#9c179e\"], [0.4444444444444444, \"#bd3786\"], [0.5555555555555556, \"#d8576b\"], [0.6666666666666666, \"#ed7953\"], [0.7777777777777778, \"#fb9f3a\"], [0.8888888888888888, \"#fdca26\"], [1.0, \"#f0f921\"]], \"type\": \"histogram2d\"}], \"histogram2dcontour\": [{\"colorbar\": {\"outlinewidth\": 0, \"ticks\": \"\"}, \"colorscale\": [[0.0, \"#0d0887\"], [0.1111111111111111, \"#46039f\"], [0.2222222222222222, \"#7201a8\"], [0.3333333333333333, \"#9c179e\"], [0.4444444444444444, \"#bd3786\"], [0.5555555555555556, \"#d8576b\"], [0.6666666666666666, \"#ed7953\"], [0.7777777777777778, \"#fb9f3a\"], [0.8888888888888888, \"#fdca26\"], [1.0, \"#f0f921\"]], \"type\": \"histogram2dcontour\"}], \"mesh3d\": [{\"colorbar\": {\"outlinewidth\": 0, \"ticks\": \"\"}, \"type\": \"mesh3d\"}], \"parcoords\": [{\"line\": {\"colorbar\": {\"outlinewidth\": 0, \"ticks\": \"\"}}, \"type\": \"parcoords\"}], \"pie\": [{\"automargin\": true, \"type\": \"pie\"}], \"scatter\": [{\"marker\": {\"colorbar\": {\"outlinewidth\": 0, \"ticks\": \"\"}}, \"type\": \"scatter\"}], \"scatter3d\": [{\"line\": {\"colorbar\": {\"outlinewidth\": 0, \"ticks\": \"\"}}, \"marker\": {\"colorbar\": {\"outlinewidth\": 0, \"ticks\": \"\"}}, \"type\": \"scatter3d\"}], \"scattercarpet\": [{\"marker\": {\"colorbar\": {\"outlinewidth\": 0, \"ticks\": \"\"}}, \"type\": \"scattercarpet\"}], \"scattergeo\": [{\"marker\": {\"colorbar\": {\"outlinewidth\": 0, \"ticks\": \"\"}}, \"type\": \"scattergeo\"}], \"scattergl\": [{\"marker\": {\"colorbar\": {\"outlinewidth\": 0, \"ticks\": \"\"}}, \"type\": \"scattergl\"}], \"scattermapbox\": [{\"marker\": {\"colorbar\": {\"outlinewidth\": 0, \"ticks\": \"\"}}, \"type\": \"scattermapbox\"}], \"scatterpolar\": [{\"marker\": {\"colorbar\": {\"outlinewidth\": 0, \"ticks\": \"\"}}, \"type\": \"scatterpolar\"}], \"scatterpolargl\": [{\"marker\": {\"colorbar\": {\"outlinewidth\": 0, \"ticks\": \"\"}}, \"type\": \"scatterpolargl\"}], \"scatterternary\": [{\"marker\": {\"colorbar\": {\"outlinewidth\": 0, \"ticks\": \"\"}}, \"type\": \"scatterternary\"}], \"surface\": [{\"colorbar\": {\"outlinewidth\": 0, \"ticks\": \"\"}, \"colorscale\": [[0.0, \"#0d0887\"], [0.1111111111111111, \"#46039f\"], [0.2222222222222222, \"#7201a8\"], [0.3333333333333333, \"#9c179e\"], [0.4444444444444444, \"#bd3786\"], [0.5555555555555556, \"#d8576b\"], [0.6666666666666666, \"#ed7953\"], [0.7777777777777778, \"#fb9f3a\"], [0.8888888888888888, \"#fdca26\"], [1.0, \"#f0f921\"]], \"type\": \"surface\"}], \"table\": [{\"cells\": {\"fill\": {\"color\": \"#EBF0F8\"}, \"line\": {\"color\": \"white\"}}, \"header\": {\"fill\": {\"color\": \"#C8D4E3\"}, \"line\": {\"color\": \"white\"}}, \"type\": \"table\"}]}, \"layout\": {\"annotationdefaults\": {\"arrowcolor\": \"#2a3f5f\", \"arrowhead\": 0, \"arrowwidth\": 1}, \"coloraxis\": {\"colorbar\": {\"outlinewidth\": 0, \"ticks\": \"\"}}, \"colorscale\": {\"diverging\": [[0, \"#8e0152\"], [0.1, \"#c51b7d\"], [0.2, \"#de77ae\"], [0.3, \"#f1b6da\"], [0.4, \"#fde0ef\"], [0.5, \"#f7f7f7\"], [0.6, \"#e6f5d0\"], [0.7, \"#b8e186\"], [0.8, \"#7fbc41\"], [0.9, \"#4d9221\"], [1, \"#276419\"]], \"sequential\": [[0.0, \"#0d0887\"], [0.1111111111111111, \"#46039f\"], [0.2222222222222222, \"#7201a8\"], [0.3333333333333333, \"#9c179e\"], [0.4444444444444444, \"#bd3786\"], [0.5555555555555556, \"#d8576b\"], [0.6666666666666666, \"#ed7953\"], [0.7777777777777778, \"#fb9f3a\"], [0.8888888888888888, \"#fdca26\"], [1.0, \"#f0f921\"]], \"sequentialminus\": [[0.0, \"#0d0887\"], [0.1111111111111111, \"#46039f\"], [0.2222222222222222, \"#7201a8\"], [0.3333333333333333, \"#9c179e\"], [0.4444444444444444, \"#bd3786\"], [0.5555555555555556, \"#d8576b\"], [0.6666666666666666, \"#ed7953\"], [0.7777777777777778, \"#fb9f3a\"], [0.8888888888888888, \"#fdca26\"], [1.0, \"#f0f921\"]]}, \"colorway\": [\"#636efa\", \"#EF553B\", \"#00cc96\", \"#ab63fa\", \"#FFA15A\", \"#19d3f3\", \"#FF6692\", \"#B6E880\", \"#FF97FF\", \"#FECB52\"], \"font\": {\"color\": \"#2a3f5f\"}, \"geo\": {\"bgcolor\": \"white\", \"lakecolor\": \"white\", \"landcolor\": \"#E5ECF6\", \"showlakes\": true, \"showland\": true, \"subunitcolor\": \"white\"}, \"hoverlabel\": {\"align\": \"left\"}, \"hovermode\": \"closest\", \"mapbox\": {\"style\": \"light\"}, \"paper_bgcolor\": \"white\", \"plot_bgcolor\": \"#E5ECF6\", \"polar\": {\"angularaxis\": {\"gridcolor\": \"white\", \"linecolor\": \"white\", \"ticks\": \"\"}, \"bgcolor\": \"#E5ECF6\", \"radialaxis\": {\"gridcolor\": \"white\", \"linecolor\": \"white\", \"ticks\": \"\"}}, \"scene\": {\"xaxis\": {\"backgroundcolor\": \"#E5ECF6\", \"gridcolor\": \"white\", \"gridwidth\": 2, \"linecolor\": \"white\", \"showbackground\": true, \"ticks\": \"\", \"zerolinecolor\": \"white\"}, \"yaxis\": {\"backgroundcolor\": \"#E5ECF6\", \"gridcolor\": \"white\", \"gridwidth\": 2, \"linecolor\": \"white\", \"showbackground\": true, \"ticks\": \"\", \"zerolinecolor\": \"white\"}, \"zaxis\": {\"backgroundcolor\": \"#E5ECF6\", \"gridcolor\": \"white\", \"gridwidth\": 2, \"linecolor\": \"white\", \"showbackground\": true, \"ticks\": \"\", \"zerolinecolor\": \"white\"}}, \"shapedefaults\": {\"line\": {\"color\": \"#2a3f5f\"}}, \"ternary\": {\"aaxis\": {\"gridcolor\": \"white\", \"linecolor\": \"white\", \"ticks\": \"\"}, \"baxis\": {\"gridcolor\": \"white\", \"linecolor\": \"white\", \"ticks\": \"\"}, \"bgcolor\": \"#E5ECF6\", \"caxis\": {\"gridcolor\": \"white\", \"linecolor\": \"white\", \"ticks\": \"\"}}, \"title\": {\"x\": 0.05}, \"xaxis\": {\"automargin\": true, \"gridcolor\": \"white\", \"linecolor\": \"white\", \"ticks\": \"\", \"title\": {\"standoff\": 15}, \"zerolinecolor\": \"white\", \"zerolinewidth\": 2}, \"yaxis\": {\"automargin\": true, \"gridcolor\": \"white\", \"linecolor\": \"white\", \"ticks\": \"\", \"title\": {\"standoff\": 15}, \"zerolinecolor\": \"white\", \"zerolinewidth\": 2}}}, \"xaxis\": {\"anchor\": \"y\", \"domain\": [0.0, 1.0], \"title\": {\"text\": \"city\"}}, \"yaxis\": {\"anchor\": \"x\", \"domain\": [0.0, 1.0], \"title\": {\"text\": \"value\"}}},\n",
       "                        {\"responsive\": true}\n",
       "                    ).then(function(){\n",
       "                            \n",
       "var gd = document.getElementById('e64855bc-638b-4455-b486-31e1ed56dcf7');\n",
       "var x = new MutationObserver(function (mutations, observer) {{\n",
       "        var display = window.getComputedStyle(gd).display;\n",
       "        if (!display || display === 'none') {{\n",
       "            console.log([gd, 'removed!']);\n",
       "            Plotly.purge(gd);\n",
       "            observer.disconnect();\n",
       "        }}\n",
       "}});\n",
       "\n",
       "// Listen for the removal of the full notebook cells\n",
       "var notebookContainer = gd.closest('#notebook-container');\n",
       "if (notebookContainer) {{\n",
       "    x.observe(notebookContainer, {childList: true});\n",
       "}}\n",
       "\n",
       "// Listen for the clearing of the current output cell\n",
       "var outputEl = gd.closest('.output');\n",
       "if (outputEl) {{\n",
       "    x.observe(outputEl, {childList: true});\n",
       "}}\n",
       "\n",
       "                        })\n",
       "                };\n",
       "                });\n",
       "            </script>\n",
       "        </div>"
      ]
     },
     "metadata": {},
     "output_type": "display_data"
    }
   ],
   "source": [
    "plt2 = fs_df.groupby(['category', 'city']).name.count().sort_values(\n",
    "    ascending=False).head(20).unstack().T\n",
    "plt2.plot(kind='bar')"
   ]
  },
  {
   "cell_type": "markdown",
   "metadata": {},
   "source": [
    "## Most liked places by categories in different cities"
   ]
  },
  {
   "cell_type": "code",
   "execution_count": 19,
   "metadata": {
    "ExecuteTime": {
     "end_time": "2020-07-08T06:03:02.033496Z",
     "start_time": "2020-07-08T06:03:01.999587Z"
    }
   },
   "outputs": [
    {
     "data": {
      "text/plain": [
       "city       category            name                                                             \n",
       "Paris      Church              Cathedral of Notre-Dame de Paris (Cathédrale Notre-Dame de Paris)    8626.0\n",
       "           Plaza               Place Saint-Michel                                                    753.0\n",
       "           Bookstore           Shakespeare & Company                                                1420.0\n",
       "London     Art Museum          National Gallery                                                     4691.0\n",
       "           Plaza               Trafalgar Square                                                     4530.0\n",
       "           Art Gallery         National Portrait Gallery                                            1522.0\n",
       "           Wine Bar            Gordon's Wine Bar                                                    1271.0\n",
       "           Mexican Restaurant  Wahaca                                                                811.0\n",
       "           Sushi Restaurant    Sticks'n'Sushi                                                        772.0\n",
       "Amsterdam  Train Station       Amsterdam Central Railway Station (Station Amsterdam Centraal)       3849.0\n",
       "Wien       Plaza               Rathausplatz                                                         1220.0\n",
       "           Café                Café Central                                                         2492.0\n",
       "                               Café Landtmann                                                       1213.0\n",
       "           Palace              Hofburg                                                              1597.0\n",
       "Budapest   Castle              Buda Castle (Budavári Palota)                                        2488.0\n",
       "           Historic Site       Fisherman's Bastion (Halászbástya)                                   1739.0\n",
       "Praha      Waterfront          Vltava Riverside (Pražská náplavka)                                  1516.0\n",
       "           Farmers Market      Náplavka Farmers Market (Farmářské trhy Náplavka)                     848.0\n",
       "Roma       Church              Basilica di Santa Maria Maggiore                                     1345.0\n",
       "Zürich     Train Station       Zurich Main Station (Zürich Hauptbahnhof)                            1267.0\n",
       "dtype: float64"
      ]
     },
     "execution_count": 19,
     "metadata": {},
     "output_type": "execute_result"
    }
   ],
   "source": [
    "plt3 = fs_df.groupby(['city', 'category',\n",
    "                      'name']).likes.max().sort_values(ascending=False).head(\n",
    "                          20).unstack().stack() #most liked in all\n",
    "plt3"
   ]
  },
  {
   "cell_type": "markdown",
   "metadata": {},
   "source": [
    "## most liked places in each city"
   ]
  },
  {
   "cell_type": "code",
   "execution_count": 20,
   "metadata": {
    "ExecuteTime": {
     "end_time": "2020-07-08T06:03:02.083363Z",
     "start_time": "2020-07-08T06:03:02.039479Z"
    }
   },
   "outputs": [
    {
     "data": {
      "text/html": [
       "<div>\n",
       "<style scoped>\n",
       "    .dataframe tbody tr th:only-of-type {\n",
       "        vertical-align: middle;\n",
       "    }\n",
       "\n",
       "    .dataframe tbody tr th {\n",
       "        vertical-align: top;\n",
       "    }\n",
       "\n",
       "    .dataframe thead th {\n",
       "        text-align: right;\n",
       "    }\n",
       "</style>\n",
       "<table border=\"1\" class=\"dataframe\">\n",
       "  <thead>\n",
       "    <tr style=\"text-align: right;\">\n",
       "      <th></th>\n",
       "      <th>name</th>\n",
       "      <th>city</th>\n",
       "      <th>category</th>\n",
       "      <th>lat</th>\n",
       "      <th>lon</th>\n",
       "      <th>likes</th>\n",
       "    </tr>\n",
       "  </thead>\n",
       "  <tbody>\n",
       "    <tr>\n",
       "      <th>10</th>\n",
       "      <td>Linnanmäki</td>\n",
       "      <td>Helsinki</td>\n",
       "      <td>Theme Park</td>\n",
       "      <td>60.188179</td>\n",
       "      <td>24.940485</td>\n",
       "      <td>710</td>\n",
       "    </tr>\n",
       "    <tr>\n",
       "      <th>17</th>\n",
       "      <td>Döner Harju</td>\n",
       "      <td>Harju</td>\n",
       "      <td>Doner Restaurant</td>\n",
       "      <td>60.188743</td>\n",
       "      <td>24.953261</td>\n",
       "      <td>346</td>\n",
       "    </tr>\n",
       "    <tr>\n",
       "      <th>50</th>\n",
       "      <td>Cathedral of Notre-Dame de Paris (Cathédrale N...</td>\n",
       "      <td>Paris</td>\n",
       "      <td>Church</td>\n",
       "      <td>48.853124</td>\n",
       "      <td>2.349561</td>\n",
       "      <td>8626</td>\n",
       "    </tr>\n",
       "    <tr>\n",
       "      <th>116</th>\n",
       "      <td>Vltava Riverside (Pražská náplavka)</td>\n",
       "      <td>Praha</td>\n",
       "      <td>Waterfront</td>\n",
       "      <td>50.071242</td>\n",
       "      <td>14.413921</td>\n",
       "      <td>1516</td>\n",
       "    </tr>\n",
       "    <tr>\n",
       "      <th>150</th>\n",
       "      <td>National Gallery</td>\n",
       "      <td>London</td>\n",
       "      <td>Art Museum</td>\n",
       "      <td>51.508876</td>\n",
       "      <td>-0.128478</td>\n",
       "      <td>4691</td>\n",
       "    </tr>\n",
       "    <tr>\n",
       "      <th>194</th>\n",
       "      <td>J Sheekey</td>\n",
       "      <td>Charing Cross</td>\n",
       "      <td>Seafood Restaurant</td>\n",
       "      <td>51.510899</td>\n",
       "      <td>-0.127797</td>\n",
       "      <td>269</td>\n",
       "    </tr>\n",
       "    <tr>\n",
       "      <th>198</th>\n",
       "      <td>Franco Manca</td>\n",
       "      <td>Covent Garden</td>\n",
       "      <td>Pizza Place</td>\n",
       "      <td>51.510909</td>\n",
       "      <td>-0.122780</td>\n",
       "      <td>305</td>\n",
       "    </tr>\n",
       "    <tr>\n",
       "      <th>201</th>\n",
       "      <td>Paco Meralgo</td>\n",
       "      <td>Barcelona</td>\n",
       "      <td>Tapas Restaurant</td>\n",
       "      <td>41.391676</td>\n",
       "      <td>2.152794</td>\n",
       "      <td>536</td>\n",
       "    </tr>\n",
       "    <tr>\n",
       "      <th>296</th>\n",
       "      <td>Basilica di Santa Maria Maggiore</td>\n",
       "      <td>Roma</td>\n",
       "      <td>Church</td>\n",
       "      <td>41.897629</td>\n",
       "      <td>12.498429</td>\n",
       "      <td>1345</td>\n",
       "    </tr>\n",
       "    <tr>\n",
       "      <th>317</th>\n",
       "      <td>Amsterdam Central Railway Station (Station Ams...</td>\n",
       "      <td>Amsterdam</td>\n",
       "      <td>Train Station</td>\n",
       "      <td>52.378782</td>\n",
       "      <td>4.900374</td>\n",
       "      <td>3849</td>\n",
       "    </tr>\n",
       "    <tr>\n",
       "      <th>353</th>\n",
       "      <td>Café Central</td>\n",
       "      <td>Wien</td>\n",
       "      <td>Café</td>\n",
       "      <td>48.210348</td>\n",
       "      <td>16.365391</td>\n",
       "      <td>2492</td>\n",
       "    </tr>\n",
       "    <tr>\n",
       "      <th>399</th>\n",
       "      <td>Buda Castle (Budavári Palota)</td>\n",
       "      <td>Budapest</td>\n",
       "      <td>Castle</td>\n",
       "      <td>47.496198</td>\n",
       "      <td>19.039543</td>\n",
       "      <td>2488</td>\n",
       "    </tr>\n",
       "    <tr>\n",
       "      <th>432</th>\n",
       "      <td>Duna-part</td>\n",
       "      <td>Budapest XIII. kerülete</td>\n",
       "      <td>Waterfront</td>\n",
       "      <td>47.501707</td>\n",
       "      <td>19.045317</td>\n",
       "      <td>133</td>\n",
       "    </tr>\n",
       "    <tr>\n",
       "      <th>474</th>\n",
       "      <td>Zurich Main Station (Zürich Hauptbahnhof)</td>\n",
       "      <td>Zürich</td>\n",
       "      <td>Train Station</td>\n",
       "      <td>47.378705</td>\n",
       "      <td>8.538724</td>\n",
       "      <td>1267</td>\n",
       "    </tr>\n",
       "  </tbody>\n",
       "</table>\n",
       "</div>"
      ],
      "text/plain": [
       "                                                  name  \\\n",
       "10                                          Linnanmäki   \n",
       "17                                         Döner Harju   \n",
       "50   Cathedral of Notre-Dame de Paris (Cathédrale N...   \n",
       "116                Vltava Riverside (Pražská náplavka)   \n",
       "150                                   National Gallery   \n",
       "194                                          J Sheekey   \n",
       "198                                       Franco Manca   \n",
       "201                                       Paco Meralgo   \n",
       "296                   Basilica di Santa Maria Maggiore   \n",
       "317  Amsterdam Central Railway Station (Station Ams...   \n",
       "353                                       Café Central   \n",
       "399                      Buda Castle (Budavári Palota)   \n",
       "432                                          Duna-part   \n",
       "474          Zurich Main Station (Zürich Hauptbahnhof)   \n",
       "\n",
       "                        city            category        lat        lon  likes  \n",
       "10                  Helsinki          Theme Park  60.188179  24.940485    710  \n",
       "17                     Harju    Doner Restaurant  60.188743  24.953261    346  \n",
       "50                     Paris              Church  48.853124   2.349561   8626  \n",
       "116                    Praha          Waterfront  50.071242  14.413921   1516  \n",
       "150                   London          Art Museum  51.508876  -0.128478   4691  \n",
       "194            Charing Cross  Seafood Restaurant  51.510899  -0.127797    269  \n",
       "198            Covent Garden         Pizza Place  51.510909  -0.122780    305  \n",
       "201                Barcelona    Tapas Restaurant  41.391676   2.152794    536  \n",
       "296                     Roma              Church  41.897629  12.498429   1345  \n",
       "317                Amsterdam       Train Station  52.378782   4.900374   3849  \n",
       "353                     Wien                Café  48.210348  16.365391   2492  \n",
       "399                 Budapest              Castle  47.496198  19.039543   2488  \n",
       "432  Budapest XIII. kerülete          Waterfront  47.501707  19.045317    133  \n",
       "474                   Zürich       Train Station  47.378705   8.538724   1267  "
      ]
     },
     "execution_count": 20,
     "metadata": {},
     "output_type": "execute_result"
    }
   ],
   "source": [
    "#max likes in each city\n",
    "idx = fs_df.groupby(['city'])['likes'].transform(max) == fs_df['likes']\n",
    "map1_df = fs_df[idx]\n",
    "map1_df[['name','city','category','lat','lon','likes']]"
   ]
  },
  {
   "cell_type": "code",
   "execution_count": 21,
   "metadata": {
    "ExecuteTime": {
     "end_time": "2020-07-08T06:03:02.490761Z",
     "start_time": "2020-07-08T06:03:02.087351Z"
    }
   },
   "outputs": [
    {
     "data": {
      "text/plain": [
       "<folium.features.CircleMarker at 0x1fb9d690fc8>"
      ]
     },
     "execution_count": 21,
     "metadata": {},
     "output_type": "execute_result"
    },
    {
     "data": {
      "text/plain": [
       "<folium.features.CircleMarker at 0x1fb9d697488>"
      ]
     },
     "execution_count": 21,
     "metadata": {},
     "output_type": "execute_result"
    },
    {
     "data": {
      "text/plain": [
       "<folium.features.CircleMarker at 0x1fb9d684cc8>"
      ]
     },
     "execution_count": 21,
     "metadata": {},
     "output_type": "execute_result"
    },
    {
     "data": {
      "text/plain": [
       "<folium.features.CircleMarker at 0x1fb99641548>"
      ]
     },
     "execution_count": 21,
     "metadata": {},
     "output_type": "execute_result"
    },
    {
     "data": {
      "text/plain": [
       "<folium.features.CircleMarker at 0x1fb9d6ab688>"
      ]
     },
     "execution_count": 21,
     "metadata": {},
     "output_type": "execute_result"
    },
    {
     "data": {
      "text/plain": [
       "<folium.features.CircleMarker at 0x1fb99641bc8>"
      ]
     },
     "execution_count": 21,
     "metadata": {},
     "output_type": "execute_result"
    },
    {
     "data": {
      "text/plain": [
       "<folium.features.CircleMarker at 0x1fb9d6b80c8>"
      ]
     },
     "execution_count": 21,
     "metadata": {},
     "output_type": "execute_result"
    },
    {
     "data": {
      "text/plain": [
       "<folium.features.CircleMarker at 0x1fb9d6cf088>"
      ]
     },
     "execution_count": 21,
     "metadata": {},
     "output_type": "execute_result"
    },
    {
     "data": {
      "text/plain": [
       "<folium.features.CircleMarker at 0x1fb9d6b84c8>"
      ]
     },
     "execution_count": 21,
     "metadata": {},
     "output_type": "execute_result"
    },
    {
     "data": {
      "text/plain": [
       "<folium.features.CircleMarker at 0x1fb9d6c5048>"
      ]
     },
     "execution_count": 21,
     "metadata": {},
     "output_type": "execute_result"
    },
    {
     "data": {
      "text/plain": [
       "<folium.features.CircleMarker at 0x1fb9d6b99c8>"
      ]
     },
     "execution_count": 21,
     "metadata": {},
     "output_type": "execute_result"
    },
    {
     "data": {
      "text/plain": [
       "<folium.features.CircleMarker at 0x1fb9d6b8e08>"
      ]
     },
     "execution_count": 21,
     "metadata": {},
     "output_type": "execute_result"
    },
    {
     "data": {
      "text/plain": [
       "<folium.features.CircleMarker at 0x1fb9d6cf348>"
      ]
     },
     "execution_count": 21,
     "metadata": {},
     "output_type": "execute_result"
    },
    {
     "data": {
      "text/plain": [
       "<folium.features.CircleMarker at 0x1fb9d6b7988>"
      ]
     },
     "execution_count": 21,
     "metadata": {},
     "output_type": "execute_result"
    },
    {
     "data": {
      "text/html": [
       "<div style=\"width:100%;\"><div style=\"position:relative;width:100%;height:0;padding-bottom:60%;\"><span style=\"color:#565656\">Make this Notebook Trusted to load map: File -> Trust Notebook</span><iframe src=\"about:blank\" style=\"position:absolute;width:100%;height:100%;left:0;top:0;border:none !important;\" data-html=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 onload=\"this.contentDocument.open();this.contentDocument.write(atob(this.getAttribute('data-html')));this.contentDocument.close();\" allowfullscreen webkitallowfullscreen mozallowfullscreen></iframe></div></div>"
      ],
      "text/plain": [
       "<folium.folium.Map at 0x1fb9d6b7748>"
      ]
     },
     "execution_count": 21,
     "metadata": {},
     "output_type": "execute_result"
    }
   ],
   "source": [
    "eu_map1 = folium.Map(\n",
    "    location=[60.192059, 24.945831],\n",
    "    zoom_start=3,\n",
    "    max_zoom=6,\n",
    "    min_zoom=2,\n",
    "    prefer_canvas=True)  \n",
    "\n",
    "# add the Italian restaurants as blue circle markers\n",
    "for lat, lon, label, likes in zip(map1_df.lat, map1_df.lon, map1_df.name,\n",
    "                                   map1_df.likes):\n",
    "    folium.features.CircleMarker([lat, lon],\n",
    "                                 radius=5,\n",
    "                                 color='blue',\n",
    "                                 fill=True,\n",
    "                                 fill_color='blue',\n",
    "                                 fill_opacity=0.6,\n",
    "                                 popup=label + '<br>' + 'likes' +\n",
    "                                 str(likes)).add_to(eu_map1)\n",
    "\n",
    "# display map\n",
    "eu_map1"
   ]
  },
  {
   "cell_type": "markdown",
   "metadata": {},
   "source": [
    "## Value counts of the ratings"
   ]
  },
  {
   "cell_type": "code",
   "execution_count": 22,
   "metadata": {
    "ExecuteTime": {
     "end_time": "2020-07-08T06:03:02.591492Z",
     "start_time": "2020-07-08T06:03:02.493754Z"
    }
   },
   "outputs": [
    {
     "data": {
      "application/vnd.plotly.v1+json": {
       "config": {
        "plotlyServerURL": "https://plot.ly"
       },
       "data": [
        {
         "alignmentgroup": "True",
         "hovertemplate": "variable=rating<br>index=%{x}<br>value=%{y}<extra></extra>",
         "legendgroup": "rating",
         "marker": {
          "color": "#636efa"
         },
         "name": "rating",
         "offsetgroup": "rating",
         "orientation": "v",
         "showlegend": true,
         "textposition": "auto",
         "type": "bar",
         "x": [
          8.3,
          8.6,
          8.2,
          8.5,
          8.8,
          7.9,
          8.4,
          8.7,
          8,
          8.1,
          8.9,
          7.8,
          9,
          9.3,
          9.2,
          9.1,
          7.4,
          7.6,
          7.7,
          7.5,
          9.4,
          7.3,
          7.1,
          9.5
         ],
         "xaxis": "x",
         "y": [
          45,
          40,
          39,
          35,
          33,
          33,
          32,
          32,
          31,
          27,
          24,
          16,
          14,
          13,
          12,
          11,
          9,
          8,
          8,
          6,
          5,
          2,
          2,
          1
         ],
         "yaxis": "y"
        }
       ],
       "layout": {
        "barmode": "relative",
        "legend": {
         "title": {
          "text": "variable"
         },
         "tracegroupgap": 0
        },
        "margin": {
         "t": 60
        },
        "template": {
         "data": {
          "bar": [
           {
            "error_x": {
             "color": "#2a3f5f"
            },
            "error_y": {
             "color": "#2a3f5f"
            },
            "marker": {
             "line": {
              "color": "#E5ECF6",
              "width": 0.5
             }
            },
            "type": "bar"
           }
          ],
          "barpolar": [
           {
            "marker": {
             "line": {
              "color": "#E5ECF6",
              "width": 0.5
             }
            },
            "type": "barpolar"
           }
          ],
          "carpet": [
           {
            "aaxis": {
             "endlinecolor": "#2a3f5f",
             "gridcolor": "white",
             "linecolor": "white",
             "minorgridcolor": "white",
             "startlinecolor": "#2a3f5f"
            },
            "baxis": {
             "endlinecolor": "#2a3f5f",
             "gridcolor": "white",
             "linecolor": "white",
             "minorgridcolor": "white",
             "startlinecolor": "#2a3f5f"
            },
            "type": "carpet"
           }
          ],
          "choropleth": [
           {
            "colorbar": {
             "outlinewidth": 0,
             "ticks": ""
            },
            "type": "choropleth"
           }
          ],
          "contour": [
           {
            "colorbar": {
             "outlinewidth": 0,
             "ticks": ""
            },
            "colorscale": [
             [
              0,
              "#0d0887"
             ],
             [
              0.1111111111111111,
              "#46039f"
             ],
             [
              0.2222222222222222,
              "#7201a8"
             ],
             [
              0.3333333333333333,
              "#9c179e"
             ],
             [
              0.4444444444444444,
              "#bd3786"
             ],
             [
              0.5555555555555556,
              "#d8576b"
             ],
             [
              0.6666666666666666,
              "#ed7953"
             ],
             [
              0.7777777777777778,
              "#fb9f3a"
             ],
             [
              0.8888888888888888,
              "#fdca26"
             ],
             [
              1,
              "#f0f921"
             ]
            ],
            "type": "contour"
           }
          ],
          "contourcarpet": [
           {
            "colorbar": {
             "outlinewidth": 0,
             "ticks": ""
            },
            "type": "contourcarpet"
           }
          ],
          "heatmap": [
           {
            "colorbar": {
             "outlinewidth": 0,
             "ticks": ""
            },
            "colorscale": [
             [
              0,
              "#0d0887"
             ],
             [
              0.1111111111111111,
              "#46039f"
             ],
             [
              0.2222222222222222,
              "#7201a8"
             ],
             [
              0.3333333333333333,
              "#9c179e"
             ],
             [
              0.4444444444444444,
              "#bd3786"
             ],
             [
              0.5555555555555556,
              "#d8576b"
             ],
             [
              0.6666666666666666,
              "#ed7953"
             ],
             [
              0.7777777777777778,
              "#fb9f3a"
             ],
             [
              0.8888888888888888,
              "#fdca26"
             ],
             [
              1,
              "#f0f921"
             ]
            ],
            "type": "heatmap"
           }
          ],
          "heatmapgl": [
           {
            "colorbar": {
             "outlinewidth": 0,
             "ticks": ""
            },
            "colorscale": [
             [
              0,
              "#0d0887"
             ],
             [
              0.1111111111111111,
              "#46039f"
             ],
             [
              0.2222222222222222,
              "#7201a8"
             ],
             [
              0.3333333333333333,
              "#9c179e"
             ],
             [
              0.4444444444444444,
              "#bd3786"
             ],
             [
              0.5555555555555556,
              "#d8576b"
             ],
             [
              0.6666666666666666,
              "#ed7953"
             ],
             [
              0.7777777777777778,
              "#fb9f3a"
             ],
             [
              0.8888888888888888,
              "#fdca26"
             ],
             [
              1,
              "#f0f921"
             ]
            ],
            "type": "heatmapgl"
           }
          ],
          "histogram": [
           {
            "marker": {
             "colorbar": {
              "outlinewidth": 0,
              "ticks": ""
             }
            },
            "type": "histogram"
           }
          ],
          "histogram2d": [
           {
            "colorbar": {
             "outlinewidth": 0,
             "ticks": ""
            },
            "colorscale": [
             [
              0,
              "#0d0887"
             ],
             [
              0.1111111111111111,
              "#46039f"
             ],
             [
              0.2222222222222222,
              "#7201a8"
             ],
             [
              0.3333333333333333,
              "#9c179e"
             ],
             [
              0.4444444444444444,
              "#bd3786"
             ],
             [
              0.5555555555555556,
              "#d8576b"
             ],
             [
              0.6666666666666666,
              "#ed7953"
             ],
             [
              0.7777777777777778,
              "#fb9f3a"
             ],
             [
              0.8888888888888888,
              "#fdca26"
             ],
             [
              1,
              "#f0f921"
             ]
            ],
            "type": "histogram2d"
           }
          ],
          "histogram2dcontour": [
           {
            "colorbar": {
             "outlinewidth": 0,
             "ticks": ""
            },
            "colorscale": [
             [
              0,
              "#0d0887"
             ],
             [
              0.1111111111111111,
              "#46039f"
             ],
             [
              0.2222222222222222,
              "#7201a8"
             ],
             [
              0.3333333333333333,
              "#9c179e"
             ],
             [
              0.4444444444444444,
              "#bd3786"
             ],
             [
              0.5555555555555556,
              "#d8576b"
             ],
             [
              0.6666666666666666,
              "#ed7953"
             ],
             [
              0.7777777777777778,
              "#fb9f3a"
             ],
             [
              0.8888888888888888,
              "#fdca26"
             ],
             [
              1,
              "#f0f921"
             ]
            ],
            "type": "histogram2dcontour"
           }
          ],
          "mesh3d": [
           {
            "colorbar": {
             "outlinewidth": 0,
             "ticks": ""
            },
            "type": "mesh3d"
           }
          ],
          "parcoords": [
           {
            "line": {
             "colorbar": {
              "outlinewidth": 0,
              "ticks": ""
             }
            },
            "type": "parcoords"
           }
          ],
          "pie": [
           {
            "automargin": true,
            "type": "pie"
           }
          ],
          "scatter": [
           {
            "marker": {
             "colorbar": {
              "outlinewidth": 0,
              "ticks": ""
             }
            },
            "type": "scatter"
           }
          ],
          "scatter3d": [
           {
            "line": {
             "colorbar": {
              "outlinewidth": 0,
              "ticks": ""
             }
            },
            "marker": {
             "colorbar": {
              "outlinewidth": 0,
              "ticks": ""
             }
            },
            "type": "scatter3d"
           }
          ],
          "scattercarpet": [
           {
            "marker": {
             "colorbar": {
              "outlinewidth": 0,
              "ticks": ""
             }
            },
            "type": "scattercarpet"
           }
          ],
          "scattergeo": [
           {
            "marker": {
             "colorbar": {
              "outlinewidth": 0,
              "ticks": ""
             }
            },
            "type": "scattergeo"
           }
          ],
          "scattergl": [
           {
            "marker": {
             "colorbar": {
              "outlinewidth": 0,
              "ticks": ""
             }
            },
            "type": "scattergl"
           }
          ],
          "scattermapbox": [
           {
            "marker": {
             "colorbar": {
              "outlinewidth": 0,
              "ticks": ""
             }
            },
            "type": "scattermapbox"
           }
          ],
          "scatterpolar": [
           {
            "marker": {
             "colorbar": {
              "outlinewidth": 0,
              "ticks": ""
             }
            },
            "type": "scatterpolar"
           }
          ],
          "scatterpolargl": [
           {
            "marker": {
             "colorbar": {
              "outlinewidth": 0,
              "ticks": ""
             }
            },
            "type": "scatterpolargl"
           }
          ],
          "scatterternary": [
           {
            "marker": {
             "colorbar": {
              "outlinewidth": 0,
              "ticks": ""
             }
            },
            "type": "scatterternary"
           }
          ],
          "surface": [
           {
            "colorbar": {
             "outlinewidth": 0,
             "ticks": ""
            },
            "colorscale": [
             [
              0,
              "#0d0887"
             ],
             [
              0.1111111111111111,
              "#46039f"
             ],
             [
              0.2222222222222222,
              "#7201a8"
             ],
             [
              0.3333333333333333,
              "#9c179e"
             ],
             [
              0.4444444444444444,
              "#bd3786"
             ],
             [
              0.5555555555555556,
              "#d8576b"
             ],
             [
              0.6666666666666666,
              "#ed7953"
             ],
             [
              0.7777777777777778,
              "#fb9f3a"
             ],
             [
              0.8888888888888888,
              "#fdca26"
             ],
             [
              1,
              "#f0f921"
             ]
            ],
            "type": "surface"
           }
          ],
          "table": [
           {
            "cells": {
             "fill": {
              "color": "#EBF0F8"
             },
             "line": {
              "color": "white"
             }
            },
            "header": {
             "fill": {
              "color": "#C8D4E3"
             },
             "line": {
              "color": "white"
             }
            },
            "type": "table"
           }
          ]
         },
         "layout": {
          "annotationdefaults": {
           "arrowcolor": "#2a3f5f",
           "arrowhead": 0,
           "arrowwidth": 1
          },
          "coloraxis": {
           "colorbar": {
            "outlinewidth": 0,
            "ticks": ""
           }
          },
          "colorscale": {
           "diverging": [
            [
             0,
             "#8e0152"
            ],
            [
             0.1,
             "#c51b7d"
            ],
            [
             0.2,
             "#de77ae"
            ],
            [
             0.3,
             "#f1b6da"
            ],
            [
             0.4,
             "#fde0ef"
            ],
            [
             0.5,
             "#f7f7f7"
            ],
            [
             0.6,
             "#e6f5d0"
            ],
            [
             0.7,
             "#b8e186"
            ],
            [
             0.8,
             "#7fbc41"
            ],
            [
             0.9,
             "#4d9221"
            ],
            [
             1,
             "#276419"
            ]
           ],
           "sequential": [
            [
             0,
             "#0d0887"
            ],
            [
             0.1111111111111111,
             "#46039f"
            ],
            [
             0.2222222222222222,
             "#7201a8"
            ],
            [
             0.3333333333333333,
             "#9c179e"
            ],
            [
             0.4444444444444444,
             "#bd3786"
            ],
            [
             0.5555555555555556,
             "#d8576b"
            ],
            [
             0.6666666666666666,
             "#ed7953"
            ],
            [
             0.7777777777777778,
             "#fb9f3a"
            ],
            [
             0.8888888888888888,
             "#fdca26"
            ],
            [
             1,
             "#f0f921"
            ]
           ],
           "sequentialminus": [
            [
             0,
             "#0d0887"
            ],
            [
             0.1111111111111111,
             "#46039f"
            ],
            [
             0.2222222222222222,
             "#7201a8"
            ],
            [
             0.3333333333333333,
             "#9c179e"
            ],
            [
             0.4444444444444444,
             "#bd3786"
            ],
            [
             0.5555555555555556,
             "#d8576b"
            ],
            [
             0.6666666666666666,
             "#ed7953"
            ],
            [
             0.7777777777777778,
             "#fb9f3a"
            ],
            [
             0.8888888888888888,
             "#fdca26"
            ],
            [
             1,
             "#f0f921"
            ]
           ]
          },
          "colorway": [
           "#636efa",
           "#EF553B",
           "#00cc96",
           "#ab63fa",
           "#FFA15A",
           "#19d3f3",
           "#FF6692",
           "#B6E880",
           "#FF97FF",
           "#FECB52"
          ],
          "font": {
           "color": "#2a3f5f"
          },
          "geo": {
           "bgcolor": "white",
           "lakecolor": "white",
           "landcolor": "#E5ECF6",
           "showlakes": true,
           "showland": true,
           "subunitcolor": "white"
          },
          "hoverlabel": {
           "align": "left"
          },
          "hovermode": "closest",
          "mapbox": {
           "style": "light"
          },
          "paper_bgcolor": "white",
          "plot_bgcolor": "#E5ECF6",
          "polar": {
           "angularaxis": {
            "gridcolor": "white",
            "linecolor": "white",
            "ticks": ""
           },
           "bgcolor": "#E5ECF6",
           "radialaxis": {
            "gridcolor": "white",
            "linecolor": "white",
            "ticks": ""
           }
          },
          "scene": {
           "xaxis": {
            "backgroundcolor": "#E5ECF6",
            "gridcolor": "white",
            "gridwidth": 2,
            "linecolor": "white",
            "showbackground": true,
            "ticks": "",
            "zerolinecolor": "white"
           },
           "yaxis": {
            "backgroundcolor": "#E5ECF6",
            "gridcolor": "white",
            "gridwidth": 2,
            "linecolor": "white",
            "showbackground": true,
            "ticks": "",
            "zerolinecolor": "white"
           },
           "zaxis": {
            "backgroundcolor": "#E5ECF6",
            "gridcolor": "white",
            "gridwidth": 2,
            "linecolor": "white",
            "showbackground": true,
            "ticks": "",
            "zerolinecolor": "white"
           }
          },
          "shapedefaults": {
           "line": {
            "color": "#2a3f5f"
           }
          },
          "ternary": {
           "aaxis": {
            "gridcolor": "white",
            "linecolor": "white",
            "ticks": ""
           },
           "baxis": {
            "gridcolor": "white",
            "linecolor": "white",
            "ticks": ""
           },
           "bgcolor": "#E5ECF6",
           "caxis": {
            "gridcolor": "white",
            "linecolor": "white",
            "ticks": ""
           }
          },
          "title": {
           "x": 0.05
          },
          "xaxis": {
           "automargin": true,
           "gridcolor": "white",
           "linecolor": "white",
           "ticks": "",
           "title": {
            "standoff": 15
           },
           "zerolinecolor": "white",
           "zerolinewidth": 2
          },
          "yaxis": {
           "automargin": true,
           "gridcolor": "white",
           "linecolor": "white",
           "ticks": "",
           "title": {
            "standoff": 15
           },
           "zerolinecolor": "white",
           "zerolinewidth": 2
          }
         }
        },
        "xaxis": {
         "anchor": "y",
         "domain": [
          0,
          1
         ],
         "title": {
          "text": "index"
         }
        },
        "yaxis": {
         "anchor": "x",
         "domain": [
          0,
          1
         ],
         "title": {
          "text": "value"
         }
        }
       }
      },
      "text/html": [
       "<div>\n",
       "        \n",
       "        \n",
       "            <div id=\"70d29916-fe9b-43c7-a51a-46e4b548567b\" class=\"plotly-graph-div\" style=\"height:525px; width:100%;\"></div>\n",
       "            <script type=\"text/javascript\">\n",
       "                require([\"plotly\"], function(Plotly) {\n",
       "                    window.PLOTLYENV=window.PLOTLYENV || {};\n",
       "                    \n",
       "                if (document.getElementById(\"70d29916-fe9b-43c7-a51a-46e4b548567b\")) {\n",
       "                    Plotly.newPlot(\n",
       "                        '70d29916-fe9b-43c7-a51a-46e4b548567b',\n",
       "                        [{\"alignmentgroup\": \"True\", \"hovertemplate\": \"variable=rating<br>index=%{x}<br>value=%{y}<extra></extra>\", \"legendgroup\": \"rating\", \"marker\": {\"color\": \"#636efa\"}, \"name\": \"rating\", \"offsetgroup\": \"rating\", \"orientation\": \"v\", \"showlegend\": true, \"textposition\": \"auto\", \"type\": \"bar\", \"x\": [8.3, 8.6, 8.2, 8.5, 8.8, 7.9, 8.4, 8.7, 8.0, 8.1, 8.9, 7.8, 9.0, 9.3, 9.2, 9.1, 7.4, 7.6, 7.7, 7.5, 9.4, 7.3, 7.1, 9.5], \"xaxis\": \"x\", \"y\": [45, 40, 39, 35, 33, 33, 32, 32, 31, 27, 24, 16, 14, 13, 12, 11, 9, 8, 8, 6, 5, 2, 2, 1], \"yaxis\": \"y\"}],\n",
       "                        {\"barmode\": \"relative\", \"legend\": {\"title\": {\"text\": \"variable\"}, \"tracegroupgap\": 0}, \"margin\": {\"t\": 60}, \"template\": {\"data\": {\"bar\": [{\"error_x\": {\"color\": \"#2a3f5f\"}, \"error_y\": {\"color\": \"#2a3f5f\"}, \"marker\": {\"line\": {\"color\": \"#E5ECF6\", \"width\": 0.5}}, \"type\": \"bar\"}], \"barpolar\": [{\"marker\": {\"line\": {\"color\": \"#E5ECF6\", \"width\": 0.5}}, \"type\": \"barpolar\"}], \"carpet\": [{\"aaxis\": {\"endlinecolor\": \"#2a3f5f\", \"gridcolor\": \"white\", \"linecolor\": \"white\", \"minorgridcolor\": \"white\", \"startlinecolor\": \"#2a3f5f\"}, \"baxis\": {\"endlinecolor\": \"#2a3f5f\", \"gridcolor\": \"white\", \"linecolor\": \"white\", \"minorgridcolor\": \"white\", \"startlinecolor\": \"#2a3f5f\"}, \"type\": \"carpet\"}], \"choropleth\": [{\"colorbar\": {\"outlinewidth\": 0, \"ticks\": \"\"}, \"type\": \"choropleth\"}], \"contour\": [{\"colorbar\": {\"outlinewidth\": 0, \"ticks\": \"\"}, \"colorscale\": [[0.0, \"#0d0887\"], [0.1111111111111111, \"#46039f\"], [0.2222222222222222, \"#7201a8\"], [0.3333333333333333, \"#9c179e\"], [0.4444444444444444, \"#bd3786\"], [0.5555555555555556, \"#d8576b\"], [0.6666666666666666, \"#ed7953\"], [0.7777777777777778, \"#fb9f3a\"], [0.8888888888888888, \"#fdca26\"], [1.0, \"#f0f921\"]], \"type\": \"contour\"}], \"contourcarpet\": [{\"colorbar\": {\"outlinewidth\": 0, \"ticks\": \"\"}, \"type\": \"contourcarpet\"}], \"heatmap\": [{\"colorbar\": {\"outlinewidth\": 0, \"ticks\": \"\"}, \"colorscale\": [[0.0, \"#0d0887\"], [0.1111111111111111, \"#46039f\"], [0.2222222222222222, \"#7201a8\"], [0.3333333333333333, \"#9c179e\"], [0.4444444444444444, \"#bd3786\"], [0.5555555555555556, \"#d8576b\"], [0.6666666666666666, \"#ed7953\"], [0.7777777777777778, \"#fb9f3a\"], [0.8888888888888888, \"#fdca26\"], [1.0, \"#f0f921\"]], \"type\": \"heatmap\"}], \"heatmapgl\": [{\"colorbar\": {\"outlinewidth\": 0, \"ticks\": \"\"}, \"colorscale\": [[0.0, \"#0d0887\"], [0.1111111111111111, \"#46039f\"], [0.2222222222222222, \"#7201a8\"], [0.3333333333333333, \"#9c179e\"], [0.4444444444444444, \"#bd3786\"], [0.5555555555555556, \"#d8576b\"], [0.6666666666666666, \"#ed7953\"], [0.7777777777777778, \"#fb9f3a\"], [0.8888888888888888, \"#fdca26\"], [1.0, \"#f0f921\"]], \"type\": \"heatmapgl\"}], \"histogram\": [{\"marker\": {\"colorbar\": {\"outlinewidth\": 0, \"ticks\": \"\"}}, \"type\": \"histogram\"}], \"histogram2d\": [{\"colorbar\": {\"outlinewidth\": 0, \"ticks\": \"\"}, \"colorscale\": [[0.0, \"#0d0887\"], [0.1111111111111111, \"#46039f\"], [0.2222222222222222, \"#7201a8\"], [0.3333333333333333, \"#9c179e\"], [0.4444444444444444, \"#bd3786\"], [0.5555555555555556, \"#d8576b\"], [0.6666666666666666, \"#ed7953\"], [0.7777777777777778, \"#fb9f3a\"], [0.8888888888888888, \"#fdca26\"], [1.0, \"#f0f921\"]], \"type\": \"histogram2d\"}], \"histogram2dcontour\": [{\"colorbar\": {\"outlinewidth\": 0, \"ticks\": \"\"}, \"colorscale\": [[0.0, \"#0d0887\"], [0.1111111111111111, \"#46039f\"], [0.2222222222222222, \"#7201a8\"], [0.3333333333333333, \"#9c179e\"], [0.4444444444444444, \"#bd3786\"], [0.5555555555555556, \"#d8576b\"], [0.6666666666666666, \"#ed7953\"], [0.7777777777777778, \"#fb9f3a\"], [0.8888888888888888, \"#fdca26\"], [1.0, \"#f0f921\"]], \"type\": \"histogram2dcontour\"}], \"mesh3d\": [{\"colorbar\": {\"outlinewidth\": 0, \"ticks\": \"\"}, \"type\": \"mesh3d\"}], \"parcoords\": [{\"line\": {\"colorbar\": {\"outlinewidth\": 0, \"ticks\": \"\"}}, \"type\": \"parcoords\"}], \"pie\": [{\"automargin\": true, \"type\": \"pie\"}], \"scatter\": [{\"marker\": {\"colorbar\": {\"outlinewidth\": 0, \"ticks\": \"\"}}, \"type\": \"scatter\"}], \"scatter3d\": [{\"line\": {\"colorbar\": {\"outlinewidth\": 0, \"ticks\": \"\"}}, \"marker\": {\"colorbar\": {\"outlinewidth\": 0, \"ticks\": \"\"}}, \"type\": \"scatter3d\"}], \"scattercarpet\": [{\"marker\": {\"colorbar\": {\"outlinewidth\": 0, \"ticks\": \"\"}}, \"type\": \"scattercarpet\"}], \"scattergeo\": [{\"marker\": {\"colorbar\": {\"outlinewidth\": 0, \"ticks\": \"\"}}, \"type\": \"scattergeo\"}], \"scattergl\": [{\"marker\": {\"colorbar\": {\"outlinewidth\": 0, \"ticks\": \"\"}}, \"type\": \"scattergl\"}], \"scattermapbox\": [{\"marker\": {\"colorbar\": {\"outlinewidth\": 0, \"ticks\": \"\"}}, \"type\": \"scattermapbox\"}], \"scatterpolar\": [{\"marker\": {\"colorbar\": {\"outlinewidth\": 0, \"ticks\": \"\"}}, \"type\": \"scatterpolar\"}], \"scatterpolargl\": [{\"marker\": {\"colorbar\": {\"outlinewidth\": 0, \"ticks\": \"\"}}, \"type\": \"scatterpolargl\"}], \"scatterternary\": [{\"marker\": {\"colorbar\": {\"outlinewidth\": 0, \"ticks\": \"\"}}, \"type\": \"scatterternary\"}], \"surface\": [{\"colorbar\": {\"outlinewidth\": 0, \"ticks\": \"\"}, \"colorscale\": [[0.0, \"#0d0887\"], [0.1111111111111111, \"#46039f\"], [0.2222222222222222, \"#7201a8\"], [0.3333333333333333, \"#9c179e\"], [0.4444444444444444, \"#bd3786\"], [0.5555555555555556, \"#d8576b\"], [0.6666666666666666, \"#ed7953\"], [0.7777777777777778, \"#fb9f3a\"], [0.8888888888888888, \"#fdca26\"], [1.0, \"#f0f921\"]], \"type\": \"surface\"}], \"table\": [{\"cells\": {\"fill\": {\"color\": \"#EBF0F8\"}, \"line\": {\"color\": \"white\"}}, \"header\": {\"fill\": {\"color\": \"#C8D4E3\"}, \"line\": {\"color\": \"white\"}}, \"type\": \"table\"}]}, \"layout\": {\"annotationdefaults\": {\"arrowcolor\": \"#2a3f5f\", \"arrowhead\": 0, \"arrowwidth\": 1}, \"coloraxis\": {\"colorbar\": {\"outlinewidth\": 0, \"ticks\": \"\"}}, \"colorscale\": {\"diverging\": [[0, \"#8e0152\"], [0.1, \"#c51b7d\"], [0.2, \"#de77ae\"], [0.3, \"#f1b6da\"], [0.4, \"#fde0ef\"], [0.5, \"#f7f7f7\"], [0.6, \"#e6f5d0\"], [0.7, \"#b8e186\"], [0.8, \"#7fbc41\"], [0.9, \"#4d9221\"], [1, \"#276419\"]], \"sequential\": [[0.0, \"#0d0887\"], [0.1111111111111111, \"#46039f\"], [0.2222222222222222, \"#7201a8\"], [0.3333333333333333, \"#9c179e\"], [0.4444444444444444, \"#bd3786\"], [0.5555555555555556, \"#d8576b\"], [0.6666666666666666, \"#ed7953\"], [0.7777777777777778, \"#fb9f3a\"], [0.8888888888888888, \"#fdca26\"], [1.0, \"#f0f921\"]], \"sequentialminus\": [[0.0, \"#0d0887\"], [0.1111111111111111, \"#46039f\"], [0.2222222222222222, \"#7201a8\"], [0.3333333333333333, \"#9c179e\"], [0.4444444444444444, \"#bd3786\"], [0.5555555555555556, \"#d8576b\"], [0.6666666666666666, \"#ed7953\"], [0.7777777777777778, \"#fb9f3a\"], [0.8888888888888888, \"#fdca26\"], [1.0, \"#f0f921\"]]}, \"colorway\": [\"#636efa\", \"#EF553B\", \"#00cc96\", \"#ab63fa\", \"#FFA15A\", \"#19d3f3\", \"#FF6692\", \"#B6E880\", \"#FF97FF\", \"#FECB52\"], \"font\": {\"color\": \"#2a3f5f\"}, \"geo\": {\"bgcolor\": \"white\", \"lakecolor\": \"white\", \"landcolor\": \"#E5ECF6\", \"showlakes\": true, \"showland\": true, \"subunitcolor\": \"white\"}, \"hoverlabel\": {\"align\": \"left\"}, \"hovermode\": \"closest\", \"mapbox\": {\"style\": \"light\"}, \"paper_bgcolor\": \"white\", \"plot_bgcolor\": \"#E5ECF6\", \"polar\": {\"angularaxis\": {\"gridcolor\": \"white\", \"linecolor\": \"white\", \"ticks\": \"\"}, \"bgcolor\": \"#E5ECF6\", \"radialaxis\": {\"gridcolor\": \"white\", \"linecolor\": \"white\", \"ticks\": \"\"}}, \"scene\": {\"xaxis\": {\"backgroundcolor\": \"#E5ECF6\", \"gridcolor\": \"white\", \"gridwidth\": 2, \"linecolor\": \"white\", \"showbackground\": true, \"ticks\": \"\", \"zerolinecolor\": \"white\"}, \"yaxis\": {\"backgroundcolor\": \"#E5ECF6\", \"gridcolor\": \"white\", \"gridwidth\": 2, \"linecolor\": \"white\", \"showbackground\": true, \"ticks\": \"\", \"zerolinecolor\": \"white\"}, \"zaxis\": {\"backgroundcolor\": \"#E5ECF6\", \"gridcolor\": \"white\", \"gridwidth\": 2, \"linecolor\": \"white\", \"showbackground\": true, \"ticks\": \"\", \"zerolinecolor\": \"white\"}}, \"shapedefaults\": {\"line\": {\"color\": \"#2a3f5f\"}}, \"ternary\": {\"aaxis\": {\"gridcolor\": \"white\", \"linecolor\": \"white\", \"ticks\": \"\"}, \"baxis\": {\"gridcolor\": \"white\", \"linecolor\": \"white\", \"ticks\": \"\"}, \"bgcolor\": \"#E5ECF6\", \"caxis\": {\"gridcolor\": \"white\", \"linecolor\": \"white\", \"ticks\": \"\"}}, \"title\": {\"x\": 0.05}, \"xaxis\": {\"automargin\": true, \"gridcolor\": \"white\", \"linecolor\": \"white\", \"ticks\": \"\", \"title\": {\"standoff\": 15}, \"zerolinecolor\": \"white\", \"zerolinewidth\": 2}, \"yaxis\": {\"automargin\": true, \"gridcolor\": \"white\", \"linecolor\": \"white\", \"ticks\": \"\", \"title\": {\"standoff\": 15}, \"zerolinecolor\": \"white\", \"zerolinewidth\": 2}}}, \"xaxis\": {\"anchor\": \"y\", \"domain\": [0.0, 1.0], \"title\": {\"text\": \"index\"}}, \"yaxis\": {\"anchor\": \"x\", \"domain\": [0.0, 1.0], \"title\": {\"text\": \"value\"}}},\n",
       "                        {\"responsive\": true}\n",
       "                    ).then(function(){\n",
       "                            \n",
       "var gd = document.getElementById('70d29916-fe9b-43c7-a51a-46e4b548567b');\n",
       "var x = new MutationObserver(function (mutations, observer) {{\n",
       "        var display = window.getComputedStyle(gd).display;\n",
       "        if (!display || display === 'none') {{\n",
       "            console.log([gd, 'removed!']);\n",
       "            Plotly.purge(gd);\n",
       "            observer.disconnect();\n",
       "        }}\n",
       "}});\n",
       "\n",
       "// Listen for the removal of the full notebook cells\n",
       "var notebookContainer = gd.closest('#notebook-container');\n",
       "if (notebookContainer) {{\n",
       "    x.observe(notebookContainer, {childList: true});\n",
       "}}\n",
       "\n",
       "// Listen for the clearing of the current output cell\n",
       "var outputEl = gd.closest('.output');\n",
       "if (outputEl) {{\n",
       "    x.observe(outputEl, {childList: true});\n",
       "}}\n",
       "\n",
       "                        })\n",
       "                };\n",
       "                });\n",
       "            </script>\n",
       "        </div>"
      ]
     },
     "metadata": {},
     "output_type": "display_data"
    }
   ],
   "source": [
    "fs_df['rating'].value_counts().sort_values(ascending=False).plot(kind='bar')"
   ]
  },
  {
   "cell_type": "markdown",
   "metadata": {},
   "source": [
    "## Highest rated places (rating counts taken into account) in each city"
   ]
  },
  {
   "cell_type": "code",
   "execution_count": 23,
   "metadata": {
    "ExecuteTime": {
     "end_time": "2020-07-08T06:03:02.626426Z",
     "start_time": "2020-07-08T06:03:02.597477Z"
    }
   },
   "outputs": [
    {
     "data": {
      "text/html": [
       "<div>\n",
       "<style scoped>\n",
       "    .dataframe tbody tr th:only-of-type {\n",
       "        vertical-align: middle;\n",
       "    }\n",
       "\n",
       "    .dataframe tbody tr th {\n",
       "        vertical-align: top;\n",
       "    }\n",
       "\n",
       "    .dataframe thead th {\n",
       "        text-align: right;\n",
       "    }\n",
       "</style>\n",
       "<table border=\"1\" class=\"dataframe\">\n",
       "  <thead>\n",
       "    <tr style=\"text-align: right;\">\n",
       "      <th></th>\n",
       "      <th>name</th>\n",
       "      <th>city</th>\n",
       "      <th>category</th>\n",
       "      <th>lat</th>\n",
       "      <th>lon</th>\n",
       "      <th>rating</th>\n",
       "    </tr>\n",
       "  </thead>\n",
       "  <tbody>\n",
       "    <tr>\n",
       "      <th>17</th>\n",
       "      <td>Döner Harju</td>\n",
       "      <td>Harju</td>\n",
       "      <td>Doner Restaurant</td>\n",
       "      <td>60.188743</td>\n",
       "      <td>24.953261</td>\n",
       "      <td>8.3</td>\n",
       "    </tr>\n",
       "    <tr>\n",
       "      <th>31</th>\n",
       "      <td>Riviera</td>\n",
       "      <td>Helsinki</td>\n",
       "      <td>Indie Movie Theater</td>\n",
       "      <td>60.187863</td>\n",
       "      <td>24.957700</td>\n",
       "      <td>9.5</td>\n",
       "    </tr>\n",
       "    <tr>\n",
       "      <th>50</th>\n",
       "      <td>Cathedral of Notre-Dame de Paris (Cathédrale N...</td>\n",
       "      <td>Paris</td>\n",
       "      <td>Church</td>\n",
       "      <td>48.853124</td>\n",
       "      <td>2.349561</td>\n",
       "      <td>9.4</td>\n",
       "    </tr>\n",
       "    <tr>\n",
       "      <th>73</th>\n",
       "      <td>La Maison d'Isabelle</td>\n",
       "      <td>Paris</td>\n",
       "      <td>Bakery</td>\n",
       "      <td>48.850007</td>\n",
       "      <td>2.348443</td>\n",
       "      <td>9.4</td>\n",
       "    </tr>\n",
       "    <tr>\n",
       "      <th>137</th>\n",
       "      <td>Invisible Exhibition (Neviditelná výstava)</td>\n",
       "      <td>Praha</td>\n",
       "      <td>Exhibit</td>\n",
       "      <td>50.078432</td>\n",
       "      <td>14.421187</td>\n",
       "      <td>9.3</td>\n",
       "    </tr>\n",
       "    <tr>\n",
       "      <th>144</th>\n",
       "      <td>Papelote</td>\n",
       "      <td>Praha</td>\n",
       "      <td>Paper / Office Supplies Store</td>\n",
       "      <td>50.078331</td>\n",
       "      <td>14.414984</td>\n",
       "      <td>9.3</td>\n",
       "    </tr>\n",
       "    <tr>\n",
       "      <th>150</th>\n",
       "      <td>National Gallery</td>\n",
       "      <td>London</td>\n",
       "      <td>Art Museum</td>\n",
       "      <td>51.508876</td>\n",
       "      <td>-0.128478</td>\n",
       "      <td>9.3</td>\n",
       "    </tr>\n",
       "    <tr>\n",
       "      <th>156</th>\n",
       "      <td>Corinthia Hotel</td>\n",
       "      <td>London</td>\n",
       "      <td>Hotel</td>\n",
       "      <td>51.506607</td>\n",
       "      <td>-0.124460</td>\n",
       "      <td>9.3</td>\n",
       "    </tr>\n",
       "    <tr>\n",
       "      <th>173</th>\n",
       "      <td>Amorino</td>\n",
       "      <td>Charing Cross</td>\n",
       "      <td>Ice Cream Shop</td>\n",
       "      <td>51.510427</td>\n",
       "      <td>-0.128401</td>\n",
       "      <td>8.9</td>\n",
       "    </tr>\n",
       "    <tr>\n",
       "      <th>198</th>\n",
       "      <td>Franco Manca</td>\n",
       "      <td>Covent Garden</td>\n",
       "      <td>Pizza Place</td>\n",
       "      <td>51.510909</td>\n",
       "      <td>-0.122780</td>\n",
       "      <td>8.7</td>\n",
       "    </tr>\n",
       "    <tr>\n",
       "      <th>231</th>\n",
       "      <td>Roast Club Café</td>\n",
       "      <td>Barcelona</td>\n",
       "      <td>Coffee Shop</td>\n",
       "      <td>41.387740</td>\n",
       "      <td>2.157204</td>\n",
       "      <td>9.3</td>\n",
       "    </tr>\n",
       "    <tr>\n",
       "      <th>296</th>\n",
       "      <td>Basilica di Santa Maria Maggiore</td>\n",
       "      <td>Roma</td>\n",
       "      <td>Church</td>\n",
       "      <td>41.897629</td>\n",
       "      <td>12.498429</td>\n",
       "      <td>9.4</td>\n",
       "    </tr>\n",
       "    <tr>\n",
       "      <th>303</th>\n",
       "      <td>Bierproeflokaal In de Wildeman</td>\n",
       "      <td>Amsterdam</td>\n",
       "      <td>Bar</td>\n",
       "      <td>52.376222</td>\n",
       "      <td>4.895134</td>\n",
       "      <td>9.2</td>\n",
       "    </tr>\n",
       "    <tr>\n",
       "      <th>358</th>\n",
       "      <td>Michaelerplatz</td>\n",
       "      <td>Wien</td>\n",
       "      <td>Plaza</td>\n",
       "      <td>48.208007</td>\n",
       "      <td>16.366625</td>\n",
       "      <td>9.4</td>\n",
       "    </tr>\n",
       "    <tr>\n",
       "      <th>425</th>\n",
       "      <td>Fisherman's Bastion (Halászbástya)</td>\n",
       "      <td>Budapest</td>\n",
       "      <td>Historic Site</td>\n",
       "      <td>47.502029</td>\n",
       "      <td>19.035058</td>\n",
       "      <td>9.4</td>\n",
       "    </tr>\n",
       "    <tr>\n",
       "      <th>432</th>\n",
       "      <td>Duna-part</td>\n",
       "      <td>Budapest XIII. kerülete</td>\n",
       "      <td>Waterfront</td>\n",
       "      <td>47.501707</td>\n",
       "      <td>19.045317</td>\n",
       "      <td>8.8</td>\n",
       "    </tr>\n",
       "    <tr>\n",
       "      <th>449</th>\n",
       "      <td>Grande Café &amp; Bar</td>\n",
       "      <td>Zürich</td>\n",
       "      <td>Bar</td>\n",
       "      <td>47.375479</td>\n",
       "      <td>8.543395</td>\n",
       "      <td>9.2</td>\n",
       "    </tr>\n",
       "    <tr>\n",
       "      <th>450</th>\n",
       "      <td>Dachterrasse Hiltl</td>\n",
       "      <td>Zürich</td>\n",
       "      <td>Vegetarian / Vegan Restaurant</td>\n",
       "      <td>47.375686</td>\n",
       "      <td>8.539650</td>\n",
       "      <td>9.2</td>\n",
       "    </tr>\n",
       "  </tbody>\n",
       "</table>\n",
       "</div>"
      ],
      "text/plain": [
       "                                                  name  \\\n",
       "17                                         Döner Harju   \n",
       "31                                             Riviera   \n",
       "50   Cathedral of Notre-Dame de Paris (Cathédrale N...   \n",
       "73                                La Maison d'Isabelle   \n",
       "137         Invisible Exhibition (Neviditelná výstava)   \n",
       "144                                           Papelote   \n",
       "150                                   National Gallery   \n",
       "156                                    Corinthia Hotel   \n",
       "173                                            Amorino   \n",
       "198                                       Franco Manca   \n",
       "231                                    Roast Club Café   \n",
       "296                   Basilica di Santa Maria Maggiore   \n",
       "303                     Bierproeflokaal In de Wildeman   \n",
       "358                                     Michaelerplatz   \n",
       "425                 Fisherman's Bastion (Halászbástya)   \n",
       "432                                          Duna-part   \n",
       "449                                  Grande Café & Bar   \n",
       "450                                 Dachterrasse Hiltl   \n",
       "\n",
       "                        city                       category        lat  \\\n",
       "17                     Harju               Doner Restaurant  60.188743   \n",
       "31                  Helsinki            Indie Movie Theater  60.187863   \n",
       "50                     Paris                         Church  48.853124   \n",
       "73                     Paris                         Bakery  48.850007   \n",
       "137                    Praha                        Exhibit  50.078432   \n",
       "144                    Praha  Paper / Office Supplies Store  50.078331   \n",
       "150                   London                     Art Museum  51.508876   \n",
       "156                   London                          Hotel  51.506607   \n",
       "173            Charing Cross                 Ice Cream Shop  51.510427   \n",
       "198            Covent Garden                    Pizza Place  51.510909   \n",
       "231                Barcelona                    Coffee Shop  41.387740   \n",
       "296                     Roma                         Church  41.897629   \n",
       "303                Amsterdam                            Bar  52.376222   \n",
       "358                     Wien                          Plaza  48.208007   \n",
       "425                 Budapest                  Historic Site  47.502029   \n",
       "432  Budapest XIII. kerülete                     Waterfront  47.501707   \n",
       "449                   Zürich                            Bar  47.375479   \n",
       "450                   Zürich  Vegetarian / Vegan Restaurant  47.375686   \n",
       "\n",
       "           lon  rating  \n",
       "17   24.953261     8.3  \n",
       "31   24.957700     9.5  \n",
       "50    2.349561     9.4  \n",
       "73    2.348443     9.4  \n",
       "137  14.421187     9.3  \n",
       "144  14.414984     9.3  \n",
       "150  -0.128478     9.3  \n",
       "156  -0.124460     9.3  \n",
       "173  -0.128401     8.9  \n",
       "198  -0.122780     8.7  \n",
       "231   2.157204     9.3  \n",
       "296  12.498429     9.4  \n",
       "303   4.895134     9.2  \n",
       "358  16.366625     9.4  \n",
       "425  19.035058     9.4  \n",
       "432  19.045317     8.8  \n",
       "449   8.543395     9.2  \n",
       "450   8.539650     9.2  "
      ]
     },
     "execution_count": 23,
     "metadata": {},
     "output_type": "execute_result"
    }
   ],
   "source": [
    "#max rating\n",
    "idx = fs_df.groupby(['city'])['rating'].transform(max) == fs_df['rating']\n",
    "map2_df = fs_df[idx]\n",
    "map2_df[['name','city','category','lat','lon','rating']]"
   ]
  },
  {
   "cell_type": "code",
   "execution_count": 24,
   "metadata": {
    "ExecuteTime": {
     "end_time": "2020-07-08T06:03:03.173768Z",
     "start_time": "2020-07-08T06:03:02.630389Z"
    }
   },
   "outputs": [
    {
     "data": {
      "text/plain": [
       "<folium.features.CircleMarker at 0x1fb9d694708>"
      ]
     },
     "execution_count": 24,
     "metadata": {},
     "output_type": "execute_result"
    },
    {
     "data": {
      "text/plain": [
       "<folium.features.CircleMarker at 0x1fb9d60e3c8>"
      ]
     },
     "execution_count": 24,
     "metadata": {},
     "output_type": "execute_result"
    },
    {
     "data": {
      "text/plain": [
       "<folium.features.CircleMarker at 0x1fb9d6f4d08>"
      ]
     },
     "execution_count": 24,
     "metadata": {},
     "output_type": "execute_result"
    },
    {
     "data": {
      "text/plain": [
       "<folium.features.CircleMarker at 0x1fb9d6b77c8>"
      ]
     },
     "execution_count": 24,
     "metadata": {},
     "output_type": "execute_result"
    },
    {
     "data": {
      "text/plain": [
       "<folium.features.CircleMarker at 0x1fb9d75c6c8>"
      ]
     },
     "execution_count": 24,
     "metadata": {},
     "output_type": "execute_result"
    },
    {
     "data": {
      "text/plain": [
       "<folium.features.CircleMarker at 0x1fb9d73da88>"
      ]
     },
     "execution_count": 24,
     "metadata": {},
     "output_type": "execute_result"
    },
    {
     "data": {
      "text/plain": [
       "<folium.features.CircleMarker at 0x1fb9d7528c8>"
      ]
     },
     "execution_count": 24,
     "metadata": {},
     "output_type": "execute_result"
    },
    {
     "data": {
      "text/plain": [
       "<folium.features.CircleMarker at 0x1fb9d6baf08>"
      ]
     },
     "execution_count": 24,
     "metadata": {},
     "output_type": "execute_result"
    },
    {
     "data": {
      "text/plain": [
       "<folium.features.CircleMarker at 0x1fb9d7520c8>"
      ]
     },
     "execution_count": 24,
     "metadata": {},
     "output_type": "execute_result"
    },
    {
     "data": {
      "text/plain": [
       "<folium.features.CircleMarker at 0x1fb9d61cb88>"
      ]
     },
     "execution_count": 24,
     "metadata": {},
     "output_type": "execute_result"
    },
    {
     "data": {
      "text/plain": [
       "<folium.features.CircleMarker at 0x1fb9d75c348>"
      ]
     },
     "execution_count": 24,
     "metadata": {},
     "output_type": "execute_result"
    },
    {
     "data": {
      "text/plain": [
       "<folium.features.CircleMarker at 0x1fb9d74eb48>"
      ]
     },
     "execution_count": 24,
     "metadata": {},
     "output_type": "execute_result"
    },
    {
     "data": {
      "text/plain": [
       "<folium.features.CircleMarker at 0x1fb9d752bc8>"
      ]
     },
     "execution_count": 24,
     "metadata": {},
     "output_type": "execute_result"
    },
    {
     "data": {
      "text/plain": [
       "<folium.features.CircleMarker at 0x1fb9d7653c8>"
      ]
     },
     "execution_count": 24,
     "metadata": {},
     "output_type": "execute_result"
    },
    {
     "data": {
      "text/plain": [
       "<folium.features.CircleMarker at 0x1fb9d76e4c8>"
      ]
     },
     "execution_count": 24,
     "metadata": {},
     "output_type": "execute_result"
    },
    {
     "data": {
      "text/plain": [
       "<folium.features.CircleMarker at 0x1fb9d78c408>"
      ]
     },
     "execution_count": 24,
     "metadata": {},
     "output_type": "execute_result"
    },
    {
     "data": {
      "text/plain": [
       "<folium.features.CircleMarker at 0x1fb9d71a348>"
      ]
     },
     "execution_count": 24,
     "metadata": {},
     "output_type": "execute_result"
    },
    {
     "data": {
      "text/plain": [
       "<folium.features.CircleMarker at 0x1fb9d78c8c8>"
      ]
     },
     "execution_count": 24,
     "metadata": {},
     "output_type": "execute_result"
    },
    {
     "data": {
      "text/html": [
       "<div style=\"width:100%;\"><div style=\"position:relative;width:100%;height:0;padding-bottom:60%;\"><span style=\"color:#565656\">Make this Notebook Trusted to load map: File -> Trust Notebook</span><iframe src=\"about:blank\" style=\"position:absolute;width:100%;height:100%;left:0;top:0;border:none !important;\" data-html=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 onload=\"this.contentDocument.open();this.contentDocument.write(atob(this.getAttribute('data-html')));this.contentDocument.close();\" allowfullscreen webkitallowfullscreen mozallowfullscreen></iframe></div></div>"
      ],
      "text/plain": [
       "<folium.folium.Map at 0x1fb9d752fc8>"
      ]
     },
     "execution_count": 24,
     "metadata": {},
     "output_type": "execute_result"
    }
   ],
   "source": [
    "eu_map2 = folium.Map(\n",
    "    location=[60.192059, 24.945831],\n",
    "    zoom_start=3,\n",
    "    max_zoom=6,\n",
    "    min_zoom=2,\n",
    "    prefer_canvas=True)  \n",
    "\n",
    "# add the Italian restaurants as blue circle markers\n",
    "for lat, lon, label, rating in zip(map2_df.lat, map2_df.lon, map2_df.name,\n",
    "                                   map2_df.rating):\n",
    "    folium.features.CircleMarker([lat, lon],\n",
    "                                 radius=5,\n",
    "                                 color='blue',\n",
    "                                 fill=True,\n",
    "                                 fill_color='blue',\n",
    "                                 fill_opacity=0.6,\n",
    "                                 popup=label + '<br>' + 'rating' +\n",
    "                                 str(rating)).add_to(eu_map2)\n",
    "\n",
    "# display map\n",
    "eu_map2"
   ]
  },
  {
   "cell_type": "markdown",
   "metadata": {},
   "source": [
    "## Minimum rated places (rating counts taken into account) in each city"
   ]
  },
  {
   "cell_type": "code",
   "execution_count": 25,
   "metadata": {
    "ExecuteTime": {
     "end_time": "2020-07-08T06:03:03.220643Z",
     "start_time": "2020-07-08T06:03:03.176732Z"
    }
   },
   "outputs": [
    {
     "data": {
      "text/html": [
       "<div>\n",
       "<style scoped>\n",
       "    .dataframe tbody tr th:only-of-type {\n",
       "        vertical-align: middle;\n",
       "    }\n",
       "\n",
       "    .dataframe tbody tr th {\n",
       "        vertical-align: top;\n",
       "    }\n",
       "\n",
       "    .dataframe thead th {\n",
       "        text-align: right;\n",
       "    }\n",
       "</style>\n",
       "<table border=\"1\" class=\"dataframe\">\n",
       "  <thead>\n",
       "    <tr style=\"text-align: right;\">\n",
       "      <th></th>\n",
       "      <th>name</th>\n",
       "      <th>city</th>\n",
       "      <th>category</th>\n",
       "      <th>rating</th>\n",
       "      <th>lat</th>\n",
       "      <th>lon</th>\n",
       "    </tr>\n",
       "  </thead>\n",
       "  <tbody>\n",
       "    <tr>\n",
       "      <th>17</th>\n",
       "      <td>Döner Harju</td>\n",
       "      <td>Harju</td>\n",
       "      <td>Doner Restaurant</td>\n",
       "      <td>8.3</td>\n",
       "      <td>60.188743</td>\n",
       "      <td>24.953261</td>\n",
       "    </tr>\n",
       "    <tr>\n",
       "      <th>36</th>\n",
       "      <td>Thai Orchid</td>\n",
       "      <td>Helsinki</td>\n",
       "      <td>Thai Restaurant</td>\n",
       "      <td>7.1</td>\n",
       "      <td>60.193210</td>\n",
       "      <td>24.943615</td>\n",
       "    </tr>\n",
       "    <tr>\n",
       "      <th>45</th>\n",
       "      <td>Kahvihuone</td>\n",
       "      <td>Helsinki</td>\n",
       "      <td>Vietnamese Restaurant</td>\n",
       "      <td>7.1</td>\n",
       "      <td>60.190816</td>\n",
       "      <td>24.948483</td>\n",
       "    </tr>\n",
       "    <tr>\n",
       "      <th>78</th>\n",
       "      <td>Point Zéro des Routes de France</td>\n",
       "      <td>Paris</td>\n",
       "      <td>Historic Site</td>\n",
       "      <td>7.8</td>\n",
       "      <td>48.853378</td>\n",
       "      <td>2.348827</td>\n",
       "    </tr>\n",
       "    <tr>\n",
       "      <th>95</th>\n",
       "      <td>Rasa Yoga</td>\n",
       "      <td>Paris</td>\n",
       "      <td>Yoga Studio</td>\n",
       "      <td>7.8</td>\n",
       "      <td>48.851454</td>\n",
       "      <td>2.346311</td>\n",
       "    </tr>\n",
       "    <tr>\n",
       "      <th>132</th>\n",
       "      <td>Lelí's Cupcakes</td>\n",
       "      <td>Praha</td>\n",
       "      <td>Cupcake Shop</td>\n",
       "      <td>7.4</td>\n",
       "      <td>50.073333</td>\n",
       "      <td>14.418451</td>\n",
       "    </tr>\n",
       "    <tr>\n",
       "      <th>139</th>\n",
       "      <td>Hotel U Svatého Jana</td>\n",
       "      <td>Praha</td>\n",
       "      <td>Hotel</td>\n",
       "      <td>7.4</td>\n",
       "      <td>50.071967</td>\n",
       "      <td>14.418435</td>\n",
       "    </tr>\n",
       "    <tr>\n",
       "      <th>145</th>\n",
       "      <td>Freshland</td>\n",
       "      <td>Praha</td>\n",
       "      <td>Salad Place</td>\n",
       "      <td>7.4</td>\n",
       "      <td>50.074523</td>\n",
       "      <td>14.418084</td>\n",
       "    </tr>\n",
       "    <tr>\n",
       "      <th>167</th>\n",
       "      <td>Bancone</td>\n",
       "      <td>Covent Garden</td>\n",
       "      <td>Italian Restaurant</td>\n",
       "      <td>8.4</td>\n",
       "      <td>51.509529</td>\n",
       "      <td>-0.126434</td>\n",
       "    </tr>\n",
       "    <tr>\n",
       "      <th>180</th>\n",
       "      <td>Waterstones</td>\n",
       "      <td>London</td>\n",
       "      <td>Bookstore</td>\n",
       "      <td>8.1</td>\n",
       "      <td>51.507650</td>\n",
       "      <td>-0.127130</td>\n",
       "    </tr>\n",
       "    <tr>\n",
       "      <th>182</th>\n",
       "      <td>Superdrug</td>\n",
       "      <td>London</td>\n",
       "      <td>Pharmacy</td>\n",
       "      <td>8.1</td>\n",
       "      <td>51.509174</td>\n",
       "      <td>-0.124054</td>\n",
       "    </tr>\n",
       "    <tr>\n",
       "      <th>188</th>\n",
       "      <td>Citadines Trafalgar Square London</td>\n",
       "      <td>Charing Cross</td>\n",
       "      <td>Hotel</td>\n",
       "      <td>8.0</td>\n",
       "      <td>51.507020</td>\n",
       "      <td>-0.124685</td>\n",
       "    </tr>\n",
       "    <tr>\n",
       "      <th>235</th>\n",
       "      <td>Goiko Grill</td>\n",
       "      <td>Barcelona</td>\n",
       "      <td>Burger Joint</td>\n",
       "      <td>7.8</td>\n",
       "      <td>41.390907</td>\n",
       "      <td>2.155968</td>\n",
       "    </tr>\n",
       "    <tr>\n",
       "      <th>238</th>\n",
       "      <td>Atapa-it</td>\n",
       "      <td>Barcelona</td>\n",
       "      <td>Restaurant</td>\n",
       "      <td>7.8</td>\n",
       "      <td>41.390700</td>\n",
       "      <td>2.154688</td>\n",
       "    </tr>\n",
       "    <tr>\n",
       "      <th>248</th>\n",
       "      <td>La Gormanda</td>\n",
       "      <td>Barcelona</td>\n",
       "      <td>Mediterranean Restaurant</td>\n",
       "      <td>7.8</td>\n",
       "      <td>41.392403</td>\n",
       "      <td>2.154230</td>\n",
       "    </tr>\n",
       "    <tr>\n",
       "      <th>294</th>\n",
       "      <td>Mascagni</td>\n",
       "      <td>Roma</td>\n",
       "      <td>Hotel</td>\n",
       "      <td>7.3</td>\n",
       "      <td>41.903914</td>\n",
       "      <td>12.494718</td>\n",
       "    </tr>\n",
       "    <tr>\n",
       "      <th>333</th>\n",
       "      <td>Renaissance Executive Lounge</td>\n",
       "      <td>Amsterdam</td>\n",
       "      <td>Hotel Bar</td>\n",
       "      <td>7.9</td>\n",
       "      <td>52.377950</td>\n",
       "      <td>4.894456</td>\n",
       "    </tr>\n",
       "    <tr>\n",
       "      <th>338</th>\n",
       "      <td>De Silveren Spiegel</td>\n",
       "      <td>Amsterdam</td>\n",
       "      <td>Café</td>\n",
       "      <td>7.9</td>\n",
       "      <td>52.377747</td>\n",
       "      <td>4.894183</td>\n",
       "    </tr>\n",
       "    <tr>\n",
       "      <th>339</th>\n",
       "      <td>Stubbe's Haring</td>\n",
       "      <td>Amsterdam</td>\n",
       "      <td>Food Truck</td>\n",
       "      <td>7.9</td>\n",
       "      <td>52.379081</td>\n",
       "      <td>4.894518</td>\n",
       "    </tr>\n",
       "    <tr>\n",
       "      <th>345</th>\n",
       "      <td>Loetje Centraal</td>\n",
       "      <td>Amsterdam</td>\n",
       "      <td>Steakhouse</td>\n",
       "      <td>7.9</td>\n",
       "      <td>52.377487</td>\n",
       "      <td>4.900343</td>\n",
       "    </tr>\n",
       "    <tr>\n",
       "      <th>384</th>\n",
       "      <td>Radisson Blu Style Hotel - Wien</td>\n",
       "      <td>Wien</td>\n",
       "      <td>Hotel</td>\n",
       "      <td>7.7</td>\n",
       "      <td>48.210056</td>\n",
       "      <td>16.365630</td>\n",
       "    </tr>\n",
       "    <tr>\n",
       "      <th>432</th>\n",
       "      <td>Duna-part</td>\n",
       "      <td>Budapest XIII. kerülete</td>\n",
       "      <td>Waterfront</td>\n",
       "      <td>8.8</td>\n",
       "      <td>47.501707</td>\n",
       "      <td>19.045317</td>\n",
       "    </tr>\n",
       "    <tr>\n",
       "      <th>434</th>\n",
       "      <td>Lánchíd Söröző</td>\n",
       "      <td>Budapest</td>\n",
       "      <td>Pub</td>\n",
       "      <td>7.5</td>\n",
       "      <td>47.499013</td>\n",
       "      <td>19.040220</td>\n",
       "    </tr>\n",
       "    <tr>\n",
       "      <th>438</th>\n",
       "      <td>Budapest Terrace</td>\n",
       "      <td>Budapest</td>\n",
       "      <td>Café</td>\n",
       "      <td>7.5</td>\n",
       "      <td>47.497392</td>\n",
       "      <td>19.038920</td>\n",
       "    </tr>\n",
       "    <tr>\n",
       "      <th>440</th>\n",
       "      <td>Meat Boutique</td>\n",
       "      <td>Budapest</td>\n",
       "      <td>Steakhouse</td>\n",
       "      <td>7.5</td>\n",
       "      <td>47.497080</td>\n",
       "      <td>19.041077</td>\n",
       "    </tr>\n",
       "    <tr>\n",
       "      <th>475</th>\n",
       "      <td>H&amp;M</td>\n",
       "      <td>Zürich</td>\n",
       "      <td>Clothing Store</td>\n",
       "      <td>7.9</td>\n",
       "      <td>47.375877</td>\n",
       "      <td>8.539477</td>\n",
       "    </tr>\n",
       "    <tr>\n",
       "      <th>476</th>\n",
       "      <td>Café Gourmet</td>\n",
       "      <td>Zürich</td>\n",
       "      <td>Café</td>\n",
       "      <td>7.9</td>\n",
       "      <td>47.377094</td>\n",
       "      <td>8.539425</td>\n",
       "    </tr>\n",
       "  </tbody>\n",
       "</table>\n",
       "</div>"
      ],
      "text/plain": [
       "                                  name                     city  \\\n",
       "17                         Döner Harju                    Harju   \n",
       "36                         Thai Orchid                 Helsinki   \n",
       "45                          Kahvihuone                 Helsinki   \n",
       "78     Point Zéro des Routes de France                    Paris   \n",
       "95                           Rasa Yoga                    Paris   \n",
       "132                    Lelí's Cupcakes                    Praha   \n",
       "139               Hotel U Svatého Jana                    Praha   \n",
       "145                          Freshland                    Praha   \n",
       "167                            Bancone            Covent Garden   \n",
       "180                        Waterstones                   London   \n",
       "182                          Superdrug                   London   \n",
       "188  Citadines Trafalgar Square London            Charing Cross   \n",
       "235                        Goiko Grill                Barcelona   \n",
       "238                           Atapa-it                Barcelona   \n",
       "248                        La Gormanda                Barcelona   \n",
       "294                           Mascagni                     Roma   \n",
       "333       Renaissance Executive Lounge                Amsterdam   \n",
       "338                De Silveren Spiegel                Amsterdam   \n",
       "339                    Stubbe's Haring                Amsterdam   \n",
       "345                    Loetje Centraal                Amsterdam   \n",
       "384    Radisson Blu Style Hotel - Wien                     Wien   \n",
       "432                          Duna-part  Budapest XIII. kerülete   \n",
       "434                     Lánchíd Söröző                 Budapest   \n",
       "438                   Budapest Terrace                 Budapest   \n",
       "440                      Meat Boutique                 Budapest   \n",
       "475                                H&M                   Zürich   \n",
       "476                       Café Gourmet                   Zürich   \n",
       "\n",
       "                     category  rating        lat        lon  \n",
       "17           Doner Restaurant     8.3  60.188743  24.953261  \n",
       "36            Thai Restaurant     7.1  60.193210  24.943615  \n",
       "45      Vietnamese Restaurant     7.1  60.190816  24.948483  \n",
       "78              Historic Site     7.8  48.853378   2.348827  \n",
       "95                Yoga Studio     7.8  48.851454   2.346311  \n",
       "132              Cupcake Shop     7.4  50.073333  14.418451  \n",
       "139                     Hotel     7.4  50.071967  14.418435  \n",
       "145               Salad Place     7.4  50.074523  14.418084  \n",
       "167        Italian Restaurant     8.4  51.509529  -0.126434  \n",
       "180                 Bookstore     8.1  51.507650  -0.127130  \n",
       "182                  Pharmacy     8.1  51.509174  -0.124054  \n",
       "188                     Hotel     8.0  51.507020  -0.124685  \n",
       "235              Burger Joint     7.8  41.390907   2.155968  \n",
       "238                Restaurant     7.8  41.390700   2.154688  \n",
       "248  Mediterranean Restaurant     7.8  41.392403   2.154230  \n",
       "294                     Hotel     7.3  41.903914  12.494718  \n",
       "333                 Hotel Bar     7.9  52.377950   4.894456  \n",
       "338                      Café     7.9  52.377747   4.894183  \n",
       "339                Food Truck     7.9  52.379081   4.894518  \n",
       "345                Steakhouse     7.9  52.377487   4.900343  \n",
       "384                     Hotel     7.7  48.210056  16.365630  \n",
       "432                Waterfront     8.8  47.501707  19.045317  \n",
       "434                       Pub     7.5  47.499013  19.040220  \n",
       "438                      Café     7.5  47.497392  19.038920  \n",
       "440                Steakhouse     7.5  47.497080  19.041077  \n",
       "475            Clothing Store     7.9  47.375877   8.539477  \n",
       "476                      Café     7.9  47.377094   8.539425  "
      ]
     },
     "execution_count": 25,
     "metadata": {},
     "output_type": "execute_result"
    }
   ],
   "source": [
    "#min rating\n",
    "idx = fs_df.groupby(['city'])['rating'].transform(min) == fs_df['rating']\n",
    "map3_df = fs_df[idx]\n",
    "map3_df[['name','city','category','rating','lat','lon']]"
   ]
  },
  {
   "cell_type": "code",
   "execution_count": 26,
   "metadata": {
    "ExecuteTime": {
     "end_time": "2020-07-08T06:03:04.178119Z",
     "start_time": "2020-07-08T06:03:03.224603Z"
    },
    "run_control": {
     "marked": false
    }
   },
   "outputs": [
    {
     "data": {
      "text/plain": [
       "<folium.features.CircleMarker at 0x1fb9d738d08>"
      ]
     },
     "execution_count": 26,
     "metadata": {},
     "output_type": "execute_result"
    },
    {
     "data": {
      "text/plain": [
       "<folium.features.CircleMarker at 0x1fb9d6c0ac8>"
      ]
     },
     "execution_count": 26,
     "metadata": {},
     "output_type": "execute_result"
    },
    {
     "data": {
      "text/plain": [
       "<folium.features.CircleMarker at 0x1fb9d7750c8>"
      ]
     },
     "execution_count": 26,
     "metadata": {},
     "output_type": "execute_result"
    },
    {
     "data": {
      "text/plain": [
       "<folium.features.CircleMarker at 0x1fb9d7da888>"
      ]
     },
     "execution_count": 26,
     "metadata": {},
     "output_type": "execute_result"
    },
    {
     "data": {
      "text/plain": [
       "<folium.features.CircleMarker at 0x1fb9d7d39c8>"
      ]
     },
     "execution_count": 26,
     "metadata": {},
     "output_type": "execute_result"
    },
    {
     "data": {
      "text/plain": [
       "<folium.features.CircleMarker at 0x1fb9d74ecc8>"
      ]
     },
     "execution_count": 26,
     "metadata": {},
     "output_type": "execute_result"
    },
    {
     "data": {
      "text/plain": [
       "<folium.features.CircleMarker at 0x1fb9d7d3348>"
      ]
     },
     "execution_count": 26,
     "metadata": {},
     "output_type": "execute_result"
    },
    {
     "data": {
      "text/plain": [
       "<folium.features.CircleMarker at 0x1fb9d7da9c8>"
      ]
     },
     "execution_count": 26,
     "metadata": {},
     "output_type": "execute_result"
    },
    {
     "data": {
      "text/plain": [
       "<folium.features.CircleMarker at 0x1fb9d7d3648>"
      ]
     },
     "execution_count": 26,
     "metadata": {},
     "output_type": "execute_result"
    },
    {
     "data": {
      "text/plain": [
       "<folium.features.CircleMarker at 0x1fb9d7dafc8>"
      ]
     },
     "execution_count": 26,
     "metadata": {},
     "output_type": "execute_result"
    },
    {
     "data": {
      "text/plain": [
       "<folium.features.CircleMarker at 0x1fb9d7d3e88>"
      ]
     },
     "execution_count": 26,
     "metadata": {},
     "output_type": "execute_result"
    },
    {
     "data": {
      "text/plain": [
       "<folium.features.CircleMarker at 0x1fb9d7dd048>"
      ]
     },
     "execution_count": 26,
     "metadata": {},
     "output_type": "execute_result"
    },
    {
     "data": {
      "text/plain": [
       "<folium.features.CircleMarker at 0x1fb9d752208>"
      ]
     },
     "execution_count": 26,
     "metadata": {},
     "output_type": "execute_result"
    },
    {
     "data": {
      "text/plain": [
       "<folium.features.CircleMarker at 0x1fb9d7dab88>"
      ]
     },
     "execution_count": 26,
     "metadata": {},
     "output_type": "execute_result"
    },
    {
     "data": {
      "text/plain": [
       "<folium.features.CircleMarker at 0x1fb9d6f4dc8>"
      ]
     },
     "execution_count": 26,
     "metadata": {},
     "output_type": "execute_result"
    },
    {
     "data": {
      "text/plain": [
       "<folium.features.CircleMarker at 0x1fb9d7ea088>"
      ]
     },
     "execution_count": 26,
     "metadata": {},
     "output_type": "execute_result"
    },
    {
     "data": {
      "text/plain": [
       "<folium.features.CircleMarker at 0x1fb9d738d88>"
      ]
     },
     "execution_count": 26,
     "metadata": {},
     "output_type": "execute_result"
    },
    {
     "data": {
      "text/plain": [
       "<folium.features.CircleMarker at 0x1fb9d7dad88>"
      ]
     },
     "execution_count": 26,
     "metadata": {},
     "output_type": "execute_result"
    },
    {
     "data": {
      "text/plain": [
       "<folium.features.CircleMarker at 0x1fb9d7ddec8>"
      ]
     },
     "execution_count": 26,
     "metadata": {},
     "output_type": "execute_result"
    },
    {
     "data": {
      "text/plain": [
       "<folium.features.CircleMarker at 0x1fb9d7dac48>"
      ]
     },
     "execution_count": 26,
     "metadata": {},
     "output_type": "execute_result"
    },
    {
     "data": {
      "text/plain": [
       "<folium.features.CircleMarker at 0x1fb9d7ef308>"
      ]
     },
     "execution_count": 26,
     "metadata": {},
     "output_type": "execute_result"
    },
    {
     "data": {
      "text/plain": [
       "<folium.features.CircleMarker at 0x1fb9d8165c8>"
      ]
     },
     "execution_count": 26,
     "metadata": {},
     "output_type": "execute_result"
    },
    {
     "data": {
      "text/plain": [
       "<folium.features.CircleMarker at 0x1fb9d7ea608>"
      ]
     },
     "execution_count": 26,
     "metadata": {},
     "output_type": "execute_result"
    },
    {
     "data": {
      "text/plain": [
       "<folium.features.CircleMarker at 0x1fb9d8292c8>"
      ]
     },
     "execution_count": 26,
     "metadata": {},
     "output_type": "execute_result"
    },
    {
     "data": {
      "text/plain": [
       "<folium.features.CircleMarker at 0x1fb9d7d9448>"
      ]
     },
     "execution_count": 26,
     "metadata": {},
     "output_type": "execute_result"
    },
    {
     "data": {
      "text/plain": [
       "<folium.features.CircleMarker at 0x1fb9d7d3788>"
      ]
     },
     "execution_count": 26,
     "metadata": {},
     "output_type": "execute_result"
    },
    {
     "data": {
      "text/plain": [
       "<folium.features.CircleMarker at 0x1fb9d601148>"
      ]
     },
     "execution_count": 26,
     "metadata": {},
     "output_type": "execute_result"
    },
    {
     "data": {
      "text/html": [
       "<div style=\"width:100%;\"><div style=\"position:relative;width:100%;height:0;padding-bottom:60%;\"><span style=\"color:#565656\">Make this Notebook Trusted to load map: File -> Trust Notebook</span><iframe src=\"about:blank\" style=\"position:absolute;width:100%;height:100%;left:0;top:0;border:none !important;\" data-html=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 onload=\"this.contentDocument.open();this.contentDocument.write(atob(this.getAttribute('data-html')));this.contentDocument.close();\" allowfullscreen webkitallowfullscreen mozallowfullscreen></iframe></div></div>"
      ],
      "text/plain": [
       "<folium.folium.Map at 0x1fb9d7c1ec8>"
      ]
     },
     "execution_count": 26,
     "metadata": {},
     "output_type": "execute_result"
    }
   ],
   "source": [
    "eu_map3 = folium.Map(\n",
    "    location=[60.192059, 24.945831],\n",
    "    zoom_start=3,\n",
    "    #max_zoom=6,\n",
    "    #min_zoom=2,\n",
    "    prefer_canvas=True)  \n",
    "\n",
    "# add the Italian restaurants as blue circle markers\n",
    "for lat, lon, label, rating in zip(map3_df.lat, map3_df.lon, map3_df.name,\n",
    "                                   map3_df.rating):\n",
    "    folium.features.CircleMarker([lat, lon],\n",
    "                                 radius=5,\n",
    "                                 color='blue',\n",
    "                                 fill=True,\n",
    "                                 fill_color='blue',\n",
    "                                 fill_opacity=0.6,\n",
    "                                 popup=label + '<br>' + 'rating' +\n",
    "                                 str(rating)).add_to(eu_map3)\n",
    "\n",
    "# display map\n",
    "eu_map3"
   ]
  },
  {
   "cell_type": "markdown",
   "metadata": {},
   "source": [
    "## Maximum weighted rating "
   ]
  },
  {
   "cell_type": "code",
   "execution_count": 27,
   "metadata": {
    "ExecuteTime": {
     "end_time": "2020-07-08T06:03:04.192082Z",
     "start_time": "2020-07-08T06:03:04.182111Z"
    }
   },
   "outputs": [],
   "source": [
    "fs_df['weighted_rating'] = fs_df['rating'] * fs_df['rating_count']"
   ]
  },
  {
   "cell_type": "code",
   "execution_count": 28,
   "metadata": {
    "ExecuteTime": {
     "end_time": "2020-07-08T06:03:04.252922Z",
     "start_time": "2020-07-08T06:03:04.198069Z"
    },
    "scrolled": true
   },
   "outputs": [
    {
     "data": {
      "text/html": [
       "<div>\n",
       "<style scoped>\n",
       "    .dataframe tbody tr th:only-of-type {\n",
       "        vertical-align: middle;\n",
       "    }\n",
       "\n",
       "    .dataframe tbody tr th {\n",
       "        vertical-align: top;\n",
       "    }\n",
       "\n",
       "    .dataframe thead th {\n",
       "        text-align: right;\n",
       "    }\n",
       "</style>\n",
       "<table border=\"1\" class=\"dataframe\">\n",
       "  <thead>\n",
       "    <tr style=\"text-align: right;\">\n",
       "      <th></th>\n",
       "      <th>name</th>\n",
       "      <th>city</th>\n",
       "      <th>category</th>\n",
       "      <th>weighted_rating</th>\n",
       "      <th>lat</th>\n",
       "      <th>lon</th>\n",
       "    </tr>\n",
       "  </thead>\n",
       "  <tbody>\n",
       "    <tr>\n",
       "      <th>10</th>\n",
       "      <td>Linnanmäki</td>\n",
       "      <td>Helsinki</td>\n",
       "      <td>Theme Park</td>\n",
       "      <td>7550.8</td>\n",
       "      <td>60.188179</td>\n",
       "      <td>24.940485</td>\n",
       "    </tr>\n",
       "    <tr>\n",
       "      <th>17</th>\n",
       "      <td>Döner Harju</td>\n",
       "      <td>Harju</td>\n",
       "      <td>Doner Restaurant</td>\n",
       "      <td>3710.1</td>\n",
       "      <td>60.188743</td>\n",
       "      <td>24.953261</td>\n",
       "    </tr>\n",
       "    <tr>\n",
       "      <th>50</th>\n",
       "      <td>Cathedral of Notre-Dame de Paris (Cathédrale N...</td>\n",
       "      <td>Paris</td>\n",
       "      <td>Church</td>\n",
       "      <td>91565.4</td>\n",
       "      <td>48.853124</td>\n",
       "      <td>2.349561</td>\n",
       "    </tr>\n",
       "    <tr>\n",
       "      <th>116</th>\n",
       "      <td>Vltava Riverside (Pražská náplavka)</td>\n",
       "      <td>Praha</td>\n",
       "      <td>Waterfront</td>\n",
       "      <td>15805.6</td>\n",
       "      <td>50.071242</td>\n",
       "      <td>14.413921</td>\n",
       "    </tr>\n",
       "    <tr>\n",
       "      <th>150</th>\n",
       "      <td>National Gallery</td>\n",
       "      <td>London</td>\n",
       "      <td>Art Museum</td>\n",
       "      <td>49373.7</td>\n",
       "      <td>51.508876</td>\n",
       "      <td>-0.128478</td>\n",
       "    </tr>\n",
       "    <tr>\n",
       "      <th>194</th>\n",
       "      <td>J Sheekey</td>\n",
       "      <td>Charing Cross</td>\n",
       "      <td>Seafood Restaurant</td>\n",
       "      <td>3255.5</td>\n",
       "      <td>51.510899</td>\n",
       "      <td>-0.127797</td>\n",
       "    </tr>\n",
       "    <tr>\n",
       "      <th>198</th>\n",
       "      <td>Franco Manca</td>\n",
       "      <td>Covent Garden</td>\n",
       "      <td>Pizza Place</td>\n",
       "      <td>3506.1</td>\n",
       "      <td>51.510909</td>\n",
       "      <td>-0.122780</td>\n",
       "    </tr>\n",
       "    <tr>\n",
       "      <th>201</th>\n",
       "      <td>Paco Meralgo</td>\n",
       "      <td>Barcelona</td>\n",
       "      <td>Tapas Restaurant</td>\n",
       "      <td>6828.8</td>\n",
       "      <td>41.391676</td>\n",
       "      <td>2.152794</td>\n",
       "    </tr>\n",
       "    <tr>\n",
       "      <th>296</th>\n",
       "      <td>Basilica di Santa Maria Maggiore</td>\n",
       "      <td>Roma</td>\n",
       "      <td>Church</td>\n",
       "      <td>14147.0</td>\n",
       "      <td>41.897629</td>\n",
       "      <td>12.498429</td>\n",
       "    </tr>\n",
       "    <tr>\n",
       "      <th>317</th>\n",
       "      <td>Amsterdam Central Railway Station (Station Ams...</td>\n",
       "      <td>Amsterdam</td>\n",
       "      <td>Train Station</td>\n",
       "      <td>41450.2</td>\n",
       "      <td>52.378782</td>\n",
       "      <td>4.900374</td>\n",
       "    </tr>\n",
       "    <tr>\n",
       "      <th>353</th>\n",
       "      <td>Café Central</td>\n",
       "      <td>Wien</td>\n",
       "      <td>Café</td>\n",
       "      <td>29677.2</td>\n",
       "      <td>48.210348</td>\n",
       "      <td>16.365391</td>\n",
       "    </tr>\n",
       "    <tr>\n",
       "      <th>399</th>\n",
       "      <td>Buda Castle (Budavári Palota)</td>\n",
       "      <td>Budapest</td>\n",
       "      <td>Castle</td>\n",
       "      <td>26077.2</td>\n",
       "      <td>47.496198</td>\n",
       "      <td>19.039543</td>\n",
       "    </tr>\n",
       "    <tr>\n",
       "      <th>432</th>\n",
       "      <td>Duna-part</td>\n",
       "      <td>Budapest XIII. kerülete</td>\n",
       "      <td>Waterfront</td>\n",
       "      <td>1302.4</td>\n",
       "      <td>47.501707</td>\n",
       "      <td>19.045317</td>\n",
       "    </tr>\n",
       "    <tr>\n",
       "      <th>474</th>\n",
       "      <td>Zurich Main Station (Zürich Hauptbahnhof)</td>\n",
       "      <td>Zürich</td>\n",
       "      <td>Train Station</td>\n",
       "      <td>13636.9</td>\n",
       "      <td>47.378705</td>\n",
       "      <td>8.538724</td>\n",
       "    </tr>\n",
       "  </tbody>\n",
       "</table>\n",
       "</div>"
      ],
      "text/plain": [
       "                                                  name  \\\n",
       "10                                          Linnanmäki   \n",
       "17                                         Döner Harju   \n",
       "50   Cathedral of Notre-Dame de Paris (Cathédrale N...   \n",
       "116                Vltava Riverside (Pražská náplavka)   \n",
       "150                                   National Gallery   \n",
       "194                                          J Sheekey   \n",
       "198                                       Franco Manca   \n",
       "201                                       Paco Meralgo   \n",
       "296                   Basilica di Santa Maria Maggiore   \n",
       "317  Amsterdam Central Railway Station (Station Ams...   \n",
       "353                                       Café Central   \n",
       "399                      Buda Castle (Budavári Palota)   \n",
       "432                                          Duna-part   \n",
       "474          Zurich Main Station (Zürich Hauptbahnhof)   \n",
       "\n",
       "                        city            category  weighted_rating        lat  \\\n",
       "10                  Helsinki          Theme Park           7550.8  60.188179   \n",
       "17                     Harju    Doner Restaurant           3710.1  60.188743   \n",
       "50                     Paris              Church          91565.4  48.853124   \n",
       "116                    Praha          Waterfront          15805.6  50.071242   \n",
       "150                   London          Art Museum          49373.7  51.508876   \n",
       "194            Charing Cross  Seafood Restaurant           3255.5  51.510899   \n",
       "198            Covent Garden         Pizza Place           3506.1  51.510909   \n",
       "201                Barcelona    Tapas Restaurant           6828.8  41.391676   \n",
       "296                     Roma              Church          14147.0  41.897629   \n",
       "317                Amsterdam       Train Station          41450.2  52.378782   \n",
       "353                     Wien                Café          29677.2  48.210348   \n",
       "399                 Budapest              Castle          26077.2  47.496198   \n",
       "432  Budapest XIII. kerülete          Waterfront           1302.4  47.501707   \n",
       "474                   Zürich       Train Station          13636.9  47.378705   \n",
       "\n",
       "           lon  \n",
       "10   24.940485  \n",
       "17   24.953261  \n",
       "50    2.349561  \n",
       "116  14.413921  \n",
       "150  -0.128478  \n",
       "194  -0.127797  \n",
       "198  -0.122780  \n",
       "201   2.152794  \n",
       "296  12.498429  \n",
       "317   4.900374  \n",
       "353  16.365391  \n",
       "399  19.039543  \n",
       "432  19.045317  \n",
       "474   8.538724  "
      ]
     },
     "execution_count": 28,
     "metadata": {},
     "output_type": "execute_result"
    },
    {
     "data": {
      "text/plain": [
       "(14, 16)"
      ]
     },
     "execution_count": 28,
     "metadata": {},
     "output_type": "execute_result"
    }
   ],
   "source": [
    "#max weighted rating\n",
    "idx = fs_df.groupby(['city'])['weighted_rating'].transform(max) == fs_df['weighted_rating']\n",
    "map4_df=fs_df[idx]\n",
    "map4_df[['name','city','category','weighted_rating','lat','lon']]\n",
    "map4_df.shape"
   ]
  },
  {
   "cell_type": "code",
   "execution_count": 29,
   "metadata": {
    "ExecuteTime": {
     "end_time": "2020-07-08T06:03:04.842406Z",
     "start_time": "2020-07-08T06:03:04.255918Z"
    }
   },
   "outputs": [
    {
     "data": {
      "text/plain": [
       "<folium.features.CircleMarker at 0x1fb9d87b388>"
      ]
     },
     "execution_count": 29,
     "metadata": {},
     "output_type": "execute_result"
    },
    {
     "data": {
      "text/plain": [
       "<folium.features.CircleMarker at 0x1fb9d8719c8>"
      ]
     },
     "execution_count": 29,
     "metadata": {},
     "output_type": "execute_result"
    },
    {
     "data": {
      "text/plain": [
       "<folium.features.CircleMarker at 0x1fb9d7d3108>"
      ]
     },
     "execution_count": 29,
     "metadata": {},
     "output_type": "execute_result"
    },
    {
     "data": {
      "text/plain": [
       "<folium.features.CircleMarker at 0x1fb94f99788>"
      ]
     },
     "execution_count": 29,
     "metadata": {},
     "output_type": "execute_result"
    },
    {
     "data": {
      "text/plain": [
       "<folium.features.CircleMarker at 0x1fb9d6baa88>"
      ]
     },
     "execution_count": 29,
     "metadata": {},
     "output_type": "execute_result"
    },
    {
     "data": {
      "text/plain": [
       "<folium.features.CircleMarker at 0x1fb9d6b0f88>"
      ]
     },
     "execution_count": 29,
     "metadata": {},
     "output_type": "execute_result"
    },
    {
     "data": {
      "text/plain": [
       "<folium.features.CircleMarker at 0x1fb9d738f08>"
      ]
     },
     "execution_count": 29,
     "metadata": {},
     "output_type": "execute_result"
    },
    {
     "data": {
      "text/plain": [
       "<folium.features.CircleMarker at 0x1fb9d8558c8>"
      ]
     },
     "execution_count": 29,
     "metadata": {},
     "output_type": "execute_result"
    },
    {
     "data": {
      "text/plain": [
       "<folium.features.CircleMarker at 0x1fb9d7eff08>"
      ]
     },
     "execution_count": 29,
     "metadata": {},
     "output_type": "execute_result"
    },
    {
     "data": {
      "text/plain": [
       "<folium.features.CircleMarker at 0x1fb9d871c88>"
      ]
     },
     "execution_count": 29,
     "metadata": {},
     "output_type": "execute_result"
    },
    {
     "data": {
      "text/plain": [
       "<folium.features.CircleMarker at 0x1fb9d7d3508>"
      ]
     },
     "execution_count": 29,
     "metadata": {},
     "output_type": "execute_result"
    },
    {
     "data": {
      "text/plain": [
       "<folium.features.CircleMarker at 0x1fb9d87c648>"
      ]
     },
     "execution_count": 29,
     "metadata": {},
     "output_type": "execute_result"
    },
    {
     "data": {
      "text/plain": [
       "<folium.features.CircleMarker at 0x1fb9d752c08>"
      ]
     },
     "execution_count": 29,
     "metadata": {},
     "output_type": "execute_result"
    },
    {
     "data": {
      "text/plain": [
       "<folium.features.CircleMarker at 0x1fb9d87bc08>"
      ]
     },
     "execution_count": 29,
     "metadata": {},
     "output_type": "execute_result"
    },
    {
     "data": {
      "text/html": [
       "<div style=\"width:100%;\"><div style=\"position:relative;width:100%;height:0;padding-bottom:60%;\"><span style=\"color:#565656\">Make this Notebook Trusted to load map: File -> Trust Notebook</span><iframe src=\"about:blank\" style=\"position:absolute;width:100%;height:100%;left:0;top:0;border:none !important;\" data-html=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 onload=\"this.contentDocument.open();this.contentDocument.write(atob(this.getAttribute('data-html')));this.contentDocument.close();\" allowfullscreen webkitallowfullscreen mozallowfullscreen></iframe></div></div>"
      ],
      "text/plain": [
       "<folium.folium.Map at 0x1fb9d871b88>"
      ]
     },
     "execution_count": 29,
     "metadata": {},
     "output_type": "execute_result"
    }
   ],
   "source": [
    "eu_map4 = folium.Map(\n",
    "    location=[60.192059, 24.945831],\n",
    "    zoom_start=3,\n",
    "   # max_zoom=6,\n",
    "   # min_zoom=2,\n",
    "    prefer_canvas=True) \n",
    "\n",
    "# add the Italian restaurants as blue circle markers\n",
    "for lat, lon, label, rating in zip(map4_df.lat, map4_df.lon, map4_df.name,\n",
    "                                   map4_df.weighted_rating):\n",
    "    folium.features.CircleMarker([lat, lon],\n",
    "                                 radius=5,\n",
    "                                 color='blue',\n",
    "                                 fill=True,\n",
    "                                 fill_color='blue',\n",
    "                                 fill_opacity=0.6,\n",
    "                                 popup=label + '<br>' + 'Weighted_rating' +\n",
    "                                 str(rating)).add_to(eu_map4)\n",
    "\n",
    "# display map\n",
    "eu_map4"
   ]
  },
  {
   "cell_type": "markdown",
   "metadata": {},
   "source": [
    "## Maximum tips from each city"
   ]
  },
  {
   "cell_type": "code",
   "execution_count": 30,
   "metadata": {
    "ExecuteTime": {
     "end_time": "2020-07-08T06:03:04.877731Z",
     "start_time": "2020-07-08T06:03:04.845398Z"
    }
   },
   "outputs": [
    {
     "data": {
      "text/html": [
       "<div>\n",
       "<style scoped>\n",
       "    .dataframe tbody tr th:only-of-type {\n",
       "        vertical-align: middle;\n",
       "    }\n",
       "\n",
       "    .dataframe tbody tr th {\n",
       "        vertical-align: top;\n",
       "    }\n",
       "\n",
       "    .dataframe thead th {\n",
       "        text-align: right;\n",
       "    }\n",
       "</style>\n",
       "<table border=\"1\" class=\"dataframe\">\n",
       "  <thead>\n",
       "    <tr style=\"text-align: right;\">\n",
       "      <th></th>\n",
       "      <th>name</th>\n",
       "      <th>city</th>\n",
       "      <th>category</th>\n",
       "      <th>tip_count</th>\n",
       "      <th>lat</th>\n",
       "      <th>lon</th>\n",
       "    </tr>\n",
       "  </thead>\n",
       "  <tbody>\n",
       "    <tr>\n",
       "      <th>10</th>\n",
       "      <td>Linnanmäki</td>\n",
       "      <td>Helsinki</td>\n",
       "      <td>Theme Park</td>\n",
       "      <td>89</td>\n",
       "      <td>60.188179</td>\n",
       "      <td>24.940485</td>\n",
       "    </tr>\n",
       "    <tr>\n",
       "      <th>17</th>\n",
       "      <td>Döner Harju</td>\n",
       "      <td>Harju</td>\n",
       "      <td>Doner Restaurant</td>\n",
       "      <td>58</td>\n",
       "      <td>60.188743</td>\n",
       "      <td>24.953261</td>\n",
       "    </tr>\n",
       "    <tr>\n",
       "      <th>50</th>\n",
       "      <td>Cathedral of Notre-Dame de Paris (Cathédrale N...</td>\n",
       "      <td>Paris</td>\n",
       "      <td>Church</td>\n",
       "      <td>978</td>\n",
       "      <td>48.853124</td>\n",
       "      <td>2.349561</td>\n",
       "    </tr>\n",
       "    <tr>\n",
       "      <th>123</th>\n",
       "      <td>Café Amandine</td>\n",
       "      <td>Praha</td>\n",
       "      <td>Café</td>\n",
       "      <td>172</td>\n",
       "      <td>50.073770</td>\n",
       "      <td>14.417530</td>\n",
       "    </tr>\n",
       "    <tr>\n",
       "      <th>151</th>\n",
       "      <td>Trafalgar Square</td>\n",
       "      <td>London</td>\n",
       "      <td>Plaza</td>\n",
       "      <td>553</td>\n",
       "      <td>51.507987</td>\n",
       "      <td>-0.128048</td>\n",
       "    </tr>\n",
       "    <tr>\n",
       "      <th>194</th>\n",
       "      <td>J Sheekey</td>\n",
       "      <td>Charing Cross</td>\n",
       "      <td>Seafood Restaurant</td>\n",
       "      <td>110</td>\n",
       "      <td>51.510899</td>\n",
       "      <td>-0.127797</td>\n",
       "    </tr>\n",
       "    <tr>\n",
       "      <th>198</th>\n",
       "      <td>Franco Manca</td>\n",
       "      <td>Covent Garden</td>\n",
       "      <td>Pizza Place</td>\n",
       "      <td>67</td>\n",
       "      <td>51.510909</td>\n",
       "      <td>-0.122780</td>\n",
       "    </tr>\n",
       "    <tr>\n",
       "      <th>201</th>\n",
       "      <td>Paco Meralgo</td>\n",
       "      <td>Barcelona</td>\n",
       "      <td>Tapas Restaurant</td>\n",
       "      <td>236</td>\n",
       "      <td>41.391676</td>\n",
       "      <td>2.152794</td>\n",
       "    </tr>\n",
       "    <tr>\n",
       "      <th>295</th>\n",
       "      <td>La Romana</td>\n",
       "      <td>Roma</td>\n",
       "      <td>Ice Cream Shop</td>\n",
       "      <td>336</td>\n",
       "      <td>41.907725</td>\n",
       "      <td>12.498984</td>\n",
       "    </tr>\n",
       "    <tr>\n",
       "      <th>317</th>\n",
       "      <td>Amsterdam Central Railway Station (Station Ams...</td>\n",
       "      <td>Amsterdam</td>\n",
       "      <td>Train Station</td>\n",
       "      <td>681</td>\n",
       "      <td>52.378782</td>\n",
       "      <td>4.900374</td>\n",
       "    </tr>\n",
       "    <tr>\n",
       "      <th>353</th>\n",
       "      <td>Café Central</td>\n",
       "      <td>Wien</td>\n",
       "      <td>Café</td>\n",
       "      <td>871</td>\n",
       "      <td>48.210348</td>\n",
       "      <td>16.365391</td>\n",
       "    </tr>\n",
       "    <tr>\n",
       "      <th>425</th>\n",
       "      <td>Fisherman's Bastion (Halászbástya)</td>\n",
       "      <td>Budapest</td>\n",
       "      <td>Historic Site</td>\n",
       "      <td>280</td>\n",
       "      <td>47.502029</td>\n",
       "      <td>19.035058</td>\n",
       "    </tr>\n",
       "    <tr>\n",
       "      <th>432</th>\n",
       "      <td>Duna-part</td>\n",
       "      <td>Budapest XIII. kerülete</td>\n",
       "      <td>Waterfront</td>\n",
       "      <td>9</td>\n",
       "      <td>47.501707</td>\n",
       "      <td>19.045317</td>\n",
       "    </tr>\n",
       "    <tr>\n",
       "      <th>474</th>\n",
       "      <td>Zurich Main Station (Zürich Hauptbahnhof)</td>\n",
       "      <td>Zürich</td>\n",
       "      <td>Train Station</td>\n",
       "      <td>235</td>\n",
       "      <td>47.378705</td>\n",
       "      <td>8.538724</td>\n",
       "    </tr>\n",
       "  </tbody>\n",
       "</table>\n",
       "</div>"
      ],
      "text/plain": [
       "                                                  name  \\\n",
       "10                                          Linnanmäki   \n",
       "17                                         Döner Harju   \n",
       "50   Cathedral of Notre-Dame de Paris (Cathédrale N...   \n",
       "123                                      Café Amandine   \n",
       "151                                   Trafalgar Square   \n",
       "194                                          J Sheekey   \n",
       "198                                       Franco Manca   \n",
       "201                                       Paco Meralgo   \n",
       "295                                          La Romana   \n",
       "317  Amsterdam Central Railway Station (Station Ams...   \n",
       "353                                       Café Central   \n",
       "425                 Fisherman's Bastion (Halászbástya)   \n",
       "432                                          Duna-part   \n",
       "474          Zurich Main Station (Zürich Hauptbahnhof)   \n",
       "\n",
       "                        city            category  tip_count        lat  \\\n",
       "10                  Helsinki          Theme Park         89  60.188179   \n",
       "17                     Harju    Doner Restaurant         58  60.188743   \n",
       "50                     Paris              Church        978  48.853124   \n",
       "123                    Praha                Café        172  50.073770   \n",
       "151                   London               Plaza        553  51.507987   \n",
       "194            Charing Cross  Seafood Restaurant        110  51.510899   \n",
       "198            Covent Garden         Pizza Place         67  51.510909   \n",
       "201                Barcelona    Tapas Restaurant        236  41.391676   \n",
       "295                     Roma      Ice Cream Shop        336  41.907725   \n",
       "317                Amsterdam       Train Station        681  52.378782   \n",
       "353                     Wien                Café        871  48.210348   \n",
       "425                 Budapest       Historic Site        280  47.502029   \n",
       "432  Budapest XIII. kerülete          Waterfront          9  47.501707   \n",
       "474                   Zürich       Train Station        235  47.378705   \n",
       "\n",
       "           lon  \n",
       "10   24.940485  \n",
       "17   24.953261  \n",
       "50    2.349561  \n",
       "123  14.417530  \n",
       "151  -0.128048  \n",
       "194  -0.127797  \n",
       "198  -0.122780  \n",
       "201   2.152794  \n",
       "295  12.498984  \n",
       "317   4.900374  \n",
       "353  16.365391  \n",
       "425  19.035058  \n",
       "432  19.045317  \n",
       "474   8.538724  "
      ]
     },
     "execution_count": 30,
     "metadata": {},
     "output_type": "execute_result"
    }
   ],
   "source": [
    "idx = fs_df.groupby(['city'])['tip_count'].transform(max) == fs_df['tip_count']\n",
    "map5_df=fs_df[idx]\n",
    "map5_df[['name','city','category','tip_count','lat','lon']]"
   ]
  }
 ],
 "metadata": {
  "kernelspec": {
   "display_name": "Python 3",
   "language": "python",
   "name": "python3"
  },
  "language_info": {
   "codemirror_mode": {
    "name": "ipython",
    "version": 3
   },
   "file_extension": ".py",
   "mimetype": "text/x-python",
   "name": "python",
   "nbconvert_exporter": "python",
   "pygments_lexer": "ipython3",
   "version": "3.7.6"
  },
  "toc": {
   "base_numbering": 1,
   "nav_menu": {},
   "number_sections": true,
   "sideBar": true,
   "skip_h1_title": false,
   "title_cell": "Table of Contents",
   "title_sidebar": "Contents",
   "toc_cell": false,
   "toc_position": {},
   "toc_section_display": true,
   "toc_window_display": false
  },
  "varInspector": {
   "cols": {
    "lenName": 16,
    "lenType": 16,
    "lenVar": 40
   },
   "kernels_config": {
    "python": {
     "delete_cmd_postfix": "",
     "delete_cmd_prefix": "del ",
     "library": "var_list.py",
     "varRefreshCmd": "print(var_dic_list())"
    },
    "r": {
     "delete_cmd_postfix": ") ",
     "delete_cmd_prefix": "rm(",
     "library": "var_list.r",
     "varRefreshCmd": "cat(var_dic_list()) "
    }
   },
   "types_to_exclude": [
    "module",
    "function",
    "builtin_function_or_method",
    "instance",
    "_Feature"
   ],
   "window_display": false
  }
 },
 "nbformat": 4,
 "nbformat_minor": 4
}
